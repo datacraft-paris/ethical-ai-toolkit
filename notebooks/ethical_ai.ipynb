{
 "cells": [
  {
   "cell_type": "markdown",
   "id": "b92c3b5b",
   "metadata": {},
   "source": [
    "![title](images/logo_datacraft.png)\n",
    "\n",
    "<h1><center>Ethical AI</center></h1>\n",
    "<center><i>Datacraft workshop, sponsored by La French Tech</i></center>\n",
    "\n",
    "\n",
    "**Objective of the notebook**: understand how to tackle the fairness challenge in AI on real use case - credit granting\n",
    "\n",
    "This exercise highly relies on the work conducted by the Dalex team (see [here](https://dalex.drwhy.ai/), [here](https://dalex.drwhy.ai/python-dalex-fairness.html) or [here](https://dalex.drwhy.ai/python-dalex-fairness2.html)). It is based on the German Credit dataset. This dataset is often used to benchmark fairness approaches.\n",
    "\n",
    "Our humble ambition is to combine the power of different tools: Dalex as a base, complemented by other tools from the open source community, like [AIF360](https://aif360.mybluemix.net/)."
   ]
  },
  {
   "cell_type": "markdown",
   "id": "266194ff",
   "metadata": {
    "toc": true
   },
   "source": [
    "<h1>Table of Contents<span class=\"tocSkip\"></span></h1>\n",
    "<div class=\"toc\"><ul class=\"toc-item\"><li><span><a href=\"#Prerequesites\" data-toc-modified-id=\"Prerequesites-1\"><span class=\"toc-item-num\">1&nbsp;&nbsp;</span>Prerequesites</a></span></li><li><span><a href=\"#Bias-a-priori\" data-toc-modified-id=\"Bias-a-priori-2\"><span class=\"toc-item-num\">2&nbsp;&nbsp;</span>Bias a priori</a></span></li><li><span><a href=\"#Dataset\" data-toc-modified-id=\"Dataset-3\"><span class=\"toc-item-num\">3&nbsp;&nbsp;</span>Dataset</a></span></li><li><span><a href=\"#EDA\" data-toc-modified-id=\"EDA-4\"><span class=\"toc-item-num\">4&nbsp;&nbsp;</span>EDA</a></span></li><li><span><a href=\"#ML-prerequisites\" data-toc-modified-id=\"ML-prerequisites-5\"><span class=\"toc-item-num\">5&nbsp;&nbsp;</span>ML prerequisites</a></span></li><li><span><a href=\"#Fairness-evaluation-principles\" data-toc-modified-id=\"Fairness-evaluation-principles-6\"><span class=\"toc-item-num\">6&nbsp;&nbsp;</span>Fairness evaluation principles</a></span></li><li><span><a href=\"#Strategies\" data-toc-modified-id=\"Strategies-7\"><span class=\"toc-item-num\">7&nbsp;&nbsp;</span>Strategies</a></span><ul class=\"toc-item\"><li><span><a href=\"#Do-nothing\" data-toc-modified-id=\"Do-nothing-7.1\"><span class=\"toc-item-num\">7.1&nbsp;&nbsp;</span>Do nothing</a></span><ul class=\"toc-item\"><li><span><a href=\"#Training\" data-toc-modified-id=\"Training-7.1.1\"><span class=\"toc-item-num\">7.1.1&nbsp;&nbsp;</span>Training</a></span></li><li><span><a href=\"#Algorithmic-performance\" data-toc-modified-id=\"Algorithmic-performance-7.1.2\"><span class=\"toc-item-num\">7.1.2&nbsp;&nbsp;</span>Algorithmic performance</a></span></li><li><span><a href=\"#Fairness-performance\" data-toc-modified-id=\"Fairness-performance-7.1.3\"><span class=\"toc-item-num\">7.1.3&nbsp;&nbsp;</span>Fairness performance</a></span></li></ul></li><li><span><a href=\"#Remove-sensitive-attribute\" data-toc-modified-id=\"Remove-sensitive-attribute-7.2\"><span class=\"toc-item-num\">7.2&nbsp;&nbsp;</span>Remove sensitive attribute</a></span></li><li><span><a href=\"#Adversarial-inprocessing\" data-toc-modified-id=\"Adversarial-inprocessing-7.3\"><span class=\"toc-item-num\">7.3&nbsp;&nbsp;</span>Adversarial inprocessing</a></span></li><li><span><a href=\"#Calibrate-equalized-ODTS\" data-toc-modified-id=\"Calibrate-equalized-ODTS-7.4\"><span class=\"toc-item-num\">7.4&nbsp;&nbsp;</span>Calibrate equalized ODTS</a></span></li><li><span><a href=\"#Comparison\" data-toc-modified-id=\"Comparison-7.5\"><span class=\"toc-item-num\">7.5&nbsp;&nbsp;</span>Comparison</a></span></li></ul></li></ul></div>"
   ]
  },
  {
   "cell_type": "markdown",
   "id": "948ccf7b",
   "metadata": {},
   "source": [
    "## Prerequesites"
   ]
  },
  {
   "cell_type": "code",
   "execution_count": 68,
   "id": "4a32cce6",
   "metadata": {
    "ExecuteTime": {
     "end_time": "2021-11-08T16:53:50.393927Z",
     "start_time": "2021-11-08T16:53:50.384927Z"
    },
    "scrolled": true
   },
   "outputs": [],
   "source": [
    "# We strongly recommend to install the necessary libraries from a dedicated virtual environment\n",
    "# See Minicoda e.g.: https://docs.conda.io/projects/conda/en/latest/user-guide/tasks/manage-environments.html#creating-an-environment-with-commands\n",
    "\n",
    "# ! pip install fairlearn\n",
    "# ! pip install dalex -U\n",
    "# ! pip install -U scikit-learn\n",
    "# ! pip install -U pandas\n",
    "# ! pip install aif360\n",
    "# ! pip install -U plotly"
   ]
  },
  {
   "cell_type": "code",
   "execution_count": 69,
   "id": "979a3700",
   "metadata": {
    "ExecuteTime": {
     "end_time": "2021-11-08T16:53:59.159825Z",
     "start_time": "2021-11-08T16:53:50.592927Z"
    }
   },
   "outputs": [
    {
     "data": {
      "text/plain": [
       "{'aif360': '0.4.0',\n",
       " 'dalex': '1.4.0',\n",
       " 'numpy': '1.19.5',\n",
       " 'pandas': '1.2.4',\n",
       " 'sklearn': '1.0'}"
      ]
     },
     "execution_count": 69,
     "metadata": {},
     "output_type": "execute_result"
    }
   ],
   "source": [
    "from sklearn.compose import make_column_transformer, make_column_selector\n",
    "from sklearn.linear_model import LogisticRegression\n",
    "from sklearn.model_selection import train_test_split\n",
    "from sklearn.pipeline import Pipeline\n",
    "from sklearn.preprocessing import StandardScaler, OneHotEncoder\n",
    "from sklearn.tree import DecisionTreeClassifier\n",
    "\n",
    "import aif360\n",
    "import dalex as dx\n",
    "import numpy as np\n",
    "import pandas as pd\n",
    "import sklearn\n",
    "\n",
    "from aif360.datasets import BinaryLabelDataset\n",
    "from aif360.metrics import ClassificationMetric\n",
    "\n",
    "{\n",
    "    \"aif360\": aif360.__version__,\n",
    "    \"dalex\": dx.__version__,\n",
    "    \"numpy\": np.__version__,\n",
    "    \"pandas\": pd.__version__,\n",
    "    \"sklearn\": sklearn.__version__\n",
    "}"
   ]
  },
  {
   "cell_type": "code",
   "execution_count": 70,
   "id": "de1a5735",
   "metadata": {
    "ExecuteTime": {
     "end_time": "2021-11-08T16:53:59.174788Z",
     "start_time": "2021-11-08T16:53:59.161789Z"
    }
   },
   "outputs": [],
   "source": [
    "sklearn.set_config(display=\"diagram\")"
   ]
  },
  {
   "cell_type": "markdown",
   "id": "cbfac198",
   "metadata": {},
   "source": [
    "## Bias a priori\n",
    "\n",
    "*When implementing an AI system, fairness and biases must be an important component during conception, especially when dealing with sensitive information, and/or Personally Identifiable Information (PII), and/or Personal Health Information (PHI). Indeed, not only those information are bound to the law (GDPR in Europe e.g.), but they are also bound to a brand image challenge.*\n",
    "\n",
    "Today's example aims at **assigning a risk to credit-seeker**.\n",
    "\n",
    "Before implementing any AI system to predict the likelihood of a credit-seeker to be granted a credit, **AI engineers AND business stakeholders** should:\n",
    "- Sit and identify potential sources of biases\n",
    "- Define a one or several metrics that will quantify the bias of the AI system\n",
    "\n",
    "---\n",
    "\n",
    "In this case, potential biases might lie in:\n",
    "\n",
    "- Genre\n",
    "- Age\n",
    "- Revenue?"
   ]
  },
  {
   "cell_type": "markdown",
   "id": "77327fea",
   "metadata": {},
   "source": [
    "## Dataset"
   ]
  },
  {
   "cell_type": "code",
   "execution_count": 71,
   "id": "ba2fdabf",
   "metadata": {
    "ExecuteTime": {
     "end_time": "2021-11-08T16:54:01.904204Z",
     "start_time": "2021-11-08T16:54:01.880199Z"
    }
   },
   "outputs": [],
   "source": [
    "df, target = dx.datasets.load_german(), \"risk\""
   ]
  },
  {
   "cell_type": "markdown",
   "id": "3c061ecb",
   "metadata": {
    "heading_collapsed": true
   },
   "source": [
    "## EDA"
   ]
  },
  {
   "cell_type": "code",
   "execution_count": 72,
   "id": "a08ea91d",
   "metadata": {
    "ExecuteTime": {
     "end_time": "2021-11-08T16:54:02.604762Z",
     "start_time": "2021-11-08T16:54:02.598760Z"
    },
    "code_folding": [
     0
    ],
    "hidden": true
   },
   "outputs": [],
   "source": [
    "def facets(df: pd.DataFrame):\n",
    "    \"\"\" Displays Facets viz\n",
    "    Source: https://colab.research.google.com/github/PAIR-code/facets/blob/master/colab_facets.ipynb#scrollTo=XtOzRy8Z3M36\n",
    "    \n",
    "    Parameters\n",
    "    ----------\n",
    "    df: pd.DataFrame\n",
    "        Data to plot\n",
    "    \"\"\"\n",
    "    from IPython.core.display import display, HTML\n",
    "    jsonstr = df.to_json(orient='records')\n",
    "    HTML_TEMPLATE = \"\"\"\n",
    "            <script src=\"https://cdnjs.cloudflare.com/ajax/libs/webcomponentsjs/1.3.3/webcomponents-lite.js\"></script>\n",
    "            <link rel=\"import\" href=\"https://raw.githubusercontent.com/PAIR-code/facets/1.0.0/facets-dist/facets-jupyter.html\">\n",
    "            <facets-dive id=\"elem\" height=\"600\"></facets-dive>\n",
    "            <script>\n",
    "              var data = {jsonstr};\n",
    "              document.querySelector(\"#elem\").data = data;\n",
    "            </script>\"\"\"\n",
    "    html = HTML_TEMPLATE.format(jsonstr=jsonstr)\n",
    "    display(HTML(html))"
   ]
  },
  {
   "cell_type": "code",
   "execution_count": 73,
   "id": "07a40124",
   "metadata": {
    "ExecuteTime": {
     "end_time": "2021-11-08T16:39:26.252249Z",
     "start_time": "2021-11-08T16:39:26.231635Z"
    },
    "hidden": true
   },
   "outputs": [
    {
     "data": {
      "text/html": [
       "\n",
       "            <script src=\"https://cdnjs.cloudflare.com/ajax/libs/webcomponentsjs/1.3.3/webcomponents-lite.js\"></script>\n",
       "            <link rel=\"import\" href=\"https://raw.githubusercontent.com/PAIR-code/facets/1.0.0/facets-dist/facets-jupyter.html\">\n",
       "            <facets-dive id=\"elem\" height=\"600\"></facets-dive>\n",
       "            <script>\n",
       "              var data = [{\"risk\":1,\"sex\":\"male\",\"job\":2,\"housing\":\"own\",\"saving_accounts\":\"not_known\",\"checking_account\":\"little\",\"credit_amount\":1169,\"duration\":6,\"purpose\":\"radio\\/TV\",\"age\":67},{\"risk\":0,\"sex\":\"female\",\"job\":2,\"housing\":\"own\",\"saving_accounts\":\"little\",\"checking_account\":\"moderate\",\"credit_amount\":5951,\"duration\":48,\"purpose\":\"radio\\/TV\",\"age\":22},{\"risk\":1,\"sex\":\"male\",\"job\":1,\"housing\":\"own\",\"saving_accounts\":\"little\",\"checking_account\":\"not_known\",\"credit_amount\":2096,\"duration\":12,\"purpose\":\"education\",\"age\":49},{\"risk\":1,\"sex\":\"male\",\"job\":2,\"housing\":\"free\",\"saving_accounts\":\"little\",\"checking_account\":\"little\",\"credit_amount\":7882,\"duration\":42,\"purpose\":\"furniture\\/equipment\",\"age\":45},{\"risk\":0,\"sex\":\"male\",\"job\":2,\"housing\":\"free\",\"saving_accounts\":\"little\",\"checking_account\":\"little\",\"credit_amount\":4870,\"duration\":24,\"purpose\":\"car\",\"age\":53},{\"risk\":1,\"sex\":\"male\",\"job\":1,\"housing\":\"free\",\"saving_accounts\":\"not_known\",\"checking_account\":\"not_known\",\"credit_amount\":9055,\"duration\":36,\"purpose\":\"education\",\"age\":35},{\"risk\":1,\"sex\":\"male\",\"job\":2,\"housing\":\"own\",\"saving_accounts\":\"quite rich\",\"checking_account\":\"not_known\",\"credit_amount\":2835,\"duration\":24,\"purpose\":\"furniture\\/equipment\",\"age\":53},{\"risk\":1,\"sex\":\"male\",\"job\":3,\"housing\":\"rent\",\"saving_accounts\":\"little\",\"checking_account\":\"moderate\",\"credit_amount\":6948,\"duration\":36,\"purpose\":\"car\",\"age\":35},{\"risk\":1,\"sex\":\"male\",\"job\":1,\"housing\":\"own\",\"saving_accounts\":\"rich\",\"checking_account\":\"not_known\",\"credit_amount\":3059,\"duration\":12,\"purpose\":\"radio\\/TV\",\"age\":61},{\"risk\":0,\"sex\":\"male\",\"job\":3,\"housing\":\"own\",\"saving_accounts\":\"little\",\"checking_account\":\"moderate\",\"credit_amount\":5234,\"duration\":30,\"purpose\":\"car\",\"age\":28},{\"risk\":0,\"sex\":\"female\",\"job\":2,\"housing\":\"rent\",\"saving_accounts\":\"little\",\"checking_account\":\"moderate\",\"credit_amount\":1295,\"duration\":12,\"purpose\":\"car\",\"age\":25},{\"risk\":0,\"sex\":\"female\",\"job\":2,\"housing\":\"rent\",\"saving_accounts\":\"little\",\"checking_account\":\"little\",\"credit_amount\":4308,\"duration\":48,\"purpose\":\"business\",\"age\":24},{\"risk\":1,\"sex\":\"female\",\"job\":2,\"housing\":\"own\",\"saving_accounts\":\"little\",\"checking_account\":\"moderate\",\"credit_amount\":1567,\"duration\":12,\"purpose\":\"radio\\/TV\",\"age\":22},{\"risk\":0,\"sex\":\"male\",\"job\":1,\"housing\":\"own\",\"saving_accounts\":\"little\",\"checking_account\":\"little\",\"credit_amount\":1199,\"duration\":24,\"purpose\":\"car\",\"age\":60},{\"risk\":1,\"sex\":\"female\",\"job\":2,\"housing\":\"rent\",\"saving_accounts\":\"little\",\"checking_account\":\"little\",\"credit_amount\":1403,\"duration\":15,\"purpose\":\"car\",\"age\":28},{\"risk\":0,\"sex\":\"female\",\"job\":1,\"housing\":\"own\",\"saving_accounts\":\"moderate\",\"checking_account\":\"little\",\"credit_amount\":1282,\"duration\":24,\"purpose\":\"radio\\/TV\",\"age\":32},{\"risk\":1,\"sex\":\"male\",\"job\":2,\"housing\":\"own\",\"saving_accounts\":\"not_known\",\"checking_account\":\"not_known\",\"credit_amount\":2424,\"duration\":24,\"purpose\":\"radio\\/TV\",\"age\":53},{\"risk\":1,\"sex\":\"male\",\"job\":2,\"housing\":\"own\",\"saving_accounts\":\"not_known\",\"checking_account\":\"little\",\"credit_amount\":8072,\"duration\":30,\"purpose\":\"business\",\"age\":25},{\"risk\":0,\"sex\":\"female\",\"job\":3,\"housing\":\"free\",\"saving_accounts\":\"little\",\"checking_account\":\"moderate\",\"credit_amount\":12579,\"duration\":24,\"purpose\":\"car\",\"age\":44},{\"risk\":1,\"sex\":\"male\",\"job\":2,\"housing\":\"own\",\"saving_accounts\":\"quite rich\",\"checking_account\":\"not_known\",\"credit_amount\":3430,\"duration\":24,\"purpose\":\"radio\\/TV\",\"age\":31},{\"risk\":1,\"sex\":\"male\",\"job\":2,\"housing\":\"own\",\"saving_accounts\":\"little\",\"checking_account\":\"not_known\",\"credit_amount\":2134,\"duration\":9,\"purpose\":\"car\",\"age\":48},{\"risk\":1,\"sex\":\"male\",\"job\":2,\"housing\":\"rent\",\"saving_accounts\":\"quite rich\",\"checking_account\":\"little\",\"credit_amount\":2647,\"duration\":6,\"purpose\":\"radio\\/TV\",\"age\":44},{\"risk\":1,\"sex\":\"male\",\"job\":1,\"housing\":\"rent\",\"saving_accounts\":\"little\",\"checking_account\":\"little\",\"credit_amount\":2241,\"duration\":10,\"purpose\":\"car\",\"age\":48},{\"risk\":1,\"sex\":\"male\",\"job\":2,\"housing\":\"own\",\"saving_accounts\":\"moderate\",\"checking_account\":\"moderate\",\"credit_amount\":1804,\"duration\":12,\"purpose\":\"car\",\"age\":44},{\"risk\":1,\"sex\":\"male\",\"job\":2,\"housing\":\"own\",\"saving_accounts\":\"not_known\",\"checking_account\":\"not_known\",\"credit_amount\":2069,\"duration\":10,\"purpose\":\"furniture\\/equipment\",\"age\":26},{\"risk\":1,\"sex\":\"male\",\"job\":1,\"housing\":\"own\",\"saving_accounts\":\"little\",\"checking_account\":\"little\",\"credit_amount\":1374,\"duration\":6,\"purpose\":\"furniture\\/equipment\",\"age\":36},{\"risk\":1,\"sex\":\"male\",\"job\":1,\"housing\":\"own\",\"saving_accounts\":\"little\",\"checking_account\":\"not_known\",\"credit_amount\":426,\"duration\":6,\"purpose\":\"radio\\/TV\",\"age\":39},{\"risk\":1,\"sex\":\"female\",\"job\":2,\"housing\":\"rent\",\"saving_accounts\":\"rich\",\"checking_account\":\"rich\",\"credit_amount\":409,\"duration\":12,\"purpose\":\"radio\\/TV\",\"age\":42},{\"risk\":1,\"sex\":\"male\",\"job\":2,\"housing\":\"own\",\"saving_accounts\":\"little\",\"checking_account\":\"moderate\",\"credit_amount\":2415,\"duration\":7,\"purpose\":\"radio\\/TV\",\"age\":34},{\"risk\":0,\"sex\":\"male\",\"job\":2,\"housing\":\"own\",\"saving_accounts\":\"little\",\"checking_account\":\"little\",\"credit_amount\":6836,\"duration\":60,\"purpose\":\"business\",\"age\":63},{\"risk\":1,\"sex\":\"male\",\"job\":2,\"housing\":\"own\",\"saving_accounts\":\"rich\",\"checking_account\":\"moderate\",\"credit_amount\":1913,\"duration\":18,\"purpose\":\"business\",\"age\":36},{\"risk\":1,\"sex\":\"male\",\"job\":2,\"housing\":\"own\",\"saving_accounts\":\"little\",\"checking_account\":\"little\",\"credit_amount\":4020,\"duration\":24,\"purpose\":\"furniture\\/equipment\",\"age\":27},{\"risk\":1,\"sex\":\"male\",\"job\":2,\"housing\":\"own\",\"saving_accounts\":\"moderate\",\"checking_account\":\"moderate\",\"credit_amount\":5866,\"duration\":18,\"purpose\":\"car\",\"age\":30},{\"risk\":1,\"sex\":\"male\",\"job\":1,\"housing\":\"rent\",\"saving_accounts\":\"not_known\",\"checking_account\":\"not_known\",\"credit_amount\":1264,\"duration\":12,\"purpose\":\"business\",\"age\":57},{\"risk\":1,\"sex\":\"female\",\"job\":3,\"housing\":\"own\",\"saving_accounts\":\"little\",\"checking_account\":\"rich\",\"credit_amount\":1474,\"duration\":12,\"purpose\":\"furniture\\/equipment\",\"age\":33},{\"risk\":0,\"sex\":\"male\",\"job\":1,\"housing\":\"own\",\"saving_accounts\":\"little\",\"checking_account\":\"moderate\",\"credit_amount\":4746,\"duration\":45,\"purpose\":\"radio\\/TV\",\"age\":25},{\"risk\":1,\"sex\":\"male\",\"job\":2,\"housing\":\"free\",\"saving_accounts\":\"little\",\"checking_account\":\"not_known\",\"credit_amount\":6110,\"duration\":48,\"purpose\":\"education\",\"age\":31},{\"risk\":0,\"sex\":\"male\",\"job\":2,\"housing\":\"own\",\"saving_accounts\":\"little\",\"checking_account\":\"rich\",\"credit_amount\":2100,\"duration\":18,\"purpose\":\"radio\\/TV\",\"age\":37},{\"risk\":1,\"sex\":\"male\",\"job\":2,\"housing\":\"own\",\"saving_accounts\":\"little\",\"checking_account\":\"rich\",\"credit_amount\":1225,\"duration\":10,\"purpose\":\"domestic appliances\",\"age\":37},{\"risk\":1,\"sex\":\"male\",\"job\":2,\"housing\":\"own\",\"saving_accounts\":\"little\",\"checking_account\":\"moderate\",\"credit_amount\":458,\"duration\":9,\"purpose\":\"radio\\/TV\",\"age\":24},{\"risk\":1,\"sex\":\"male\",\"job\":3,\"housing\":\"own\",\"saving_accounts\":\"quite rich\",\"checking_account\":\"not_known\",\"credit_amount\":2333,\"duration\":30,\"purpose\":\"radio\\/TV\",\"age\":30},{\"risk\":1,\"sex\":\"male\",\"job\":2,\"housing\":\"own\",\"saving_accounts\":\"quite rich\",\"checking_account\":\"moderate\",\"credit_amount\":1158,\"duration\":12,\"purpose\":\"radio\\/TV\",\"age\":26},{\"risk\":1,\"sex\":\"male\",\"job\":1,\"housing\":\"own\",\"saving_accounts\":\"little\",\"checking_account\":\"moderate\",\"credit_amount\":6204,\"duration\":18,\"purpose\":\"repairs\",\"age\":44},{\"risk\":1,\"sex\":\"male\",\"job\":2,\"housing\":\"rent\",\"saving_accounts\":\"moderate\",\"checking_account\":\"little\",\"credit_amount\":6187,\"duration\":30,\"purpose\":\"car\",\"age\":24},{\"risk\":0,\"sex\":\"female\",\"job\":1,\"housing\":\"free\",\"saving_accounts\":\"little\",\"checking_account\":\"little\",\"credit_amount\":6143,\"duration\":48,\"purpose\":\"car\",\"age\":58},{\"risk\":1,\"sex\":\"female\",\"job\":3,\"housing\":\"own\",\"saving_accounts\":\"little\",\"checking_account\":\"not_known\",\"credit_amount\":1393,\"duration\":11,\"purpose\":\"car\",\"age\":35},{\"risk\":1,\"sex\":\"male\",\"job\":2,\"housing\":\"own\",\"saving_accounts\":\"quite rich\",\"checking_account\":\"not_known\",\"credit_amount\":2299,\"duration\":36,\"purpose\":\"radio\\/TV\",\"age\":39},{\"risk\":1,\"sex\":\"female\",\"job\":0,\"housing\":\"rent\",\"saving_accounts\":\"quite rich\",\"checking_account\":\"little\",\"credit_amount\":1352,\"duration\":6,\"purpose\":\"car\",\"age\":23},{\"risk\":1,\"sex\":\"male\",\"job\":1,\"housing\":\"own\",\"saving_accounts\":\"little\",\"checking_account\":\"not_known\",\"credit_amount\":7228,\"duration\":11,\"purpose\":\"car\",\"age\":39},{\"risk\":1,\"sex\":\"female\",\"job\":2,\"housing\":\"own\",\"saving_accounts\":\"moderate\",\"checking_account\":\"not_known\",\"credit_amount\":2073,\"duration\":12,\"purpose\":\"radio\\/TV\",\"age\":28},{\"risk\":1,\"sex\":\"male\",\"job\":1,\"housing\":\"own\",\"saving_accounts\":\"not_known\",\"checking_account\":\"moderate\",\"credit_amount\":2333,\"duration\":24,\"purpose\":\"furniture\\/equipment\",\"age\":29},{\"risk\":1,\"sex\":\"male\",\"job\":3,\"housing\":\"own\",\"saving_accounts\":\"little\",\"checking_account\":\"moderate\",\"credit_amount\":5965,\"duration\":27,\"purpose\":\"car\",\"age\":30},{\"risk\":1,\"sex\":\"male\",\"job\":2,\"housing\":\"own\",\"saving_accounts\":\"little\",\"checking_account\":\"not_known\",\"credit_amount\":1262,\"duration\":12,\"purpose\":\"radio\\/TV\",\"age\":25},{\"risk\":1,\"sex\":\"male\",\"job\":2,\"housing\":\"own\",\"saving_accounts\":\"not_known\",\"checking_account\":\"not_known\",\"credit_amount\":3378,\"duration\":18,\"purpose\":\"car\",\"age\":31},{\"risk\":0,\"sex\":\"male\",\"job\":2,\"housing\":\"free\",\"saving_accounts\":\"little\",\"checking_account\":\"moderate\",\"credit_amount\":2225,\"duration\":36,\"purpose\":\"car\",\"age\":57},{\"risk\":1,\"sex\":\"male\",\"job\":1,\"housing\":\"own\",\"saving_accounts\":\"not_known\",\"checking_account\":\"not_known\",\"credit_amount\":783,\"duration\":6,\"purpose\":\"car\",\"age\":26},{\"risk\":0,\"sex\":\"male\",\"job\":3,\"housing\":\"own\",\"saving_accounts\":\"not_known\",\"checking_account\":\"moderate\",\"credit_amount\":6468,\"duration\":12,\"purpose\":\"radio\\/TV\",\"age\":52},{\"risk\":1,\"sex\":\"female\",\"job\":2,\"housing\":\"own\",\"saving_accounts\":\"little\",\"checking_account\":\"not_known\",\"credit_amount\":9566,\"duration\":36,\"purpose\":\"radio\\/TV\",\"age\":31},{\"risk\":1,\"sex\":\"female\",\"job\":3,\"housing\":\"own\",\"saving_accounts\":\"little\",\"checking_account\":\"rich\",\"credit_amount\":1961,\"duration\":18,\"purpose\":\"car\",\"age\":23},{\"risk\":0,\"sex\":\"female\",\"job\":1,\"housing\":\"rent\",\"saving_accounts\":\"little\",\"checking_account\":\"little\",\"credit_amount\":6229,\"duration\":36,\"purpose\":\"furniture\\/equipment\",\"age\":23},{\"risk\":1,\"sex\":\"male\",\"job\":2,\"housing\":\"own\",\"saving_accounts\":\"little\",\"checking_account\":\"moderate\",\"credit_amount\":1391,\"duration\":9,\"purpose\":\"business\",\"age\":27},{\"risk\":1,\"sex\":\"male\",\"job\":2,\"housing\":\"own\",\"saving_accounts\":\"not_known\",\"checking_account\":\"moderate\",\"credit_amount\":1537,\"duration\":15,\"purpose\":\"radio\\/TV\",\"age\":50},{\"risk\":0,\"sex\":\"male\",\"job\":3,\"housing\":\"free\",\"saving_accounts\":\"little\",\"checking_account\":\"moderate\",\"credit_amount\":1953,\"duration\":36,\"purpose\":\"business\",\"age\":61},{\"risk\":0,\"sex\":\"male\",\"job\":2,\"housing\":\"own\",\"saving_accounts\":\"little\",\"checking_account\":\"moderate\",\"credit_amount\":14421,\"duration\":48,\"purpose\":\"business\",\"age\":25},{\"risk\":1,\"sex\":\"female\",\"job\":2,\"housing\":\"own\",\"saving_accounts\":\"little\",\"checking_account\":\"not_known\",\"credit_amount\":3181,\"duration\":24,\"purpose\":\"radio\\/TV\",\"age\":26},{\"risk\":1,\"sex\":\"male\",\"job\":2,\"housing\":\"own\",\"saving_accounts\":\"not_known\",\"checking_account\":\"not_known\",\"credit_amount\":5190,\"duration\":27,\"purpose\":\"repairs\",\"age\":48},{\"risk\":1,\"sex\":\"female\",\"job\":2,\"housing\":\"own\",\"saving_accounts\":\"little\",\"checking_account\":\"not_known\",\"credit_amount\":2171,\"duration\":12,\"purpose\":\"radio\\/TV\",\"age\":29},{\"risk\":1,\"sex\":\"male\",\"job\":2,\"housing\":\"own\",\"saving_accounts\":\"rich\",\"checking_account\":\"moderate\",\"credit_amount\":1007,\"duration\":12,\"purpose\":\"car\",\"age\":22},{\"risk\":0,\"sex\":\"male\",\"job\":2,\"housing\":\"free\",\"saving_accounts\":\"little\",\"checking_account\":\"not_known\",\"credit_amount\":1819,\"duration\":36,\"purpose\":\"education\",\"age\":37},{\"risk\":1,\"sex\":\"female\",\"job\":2,\"housing\":\"own\",\"saving_accounts\":\"not_known\",\"checking_account\":\"not_known\",\"credit_amount\":2394,\"duration\":36,\"purpose\":\"radio\\/TV\",\"age\":25},{\"risk\":1,\"sex\":\"female\",\"job\":2,\"housing\":\"own\",\"saving_accounts\":\"little\",\"checking_account\":\"not_known\",\"credit_amount\":8133,\"duration\":36,\"purpose\":\"car\",\"age\":30},{\"risk\":1,\"sex\":\"male\",\"job\":1,\"housing\":\"rent\",\"saving_accounts\":\"not_known\",\"checking_account\":\"not_known\",\"credit_amount\":730,\"duration\":7,\"purpose\":\"radio\\/TV\",\"age\":46},{\"risk\":1,\"sex\":\"male\",\"job\":3,\"housing\":\"free\",\"saving_accounts\":\"little\",\"checking_account\":\"little\",\"credit_amount\":1164,\"duration\":8,\"purpose\":\"vacation\\/others\",\"age\":51},{\"risk\":1,\"sex\":\"female\",\"job\":1,\"housing\":\"own\",\"saving_accounts\":\"little\",\"checking_account\":\"moderate\",\"credit_amount\":5954,\"duration\":42,\"purpose\":\"business\",\"age\":41},{\"risk\":0,\"sex\":\"male\",\"job\":3,\"housing\":\"own\",\"saving_accounts\":\"not_known\",\"checking_account\":\"little\",\"credit_amount\":1977,\"duration\":36,\"purpose\":\"education\",\"age\":40},{\"risk\":1,\"sex\":\"male\",\"job\":3,\"housing\":\"free\",\"saving_accounts\":\"little\",\"checking_account\":\"little\",\"credit_amount\":1526,\"duration\":12,\"purpose\":\"car\",\"age\":66},{\"risk\":0,\"sex\":\"male\",\"job\":2,\"housing\":\"own\",\"saving_accounts\":\"little\",\"checking_account\":\"little\",\"credit_amount\":3965,\"duration\":42,\"purpose\":\"radio\\/TV\",\"age\":34},{\"risk\":1,\"sex\":\"male\",\"job\":2,\"housing\":\"own\",\"saving_accounts\":\"little\",\"checking_account\":\"moderate\",\"credit_amount\":4771,\"duration\":11,\"purpose\":\"radio\\/TV\",\"age\":51},{\"risk\":1,\"sex\":\"male\",\"job\":1,\"housing\":\"own\",\"saving_accounts\":\"not_known\",\"checking_account\":\"not_known\",\"credit_amount\":9436,\"duration\":54,\"purpose\":\"car\",\"age\":39},{\"risk\":1,\"sex\":\"male\",\"job\":2,\"housing\":\"own\",\"saving_accounts\":\"little\",\"checking_account\":\"moderate\",\"credit_amount\":3832,\"duration\":30,\"purpose\":\"furniture\\/equipment\",\"age\":22},{\"risk\":0,\"sex\":\"female\",\"job\":2,\"housing\":\"own\",\"saving_accounts\":\"not_known\",\"checking_account\":\"not_known\",\"credit_amount\":5943,\"duration\":24,\"purpose\":\"radio\\/TV\",\"age\":44},{\"risk\":1,\"sex\":\"male\",\"job\":2,\"housing\":\"own\",\"saving_accounts\":\"quite rich\",\"checking_account\":\"not_known\",\"credit_amount\":1213,\"duration\":15,\"purpose\":\"radio\\/TV\",\"age\":47},{\"risk\":1,\"sex\":\"female\",\"job\":1,\"housing\":\"rent\",\"saving_accounts\":\"moderate\",\"checking_account\":\"not_known\",\"credit_amount\":1568,\"duration\":18,\"purpose\":\"business\",\"age\":24},{\"risk\":1,\"sex\":\"female\",\"job\":1,\"housing\":\"own\",\"saving_accounts\":\"little\",\"checking_account\":\"little\",\"credit_amount\":1755,\"duration\":24,\"purpose\":\"vacation\\/others\",\"age\":58},{\"risk\":1,\"sex\":\"male\",\"job\":1,\"housing\":\"own\",\"saving_accounts\":\"little\",\"checking_account\":\"little\",\"credit_amount\":2315,\"duration\":10,\"purpose\":\"radio\\/TV\",\"age\":52},{\"risk\":1,\"sex\":\"female\",\"job\":3,\"housing\":\"own\",\"saving_accounts\":\"little\",\"checking_account\":\"not_known\",\"credit_amount\":1412,\"duration\":12,\"purpose\":\"business\",\"age\":29},{\"risk\":1,\"sex\":\"female\",\"job\":2,\"housing\":\"own\",\"saving_accounts\":\"little\",\"checking_account\":\"moderate\",\"credit_amount\":1295,\"duration\":18,\"purpose\":\"furniture\\/equipment\",\"age\":27},{\"risk\":0,\"sex\":\"male\",\"job\":2,\"housing\":\"free\",\"saving_accounts\":\"moderate\",\"checking_account\":\"moderate\",\"credit_amount\":12612,\"duration\":36,\"purpose\":\"education\",\"age\":47},{\"risk\":1,\"sex\":\"male\",\"job\":3,\"housing\":\"own\",\"saving_accounts\":\"moderate\",\"checking_account\":\"little\",\"credit_amount\":2249,\"duration\":18,\"purpose\":\"car\",\"age\":30},{\"risk\":0,\"sex\":\"male\",\"job\":2,\"housing\":\"own\",\"saving_accounts\":\"little\",\"checking_account\":\"little\",\"credit_amount\":1108,\"duration\":12,\"purpose\":\"repairs\",\"age\":28},{\"risk\":1,\"sex\":\"male\",\"job\":2,\"housing\":\"own\",\"saving_accounts\":\"little\",\"checking_account\":\"not_known\",\"credit_amount\":618,\"duration\":12,\"purpose\":\"radio\\/TV\",\"age\":56},{\"risk\":1,\"sex\":\"male\",\"job\":2,\"housing\":\"own\",\"saving_accounts\":\"little\",\"checking_account\":\"little\",\"credit_amount\":1409,\"duration\":12,\"purpose\":\"car\",\"age\":54},{\"risk\":0,\"sex\":\"female\",\"job\":1,\"housing\":\"own\",\"saving_accounts\":\"not_known\",\"checking_account\":\"not_known\",\"credit_amount\":797,\"duration\":12,\"purpose\":\"radio\\/TV\",\"age\":33},{\"risk\":1,\"sex\":\"male\",\"job\":2,\"housing\":\"rent\",\"saving_accounts\":\"not_known\",\"checking_account\":\"rich\",\"credit_amount\":3617,\"duration\":24,\"purpose\":\"furniture\\/equipment\",\"age\":20},{\"risk\":1,\"sex\":\"male\",\"job\":2,\"housing\":\"own\",\"saving_accounts\":\"rich\",\"checking_account\":\"moderate\",\"credit_amount\":1318,\"duration\":12,\"purpose\":\"car\",\"age\":54},{\"risk\":0,\"sex\":\"male\",\"job\":2,\"housing\":\"rent\",\"saving_accounts\":\"little\",\"checking_account\":\"moderate\",\"credit_amount\":15945,\"duration\":54,\"purpose\":\"business\",\"age\":58},{\"risk\":1,\"sex\":\"female\",\"job\":2,\"housing\":\"own\",\"saving_accounts\":\"not_known\",\"checking_account\":\"not_known\",\"credit_amount\":2012,\"duration\":12,\"purpose\":\"education\",\"age\":61},{\"risk\":1,\"sex\":\"male\",\"job\":2,\"housing\":\"own\",\"saving_accounts\":\"moderate\",\"checking_account\":\"moderate\",\"credit_amount\":2622,\"duration\":18,\"purpose\":\"business\",\"age\":34},{\"risk\":1,\"sex\":\"male\",\"job\":2,\"housing\":\"own\",\"saving_accounts\":\"little\",\"checking_account\":\"moderate\",\"credit_amount\":2337,\"duration\":36,\"purpose\":\"radio\\/TV\",\"age\":36},{\"risk\":1,\"sex\":\"male\",\"job\":3,\"housing\":\"rent\",\"saving_accounts\":\"not_known\",\"checking_account\":\"moderate\",\"credit_amount\":7057,\"duration\":20,\"purpose\":\"car\",\"age\":36},{\"risk\":1,\"sex\":\"male\",\"job\":1,\"housing\":\"rent\",\"saving_accounts\":\"moderate\",\"checking_account\":\"not_known\",\"credit_amount\":1469,\"duration\":24,\"purpose\":\"car\",\"age\":41},{\"risk\":1,\"sex\":\"male\",\"job\":2,\"housing\":\"rent\",\"saving_accounts\":\"little\",\"checking_account\":\"moderate\",\"credit_amount\":2323,\"duration\":36,\"purpose\":\"radio\\/TV\",\"age\":24},{\"risk\":1,\"sex\":\"female\",\"job\":2,\"housing\":\"own\",\"saving_accounts\":\"little\",\"checking_account\":\"not_known\",\"credit_amount\":932,\"duration\":6,\"purpose\":\"radio\\/TV\",\"age\":24},{\"risk\":1,\"sex\":\"male\",\"job\":2,\"housing\":\"rent\",\"saving_accounts\":\"little\",\"checking_account\":\"moderate\",\"credit_amount\":1919,\"duration\":9,\"purpose\":\"furniture\\/equipment\",\"age\":35},{\"risk\":1,\"sex\":\"male\",\"job\":2,\"housing\":\"rent\",\"saving_accounts\":\"not_known\",\"checking_account\":\"not_known\",\"credit_amount\":2445,\"duration\":12,\"purpose\":\"car\",\"age\":26},{\"risk\":0,\"sex\":\"male\",\"job\":3,\"housing\":\"own\",\"saving_accounts\":\"little\",\"checking_account\":\"moderate\",\"credit_amount\":11938,\"duration\":24,\"purpose\":\"vacation\\/others\",\"age\":39},{\"risk\":0,\"sex\":\"male\",\"job\":3,\"housing\":\"own\",\"saving_accounts\":\"little\",\"checking_account\":\"not_known\",\"credit_amount\":6458,\"duration\":18,\"purpose\":\"car\",\"age\":39},{\"risk\":1,\"sex\":\"male\",\"job\":2,\"housing\":\"own\",\"saving_accounts\":\"little\",\"checking_account\":\"moderate\",\"credit_amount\":6078,\"duration\":12,\"purpose\":\"car\",\"age\":32},{\"risk\":1,\"sex\":\"female\",\"job\":2,\"housing\":\"own\",\"saving_accounts\":\"not_known\",\"checking_account\":\"little\",\"credit_amount\":7721,\"duration\":24,\"purpose\":\"furniture\\/equipment\",\"age\":30},{\"risk\":1,\"sex\":\"male\",\"job\":2,\"housing\":\"own\",\"saving_accounts\":\"quite rich\",\"checking_account\":\"moderate\",\"credit_amount\":1410,\"duration\":14,\"purpose\":\"business\",\"age\":35},{\"risk\":1,\"sex\":\"male\",\"job\":2,\"housing\":\"own\",\"saving_accounts\":\"moderate\",\"checking_account\":\"moderate\",\"credit_amount\":1449,\"duration\":6,\"purpose\":\"business\",\"age\":31},{\"risk\":1,\"sex\":\"female\",\"job\":2,\"housing\":\"rent\",\"saving_accounts\":\"little\",\"checking_account\":\"rich\",\"credit_amount\":392,\"duration\":15,\"purpose\":\"education\",\"age\":23},{\"risk\":1,\"sex\":\"male\",\"job\":1,\"housing\":\"rent\",\"saving_accounts\":\"little\",\"checking_account\":\"moderate\",\"credit_amount\":6260,\"duration\":18,\"purpose\":\"car\",\"age\":28},{\"risk\":0,\"sex\":\"female\",\"job\":2,\"housing\":\"own\",\"saving_accounts\":\"little\",\"checking_account\":\"not_known\",\"credit_amount\":7855,\"duration\":36,\"purpose\":\"car\",\"age\":25},{\"risk\":1,\"sex\":\"male\",\"job\":2,\"housing\":\"own\",\"saving_accounts\":\"quite rich\",\"checking_account\":\"little\",\"credit_amount\":1680,\"duration\":12,\"purpose\":\"radio\\/TV\",\"age\":35},{\"risk\":1,\"sex\":\"male\",\"job\":2,\"housing\":\"own\",\"saving_accounts\":\"not_known\",\"checking_account\":\"not_known\",\"credit_amount\":3578,\"duration\":48,\"purpose\":\"radio\\/TV\",\"age\":47},{\"risk\":0,\"sex\":\"female\",\"job\":3,\"housing\":\"own\",\"saving_accounts\":\"not_known\",\"checking_account\":\"little\",\"credit_amount\":7174,\"duration\":42,\"purpose\":\"radio\\/TV\",\"age\":30},{\"risk\":1,\"sex\":\"female\",\"job\":2,\"housing\":\"rent\",\"saving_accounts\":\"not_known\",\"checking_account\":\"little\",\"credit_amount\":2132,\"duration\":10,\"purpose\":\"furniture\\/equipment\",\"age\":27},{\"risk\":0,\"sex\":\"female\",\"job\":2,\"housing\":\"own\",\"saving_accounts\":\"quite rich\",\"checking_account\":\"little\",\"credit_amount\":4281,\"duration\":33,\"purpose\":\"furniture\\/equipment\",\"age\":23},{\"risk\":1,\"sex\":\"male\",\"job\":3,\"housing\":\"own\",\"saving_accounts\":\"quite rich\",\"checking_account\":\"moderate\",\"credit_amount\":2366,\"duration\":12,\"purpose\":\"car\",\"age\":36},{\"risk\":0,\"sex\":\"female\",\"job\":2,\"housing\":\"own\",\"saving_accounts\":\"little\",\"checking_account\":\"little\",\"credit_amount\":1835,\"duration\":21,\"purpose\":\"radio\\/TV\",\"age\":25},{\"risk\":1,\"sex\":\"female\",\"job\":3,\"housing\":\"rent\",\"saving_accounts\":\"little\",\"checking_account\":\"not_known\",\"credit_amount\":3868,\"duration\":24,\"purpose\":\"car\",\"age\":41},{\"risk\":1,\"sex\":\"male\",\"job\":1,\"housing\":\"rent\",\"saving_accounts\":\"little\",\"checking_account\":\"not_known\",\"credit_amount\":1768,\"duration\":12,\"purpose\":\"furniture\\/equipment\",\"age\":24},{\"risk\":1,\"sex\":\"male\",\"job\":2,\"housing\":\"free\",\"saving_accounts\":\"little\",\"checking_account\":\"rich\",\"credit_amount\":781,\"duration\":10,\"purpose\":\"car\",\"age\":63},{\"risk\":0,\"sex\":\"female\",\"job\":2,\"housing\":\"rent\",\"saving_accounts\":\"not_known\",\"checking_account\":\"moderate\",\"credit_amount\":1924,\"duration\":18,\"purpose\":\"furniture\\/equipment\",\"age\":27},{\"risk\":1,\"sex\":\"male\",\"job\":2,\"housing\":\"own\",\"saving_accounts\":\"little\",\"checking_account\":\"little\",\"credit_amount\":2121,\"duration\":12,\"purpose\":\"car\",\"age\":30},{\"risk\":1,\"sex\":\"male\",\"job\":1,\"housing\":\"own\",\"saving_accounts\":\"little\",\"checking_account\":\"little\",\"credit_amount\":701,\"duration\":12,\"purpose\":\"radio\\/TV\",\"age\":40},{\"risk\":0,\"sex\":\"male\",\"job\":2,\"housing\":\"own\",\"saving_accounts\":\"little\",\"checking_account\":\"moderate\",\"credit_amount\":639,\"duration\":12,\"purpose\":\"repairs\",\"age\":30},{\"risk\":1,\"sex\":\"male\",\"job\":3,\"housing\":\"own\",\"saving_accounts\":\"little\",\"checking_account\":\"moderate\",\"credit_amount\":1860,\"duration\":12,\"purpose\":\"car\",\"age\":34},{\"risk\":0,\"sex\":\"female\",\"job\":2,\"housing\":\"own\",\"saving_accounts\":\"little\",\"checking_account\":\"little\",\"credit_amount\":3499,\"duration\":12,\"purpose\":\"car\",\"age\":29},{\"risk\":1,\"sex\":\"female\",\"job\":2,\"housing\":\"own\",\"saving_accounts\":\"not_known\",\"checking_account\":\"moderate\",\"credit_amount\":8487,\"duration\":48,\"purpose\":\"car\",\"age\":24},{\"risk\":0,\"sex\":\"male\",\"job\":2,\"housing\":\"own\",\"saving_accounts\":\"little\",\"checking_account\":\"little\",\"credit_amount\":6887,\"duration\":36,\"purpose\":\"education\",\"age\":29},{\"risk\":1,\"sex\":\"male\",\"job\":1,\"housing\":\"own\",\"saving_accounts\":\"little\",\"checking_account\":\"not_known\",\"credit_amount\":2708,\"duration\":15,\"purpose\":\"furniture\\/equipment\",\"age\":27},{\"risk\":1,\"sex\":\"male\",\"job\":2,\"housing\":\"free\",\"saving_accounts\":\"little\",\"checking_account\":\"not_known\",\"credit_amount\":1984,\"duration\":18,\"purpose\":\"furniture\\/equipment\",\"age\":47},{\"risk\":1,\"sex\":\"female\",\"job\":2,\"housing\":\"own\",\"saving_accounts\":\"moderate\",\"checking_account\":\"not_known\",\"credit_amount\":10144,\"duration\":60,\"purpose\":\"radio\\/TV\",\"age\":21},{\"risk\":1,\"sex\":\"female\",\"job\":2,\"housing\":\"own\",\"saving_accounts\":\"not_known\",\"checking_account\":\"not_known\",\"credit_amount\":1240,\"duration\":12,\"purpose\":\"radio\\/TV\",\"age\":38},{\"risk\":1,\"sex\":\"male\",\"job\":2,\"housing\":\"own\",\"saving_accounts\":\"rich\",\"checking_account\":\"not_known\",\"credit_amount\":8613,\"duration\":27,\"purpose\":\"car\",\"age\":27},{\"risk\":0,\"sex\":\"male\",\"job\":1,\"housing\":\"own\",\"saving_accounts\":\"quite rich\",\"checking_account\":\"moderate\",\"credit_amount\":766,\"duration\":12,\"purpose\":\"radio\\/TV\",\"age\":66},{\"risk\":1,\"sex\":\"male\",\"job\":2,\"housing\":\"own\",\"saving_accounts\":\"not_known\",\"checking_account\":\"moderate\",\"credit_amount\":2728,\"duration\":15,\"purpose\":\"radio\\/TV\",\"age\":35},{\"risk\":1,\"sex\":\"female\",\"job\":1,\"housing\":\"rent\",\"saving_accounts\":\"little\",\"checking_account\":\"rich\",\"credit_amount\":1881,\"duration\":12,\"purpose\":\"radio\\/TV\",\"age\":44},{\"risk\":1,\"sex\":\"male\",\"job\":0,\"housing\":\"own\",\"saving_accounts\":\"rich\",\"checking_account\":\"rich\",\"credit_amount\":709,\"duration\":6,\"purpose\":\"car\",\"age\":27},{\"risk\":1,\"sex\":\"female\",\"job\":3,\"housing\":\"own\",\"saving_accounts\":\"little\",\"checking_account\":\"moderate\",\"credit_amount\":4795,\"duration\":36,\"purpose\":\"radio\\/TV\",\"age\":30},{\"risk\":1,\"sex\":\"male\",\"job\":3,\"housing\":\"own\",\"saving_accounts\":\"little\",\"checking_account\":\"little\",\"credit_amount\":3416,\"duration\":27,\"purpose\":\"radio\\/TV\",\"age\":27},{\"risk\":0,\"sex\":\"male\",\"job\":2,\"housing\":\"own\",\"saving_accounts\":\"little\",\"checking_account\":\"little\",\"credit_amount\":2462,\"duration\":18,\"purpose\":\"furniture\\/equipment\",\"age\":22},{\"risk\":1,\"sex\":\"female\",\"job\":2,\"housing\":\"own\",\"saving_accounts\":\"little\",\"checking_account\":\"not_known\",\"credit_amount\":2288,\"duration\":21,\"purpose\":\"furniture\\/equipment\",\"age\":23},{\"risk\":1,\"sex\":\"male\",\"job\":2,\"housing\":\"own\",\"saving_accounts\":\"moderate\",\"checking_account\":\"moderate\",\"credit_amount\":3566,\"duration\":48,\"purpose\":\"business\",\"age\":30},{\"risk\":1,\"sex\":\"female\",\"job\":2,\"housing\":\"own\",\"saving_accounts\":\"little\",\"checking_account\":\"little\",\"credit_amount\":860,\"duration\":6,\"purpose\":\"car\",\"age\":39},{\"risk\":1,\"sex\":\"female\",\"job\":2,\"housing\":\"own\",\"saving_accounts\":\"moderate\",\"checking_account\":\"not_known\",\"credit_amount\":682,\"duration\":12,\"purpose\":\"car\",\"age\":51},{\"risk\":1,\"sex\":\"male\",\"job\":2,\"housing\":\"own\",\"saving_accounts\":\"little\",\"checking_account\":\"little\",\"credit_amount\":5371,\"duration\":36,\"purpose\":\"furniture\\/equipment\",\"age\":28},{\"risk\":1,\"sex\":\"male\",\"job\":2,\"housing\":\"own\",\"saving_accounts\":\"rich\",\"checking_account\":\"not_known\",\"credit_amount\":1582,\"duration\":18,\"purpose\":\"radio\\/TV\",\"age\":46},{\"risk\":1,\"sex\":\"male\",\"job\":2,\"housing\":\"free\",\"saving_accounts\":\"moderate\",\"checking_account\":\"not_known\",\"credit_amount\":1346,\"duration\":6,\"purpose\":\"radio\\/TV\",\"age\":42},{\"risk\":1,\"sex\":\"male\",\"job\":2,\"housing\":\"own\",\"saving_accounts\":\"little\",\"checking_account\":\"not_known\",\"credit_amount\":1924,\"duration\":10,\"purpose\":\"radio\\/TV\",\"age\":38},{\"risk\":1,\"sex\":\"male\",\"job\":2,\"housing\":\"own\",\"saving_accounts\":\"little\",\"checking_account\":\"rich\",\"credit_amount\":5848,\"duration\":36,\"purpose\":\"radio\\/TV\",\"age\":24},{\"risk\":1,\"sex\":\"female\",\"job\":2,\"housing\":\"rent\",\"saving_accounts\":\"rich\",\"checking_account\":\"moderate\",\"credit_amount\":7758,\"duration\":24,\"purpose\":\"car\",\"age\":29},{\"risk\":1,\"sex\":\"male\",\"job\":3,\"housing\":\"rent\",\"saving_accounts\":\"moderate\",\"checking_account\":\"moderate\",\"credit_amount\":6967,\"duration\":24,\"purpose\":\"business\",\"age\":36},{\"risk\":0,\"sex\":\"female\",\"job\":2,\"housing\":\"rent\",\"saving_accounts\":\"little\",\"checking_account\":\"little\",\"credit_amount\":1282,\"duration\":12,\"purpose\":\"furniture\\/equipment\",\"age\":20},{\"risk\":1,\"sex\":\"male\",\"job\":2,\"housing\":\"own\",\"saving_accounts\":\"moderate\",\"checking_account\":\"little\",\"credit_amount\":1288,\"duration\":9,\"purpose\":\"repairs\",\"age\":48},{\"risk\":1,\"sex\":\"male\",\"job\":1,\"housing\":\"own\",\"saving_accounts\":\"little\",\"checking_account\":\"little\",\"credit_amount\":339,\"duration\":12,\"purpose\":\"education\",\"age\":45},{\"risk\":1,\"sex\":\"male\",\"job\":2,\"housing\":\"own\",\"saving_accounts\":\"moderate\",\"checking_account\":\"moderate\",\"credit_amount\":3512,\"duration\":24,\"purpose\":\"car\",\"age\":38},{\"risk\":1,\"sex\":\"male\",\"job\":1,\"housing\":\"own\",\"saving_accounts\":\"not_known\",\"checking_account\":\"not_known\",\"credit_amount\":1898,\"duration\":6,\"purpose\":\"radio\\/TV\",\"age\":34},{\"risk\":1,\"sex\":\"male\",\"job\":2,\"housing\":\"own\",\"saving_accounts\":\"moderate\",\"checking_account\":\"not_known\",\"credit_amount\":2872,\"duration\":24,\"purpose\":\"radio\\/TV\",\"age\":36},{\"risk\":1,\"sex\":\"female\",\"job\":2,\"housing\":\"own\",\"saving_accounts\":\"little\",\"checking_account\":\"not_known\",\"credit_amount\":1055,\"duration\":18,\"purpose\":\"car\",\"age\":30},{\"risk\":1,\"sex\":\"male\",\"job\":2,\"housing\":\"own\",\"saving_accounts\":\"quite rich\",\"checking_account\":\"not_known\",\"credit_amount\":1262,\"duration\":15,\"purpose\":\"domestic appliances\",\"age\":36},{\"risk\":1,\"sex\":\"male\",\"job\":3,\"housing\":\"free\",\"saving_accounts\":\"little\",\"checking_account\":\"moderate\",\"credit_amount\":7308,\"duration\":10,\"purpose\":\"car\",\"age\":70},{\"risk\":1,\"sex\":\"male\",\"job\":2,\"housing\":\"own\",\"saving_accounts\":\"quite rich\",\"checking_account\":\"not_known\",\"credit_amount\":909,\"duration\":36,\"purpose\":\"car\",\"age\":36},{\"risk\":1,\"sex\":\"male\",\"job\":2,\"housing\":\"own\",\"saving_accounts\":\"quite rich\",\"checking_account\":\"not_known\",\"credit_amount\":2978,\"duration\":6,\"purpose\":\"furniture\\/equipment\",\"age\":32},{\"risk\":0,\"sex\":\"female\",\"job\":2,\"housing\":\"own\",\"saving_accounts\":\"little\",\"checking_account\":\"little\",\"credit_amount\":1131,\"duration\":18,\"purpose\":\"furniture\\/equipment\",\"age\":33},{\"risk\":1,\"sex\":\"female\",\"job\":2,\"housing\":\"own\",\"saving_accounts\":\"rich\",\"checking_account\":\"moderate\",\"credit_amount\":1577,\"duration\":11,\"purpose\":\"furniture\\/equipment\",\"age\":20},{\"risk\":1,\"sex\":\"female\",\"job\":2,\"housing\":\"rent\",\"saving_accounts\":\"little\",\"checking_account\":\"not_known\",\"credit_amount\":3972,\"duration\":24,\"purpose\":\"furniture\\/equipment\",\"age\":25},{\"risk\":0,\"sex\":\"male\",\"job\":2,\"housing\":\"own\",\"saving_accounts\":\"little\",\"checking_account\":\"moderate\",\"credit_amount\":1935,\"duration\":24,\"purpose\":\"business\",\"age\":31},{\"risk\":0,\"sex\":\"male\",\"job\":2,\"housing\":\"rent\",\"saving_accounts\":\"little\",\"checking_account\":\"little\",\"credit_amount\":950,\"duration\":15,\"purpose\":\"car\",\"age\":33},{\"risk\":1,\"sex\":\"female\",\"job\":2,\"housing\":\"own\",\"saving_accounts\":\"little\",\"checking_account\":\"not_known\",\"credit_amount\":763,\"duration\":12,\"purpose\":\"furniture\\/equipment\",\"age\":26},{\"risk\":0,\"sex\":\"female\",\"job\":3,\"housing\":\"own\",\"saving_accounts\":\"little\",\"checking_account\":\"moderate\",\"credit_amount\":2064,\"duration\":24,\"purpose\":\"furniture\\/equipment\",\"age\":34},{\"risk\":1,\"sex\":\"male\",\"job\":2,\"housing\":\"own\",\"saving_accounts\":\"little\",\"checking_account\":\"moderate\",\"credit_amount\":1414,\"duration\":8,\"purpose\":\"radio\\/TV\",\"age\":33},{\"risk\":0,\"sex\":\"male\",\"job\":2,\"housing\":\"own\",\"saving_accounts\":\"little\",\"checking_account\":\"little\",\"credit_amount\":3414,\"duration\":21,\"purpose\":\"education\",\"age\":26},{\"risk\":0,\"sex\":\"female\",\"job\":3,\"housing\":\"own\",\"saving_accounts\":\"not_known\",\"checking_account\":\"not_known\",\"credit_amount\":7485,\"duration\":30,\"purpose\":\"car\",\"age\":53},{\"risk\":1,\"sex\":\"male\",\"job\":2,\"housing\":\"own\",\"saving_accounts\":\"little\",\"checking_account\":\"little\",\"credit_amount\":2577,\"duration\":12,\"purpose\":\"furniture\\/equipment\",\"age\":42},{\"risk\":1,\"sex\":\"male\",\"job\":2,\"housing\":\"own\",\"saving_accounts\":\"quite rich\",\"checking_account\":\"little\",\"credit_amount\":338,\"duration\":6,\"purpose\":\"radio\\/TV\",\"age\":52},{\"risk\":1,\"sex\":\"male\",\"job\":3,\"housing\":\"rent\",\"saving_accounts\":\"little\",\"checking_account\":\"not_known\",\"credit_amount\":1963,\"duration\":12,\"purpose\":\"radio\\/TV\",\"age\":31},{\"risk\":1,\"sex\":\"male\",\"job\":2,\"housing\":\"own\",\"saving_accounts\":\"little\",\"checking_account\":\"little\",\"credit_amount\":571,\"duration\":21,\"purpose\":\"car\",\"age\":65},{\"risk\":0,\"sex\":\"male\",\"job\":2,\"housing\":\"own\",\"saving_accounts\":\"little\",\"checking_account\":\"not_known\",\"credit_amount\":9572,\"duration\":36,\"purpose\":\"business\",\"age\":28},{\"risk\":0,\"sex\":\"male\",\"job\":3,\"housing\":\"own\",\"saving_accounts\":\"little\",\"checking_account\":\"moderate\",\"credit_amount\":4455,\"duration\":36,\"purpose\":\"business\",\"age\":30},{\"risk\":0,\"sex\":\"male\",\"job\":1,\"housing\":\"own\",\"saving_accounts\":\"not_known\",\"checking_account\":\"little\",\"credit_amount\":1647,\"duration\":21,\"purpose\":\"car\",\"age\":40},{\"risk\":1,\"sex\":\"male\",\"job\":2,\"housing\":\"own\",\"saving_accounts\":\"rich\",\"checking_account\":\"not_known\",\"credit_amount\":3777,\"duration\":24,\"purpose\":\"furniture\\/equipment\",\"age\":50},{\"risk\":0,\"sex\":\"male\",\"job\":2,\"housing\":\"own\",\"saving_accounts\":\"little\",\"checking_account\":\"moderate\",\"credit_amount\":884,\"duration\":18,\"purpose\":\"car\",\"age\":36},{\"risk\":1,\"sex\":\"male\",\"job\":2,\"housing\":\"own\",\"saving_accounts\":\"little\",\"checking_account\":\"not_known\",\"credit_amount\":1360,\"duration\":15,\"purpose\":\"radio\\/TV\",\"age\":31},{\"risk\":0,\"sex\":\"female\",\"job\":3,\"housing\":\"free\",\"saving_accounts\":\"little\",\"checking_account\":\"moderate\",\"credit_amount\":5129,\"duration\":9,\"purpose\":\"car\",\"age\":74},{\"risk\":1,\"sex\":\"male\",\"job\":0,\"housing\":\"free\",\"saving_accounts\":\"little\",\"checking_account\":\"moderate\",\"credit_amount\":1175,\"duration\":16,\"purpose\":\"car\",\"age\":68},{\"risk\":0,\"sex\":\"male\",\"job\":2,\"housing\":\"own\",\"saving_accounts\":\"moderate\",\"checking_account\":\"little\",\"credit_amount\":674,\"duration\":12,\"purpose\":\"radio\\/TV\",\"age\":20},{\"risk\":1,\"sex\":\"female\",\"job\":2,\"housing\":\"own\",\"saving_accounts\":\"little\",\"checking_account\":\"moderate\",\"credit_amount\":3244,\"duration\":18,\"purpose\":\"furniture\\/equipment\",\"age\":33},{\"risk\":0,\"sex\":\"male\",\"job\":3,\"housing\":\"own\",\"saving_accounts\":\"rich\",\"checking_account\":\"not_known\",\"credit_amount\":4591,\"duration\":24,\"purpose\":\"business\",\"age\":54},{\"risk\":0,\"sex\":\"male\",\"job\":1,\"housing\":\"free\",\"saving_accounts\":\"moderate\",\"checking_account\":\"moderate\",\"credit_amount\":3844,\"duration\":48,\"purpose\":\"business\",\"age\":34},{\"risk\":0,\"sex\":\"male\",\"job\":2,\"housing\":\"own\",\"saving_accounts\":\"little\",\"checking_account\":\"moderate\",\"credit_amount\":3915,\"duration\":27,\"purpose\":\"business\",\"age\":36},{\"risk\":1,\"sex\":\"male\",\"job\":2,\"housing\":\"rent\",\"saving_accounts\":\"little\",\"checking_account\":\"not_known\",\"credit_amount\":2108,\"duration\":6,\"purpose\":\"radio\\/TV\",\"age\":29},{\"risk\":0,\"sex\":\"male\",\"job\":2,\"housing\":\"rent\",\"saving_accounts\":\"moderate\",\"checking_account\":\"moderate\",\"credit_amount\":3031,\"duration\":45,\"purpose\":\"radio\\/TV\",\"age\":21},{\"risk\":0,\"sex\":\"female\",\"job\":3,\"housing\":\"own\",\"saving_accounts\":\"little\",\"checking_account\":\"moderate\",\"credit_amount\":1501,\"duration\":9,\"purpose\":\"education\",\"age\":34},{\"risk\":1,\"sex\":\"female\",\"job\":2,\"housing\":\"own\",\"saving_accounts\":\"little\",\"checking_account\":\"not_known\",\"credit_amount\":1382,\"duration\":6,\"purpose\":\"radio\\/TV\",\"age\":28},{\"risk\":0,\"sex\":\"female\",\"job\":2,\"housing\":\"rent\",\"saving_accounts\":\"moderate\",\"checking_account\":\"moderate\",\"credit_amount\":951,\"duration\":12,\"purpose\":\"furniture\\/equipment\",\"age\":27},{\"risk\":1,\"sex\":\"male\",\"job\":2,\"housing\":\"free\",\"saving_accounts\":\"not_known\",\"checking_account\":\"moderate\",\"credit_amount\":2760,\"duration\":24,\"purpose\":\"car\",\"age\":36},{\"risk\":0,\"sex\":\"male\",\"job\":3,\"housing\":\"own\",\"saving_accounts\":\"little\",\"checking_account\":\"moderate\",\"credit_amount\":4297,\"duration\":18,\"purpose\":\"furniture\\/equipment\",\"age\":40},{\"risk\":1,\"sex\":\"male\",\"job\":2,\"housing\":\"own\",\"saving_accounts\":\"quite rich\",\"checking_account\":\"not_known\",\"credit_amount\":936,\"duration\":9,\"purpose\":\"education\",\"age\":52},{\"risk\":1,\"sex\":\"male\",\"job\":1,\"housing\":\"own\",\"saving_accounts\":\"little\",\"checking_account\":\"little\",\"credit_amount\":1168,\"duration\":12,\"purpose\":\"car\",\"age\":27},{\"risk\":1,\"sex\":\"male\",\"job\":2,\"housing\":\"own\",\"saving_accounts\":\"little\",\"checking_account\":\"not_known\",\"credit_amount\":5117,\"duration\":27,\"purpose\":\"business\",\"age\":26},{\"risk\":0,\"sex\":\"male\",\"job\":2,\"housing\":\"rent\",\"saving_accounts\":\"little\",\"checking_account\":\"little\",\"credit_amount\":902,\"duration\":12,\"purpose\":\"education\",\"age\":21},{\"risk\":1,\"sex\":\"male\",\"job\":1,\"housing\":\"own\",\"saving_accounts\":\"little\",\"checking_account\":\"not_known\",\"credit_amount\":1495,\"duration\":12,\"purpose\":\"car\",\"age\":38},{\"risk\":1,\"sex\":\"male\",\"job\":3,\"housing\":\"free\",\"saving_accounts\":\"little\",\"checking_account\":\"little\",\"credit_amount\":10623,\"duration\":30,\"purpose\":\"car\",\"age\":38},{\"risk\":1,\"sex\":\"male\",\"job\":2,\"housing\":\"own\",\"saving_accounts\":\"little\",\"checking_account\":\"not_known\",\"credit_amount\":1935,\"duration\":12,\"purpose\":\"furniture\\/equipment\",\"age\":43},{\"risk\":1,\"sex\":\"male\",\"job\":2,\"housing\":\"own\",\"saving_accounts\":\"little\",\"checking_account\":\"moderate\",\"credit_amount\":1424,\"duration\":12,\"purpose\":\"domestic appliances\",\"age\":26},{\"risk\":1,\"sex\":\"male\",\"job\":1,\"housing\":\"own\",\"saving_accounts\":\"little\",\"checking_account\":\"little\",\"credit_amount\":6568,\"duration\":24,\"purpose\":\"business\",\"age\":21},{\"risk\":1,\"sex\":\"male\",\"job\":2,\"housing\":\"own\",\"saving_accounts\":\"rich\",\"checking_account\":\"not_known\",\"credit_amount\":1413,\"duration\":12,\"purpose\":\"car\",\"age\":55},{\"risk\":1,\"sex\":\"male\",\"job\":2,\"housing\":\"own\",\"saving_accounts\":\"not_known\",\"checking_account\":\"not_known\",\"credit_amount\":3074,\"duration\":9,\"purpose\":\"radio\\/TV\",\"age\":33},{\"risk\":1,\"sex\":\"female\",\"job\":1,\"housing\":\"own\",\"saving_accounts\":\"not_known\",\"checking_account\":\"not_known\",\"credit_amount\":3835,\"duration\":36,\"purpose\":\"radio\\/TV\",\"age\":45},{\"risk\":0,\"sex\":\"male\",\"job\":2,\"housing\":\"own\",\"saving_accounts\":\"little\",\"checking_account\":\"little\",\"credit_amount\":5293,\"duration\":27,\"purpose\":\"business\",\"age\":50},{\"risk\":0,\"sex\":\"male\",\"job\":3,\"housing\":\"own\",\"saving_accounts\":\"little\",\"checking_account\":\"rich\",\"credit_amount\":1908,\"duration\":30,\"purpose\":\"business\",\"age\":66},{\"risk\":1,\"sex\":\"male\",\"job\":2,\"housing\":\"own\",\"saving_accounts\":\"not_known\",\"checking_account\":\"not_known\",\"credit_amount\":3342,\"duration\":36,\"purpose\":\"radio\\/TV\",\"age\":51},{\"risk\":1,\"sex\":\"female\",\"job\":1,\"housing\":\"own\",\"saving_accounts\":\"not_known\",\"checking_account\":\"moderate\",\"credit_amount\":932,\"duration\":6,\"purpose\":\"education\",\"age\":39},{\"risk\":1,\"sex\":\"male\",\"job\":2,\"housing\":\"own\",\"saving_accounts\":\"little\",\"checking_account\":\"little\",\"credit_amount\":3104,\"duration\":18,\"purpose\":\"business\",\"age\":31},{\"risk\":1,\"sex\":\"male\",\"job\":2,\"housing\":\"own\",\"saving_accounts\":\"little\",\"checking_account\":\"rich\",\"credit_amount\":3913,\"duration\":36,\"purpose\":\"radio\\/TV\",\"age\":23},{\"risk\":1,\"sex\":\"male\",\"job\":1,\"housing\":\"rent\",\"saving_accounts\":\"little\",\"checking_account\":\"little\",\"credit_amount\":3021,\"duration\":24,\"purpose\":\"furniture\\/equipment\",\"age\":24},{\"risk\":1,\"sex\":\"female\",\"job\":2,\"housing\":\"own\",\"saving_accounts\":\"little\",\"checking_account\":\"not_known\",\"credit_amount\":1364,\"duration\":10,\"purpose\":\"car\",\"age\":64},{\"risk\":1,\"sex\":\"male\",\"job\":1,\"housing\":\"own\",\"saving_accounts\":\"little\",\"checking_account\":\"moderate\",\"credit_amount\":625,\"duration\":12,\"purpose\":\"radio\\/TV\",\"age\":26},{\"risk\":1,\"sex\":\"female\",\"job\":2,\"housing\":\"rent\",\"saving_accounts\":\"not_known\",\"checking_account\":\"little\",\"credit_amount\":1200,\"duration\":12,\"purpose\":\"education\",\"age\":23},{\"risk\":1,\"sex\":\"male\",\"job\":2,\"housing\":\"own\",\"saving_accounts\":\"little\",\"checking_account\":\"not_known\",\"credit_amount\":707,\"duration\":12,\"purpose\":\"radio\\/TV\",\"age\":30},{\"risk\":1,\"sex\":\"male\",\"job\":2,\"housing\":\"own\",\"saving_accounts\":\"not_known\",\"checking_account\":\"not_known\",\"credit_amount\":2978,\"duration\":24,\"purpose\":\"business\",\"age\":32},{\"risk\":1,\"sex\":\"male\",\"job\":2,\"housing\":\"own\",\"saving_accounts\":\"little\",\"checking_account\":\"not_known\",\"credit_amount\":4657,\"duration\":15,\"purpose\":\"car\",\"age\":30},{\"risk\":1,\"sex\":\"male\",\"job\":2,\"housing\":\"own\",\"saving_accounts\":\"little\",\"checking_account\":\"not_known\",\"credit_amount\":2613,\"duration\":36,\"purpose\":\"repairs\",\"age\":27},{\"risk\":0,\"sex\":\"male\",\"job\":2,\"housing\":\"own\",\"saving_accounts\":\"rich\",\"checking_account\":\"moderate\",\"credit_amount\":10961,\"duration\":48,\"purpose\":\"radio\\/TV\",\"age\":27},{\"risk\":0,\"sex\":\"male\",\"job\":3,\"housing\":\"free\",\"saving_accounts\":\"little\",\"checking_account\":\"little\",\"credit_amount\":7865,\"duration\":12,\"purpose\":\"furniture\\/equipment\",\"age\":53},{\"risk\":0,\"sex\":\"male\",\"job\":2,\"housing\":\"own\",\"saving_accounts\":\"little\",\"checking_account\":\"not_known\",\"credit_amount\":1478,\"duration\":9,\"purpose\":\"radio\\/TV\",\"age\":22},{\"risk\":1,\"sex\":\"male\",\"job\":2,\"housing\":\"free\",\"saving_accounts\":\"little\",\"checking_account\":\"little\",\"credit_amount\":3149,\"duration\":24,\"purpose\":\"furniture\\/equipment\",\"age\":22},{\"risk\":0,\"sex\":\"male\",\"job\":2,\"housing\":\"own\",\"saving_accounts\":\"little\",\"checking_account\":\"rich\",\"credit_amount\":4210,\"duration\":36,\"purpose\":\"radio\\/TV\",\"age\":26},{\"risk\":1,\"sex\":\"male\",\"job\":1,\"housing\":\"free\",\"saving_accounts\":\"quite rich\",\"checking_account\":\"not_known\",\"credit_amount\":2507,\"duration\":9,\"purpose\":\"car\",\"age\":51},{\"risk\":1,\"sex\":\"male\",\"job\":2,\"housing\":\"own\",\"saving_accounts\":\"moderate\",\"checking_account\":\"not_known\",\"credit_amount\":2141,\"duration\":12,\"purpose\":\"radio\\/TV\",\"age\":35},{\"risk\":1,\"sex\":\"male\",\"job\":1,\"housing\":\"own\",\"saving_accounts\":\"little\",\"checking_account\":\"moderate\",\"credit_amount\":866,\"duration\":18,\"purpose\":\"radio\\/TV\",\"age\":25},{\"risk\":1,\"sex\":\"male\",\"job\":1,\"housing\":\"own\",\"saving_accounts\":\"little\",\"checking_account\":\"not_known\",\"credit_amount\":1544,\"duration\":4,\"purpose\":\"radio\\/TV\",\"age\":42},{\"risk\":0,\"sex\":\"male\",\"job\":3,\"housing\":\"own\",\"saving_accounts\":\"little\",\"checking_account\":\"little\",\"credit_amount\":1823,\"duration\":24,\"purpose\":\"radio\\/TV\",\"age\":30},{\"risk\":0,\"sex\":\"male\",\"job\":0,\"housing\":\"own\",\"saving_accounts\":\"not_known\",\"checking_account\":\"moderate\",\"credit_amount\":14555,\"duration\":6,\"purpose\":\"car\",\"age\":23},{\"risk\":0,\"sex\":\"male\",\"job\":1,\"housing\":\"rent\",\"saving_accounts\":\"moderate\",\"checking_account\":\"moderate\",\"credit_amount\":2767,\"duration\":21,\"purpose\":\"business\",\"age\":61},{\"risk\":1,\"sex\":\"female\",\"job\":2,\"housing\":\"own\",\"saving_accounts\":\"little\",\"checking_account\":\"not_known\",\"credit_amount\":1291,\"duration\":12,\"purpose\":\"radio\\/TV\",\"age\":35},{\"risk\":1,\"sex\":\"male\",\"job\":2,\"housing\":\"own\",\"saving_accounts\":\"little\",\"checking_account\":\"little\",\"credit_amount\":2522,\"duration\":30,\"purpose\":\"radio\\/TV\",\"age\":39},{\"risk\":0,\"sex\":\"female\",\"job\":2,\"housing\":\"own\",\"saving_accounts\":\"not_known\",\"checking_account\":\"little\",\"credit_amount\":915,\"duration\":24,\"purpose\":\"car\",\"age\":29},{\"risk\":1,\"sex\":\"male\",\"job\":2,\"housing\":\"own\",\"saving_accounts\":\"little\",\"checking_account\":\"not_known\",\"credit_amount\":1595,\"duration\":6,\"purpose\":\"radio\\/TV\",\"age\":51},{\"risk\":0,\"sex\":\"male\",\"job\":2,\"housing\":\"free\",\"saving_accounts\":\"little\",\"checking_account\":\"little\",\"credit_amount\":4605,\"duration\":48,\"purpose\":\"car\",\"age\":24},{\"risk\":1,\"sex\":\"female\",\"job\":2,\"housing\":\"own\",\"saving_accounts\":\"little\",\"checking_account\":\"not_known\",\"credit_amount\":1185,\"duration\":12,\"purpose\":\"business\",\"age\":27},{\"risk\":1,\"sex\":\"female\",\"job\":1,\"housing\":\"own\",\"saving_accounts\":\"quite rich\",\"checking_account\":\"not_known\",\"credit_amount\":3447,\"duration\":12,\"purpose\":\"education\",\"age\":35},{\"risk\":1,\"sex\":\"male\",\"job\":2,\"housing\":\"own\",\"saving_accounts\":\"little\",\"checking_account\":\"not_known\",\"credit_amount\":1258,\"duration\":24,\"purpose\":\"business\",\"age\":25},{\"risk\":1,\"sex\":\"male\",\"job\":2,\"housing\":\"own\",\"saving_accounts\":\"little\",\"checking_account\":\"not_known\",\"credit_amount\":717,\"duration\":12,\"purpose\":\"radio\\/TV\",\"age\":52},{\"risk\":1,\"sex\":\"male\",\"job\":2,\"housing\":\"rent\",\"saving_accounts\":\"moderate\",\"checking_account\":\"not_known\",\"credit_amount\":1204,\"duration\":6,\"purpose\":\"car\",\"age\":35},{\"risk\":1,\"sex\":\"male\",\"job\":2,\"housing\":\"own\",\"saving_accounts\":\"little\",\"checking_account\":\"rich\",\"credit_amount\":1925,\"duration\":24,\"purpose\":\"furniture\\/equipment\",\"age\":26},{\"risk\":0,\"sex\":\"female\",\"job\":2,\"housing\":\"rent\",\"saving_accounts\":\"little\",\"checking_account\":\"not_known\",\"credit_amount\":433,\"duration\":18,\"purpose\":\"radio\\/TV\",\"age\":22},{\"risk\":1,\"sex\":\"female\",\"job\":1,\"housing\":\"own\",\"saving_accounts\":\"rich\",\"checking_account\":\"little\",\"credit_amount\":666,\"duration\":6,\"purpose\":\"car\",\"age\":39},{\"risk\":1,\"sex\":\"female\",\"job\":1,\"housing\":\"own\",\"saving_accounts\":\"little\",\"checking_account\":\"rich\",\"credit_amount\":2251,\"duration\":12,\"purpose\":\"furniture\\/equipment\",\"age\":46},{\"risk\":0,\"sex\":\"female\",\"job\":2,\"housing\":\"own\",\"saving_accounts\":\"little\",\"checking_account\":\"moderate\",\"credit_amount\":2150,\"duration\":30,\"purpose\":\"car\",\"age\":24},{\"risk\":1,\"sex\":\"male\",\"job\":2,\"housing\":\"own\",\"saving_accounts\":\"moderate\",\"checking_account\":\"not_known\",\"credit_amount\":4151,\"duration\":24,\"purpose\":\"furniture\\/equipment\",\"age\":35},{\"risk\":1,\"sex\":\"male\",\"job\":2,\"housing\":\"own\",\"saving_accounts\":\"not_known\",\"checking_account\":\"moderate\",\"credit_amount\":2030,\"duration\":9,\"purpose\":\"furniture\\/equipment\",\"age\":24},{\"risk\":1,\"sex\":\"male\",\"job\":1,\"housing\":\"own\",\"saving_accounts\":\"not_known\",\"checking_account\":\"moderate\",\"credit_amount\":7418,\"duration\":60,\"purpose\":\"radio\\/TV\",\"age\":27},{\"risk\":1,\"sex\":\"male\",\"job\":1,\"housing\":\"own\",\"saving_accounts\":\"little\",\"checking_account\":\"not_known\",\"credit_amount\":2684,\"duration\":24,\"purpose\":\"radio\\/TV\",\"age\":35},{\"risk\":0,\"sex\":\"male\",\"job\":2,\"housing\":\"free\",\"saving_accounts\":\"little\",\"checking_account\":\"little\",\"credit_amount\":2149,\"duration\":12,\"purpose\":\"radio\\/TV\",\"age\":29},{\"risk\":1,\"sex\":\"female\",\"job\":2,\"housing\":\"own\",\"saving_accounts\":\"moderate\",\"checking_account\":\"not_known\",\"credit_amount\":3812,\"duration\":15,\"purpose\":\"car\",\"age\":23},{\"risk\":1,\"sex\":\"female\",\"job\":1,\"housing\":\"own\",\"saving_accounts\":\"moderate\",\"checking_account\":\"not_known\",\"credit_amount\":1154,\"duration\":11,\"purpose\":\"radio\\/TV\",\"age\":57},{\"risk\":1,\"sex\":\"male\",\"job\":2,\"housing\":\"own\",\"saving_accounts\":\"little\",\"checking_account\":\"little\",\"credit_amount\":1657,\"duration\":12,\"purpose\":\"furniture\\/equipment\",\"age\":27},{\"risk\":1,\"sex\":\"female\",\"job\":2,\"housing\":\"own\",\"saving_accounts\":\"little\",\"checking_account\":\"little\",\"credit_amount\":1603,\"duration\":24,\"purpose\":\"radio\\/TV\",\"age\":55},{\"risk\":1,\"sex\":\"male\",\"job\":3,\"housing\":\"free\",\"saving_accounts\":\"little\",\"checking_account\":\"little\",\"credit_amount\":5302,\"duration\":18,\"purpose\":\"car\",\"age\":36},{\"risk\":1,\"sex\":\"female\",\"job\":1,\"housing\":\"free\",\"saving_accounts\":\"little\",\"checking_account\":\"not_known\",\"credit_amount\":2748,\"duration\":12,\"purpose\":\"education\",\"age\":57},{\"risk\":1,\"sex\":\"male\",\"job\":1,\"housing\":\"own\",\"saving_accounts\":\"little\",\"checking_account\":\"not_known\",\"credit_amount\":1231,\"duration\":10,\"purpose\":\"car\",\"age\":32},{\"risk\":0,\"sex\":\"male\",\"job\":2,\"housing\":\"own\",\"saving_accounts\":\"little\",\"checking_account\":\"moderate\",\"credit_amount\":802,\"duration\":15,\"purpose\":\"radio\\/TV\",\"age\":37},{\"risk\":1,\"sex\":\"male\",\"job\":2,\"housing\":\"own\",\"saving_accounts\":\"not_known\",\"checking_account\":\"not_known\",\"credit_amount\":6304,\"duration\":36,\"purpose\":\"business\",\"age\":36},{\"risk\":1,\"sex\":\"female\",\"job\":2,\"housing\":\"own\",\"saving_accounts\":\"little\",\"checking_account\":\"not_known\",\"credit_amount\":1533,\"duration\":24,\"purpose\":\"radio\\/TV\",\"age\":38},{\"risk\":0,\"sex\":\"male\",\"job\":3,\"housing\":\"own\",\"saving_accounts\":\"little\",\"checking_account\":\"little\",\"credit_amount\":8978,\"duration\":14,\"purpose\":\"car\",\"age\":45},{\"risk\":1,\"sex\":\"male\",\"job\":2,\"housing\":\"own\",\"saving_accounts\":\"not_known\",\"checking_account\":\"not_known\",\"credit_amount\":999,\"duration\":24,\"purpose\":\"radio\\/TV\",\"age\":25},{\"risk\":1,\"sex\":\"male\",\"job\":2,\"housing\":\"own\",\"saving_accounts\":\"not_known\",\"checking_account\":\"not_known\",\"credit_amount\":2662,\"duration\":18,\"purpose\":\"car\",\"age\":32},{\"risk\":1,\"sex\":\"female\",\"job\":2,\"housing\":\"rent\",\"saving_accounts\":\"quite rich\",\"checking_account\":\"not_known\",\"credit_amount\":1402,\"duration\":12,\"purpose\":\"furniture\\/equipment\",\"age\":37},{\"risk\":1,\"sex\":\"male\",\"job\":3,\"housing\":\"free\",\"saving_accounts\":\"not_known\",\"checking_account\":\"moderate\",\"credit_amount\":12169,\"duration\":48,\"purpose\":\"car\",\"age\":36},{\"risk\":0,\"sex\":\"male\",\"job\":2,\"housing\":\"own\",\"saving_accounts\":\"little\",\"checking_account\":\"moderate\",\"credit_amount\":3060,\"duration\":48,\"purpose\":\"radio\\/TV\",\"age\":28},{\"risk\":0,\"sex\":\"male\",\"job\":1,\"housing\":\"own\",\"saving_accounts\":\"little\",\"checking_account\":\"little\",\"credit_amount\":11998,\"duration\":30,\"purpose\":\"repairs\",\"age\":34},{\"risk\":1,\"sex\":\"male\",\"job\":2,\"housing\":\"own\",\"saving_accounts\":\"little\",\"checking_account\":\"not_known\",\"credit_amount\":2697,\"duration\":9,\"purpose\":\"radio\\/TV\",\"age\":32},{\"risk\":1,\"sex\":\"female\",\"job\":2,\"housing\":\"own\",\"saving_accounts\":\"little\",\"checking_account\":\"not_known\",\"credit_amount\":2404,\"duration\":18,\"purpose\":\"radio\\/TV\",\"age\":26},{\"risk\":1,\"sex\":\"male\",\"job\":1,\"housing\":\"own\",\"saving_accounts\":\"not_known\",\"checking_account\":\"little\",\"credit_amount\":1262,\"duration\":12,\"purpose\":\"furniture\\/equipment\",\"age\":49},{\"risk\":0,\"sex\":\"female\",\"job\":2,\"housing\":\"own\",\"saving_accounts\":\"little\",\"checking_account\":\"not_known\",\"credit_amount\":4611,\"duration\":6,\"purpose\":\"furniture\\/equipment\",\"age\":32},{\"risk\":1,\"sex\":\"male\",\"job\":3,\"housing\":\"rent\",\"saving_accounts\":\"moderate\",\"checking_account\":\"not_known\",\"credit_amount\":1901,\"duration\":24,\"purpose\":\"radio\\/TV\",\"age\":29},{\"risk\":1,\"sex\":\"male\",\"job\":2,\"housing\":\"rent\",\"saving_accounts\":\"rich\",\"checking_account\":\"not_known\",\"credit_amount\":3368,\"duration\":15,\"purpose\":\"car\",\"age\":23},{\"risk\":1,\"sex\":\"male\",\"job\":2,\"housing\":\"own\",\"saving_accounts\":\"little\",\"checking_account\":\"not_known\",\"credit_amount\":1574,\"duration\":12,\"purpose\":\"furniture\\/equipment\",\"age\":50},{\"risk\":1,\"sex\":\"male\",\"job\":1,\"housing\":\"own\",\"saving_accounts\":\"not_known\",\"checking_account\":\"rich\",\"credit_amount\":1445,\"duration\":18,\"purpose\":\"radio\\/TV\",\"age\":49},{\"risk\":1,\"sex\":\"male\",\"job\":2,\"housing\":\"own\",\"saving_accounts\":\"not_known\",\"checking_account\":\"not_known\",\"credit_amount\":1520,\"duration\":15,\"purpose\":\"furniture\\/equipment\",\"age\":63},{\"risk\":1,\"sex\":\"male\",\"job\":2,\"housing\":\"own\",\"saving_accounts\":\"moderate\",\"checking_account\":\"moderate\",\"credit_amount\":3878,\"duration\":24,\"purpose\":\"car\",\"age\":37},{\"risk\":1,\"sex\":\"female\",\"job\":1,\"housing\":\"own\",\"saving_accounts\":\"little\",\"checking_account\":\"little\",\"credit_amount\":10722,\"duration\":47,\"purpose\":\"car\",\"age\":35},{\"risk\":1,\"sex\":\"male\",\"job\":2,\"housing\":\"own\",\"saving_accounts\":\"little\",\"checking_account\":\"little\",\"credit_amount\":4788,\"duration\":48,\"purpose\":\"car\",\"age\":26},{\"risk\":1,\"sex\":\"male\",\"job\":3,\"housing\":\"free\",\"saving_accounts\":\"moderate\",\"checking_account\":\"moderate\",\"credit_amount\":7582,\"duration\":48,\"purpose\":\"vacation\\/others\",\"age\":31},{\"risk\":1,\"sex\":\"female\",\"job\":2,\"housing\":\"own\",\"saving_accounts\":\"little\",\"checking_account\":\"moderate\",\"credit_amount\":1092,\"duration\":12,\"purpose\":\"radio\\/TV\",\"age\":49},{\"risk\":0,\"sex\":\"male\",\"job\":2,\"housing\":\"own\",\"saving_accounts\":\"little\",\"checking_account\":\"little\",\"credit_amount\":1024,\"duration\":24,\"purpose\":\"radio\\/TV\",\"age\":48},{\"risk\":1,\"sex\":\"male\",\"job\":2,\"housing\":\"own\",\"saving_accounts\":\"little\",\"checking_account\":\"not_known\",\"credit_amount\":1076,\"duration\":12,\"purpose\":\"business\",\"age\":26},{\"risk\":0,\"sex\":\"male\",\"job\":3,\"housing\":\"rent\",\"saving_accounts\":\"little\",\"checking_account\":\"moderate\",\"credit_amount\":9398,\"duration\":36,\"purpose\":\"car\",\"age\":28},{\"risk\":1,\"sex\":\"female\",\"job\":3,\"housing\":\"free\",\"saving_accounts\":\"little\",\"checking_account\":\"little\",\"credit_amount\":6419,\"duration\":24,\"purpose\":\"car\",\"age\":44},{\"risk\":1,\"sex\":\"male\",\"job\":2,\"housing\":\"free\",\"saving_accounts\":\"little\",\"checking_account\":\"rich\",\"credit_amount\":4796,\"duration\":42,\"purpose\":\"car\",\"age\":56},{\"risk\":1,\"sex\":\"male\",\"job\":3,\"housing\":\"own\",\"saving_accounts\":\"not_known\",\"checking_account\":\"not_known\",\"credit_amount\":7629,\"duration\":48,\"purpose\":\"business\",\"age\":46},{\"risk\":0,\"sex\":\"female\",\"job\":2,\"housing\":\"own\",\"saving_accounts\":\"little\",\"checking_account\":\"moderate\",\"credit_amount\":9960,\"duration\":48,\"purpose\":\"furniture\\/equipment\",\"age\":26},{\"risk\":1,\"sex\":\"female\",\"job\":2,\"housing\":\"rent\",\"saving_accounts\":\"not_known\",\"checking_account\":\"not_known\",\"credit_amount\":4675,\"duration\":12,\"purpose\":\"car\",\"age\":20},{\"risk\":1,\"sex\":\"male\",\"job\":1,\"housing\":\"own\",\"saving_accounts\":\"not_known\",\"checking_account\":\"not_known\",\"credit_amount\":1287,\"duration\":10,\"purpose\":\"car\",\"age\":45},{\"risk\":1,\"sex\":\"male\",\"job\":2,\"housing\":\"own\",\"saving_accounts\":\"little\",\"checking_account\":\"not_known\",\"credit_amount\":2515,\"duration\":18,\"purpose\":\"furniture\\/equipment\",\"age\":43},{\"risk\":1,\"sex\":\"male\",\"job\":2,\"housing\":\"own\",\"saving_accounts\":\"rich\",\"checking_account\":\"moderate\",\"credit_amount\":2745,\"duration\":21,\"purpose\":\"furniture\\/equipment\",\"age\":32},{\"risk\":1,\"sex\":\"female\",\"job\":0,\"housing\":\"own\",\"saving_accounts\":\"little\",\"checking_account\":\"not_known\",\"credit_amount\":672,\"duration\":6,\"purpose\":\"car\",\"age\":54},{\"risk\":0,\"sex\":\"female\",\"job\":2,\"housing\":\"own\",\"saving_accounts\":\"little\",\"checking_account\":\"moderate\",\"credit_amount\":3804,\"duration\":36,\"purpose\":\"radio\\/TV\",\"age\":42},{\"risk\":0,\"sex\":\"male\",\"job\":1,\"housing\":\"own\",\"saving_accounts\":\"not_known\",\"checking_account\":\"rich\",\"credit_amount\":1344,\"duration\":24,\"purpose\":\"car\",\"age\":37},{\"risk\":1,\"sex\":\"male\",\"job\":2,\"housing\":\"own\",\"saving_accounts\":\"little\",\"checking_account\":\"little\",\"credit_amount\":1038,\"duration\":10,\"purpose\":\"car\",\"age\":49},{\"risk\":0,\"sex\":\"male\",\"job\":2,\"housing\":\"free\",\"saving_accounts\":\"quite rich\",\"checking_account\":\"not_known\",\"credit_amount\":10127,\"duration\":48,\"purpose\":\"car\",\"age\":44},{\"risk\":1,\"sex\":\"male\",\"job\":2,\"housing\":\"own\",\"saving_accounts\":\"rich\",\"checking_account\":\"not_known\",\"credit_amount\":1543,\"duration\":6,\"purpose\":\"furniture\\/equipment\",\"age\":33},{\"risk\":1,\"sex\":\"female\",\"job\":1,\"housing\":\"rent\",\"saving_accounts\":\"not_known\",\"checking_account\":\"not_known\",\"credit_amount\":4811,\"duration\":30,\"purpose\":\"car\",\"age\":24},{\"risk\":0,\"sex\":\"male\",\"job\":1,\"housing\":\"own\",\"saving_accounts\":\"moderate\",\"checking_account\":\"little\",\"credit_amount\":727,\"duration\":12,\"purpose\":\"radio\\/TV\",\"age\":33},{\"risk\":0,\"sex\":\"female\",\"job\":2,\"housing\":\"own\",\"saving_accounts\":\"little\",\"checking_account\":\"moderate\",\"credit_amount\":1237,\"duration\":8,\"purpose\":\"furniture\\/equipment\",\"age\":24},{\"risk\":1,\"sex\":\"male\",\"job\":1,\"housing\":\"rent\",\"saving_accounts\":\"little\",\"checking_account\":\"moderate\",\"credit_amount\":276,\"duration\":9,\"purpose\":\"car\",\"age\":22},{\"risk\":1,\"sex\":\"male\",\"job\":0,\"housing\":\"free\",\"saving_accounts\":\"not_known\",\"checking_account\":\"moderate\",\"credit_amount\":5381,\"duration\":48,\"purpose\":\"vacation\\/others\",\"age\":40},{\"risk\":1,\"sex\":\"male\",\"job\":2,\"housing\":\"own\",\"saving_accounts\":\"moderate\",\"checking_account\":\"not_known\",\"credit_amount\":5511,\"duration\":24,\"purpose\":\"furniture\\/equipment\",\"age\":25},{\"risk\":1,\"sex\":\"female\",\"job\":2,\"housing\":\"own\",\"saving_accounts\":\"little\",\"checking_account\":\"rich\",\"credit_amount\":3749,\"duration\":24,\"purpose\":\"furniture\\/equipment\",\"age\":26},{\"risk\":0,\"sex\":\"male\",\"job\":1,\"housing\":\"own\",\"saving_accounts\":\"little\",\"checking_account\":\"moderate\",\"credit_amount\":685,\"duration\":12,\"purpose\":\"car\",\"age\":25},{\"risk\":1,\"sex\":\"male\",\"job\":1,\"housing\":\"own\",\"saving_accounts\":\"not_known\",\"checking_account\":\"rich\",\"credit_amount\":1494,\"duration\":4,\"purpose\":\"car\",\"age\":29},{\"risk\":0,\"sex\":\"male\",\"job\":2,\"housing\":\"own\",\"saving_accounts\":\"little\",\"checking_account\":\"little\",\"credit_amount\":2746,\"duration\":36,\"purpose\":\"furniture\\/equipment\",\"age\":31},{\"risk\":1,\"sex\":\"male\",\"job\":1,\"housing\":\"own\",\"saving_accounts\":\"little\",\"checking_account\":\"little\",\"credit_amount\":708,\"duration\":12,\"purpose\":\"furniture\\/equipment\",\"age\":38},{\"risk\":1,\"sex\":\"female\",\"job\":1,\"housing\":\"own\",\"saving_accounts\":\"not_known\",\"checking_account\":\"moderate\",\"credit_amount\":4351,\"duration\":24,\"purpose\":\"furniture\\/equipment\",\"age\":48},{\"risk\":1,\"sex\":\"male\",\"job\":2,\"housing\":\"own\",\"saving_accounts\":\"little\",\"checking_account\":\"not_known\",\"credit_amount\":701,\"duration\":12,\"purpose\":\"education\",\"age\":32},{\"risk\":1,\"sex\":\"female\",\"job\":1,\"housing\":\"own\",\"saving_accounts\":\"little\",\"checking_account\":\"little\",\"credit_amount\":3643,\"duration\":15,\"purpose\":\"furniture\\/equipment\",\"age\":27},{\"risk\":0,\"sex\":\"male\",\"job\":3,\"housing\":\"own\",\"saving_accounts\":\"little\",\"checking_account\":\"moderate\",\"credit_amount\":4249,\"duration\":30,\"purpose\":\"car\",\"age\":28},{\"risk\":0,\"sex\":\"male\",\"job\":2,\"housing\":\"own\",\"saving_accounts\":\"little\",\"checking_account\":\"little\",\"credit_amount\":1938,\"duration\":24,\"purpose\":\"radio\\/TV\",\"age\":32},{\"risk\":1,\"sex\":\"male\",\"job\":3,\"housing\":\"free\",\"saving_accounts\":\"little\",\"checking_account\":\"little\",\"credit_amount\":2910,\"duration\":24,\"purpose\":\"car\",\"age\":34},{\"risk\":1,\"sex\":\"male\",\"job\":2,\"housing\":\"own\",\"saving_accounts\":\"rich\",\"checking_account\":\"little\",\"credit_amount\":2659,\"duration\":18,\"purpose\":\"furniture\\/equipment\",\"age\":28},{\"risk\":1,\"sex\":\"female\",\"job\":2,\"housing\":\"own\",\"saving_accounts\":\"little\",\"checking_account\":\"not_known\",\"credit_amount\":1028,\"duration\":18,\"purpose\":\"car\",\"age\":36},{\"risk\":1,\"sex\":\"male\",\"job\":1,\"housing\":\"own\",\"saving_accounts\":\"little\",\"checking_account\":\"little\",\"credit_amount\":3398,\"duration\":8,\"purpose\":\"car\",\"age\":39},{\"risk\":1,\"sex\":\"male\",\"job\":2,\"housing\":\"rent\",\"saving_accounts\":\"not_known\",\"checking_account\":\"not_known\",\"credit_amount\":5801,\"duration\":12,\"purpose\":\"furniture\\/equipment\",\"age\":49},{\"risk\":1,\"sex\":\"female\",\"job\":2,\"housing\":\"own\",\"saving_accounts\":\"rich\",\"checking_account\":\"not_known\",\"credit_amount\":1525,\"duration\":24,\"purpose\":\"car\",\"age\":34},{\"risk\":1,\"sex\":\"male\",\"job\":2,\"housing\":\"own\",\"saving_accounts\":\"little\",\"checking_account\":\"rich\",\"credit_amount\":4473,\"duration\":36,\"purpose\":\"radio\\/TV\",\"age\":31},{\"risk\":1,\"sex\":\"male\",\"job\":2,\"housing\":\"own\",\"saving_accounts\":\"little\",\"checking_account\":\"moderate\",\"credit_amount\":1068,\"duration\":6,\"purpose\":\"radio\\/TV\",\"age\":28},{\"risk\":1,\"sex\":\"male\",\"job\":3,\"housing\":\"free\",\"saving_accounts\":\"little\",\"checking_account\":\"little\",\"credit_amount\":6615,\"duration\":24,\"purpose\":\"car\",\"age\":75},{\"risk\":0,\"sex\":\"female\",\"job\":2,\"housing\":\"own\",\"saving_accounts\":\"moderate\",\"checking_account\":\"not_known\",\"credit_amount\":1864,\"duration\":18,\"purpose\":\"education\",\"age\":30},{\"risk\":0,\"sex\":\"female\",\"job\":3,\"housing\":\"own\",\"saving_accounts\":\"moderate\",\"checking_account\":\"moderate\",\"credit_amount\":7408,\"duration\":60,\"purpose\":\"car\",\"age\":24},{\"risk\":0,\"sex\":\"female\",\"job\":1,\"housing\":\"rent\",\"saving_accounts\":\"moderate\",\"checking_account\":\"not_known\",\"credit_amount\":11590,\"duration\":48,\"purpose\":\"car\",\"age\":24},{\"risk\":0,\"sex\":\"male\",\"job\":2,\"housing\":\"rent\",\"saving_accounts\":\"little\",\"checking_account\":\"little\",\"credit_amount\":4110,\"duration\":24,\"purpose\":\"furniture\\/equipment\",\"age\":23},{\"risk\":0,\"sex\":\"male\",\"job\":3,\"housing\":\"rent\",\"saving_accounts\":\"little\",\"checking_account\":\"little\",\"credit_amount\":3384,\"duration\":6,\"purpose\":\"furniture\\/equipment\",\"age\":44},{\"risk\":1,\"sex\":\"female\",\"job\":1,\"housing\":\"own\",\"saving_accounts\":\"little\",\"checking_account\":\"moderate\",\"credit_amount\":2101,\"duration\":13,\"purpose\":\"radio\\/TV\",\"age\":23},{\"risk\":0,\"sex\":\"female\",\"job\":2,\"housing\":\"rent\",\"saving_accounts\":\"not_known\",\"checking_account\":\"little\",\"credit_amount\":1275,\"duration\":15,\"purpose\":\"domestic appliances\",\"age\":24},{\"risk\":1,\"sex\":\"male\",\"job\":2,\"housing\":\"own\",\"saving_accounts\":\"little\",\"checking_account\":\"little\",\"credit_amount\":4169,\"duration\":24,\"purpose\":\"furniture\\/equipment\",\"age\":28},{\"risk\":1,\"sex\":\"male\",\"job\":1,\"housing\":\"own\",\"saving_accounts\":\"little\",\"checking_account\":\"moderate\",\"credit_amount\":1521,\"duration\":10,\"purpose\":\"furniture\\/equipment\",\"age\":31},{\"risk\":1,\"sex\":\"female\",\"job\":2,\"housing\":\"free\",\"saving_accounts\":\"little\",\"checking_account\":\"moderate\",\"credit_amount\":5743,\"duration\":24,\"purpose\":\"education\",\"age\":24},{\"risk\":1,\"sex\":\"female\",\"job\":1,\"housing\":\"rent\",\"saving_accounts\":\"little\",\"checking_account\":\"little\",\"credit_amount\":3599,\"duration\":21,\"purpose\":\"furniture\\/equipment\",\"age\":26},{\"risk\":1,\"sex\":\"male\",\"job\":2,\"housing\":\"rent\",\"saving_accounts\":\"quite rich\",\"checking_account\":\"moderate\",\"credit_amount\":3213,\"duration\":18,\"purpose\":\"radio\\/TV\",\"age\":25},{\"risk\":1,\"sex\":\"male\",\"job\":3,\"housing\":\"own\",\"saving_accounts\":\"little\",\"checking_account\":\"moderate\",\"credit_amount\":4439,\"duration\":18,\"purpose\":\"business\",\"age\":33},{\"risk\":1,\"sex\":\"male\",\"job\":1,\"housing\":\"own\",\"saving_accounts\":\"little\",\"checking_account\":\"rich\",\"credit_amount\":3949,\"duration\":10,\"purpose\":\"car\",\"age\":37},{\"risk\":1,\"sex\":\"female\",\"job\":1,\"housing\":\"own\",\"saving_accounts\":\"little\",\"checking_account\":\"not_known\",\"credit_amount\":1459,\"duration\":15,\"purpose\":\"radio\\/TV\",\"age\":43},{\"risk\":1,\"sex\":\"male\",\"job\":2,\"housing\":\"own\",\"saving_accounts\":\"little\",\"checking_account\":\"moderate\",\"credit_amount\":882,\"duration\":13,\"purpose\":\"radio\\/TV\",\"age\":23},{\"risk\":1,\"sex\":\"female\",\"job\":0,\"housing\":\"rent\",\"saving_accounts\":\"quite rich\",\"checking_account\":\"moderate\",\"credit_amount\":3758,\"duration\":24,\"purpose\":\"radio\\/TV\",\"age\":23},{\"risk\":1,\"sex\":\"male\",\"job\":1,\"housing\":\"own\",\"saving_accounts\":\"moderate\",\"checking_account\":\"not_known\",\"credit_amount\":1743,\"duration\":6,\"purpose\":\"business\",\"age\":34},{\"risk\":0,\"sex\":\"male\",\"job\":2,\"housing\":\"free\",\"saving_accounts\":\"rich\",\"checking_account\":\"moderate\",\"credit_amount\":1136,\"duration\":9,\"purpose\":\"education\",\"age\":32},{\"risk\":1,\"sex\":\"female\",\"job\":2,\"housing\":\"rent\",\"saving_accounts\":\"little\",\"checking_account\":\"not_known\",\"credit_amount\":1236,\"duration\":9,\"purpose\":\"domestic appliances\",\"age\":23},{\"risk\":0,\"sex\":\"female\",\"job\":2,\"housing\":\"own\",\"saving_accounts\":\"little\",\"checking_account\":\"moderate\",\"credit_amount\":959,\"duration\":9,\"purpose\":\"furniture\\/equipment\",\"age\":29},{\"risk\":1,\"sex\":\"male\",\"job\":3,\"housing\":\"own\",\"saving_accounts\":\"not_known\",\"checking_account\":\"not_known\",\"credit_amount\":3229,\"duration\":18,\"purpose\":\"car\",\"age\":38},{\"risk\":0,\"sex\":\"male\",\"job\":2,\"housing\":\"rent\",\"saving_accounts\":\"little\",\"checking_account\":\"little\",\"credit_amount\":6199,\"duration\":12,\"purpose\":\"radio\\/TV\",\"age\":28},{\"risk\":1,\"sex\":\"male\",\"job\":2,\"housing\":\"free\",\"saving_accounts\":\"quite rich\",\"checking_account\":\"not_known\",\"credit_amount\":727,\"duration\":10,\"purpose\":\"education\",\"age\":46},{\"risk\":0,\"sex\":\"male\",\"job\":1,\"housing\":\"own\",\"saving_accounts\":\"little\",\"checking_account\":\"moderate\",\"credit_amount\":1246,\"duration\":24,\"purpose\":\"car\",\"age\":23},{\"risk\":1,\"sex\":\"male\",\"job\":2,\"housing\":\"own\",\"saving_accounts\":\"not_known\",\"checking_account\":\"not_known\",\"credit_amount\":2331,\"duration\":12,\"purpose\":\"radio\\/TV\",\"age\":49},{\"risk\":0,\"sex\":\"male\",\"job\":3,\"housing\":\"own\",\"saving_accounts\":\"little\",\"checking_account\":\"not_known\",\"credit_amount\":4463,\"duration\":36,\"purpose\":\"radio\\/TV\",\"age\":26},{\"risk\":1,\"sex\":\"male\",\"job\":2,\"housing\":\"own\",\"saving_accounts\":\"little\",\"checking_account\":\"not_known\",\"credit_amount\":776,\"duration\":12,\"purpose\":\"radio\\/TV\",\"age\":28},{\"risk\":0,\"sex\":\"female\",\"job\":2,\"housing\":\"rent\",\"saving_accounts\":\"little\",\"checking_account\":\"little\",\"credit_amount\":2406,\"duration\":30,\"purpose\":\"furniture\\/equipment\",\"age\":23},{\"risk\":1,\"sex\":\"male\",\"job\":2,\"housing\":\"free\",\"saving_accounts\":\"not_known\",\"checking_account\":\"moderate\",\"credit_amount\":1239,\"duration\":18,\"purpose\":\"education\",\"age\":61},{\"risk\":1,\"sex\":\"male\",\"job\":3,\"housing\":\"own\",\"saving_accounts\":\"not_known\",\"checking_account\":\"rich\",\"credit_amount\":3399,\"duration\":12,\"purpose\":\"radio\\/TV\",\"age\":37},{\"risk\":1,\"sex\":\"female\",\"job\":2,\"housing\":\"own\",\"saving_accounts\":\"little\",\"checking_account\":\"rich\",\"credit_amount\":2247,\"duration\":12,\"purpose\":\"car\",\"age\":36},{\"risk\":1,\"sex\":\"male\",\"job\":2,\"housing\":\"rent\",\"saving_accounts\":\"little\",\"checking_account\":\"not_known\",\"credit_amount\":1766,\"duration\":6,\"purpose\":\"furniture\\/equipment\",\"age\":21},{\"risk\":0,\"sex\":\"male\",\"job\":0,\"housing\":\"own\",\"saving_accounts\":\"little\",\"checking_account\":\"little\",\"credit_amount\":2473,\"duration\":18,\"purpose\":\"furniture\\/equipment\",\"age\":25},{\"risk\":1,\"sex\":\"male\",\"job\":2,\"housing\":\"own\",\"saving_accounts\":\"little\",\"checking_account\":\"not_known\",\"credit_amount\":1542,\"duration\":12,\"purpose\":\"business\",\"age\":36},{\"risk\":1,\"sex\":\"male\",\"job\":2,\"housing\":\"own\",\"saving_accounts\":\"little\",\"checking_account\":\"not_known\",\"credit_amount\":3850,\"duration\":18,\"purpose\":\"car\",\"age\":27},{\"risk\":1,\"sex\":\"female\",\"job\":2,\"housing\":\"rent\",\"saving_accounts\":\"little\",\"checking_account\":\"little\",\"credit_amount\":3650,\"duration\":18,\"purpose\":\"furniture\\/equipment\",\"age\":22},{\"risk\":0,\"sex\":\"male\",\"job\":2,\"housing\":\"own\",\"saving_accounts\":\"little\",\"checking_account\":\"little\",\"credit_amount\":3446,\"duration\":36,\"purpose\":\"furniture\\/equipment\",\"age\":42},{\"risk\":1,\"sex\":\"female\",\"job\":2,\"housing\":\"rent\",\"saving_accounts\":\"little\",\"checking_account\":\"moderate\",\"credit_amount\":3001,\"duration\":18,\"purpose\":\"furniture\\/equipment\",\"age\":40},{\"risk\":1,\"sex\":\"male\",\"job\":2,\"housing\":\"own\",\"saving_accounts\":\"not_known\",\"checking_account\":\"not_known\",\"credit_amount\":3079,\"duration\":36,\"purpose\":\"car\",\"age\":36},{\"risk\":1,\"sex\":\"male\",\"job\":2,\"housing\":\"own\",\"saving_accounts\":\"little\",\"checking_account\":\"not_known\",\"credit_amount\":6070,\"duration\":18,\"purpose\":\"radio\\/TV\",\"age\":33},{\"risk\":1,\"sex\":\"female\",\"job\":2,\"housing\":\"rent\",\"saving_accounts\":\"little\",\"checking_account\":\"not_known\",\"credit_amount\":2146,\"duration\":10,\"purpose\":\"furniture\\/equipment\",\"age\":23},{\"risk\":1,\"sex\":\"male\",\"job\":3,\"housing\":\"free\",\"saving_accounts\":\"not_known\",\"checking_account\":\"not_known\",\"credit_amount\":13756,\"duration\":60,\"purpose\":\"car\",\"age\":63},{\"risk\":0,\"sex\":\"female\",\"job\":3,\"housing\":\"free\",\"saving_accounts\":\"moderate\",\"checking_account\":\"moderate\",\"credit_amount\":14782,\"duration\":60,\"purpose\":\"vacation\\/others\",\"age\":60},{\"risk\":0,\"sex\":\"female\",\"job\":2,\"housing\":\"rent\",\"saving_accounts\":\"little\",\"checking_account\":\"little\",\"credit_amount\":7685,\"duration\":48,\"purpose\":\"business\",\"age\":37},{\"risk\":1,\"sex\":\"male\",\"job\":2,\"housing\":\"own\",\"saving_accounts\":\"little\",\"checking_account\":\"not_known\",\"credit_amount\":2320,\"duration\":18,\"purpose\":\"radio\\/TV\",\"age\":34},{\"risk\":1,\"sex\":\"male\",\"job\":2,\"housing\":\"free\",\"saving_accounts\":\"not_known\",\"checking_account\":\"not_known\",\"credit_amount\":846,\"duration\":7,\"purpose\":\"radio\\/TV\",\"age\":36},{\"risk\":0,\"sex\":\"male\",\"job\":3,\"housing\":\"free\",\"saving_accounts\":\"little\",\"checking_account\":\"moderate\",\"credit_amount\":14318,\"duration\":36,\"purpose\":\"car\",\"age\":57},{\"risk\":1,\"sex\":\"female\",\"job\":1,\"housing\":\"own\",\"saving_accounts\":\"moderate\",\"checking_account\":\"not_known\",\"credit_amount\":362,\"duration\":6,\"purpose\":\"car\",\"age\":52},{\"risk\":1,\"sex\":\"male\",\"job\":2,\"housing\":\"own\",\"saving_accounts\":\"not_known\",\"checking_account\":\"little\",\"credit_amount\":2212,\"duration\":20,\"purpose\":\"furniture\\/equipment\",\"age\":39},{\"risk\":0,\"sex\":\"female\",\"job\":3,\"housing\":\"free\",\"saving_accounts\":\"little\",\"checking_account\":\"moderate\",\"credit_amount\":12976,\"duration\":18,\"purpose\":\"car\",\"age\":38},{\"risk\":1,\"sex\":\"female\",\"job\":2,\"housing\":\"rent\",\"saving_accounts\":\"not_known\",\"checking_account\":\"not_known\",\"credit_amount\":1283,\"duration\":22,\"purpose\":\"car\",\"age\":25},{\"risk\":1,\"sex\":\"male\",\"job\":2,\"housing\":\"own\",\"saving_accounts\":\"little\",\"checking_account\":\"rich\",\"credit_amount\":1330,\"duration\":12,\"purpose\":\"car\",\"age\":26},{\"risk\":1,\"sex\":\"male\",\"job\":1,\"housing\":\"own\",\"saving_accounts\":\"moderate\",\"checking_account\":\"not_known\",\"credit_amount\":4272,\"duration\":30,\"purpose\":\"business\",\"age\":26},{\"risk\":1,\"sex\":\"female\",\"job\":2,\"housing\":\"own\",\"saving_accounts\":\"little\",\"checking_account\":\"not_known\",\"credit_amount\":2238,\"duration\":18,\"purpose\":\"radio\\/TV\",\"age\":25},{\"risk\":1,\"sex\":\"female\",\"job\":2,\"housing\":\"rent\",\"saving_accounts\":\"not_known\",\"checking_account\":\"not_known\",\"credit_amount\":1126,\"duration\":18,\"purpose\":\"radio\\/TV\",\"age\":21},{\"risk\":1,\"sex\":\"male\",\"job\":3,\"housing\":\"own\",\"saving_accounts\":\"little\",\"checking_account\":\"moderate\",\"credit_amount\":7374,\"duration\":18,\"purpose\":\"furniture\\/equipment\",\"age\":40},{\"risk\":1,\"sex\":\"male\",\"job\":2,\"housing\":\"own\",\"saving_accounts\":\"quite rich\",\"checking_account\":\"moderate\",\"credit_amount\":2326,\"duration\":15,\"purpose\":\"business\",\"age\":27},{\"risk\":1,\"sex\":\"female\",\"job\":2,\"housing\":\"own\",\"saving_accounts\":\"little\",\"checking_account\":\"not_known\",\"credit_amount\":1449,\"duration\":9,\"purpose\":\"business\",\"age\":27},{\"risk\":1,\"sex\":\"male\",\"job\":3,\"housing\":\"own\",\"saving_accounts\":\"little\",\"checking_account\":\"not_known\",\"credit_amount\":1820,\"duration\":18,\"purpose\":\"car\",\"age\":30},{\"risk\":1,\"sex\":\"female\",\"job\":1,\"housing\":\"rent\",\"saving_accounts\":\"rich\",\"checking_account\":\"moderate\",\"credit_amount\":983,\"duration\":12,\"purpose\":\"furniture\\/equipment\",\"age\":19},{\"risk\":1,\"sex\":\"male\",\"job\":3,\"housing\":\"free\",\"saving_accounts\":\"little\",\"checking_account\":\"little\",\"credit_amount\":3249,\"duration\":36,\"purpose\":\"car\",\"age\":39},{\"risk\":1,\"sex\":\"female\",\"job\":2,\"housing\":\"own\",\"saving_accounts\":\"little\",\"checking_account\":\"little\",\"credit_amount\":1957,\"duration\":6,\"purpose\":\"radio\\/TV\",\"age\":31},{\"risk\":1,\"sex\":\"male\",\"job\":3,\"housing\":\"own\",\"saving_accounts\":\"little\",\"checking_account\":\"not_known\",\"credit_amount\":2406,\"duration\":9,\"purpose\":\"furniture\\/equipment\",\"age\":31},{\"risk\":1,\"sex\":\"male\",\"job\":2,\"housing\":\"rent\",\"saving_accounts\":\"moderate\",\"checking_account\":\"moderate\",\"credit_amount\":11760,\"duration\":39,\"purpose\":\"education\",\"age\":32},{\"risk\":1,\"sex\":\"female\",\"job\":3,\"housing\":\"free\",\"saving_accounts\":\"little\",\"checking_account\":\"little\",\"credit_amount\":2578,\"duration\":12,\"purpose\":\"furniture\\/equipment\",\"age\":55},{\"risk\":1,\"sex\":\"male\",\"job\":2,\"housing\":\"own\",\"saving_accounts\":\"little\",\"checking_account\":\"little\",\"credit_amount\":2348,\"duration\":36,\"purpose\":\"furniture\\/equipment\",\"age\":46},{\"risk\":0,\"sex\":\"male\",\"job\":2,\"housing\":\"rent\",\"saving_accounts\":\"little\",\"checking_account\":\"moderate\",\"credit_amount\":1223,\"duration\":12,\"purpose\":\"car\",\"age\":46},{\"risk\":1,\"sex\":\"female\",\"job\":1,\"housing\":\"own\",\"saving_accounts\":\"rich\",\"checking_account\":\"not_known\",\"credit_amount\":1516,\"duration\":24,\"purpose\":\"radio\\/TV\",\"age\":43},{\"risk\":1,\"sex\":\"male\",\"job\":2,\"housing\":\"own\",\"saving_accounts\":\"little\",\"checking_account\":\"not_known\",\"credit_amount\":1473,\"duration\":18,\"purpose\":\"radio\\/TV\",\"age\":39},{\"risk\":1,\"sex\":\"male\",\"job\":2,\"housing\":\"own\",\"saving_accounts\":\"not_known\",\"checking_account\":\"moderate\",\"credit_amount\":1887,\"duration\":18,\"purpose\":\"business\",\"age\":28},{\"risk\":0,\"sex\":\"male\",\"job\":2,\"housing\":\"own\",\"saving_accounts\":\"little\",\"checking_account\":\"not_known\",\"credit_amount\":8648,\"duration\":24,\"purpose\":\"business\",\"age\":27},{\"risk\":1,\"sex\":\"male\",\"job\":1,\"housing\":\"own\",\"saving_accounts\":\"little\",\"checking_account\":\"not_known\",\"credit_amount\":802,\"duration\":14,\"purpose\":\"car\",\"age\":27},{\"risk\":1,\"sex\":\"male\",\"job\":2,\"housing\":\"own\",\"saving_accounts\":\"not_known\",\"checking_account\":\"moderate\",\"credit_amount\":2899,\"duration\":18,\"purpose\":\"car\",\"age\":43},{\"risk\":0,\"sex\":\"male\",\"job\":2,\"housing\":\"own\",\"saving_accounts\":\"little\",\"checking_account\":\"moderate\",\"credit_amount\":2039,\"duration\":24,\"purpose\":\"radio\\/TV\",\"age\":22},{\"risk\":1,\"sex\":\"male\",\"job\":2,\"housing\":\"own\",\"saving_accounts\":\"not_known\",\"checking_account\":\"not_known\",\"credit_amount\":2197,\"duration\":24,\"purpose\":\"car\",\"age\":43},{\"risk\":1,\"sex\":\"male\",\"job\":2,\"housing\":\"own\",\"saving_accounts\":\"little\",\"checking_account\":\"little\",\"credit_amount\":1053,\"duration\":15,\"purpose\":\"radio\\/TV\",\"age\":27},{\"risk\":1,\"sex\":\"male\",\"job\":3,\"housing\":\"own\",\"saving_accounts\":\"quite rich\",\"checking_account\":\"not_known\",\"credit_amount\":3235,\"duration\":24,\"purpose\":\"radio\\/TV\",\"age\":26},{\"risk\":0,\"sex\":\"male\",\"job\":2,\"housing\":\"own\",\"saving_accounts\":\"quite rich\",\"checking_account\":\"rich\",\"credit_amount\":939,\"duration\":12,\"purpose\":\"car\",\"age\":28},{\"risk\":1,\"sex\":\"female\",\"job\":2,\"housing\":\"own\",\"saving_accounts\":\"little\",\"checking_account\":\"moderate\",\"credit_amount\":1967,\"duration\":24,\"purpose\":\"radio\\/TV\",\"age\":20},{\"risk\":1,\"sex\":\"male\",\"job\":3,\"housing\":\"own\",\"saving_accounts\":\"little\",\"checking_account\":\"not_known\",\"credit_amount\":7253,\"duration\":33,\"purpose\":\"car\",\"age\":35},{\"risk\":0,\"sex\":\"male\",\"job\":3,\"housing\":\"own\",\"saving_accounts\":\"little\",\"checking_account\":\"not_known\",\"credit_amount\":2292,\"duration\":12,\"purpose\":\"business\",\"age\":42},{\"risk\":1,\"sex\":\"male\",\"job\":1,\"housing\":\"rent\",\"saving_accounts\":\"quite rich\",\"checking_account\":\"not_known\",\"credit_amount\":1597,\"duration\":10,\"purpose\":\"car\",\"age\":40},{\"risk\":0,\"sex\":\"female\",\"job\":2,\"housing\":\"own\",\"saving_accounts\":\"not_known\",\"checking_account\":\"little\",\"credit_amount\":1381,\"duration\":24,\"purpose\":\"car\",\"age\":35},{\"risk\":1,\"sex\":\"male\",\"job\":2,\"housing\":\"own\",\"saving_accounts\":\"little\",\"checking_account\":\"not_known\",\"credit_amount\":5842,\"duration\":36,\"purpose\":\"car\",\"age\":35},{\"risk\":0,\"sex\":\"male\",\"job\":1,\"housing\":\"own\",\"saving_accounts\":\"little\",\"checking_account\":\"little\",\"credit_amount\":2579,\"duration\":12,\"purpose\":\"car\",\"age\":33},{\"risk\":1,\"sex\":\"female\",\"job\":2,\"housing\":\"rent\",\"saving_accounts\":\"not_known\",\"checking_account\":\"little\",\"credit_amount\":8471,\"duration\":18,\"purpose\":\"education\",\"age\":23},{\"risk\":1,\"sex\":\"female\",\"job\":3,\"housing\":\"own\",\"saving_accounts\":\"quite rich\",\"checking_account\":\"not_known\",\"credit_amount\":2782,\"duration\":21,\"purpose\":\"car\",\"age\":31},{\"risk\":0,\"sex\":\"female\",\"job\":2,\"housing\":\"own\",\"saving_accounts\":\"not_known\",\"checking_account\":\"moderate\",\"credit_amount\":1042,\"duration\":18,\"purpose\":\"car\",\"age\":33},{\"risk\":1,\"sex\":\"female\",\"job\":2,\"housing\":\"rent\",\"saving_accounts\":\"rich\",\"checking_account\":\"not_known\",\"credit_amount\":3186,\"duration\":15,\"purpose\":\"car\",\"age\":20},{\"risk\":1,\"sex\":\"male\",\"job\":2,\"housing\":\"own\",\"saving_accounts\":\"not_known\",\"checking_account\":\"moderate\",\"credit_amount\":2028,\"duration\":12,\"purpose\":\"car\",\"age\":30},{\"risk\":1,\"sex\":\"male\",\"job\":1,\"housing\":\"own\",\"saving_accounts\":\"little\",\"checking_account\":\"moderate\",\"credit_amount\":958,\"duration\":12,\"purpose\":\"car\",\"age\":47},{\"risk\":1,\"sex\":\"male\",\"job\":3,\"housing\":\"own\",\"saving_accounts\":\"moderate\",\"checking_account\":\"not_known\",\"credit_amount\":1591,\"duration\":21,\"purpose\":\"furniture\\/equipment\",\"age\":34},{\"risk\":0,\"sex\":\"female\",\"job\":2,\"housing\":\"own\",\"saving_accounts\":\"not_known\",\"checking_account\":\"moderate\",\"credit_amount\":2762,\"duration\":12,\"purpose\":\"furniture\\/equipment\",\"age\":25},{\"risk\":1,\"sex\":\"male\",\"job\":2,\"housing\":\"rent\",\"saving_accounts\":\"little\",\"checking_account\":\"moderate\",\"credit_amount\":2779,\"duration\":18,\"purpose\":\"car\",\"age\":21},{\"risk\":1,\"sex\":\"male\",\"job\":2,\"housing\":\"own\",\"saving_accounts\":\"little\",\"checking_account\":\"not_known\",\"credit_amount\":2743,\"duration\":28,\"purpose\":\"radio\\/TV\",\"age\":29},{\"risk\":1,\"sex\":\"male\",\"job\":2,\"housing\":\"own\",\"saving_accounts\":\"rich\",\"checking_account\":\"not_known\",\"credit_amount\":1149,\"duration\":18,\"purpose\":\"radio\\/TV\",\"age\":46},{\"risk\":1,\"sex\":\"male\",\"job\":2,\"housing\":\"own\",\"saving_accounts\":\"little\",\"checking_account\":\"not_known\",\"credit_amount\":1313,\"duration\":9,\"purpose\":\"furniture\\/equipment\",\"age\":20},{\"risk\":0,\"sex\":\"female\",\"job\":0,\"housing\":\"free\",\"saving_accounts\":\"little\",\"checking_account\":\"little\",\"credit_amount\":1190,\"duration\":18,\"purpose\":\"repairs\",\"age\":55},{\"risk\":1,\"sex\":\"male\",\"job\":1,\"housing\":\"own\",\"saving_accounts\":\"little\",\"checking_account\":\"not_known\",\"credit_amount\":3448,\"duration\":5,\"purpose\":\"business\",\"age\":74},{\"risk\":0,\"sex\":\"male\",\"job\":3,\"housing\":\"own\",\"saving_accounts\":\"little\",\"checking_account\":\"moderate\",\"credit_amount\":11328,\"duration\":24,\"purpose\":\"vacation\\/others\",\"age\":29},{\"risk\":1,\"sex\":\"male\",\"job\":3,\"housing\":\"free\",\"saving_accounts\":\"little\",\"checking_account\":\"little\",\"credit_amount\":1872,\"duration\":6,\"purpose\":\"furniture\\/equipment\",\"age\":36},{\"risk\":1,\"sex\":\"male\",\"job\":2,\"housing\":\"own\",\"saving_accounts\":\"little\",\"checking_account\":\"not_known\",\"credit_amount\":2058,\"duration\":24,\"purpose\":\"repairs\",\"age\":33},{\"risk\":1,\"sex\":\"male\",\"job\":2,\"housing\":\"own\",\"saving_accounts\":\"little\",\"checking_account\":\"little\",\"credit_amount\":2136,\"duration\":9,\"purpose\":\"furniture\\/equipment\",\"age\":25},{\"risk\":0,\"sex\":\"male\",\"job\":2,\"housing\":\"own\",\"saving_accounts\":\"not_known\",\"checking_account\":\"moderate\",\"credit_amount\":1484,\"duration\":12,\"purpose\":\"radio\\/TV\",\"age\":25},{\"risk\":1,\"sex\":\"male\",\"job\":1,\"housing\":\"rent\",\"saving_accounts\":\"quite rich\",\"checking_account\":\"not_known\",\"credit_amount\":660,\"duration\":6,\"purpose\":\"repairs\",\"age\":23},{\"risk\":1,\"sex\":\"female\",\"job\":2,\"housing\":\"own\",\"saving_accounts\":\"rich\",\"checking_account\":\"not_known\",\"credit_amount\":1287,\"duration\":24,\"purpose\":\"car\",\"age\":37},{\"risk\":1,\"sex\":\"male\",\"job\":0,\"housing\":\"own\",\"saving_accounts\":\"little\",\"checking_account\":\"little\",\"credit_amount\":3394,\"duration\":42,\"purpose\":\"repairs\",\"age\":65},{\"risk\":0,\"sex\":\"female\",\"job\":0,\"housing\":\"own\",\"saving_accounts\":\"little\",\"checking_account\":\"rich\",\"credit_amount\":609,\"duration\":12,\"purpose\":\"business\",\"age\":26},{\"risk\":1,\"sex\":\"male\",\"job\":3,\"housing\":\"own\",\"saving_accounts\":\"little\",\"checking_account\":\"not_known\",\"credit_amount\":1884,\"duration\":12,\"purpose\":\"car\",\"age\":39},{\"risk\":1,\"sex\":\"female\",\"job\":2,\"housing\":\"own\",\"saving_accounts\":\"little\",\"checking_account\":\"little\",\"credit_amount\":1620,\"duration\":12,\"purpose\":\"furniture\\/equipment\",\"age\":30},{\"risk\":1,\"sex\":\"male\",\"job\":2,\"housing\":\"own\",\"saving_accounts\":\"little\",\"checking_account\":\"moderate\",\"credit_amount\":2629,\"duration\":20,\"purpose\":\"vacation\\/others\",\"age\":29},{\"risk\":0,\"sex\":\"male\",\"job\":1,\"housing\":\"own\",\"saving_accounts\":\"little\",\"checking_account\":\"not_known\",\"credit_amount\":719,\"duration\":12,\"purpose\":\"education\",\"age\":41},{\"risk\":0,\"sex\":\"female\",\"job\":3,\"housing\":\"own\",\"saving_accounts\":\"little\",\"checking_account\":\"moderate\",\"credit_amount\":5096,\"duration\":48,\"purpose\":\"furniture\\/equipment\",\"age\":30},{\"risk\":1,\"sex\":\"female\",\"job\":1,\"housing\":\"rent\",\"saving_accounts\":\"not_known\",\"checking_account\":\"not_known\",\"credit_amount\":1244,\"duration\":9,\"purpose\":\"education\",\"age\":41},{\"risk\":0,\"sex\":\"female\",\"job\":2,\"housing\":\"own\",\"saving_accounts\":\"little\",\"checking_account\":\"little\",\"credit_amount\":1842,\"duration\":36,\"purpose\":\"car\",\"age\":34},{\"risk\":1,\"sex\":\"male\",\"job\":2,\"housing\":\"own\",\"saving_accounts\":\"little\",\"checking_account\":\"moderate\",\"credit_amount\":2576,\"duration\":7,\"purpose\":\"radio\\/TV\",\"age\":35},{\"risk\":1,\"sex\":\"female\",\"job\":3,\"housing\":\"own\",\"saving_accounts\":\"not_known\",\"checking_account\":\"rich\",\"credit_amount\":1424,\"duration\":12,\"purpose\":\"furniture\\/equipment\",\"age\":55},{\"risk\":0,\"sex\":\"male\",\"job\":2,\"housing\":\"own\",\"saving_accounts\":\"rich\",\"checking_account\":\"moderate\",\"credit_amount\":1512,\"duration\":15,\"purpose\":\"repairs\",\"age\":61},{\"risk\":1,\"sex\":\"male\",\"job\":3,\"housing\":\"own\",\"saving_accounts\":\"not_known\",\"checking_account\":\"not_known\",\"credit_amount\":11054,\"duration\":36,\"purpose\":\"car\",\"age\":30},{\"risk\":1,\"sex\":\"female\",\"job\":2,\"housing\":\"own\",\"saving_accounts\":\"little\",\"checking_account\":\"not_known\",\"credit_amount\":518,\"duration\":6,\"purpose\":\"radio\\/TV\",\"age\":29},{\"risk\":1,\"sex\":\"male\",\"job\":2,\"housing\":\"own\",\"saving_accounts\":\"little\",\"checking_account\":\"not_known\",\"credit_amount\":2759,\"duration\":12,\"purpose\":\"furniture\\/equipment\",\"age\":34},{\"risk\":1,\"sex\":\"male\",\"job\":3,\"housing\":\"own\",\"saving_accounts\":\"little\",\"checking_account\":\"not_known\",\"credit_amount\":2670,\"duration\":24,\"purpose\":\"car\",\"age\":35},{\"risk\":0,\"sex\":\"male\",\"job\":2,\"housing\":\"own\",\"saving_accounts\":\"little\",\"checking_account\":\"little\",\"credit_amount\":4817,\"duration\":24,\"purpose\":\"car\",\"age\":31},{\"risk\":1,\"sex\":\"female\",\"job\":3,\"housing\":\"own\",\"saving_accounts\":\"little\",\"checking_account\":\"not_known\",\"credit_amount\":2679,\"duration\":24,\"purpose\":\"car\",\"age\":29},{\"risk\":1,\"sex\":\"male\",\"job\":2,\"housing\":\"rent\",\"saving_accounts\":\"little\",\"checking_account\":\"little\",\"credit_amount\":3905,\"duration\":11,\"purpose\":\"car\",\"age\":36},{\"risk\":0,\"sex\":\"male\",\"job\":2,\"housing\":\"free\",\"saving_accounts\":\"little\",\"checking_account\":\"little\",\"credit_amount\":3386,\"duration\":12,\"purpose\":\"car\",\"age\":35},{\"risk\":1,\"sex\":\"female\",\"job\":2,\"housing\":\"own\",\"saving_accounts\":\"little\",\"checking_account\":\"little\",\"credit_amount\":343,\"duration\":6,\"purpose\":\"domestic appliances\",\"age\":27},{\"risk\":1,\"sex\":\"male\",\"job\":2,\"housing\":\"own\",\"saving_accounts\":\"little\",\"checking_account\":\"not_known\",\"credit_amount\":4594,\"duration\":18,\"purpose\":\"radio\\/TV\",\"age\":32},{\"risk\":1,\"sex\":\"male\",\"job\":2,\"housing\":\"own\",\"saving_accounts\":\"little\",\"checking_account\":\"little\",\"credit_amount\":3620,\"duration\":36,\"purpose\":\"furniture\\/equipment\",\"age\":37},{\"risk\":1,\"sex\":\"male\",\"job\":2,\"housing\":\"own\",\"saving_accounts\":\"little\",\"checking_account\":\"little\",\"credit_amount\":1721,\"duration\":15,\"purpose\":\"car\",\"age\":36},{\"risk\":1,\"sex\":\"female\",\"job\":3,\"housing\":\"rent\",\"saving_accounts\":\"little\",\"checking_account\":\"moderate\",\"credit_amount\":3017,\"duration\":12,\"purpose\":\"furniture\\/equipment\",\"age\":34},{\"risk\":1,\"sex\":\"male\",\"job\":2,\"housing\":\"own\",\"saving_accounts\":\"not_known\",\"checking_account\":\"moderate\",\"credit_amount\":754,\"duration\":12,\"purpose\":\"education\",\"age\":38},{\"risk\":1,\"sex\":\"male\",\"job\":2,\"housing\":\"own\",\"saving_accounts\":\"little\",\"checking_account\":\"not_known\",\"credit_amount\":1950,\"duration\":18,\"purpose\":\"business\",\"age\":34},{\"risk\":1,\"sex\":\"male\",\"job\":2,\"housing\":\"own\",\"saving_accounts\":\"little\",\"checking_account\":\"little\",\"credit_amount\":2924,\"duration\":24,\"purpose\":\"car\",\"age\":63},{\"risk\":0,\"sex\":\"female\",\"job\":1,\"housing\":\"rent\",\"saving_accounts\":\"little\",\"checking_account\":\"little\",\"credit_amount\":1659,\"duration\":24,\"purpose\":\"radio\\/TV\",\"age\":29},{\"risk\":1,\"sex\":\"male\",\"job\":2,\"housing\":\"own\",\"saving_accounts\":\"not_known\",\"checking_account\":\"not_known\",\"credit_amount\":7238,\"duration\":48,\"purpose\":\"radio\\/TV\",\"age\":32},{\"risk\":1,\"sex\":\"female\",\"job\":2,\"housing\":\"own\",\"saving_accounts\":\"little\",\"checking_account\":\"not_known\",\"credit_amount\":2764,\"duration\":33,\"purpose\":\"business\",\"age\":26},{\"risk\":1,\"sex\":\"male\",\"job\":1,\"housing\":\"own\",\"saving_accounts\":\"little\",\"checking_account\":\"not_known\",\"credit_amount\":4679,\"duration\":24,\"purpose\":\"car\",\"age\":35},{\"risk\":0,\"sex\":\"male\",\"job\":2,\"housing\":\"rent\",\"saving_accounts\":\"moderate\",\"checking_account\":\"moderate\",\"credit_amount\":3092,\"duration\":24,\"purpose\":\"radio\\/TV\",\"age\":22},{\"risk\":0,\"sex\":\"female\",\"job\":2,\"housing\":\"own\",\"saving_accounts\":\"little\",\"checking_account\":\"little\",\"credit_amount\":448,\"duration\":6,\"purpose\":\"education\",\"age\":23},{\"risk\":0,\"sex\":\"male\",\"job\":1,\"housing\":\"own\",\"saving_accounts\":\"little\",\"checking_account\":\"little\",\"credit_amount\":654,\"duration\":9,\"purpose\":\"car\",\"age\":28},{\"risk\":1,\"sex\":\"male\",\"job\":3,\"housing\":\"own\",\"saving_accounts\":\"not_known\",\"checking_account\":\"not_known\",\"credit_amount\":1238,\"duration\":6,\"purpose\":\"education\",\"age\":36},{\"risk\":0,\"sex\":\"male\",\"job\":2,\"housing\":\"own\",\"saving_accounts\":\"little\",\"checking_account\":\"moderate\",\"credit_amount\":1245,\"duration\":18,\"purpose\":\"radio\\/TV\",\"age\":33},{\"risk\":0,\"sex\":\"female\",\"job\":2,\"housing\":\"rent\",\"saving_accounts\":\"little\",\"checking_account\":\"little\",\"credit_amount\":3114,\"duration\":18,\"purpose\":\"furniture\\/equipment\",\"age\":26},{\"risk\":1,\"sex\":\"male\",\"job\":2,\"housing\":\"own\",\"saving_accounts\":\"quite rich\",\"checking_account\":\"not_known\",\"credit_amount\":2569,\"duration\":39,\"purpose\":\"car\",\"age\":24},{\"risk\":1,\"sex\":\"male\",\"job\":2,\"housing\":\"own\",\"saving_accounts\":\"little\",\"checking_account\":\"rich\",\"credit_amount\":5152,\"duration\":24,\"purpose\":\"radio\\/TV\",\"age\":25},{\"risk\":1,\"sex\":\"male\",\"job\":1,\"housing\":\"own\",\"saving_accounts\":\"moderate\",\"checking_account\":\"moderate\",\"credit_amount\":1037,\"duration\":12,\"purpose\":\"business\",\"age\":39},{\"risk\":1,\"sex\":\"male\",\"job\":2,\"housing\":\"own\",\"saving_accounts\":\"little\",\"checking_account\":\"little\",\"credit_amount\":1478,\"duration\":15,\"purpose\":\"furniture\\/equipment\",\"age\":44},{\"risk\":1,\"sex\":\"female\",\"job\":1,\"housing\":\"own\",\"saving_accounts\":\"little\",\"checking_account\":\"moderate\",\"credit_amount\":3573,\"duration\":12,\"purpose\":\"radio\\/TV\",\"age\":23},{\"risk\":1,\"sex\":\"male\",\"job\":2,\"housing\":\"own\",\"saving_accounts\":\"little\",\"checking_account\":\"moderate\",\"credit_amount\":1201,\"duration\":24,\"purpose\":\"car\",\"age\":26},{\"risk\":1,\"sex\":\"female\",\"job\":2,\"housing\":\"rent\",\"saving_accounts\":\"rich\",\"checking_account\":\"little\",\"credit_amount\":3622,\"duration\":30,\"purpose\":\"furniture\\/equipment\",\"age\":57},{\"risk\":1,\"sex\":\"female\",\"job\":2,\"housing\":\"own\",\"saving_accounts\":\"rich\",\"checking_account\":\"not_known\",\"credit_amount\":960,\"duration\":15,\"purpose\":\"furniture\\/equipment\",\"age\":30},{\"risk\":1,\"sex\":\"male\",\"job\":2,\"housing\":\"own\",\"saving_accounts\":\"quite rich\",\"checking_account\":\"not_known\",\"credit_amount\":1163,\"duration\":12,\"purpose\":\"car\",\"age\":44},{\"risk\":0,\"sex\":\"male\",\"job\":3,\"housing\":\"own\",\"saving_accounts\":\"little\",\"checking_account\":\"moderate\",\"credit_amount\":1209,\"duration\":6,\"purpose\":\"car\",\"age\":47},{\"risk\":1,\"sex\":\"male\",\"job\":2,\"housing\":\"own\",\"saving_accounts\":\"little\",\"checking_account\":\"not_known\",\"credit_amount\":3077,\"duration\":12,\"purpose\":\"radio\\/TV\",\"age\":52},{\"risk\":1,\"sex\":\"female\",\"job\":2,\"housing\":\"free\",\"saving_accounts\":\"little\",\"checking_account\":\"not_known\",\"credit_amount\":3757,\"duration\":24,\"purpose\":\"car\",\"age\":62},{\"risk\":1,\"sex\":\"male\",\"job\":1,\"housing\":\"rent\",\"saving_accounts\":\"moderate\",\"checking_account\":\"not_known\",\"credit_amount\":1418,\"duration\":10,\"purpose\":\"car\",\"age\":35},{\"risk\":1,\"sex\":\"male\",\"job\":2,\"housing\":\"rent\",\"saving_accounts\":\"little\",\"checking_account\":\"not_known\",\"credit_amount\":3518,\"duration\":6,\"purpose\":\"car\",\"age\":26},{\"risk\":1,\"sex\":\"male\",\"job\":2,\"housing\":\"own\",\"saving_accounts\":\"little\",\"checking_account\":\"not_known\",\"credit_amount\":1934,\"duration\":12,\"purpose\":\"radio\\/TV\",\"age\":26},{\"risk\":0,\"sex\":\"female\",\"job\":3,\"housing\":\"free\",\"saving_accounts\":\"little\",\"checking_account\":\"moderate\",\"credit_amount\":8318,\"duration\":27,\"purpose\":\"business\",\"age\":42},{\"risk\":1,\"sex\":\"female\",\"job\":2,\"housing\":\"own\",\"saving_accounts\":\"moderate\",\"checking_account\":\"not_known\",\"credit_amount\":1237,\"duration\":6,\"purpose\":\"radio\\/TV\",\"age\":27},{\"risk\":1,\"sex\":\"male\",\"job\":2,\"housing\":\"own\",\"saving_accounts\":\"not_known\",\"checking_account\":\"moderate\",\"credit_amount\":368,\"duration\":6,\"purpose\":\"radio\\/TV\",\"age\":38},{\"risk\":1,\"sex\":\"male\",\"job\":1,\"housing\":\"rent\",\"saving_accounts\":\"little\",\"checking_account\":\"little\",\"credit_amount\":2122,\"duration\":12,\"purpose\":\"car\",\"age\":39},{\"risk\":0,\"sex\":\"male\",\"job\":2,\"housing\":\"own\",\"saving_accounts\":\"not_known\",\"checking_account\":\"little\",\"credit_amount\":2996,\"duration\":24,\"purpose\":\"furniture\\/equipment\",\"age\":20},{\"risk\":0,\"sex\":\"male\",\"job\":3,\"housing\":\"rent\",\"saving_accounts\":\"moderate\",\"checking_account\":\"moderate\",\"credit_amount\":9034,\"duration\":36,\"purpose\":\"furniture\\/equipment\",\"age\":29},{\"risk\":1,\"sex\":\"male\",\"job\":2,\"housing\":\"own\",\"saving_accounts\":\"little\",\"checking_account\":\"not_known\",\"credit_amount\":1585,\"duration\":24,\"purpose\":\"furniture\\/equipment\",\"age\":40},{\"risk\":1,\"sex\":\"male\",\"job\":1,\"housing\":\"own\",\"saving_accounts\":\"little\",\"checking_account\":\"moderate\",\"credit_amount\":1301,\"duration\":18,\"purpose\":\"radio\\/TV\",\"age\":32},{\"risk\":1,\"sex\":\"male\",\"job\":2,\"housing\":\"own\",\"saving_accounts\":\"moderate\",\"checking_account\":\"rich\",\"credit_amount\":1323,\"duration\":6,\"purpose\":\"car\",\"age\":28},{\"risk\":0,\"sex\":\"female\",\"job\":2,\"housing\":\"own\",\"saving_accounts\":\"little\",\"checking_account\":\"little\",\"credit_amount\":3123,\"duration\":24,\"purpose\":\"car\",\"age\":27},{\"risk\":1,\"sex\":\"male\",\"job\":2,\"housing\":\"free\",\"saving_accounts\":\"little\",\"checking_account\":\"little\",\"credit_amount\":5493,\"duration\":36,\"purpose\":\"car\",\"age\":42},{\"risk\":1,\"sex\":\"male\",\"job\":2,\"housing\":\"own\",\"saving_accounts\":\"moderate\",\"checking_account\":\"rich\",\"credit_amount\":1126,\"duration\":9,\"purpose\":\"radio\\/TV\",\"age\":49},{\"risk\":0,\"sex\":\"male\",\"job\":2,\"housing\":\"own\",\"saving_accounts\":\"moderate\",\"checking_account\":\"moderate\",\"credit_amount\":1216,\"duration\":24,\"purpose\":\"radio\\/TV\",\"age\":38},{\"risk\":0,\"sex\":\"female\",\"job\":2,\"housing\":\"rent\",\"saving_accounts\":\"little\",\"checking_account\":\"little\",\"credit_amount\":1207,\"duration\":24,\"purpose\":\"car\",\"age\":24},{\"risk\":0,\"sex\":\"male\",\"job\":1,\"housing\":\"own\",\"saving_accounts\":\"not_known\",\"checking_account\":\"not_known\",\"credit_amount\":1309,\"duration\":10,\"purpose\":\"car\",\"age\":27},{\"risk\":1,\"sex\":\"male\",\"job\":2,\"housing\":\"own\",\"saving_accounts\":\"quite rich\",\"checking_account\":\"rich\",\"credit_amount\":2360,\"duration\":15,\"purpose\":\"car\",\"age\":36},{\"risk\":0,\"sex\":\"male\",\"job\":3,\"housing\":\"own\",\"saving_accounts\":\"moderate\",\"checking_account\":\"moderate\",\"credit_amount\":6850,\"duration\":15,\"purpose\":\"car\",\"age\":34},{\"risk\":1,\"sex\":\"male\",\"job\":2,\"housing\":\"own\",\"saving_accounts\":\"little\",\"checking_account\":\"not_known\",\"credit_amount\":1413,\"duration\":24,\"purpose\":\"radio\\/TV\",\"age\":28},{\"risk\":1,\"sex\":\"male\",\"job\":3,\"housing\":\"own\",\"saving_accounts\":\"moderate\",\"checking_account\":\"not_known\",\"credit_amount\":8588,\"duration\":39,\"purpose\":\"car\",\"age\":45},{\"risk\":0,\"sex\":\"male\",\"job\":2,\"housing\":\"own\",\"saving_accounts\":\"little\",\"checking_account\":\"little\",\"credit_amount\":759,\"duration\":12,\"purpose\":\"car\",\"age\":26},{\"risk\":1,\"sex\":\"male\",\"job\":3,\"housing\":\"free\",\"saving_accounts\":\"little\",\"checking_account\":\"not_known\",\"credit_amount\":4686,\"duration\":36,\"purpose\":\"car\",\"age\":32},{\"risk\":1,\"sex\":\"male\",\"job\":2,\"housing\":\"rent\",\"saving_accounts\":\"little\",\"checking_account\":\"rich\",\"credit_amount\":2687,\"duration\":15,\"purpose\":\"business\",\"age\":26},{\"risk\":1,\"sex\":\"male\",\"job\":2,\"housing\":\"rent\",\"saving_accounts\":\"little\",\"checking_account\":\"moderate\",\"credit_amount\":585,\"duration\":12,\"purpose\":\"radio\\/TV\",\"age\":20},{\"risk\":1,\"sex\":\"male\",\"job\":2,\"housing\":\"own\",\"saving_accounts\":\"not_known\",\"checking_account\":\"not_known\",\"credit_amount\":2255,\"duration\":24,\"purpose\":\"car\",\"age\":54},{\"risk\":1,\"sex\":\"female\",\"job\":2,\"housing\":\"own\",\"saving_accounts\":\"little\",\"checking_account\":\"little\",\"credit_amount\":609,\"duration\":6,\"purpose\":\"car\",\"age\":37},{\"risk\":1,\"sex\":\"male\",\"job\":1,\"housing\":\"own\",\"saving_accounts\":\"little\",\"checking_account\":\"little\",\"credit_amount\":1361,\"duration\":6,\"purpose\":\"car\",\"age\":40},{\"risk\":0,\"sex\":\"female\",\"job\":2,\"housing\":\"rent\",\"saving_accounts\":\"little\",\"checking_account\":\"not_known\",\"credit_amount\":7127,\"duration\":36,\"purpose\":\"furniture\\/equipment\",\"age\":23},{\"risk\":1,\"sex\":\"male\",\"job\":2,\"housing\":\"own\",\"saving_accounts\":\"moderate\",\"checking_account\":\"little\",\"credit_amount\":1203,\"duration\":6,\"purpose\":\"car\",\"age\":43},{\"risk\":1,\"sex\":\"male\",\"job\":2,\"housing\":\"free\",\"saving_accounts\":\"not_known\",\"checking_account\":\"not_known\",\"credit_amount\":700,\"duration\":6,\"purpose\":\"radio\\/TV\",\"age\":36},{\"risk\":1,\"sex\":\"male\",\"job\":2,\"housing\":\"free\",\"saving_accounts\":\"little\",\"checking_account\":\"not_known\",\"credit_amount\":5507,\"duration\":24,\"purpose\":\"repairs\",\"age\":44},{\"risk\":0,\"sex\":\"female\",\"job\":2,\"housing\":\"own\",\"saving_accounts\":\"little\",\"checking_account\":\"little\",\"credit_amount\":3190,\"duration\":18,\"purpose\":\"radio\\/TV\",\"age\":24},{\"risk\":0,\"sex\":\"male\",\"job\":2,\"housing\":\"free\",\"saving_accounts\":\"little\",\"checking_account\":\"little\",\"credit_amount\":7119,\"duration\":48,\"purpose\":\"furniture\\/equipment\",\"age\":53},{\"risk\":1,\"sex\":\"female\",\"job\":2,\"housing\":\"own\",\"saving_accounts\":\"moderate\",\"checking_account\":\"not_known\",\"credit_amount\":3488,\"duration\":24,\"purpose\":\"car\",\"age\":23},{\"risk\":1,\"sex\":\"female\",\"job\":1,\"housing\":\"own\",\"saving_accounts\":\"little\",\"checking_account\":\"moderate\",\"credit_amount\":1113,\"duration\":18,\"purpose\":\"radio\\/TV\",\"age\":26},{\"risk\":1,\"sex\":\"male\",\"job\":2,\"housing\":\"own\",\"saving_accounts\":\"little\",\"checking_account\":\"moderate\",\"credit_amount\":7966,\"duration\":26,\"purpose\":\"car\",\"age\":30},{\"risk\":1,\"sex\":\"female\",\"job\":2,\"housing\":\"own\",\"saving_accounts\":\"moderate\",\"checking_account\":\"not_known\",\"credit_amount\":1532,\"duration\":15,\"purpose\":\"education\",\"age\":31},{\"risk\":1,\"sex\":\"male\",\"job\":1,\"housing\":\"own\",\"saving_accounts\":\"little\",\"checking_account\":\"not_known\",\"credit_amount\":1503,\"duration\":4,\"purpose\":\"radio\\/TV\",\"age\":42},{\"risk\":0,\"sex\":\"male\",\"job\":2,\"housing\":\"rent\",\"saving_accounts\":\"little\",\"checking_account\":\"little\",\"credit_amount\":2302,\"duration\":36,\"purpose\":\"radio\\/TV\",\"age\":31},{\"risk\":1,\"sex\":\"male\",\"job\":1,\"housing\":\"own\",\"saving_accounts\":\"little\",\"checking_account\":\"little\",\"credit_amount\":662,\"duration\":6,\"purpose\":\"car\",\"age\":41},{\"risk\":1,\"sex\":\"male\",\"job\":2,\"housing\":\"own\",\"saving_accounts\":\"little\",\"checking_account\":\"moderate\",\"credit_amount\":2273,\"duration\":36,\"purpose\":\"education\",\"age\":32},{\"risk\":0,\"sex\":\"female\",\"job\":2,\"housing\":\"rent\",\"saving_accounts\":\"moderate\",\"checking_account\":\"moderate\",\"credit_amount\":2631,\"duration\":15,\"purpose\":\"car\",\"age\":28},{\"risk\":1,\"sex\":\"male\",\"job\":2,\"housing\":\"rent\",\"saving_accounts\":\"little\",\"checking_account\":\"not_known\",\"credit_amount\":1503,\"duration\":12,\"purpose\":\"car\",\"age\":41},{\"risk\":1,\"sex\":\"male\",\"job\":2,\"housing\":\"own\",\"saving_accounts\":\"moderate\",\"checking_account\":\"not_known\",\"credit_amount\":1311,\"duration\":24,\"purpose\":\"radio\\/TV\",\"age\":26},{\"risk\":1,\"sex\":\"male\",\"job\":2,\"housing\":\"own\",\"saving_accounts\":\"not_known\",\"checking_account\":\"not_known\",\"credit_amount\":3105,\"duration\":24,\"purpose\":\"radio\\/TV\",\"age\":25},{\"risk\":0,\"sex\":\"male\",\"job\":2,\"housing\":\"rent\",\"saving_accounts\":\"little\",\"checking_account\":\"rich\",\"credit_amount\":2319,\"duration\":21,\"purpose\":\"education\",\"age\":33},{\"risk\":1,\"sex\":\"female\",\"job\":3,\"housing\":\"own\",\"saving_accounts\":\"not_known\",\"checking_account\":\"little\",\"credit_amount\":1374,\"duration\":6,\"purpose\":\"car\",\"age\":75},{\"risk\":1,\"sex\":\"female\",\"job\":2,\"housing\":\"own\",\"saving_accounts\":\"little\",\"checking_account\":\"moderate\",\"credit_amount\":3612,\"duration\":18,\"purpose\":\"furniture\\/equipment\",\"age\":37},{\"risk\":0,\"sex\":\"male\",\"job\":3,\"housing\":\"free\",\"saving_accounts\":\"little\",\"checking_account\":\"little\",\"credit_amount\":7763,\"duration\":48,\"purpose\":\"car\",\"age\":42},{\"risk\":1,\"sex\":\"female\",\"job\":1,\"housing\":\"own\",\"saving_accounts\":\"little\",\"checking_account\":\"rich\",\"credit_amount\":3049,\"duration\":18,\"purpose\":\"furniture\\/equipment\",\"age\":45},{\"risk\":0,\"sex\":\"male\",\"job\":2,\"housing\":\"rent\",\"saving_accounts\":\"little\",\"checking_account\":\"moderate\",\"credit_amount\":1534,\"duration\":12,\"purpose\":\"radio\\/TV\",\"age\":23},{\"risk\":1,\"sex\":\"male\",\"job\":2,\"housing\":\"free\",\"saving_accounts\":\"little\",\"checking_account\":\"not_known\",\"credit_amount\":2032,\"duration\":24,\"purpose\":\"car\",\"age\":60},{\"risk\":0,\"sex\":\"male\",\"job\":2,\"housing\":\"own\",\"saving_accounts\":\"not_known\",\"checking_account\":\"little\",\"credit_amount\":6350,\"duration\":30,\"purpose\":\"furniture\\/equipment\",\"age\":31},{\"risk\":0,\"sex\":\"male\",\"job\":1,\"housing\":\"own\",\"saving_accounts\":\"little\",\"checking_account\":\"rich\",\"credit_amount\":2864,\"duration\":18,\"purpose\":\"furniture\\/equipment\",\"age\":34},{\"risk\":1,\"sex\":\"male\",\"job\":1,\"housing\":\"own\",\"saving_accounts\":\"little\",\"checking_account\":\"not_known\",\"credit_amount\":1255,\"duration\":12,\"purpose\":\"car\",\"age\":61},{\"risk\":0,\"sex\":\"male\",\"job\":2,\"housing\":\"free\",\"saving_accounts\":\"little\",\"checking_account\":\"little\",\"credit_amount\":1333,\"duration\":24,\"purpose\":\"car\",\"age\":43},{\"risk\":1,\"sex\":\"female\",\"job\":2,\"housing\":\"own\",\"saving_accounts\":\"little\",\"checking_account\":\"not_known\",\"credit_amount\":2022,\"duration\":24,\"purpose\":\"car\",\"age\":37},{\"risk\":1,\"sex\":\"male\",\"job\":2,\"housing\":\"own\",\"saving_accounts\":\"little\",\"checking_account\":\"not_known\",\"credit_amount\":1552,\"duration\":24,\"purpose\":\"radio\\/TV\",\"age\":32},{\"risk\":0,\"sex\":\"female\",\"job\":1,\"housing\":\"own\",\"saving_accounts\":\"little\",\"checking_account\":\"little\",\"credit_amount\":626,\"duration\":12,\"purpose\":\"radio\\/TV\",\"age\":24},{\"risk\":1,\"sex\":\"male\",\"job\":2,\"housing\":\"free\",\"saving_accounts\":\"not_known\",\"checking_account\":\"not_known\",\"credit_amount\":8858,\"duration\":48,\"purpose\":\"car\",\"age\":35},{\"risk\":1,\"sex\":\"female\",\"job\":2,\"housing\":\"own\",\"saving_accounts\":\"not_known\",\"checking_account\":\"not_known\",\"credit_amount\":996,\"duration\":12,\"purpose\":\"repairs\",\"age\":23},{\"risk\":1,\"sex\":\"male\",\"job\":1,\"housing\":\"own\",\"saving_accounts\":\"quite rich\",\"checking_account\":\"not_known\",\"credit_amount\":1750,\"duration\":6,\"purpose\":\"radio\\/TV\",\"age\":45},{\"risk\":0,\"sex\":\"male\",\"job\":2,\"housing\":\"own\",\"saving_accounts\":\"little\",\"checking_account\":\"little\",\"credit_amount\":6999,\"duration\":48,\"purpose\":\"radio\\/TV\",\"age\":34},{\"risk\":1,\"sex\":\"male\",\"job\":2,\"housing\":\"own\",\"saving_accounts\":\"moderate\",\"checking_account\":\"moderate\",\"credit_amount\":1995,\"duration\":12,\"purpose\":\"car\",\"age\":27},{\"risk\":1,\"sex\":\"female\",\"job\":3,\"housing\":\"own\",\"saving_accounts\":\"little\",\"checking_account\":\"moderate\",\"credit_amount\":1199,\"duration\":9,\"purpose\":\"education\",\"age\":67},{\"risk\":0,\"sex\":\"male\",\"job\":2,\"housing\":\"own\",\"saving_accounts\":\"little\",\"checking_account\":\"moderate\",\"credit_amount\":1331,\"duration\":12,\"purpose\":\"radio\\/TV\",\"age\":22},{\"risk\":0,\"sex\":\"female\",\"job\":2,\"housing\":\"own\",\"saving_accounts\":\"moderate\",\"checking_account\":\"moderate\",\"credit_amount\":2278,\"duration\":18,\"purpose\":\"car\",\"age\":28},{\"risk\":0,\"sex\":\"female\",\"job\":2,\"housing\":\"own\",\"saving_accounts\":\"not_known\",\"checking_account\":\"not_known\",\"credit_amount\":5003,\"duration\":21,\"purpose\":\"car\",\"age\":29},{\"risk\":0,\"sex\":\"male\",\"job\":2,\"housing\":\"own\",\"saving_accounts\":\"little\",\"checking_account\":\"little\",\"credit_amount\":3552,\"duration\":24,\"purpose\":\"furniture\\/equipment\",\"age\":27},{\"risk\":0,\"sex\":\"male\",\"job\":1,\"housing\":\"own\",\"saving_accounts\":\"little\",\"checking_account\":\"moderate\",\"credit_amount\":1928,\"duration\":18,\"purpose\":\"furniture\\/equipment\",\"age\":31},{\"risk\":1,\"sex\":\"male\",\"job\":2,\"housing\":\"free\",\"saving_accounts\":\"not_known\",\"checking_account\":\"little\",\"credit_amount\":2964,\"duration\":24,\"purpose\":\"car\",\"age\":49},{\"risk\":0,\"sex\":\"male\",\"job\":1,\"housing\":\"rent\",\"saving_accounts\":\"little\",\"checking_account\":\"little\",\"credit_amount\":1546,\"duration\":24,\"purpose\":\"radio\\/TV\",\"age\":24},{\"risk\":1,\"sex\":\"female\",\"job\":2,\"housing\":\"own\",\"saving_accounts\":\"little\",\"checking_account\":\"rich\",\"credit_amount\":683,\"duration\":6,\"purpose\":\"radio\\/TV\",\"age\":29},{\"risk\":0,\"sex\":\"male\",\"job\":2,\"housing\":\"free\",\"saving_accounts\":\"not_known\",\"checking_account\":\"moderate\",\"credit_amount\":12389,\"duration\":36,\"purpose\":\"car\",\"age\":37},{\"risk\":1,\"sex\":\"male\",\"job\":3,\"housing\":\"own\",\"saving_accounts\":\"not_known\",\"checking_account\":\"moderate\",\"credit_amount\":4712,\"duration\":24,\"purpose\":\"business\",\"age\":37},{\"risk\":1,\"sex\":\"female\",\"job\":2,\"housing\":\"rent\",\"saving_accounts\":\"moderate\",\"checking_account\":\"moderate\",\"credit_amount\":1553,\"duration\":24,\"purpose\":\"radio\\/TV\",\"age\":23},{\"risk\":0,\"sex\":\"male\",\"job\":2,\"housing\":\"own\",\"saving_accounts\":\"little\",\"checking_account\":\"little\",\"credit_amount\":1372,\"duration\":12,\"purpose\":\"car\",\"age\":36},{\"risk\":1,\"sex\":\"male\",\"job\":2,\"housing\":\"own\",\"saving_accounts\":\"rich\",\"checking_account\":\"not_known\",\"credit_amount\":2578,\"duration\":24,\"purpose\":\"radio\\/TV\",\"age\":34},{\"risk\":1,\"sex\":\"male\",\"job\":2,\"housing\":\"own\",\"saving_accounts\":\"not_known\",\"checking_account\":\"moderate\",\"credit_amount\":3979,\"duration\":48,\"purpose\":\"radio\\/TV\",\"age\":41},{\"risk\":0,\"sex\":\"female\",\"job\":2,\"housing\":\"own\",\"saving_accounts\":\"little\",\"checking_account\":\"little\",\"credit_amount\":6758,\"duration\":48,\"purpose\":\"radio\\/TV\",\"age\":31},{\"risk\":0,\"sex\":\"female\",\"job\":1,\"housing\":\"rent\",\"saving_accounts\":\"little\",\"checking_account\":\"little\",\"credit_amount\":3234,\"duration\":24,\"purpose\":\"furniture\\/equipment\",\"age\":23},{\"risk\":1,\"sex\":\"male\",\"job\":2,\"housing\":\"own\",\"saving_accounts\":\"little\",\"checking_account\":\"not_known\",\"credit_amount\":5954,\"duration\":30,\"purpose\":\"radio\\/TV\",\"age\":38},{\"risk\":1,\"sex\":\"female\",\"job\":3,\"housing\":\"rent\",\"saving_accounts\":\"not_known\",\"checking_account\":\"not_known\",\"credit_amount\":5433,\"duration\":24,\"purpose\":\"car\",\"age\":26},{\"risk\":1,\"sex\":\"female\",\"job\":1,\"housing\":\"own\",\"saving_accounts\":\"little\",\"checking_account\":\"little\",\"credit_amount\":806,\"duration\":15,\"purpose\":\"business\",\"age\":22},{\"risk\":1,\"sex\":\"male\",\"job\":1,\"housing\":\"own\",\"saving_accounts\":\"little\",\"checking_account\":\"moderate\",\"credit_amount\":1082,\"duration\":9,\"purpose\":\"radio\\/TV\",\"age\":27},{\"risk\":1,\"sex\":\"female\",\"job\":2,\"housing\":\"own\",\"saving_accounts\":\"little\",\"checking_account\":\"not_known\",\"credit_amount\":2788,\"duration\":15,\"purpose\":\"furniture\\/equipment\",\"age\":24},{\"risk\":1,\"sex\":\"female\",\"job\":2,\"housing\":\"own\",\"saving_accounts\":\"little\",\"checking_account\":\"moderate\",\"credit_amount\":2930,\"duration\":12,\"purpose\":\"radio\\/TV\",\"age\":27},{\"risk\":1,\"sex\":\"female\",\"job\":2,\"housing\":\"own\",\"saving_accounts\":\"not_known\",\"checking_account\":\"not_known\",\"credit_amount\":1927,\"duration\":24,\"purpose\":\"education\",\"age\":33},{\"risk\":0,\"sex\":\"male\",\"job\":2,\"housing\":\"own\",\"saving_accounts\":\"little\",\"checking_account\":\"moderate\",\"credit_amount\":2820,\"duration\":36,\"purpose\":\"car\",\"age\":27},{\"risk\":1,\"sex\":\"male\",\"job\":1,\"housing\":\"own\",\"saving_accounts\":\"little\",\"checking_account\":\"not_known\",\"credit_amount\":937,\"duration\":24,\"purpose\":\"education\",\"age\":27},{\"risk\":0,\"sex\":\"male\",\"job\":2,\"housing\":\"own\",\"saving_accounts\":\"little\",\"checking_account\":\"moderate\",\"credit_amount\":1056,\"duration\":18,\"purpose\":\"car\",\"age\":30},{\"risk\":1,\"sex\":\"male\",\"job\":1,\"housing\":\"own\",\"saving_accounts\":\"little\",\"checking_account\":\"moderate\",\"credit_amount\":3124,\"duration\":12,\"purpose\":\"car\",\"age\":49},{\"risk\":1,\"sex\":\"female\",\"job\":2,\"housing\":\"rent\",\"saving_accounts\":\"little\",\"checking_account\":\"not_known\",\"credit_amount\":1388,\"duration\":9,\"purpose\":\"furniture\\/equipment\",\"age\":26},{\"risk\":0,\"sex\":\"male\",\"job\":1,\"housing\":\"rent\",\"saving_accounts\":\"little\",\"checking_account\":\"moderate\",\"credit_amount\":2384,\"duration\":36,\"purpose\":\"repairs\",\"age\":33},{\"risk\":1,\"sex\":\"female\",\"job\":3,\"housing\":\"free\",\"saving_accounts\":\"not_known\",\"checking_account\":\"not_known\",\"credit_amount\":2133,\"duration\":12,\"purpose\":\"car\",\"age\":52},{\"risk\":0,\"sex\":\"female\",\"job\":2,\"housing\":\"rent\",\"saving_accounts\":\"little\",\"checking_account\":\"little\",\"credit_amount\":2039,\"duration\":18,\"purpose\":\"furniture\\/equipment\",\"age\":20},{\"risk\":1,\"sex\":\"male\",\"job\":2,\"housing\":\"rent\",\"saving_accounts\":\"little\",\"checking_account\":\"little\",\"credit_amount\":2799,\"duration\":9,\"purpose\":\"car\",\"age\":36},{\"risk\":1,\"sex\":\"male\",\"job\":1,\"housing\":\"own\",\"saving_accounts\":\"little\",\"checking_account\":\"little\",\"credit_amount\":1289,\"duration\":12,\"purpose\":\"furniture\\/equipment\",\"age\":21},{\"risk\":0,\"sex\":\"male\",\"job\":1,\"housing\":\"own\",\"saving_accounts\":\"little\",\"checking_account\":\"little\",\"credit_amount\":1217,\"duration\":18,\"purpose\":\"domestic appliances\",\"age\":47},{\"risk\":0,\"sex\":\"male\",\"job\":2,\"housing\":\"own\",\"saving_accounts\":\"little\",\"checking_account\":\"little\",\"credit_amount\":2246,\"duration\":12,\"purpose\":\"furniture\\/equipment\",\"age\":60},{\"risk\":1,\"sex\":\"female\",\"job\":1,\"housing\":\"own\",\"saving_accounts\":\"little\",\"checking_account\":\"little\",\"credit_amount\":385,\"duration\":12,\"purpose\":\"radio\\/TV\",\"age\":58},{\"risk\":1,\"sex\":\"female\",\"job\":2,\"housing\":\"rent\",\"saving_accounts\":\"not_known\",\"checking_account\":\"moderate\",\"credit_amount\":1965,\"duration\":24,\"purpose\":\"car\",\"age\":42},{\"risk\":1,\"sex\":\"female\",\"job\":1,\"housing\":\"own\",\"saving_accounts\":\"rich\",\"checking_account\":\"not_known\",\"credit_amount\":1572,\"duration\":21,\"purpose\":\"business\",\"age\":36},{\"risk\":0,\"sex\":\"female\",\"job\":1,\"housing\":\"rent\",\"saving_accounts\":\"little\",\"checking_account\":\"moderate\",\"credit_amount\":2718,\"duration\":24,\"purpose\":\"car\",\"age\":20},{\"risk\":0,\"sex\":\"male\",\"job\":3,\"housing\":\"own\",\"saving_accounts\":\"not_known\",\"checking_account\":\"little\",\"credit_amount\":1358,\"duration\":24,\"purpose\":\"vacation\\/others\",\"age\":40},{\"risk\":0,\"sex\":\"female\",\"job\":1,\"housing\":\"own\",\"saving_accounts\":\"moderate\",\"checking_account\":\"moderate\",\"credit_amount\":931,\"duration\":6,\"purpose\":\"car\",\"age\":32},{\"risk\":0,\"sex\":\"female\",\"job\":2,\"housing\":\"rent\",\"saving_accounts\":\"little\",\"checking_account\":\"little\",\"credit_amount\":1442,\"duration\":24,\"purpose\":\"car\",\"age\":23},{\"risk\":0,\"sex\":\"male\",\"job\":1,\"housing\":\"own\",\"saving_accounts\":\"little\",\"checking_account\":\"moderate\",\"credit_amount\":4241,\"duration\":24,\"purpose\":\"business\",\"age\":36},{\"risk\":0,\"sex\":\"male\",\"job\":2,\"housing\":\"own\",\"saving_accounts\":\"little\",\"checking_account\":\"not_known\",\"credit_amount\":2775,\"duration\":18,\"purpose\":\"car\",\"age\":31},{\"risk\":1,\"sex\":\"male\",\"job\":2,\"housing\":\"free\",\"saving_accounts\":\"little\",\"checking_account\":\"not_known\",\"credit_amount\":3863,\"duration\":24,\"purpose\":\"business\",\"age\":32},{\"risk\":1,\"sex\":\"female\",\"job\":2,\"housing\":\"own\",\"saving_accounts\":\"little\",\"checking_account\":\"moderate\",\"credit_amount\":2329,\"duration\":7,\"purpose\":\"radio\\/TV\",\"age\":45},{\"risk\":0,\"sex\":\"female\",\"job\":2,\"housing\":\"own\",\"saving_accounts\":\"little\",\"checking_account\":\"moderate\",\"credit_amount\":918,\"duration\":9,\"purpose\":\"furniture\\/equipment\",\"age\":30},{\"risk\":0,\"sex\":\"female\",\"job\":1,\"housing\":\"free\",\"saving_accounts\":\"little\",\"checking_account\":\"moderate\",\"credit_amount\":1837,\"duration\":24,\"purpose\":\"education\",\"age\":34},{\"risk\":0,\"sex\":\"female\",\"job\":3,\"housing\":\"own\",\"saving_accounts\":\"little\",\"checking_account\":\"not_known\",\"credit_amount\":3349,\"duration\":36,\"purpose\":\"furniture\\/equipment\",\"age\":28},{\"risk\":1,\"sex\":\"female\",\"job\":2,\"housing\":\"own\",\"saving_accounts\":\"little\",\"checking_account\":\"rich\",\"credit_amount\":1275,\"duration\":10,\"purpose\":\"furniture\\/equipment\",\"age\":23},{\"risk\":1,\"sex\":\"male\",\"job\":2,\"housing\":\"own\",\"saving_accounts\":\"quite rich\",\"checking_account\":\"little\",\"credit_amount\":2828,\"duration\":24,\"purpose\":\"furniture\\/equipment\",\"age\":22},{\"risk\":1,\"sex\":\"male\",\"job\":3,\"housing\":\"own\",\"saving_accounts\":\"little\",\"checking_account\":\"not_known\",\"credit_amount\":4526,\"duration\":24,\"purpose\":\"business\",\"age\":74},{\"risk\":0,\"sex\":\"female\",\"job\":2,\"housing\":\"free\",\"saving_accounts\":\"moderate\",\"checking_account\":\"moderate\",\"credit_amount\":2671,\"duration\":36,\"purpose\":\"radio\\/TV\",\"age\":50},{\"risk\":1,\"sex\":\"male\",\"job\":2,\"housing\":\"own\",\"saving_accounts\":\"little\",\"checking_account\":\"not_known\",\"credit_amount\":2051,\"duration\":18,\"purpose\":\"radio\\/TV\",\"age\":33},{\"risk\":1,\"sex\":\"male\",\"job\":2,\"housing\":\"free\",\"saving_accounts\":\"not_known\",\"checking_account\":\"not_known\",\"credit_amount\":1300,\"duration\":15,\"purpose\":\"car\",\"age\":45},{\"risk\":0,\"sex\":\"female\",\"job\":2,\"housing\":\"own\",\"saving_accounts\":\"moderate\",\"checking_account\":\"little\",\"credit_amount\":741,\"duration\":12,\"purpose\":\"domestic appliances\",\"age\":22},{\"risk\":0,\"sex\":\"female\",\"job\":1,\"housing\":\"free\",\"saving_accounts\":\"moderate\",\"checking_account\":\"rich\",\"credit_amount\":1240,\"duration\":10,\"purpose\":\"car\",\"age\":48},{\"risk\":1,\"sex\":\"female\",\"job\":2,\"housing\":\"own\",\"saving_accounts\":\"rich\",\"checking_account\":\"little\",\"credit_amount\":3357,\"duration\":21,\"purpose\":\"radio\\/TV\",\"age\":29},{\"risk\":1,\"sex\":\"female\",\"job\":2,\"housing\":\"rent\",\"saving_accounts\":\"little\",\"checking_account\":\"little\",\"credit_amount\":3632,\"duration\":24,\"purpose\":\"car\",\"age\":22},{\"risk\":0,\"sex\":\"female\",\"job\":2,\"housing\":\"own\",\"saving_accounts\":\"little\",\"checking_account\":\"not_known\",\"credit_amount\":1808,\"duration\":18,\"purpose\":\"furniture\\/equipment\",\"age\":22},{\"risk\":1,\"sex\":\"male\",\"job\":3,\"housing\":\"own\",\"saving_accounts\":\"not_known\",\"checking_account\":\"moderate\",\"credit_amount\":12204,\"duration\":48,\"purpose\":\"business\",\"age\":48},{\"risk\":1,\"sex\":\"male\",\"job\":3,\"housing\":\"free\",\"saving_accounts\":\"not_known\",\"checking_account\":\"moderate\",\"credit_amount\":9157,\"duration\":60,\"purpose\":\"radio\\/TV\",\"age\":27},{\"risk\":1,\"sex\":\"male\",\"job\":2,\"housing\":\"rent\",\"saving_accounts\":\"little\",\"checking_account\":\"little\",\"credit_amount\":3676,\"duration\":6,\"purpose\":\"car\",\"age\":37},{\"risk\":0,\"sex\":\"female\",\"job\":2,\"housing\":\"rent\",\"saving_accounts\":\"moderate\",\"checking_account\":\"moderate\",\"credit_amount\":3441,\"duration\":30,\"purpose\":\"furniture\\/equipment\",\"age\":21},{\"risk\":1,\"sex\":\"male\",\"job\":1,\"housing\":\"own\",\"saving_accounts\":\"little\",\"checking_account\":\"not_known\",\"credit_amount\":640,\"duration\":12,\"purpose\":\"car\",\"age\":49},{\"risk\":1,\"sex\":\"male\",\"job\":2,\"housing\":\"own\",\"saving_accounts\":\"little\",\"checking_account\":\"moderate\",\"credit_amount\":3652,\"duration\":21,\"purpose\":\"business\",\"age\":27},{\"risk\":0,\"sex\":\"male\",\"job\":2,\"housing\":\"own\",\"saving_accounts\":\"little\",\"checking_account\":\"not_known\",\"credit_amount\":1530,\"duration\":18,\"purpose\":\"car\",\"age\":32},{\"risk\":0,\"sex\":\"male\",\"job\":2,\"housing\":\"own\",\"saving_accounts\":\"not_known\",\"checking_account\":\"not_known\",\"credit_amount\":3914,\"duration\":48,\"purpose\":\"business\",\"age\":38},{\"risk\":1,\"sex\":\"female\",\"job\":2,\"housing\":\"rent\",\"saving_accounts\":\"little\",\"checking_account\":\"little\",\"credit_amount\":1858,\"duration\":12,\"purpose\":\"furniture\\/equipment\",\"age\":22},{\"risk\":0,\"sex\":\"male\",\"job\":2,\"housing\":\"free\",\"saving_accounts\":\"little\",\"checking_account\":\"little\",\"credit_amount\":2600,\"duration\":18,\"purpose\":\"radio\\/TV\",\"age\":65},{\"risk\":1,\"sex\":\"male\",\"job\":2,\"housing\":\"own\",\"saving_accounts\":\"not_known\",\"checking_account\":\"not_known\",\"credit_amount\":1979,\"duration\":15,\"purpose\":\"radio\\/TV\",\"age\":35},{\"risk\":1,\"sex\":\"male\",\"job\":2,\"housing\":\"own\",\"saving_accounts\":\"little\",\"checking_account\":\"rich\",\"credit_amount\":2116,\"duration\":6,\"purpose\":\"furniture\\/equipment\",\"age\":41},{\"risk\":0,\"sex\":\"male\",\"job\":2,\"housing\":\"own\",\"saving_accounts\":\"moderate\",\"checking_account\":\"moderate\",\"credit_amount\":1437,\"duration\":9,\"purpose\":\"car\",\"age\":29},{\"risk\":1,\"sex\":\"male\",\"job\":2,\"housing\":\"own\",\"saving_accounts\":\"quite rich\",\"checking_account\":\"not_known\",\"credit_amount\":4042,\"duration\":42,\"purpose\":\"furniture\\/equipment\",\"age\":36},{\"risk\":1,\"sex\":\"male\",\"job\":1,\"housing\":\"own\",\"saving_accounts\":\"not_known\",\"checking_account\":\"not_known\",\"credit_amount\":3832,\"duration\":9,\"purpose\":\"education\",\"age\":64},{\"risk\":1,\"sex\":\"female\",\"job\":2,\"housing\":\"own\",\"saving_accounts\":\"little\",\"checking_account\":\"little\",\"credit_amount\":3660,\"duration\":24,\"purpose\":\"radio\\/TV\",\"age\":28},{\"risk\":0,\"sex\":\"male\",\"job\":2,\"housing\":\"own\",\"saving_accounts\":\"little\",\"checking_account\":\"little\",\"credit_amount\":1553,\"duration\":18,\"purpose\":\"furniture\\/equipment\",\"age\":44},{\"risk\":1,\"sex\":\"male\",\"job\":2,\"housing\":\"own\",\"saving_accounts\":\"not_known\",\"checking_account\":\"moderate\",\"credit_amount\":1444,\"duration\":15,\"purpose\":\"radio\\/TV\",\"age\":23},{\"risk\":0,\"sex\":\"female\",\"job\":2,\"housing\":\"rent\",\"saving_accounts\":\"little\",\"checking_account\":\"not_known\",\"credit_amount\":1980,\"duration\":9,\"purpose\":\"furniture\\/equipment\",\"age\":19},{\"risk\":0,\"sex\":\"female\",\"job\":1,\"housing\":\"own\",\"saving_accounts\":\"little\",\"checking_account\":\"moderate\",\"credit_amount\":1355,\"duration\":24,\"purpose\":\"car\",\"age\":25},{\"risk\":1,\"sex\":\"male\",\"job\":2,\"housing\":\"own\",\"saving_accounts\":\"little\",\"checking_account\":\"not_known\",\"credit_amount\":1393,\"duration\":12,\"purpose\":\"education\",\"age\":47},{\"risk\":1,\"sex\":\"female\",\"job\":2,\"housing\":\"own\",\"saving_accounts\":\"quite rich\",\"checking_account\":\"not_known\",\"credit_amount\":1376,\"duration\":24,\"purpose\":\"radio\\/TV\",\"age\":28},{\"risk\":1,\"sex\":\"male\",\"job\":2,\"housing\":\"own\",\"saving_accounts\":\"little\",\"checking_account\":\"not_known\",\"credit_amount\":15653,\"duration\":60,\"purpose\":\"radio\\/TV\",\"age\":21},{\"risk\":1,\"sex\":\"female\",\"job\":2,\"housing\":\"own\",\"saving_accounts\":\"little\",\"checking_account\":\"not_known\",\"credit_amount\":1493,\"duration\":12,\"purpose\":\"radio\\/TV\",\"age\":34},{\"risk\":0,\"sex\":\"male\",\"job\":2,\"housing\":\"own\",\"saving_accounts\":\"little\",\"checking_account\":\"little\",\"credit_amount\":4370,\"duration\":42,\"purpose\":\"radio\\/TV\",\"age\":26},{\"risk\":0,\"sex\":\"female\",\"job\":0,\"housing\":\"own\",\"saving_accounts\":\"little\",\"checking_account\":\"little\",\"credit_amount\":750,\"duration\":18,\"purpose\":\"education\",\"age\":27},{\"risk\":1,\"sex\":\"male\",\"job\":1,\"housing\":\"own\",\"saving_accounts\":\"little\",\"checking_account\":\"moderate\",\"credit_amount\":1308,\"duration\":15,\"purpose\":\"repairs\",\"age\":38},{\"risk\":0,\"sex\":\"male\",\"job\":3,\"housing\":\"own\",\"saving_accounts\":\"moderate\",\"checking_account\":\"not_known\",\"credit_amount\":4623,\"duration\":15,\"purpose\":\"education\",\"age\":40},{\"risk\":1,\"sex\":\"male\",\"job\":2,\"housing\":\"own\",\"saving_accounts\":\"little\",\"checking_account\":\"not_known\",\"credit_amount\":1851,\"duration\":24,\"purpose\":\"radio\\/TV\",\"age\":33},{\"risk\":1,\"sex\":\"male\",\"job\":3,\"housing\":\"own\",\"saving_accounts\":\"little\",\"checking_account\":\"little\",\"credit_amount\":1880,\"duration\":18,\"purpose\":\"radio\\/TV\",\"age\":32},{\"risk\":0,\"sex\":\"male\",\"job\":2,\"housing\":\"rent\",\"saving_accounts\":\"not_known\",\"checking_account\":\"not_known\",\"credit_amount\":7980,\"duration\":36,\"purpose\":\"business\",\"age\":27},{\"risk\":1,\"sex\":\"male\",\"job\":2,\"housing\":\"own\",\"saving_accounts\":\"little\",\"checking_account\":\"little\",\"credit_amount\":4583,\"duration\":30,\"purpose\":\"furniture\\/equipment\",\"age\":32},{\"risk\":0,\"sex\":\"female\",\"job\":2,\"housing\":\"own\",\"saving_accounts\":\"quite rich\",\"checking_account\":\"not_known\",\"credit_amount\":1386,\"duration\":12,\"purpose\":\"car\",\"age\":26},{\"risk\":0,\"sex\":\"male\",\"job\":2,\"housing\":\"free\",\"saving_accounts\":\"little\",\"checking_account\":\"rich\",\"credit_amount\":947,\"duration\":24,\"purpose\":\"car\",\"age\":38},{\"risk\":0,\"sex\":\"male\",\"job\":1,\"housing\":\"rent\",\"saving_accounts\":\"little\",\"checking_account\":\"little\",\"credit_amount\":684,\"duration\":12,\"purpose\":\"education\",\"age\":40},{\"risk\":1,\"sex\":\"male\",\"job\":3,\"housing\":\"free\",\"saving_accounts\":\"little\",\"checking_account\":\"little\",\"credit_amount\":7476,\"duration\":48,\"purpose\":\"education\",\"age\":50},{\"risk\":0,\"sex\":\"male\",\"job\":1,\"housing\":\"own\",\"saving_accounts\":\"little\",\"checking_account\":\"moderate\",\"credit_amount\":1922,\"duration\":12,\"purpose\":\"furniture\\/equipment\",\"age\":37},{\"risk\":0,\"sex\":\"male\",\"job\":2,\"housing\":\"own\",\"saving_accounts\":\"little\",\"checking_account\":\"little\",\"credit_amount\":2303,\"duration\":24,\"purpose\":\"car\",\"age\":45},{\"risk\":0,\"sex\":\"male\",\"job\":3,\"housing\":\"own\",\"saving_accounts\":\"moderate\",\"checking_account\":\"moderate\",\"credit_amount\":8086,\"duration\":36,\"purpose\":\"car\",\"age\":42},{\"risk\":1,\"sex\":\"male\",\"job\":2,\"housing\":\"own\",\"saving_accounts\":\"little\",\"checking_account\":\"not_known\",\"credit_amount\":2346,\"duration\":24,\"purpose\":\"car\",\"age\":35},{\"risk\":1,\"sex\":\"male\",\"job\":2,\"housing\":\"free\",\"saving_accounts\":\"little\",\"checking_account\":\"little\",\"credit_amount\":3973,\"duration\":14,\"purpose\":\"car\",\"age\":22},{\"risk\":0,\"sex\":\"male\",\"job\":1,\"housing\":\"own\",\"saving_accounts\":\"little\",\"checking_account\":\"moderate\",\"credit_amount\":888,\"duration\":12,\"purpose\":\"car\",\"age\":41},{\"risk\":1,\"sex\":\"male\",\"job\":2,\"housing\":\"own\",\"saving_accounts\":\"not_known\",\"checking_account\":\"not_known\",\"credit_amount\":10222,\"duration\":48,\"purpose\":\"radio\\/TV\",\"age\":37},{\"risk\":1,\"sex\":\"female\",\"job\":2,\"housing\":\"own\",\"saving_accounts\":\"little\",\"checking_account\":\"moderate\",\"credit_amount\":4221,\"duration\":30,\"purpose\":\"business\",\"age\":28},{\"risk\":1,\"sex\":\"male\",\"job\":2,\"housing\":\"own\",\"saving_accounts\":\"little\",\"checking_account\":\"moderate\",\"credit_amount\":6361,\"duration\":18,\"purpose\":\"furniture\\/equipment\",\"age\":41},{\"risk\":1,\"sex\":\"male\",\"job\":2,\"housing\":\"rent\",\"saving_accounts\":\"little\",\"checking_account\":\"rich\",\"credit_amount\":1297,\"duration\":12,\"purpose\":\"radio\\/TV\",\"age\":23},{\"risk\":0,\"sex\":\"male\",\"job\":2,\"housing\":\"own\",\"saving_accounts\":\"not_known\",\"checking_account\":\"little\",\"credit_amount\":900,\"duration\":12,\"purpose\":\"car\",\"age\":23},{\"risk\":1,\"sex\":\"male\",\"job\":2,\"housing\":\"own\",\"saving_accounts\":\"little\",\"checking_account\":\"not_known\",\"credit_amount\":2241,\"duration\":21,\"purpose\":\"furniture\\/equipment\",\"age\":50},{\"risk\":1,\"sex\":\"male\",\"job\":3,\"housing\":\"own\",\"saving_accounts\":\"little\",\"checking_account\":\"moderate\",\"credit_amount\":1050,\"duration\":6,\"purpose\":\"furniture\\/equipment\",\"age\":35},{\"risk\":1,\"sex\":\"female\",\"job\":1,\"housing\":\"own\",\"saving_accounts\":\"little\",\"checking_account\":\"rich\",\"credit_amount\":1047,\"duration\":6,\"purpose\":\"education\",\"age\":50},{\"risk\":1,\"sex\":\"male\",\"job\":3,\"housing\":\"own\",\"saving_accounts\":\"little\",\"checking_account\":\"not_known\",\"credit_amount\":6314,\"duration\":24,\"purpose\":\"vacation\\/others\",\"age\":27},{\"risk\":1,\"sex\":\"male\",\"job\":2,\"housing\":\"own\",\"saving_accounts\":\"rich\",\"checking_account\":\"moderate\",\"credit_amount\":3496,\"duration\":30,\"purpose\":\"furniture\\/equipment\",\"age\":34},{\"risk\":1,\"sex\":\"female\",\"job\":2,\"housing\":\"own\",\"saving_accounts\":\"little\",\"checking_account\":\"not_known\",\"credit_amount\":3609,\"duration\":48,\"purpose\":\"business\",\"age\":27},{\"risk\":0,\"sex\":\"male\",\"job\":2,\"housing\":\"rent\",\"saving_accounts\":\"little\",\"checking_account\":\"little\",\"credit_amount\":4843,\"duration\":12,\"purpose\":\"car\",\"age\":43},{\"risk\":1,\"sex\":\"male\",\"job\":2,\"housing\":\"own\",\"saving_accounts\":\"little\",\"checking_account\":\"rich\",\"credit_amount\":3017,\"duration\":30,\"purpose\":\"radio\\/TV\",\"age\":47},{\"risk\":1,\"sex\":\"male\",\"job\":1,\"housing\":\"own\",\"saving_accounts\":\"moderate\",\"checking_account\":\"not_known\",\"credit_amount\":4139,\"duration\":24,\"purpose\":\"business\",\"age\":27},{\"risk\":1,\"sex\":\"male\",\"job\":2,\"housing\":\"own\",\"saving_accounts\":\"moderate\",\"checking_account\":\"not_known\",\"credit_amount\":5742,\"duration\":36,\"purpose\":\"business\",\"age\":31},{\"risk\":1,\"sex\":\"male\",\"job\":3,\"housing\":\"own\",\"saving_accounts\":\"little\",\"checking_account\":\"not_known\",\"credit_amount\":10366,\"duration\":60,\"purpose\":\"car\",\"age\":42},{\"risk\":1,\"sex\":\"male\",\"job\":2,\"housing\":\"own\",\"saving_accounts\":\"quite rich\",\"checking_account\":\"not_known\",\"credit_amount\":2080,\"duration\":6,\"purpose\":\"car\",\"age\":24},{\"risk\":0,\"sex\":\"male\",\"job\":1,\"housing\":\"own\",\"saving_accounts\":\"quite rich\",\"checking_account\":\"not_known\",\"credit_amount\":2580,\"duration\":21,\"purpose\":\"business\",\"age\":41},{\"risk\":1,\"sex\":\"female\",\"job\":3,\"housing\":\"rent\",\"saving_accounts\":\"little\",\"checking_account\":\"not_known\",\"credit_amount\":4530,\"duration\":30,\"purpose\":\"radio\\/TV\",\"age\":26},{\"risk\":1,\"sex\":\"male\",\"job\":2,\"housing\":\"own\",\"saving_accounts\":\"little\",\"checking_account\":\"not_known\",\"credit_amount\":5150,\"duration\":24,\"purpose\":\"furniture\\/equipment\",\"age\":33},{\"risk\":0,\"sex\":\"male\",\"job\":2,\"housing\":\"own\",\"saving_accounts\":\"moderate\",\"checking_account\":\"moderate\",\"credit_amount\":5595,\"duration\":72,\"purpose\":\"radio\\/TV\",\"age\":24},{\"risk\":1,\"sex\":\"male\",\"job\":1,\"housing\":\"rent\",\"saving_accounts\":\"little\",\"checking_account\":\"little\",\"credit_amount\":2384,\"duration\":24,\"purpose\":\"radio\\/TV\",\"age\":64},{\"risk\":1,\"sex\":\"female\",\"job\":2,\"housing\":\"own\",\"saving_accounts\":\"little\",\"checking_account\":\"not_known\",\"credit_amount\":1453,\"duration\":18,\"purpose\":\"radio\\/TV\",\"age\":26},{\"risk\":1,\"sex\":\"female\",\"job\":2,\"housing\":\"own\",\"saving_accounts\":\"little\",\"checking_account\":\"not_known\",\"credit_amount\":1538,\"duration\":6,\"purpose\":\"education\",\"age\":56},{\"risk\":1,\"sex\":\"male\",\"job\":2,\"housing\":\"free\",\"saving_accounts\":\"not_known\",\"checking_account\":\"not_known\",\"credit_amount\":2279,\"duration\":12,\"purpose\":\"radio\\/TV\",\"age\":37},{\"risk\":1,\"sex\":\"male\",\"job\":2,\"housing\":\"own\",\"saving_accounts\":\"little\",\"checking_account\":\"not_known\",\"credit_amount\":1478,\"duration\":15,\"purpose\":\"radio\\/TV\",\"age\":33},{\"risk\":1,\"sex\":\"male\",\"job\":2,\"housing\":\"free\",\"saving_accounts\":\"little\",\"checking_account\":\"not_known\",\"credit_amount\":5103,\"duration\":24,\"purpose\":\"radio\\/TV\",\"age\":47},{\"risk\":1,\"sex\":\"male\",\"job\":1,\"housing\":\"own\",\"saving_accounts\":\"moderate\",\"checking_account\":\"moderate\",\"credit_amount\":9857,\"duration\":36,\"purpose\":\"business\",\"age\":31},{\"risk\":1,\"sex\":\"male\",\"job\":2,\"housing\":\"free\",\"saving_accounts\":\"not_known\",\"checking_account\":\"not_known\",\"credit_amount\":6527,\"duration\":60,\"purpose\":\"car\",\"age\":34},{\"risk\":1,\"sex\":\"male\",\"job\":2,\"housing\":\"own\",\"saving_accounts\":\"not_known\",\"checking_account\":\"rich\",\"credit_amount\":1347,\"duration\":10,\"purpose\":\"radio\\/TV\",\"age\":27},{\"risk\":1,\"sex\":\"male\",\"job\":2,\"housing\":\"free\",\"saving_accounts\":\"moderate\",\"checking_account\":\"moderate\",\"credit_amount\":2862,\"duration\":36,\"purpose\":\"car\",\"age\":30},{\"risk\":1,\"sex\":\"male\",\"job\":2,\"housing\":\"own\",\"saving_accounts\":\"moderate\",\"checking_account\":\"not_known\",\"credit_amount\":2753,\"duration\":9,\"purpose\":\"radio\\/TV\",\"age\":35},{\"risk\":1,\"sex\":\"male\",\"job\":2,\"housing\":\"own\",\"saving_accounts\":\"rich\",\"checking_account\":\"little\",\"credit_amount\":3651,\"duration\":12,\"purpose\":\"car\",\"age\":31},{\"risk\":1,\"sex\":\"male\",\"job\":2,\"housing\":\"own\",\"saving_accounts\":\"little\",\"checking_account\":\"little\",\"credit_amount\":975,\"duration\":15,\"purpose\":\"furniture\\/equipment\",\"age\":25},{\"risk\":1,\"sex\":\"female\",\"job\":1,\"housing\":\"own\",\"saving_accounts\":\"moderate\",\"checking_account\":\"moderate\",\"credit_amount\":2631,\"duration\":15,\"purpose\":\"repairs\",\"age\":25},{\"risk\":1,\"sex\":\"male\",\"job\":2,\"housing\":\"own\",\"saving_accounts\":\"moderate\",\"checking_account\":\"moderate\",\"credit_amount\":2896,\"duration\":24,\"purpose\":\"radio\\/TV\",\"age\":29},{\"risk\":1,\"sex\":\"male\",\"job\":1,\"housing\":\"own\",\"saving_accounts\":\"not_known\",\"checking_account\":\"little\",\"credit_amount\":4716,\"duration\":6,\"purpose\":\"car\",\"age\":44},{\"risk\":1,\"sex\":\"male\",\"job\":2,\"housing\":\"own\",\"saving_accounts\":\"little\",\"checking_account\":\"not_known\",\"credit_amount\":2284,\"duration\":24,\"purpose\":\"radio\\/TV\",\"age\":28},{\"risk\":1,\"sex\":\"male\",\"job\":2,\"housing\":\"rent\",\"saving_accounts\":\"quite rich\",\"checking_account\":\"not_known\",\"credit_amount\":1236,\"duration\":6,\"purpose\":\"car\",\"age\":50},{\"risk\":1,\"sex\":\"male\",\"job\":2,\"housing\":\"own\",\"saving_accounts\":\"little\",\"checking_account\":\"moderate\",\"credit_amount\":1103,\"duration\":12,\"purpose\":\"radio\\/TV\",\"age\":29},{\"risk\":1,\"sex\":\"female\",\"job\":0,\"housing\":\"own\",\"saving_accounts\":\"little\",\"checking_account\":\"not_known\",\"credit_amount\":926,\"duration\":12,\"purpose\":\"car\",\"age\":38},{\"risk\":1,\"sex\":\"male\",\"job\":2,\"housing\":\"own\",\"saving_accounts\":\"little\",\"checking_account\":\"not_known\",\"credit_amount\":1800,\"duration\":18,\"purpose\":\"radio\\/TV\",\"age\":24},{\"risk\":1,\"sex\":\"male\",\"job\":3,\"housing\":\"rent\",\"saving_accounts\":\"little\",\"checking_account\":\"rich\",\"credit_amount\":1905,\"duration\":15,\"purpose\":\"education\",\"age\":40},{\"risk\":0,\"sex\":\"female\",\"job\":1,\"housing\":\"rent\",\"saving_accounts\":\"quite rich\",\"checking_account\":\"not_known\",\"credit_amount\":1123,\"duration\":12,\"purpose\":\"furniture\\/equipment\",\"age\":29},{\"risk\":0,\"sex\":\"male\",\"job\":2,\"housing\":\"free\",\"saving_accounts\":\"little\",\"checking_account\":\"little\",\"credit_amount\":6331,\"duration\":48,\"purpose\":\"car\",\"age\":46},{\"risk\":1,\"sex\":\"female\",\"job\":2,\"housing\":\"free\",\"saving_accounts\":\"moderate\",\"checking_account\":\"rich\",\"credit_amount\":1377,\"duration\":24,\"purpose\":\"radio\\/TV\",\"age\":47},{\"risk\":1,\"sex\":\"male\",\"job\":2,\"housing\":\"own\",\"saving_accounts\":\"moderate\",\"checking_account\":\"moderate\",\"credit_amount\":2503,\"duration\":30,\"purpose\":\"business\",\"age\":41},{\"risk\":1,\"sex\":\"female\",\"job\":2,\"housing\":\"own\",\"saving_accounts\":\"little\",\"checking_account\":\"moderate\",\"credit_amount\":2528,\"duration\":27,\"purpose\":\"business\",\"age\":32},{\"risk\":1,\"sex\":\"female\",\"job\":2,\"housing\":\"free\",\"saving_accounts\":\"quite rich\",\"checking_account\":\"not_known\",\"credit_amount\":5324,\"duration\":15,\"purpose\":\"car\",\"age\":35},{\"risk\":0,\"sex\":\"male\",\"job\":2,\"housing\":\"own\",\"saving_accounts\":\"moderate\",\"checking_account\":\"moderate\",\"credit_amount\":6560,\"duration\":48,\"purpose\":\"car\",\"age\":24},{\"risk\":0,\"sex\":\"female\",\"job\":2,\"housing\":\"rent\",\"saving_accounts\":\"little\",\"checking_account\":\"moderate\",\"credit_amount\":2969,\"duration\":12,\"purpose\":\"furniture\\/equipment\",\"age\":25},{\"risk\":1,\"sex\":\"female\",\"job\":2,\"housing\":\"own\",\"saving_accounts\":\"little\",\"checking_account\":\"moderate\",\"credit_amount\":1206,\"duration\":9,\"purpose\":\"radio\\/TV\",\"age\":25},{\"risk\":1,\"sex\":\"male\",\"job\":1,\"housing\":\"own\",\"saving_accounts\":\"little\",\"checking_account\":\"moderate\",\"credit_amount\":2118,\"duration\":9,\"purpose\":\"radio\\/TV\",\"age\":37},{\"risk\":1,\"sex\":\"male\",\"job\":3,\"housing\":\"own\",\"saving_accounts\":\"quite rich\",\"checking_account\":\"not_known\",\"credit_amount\":629,\"duration\":18,\"purpose\":\"radio\\/TV\",\"age\":32},{\"risk\":0,\"sex\":\"female\",\"job\":2,\"housing\":\"free\",\"saving_accounts\":\"little\",\"checking_account\":\"little\",\"credit_amount\":1198,\"duration\":6,\"purpose\":\"education\",\"age\":35},{\"risk\":1,\"sex\":\"male\",\"job\":3,\"housing\":\"own\",\"saving_accounts\":\"not_known\",\"checking_account\":\"not_known\",\"credit_amount\":2476,\"duration\":21,\"purpose\":\"car\",\"age\":46},{\"risk\":1,\"sex\":\"male\",\"job\":1,\"housing\":\"own\",\"saving_accounts\":\"little\",\"checking_account\":\"little\",\"credit_amount\":1138,\"duration\":9,\"purpose\":\"radio\\/TV\",\"age\":25},{\"risk\":0,\"sex\":\"male\",\"job\":3,\"housing\":\"own\",\"saving_accounts\":\"little\",\"checking_account\":\"moderate\",\"credit_amount\":14027,\"duration\":60,\"purpose\":\"car\",\"age\":27},{\"risk\":1,\"sex\":\"male\",\"job\":2,\"housing\":\"own\",\"saving_accounts\":\"not_known\",\"checking_account\":\"not_known\",\"credit_amount\":7596,\"duration\":30,\"purpose\":\"car\",\"age\":63},{\"risk\":1,\"sex\":\"male\",\"job\":2,\"housing\":\"own\",\"saving_accounts\":\"not_known\",\"checking_account\":\"not_known\",\"credit_amount\":3077,\"duration\":30,\"purpose\":\"radio\\/TV\",\"age\":40},{\"risk\":1,\"sex\":\"male\",\"job\":3,\"housing\":\"free\",\"saving_accounts\":\"little\",\"checking_account\":\"not_known\",\"credit_amount\":1505,\"duration\":18,\"purpose\":\"radio\\/TV\",\"age\":32},{\"risk\":1,\"sex\":\"male\",\"job\":2,\"housing\":\"own\",\"saving_accounts\":\"not_known\",\"checking_account\":\"rich\",\"credit_amount\":3148,\"duration\":24,\"purpose\":\"radio\\/TV\",\"age\":31},{\"risk\":1,\"sex\":\"male\",\"job\":2,\"housing\":\"own\",\"saving_accounts\":\"moderate\",\"checking_account\":\"moderate\",\"credit_amount\":6148,\"duration\":20,\"purpose\":\"car\",\"age\":31},{\"risk\":0,\"sex\":\"male\",\"job\":3,\"housing\":\"own\",\"saving_accounts\":\"little\",\"checking_account\":\"rich\",\"credit_amount\":1337,\"duration\":9,\"purpose\":\"radio\\/TV\",\"age\":34},{\"risk\":0,\"sex\":\"female\",\"job\":2,\"housing\":\"rent\",\"saving_accounts\":\"rich\",\"checking_account\":\"moderate\",\"credit_amount\":433,\"duration\":6,\"purpose\":\"education\",\"age\":24},{\"risk\":0,\"sex\":\"female\",\"job\":1,\"housing\":\"own\",\"saving_accounts\":\"little\",\"checking_account\":\"little\",\"credit_amount\":1228,\"duration\":12,\"purpose\":\"car\",\"age\":24},{\"risk\":1,\"sex\":\"female\",\"job\":1,\"housing\":\"own\",\"saving_accounts\":\"quite rich\",\"checking_account\":\"moderate\",\"credit_amount\":790,\"duration\":9,\"purpose\":\"radio\\/TV\",\"age\":66},{\"risk\":0,\"sex\":\"female\",\"job\":2,\"housing\":\"rent\",\"saving_accounts\":\"little\",\"checking_account\":\"not_known\",\"credit_amount\":2570,\"duration\":27,\"purpose\":\"car\",\"age\":21},{\"risk\":1,\"sex\":\"female\",\"job\":1,\"housing\":\"own\",\"saving_accounts\":\"rich\",\"checking_account\":\"not_known\",\"credit_amount\":250,\"duration\":6,\"purpose\":\"car\",\"age\":41},{\"risk\":1,\"sex\":\"male\",\"job\":1,\"housing\":\"own\",\"saving_accounts\":\"quite rich\",\"checking_account\":\"not_known\",\"credit_amount\":1316,\"duration\":15,\"purpose\":\"radio\\/TV\",\"age\":47},{\"risk\":0,\"sex\":\"female\",\"job\":2,\"housing\":\"rent\",\"saving_accounts\":\"little\",\"checking_account\":\"little\",\"credit_amount\":1882,\"duration\":18,\"purpose\":\"radio\\/TV\",\"age\":25},{\"risk\":0,\"sex\":\"female\",\"job\":2,\"housing\":\"rent\",\"saving_accounts\":\"little\",\"checking_account\":\"moderate\",\"credit_amount\":6416,\"duration\":48,\"purpose\":\"business\",\"age\":59},{\"risk\":1,\"sex\":\"male\",\"job\":2,\"housing\":\"own\",\"saving_accounts\":\"rich\",\"checking_account\":\"rich\",\"credit_amount\":1275,\"duration\":24,\"purpose\":\"business\",\"age\":36},{\"risk\":1,\"sex\":\"male\",\"job\":2,\"housing\":\"own\",\"saving_accounts\":\"little\",\"checking_account\":\"moderate\",\"credit_amount\":6403,\"duration\":24,\"purpose\":\"radio\\/TV\",\"age\":33},{\"risk\":0,\"sex\":\"male\",\"job\":1,\"housing\":\"rent\",\"saving_accounts\":\"little\",\"checking_account\":\"little\",\"credit_amount\":1987,\"duration\":24,\"purpose\":\"radio\\/TV\",\"age\":21},{\"risk\":1,\"sex\":\"female\",\"job\":1,\"housing\":\"own\",\"saving_accounts\":\"little\",\"checking_account\":\"moderate\",\"credit_amount\":760,\"duration\":8,\"purpose\":\"radio\\/TV\",\"age\":44},{\"risk\":1,\"sex\":\"female\",\"job\":2,\"housing\":\"rent\",\"saving_accounts\":\"rich\",\"checking_account\":\"not_known\",\"credit_amount\":2603,\"duration\":24,\"purpose\":\"car\",\"age\":28},{\"risk\":1,\"sex\":\"female\",\"job\":2,\"housing\":\"own\",\"saving_accounts\":\"little\",\"checking_account\":\"not_known\",\"credit_amount\":3380,\"duration\":4,\"purpose\":\"car\",\"age\":37},{\"risk\":1,\"sex\":\"female\",\"job\":0,\"housing\":\"own\",\"saving_accounts\":\"not_known\",\"checking_account\":\"moderate\",\"credit_amount\":3990,\"duration\":36,\"purpose\":\"domestic appliances\",\"age\":29},{\"risk\":0,\"sex\":\"female\",\"job\":3,\"housing\":\"rent\",\"saving_accounts\":\"little\",\"checking_account\":\"moderate\",\"credit_amount\":11560,\"duration\":24,\"purpose\":\"car\",\"age\":23},{\"risk\":1,\"sex\":\"male\",\"job\":1,\"housing\":\"own\",\"saving_accounts\":\"moderate\",\"checking_account\":\"little\",\"credit_amount\":4380,\"duration\":18,\"purpose\":\"car\",\"age\":35},{\"risk\":1,\"sex\":\"male\",\"job\":3,\"housing\":\"own\",\"saving_accounts\":\"little\",\"checking_account\":\"not_known\",\"credit_amount\":6761,\"duration\":6,\"purpose\":\"car\",\"age\":45},{\"risk\":0,\"sex\":\"female\",\"job\":1,\"housing\":\"rent\",\"saving_accounts\":\"moderate\",\"checking_account\":\"moderate\",\"credit_amount\":4280,\"duration\":30,\"purpose\":\"business\",\"age\":26},{\"risk\":1,\"sex\":\"male\",\"job\":2,\"housing\":\"own\",\"saving_accounts\":\"moderate\",\"checking_account\":\"little\",\"credit_amount\":2325,\"duration\":24,\"purpose\":\"car\",\"age\":32},{\"risk\":1,\"sex\":\"male\",\"job\":1,\"housing\":\"own\",\"saving_accounts\":\"little\",\"checking_account\":\"moderate\",\"credit_amount\":1048,\"duration\":10,\"purpose\":\"radio\\/TV\",\"age\":23},{\"risk\":1,\"sex\":\"male\",\"job\":2,\"housing\":\"own\",\"saving_accounts\":\"not_known\",\"checking_account\":\"not_known\",\"credit_amount\":3160,\"duration\":21,\"purpose\":\"radio\\/TV\",\"age\":41},{\"risk\":1,\"sex\":\"male\",\"job\":2,\"housing\":\"own\",\"saving_accounts\":\"quite rich\",\"checking_account\":\"little\",\"credit_amount\":2483,\"duration\":24,\"purpose\":\"furniture\\/equipment\",\"age\":22},{\"risk\":1,\"sex\":\"male\",\"job\":3,\"housing\":\"own\",\"saving_accounts\":\"not_known\",\"checking_account\":\"little\",\"credit_amount\":14179,\"duration\":39,\"purpose\":\"furniture\\/equipment\",\"age\":30},{\"risk\":1,\"sex\":\"male\",\"job\":1,\"housing\":\"own\",\"saving_accounts\":\"little\",\"checking_account\":\"little\",\"credit_amount\":1797,\"duration\":13,\"purpose\":\"business\",\"age\":28},{\"risk\":1,\"sex\":\"female\",\"job\":2,\"housing\":\"rent\",\"saving_accounts\":\"little\",\"checking_account\":\"little\",\"credit_amount\":2511,\"duration\":15,\"purpose\":\"car\",\"age\":23},{\"risk\":0,\"sex\":\"female\",\"job\":1,\"housing\":\"own\",\"saving_accounts\":\"little\",\"checking_account\":\"little\",\"credit_amount\":1274,\"duration\":12,\"purpose\":\"car\",\"age\":37},{\"risk\":1,\"sex\":\"male\",\"job\":2,\"housing\":\"own\",\"saving_accounts\":\"not_known\",\"checking_account\":\"not_known\",\"credit_amount\":5248,\"duration\":21,\"purpose\":\"car\",\"age\":26},{\"risk\":1,\"sex\":\"male\",\"job\":2,\"housing\":\"own\",\"saving_accounts\":\"little\",\"checking_account\":\"not_known\",\"credit_amount\":3029,\"duration\":15,\"purpose\":\"car\",\"age\":33},{\"risk\":1,\"sex\":\"female\",\"job\":2,\"housing\":\"own\",\"saving_accounts\":\"little\",\"checking_account\":\"little\",\"credit_amount\":428,\"duration\":6,\"purpose\":\"furniture\\/equipment\",\"age\":49},{\"risk\":0,\"sex\":\"female\",\"job\":1,\"housing\":\"own\",\"saving_accounts\":\"little\",\"checking_account\":\"little\",\"credit_amount\":976,\"duration\":18,\"purpose\":\"car\",\"age\":23},{\"risk\":1,\"sex\":\"female\",\"job\":1,\"housing\":\"rent\",\"saving_accounts\":\"moderate\",\"checking_account\":\"moderate\",\"credit_amount\":841,\"duration\":12,\"purpose\":\"business\",\"age\":23},{\"risk\":1,\"sex\":\"female\",\"job\":2,\"housing\":\"own\",\"saving_accounts\":\"little\",\"checking_account\":\"not_known\",\"credit_amount\":5771,\"duration\":30,\"purpose\":\"radio\\/TV\",\"age\":25},{\"risk\":0,\"sex\":\"male\",\"job\":2,\"housing\":\"free\",\"saving_accounts\":\"rich\",\"checking_account\":\"not_known\",\"credit_amount\":1555,\"duration\":12,\"purpose\":\"repairs\",\"age\":55},{\"risk\":0,\"sex\":\"female\",\"job\":2,\"housing\":\"rent\",\"saving_accounts\":\"not_known\",\"checking_account\":\"little\",\"credit_amount\":1285,\"duration\":24,\"purpose\":\"car\",\"age\":32},{\"risk\":1,\"sex\":\"male\",\"job\":0,\"housing\":\"own\",\"saving_accounts\":\"little\",\"checking_account\":\"rich\",\"credit_amount\":1299,\"duration\":6,\"purpose\":\"car\",\"age\":74},{\"risk\":0,\"sex\":\"male\",\"job\":2,\"housing\":\"free\",\"saving_accounts\":\"not_known\",\"checking_account\":\"rich\",\"credit_amount\":1271,\"duration\":15,\"purpose\":\"radio\\/TV\",\"age\":39},{\"risk\":1,\"sex\":\"male\",\"job\":2,\"housing\":\"own\",\"saving_accounts\":\"little\",\"checking_account\":\"not_known\",\"credit_amount\":1393,\"duration\":24,\"purpose\":\"car\",\"age\":31},{\"risk\":0,\"sex\":\"male\",\"job\":2,\"housing\":\"own\",\"saving_accounts\":\"little\",\"checking_account\":\"little\",\"credit_amount\":691,\"duration\":12,\"purpose\":\"car\",\"age\":35},{\"risk\":1,\"sex\":\"female\",\"job\":2,\"housing\":\"own\",\"saving_accounts\":\"not_known\",\"checking_account\":\"not_known\",\"credit_amount\":5045,\"duration\":15,\"purpose\":\"car\",\"age\":59},{\"risk\":0,\"sex\":\"female\",\"job\":2,\"housing\":\"rent\",\"saving_accounts\":\"little\",\"checking_account\":\"little\",\"credit_amount\":2124,\"duration\":18,\"purpose\":\"furniture\\/equipment\",\"age\":24},{\"risk\":1,\"sex\":\"male\",\"job\":1,\"housing\":\"own\",\"saving_accounts\":\"little\",\"checking_account\":\"little\",\"credit_amount\":2214,\"duration\":12,\"purpose\":\"radio\\/TV\",\"age\":24},{\"risk\":0,\"sex\":\"male\",\"job\":3,\"housing\":\"free\",\"saving_accounts\":\"not_known\",\"checking_account\":\"not_known\",\"credit_amount\":12680,\"duration\":21,\"purpose\":\"car\",\"age\":30},{\"risk\":1,\"sex\":\"male\",\"job\":2,\"housing\":\"own\",\"saving_accounts\":\"moderate\",\"checking_account\":\"not_known\",\"credit_amount\":2463,\"duration\":24,\"purpose\":\"car\",\"age\":27},{\"risk\":1,\"sex\":\"male\",\"job\":1,\"housing\":\"own\",\"saving_accounts\":\"little\",\"checking_account\":\"moderate\",\"credit_amount\":1155,\"duration\":12,\"purpose\":\"radio\\/TV\",\"age\":40},{\"risk\":0,\"sex\":\"male\",\"job\":1,\"housing\":\"own\",\"saving_accounts\":\"little\",\"checking_account\":\"little\",\"credit_amount\":3108,\"duration\":30,\"purpose\":\"furniture\\/equipment\",\"age\":31},{\"risk\":1,\"sex\":\"female\",\"job\":2,\"housing\":\"rent\",\"saving_accounts\":\"not_known\",\"checking_account\":\"not_known\",\"credit_amount\":2901,\"duration\":10,\"purpose\":\"car\",\"age\":31},{\"risk\":1,\"sex\":\"male\",\"job\":2,\"housing\":\"rent\",\"saving_accounts\":\"little\",\"checking_account\":\"moderate\",\"credit_amount\":3617,\"duration\":12,\"purpose\":\"furniture\\/equipment\",\"age\":28},{\"risk\":1,\"sex\":\"male\",\"job\":1,\"housing\":\"own\",\"saving_accounts\":\"little\",\"checking_account\":\"not_known\",\"credit_amount\":1655,\"duration\":12,\"purpose\":\"radio\\/TV\",\"age\":63},{\"risk\":1,\"sex\":\"female\",\"job\":2,\"housing\":\"rent\",\"saving_accounts\":\"not_known\",\"checking_account\":\"little\",\"credit_amount\":2812,\"duration\":24,\"purpose\":\"car\",\"age\":26},{\"risk\":0,\"sex\":\"female\",\"job\":3,\"housing\":\"own\",\"saving_accounts\":\"little\",\"checking_account\":\"little\",\"credit_amount\":8065,\"duration\":36,\"purpose\":\"education\",\"age\":25},{\"risk\":1,\"sex\":\"male\",\"job\":3,\"housing\":\"own\",\"saving_accounts\":\"little\",\"checking_account\":\"not_known\",\"credit_amount\":3275,\"duration\":21,\"purpose\":\"car\",\"age\":36},{\"risk\":1,\"sex\":\"male\",\"job\":2,\"housing\":\"own\",\"saving_accounts\":\"moderate\",\"checking_account\":\"not_known\",\"credit_amount\":2223,\"duration\":24,\"purpose\":\"radio\\/TV\",\"age\":52},{\"risk\":1,\"sex\":\"male\",\"job\":0,\"housing\":\"free\",\"saving_accounts\":\"quite rich\",\"checking_account\":\"rich\",\"credit_amount\":1480,\"duration\":12,\"purpose\":\"car\",\"age\":66},{\"risk\":0,\"sex\":\"female\",\"job\":2,\"housing\":\"rent\",\"saving_accounts\":\"not_known\",\"checking_account\":\"little\",\"credit_amount\":1371,\"duration\":24,\"purpose\":\"car\",\"age\":25},{\"risk\":1,\"sex\":\"male\",\"job\":2,\"housing\":\"own\",\"saving_accounts\":\"little\",\"checking_account\":\"not_known\",\"credit_amount\":3535,\"duration\":36,\"purpose\":\"car\",\"age\":37},{\"risk\":1,\"sex\":\"female\",\"job\":2,\"housing\":\"own\",\"saving_accounts\":\"little\",\"checking_account\":\"little\",\"credit_amount\":3509,\"duration\":18,\"purpose\":\"radio\\/TV\",\"age\":25},{\"risk\":1,\"sex\":\"male\",\"job\":3,\"housing\":\"own\",\"saving_accounts\":\"rich\",\"checking_account\":\"not_known\",\"credit_amount\":5711,\"duration\":36,\"purpose\":\"car\",\"age\":38},{\"risk\":1,\"sex\":\"female\",\"job\":2,\"housing\":\"own\",\"saving_accounts\":\"little\",\"checking_account\":\"moderate\",\"credit_amount\":3872,\"duration\":18,\"purpose\":\"repairs\",\"age\":67},{\"risk\":0,\"sex\":\"male\",\"job\":2,\"housing\":\"own\",\"saving_accounts\":\"little\",\"checking_account\":\"moderate\",\"credit_amount\":4933,\"duration\":39,\"purpose\":\"radio\\/TV\",\"age\":25},{\"risk\":1,\"sex\":\"male\",\"job\":2,\"housing\":\"own\",\"saving_accounts\":\"rich\",\"checking_account\":\"not_known\",\"credit_amount\":1940,\"duration\":24,\"purpose\":\"car\",\"age\":60},{\"risk\":1,\"sex\":\"male\",\"job\":1,\"housing\":\"own\",\"saving_accounts\":\"little\",\"checking_account\":\"moderate\",\"credit_amount\":1410,\"duration\":12,\"purpose\":\"education\",\"age\":31},{\"risk\":0,\"sex\":\"female\",\"job\":1,\"housing\":\"own\",\"saving_accounts\":\"moderate\",\"checking_account\":\"moderate\",\"credit_amount\":836,\"duration\":12,\"purpose\":\"car\",\"age\":23},{\"risk\":1,\"sex\":\"male\",\"job\":3,\"housing\":\"own\",\"saving_accounts\":\"not_known\",\"checking_account\":\"moderate\",\"credit_amount\":6468,\"duration\":20,\"purpose\":\"car\",\"age\":60},{\"risk\":1,\"sex\":\"male\",\"job\":1,\"housing\":\"own\",\"saving_accounts\":\"rich\",\"checking_account\":\"moderate\",\"credit_amount\":1941,\"duration\":18,\"purpose\":\"business\",\"age\":35},{\"risk\":1,\"sex\":\"male\",\"job\":2,\"housing\":\"own\",\"saving_accounts\":\"quite rich\",\"checking_account\":\"not_known\",\"credit_amount\":2675,\"duration\":22,\"purpose\":\"radio\\/TV\",\"age\":40},{\"risk\":1,\"sex\":\"male\",\"job\":2,\"housing\":\"own\",\"saving_accounts\":\"not_known\",\"checking_account\":\"not_known\",\"credit_amount\":2751,\"duration\":48,\"purpose\":\"car\",\"age\":38},{\"risk\":0,\"sex\":\"male\",\"job\":2,\"housing\":\"free\",\"saving_accounts\":\"little\",\"checking_account\":\"moderate\",\"credit_amount\":6224,\"duration\":48,\"purpose\":\"education\",\"age\":50},{\"risk\":0,\"sex\":\"male\",\"job\":2,\"housing\":\"own\",\"saving_accounts\":\"little\",\"checking_account\":\"little\",\"credit_amount\":5998,\"duration\":40,\"purpose\":\"education\",\"age\":27},{\"risk\":0,\"sex\":\"female\",\"job\":2,\"housing\":\"own\",\"saving_accounts\":\"little\",\"checking_account\":\"moderate\",\"credit_amount\":1188,\"duration\":21,\"purpose\":\"business\",\"age\":39},{\"risk\":1,\"sex\":\"male\",\"job\":3,\"housing\":\"own\",\"saving_accounts\":\"not_known\",\"checking_account\":\"not_known\",\"credit_amount\":6313,\"duration\":24,\"purpose\":\"car\",\"age\":41},{\"risk\":1,\"sex\":\"male\",\"job\":2,\"housing\":\"own\",\"saving_accounts\":\"not_known\",\"checking_account\":\"not_known\",\"credit_amount\":1221,\"duration\":6,\"purpose\":\"furniture\\/equipment\",\"age\":27},{\"risk\":1,\"sex\":\"male\",\"job\":2,\"housing\":\"free\",\"saving_accounts\":\"little\",\"checking_account\":\"rich\",\"credit_amount\":2892,\"duration\":24,\"purpose\":\"furniture\\/equipment\",\"age\":51},{\"risk\":1,\"sex\":\"male\",\"job\":2,\"housing\":\"rent\",\"saving_accounts\":\"quite rich\",\"checking_account\":\"not_known\",\"credit_amount\":3062,\"duration\":24,\"purpose\":\"furniture\\/equipment\",\"age\":32},{\"risk\":1,\"sex\":\"female\",\"job\":2,\"housing\":\"rent\",\"saving_accounts\":\"moderate\",\"checking_account\":\"not_known\",\"credit_amount\":2301,\"duration\":9,\"purpose\":\"furniture\\/equipment\",\"age\":22},{\"risk\":0,\"sex\":\"male\",\"job\":2,\"housing\":\"free\",\"saving_accounts\":\"not_known\",\"checking_account\":\"little\",\"credit_amount\":7511,\"duration\":18,\"purpose\":\"car\",\"age\":51},{\"risk\":1,\"sex\":\"female\",\"job\":1,\"housing\":\"rent\",\"saving_accounts\":\"little\",\"checking_account\":\"not_known\",\"credit_amount\":1258,\"duration\":12,\"purpose\":\"furniture\\/equipment\",\"age\":22},{\"risk\":1,\"sex\":\"male\",\"job\":2,\"housing\":\"own\",\"saving_accounts\":\"not_known\",\"checking_account\":\"not_known\",\"credit_amount\":717,\"duration\":24,\"purpose\":\"car\",\"age\":54},{\"risk\":1,\"sex\":\"male\",\"job\":0,\"housing\":\"own\",\"saving_accounts\":\"not_known\",\"checking_account\":\"moderate\",\"credit_amount\":1549,\"duration\":9,\"purpose\":\"car\",\"age\":35},{\"risk\":1,\"sex\":\"male\",\"job\":2,\"housing\":\"free\",\"saving_accounts\":\"little\",\"checking_account\":\"not_known\",\"credit_amount\":1597,\"duration\":24,\"purpose\":\"education\",\"age\":54},{\"risk\":1,\"sex\":\"female\",\"job\":1,\"housing\":\"rent\",\"saving_accounts\":\"little\",\"checking_account\":\"moderate\",\"credit_amount\":1795,\"duration\":18,\"purpose\":\"radio\\/TV\",\"age\":48},{\"risk\":1,\"sex\":\"female\",\"job\":2,\"housing\":\"own\",\"saving_accounts\":\"little\",\"checking_account\":\"little\",\"credit_amount\":4272,\"duration\":20,\"purpose\":\"furniture\\/equipment\",\"age\":24},{\"risk\":1,\"sex\":\"male\",\"job\":2,\"housing\":\"own\",\"saving_accounts\":\"not_known\",\"checking_account\":\"not_known\",\"credit_amount\":976,\"duration\":12,\"purpose\":\"radio\\/TV\",\"age\":35},{\"risk\":1,\"sex\":\"female\",\"job\":0,\"housing\":\"rent\",\"saving_accounts\":\"not_known\",\"checking_account\":\"moderate\",\"credit_amount\":7472,\"duration\":12,\"purpose\":\"car\",\"age\":24},{\"risk\":0,\"sex\":\"male\",\"job\":2,\"housing\":\"own\",\"saving_accounts\":\"little\",\"checking_account\":\"little\",\"credit_amount\":9271,\"duration\":36,\"purpose\":\"car\",\"age\":24},{\"risk\":1,\"sex\":\"male\",\"job\":1,\"housing\":\"own\",\"saving_accounts\":\"little\",\"checking_account\":\"moderate\",\"credit_amount\":590,\"duration\":6,\"purpose\":\"radio\\/TV\",\"age\":26},{\"risk\":1,\"sex\":\"male\",\"job\":2,\"housing\":\"own\",\"saving_accounts\":\"not_known\",\"checking_account\":\"not_known\",\"credit_amount\":930,\"duration\":12,\"purpose\":\"radio\\/TV\",\"age\":65},{\"risk\":1,\"sex\":\"male\",\"job\":3,\"housing\":\"free\",\"saving_accounts\":\"little\",\"checking_account\":\"moderate\",\"credit_amount\":9283,\"duration\":42,\"purpose\":\"car\",\"age\":55},{\"risk\":0,\"sex\":\"female\",\"job\":0,\"housing\":\"rent\",\"saving_accounts\":\"little\",\"checking_account\":\"moderate\",\"credit_amount\":1778,\"duration\":15,\"purpose\":\"car\",\"age\":26},{\"risk\":1,\"sex\":\"male\",\"job\":2,\"housing\":\"own\",\"saving_accounts\":\"little\",\"checking_account\":\"moderate\",\"credit_amount\":907,\"duration\":8,\"purpose\":\"business\",\"age\":26},{\"risk\":1,\"sex\":\"male\",\"job\":1,\"housing\":\"own\",\"saving_accounts\":\"little\",\"checking_account\":\"moderate\",\"credit_amount\":484,\"duration\":6,\"purpose\":\"radio\\/TV\",\"age\":28},{\"risk\":0,\"sex\":\"male\",\"job\":2,\"housing\":\"own\",\"saving_accounts\":\"little\",\"checking_account\":\"little\",\"credit_amount\":9629,\"duration\":36,\"purpose\":\"car\",\"age\":24},{\"risk\":0,\"sex\":\"male\",\"job\":2,\"housing\":\"own\",\"saving_accounts\":\"little\",\"checking_account\":\"little\",\"credit_amount\":3051,\"duration\":48,\"purpose\":\"domestic appliances\",\"age\":54},{\"risk\":0,\"sex\":\"male\",\"job\":2,\"housing\":\"free\",\"saving_accounts\":\"little\",\"checking_account\":\"little\",\"credit_amount\":3931,\"duration\":48,\"purpose\":\"car\",\"age\":46},{\"risk\":1,\"sex\":\"female\",\"job\":2,\"housing\":\"rent\",\"saving_accounts\":\"little\",\"checking_account\":\"moderate\",\"credit_amount\":7432,\"duration\":36,\"purpose\":\"car\",\"age\":54},{\"risk\":1,\"sex\":\"male\",\"job\":2,\"housing\":\"own\",\"saving_accounts\":\"quite rich\",\"checking_account\":\"not_known\",\"credit_amount\":1338,\"duration\":6,\"purpose\":\"domestic appliances\",\"age\":62},{\"risk\":1,\"sex\":\"female\",\"job\":2,\"housing\":\"rent\",\"saving_accounts\":\"little\",\"checking_account\":\"not_known\",\"credit_amount\":1554,\"duration\":6,\"purpose\":\"radio\\/TV\",\"age\":24},{\"risk\":1,\"sex\":\"male\",\"job\":3,\"housing\":\"own\",\"saving_accounts\":\"little\",\"checking_account\":\"little\",\"credit_amount\":15857,\"duration\":36,\"purpose\":\"vacation\\/others\",\"age\":43},{\"risk\":0,\"sex\":\"male\",\"job\":2,\"housing\":\"own\",\"saving_accounts\":\"little\",\"checking_account\":\"little\",\"credit_amount\":1345,\"duration\":18,\"purpose\":\"radio\\/TV\",\"age\":26},{\"risk\":1,\"sex\":\"male\",\"job\":2,\"housing\":\"own\",\"saving_accounts\":\"little\",\"checking_account\":\"not_known\",\"credit_amount\":1101,\"duration\":12,\"purpose\":\"car\",\"age\":27},{\"risk\":1,\"sex\":\"male\",\"job\":2,\"housing\":\"own\",\"saving_accounts\":\"little\",\"checking_account\":\"rich\",\"credit_amount\":3016,\"duration\":12,\"purpose\":\"radio\\/TV\",\"age\":24},{\"risk\":0,\"sex\":\"male\",\"job\":2,\"housing\":\"own\",\"saving_accounts\":\"little\",\"checking_account\":\"little\",\"credit_amount\":2712,\"duration\":36,\"purpose\":\"furniture\\/equipment\",\"age\":41},{\"risk\":1,\"sex\":\"male\",\"job\":1,\"housing\":\"own\",\"saving_accounts\":\"little\",\"checking_account\":\"little\",\"credit_amount\":731,\"duration\":8,\"purpose\":\"car\",\"age\":47},{\"risk\":1,\"sex\":\"male\",\"job\":3,\"housing\":\"own\",\"saving_accounts\":\"little\",\"checking_account\":\"not_known\",\"credit_amount\":3780,\"duration\":18,\"purpose\":\"furniture\\/equipment\",\"age\":35},{\"risk\":1,\"sex\":\"male\",\"job\":2,\"housing\":\"own\",\"saving_accounts\":\"little\",\"checking_account\":\"little\",\"credit_amount\":1602,\"duration\":21,\"purpose\":\"car\",\"age\":30},{\"risk\":0,\"sex\":\"female\",\"job\":2,\"housing\":\"rent\",\"saving_accounts\":\"little\",\"checking_account\":\"little\",\"credit_amount\":3966,\"duration\":18,\"purpose\":\"car\",\"age\":33},{\"risk\":0,\"sex\":\"male\",\"job\":2,\"housing\":\"own\",\"saving_accounts\":\"little\",\"checking_account\":\"not_known\",\"credit_amount\":4165,\"duration\":18,\"purpose\":\"business\",\"age\":36},{\"risk\":0,\"sex\":\"male\",\"job\":2,\"housing\":\"free\",\"saving_accounts\":\"not_known\",\"checking_account\":\"little\",\"credit_amount\":8335,\"duration\":36,\"purpose\":\"car\",\"age\":47},{\"risk\":1,\"sex\":\"male\",\"job\":2,\"housing\":\"free\",\"saving_accounts\":\"not_known\",\"checking_account\":\"moderate\",\"credit_amount\":6681,\"duration\":48,\"purpose\":\"business\",\"age\":38},{\"risk\":1,\"sex\":\"male\",\"job\":2,\"housing\":\"own\",\"saving_accounts\":\"quite rich\",\"checking_account\":\"not_known\",\"credit_amount\":2375,\"duration\":24,\"purpose\":\"business\",\"age\":44},{\"risk\":0,\"sex\":\"female\",\"job\":2,\"housing\":\"rent\",\"saving_accounts\":\"little\",\"checking_account\":\"little\",\"credit_amount\":1216,\"duration\":18,\"purpose\":\"car\",\"age\":23},{\"risk\":0,\"sex\":\"male\",\"job\":2,\"housing\":\"rent\",\"saving_accounts\":\"little\",\"checking_account\":\"little\",\"credit_amount\":11816,\"duration\":45,\"purpose\":\"business\",\"age\":29},{\"risk\":1,\"sex\":\"female\",\"job\":2,\"housing\":\"own\",\"saving_accounts\":\"not_known\",\"checking_account\":\"moderate\",\"credit_amount\":5084,\"duration\":24,\"purpose\":\"radio\\/TV\",\"age\":42},{\"risk\":0,\"sex\":\"female\",\"job\":1,\"housing\":\"own\",\"saving_accounts\":\"little\",\"checking_account\":\"rich\",\"credit_amount\":2327,\"duration\":15,\"purpose\":\"radio\\/TV\",\"age\":25},{\"risk\":0,\"sex\":\"male\",\"job\":2,\"housing\":\"own\",\"saving_accounts\":\"little\",\"checking_account\":\"little\",\"credit_amount\":1082,\"duration\":12,\"purpose\":\"car\",\"age\":48},{\"risk\":1,\"sex\":\"female\",\"job\":2,\"housing\":\"own\",\"saving_accounts\":\"not_known\",\"checking_account\":\"not_known\",\"credit_amount\":886,\"duration\":12,\"purpose\":\"radio\\/TV\",\"age\":21},{\"risk\":1,\"sex\":\"female\",\"job\":1,\"housing\":\"rent\",\"saving_accounts\":\"little\",\"checking_account\":\"not_known\",\"credit_amount\":601,\"duration\":4,\"purpose\":\"furniture\\/equipment\",\"age\":23},{\"risk\":1,\"sex\":\"male\",\"job\":2,\"housing\":\"own\",\"saving_accounts\":\"little\",\"checking_account\":\"little\",\"credit_amount\":2957,\"duration\":24,\"purpose\":\"car\",\"age\":63},{\"risk\":1,\"sex\":\"male\",\"job\":2,\"housing\":\"own\",\"saving_accounts\":\"little\",\"checking_account\":\"not_known\",\"credit_amount\":2611,\"duration\":24,\"purpose\":\"radio\\/TV\",\"age\":46},{\"risk\":0,\"sex\":\"male\",\"job\":2,\"housing\":\"own\",\"saving_accounts\":\"little\",\"checking_account\":\"little\",\"credit_amount\":5179,\"duration\":36,\"purpose\":\"furniture\\/equipment\",\"age\":29},{\"risk\":1,\"sex\":\"male\",\"job\":1,\"housing\":\"own\",\"saving_accounts\":\"little\",\"checking_account\":\"not_known\",\"credit_amount\":2993,\"duration\":21,\"purpose\":\"car\",\"age\":28},{\"risk\":0,\"sex\":\"female\",\"job\":2,\"housing\":\"own\",\"saving_accounts\":\"little\",\"checking_account\":\"not_known\",\"credit_amount\":1943,\"duration\":18,\"purpose\":\"repairs\",\"age\":23},{\"risk\":1,\"sex\":\"male\",\"job\":2,\"housing\":\"own\",\"saving_accounts\":\"little\",\"checking_account\":\"not_known\",\"credit_amount\":1559,\"duration\":24,\"purpose\":\"business\",\"age\":50},{\"risk\":1,\"sex\":\"male\",\"job\":2,\"housing\":\"own\",\"saving_accounts\":\"little\",\"checking_account\":\"not_known\",\"credit_amount\":3422,\"duration\":18,\"purpose\":\"furniture\\/equipment\",\"age\":47},{\"risk\":1,\"sex\":\"male\",\"job\":2,\"housing\":\"own\",\"saving_accounts\":\"not_known\",\"checking_account\":\"moderate\",\"credit_amount\":3976,\"duration\":21,\"purpose\":\"furniture\\/equipment\",\"age\":35},{\"risk\":0,\"sex\":\"male\",\"job\":2,\"housing\":\"rent\",\"saving_accounts\":\"not_known\",\"checking_account\":\"not_known\",\"credit_amount\":6761,\"duration\":18,\"purpose\":\"car\",\"age\":68},{\"risk\":1,\"sex\":\"male\",\"job\":2,\"housing\":\"own\",\"saving_accounts\":\"little\",\"checking_account\":\"not_known\",\"credit_amount\":1249,\"duration\":24,\"purpose\":\"car\",\"age\":28},{\"risk\":1,\"sex\":\"male\",\"job\":2,\"housing\":\"own\",\"saving_accounts\":\"little\",\"checking_account\":\"little\",\"credit_amount\":1364,\"duration\":9,\"purpose\":\"radio\\/TV\",\"age\":59},{\"risk\":0,\"sex\":\"male\",\"job\":1,\"housing\":\"own\",\"saving_accounts\":\"little\",\"checking_account\":\"little\",\"credit_amount\":709,\"duration\":12,\"purpose\":\"radio\\/TV\",\"age\":57},{\"risk\":0,\"sex\":\"male\",\"job\":2,\"housing\":\"rent\",\"saving_accounts\":\"little\",\"checking_account\":\"little\",\"credit_amount\":2235,\"duration\":20,\"purpose\":\"car\",\"age\":33},{\"risk\":1,\"sex\":\"male\",\"job\":2,\"housing\":\"own\",\"saving_accounts\":\"not_known\",\"checking_account\":\"not_known\",\"credit_amount\":4042,\"duration\":24,\"purpose\":\"car\",\"age\":43},{\"risk\":1,\"sex\":\"male\",\"job\":2,\"housing\":\"free\",\"saving_accounts\":\"little\",\"checking_account\":\"not_known\",\"credit_amount\":1471,\"duration\":15,\"purpose\":\"radio\\/TV\",\"age\":35},{\"risk\":0,\"sex\":\"male\",\"job\":1,\"housing\":\"free\",\"saving_accounts\":\"little\",\"checking_account\":\"little\",\"credit_amount\":1442,\"duration\":18,\"purpose\":\"car\",\"age\":32},{\"risk\":1,\"sex\":\"male\",\"job\":2,\"housing\":\"own\",\"saving_accounts\":\"little\",\"checking_account\":\"not_known\",\"credit_amount\":10875,\"duration\":36,\"purpose\":\"car\",\"age\":45},{\"risk\":1,\"sex\":\"male\",\"job\":2,\"housing\":\"own\",\"saving_accounts\":\"moderate\",\"checking_account\":\"not_known\",\"credit_amount\":1474,\"duration\":24,\"purpose\":\"car\",\"age\":33},{\"risk\":1,\"sex\":\"female\",\"job\":2,\"housing\":\"own\",\"saving_accounts\":\"not_known\",\"checking_account\":\"not_known\",\"credit_amount\":894,\"duration\":10,\"purpose\":\"education\",\"age\":40},{\"risk\":1,\"sex\":\"male\",\"job\":2,\"housing\":\"free\",\"saving_accounts\":\"little\",\"checking_account\":\"not_known\",\"credit_amount\":3343,\"duration\":15,\"purpose\":\"furniture\\/equipment\",\"age\":28},{\"risk\":0,\"sex\":\"female\",\"job\":2,\"housing\":\"own\",\"saving_accounts\":\"little\",\"checking_account\":\"little\",\"credit_amount\":3959,\"duration\":15,\"purpose\":\"car\",\"age\":29},{\"risk\":1,\"sex\":\"male\",\"job\":2,\"housing\":\"rent\",\"saving_accounts\":\"moderate\",\"checking_account\":\"not_known\",\"credit_amount\":3577,\"duration\":9,\"purpose\":\"car\",\"age\":26},{\"risk\":1,\"sex\":\"male\",\"job\":2,\"housing\":\"own\",\"saving_accounts\":\"rich\",\"checking_account\":\"not_known\",\"credit_amount\":5804,\"duration\":24,\"purpose\":\"car\",\"age\":27},{\"risk\":0,\"sex\":\"male\",\"job\":2,\"housing\":\"own\",\"saving_accounts\":\"little\",\"checking_account\":\"not_known\",\"credit_amount\":2169,\"duration\":18,\"purpose\":\"business\",\"age\":28},{\"risk\":0,\"sex\":\"female\",\"job\":2,\"housing\":\"own\",\"saving_accounts\":\"little\",\"checking_account\":\"little\",\"credit_amount\":2439,\"duration\":24,\"purpose\":\"radio\\/TV\",\"age\":35},{\"risk\":1,\"sex\":\"male\",\"job\":1,\"housing\":\"own\",\"saving_accounts\":\"rich\",\"checking_account\":\"not_known\",\"credit_amount\":4526,\"duration\":27,\"purpose\":\"furniture\\/equipment\",\"age\":32},{\"risk\":0,\"sex\":\"male\",\"job\":1,\"housing\":\"rent\",\"saving_accounts\":\"little\",\"checking_account\":\"not_known\",\"credit_amount\":2210,\"duration\":10,\"purpose\":\"furniture\\/equipment\",\"age\":25},{\"risk\":1,\"sex\":\"female\",\"job\":2,\"housing\":\"rent\",\"saving_accounts\":\"quite rich\",\"checking_account\":\"not_known\",\"credit_amount\":2221,\"duration\":15,\"purpose\":\"furniture\\/equipment\",\"age\":20},{\"risk\":1,\"sex\":\"female\",\"job\":2,\"housing\":\"own\",\"saving_accounts\":\"little\",\"checking_account\":\"little\",\"credit_amount\":2389,\"duration\":18,\"purpose\":\"radio\\/TV\",\"age\":27},{\"risk\":1,\"sex\":\"male\",\"job\":2,\"housing\":\"own\",\"saving_accounts\":\"little\",\"checking_account\":\"not_known\",\"credit_amount\":3331,\"duration\":12,\"purpose\":\"furniture\\/equipment\",\"age\":42},{\"risk\":1,\"sex\":\"male\",\"job\":2,\"housing\":\"own\",\"saving_accounts\":\"not_known\",\"checking_account\":\"not_known\",\"credit_amount\":7409,\"duration\":36,\"purpose\":\"business\",\"age\":37},{\"risk\":1,\"sex\":\"female\",\"job\":2,\"housing\":\"rent\",\"saving_accounts\":\"little\",\"checking_account\":\"little\",\"credit_amount\":652,\"duration\":12,\"purpose\":\"furniture\\/equipment\",\"age\":24},{\"risk\":1,\"sex\":\"female\",\"job\":2,\"housing\":\"own\",\"saving_accounts\":\"quite rich\",\"checking_account\":\"not_known\",\"credit_amount\":7678,\"duration\":36,\"purpose\":\"furniture\\/equipment\",\"age\":40},{\"risk\":1,\"sex\":\"male\",\"job\":2,\"housing\":\"own\",\"saving_accounts\":\"little\",\"checking_account\":\"rich\",\"credit_amount\":1343,\"duration\":6,\"purpose\":\"car\",\"age\":46},{\"risk\":1,\"sex\":\"male\",\"job\":2,\"housing\":\"own\",\"saving_accounts\":\"moderate\",\"checking_account\":\"little\",\"credit_amount\":1382,\"duration\":24,\"purpose\":\"business\",\"age\":26},{\"risk\":1,\"sex\":\"female\",\"job\":2,\"housing\":\"own\",\"saving_accounts\":\"not_known\",\"checking_account\":\"not_known\",\"credit_amount\":874,\"duration\":15,\"purpose\":\"domestic appliances\",\"age\":24},{\"risk\":1,\"sex\":\"male\",\"job\":1,\"housing\":\"own\",\"saving_accounts\":\"little\",\"checking_account\":\"little\",\"credit_amount\":3590,\"duration\":12,\"purpose\":\"furniture\\/equipment\",\"age\":29},{\"risk\":1,\"sex\":\"female\",\"job\":2,\"housing\":\"own\",\"saving_accounts\":\"rich\",\"checking_account\":\"moderate\",\"credit_amount\":1322,\"duration\":11,\"purpose\":\"car\",\"age\":40},{\"risk\":1,\"sex\":\"male\",\"job\":3,\"housing\":\"free\",\"saving_accounts\":\"little\",\"checking_account\":\"little\",\"credit_amount\":1940,\"duration\":18,\"purpose\":\"radio\\/TV\",\"age\":36},{\"risk\":1,\"sex\":\"male\",\"job\":2,\"housing\":\"own\",\"saving_accounts\":\"little\",\"checking_account\":\"not_known\",\"credit_amount\":3595,\"duration\":36,\"purpose\":\"radio\\/TV\",\"age\":28},{\"risk\":0,\"sex\":\"male\",\"job\":3,\"housing\":\"free\",\"saving_accounts\":\"little\",\"checking_account\":\"little\",\"credit_amount\":1422,\"duration\":9,\"purpose\":\"car\",\"age\":27},{\"risk\":1,\"sex\":\"male\",\"job\":2,\"housing\":\"own\",\"saving_accounts\":\"not_known\",\"checking_account\":\"not_known\",\"credit_amount\":6742,\"duration\":30,\"purpose\":\"radio\\/TV\",\"age\":36},{\"risk\":1,\"sex\":\"male\",\"job\":3,\"housing\":\"own\",\"saving_accounts\":\"little\",\"checking_account\":\"not_known\",\"credit_amount\":7814,\"duration\":24,\"purpose\":\"car\",\"age\":38},{\"risk\":1,\"sex\":\"male\",\"job\":2,\"housing\":\"free\",\"saving_accounts\":\"not_known\",\"checking_account\":\"not_known\",\"credit_amount\":9277,\"duration\":24,\"purpose\":\"car\",\"age\":48},{\"risk\":1,\"sex\":\"male\",\"job\":2,\"housing\":\"own\",\"saving_accounts\":\"not_known\",\"checking_account\":\"moderate\",\"credit_amount\":2181,\"duration\":30,\"purpose\":\"car\",\"age\":36},{\"risk\":1,\"sex\":\"female\",\"job\":0,\"housing\":\"own\",\"saving_accounts\":\"little\",\"checking_account\":\"not_known\",\"credit_amount\":1098,\"duration\":18,\"purpose\":\"radio\\/TV\",\"age\":65},{\"risk\":0,\"sex\":\"male\",\"job\":2,\"housing\":\"own\",\"saving_accounts\":\"little\",\"checking_account\":\"moderate\",\"credit_amount\":4057,\"duration\":24,\"purpose\":\"furniture\\/equipment\",\"age\":43},{\"risk\":0,\"sex\":\"female\",\"job\":2,\"housing\":\"own\",\"saving_accounts\":\"little\",\"checking_account\":\"little\",\"credit_amount\":795,\"duration\":12,\"purpose\":\"education\",\"age\":53},{\"risk\":1,\"sex\":\"male\",\"job\":2,\"housing\":\"own\",\"saving_accounts\":\"not_known\",\"checking_account\":\"moderate\",\"credit_amount\":2825,\"duration\":24,\"purpose\":\"business\",\"age\":34},{\"risk\":0,\"sex\":\"male\",\"job\":2,\"housing\":\"own\",\"saving_accounts\":\"little\",\"checking_account\":\"moderate\",\"credit_amount\":15672,\"duration\":48,\"purpose\":\"business\",\"age\":23},{\"risk\":1,\"sex\":\"male\",\"job\":3,\"housing\":\"own\",\"saving_accounts\":\"little\",\"checking_account\":\"not_known\",\"credit_amount\":6614,\"duration\":36,\"purpose\":\"car\",\"age\":34},{\"risk\":1,\"sex\":\"male\",\"job\":2,\"housing\":\"rent\",\"saving_accounts\":\"not_known\",\"checking_account\":\"not_known\",\"credit_amount\":7824,\"duration\":28,\"purpose\":\"car\",\"age\":40},{\"risk\":1,\"sex\":\"male\",\"job\":3,\"housing\":\"own\",\"saving_accounts\":\"little\",\"checking_account\":\"little\",\"credit_amount\":2442,\"duration\":27,\"purpose\":\"business\",\"age\":43},{\"risk\":1,\"sex\":\"male\",\"job\":2,\"housing\":\"own\",\"saving_accounts\":\"little\",\"checking_account\":\"not_known\",\"credit_amount\":1829,\"duration\":15,\"purpose\":\"radio\\/TV\",\"age\":46},{\"risk\":1,\"sex\":\"male\",\"job\":1,\"housing\":\"own\",\"saving_accounts\":\"little\",\"checking_account\":\"little\",\"credit_amount\":2171,\"duration\":12,\"purpose\":\"car\",\"age\":38},{\"risk\":1,\"sex\":\"male\",\"job\":2,\"housing\":\"own\",\"saving_accounts\":\"little\",\"checking_account\":\"moderate\",\"credit_amount\":5800,\"duration\":36,\"purpose\":\"car\",\"age\":34},{\"risk\":1,\"sex\":\"male\",\"job\":2,\"housing\":\"own\",\"saving_accounts\":\"not_known\",\"checking_account\":\"not_known\",\"credit_amount\":1169,\"duration\":18,\"purpose\":\"radio\\/TV\",\"age\":29},{\"risk\":1,\"sex\":\"male\",\"job\":3,\"housing\":\"own\",\"saving_accounts\":\"not_known\",\"checking_account\":\"not_known\",\"credit_amount\":8947,\"duration\":36,\"purpose\":\"car\",\"age\":31},{\"risk\":1,\"sex\":\"female\",\"job\":3,\"housing\":\"rent\",\"saving_accounts\":\"little\",\"checking_account\":\"little\",\"credit_amount\":2606,\"duration\":21,\"purpose\":\"radio\\/TV\",\"age\":28},{\"risk\":1,\"sex\":\"female\",\"job\":2,\"housing\":\"own\",\"saving_accounts\":\"rich\",\"checking_account\":\"not_known\",\"credit_amount\":1592,\"duration\":12,\"purpose\":\"furniture\\/equipment\",\"age\":35},{\"risk\":1,\"sex\":\"female\",\"job\":1,\"housing\":\"rent\",\"saving_accounts\":\"not_known\",\"checking_account\":\"not_known\",\"credit_amount\":2186,\"duration\":15,\"purpose\":\"furniture\\/equipment\",\"age\":33},{\"risk\":0,\"sex\":\"male\",\"job\":2,\"housing\":\"own\",\"saving_accounts\":\"little\",\"checking_account\":\"little\",\"credit_amount\":4153,\"duration\":18,\"purpose\":\"furniture\\/equipment\",\"age\":42},{\"risk\":0,\"sex\":\"male\",\"job\":2,\"housing\":\"rent\",\"saving_accounts\":\"little\",\"checking_account\":\"little\",\"credit_amount\":2625,\"duration\":16,\"purpose\":\"car\",\"age\":43},{\"risk\":1,\"sex\":\"male\",\"job\":2,\"housing\":\"own\",\"saving_accounts\":\"not_known\",\"checking_account\":\"not_known\",\"credit_amount\":3485,\"duration\":20,\"purpose\":\"car\",\"age\":44},{\"risk\":1,\"sex\":\"male\",\"job\":2,\"housing\":\"free\",\"saving_accounts\":\"not_known\",\"checking_account\":\"not_known\",\"credit_amount\":10477,\"duration\":36,\"purpose\":\"car\",\"age\":42},{\"risk\":1,\"sex\":\"male\",\"job\":2,\"housing\":\"rent\",\"saving_accounts\":\"not_known\",\"checking_account\":\"not_known\",\"credit_amount\":1386,\"duration\":15,\"purpose\":\"radio\\/TV\",\"age\":40},{\"risk\":1,\"sex\":\"male\",\"job\":3,\"housing\":\"own\",\"saving_accounts\":\"little\",\"checking_account\":\"not_known\",\"credit_amount\":1278,\"duration\":24,\"purpose\":\"radio\\/TV\",\"age\":36},{\"risk\":1,\"sex\":\"male\",\"job\":3,\"housing\":\"rent\",\"saving_accounts\":\"little\",\"checking_account\":\"little\",\"credit_amount\":1107,\"duration\":12,\"purpose\":\"radio\\/TV\",\"age\":20},{\"risk\":1,\"sex\":\"male\",\"job\":1,\"housing\":\"own\",\"saving_accounts\":\"not_known\",\"checking_account\":\"little\",\"credit_amount\":3763,\"duration\":21,\"purpose\":\"car\",\"age\":24},{\"risk\":1,\"sex\":\"male\",\"job\":2,\"housing\":\"own\",\"saving_accounts\":\"not_known\",\"checking_account\":\"moderate\",\"credit_amount\":3711,\"duration\":36,\"purpose\":\"education\",\"age\":27},{\"risk\":1,\"sex\":\"female\",\"job\":1,\"housing\":\"own\",\"saving_accounts\":\"little\",\"checking_account\":\"not_known\",\"credit_amount\":3594,\"duration\":15,\"purpose\":\"car\",\"age\":46},{\"risk\":1,\"sex\":\"female\",\"job\":1,\"housing\":\"own\",\"saving_accounts\":\"not_known\",\"checking_account\":\"moderate\",\"credit_amount\":3195,\"duration\":9,\"purpose\":\"car\",\"age\":33},{\"risk\":1,\"sex\":\"female\",\"job\":2,\"housing\":\"own\",\"saving_accounts\":\"little\",\"checking_account\":\"not_known\",\"credit_amount\":4454,\"duration\":36,\"purpose\":\"radio\\/TV\",\"age\":34},{\"risk\":0,\"sex\":\"female\",\"job\":1,\"housing\":\"own\",\"saving_accounts\":\"little\",\"checking_account\":\"moderate\",\"credit_amount\":4736,\"duration\":24,\"purpose\":\"furniture\\/equipment\",\"age\":25},{\"risk\":1,\"sex\":\"female\",\"job\":2,\"housing\":\"own\",\"saving_accounts\":\"not_known\",\"checking_account\":\"moderate\",\"credit_amount\":2991,\"duration\":30,\"purpose\":\"radio\\/TV\",\"age\":25},{\"risk\":1,\"sex\":\"male\",\"job\":2,\"housing\":\"own\",\"saving_accounts\":\"rich\",\"checking_account\":\"not_known\",\"credit_amount\":2142,\"duration\":11,\"purpose\":\"business\",\"age\":28},{\"risk\":0,\"sex\":\"male\",\"job\":2,\"housing\":\"rent\",\"saving_accounts\":\"little\",\"checking_account\":\"little\",\"credit_amount\":3161,\"duration\":24,\"purpose\":\"business\",\"age\":31},{\"risk\":0,\"sex\":\"female\",\"job\":3,\"housing\":\"own\",\"saving_accounts\":\"little\",\"checking_account\":\"moderate\",\"credit_amount\":18424,\"duration\":48,\"purpose\":\"vacation\\/others\",\"age\":32},{\"risk\":1,\"sex\":\"male\",\"job\":2,\"housing\":\"own\",\"saving_accounts\":\"moderate\",\"checking_account\":\"not_known\",\"credit_amount\":2848,\"duration\":10,\"purpose\":\"car\",\"age\":32},{\"risk\":0,\"sex\":\"male\",\"job\":3,\"housing\":\"own\",\"saving_accounts\":\"little\",\"checking_account\":\"little\",\"credit_amount\":14896,\"duration\":6,\"purpose\":\"car\",\"age\":68},{\"risk\":0,\"sex\":\"male\",\"job\":2,\"housing\":\"own\",\"saving_accounts\":\"moderate\",\"checking_account\":\"little\",\"credit_amount\":2359,\"duration\":24,\"purpose\":\"furniture\\/equipment\",\"age\":33},{\"risk\":0,\"sex\":\"male\",\"job\":3,\"housing\":\"rent\",\"saving_accounts\":\"little\",\"checking_account\":\"little\",\"credit_amount\":3345,\"duration\":24,\"purpose\":\"furniture\\/equipment\",\"age\":39},{\"risk\":1,\"sex\":\"female\",\"job\":2,\"housing\":\"own\",\"saving_accounts\":\"little\",\"checking_account\":\"not_known\",\"credit_amount\":1817,\"duration\":18,\"purpose\":\"furniture\\/equipment\",\"age\":28},{\"risk\":1,\"sex\":\"male\",\"job\":3,\"housing\":\"own\",\"saving_accounts\":\"quite rich\",\"checking_account\":\"not_known\",\"credit_amount\":12749,\"duration\":48,\"purpose\":\"radio\\/TV\",\"age\":37},{\"risk\":0,\"sex\":\"female\",\"job\":2,\"housing\":\"rent\",\"saving_accounts\":\"little\",\"checking_account\":\"little\",\"credit_amount\":1366,\"duration\":9,\"purpose\":\"radio\\/TV\",\"age\":22},{\"risk\":1,\"sex\":\"male\",\"job\":2,\"housing\":\"rent\",\"saving_accounts\":\"little\",\"checking_account\":\"moderate\",\"credit_amount\":2002,\"duration\":12,\"purpose\":\"car\",\"age\":30},{\"risk\":0,\"sex\":\"male\",\"job\":2,\"housing\":\"own\",\"saving_accounts\":\"little\",\"checking_account\":\"little\",\"credit_amount\":6872,\"duration\":24,\"purpose\":\"furniture\\/equipment\",\"age\":55},{\"risk\":0,\"sex\":\"male\",\"job\":2,\"housing\":\"own\",\"saving_accounts\":\"little\",\"checking_account\":\"little\",\"credit_amount\":697,\"duration\":12,\"purpose\":\"car\",\"age\":46},{\"risk\":1,\"sex\":\"female\",\"job\":2,\"housing\":\"rent\",\"saving_accounts\":\"little\",\"checking_account\":\"little\",\"credit_amount\":1049,\"duration\":18,\"purpose\":\"furniture\\/equipment\",\"age\":21},{\"risk\":0,\"sex\":\"male\",\"job\":2,\"housing\":\"free\",\"saving_accounts\":\"little\",\"checking_account\":\"little\",\"credit_amount\":10297,\"duration\":48,\"purpose\":\"car\",\"age\":39},{\"risk\":1,\"sex\":\"male\",\"job\":2,\"housing\":\"own\",\"saving_accounts\":\"not_known\",\"checking_account\":\"not_known\",\"credit_amount\":1867,\"duration\":30,\"purpose\":\"radio\\/TV\",\"age\":58},{\"risk\":1,\"sex\":\"male\",\"job\":1,\"housing\":\"own\",\"saving_accounts\":\"little\",\"checking_account\":\"little\",\"credit_amount\":1344,\"duration\":12,\"purpose\":\"car\",\"age\":43},{\"risk\":1,\"sex\":\"male\",\"job\":1,\"housing\":\"own\",\"saving_accounts\":\"little\",\"checking_account\":\"little\",\"credit_amount\":1747,\"duration\":24,\"purpose\":\"furniture\\/equipment\",\"age\":24},{\"risk\":0,\"sex\":\"female\",\"job\":2,\"housing\":\"own\",\"saving_accounts\":\"little\",\"checking_account\":\"moderate\",\"credit_amount\":1670,\"duration\":9,\"purpose\":\"radio\\/TV\",\"age\":22},{\"risk\":1,\"sex\":\"male\",\"job\":2,\"housing\":\"own\",\"saving_accounts\":\"little\",\"checking_account\":\"not_known\",\"credit_amount\":1224,\"duration\":9,\"purpose\":\"car\",\"age\":30},{\"risk\":1,\"sex\":\"male\",\"job\":2,\"housing\":\"own\",\"saving_accounts\":\"quite rich\",\"checking_account\":\"not_known\",\"credit_amount\":522,\"duration\":12,\"purpose\":\"radio\\/TV\",\"age\":42},{\"risk\":1,\"sex\":\"female\",\"job\":2,\"housing\":\"own\",\"saving_accounts\":\"little\",\"checking_account\":\"little\",\"credit_amount\":1498,\"duration\":12,\"purpose\":\"radio\\/TV\",\"age\":23},{\"risk\":0,\"sex\":\"male\",\"job\":3,\"housing\":\"own\",\"saving_accounts\":\"moderate\",\"checking_account\":\"moderate\",\"credit_amount\":1919,\"duration\":30,\"purpose\":\"radio\\/TV\",\"age\":30},{\"risk\":0,\"sex\":\"female\",\"job\":1,\"housing\":\"own\",\"saving_accounts\":\"little\",\"checking_account\":\"rich\",\"credit_amount\":745,\"duration\":9,\"purpose\":\"radio\\/TV\",\"age\":28},{\"risk\":1,\"sex\":\"male\",\"job\":3,\"housing\":\"rent\",\"saving_accounts\":\"little\",\"checking_account\":\"moderate\",\"credit_amount\":2063,\"duration\":6,\"purpose\":\"radio\\/TV\",\"age\":30},{\"risk\":0,\"sex\":\"male\",\"job\":2,\"housing\":\"free\",\"saving_accounts\":\"little\",\"checking_account\":\"moderate\",\"credit_amount\":6288,\"duration\":60,\"purpose\":\"education\",\"age\":42},{\"risk\":1,\"sex\":\"male\",\"job\":3,\"housing\":\"own\",\"saving_accounts\":\"not_known\",\"checking_account\":\"not_known\",\"credit_amount\":6842,\"duration\":24,\"purpose\":\"car\",\"age\":46},{\"risk\":1,\"sex\":\"male\",\"job\":3,\"housing\":\"own\",\"saving_accounts\":\"not_known\",\"checking_account\":\"not_known\",\"credit_amount\":3527,\"duration\":12,\"purpose\":\"car\",\"age\":45},{\"risk\":1,\"sex\":\"male\",\"job\":1,\"housing\":\"own\",\"saving_accounts\":\"little\",\"checking_account\":\"not_known\",\"credit_amount\":1546,\"duration\":10,\"purpose\":\"car\",\"age\":31},{\"risk\":1,\"sex\":\"male\",\"job\":2,\"housing\":\"own\",\"saving_accounts\":\"not_known\",\"checking_account\":\"not_known\",\"credit_amount\":929,\"duration\":24,\"purpose\":\"furniture\\/equipment\",\"age\":31},{\"risk\":1,\"sex\":\"male\",\"job\":1,\"housing\":\"own\",\"saving_accounts\":\"little\",\"checking_account\":\"not_known\",\"credit_amount\":1455,\"duration\":4,\"purpose\":\"car\",\"age\":42},{\"risk\":1,\"sex\":\"female\",\"job\":2,\"housing\":\"rent\",\"saving_accounts\":\"little\",\"checking_account\":\"little\",\"credit_amount\":1845,\"duration\":15,\"purpose\":\"furniture\\/equipment\",\"age\":46},{\"risk\":1,\"sex\":\"female\",\"job\":2,\"housing\":\"own\",\"saving_accounts\":\"quite rich\",\"checking_account\":\"moderate\",\"credit_amount\":8358,\"duration\":48,\"purpose\":\"car\",\"age\":30},{\"risk\":0,\"sex\":\"male\",\"job\":2,\"housing\":\"free\",\"saving_accounts\":\"quite rich\",\"checking_account\":\"little\",\"credit_amount\":3349,\"duration\":24,\"purpose\":\"furniture\\/equipment\",\"age\":30},{\"risk\":1,\"sex\":\"male\",\"job\":3,\"housing\":\"own\",\"saving_accounts\":\"not_known\",\"checking_account\":\"not_known\",\"credit_amount\":2859,\"duration\":12,\"purpose\":\"car\",\"age\":38},{\"risk\":0,\"sex\":\"male\",\"job\":1,\"housing\":\"own\",\"saving_accounts\":\"little\",\"checking_account\":\"not_known\",\"credit_amount\":1533,\"duration\":18,\"purpose\":\"furniture\\/equipment\",\"age\":43},{\"risk\":0,\"sex\":\"male\",\"job\":2,\"housing\":\"own\",\"saving_accounts\":\"moderate\",\"checking_account\":\"not_known\",\"credit_amount\":3621,\"duration\":24,\"purpose\":\"radio\\/TV\",\"age\":31},{\"risk\":1,\"sex\":\"male\",\"job\":0,\"housing\":\"own\",\"saving_accounts\":\"little\",\"checking_account\":\"moderate\",\"credit_amount\":3590,\"duration\":18,\"purpose\":\"business\",\"age\":40},{\"risk\":0,\"sex\":\"male\",\"job\":2,\"housing\":\"own\",\"saving_accounts\":\"little\",\"checking_account\":\"little\",\"credit_amount\":2145,\"duration\":36,\"purpose\":\"business\",\"age\":24},{\"risk\":0,\"sex\":\"female\",\"job\":2,\"housing\":\"rent\",\"saving_accounts\":\"quite rich\",\"checking_account\":\"moderate\",\"credit_amount\":4113,\"duration\":24,\"purpose\":\"car\",\"age\":28},{\"risk\":0,\"sex\":\"female\",\"job\":3,\"housing\":\"own\",\"saving_accounts\":\"little\",\"checking_account\":\"not_known\",\"credit_amount\":10974,\"duration\":36,\"purpose\":\"furniture\\/equipment\",\"age\":26},{\"risk\":1,\"sex\":\"female\",\"job\":2,\"housing\":\"own\",\"saving_accounts\":\"little\",\"checking_account\":\"little\",\"credit_amount\":1893,\"duration\":12,\"purpose\":\"car\",\"age\":29},{\"risk\":1,\"sex\":\"female\",\"job\":3,\"housing\":\"rent\",\"saving_accounts\":\"rich\",\"checking_account\":\"little\",\"credit_amount\":1231,\"duration\":24,\"purpose\":\"radio\\/TV\",\"age\":57},{\"risk\":1,\"sex\":\"male\",\"job\":1,\"housing\":\"own\",\"saving_accounts\":\"not_known\",\"checking_account\":\"rich\",\"credit_amount\":3656,\"duration\":30,\"purpose\":\"radio\\/TV\",\"age\":49},{\"risk\":1,\"sex\":\"male\",\"job\":1,\"housing\":\"own\",\"saving_accounts\":\"little\",\"checking_account\":\"moderate\",\"credit_amount\":1154,\"duration\":9,\"purpose\":\"radio\\/TV\",\"age\":37},{\"risk\":0,\"sex\":\"male\",\"job\":1,\"housing\":\"own\",\"saving_accounts\":\"little\",\"checking_account\":\"little\",\"credit_amount\":4006,\"duration\":28,\"purpose\":\"car\",\"age\":45},{\"risk\":1,\"sex\":\"male\",\"job\":2,\"housing\":\"free\",\"saving_accounts\":\"moderate\",\"checking_account\":\"moderate\",\"credit_amount\":3069,\"duration\":24,\"purpose\":\"furniture\\/equipment\",\"age\":30},{\"risk\":1,\"sex\":\"male\",\"job\":2,\"housing\":\"rent\",\"saving_accounts\":\"little\",\"checking_account\":\"not_known\",\"credit_amount\":1740,\"duration\":6,\"purpose\":\"radio\\/TV\",\"age\":30},{\"risk\":1,\"sex\":\"male\",\"job\":2,\"housing\":\"own\",\"saving_accounts\":\"little\",\"checking_account\":\"moderate\",\"credit_amount\":2353,\"duration\":21,\"purpose\":\"car\",\"age\":47},{\"risk\":1,\"sex\":\"male\",\"job\":2,\"housing\":\"own\",\"saving_accounts\":\"not_known\",\"checking_account\":\"not_known\",\"credit_amount\":3556,\"duration\":15,\"purpose\":\"car\",\"age\":29},{\"risk\":0,\"sex\":\"male\",\"job\":2,\"housing\":\"own\",\"saving_accounts\":\"quite rich\",\"checking_account\":\"not_known\",\"credit_amount\":2397,\"duration\":24,\"purpose\":\"radio\\/TV\",\"age\":35},{\"risk\":1,\"sex\":\"male\",\"job\":1,\"housing\":\"own\",\"saving_accounts\":\"little\",\"checking_account\":\"moderate\",\"credit_amount\":454,\"duration\":6,\"purpose\":\"repairs\",\"age\":22},{\"risk\":1,\"sex\":\"female\",\"job\":2,\"housing\":\"own\",\"saving_accounts\":\"not_known\",\"checking_account\":\"moderate\",\"credit_amount\":1715,\"duration\":30,\"purpose\":\"radio\\/TV\",\"age\":26},{\"risk\":0,\"sex\":\"male\",\"job\":1,\"housing\":\"own\",\"saving_accounts\":\"quite rich\",\"checking_account\":\"moderate\",\"credit_amount\":2520,\"duration\":27,\"purpose\":\"radio\\/TV\",\"age\":23},{\"risk\":1,\"sex\":\"female\",\"job\":3,\"housing\":\"rent\",\"saving_accounts\":\"little\",\"checking_account\":\"not_known\",\"credit_amount\":3568,\"duration\":15,\"purpose\":\"radio\\/TV\",\"age\":54},{\"risk\":1,\"sex\":\"male\",\"job\":2,\"housing\":\"rent\",\"saving_accounts\":\"not_known\",\"checking_account\":\"not_known\",\"credit_amount\":7166,\"duration\":42,\"purpose\":\"radio\\/TV\",\"age\":29},{\"risk\":1,\"sex\":\"male\",\"job\":1,\"housing\":\"own\",\"saving_accounts\":\"little\",\"checking_account\":\"little\",\"credit_amount\":3939,\"duration\":11,\"purpose\":\"car\",\"age\":40},{\"risk\":1,\"sex\":\"male\",\"job\":2,\"housing\":\"own\",\"saving_accounts\":\"moderate\",\"checking_account\":\"moderate\",\"credit_amount\":1514,\"duration\":15,\"purpose\":\"repairs\",\"age\":22},{\"risk\":1,\"sex\":\"male\",\"job\":1,\"housing\":\"own\",\"saving_accounts\":\"little\",\"checking_account\":\"not_known\",\"credit_amount\":7393,\"duration\":24,\"purpose\":\"car\",\"age\":43},{\"risk\":0,\"sex\":\"female\",\"job\":0,\"housing\":\"rent\",\"saving_accounts\":\"little\",\"checking_account\":\"little\",\"credit_amount\":1193,\"duration\":24,\"purpose\":\"car\",\"age\":29},{\"risk\":0,\"sex\":\"male\",\"job\":2,\"housing\":\"rent\",\"saving_accounts\":\"little\",\"checking_account\":\"little\",\"credit_amount\":7297,\"duration\":60,\"purpose\":\"business\",\"age\":36},{\"risk\":1,\"sex\":\"female\",\"job\":2,\"housing\":\"own\",\"saving_accounts\":\"little\",\"checking_account\":\"not_known\",\"credit_amount\":2831,\"duration\":30,\"purpose\":\"radio\\/TV\",\"age\":33},{\"risk\":1,\"sex\":\"female\",\"job\":1,\"housing\":\"own\",\"saving_accounts\":\"quite rich\",\"checking_account\":\"rich\",\"credit_amount\":1258,\"duration\":24,\"purpose\":\"radio\\/TV\",\"age\":57},{\"risk\":1,\"sex\":\"female\",\"job\":2,\"housing\":\"own\",\"saving_accounts\":\"little\",\"checking_account\":\"moderate\",\"credit_amount\":753,\"duration\":6,\"purpose\":\"radio\\/TV\",\"age\":64},{\"risk\":1,\"sex\":\"male\",\"job\":2,\"housing\":\"own\",\"saving_accounts\":\"not_known\",\"checking_account\":\"moderate\",\"credit_amount\":2427,\"duration\":18,\"purpose\":\"business\",\"age\":42},{\"risk\":0,\"sex\":\"male\",\"job\":1,\"housing\":\"own\",\"saving_accounts\":\"little\",\"checking_account\":\"not_known\",\"credit_amount\":2538,\"duration\":24,\"purpose\":\"car\",\"age\":47},{\"risk\":0,\"sex\":\"male\",\"job\":2,\"housing\":\"rent\",\"saving_accounts\":\"moderate\",\"checking_account\":\"moderate\",\"credit_amount\":1264,\"duration\":15,\"purpose\":\"car\",\"age\":25},{\"risk\":0,\"sex\":\"male\",\"job\":2,\"housing\":\"own\",\"saving_accounts\":\"little\",\"checking_account\":\"moderate\",\"credit_amount\":8386,\"duration\":30,\"purpose\":\"furniture\\/equipment\",\"age\":49},{\"risk\":0,\"sex\":\"male\",\"job\":3,\"housing\":\"rent\",\"saving_accounts\":\"little\",\"checking_account\":\"not_known\",\"credit_amount\":4844,\"duration\":48,\"purpose\":\"business\",\"age\":33},{\"risk\":1,\"sex\":\"female\",\"job\":3,\"housing\":\"own\",\"saving_accounts\":\"moderate\",\"checking_account\":\"rich\",\"credit_amount\":2923,\"duration\":21,\"purpose\":\"car\",\"age\":28},{\"risk\":0,\"sex\":\"male\",\"job\":2,\"housing\":\"own\",\"saving_accounts\":\"little\",\"checking_account\":\"little\",\"credit_amount\":8229,\"duration\":36,\"purpose\":\"car\",\"age\":26},{\"risk\":1,\"sex\":\"male\",\"job\":1,\"housing\":\"own\",\"saving_accounts\":\"little\",\"checking_account\":\"not_known\",\"credit_amount\":2028,\"duration\":24,\"purpose\":\"furniture\\/equipment\",\"age\":30},{\"risk\":1,\"sex\":\"female\",\"job\":2,\"housing\":\"rent\",\"saving_accounts\":\"little\",\"checking_account\":\"little\",\"credit_amount\":1433,\"duration\":15,\"purpose\":\"furniture\\/equipment\",\"age\":25},{\"risk\":1,\"sex\":\"male\",\"job\":2,\"housing\":\"own\",\"saving_accounts\":\"little\",\"checking_account\":\"rich\",\"credit_amount\":6289,\"duration\":42,\"purpose\":\"business\",\"age\":33},{\"risk\":1,\"sex\":\"female\",\"job\":2,\"housing\":\"own\",\"saving_accounts\":\"moderate\",\"checking_account\":\"not_known\",\"credit_amount\":1409,\"duration\":13,\"purpose\":\"radio\\/TV\",\"age\":64},{\"risk\":1,\"sex\":\"male\",\"job\":3,\"housing\":\"free\",\"saving_accounts\":\"little\",\"checking_account\":\"little\",\"credit_amount\":6579,\"duration\":24,\"purpose\":\"car\",\"age\":29},{\"risk\":1,\"sex\":\"male\",\"job\":1,\"housing\":\"own\",\"saving_accounts\":\"little\",\"checking_account\":\"moderate\",\"credit_amount\":1743,\"duration\":24,\"purpose\":\"radio\\/TV\",\"age\":48},{\"risk\":1,\"sex\":\"male\",\"job\":1,\"housing\":\"own\",\"saving_accounts\":\"not_known\",\"checking_account\":\"not_known\",\"credit_amount\":3565,\"duration\":12,\"purpose\":\"education\",\"age\":37},{\"risk\":1,\"sex\":\"male\",\"job\":1,\"housing\":\"own\",\"saving_accounts\":\"moderate\",\"checking_account\":\"not_known\",\"credit_amount\":1569,\"duration\":15,\"purpose\":\"radio\\/TV\",\"age\":34},{\"risk\":1,\"sex\":\"male\",\"job\":1,\"housing\":\"rent\",\"saving_accounts\":\"not_known\",\"checking_account\":\"little\",\"credit_amount\":1936,\"duration\":18,\"purpose\":\"radio\\/TV\",\"age\":23},{\"risk\":1,\"sex\":\"male\",\"job\":3,\"housing\":\"own\",\"saving_accounts\":\"little\",\"checking_account\":\"little\",\"credit_amount\":3959,\"duration\":36,\"purpose\":\"furniture\\/equipment\",\"age\":30},{\"risk\":1,\"sex\":\"male\",\"job\":2,\"housing\":\"own\",\"saving_accounts\":\"not_known\",\"checking_account\":\"not_known\",\"credit_amount\":2390,\"duration\":12,\"purpose\":\"car\",\"age\":50},{\"risk\":1,\"sex\":\"female\",\"job\":1,\"housing\":\"own\",\"saving_accounts\":\"little\",\"checking_account\":\"not_known\",\"credit_amount\":1736,\"duration\":12,\"purpose\":\"furniture\\/equipment\",\"age\":31},{\"risk\":1,\"sex\":\"male\",\"job\":3,\"housing\":\"own\",\"saving_accounts\":\"little\",\"checking_account\":\"little\",\"credit_amount\":3857,\"duration\":30,\"purpose\":\"car\",\"age\":40},{\"risk\":1,\"sex\":\"male\",\"job\":2,\"housing\":\"own\",\"saving_accounts\":\"little\",\"checking_account\":\"not_known\",\"credit_amount\":804,\"duration\":12,\"purpose\":\"radio\\/TV\",\"age\":38},{\"risk\":0,\"sex\":\"male\",\"job\":2,\"housing\":\"free\",\"saving_accounts\":\"little\",\"checking_account\":\"little\",\"credit_amount\":1845,\"duration\":45,\"purpose\":\"radio\\/TV\",\"age\":23},{\"risk\":1,\"sex\":\"male\",\"job\":2,\"housing\":\"own\",\"saving_accounts\":\"moderate\",\"checking_account\":\"moderate\",\"credit_amount\":4576,\"duration\":45,\"purpose\":\"car\",\"age\":27}];\n",
       "              document.querySelector(\"#elem\").data = data;\n",
       "            </script>"
      ],
      "text/plain": [
       "<IPython.core.display.HTML object>"
      ]
     },
     "metadata": {},
     "output_type": "display_data"
    }
   ],
   "source": [
    "facets(df)"
   ]
  },
  {
   "cell_type": "code",
   "execution_count": 74,
   "id": "ef4b0517",
   "metadata": {
    "ExecuteTime": {
     "end_time": "2021-11-08T16:39:26.546261Z",
     "start_time": "2021-11-08T16:39:26.529227Z"
    },
    "cell_style": "split",
    "hidden": true
   },
   "outputs": [
    {
     "data": {
      "text/html": [
       "<div>\n",
       "<style scoped>\n",
       "    .dataframe tbody tr th:only-of-type {\n",
       "        vertical-align: middle;\n",
       "    }\n",
       "\n",
       "    .dataframe tbody tr th {\n",
       "        vertical-align: top;\n",
       "    }\n",
       "\n",
       "    .dataframe thead th {\n",
       "        text-align: right;\n",
       "    }\n",
       "</style>\n",
       "<table border=\"1\" class=\"dataframe\">\n",
       "  <thead>\n",
       "    <tr style=\"text-align: right;\">\n",
       "      <th></th>\n",
       "      <th></th>\n",
       "      <th>risk</th>\n",
       "    </tr>\n",
       "    <tr>\n",
       "      <th>sex</th>\n",
       "      <th>risk</th>\n",
       "      <th></th>\n",
       "    </tr>\n",
       "  </thead>\n",
       "  <tbody>\n",
       "    <tr>\n",
       "      <th rowspan=\"2\" valign=\"top\">female</th>\n",
       "      <th>1</th>\n",
       "      <td>64</td>\n",
       "    </tr>\n",
       "    <tr>\n",
       "      <th>0</th>\n",
       "      <td>35</td>\n",
       "    </tr>\n",
       "    <tr>\n",
       "      <th rowspan=\"2\" valign=\"top\">male</th>\n",
       "      <th>1</th>\n",
       "      <td>72</td>\n",
       "    </tr>\n",
       "    <tr>\n",
       "      <th>0</th>\n",
       "      <td>27</td>\n",
       "    </tr>\n",
       "  </tbody>\n",
       "</table>\n",
       "</div>"
      ],
      "text/plain": [
       "             risk\n",
       "sex    risk      \n",
       "female 1       64\n",
       "       0       35\n",
       "male   1       72\n",
       "       0       27"
      ]
     },
     "execution_count": 74,
     "metadata": {},
     "output_type": "execute_result"
    }
   ],
   "source": [
    "(\n",
    "    df\n",
    "    .groupby(\"sex\")\n",
    "    [\"risk\"]\n",
    "    .value_counts(normalize=True)\n",
    "    .multiply(100)\n",
    "    .astype(int)\n",
    "    .to_frame()\n",
    ")"
   ]
  },
  {
   "cell_type": "code",
   "execution_count": 75,
   "id": "77a9c4a0",
   "metadata": {
    "ExecuteTime": {
     "end_time": "2021-11-08T16:39:26.806227Z",
     "start_time": "2021-11-08T16:39:26.785231Z"
    },
    "cell_style": "split",
    "hidden": true,
    "scrolled": true
   },
   "outputs": [
    {
     "data": {
      "text/html": [
       "<div>\n",
       "<style scoped>\n",
       "    .dataframe tbody tr th:only-of-type {\n",
       "        vertical-align: middle;\n",
       "    }\n",
       "\n",
       "    .dataframe tbody tr th {\n",
       "        vertical-align: top;\n",
       "    }\n",
       "\n",
       "    .dataframe thead th {\n",
       "        text-align: right;\n",
       "    }\n",
       "</style>\n",
       "<table border=\"1\" class=\"dataframe\">\n",
       "  <thead>\n",
       "    <tr style=\"text-align: right;\">\n",
       "      <th></th>\n",
       "      <th></th>\n",
       "      <th>risk</th>\n",
       "    </tr>\n",
       "    <tr>\n",
       "      <th>youth</th>\n",
       "      <th>risk</th>\n",
       "      <th></th>\n",
       "    </tr>\n",
       "  </thead>\n",
       "  <tbody>\n",
       "    <tr>\n",
       "      <th rowspan=\"2\" valign=\"top\">old</th>\n",
       "      <th>1</th>\n",
       "      <td>74</td>\n",
       "    </tr>\n",
       "    <tr>\n",
       "      <th>0</th>\n",
       "      <td>25</td>\n",
       "    </tr>\n",
       "    <tr>\n",
       "      <th rowspan=\"2\" valign=\"top\">young</th>\n",
       "      <th>1</th>\n",
       "      <td>63</td>\n",
       "    </tr>\n",
       "    <tr>\n",
       "      <th>0</th>\n",
       "      <td>36</td>\n",
       "    </tr>\n",
       "  </tbody>\n",
       "</table>\n",
       "</div>"
      ],
      "text/plain": [
       "            risk\n",
       "youth risk      \n",
       "old   1       74\n",
       "      0       25\n",
       "young 1       63\n",
       "      0       36"
      ]
     },
     "execution_count": 75,
     "metadata": {},
     "output_type": "execute_result"
    }
   ],
   "source": [
    "(\n",
    "    df\n",
    "    .assign(youth=lambda x: np.where(x[\"age\"] <= 30, \"young\", \"old\"))\n",
    "    .groupby(\"youth\")\n",
    "    [\"risk\"]\n",
    "    .value_counts(normalize=True)\n",
    "    .multiply(100)\n",
    "    .astype(int)\n",
    "    .to_frame()\n",
    ")"
   ]
  },
  {
   "cell_type": "code",
   "execution_count": 76,
   "id": "461ea8c0",
   "metadata": {
    "ExecuteTime": {
     "end_time": "2021-11-08T16:39:27.207745Z",
     "start_time": "2021-11-08T16:39:27.188036Z"
    },
    "hidden": true
   },
   "outputs": [
    {
     "data": {
      "text/html": [
       "<div>\n",
       "<style scoped>\n",
       "    .dataframe tbody tr th:only-of-type {\n",
       "        vertical-align: middle;\n",
       "    }\n",
       "\n",
       "    .dataframe tbody tr th {\n",
       "        vertical-align: top;\n",
       "    }\n",
       "\n",
       "    .dataframe thead th {\n",
       "        text-align: right;\n",
       "    }\n",
       "</style>\n",
       "<table border=\"1\" class=\"dataframe\">\n",
       "  <thead>\n",
       "    <tr style=\"text-align: right;\">\n",
       "      <th></th>\n",
       "      <th></th>\n",
       "      <th></th>\n",
       "      <th>risk</th>\n",
       "    </tr>\n",
       "    <tr>\n",
       "      <th>sex</th>\n",
       "      <th>youth</th>\n",
       "      <th>risk</th>\n",
       "      <th></th>\n",
       "    </tr>\n",
       "  </thead>\n",
       "  <tbody>\n",
       "    <tr>\n",
       "      <th rowspan=\"4\" valign=\"top\">female</th>\n",
       "      <th rowspan=\"2\" valign=\"top\">old</th>\n",
       "      <th>1</th>\n",
       "      <td>73</td>\n",
       "    </tr>\n",
       "    <tr>\n",
       "      <th>0</th>\n",
       "      <td>26</td>\n",
       "    </tr>\n",
       "    <tr>\n",
       "      <th rowspan=\"2\" valign=\"top\">young</th>\n",
       "      <th>1</th>\n",
       "      <td>58</td>\n",
       "    </tr>\n",
       "    <tr>\n",
       "      <th>0</th>\n",
       "      <td>41</td>\n",
       "    </tr>\n",
       "    <tr>\n",
       "      <th rowspan=\"4\" valign=\"top\">male</th>\n",
       "      <th rowspan=\"2\" valign=\"top\">old</th>\n",
       "      <th>1</th>\n",
       "      <td>74</td>\n",
       "    </tr>\n",
       "    <tr>\n",
       "      <th>0</th>\n",
       "      <td>25</td>\n",
       "    </tr>\n",
       "    <tr>\n",
       "      <th rowspan=\"2\" valign=\"top\">young</th>\n",
       "      <th>1</th>\n",
       "      <td>68</td>\n",
       "    </tr>\n",
       "    <tr>\n",
       "      <th>0</th>\n",
       "      <td>31</td>\n",
       "    </tr>\n",
       "  </tbody>\n",
       "</table>\n",
       "</div>"
      ],
      "text/plain": [
       "                   risk\n",
       "sex    youth risk      \n",
       "female old   1       73\n",
       "             0       26\n",
       "       young 1       58\n",
       "             0       41\n",
       "male   old   1       74\n",
       "             0       25\n",
       "       young 1       68\n",
       "             0       31"
      ]
     },
     "execution_count": 76,
     "metadata": {},
     "output_type": "execute_result"
    }
   ],
   "source": [
    "(\n",
    "    df\n",
    "    .assign(youth=lambda x: np.where(x[\"age\"] <= 30, \"young\", \"old\"))\n",
    "    .groupby([\"sex\", \"youth\"])\n",
    "    [\"risk\"]\n",
    "    .value_counts(normalize=True)\n",
    "    .multiply(100)\n",
    "    .astype(int)\n",
    "    .to_frame()\n",
    ")"
   ]
  },
  {
   "cell_type": "markdown",
   "id": "b81cd4d4",
   "metadata": {
    "hidden": true
   },
   "source": [
    "**Quick EDA**\n",
    "\n",
    "If we bin by sex, we realize that women are:\n",
    "- Under represented in volume (310 vs 690)\n",
    "- Slightly biased from a credit-granting perspective (64% vs 72%)\n",
    "\n",
    "If we bin by age, we realize that young are:\n",
    "- Under represented in volume (411 VS 589)\n",
    "- Slightly biased from a credit-granting perspective (63% vs 74%)\n",
    "\n",
    "If we combine the two, biases in input data are amplified.\n",
    "\n",
    "**Conclusion: the apriori from section 2 looks confirmed and will need to be carefully handled during modelling.**\n",
    "\n",
    "----\n",
    "\n",
    "**Notes**\n",
    "\n",
    "1. This is a toy example where biases are \"straightforward\" and well identified as \"recurrent\" social biases. However, it might not always be as easy to detect them. Additional sources might come from data history, selection bias, data incompleteness, unexpected sources of bias (column/attribute), ...\n",
    "2. In this example, we identified biases related to representation in volume. If we had not been exposed to such discrepencies, namely having a balanced dataset, could we have concluded that biases would have been limited while modelling? Not so sure, see [this article](https://arxiv.org/pdf/1811.08489.pdf)."
   ]
  },
  {
   "cell_type": "markdown",
   "id": "e0a02b60",
   "metadata": {},
   "source": [
    "## ML prerequisites"
   ]
  },
  {
   "cell_type": "code",
   "execution_count": 77,
   "id": "52c89311",
   "metadata": {
    "ExecuteTime": {
     "end_time": "2021-11-08T16:54:09.883607Z",
     "start_time": "2021-11-08T16:54:09.876610Z"
    }
   },
   "outputs": [],
   "source": [
    "df[\"job\"] = df[\"job\"].astype(\"object\")\n",
    "df[\"sex\"] = np.where(df[\"sex\"] == \"female\", 1, 0).astype(np.int64)"
   ]
  },
  {
   "cell_type": "code",
   "execution_count": 78,
   "id": "6bd459a5",
   "metadata": {
    "ExecuteTime": {
     "end_time": "2021-11-08T16:54:11.096850Z",
     "start_time": "2021-11-08T16:54:11.078844Z"
    }
   },
   "outputs": [],
   "source": [
    "X_train, X_test, y_train, y_test = train_test_split(\n",
    "    df.drop(columns=[target]),\n",
    "    df[target],\n",
    "    test_size=0.3,\n",
    "    random_state=42\n",
    ")"
   ]
  },
  {
   "cell_type": "markdown",
   "id": "1a36efc3",
   "metadata": {},
   "source": [
    "## Fairness evaluation principles"
   ]
  },
  {
   "cell_type": "markdown",
   "id": "b7126ba8",
   "metadata": {
    "ExecuteTime": {
     "end_time": "2021-11-08T15:48:52.229401Z",
     "start_time": "2021-11-08T15:48:52.177397Z"
    }
   },
   "source": [
    "![title](images/dalex_pipeline.jpg)"
   ]
  },
  {
   "cell_type": "markdown",
   "id": "28418613-2396-492a-aa9e-dd7ba73d68b7",
   "metadata": {},
   "source": [
    "The main object of dalex is the `Explainer` container which wraps a **dataset** (features and target) and a **trained model**. \n",
    "\n",
    "Once the data and the model have been wrapped, one needs to fix **protected and privileged attributes**.\n",
    "\n",
    "**Important note**: beware these choices correspond to an a priori understanding of the problem and could miss hidden flaws of the model. An interesting line of work would consist in conducting a kind of grid-search exploration for potential biases."
   ]
  },
  {
   "cell_type": "code",
   "execution_count": 79,
   "id": "f0984019",
   "metadata": {
    "ExecuteTime": {
     "end_time": "2021-11-08T16:54:18.644263Z",
     "start_time": "2021-11-08T16:54:18.628267Z"
    }
   },
   "outputs": [],
   "source": [
    "# protected = df.sex.astype(\"str\") + '_' + np.where(df.age < 25, 'young', 'old')\n",
    "protected = X_test.sex.astype(\"str\") + '_' + np.where(X_test.age < 25, 'young', 'old')\n",
    "privileged = '0_old'"
   ]
  },
  {
   "cell_type": "markdown",
   "id": "d22cc82c",
   "metadata": {},
   "source": [
    "## Strategies\n",
    "\n",
    "Following section intends to implement different strategies to mitigate the bias:\n",
    "- No strategy implemented\n",
    "- Pre-processing strategy: edit the data priori to fitting a model\n",
    "- In-processing: change the way a model is trained, changing the loss function e.g.\n",
    "- Post-processing: edit the predictions once a model has been fitted\n",
    "- (Business-rule: implement a business that is intended to manually mitigate the bias, see this [article](https://towardsdatascience.com/tutorial-breaking-myths-about-ai-fairness-the-case-of-biased-automated-recruitment-9ee9b2ecc3a))"
   ]
  },
  {
   "cell_type": "markdown",
   "id": "1b64cc7b-dddb-4a1d-8ec5-37e2066a4056",
   "metadata": {},
   "source": [
    "### Do nothing"
   ]
  },
  {
   "cell_type": "markdown",
   "id": "fa4256ec",
   "metadata": {},
   "source": [
    "#### Training"
   ]
  },
  {
   "cell_type": "code",
   "execution_count": 80,
   "id": "c62d5e7f",
   "metadata": {
    "ExecuteTime": {
     "end_time": "2021-11-08T16:54:26.651675Z",
     "start_time": "2021-11-08T16:54:26.635675Z"
    }
   },
   "outputs": [],
   "source": [
    "preprocessor = make_column_transformer(\n",
    "      (\"passthrough\", make_column_selector(dtype_include=np.number)),\n",
    "      (OneHotEncoder(handle_unknown=\"ignore\"), make_column_selector(dtype_include=object))\n",
    ")\n",
    "\n",
    "clf_decisiontree = Pipeline(steps=[\n",
    "    ('preprocessor', preprocessor),\n",
    "    ('classifier', DecisionTreeClassifier(max_depth=7, random_state=123))\n",
    "])"
   ]
  },
  {
   "cell_type": "code",
   "execution_count": 81,
   "id": "80b12e81",
   "metadata": {
    "ExecuteTime": {
     "end_time": "2021-11-08T16:54:27.294932Z",
     "start_time": "2021-11-08T16:54:27.250331Z"
    }
   },
   "outputs": [
    {
     "data": {
      "text/html": [
       "<style>#sk-d139d31c-661b-4ea3-850a-4577150049fb {color: black;background-color: white;}#sk-d139d31c-661b-4ea3-850a-4577150049fb pre{padding: 0;}#sk-d139d31c-661b-4ea3-850a-4577150049fb div.sk-toggleable {background-color: white;}#sk-d139d31c-661b-4ea3-850a-4577150049fb label.sk-toggleable__label {cursor: pointer;display: block;width: 100%;margin-bottom: 0;padding: 0.3em;box-sizing: border-box;text-align: center;}#sk-d139d31c-661b-4ea3-850a-4577150049fb div.sk-toggleable__content {max-height: 0;max-width: 0;overflow: hidden;text-align: left;background-color: #f0f8ff;}#sk-d139d31c-661b-4ea3-850a-4577150049fb div.sk-toggleable__content pre {margin: 0.2em;color: black;border-radius: 0.25em;background-color: #f0f8ff;}#sk-d139d31c-661b-4ea3-850a-4577150049fb input.sk-toggleable__control:checked~div.sk-toggleable__content {max-height: 200px;max-width: 100%;overflow: auto;}#sk-d139d31c-661b-4ea3-850a-4577150049fb div.sk-estimator input.sk-toggleable__control:checked~label.sk-toggleable__label {background-color: #d4ebff;}#sk-d139d31c-661b-4ea3-850a-4577150049fb div.sk-label input.sk-toggleable__control:checked~label.sk-toggleable__label {background-color: #d4ebff;}#sk-d139d31c-661b-4ea3-850a-4577150049fb input.sk-hidden--visually {border: 0;clip: rect(1px 1px 1px 1px);clip: rect(1px, 1px, 1px, 1px);height: 1px;margin: -1px;overflow: hidden;padding: 0;position: absolute;width: 1px;}#sk-d139d31c-661b-4ea3-850a-4577150049fb div.sk-estimator {font-family: monospace;background-color: #f0f8ff;border: 1px dotted black;border-radius: 0.25em;box-sizing: border-box;margin-bottom: 0.5em;}#sk-d139d31c-661b-4ea3-850a-4577150049fb div.sk-estimator:hover {background-color: #d4ebff;}#sk-d139d31c-661b-4ea3-850a-4577150049fb div.sk-parallel-item::after {content: \"\";width: 100%;border-bottom: 1px solid gray;flex-grow: 1;}#sk-d139d31c-661b-4ea3-850a-4577150049fb div.sk-label:hover label.sk-toggleable__label {background-color: #d4ebff;}#sk-d139d31c-661b-4ea3-850a-4577150049fb div.sk-serial::before {content: \"\";position: absolute;border-left: 1px solid gray;box-sizing: border-box;top: 2em;bottom: 0;left: 50%;}#sk-d139d31c-661b-4ea3-850a-4577150049fb div.sk-serial {display: flex;flex-direction: column;align-items: center;background-color: white;padding-right: 0.2em;padding-left: 0.2em;}#sk-d139d31c-661b-4ea3-850a-4577150049fb div.sk-item {z-index: 1;}#sk-d139d31c-661b-4ea3-850a-4577150049fb div.sk-parallel {display: flex;align-items: stretch;justify-content: center;background-color: white;}#sk-d139d31c-661b-4ea3-850a-4577150049fb div.sk-parallel::before {content: \"\";position: absolute;border-left: 1px solid gray;box-sizing: border-box;top: 2em;bottom: 0;left: 50%;}#sk-d139d31c-661b-4ea3-850a-4577150049fb div.sk-parallel-item {display: flex;flex-direction: column;position: relative;background-color: white;}#sk-d139d31c-661b-4ea3-850a-4577150049fb div.sk-parallel-item:first-child::after {align-self: flex-end;width: 50%;}#sk-d139d31c-661b-4ea3-850a-4577150049fb div.sk-parallel-item:last-child::after {align-self: flex-start;width: 50%;}#sk-d139d31c-661b-4ea3-850a-4577150049fb div.sk-parallel-item:only-child::after {width: 0;}#sk-d139d31c-661b-4ea3-850a-4577150049fb div.sk-dashed-wrapped {border: 1px dashed gray;margin: 0 0.4em 0.5em 0.4em;box-sizing: border-box;padding-bottom: 0.4em;background-color: white;position: relative;}#sk-d139d31c-661b-4ea3-850a-4577150049fb div.sk-label label {font-family: monospace;font-weight: bold;background-color: white;display: inline-block;line-height: 1.2em;}#sk-d139d31c-661b-4ea3-850a-4577150049fb div.sk-label-container {position: relative;z-index: 2;text-align: center;}#sk-d139d31c-661b-4ea3-850a-4577150049fb div.sk-container {display: inline-block;position: relative;}</style><div id=\"sk-d139d31c-661b-4ea3-850a-4577150049fb\" class\"sk-top-container\"><div class=\"sk-container\"><div class=\"sk-item sk-dashed-wrapped\"><div class=\"sk-label-container\"><div class=\"sk-label sk-toggleable\"><input class=\"sk-toggleable__control sk-hidden--visually\" id=\"8a91af0e-b567-45f2-9268-4110033ba3ea\" type=\"checkbox\" ><label class=\"sk-toggleable__label\" for=\"8a91af0e-b567-45f2-9268-4110033ba3ea\">Pipeline</label><div class=\"sk-toggleable__content\"><pre>Pipeline(steps=[('preprocessor',\n",
       "                 ColumnTransformer(transformers=[('passthrough', 'passthrough',\n",
       "                                                  <sklearn.compose._column_transformer.make_column_selector object at 0x7fada3366af0>),\n",
       "                                                 ('onehotencoder',\n",
       "                                                  OneHotEncoder(handle_unknown='ignore'),\n",
       "                                                  <sklearn.compose._column_transformer.make_column_selector object at 0x7fada3366be0>)])),\n",
       "                ('classifier',\n",
       "                 DecisionTreeClassifier(max_depth=7, random_state=123))])</pre></div></div></div><div class=\"sk-serial\"><div class=\"sk-item sk-dashed-wrapped\"><div class=\"sk-label-container\"><div class=\"sk-label sk-toggleable\"><input class=\"sk-toggleable__control sk-hidden--visually\" id=\"645cddd2-9f28-4f0a-8089-991044001196\" type=\"checkbox\" ><label class=\"sk-toggleable__label\" for=\"645cddd2-9f28-4f0a-8089-991044001196\">preprocessor: ColumnTransformer</label><div class=\"sk-toggleable__content\"><pre>ColumnTransformer(transformers=[('passthrough', 'passthrough',\n",
       "                                 <sklearn.compose._column_transformer.make_column_selector object at 0x7fada3366af0>),\n",
       "                                ('onehotencoder',\n",
       "                                 OneHotEncoder(handle_unknown='ignore'),\n",
       "                                 <sklearn.compose._column_transformer.make_column_selector object at 0x7fada3366be0>)])</pre></div></div></div><div class=\"sk-parallel\"><div class=\"sk-parallel-item\"><div class=\"sk-item\"><div class=\"sk-label-container\"><div class=\"sk-label sk-toggleable\"><input class=\"sk-toggleable__control sk-hidden--visually\" id=\"c12c0bea-f56b-4d68-b4ca-cd0c8d98ee3c\" type=\"checkbox\" ><label class=\"sk-toggleable__label\" for=\"c12c0bea-f56b-4d68-b4ca-cd0c8d98ee3c\">passthrough</label><div class=\"sk-toggleable__content\"><pre><sklearn.compose._column_transformer.make_column_selector object at 0x7fada3366af0></pre></div></div></div><div class=\"sk-serial\"><div class=\"sk-item\"><div class=\"sk-estimator sk-toggleable\"><input class=\"sk-toggleable__control sk-hidden--visually\" id=\"08a63a82-7df6-457a-90ec-1e1c9d42b378\" type=\"checkbox\" ><label class=\"sk-toggleable__label\" for=\"08a63a82-7df6-457a-90ec-1e1c9d42b378\">passthrough</label><div class=\"sk-toggleable__content\"><pre>passthrough</pre></div></div></div></div></div></div><div class=\"sk-parallel-item\"><div class=\"sk-item\"><div class=\"sk-label-container\"><div class=\"sk-label sk-toggleable\"><input class=\"sk-toggleable__control sk-hidden--visually\" id=\"6a6915b8-8a8a-47d5-922c-cb5eefe0aef0\" type=\"checkbox\" ><label class=\"sk-toggleable__label\" for=\"6a6915b8-8a8a-47d5-922c-cb5eefe0aef0\">onehotencoder</label><div class=\"sk-toggleable__content\"><pre><sklearn.compose._column_transformer.make_column_selector object at 0x7fada3366be0></pre></div></div></div><div class=\"sk-serial\"><div class=\"sk-item\"><div class=\"sk-estimator sk-toggleable\"><input class=\"sk-toggleable__control sk-hidden--visually\" id=\"29874b2f-1cf0-4663-b48a-55dbccedd35e\" type=\"checkbox\" ><label class=\"sk-toggleable__label\" for=\"29874b2f-1cf0-4663-b48a-55dbccedd35e\">OneHotEncoder</label><div class=\"sk-toggleable__content\"><pre>OneHotEncoder(handle_unknown='ignore')</pre></div></div></div></div></div></div></div></div><div class=\"sk-item\"><div class=\"sk-estimator sk-toggleable\"><input class=\"sk-toggleable__control sk-hidden--visually\" id=\"f00551c7-1ffa-49a2-ae09-6b51bd2c2b84\" type=\"checkbox\" ><label class=\"sk-toggleable__label\" for=\"f00551c7-1ffa-49a2-ae09-6b51bd2c2b84\">DecisionTreeClassifier</label><div class=\"sk-toggleable__content\"><pre>DecisionTreeClassifier(max_depth=7, random_state=123)</pre></div></div></div></div></div></div></div>"
      ],
      "text/plain": [
       "Pipeline(steps=[('preprocessor',\n",
       "                 ColumnTransformer(transformers=[('passthrough', 'passthrough',\n",
       "                                                  <sklearn.compose._column_transformer.make_column_selector object at 0x7fada3366af0>),\n",
       "                                                 ('onehotencoder',\n",
       "                                                  OneHotEncoder(handle_unknown='ignore'),\n",
       "                                                  <sklearn.compose._column_transformer.make_column_selector object at 0x7fada3366be0>)])),\n",
       "                ('classifier',\n",
       "                 DecisionTreeClassifier(max_depth=7, random_state=123))])"
      ]
     },
     "execution_count": 81,
     "metadata": {},
     "output_type": "execute_result"
    }
   ],
   "source": [
    "# clf_decisiontree.fit(df.drop(columns=[target]), df[target])\n",
    "clf_decisiontree.fit(X_train, y_train)"
   ]
  },
  {
   "cell_type": "code",
   "execution_count": 82,
   "id": "eb0cbd87-2f1f-47c8-9dda-926513a9de90",
   "metadata": {
    "ExecuteTime": {
     "end_time": "2021-11-08T16:54:56.205145Z",
     "start_time": "2021-11-08T16:54:56.177145Z"
    }
   },
   "outputs": [
    {
     "name": "stdout",
     "output_type": "stream",
     "text": [
      "Preparation of a new explainer is initiated\n",
      "\n",
      "  -> data              : 300 rows 9 cols\n",
      "  -> target variable   : Parameter 'y' was a pandas.Series. Converted to a numpy.ndarray.\n",
      "  -> target variable   : 300 values\n",
      "  -> model_class       : sklearn.tree._classes.DecisionTreeClassifier (default)\n",
      "  -> label             : Not specified, model's class short name will be used. (default)\n",
      "  -> predict function  : <function yhat_proba_default at 0x7fad61519670> will be used (default)\n",
      "  -> predict function  : Accepts only pandas.DataFrame, numpy.ndarray causes problems.\n",
      "  -> predicted values  : min = 0.0, mean = 0.706, max = 1.0\n",
      "  -> model type        : classification will be used (default)\n",
      "  -> residual function : difference between y and yhat (default)\n",
      "  -> residuals         : min = -1.0, mean = -0.00936, max = 1.0\n",
      "  -> model_info        : package sklearn\n",
      "\n",
      "A new explainer has been created!\n"
     ]
    }
   ],
   "source": [
    "# exp_decisiontree = dx.Explainer(clf_decisiontree, df.drop(columns=[target]), df[target], verbose=False)\n",
    "exp_decisiontree = dx.Explainer(clf_decisiontree, X_test, y_test, verbose=True)"
   ]
  },
  {
   "cell_type": "markdown",
   "id": "c463bc8c",
   "metadata": {},
   "source": [
    "#### Algorithmic performance"
   ]
  },
  {
   "cell_type": "code",
   "execution_count": 83,
   "id": "09d28f9e",
   "metadata": {
    "ExecuteTime": {
     "end_time": "2021-11-08T16:55:04.966640Z",
     "start_time": "2021-11-08T16:55:04.910641Z"
    }
   },
   "outputs": [
    {
     "data": {
      "text/html": [
       "<div>\n",
       "<style scoped>\n",
       "    .dataframe tbody tr th:only-of-type {\n",
       "        vertical-align: middle;\n",
       "    }\n",
       "\n",
       "    .dataframe tbody tr th {\n",
       "        vertical-align: top;\n",
       "    }\n",
       "\n",
       "    .dataframe thead th {\n",
       "        text-align: right;\n",
       "    }\n",
       "</style>\n",
       "<table border=\"1\" class=\"dataframe\">\n",
       "  <thead>\n",
       "    <tr style=\"text-align: right;\">\n",
       "      <th></th>\n",
       "      <th>recall</th>\n",
       "      <th>precision</th>\n",
       "      <th>f1</th>\n",
       "      <th>accuracy</th>\n",
       "      <th>auc</th>\n",
       "    </tr>\n",
       "  </thead>\n",
       "  <tbody>\n",
       "    <tr>\n",
       "      <th>DecisionTreeClassifier</th>\n",
       "      <td>0.818182</td>\n",
       "      <td>0.753304</td>\n",
       "      <td>0.784404</td>\n",
       "      <td>0.686667</td>\n",
       "      <td>0.676771</td>\n",
       "    </tr>\n",
       "  </tbody>\n",
       "</table>\n",
       "</div>"
      ],
      "text/plain": [
       "                          recall  precision        f1  accuracy       auc\n",
       "DecisionTreeClassifier  0.818182   0.753304  0.784404  0.686667  0.676771"
      ]
     },
     "execution_count": 83,
     "metadata": {},
     "output_type": "execute_result"
    }
   ],
   "source": [
    "exp_decisiontree.model_performance().result"
   ]
  },
  {
   "cell_type": "markdown",
   "id": "3da397fb",
   "metadata": {},
   "source": [
    "#### Fairness performance\n",
    "\n",
    "Quoting Dalex' tutorial:\n",
    "\n",
    "\n",
    "> The idea is that ratios between scores of privileged and unprivileged metrics should be close to 1. The closer, the fairer. To relax this criterion a little bit, it can be written more thoughtfully:\n",
    "\n",
    "> $$ \\forall i \\in \\{a, b, ..., z\\}, \\quad \\epsilon < \\frac{metric_i}{metric_{privileged}} < \\frac{1}{\\epsilon}.$$\n",
    "\n",
    "> Where the epsilon is a value between 0 and 1, it should be a minimum acceptable value of the ratio. On default, it is 0.8, which adheres to four-fifths rule (80% rule) often looked at in hiring, for example.\n",
    "\""
   ]
  },
  {
   "cell_type": "markdown",
   "id": "a29c6b5e",
   "metadata": {},
   "source": [
    "The method `model_fairness` returns a fairness object from which fairness evaluations can be conducted. Notice that every metrics inherited from the confusion matrix are computed during the instantiation.\n",
    "\n",
    "Two methods can then be performed:\n",
    "- The `fairness_check` method, which returns a report on the fairness of the model. It requires an epsilon parameter that corresponds to the threshold ratio below which a given metric is considered to be unfair (default value is 0.8).\n",
    "- The `plot` method, which allows to visualize the main fairness ratios between the protected subgroups and the privileged one."
   ]
  },
  {
   "cell_type": "code",
   "execution_count": 84,
   "id": "382e6012",
   "metadata": {
    "ExecuteTime": {
     "end_time": "2021-11-08T16:55:10.877525Z",
     "start_time": "2021-11-08T16:55:10.854526Z"
    }
   },
   "outputs": [],
   "source": [
    "fairness_decisiontree = exp_decisiontree.model_fairness(protected=protected, privileged=privileged)"
   ]
  },
  {
   "cell_type": "code",
   "execution_count": 85,
   "id": "f8063d90",
   "metadata": {
    "ExecuteTime": {
     "end_time": "2021-11-08T16:55:11.815330Z",
     "start_time": "2021-11-08T16:55:11.795325Z"
    }
   },
   "outputs": [
    {
     "name": "stdout",
     "output_type": "stream",
     "text": [
      "Bias detected in 4 metrics: TPR, ACC, FPR, STP\n",
      "\n",
      "Conclusion: your model is not fair because 2 or more criteria exceeded acceptable limits set by epsilon.\n",
      "\n",
      "Ratios of metrics, based on '0_old'. Parameter 'epsilon' was set to 0.8 and therefore metrics should be within (0.8, 1.25)\n",
      "              TPR       ACC       PPV       FPR       STP\n",
      "0_young  0.492239  0.731092  1.194892  0.278164  0.461629\n",
      "1_old    0.886918  0.973389  1.075269  0.894298  0.900826\n",
      "1_young  0.633038  0.869748  0.826613  0.463143  0.528926\n"
     ]
    }
   ],
   "source": [
    "fairness_decisiontree.fairness_check(epsilon = 0.8) # default epsilon"
   ]
  },
  {
   "cell_type": "code",
   "execution_count": 86,
   "id": "abf51fee",
   "metadata": {
    "ExecuteTime": {
     "end_time": "2021-11-08T16:55:15.708181Z",
     "start_time": "2021-11-08T16:55:13.726179Z"
    }
   },
   "outputs": [
    {
     "data": {
      "application/vnd.plotly.v1+json": {
       "config": {
        "displaylogo": false,
        "modeBarButtonsToRemove": [
         "sendDataToCloud",
         "lasso2d",
         "autoScale2d",
         "select2d",
         "zoom2d",
         "pan2d",
         "zoomIn2d",
         "zoomOut2d",
         "resetScale2d",
         "toggleSpikelines",
         "hoverCompareCartesian",
         "hoverClosestCartesian"
        ],
        "plotlyServerURL": "https://plot.ly",
        "staticPlot": false,
        "toImageButtonOptions": {
         "height": null,
         "width": null
        }
       },
       "data": [
        {
         "alignmentgroup": "True",
         "customdata": [
          [
           "0_young",
           0.492,
           "DecisionTreeClassifier"
          ],
          [
           "1_old",
           0.887,
           "DecisionTreeClassifier"
          ],
          [
           "1_young",
           0.633,
           "DecisionTreeClassifier"
          ]
         ],
         "hovertemplate": "<b>%{customdata[2]}</b><br>Subgroup: %{customdata[0]}<br>Score: %{customdata[1]}<br><extra></extra>",
         "legendgroup": "DecisionTreeClassifier",
         "marker": {
          "color": "#46bac2",
          "pattern": {
           "shape": ""
          }
         },
         "name": "DecisionTreeClassifier",
         "offsetgroup": "DecisionTreeClassifier",
         "orientation": "h",
         "showlegend": true,
         "textposition": "auto",
         "type": "bar",
         "x": [
          -0.5077605321507761,
          -0.11308203991130816,
          -0.3669623059866963
         ],
         "xaxis": "x5",
         "y": [
          0.25,
          0.5,
          0.75
         ],
         "yaxis": "y5"
        },
        {
         "alignmentgroup": "True",
         "customdata": [
          [
           "0_young",
           1.195,
           "DecisionTreeClassifier"
          ],
          [
           "1_old",
           1.075,
           "DecisionTreeClassifier"
          ],
          [
           "1_young",
           0.827,
           "DecisionTreeClassifier"
          ]
         ],
         "hovertemplate": "<b>%{customdata[2]}</b><br>Subgroup: %{customdata[0]}<br>Score: %{customdata[1]}<br><extra></extra>",
         "legendgroup": "DecisionTreeClassifier",
         "marker": {
          "color": "#46bac2",
          "pattern": {
           "shape": ""
          }
         },
         "name": "DecisionTreeClassifier",
         "offsetgroup": "DecisionTreeClassifier",
         "orientation": "h",
         "showlegend": false,
         "textposition": "auto",
         "type": "bar",
         "x": [
          0.1948924731182795,
          0.07526881720430123,
          -0.1733870967741935
         ],
         "xaxis": "x4",
         "y": [
          0.25,
          0.5,
          0.75
         ],
         "yaxis": "y4"
        },
        {
         "alignmentgroup": "True",
         "customdata": [
          [
           "0_young",
           0.278,
           "DecisionTreeClassifier"
          ],
          [
           "1_old",
           0.894,
           "DecisionTreeClassifier"
          ],
          [
           "1_young",
           0.463,
           "DecisionTreeClassifier"
          ]
         ],
         "hovertemplate": "<b>%{customdata[2]}</b><br>Subgroup: %{customdata[0]}<br>Score: %{customdata[1]}<br><extra></extra>",
         "legendgroup": "DecisionTreeClassifier",
         "marker": {
          "color": "#46bac2",
          "pattern": {
           "shape": ""
          }
         },
         "name": "DecisionTreeClassifier",
         "offsetgroup": "DecisionTreeClassifier",
         "orientation": "h",
         "showlegend": false,
         "textposition": "auto",
         "type": "bar",
         "x": [
          -0.721835883171071,
          -0.10570236439499303,
          -0.536856745479833
         ],
         "xaxis": "x3",
         "y": [
          0.25,
          0.5,
          0.75
         ],
         "yaxis": "y3"
        },
        {
         "alignmentgroup": "True",
         "customdata": [
          [
           "0_young",
           0.731,
           "DecisionTreeClassifier"
          ],
          [
           "1_old",
           0.973,
           "DecisionTreeClassifier"
          ],
          [
           "1_young",
           0.87,
           "DecisionTreeClassifier"
          ]
         ],
         "hovertemplate": "<b>%{customdata[2]}</b><br>Subgroup: %{customdata[0]}<br>Score: %{customdata[1]}<br><extra></extra>",
         "legendgroup": "DecisionTreeClassifier",
         "marker": {
          "color": "#46bac2",
          "pattern": {
           "shape": ""
          }
         },
         "name": "DecisionTreeClassifier",
         "offsetgroup": "DecisionTreeClassifier",
         "orientation": "h",
         "showlegend": false,
         "textposition": "auto",
         "type": "bar",
         "x": [
          -0.26890756302521,
          -0.026610644257703098,
          -0.13025210084033612
         ],
         "xaxis": "x2",
         "y": [
          0.25,
          0.5,
          0.75
         ],
         "yaxis": "y2"
        },
        {
         "alignmentgroup": "True",
         "customdata": [
          [
           "0_young",
           0.462,
           "DecisionTreeClassifier"
          ],
          [
           "1_old",
           0.901,
           "DecisionTreeClassifier"
          ],
          [
           "1_young",
           0.529,
           "DecisionTreeClassifier"
          ]
         ],
         "hovertemplate": "<b>%{customdata[2]}</b><br>Subgroup: %{customdata[0]}<br>Score: %{customdata[1]}<br><extra></extra>",
         "legendgroup": "DecisionTreeClassifier",
         "marker": {
          "color": "#46bac2",
          "pattern": {
           "shape": ""
          }
         },
         "name": "DecisionTreeClassifier",
         "offsetgroup": "DecisionTreeClassifier",
         "orientation": "h",
         "showlegend": false,
         "textposition": "auto",
         "type": "bar",
         "x": [
          -0.538370720188902,
          -0.09917355371900827,
          -0.47107438016528924
         ],
         "xaxis": "x",
         "y": [
          0.25,
          0.5,
          0.75
         ],
         "yaxis": "y"
        }
       ],
       "layout": {
        "annotations": [
         {
          "font": {
           "size": 15
          },
          "showarrow": false,
          "text": "Statistical parity ratio   (TP + FP)/(TP + FP + TN + FN)",
          "x": 0.05,
          "xanchor": "left",
          "xref": "paper",
          "y": 0.144,
          "yanchor": "bottom",
          "yref": "paper"
         },
         {
          "font": {
           "size": 15
          },
          "showarrow": false,
          "text": "Accuracy equality ratio    (TP + TN)/(TP + FP + TN + FN)",
          "x": 0.05,
          "xanchor": "left",
          "xref": "paper",
          "y": 0.358,
          "yanchor": "bottom",
          "yref": "paper"
         },
         {
          "font": {
           "size": 15
          },
          "showarrow": false,
          "text": "Predictive equality ratio   FP/(FP + TN)",
          "x": 0.05,
          "xanchor": "left",
          "xref": "paper",
          "y": 0.572,
          "yanchor": "bottom",
          "yref": "paper"
         },
         {
          "font": {
           "size": 15
          },
          "showarrow": false,
          "text": "Predictive parity ratio     TP/(TP + FP)",
          "x": 0.05,
          "xanchor": "left",
          "xref": "paper",
          "y": 0.7859999999999999,
          "yanchor": "bottom",
          "yref": "paper"
         },
         {
          "font": {
           "size": 15
          },
          "showarrow": false,
          "text": "Equal opportunity ratio     TP/(TP + FN)",
          "x": 0.05,
          "xanchor": "left",
          "xref": "paper",
          "y": 1,
          "yanchor": "bottom",
          "yref": "paper"
         }
        ],
        "autosize": true,
        "barmode": "group",
        "font": {
         "color": "#371ea3"
        },
        "legend": {
         "title": {
          "text": "label"
         },
         "tracegroupgap": 0
        },
        "margin": {
         "b": 71,
         "r": 30,
         "t": 78
        },
        "shapes": [
         {
          "fillcolor": "#f05a71",
          "layer": "below",
          "line": {
           "width": 0
          },
          "opacity": 0.1,
          "type": "rect",
          "x0": 0.25,
          "x1": 0.3,
          "xref": "x",
          "y0": 0,
          "y1": 1,
          "yref": "y"
         },
         {
          "fillcolor": "#f05a71",
          "layer": "below",
          "line": {
           "width": 0
          },
          "opacity": 0.1,
          "type": "rect",
          "x0": -0.7940194714881781,
          "x1": -0.19999999999999996,
          "xref": "x",
          "y0": 0,
          "y1": 1,
          "yref": "y"
         },
         {
          "fillcolor": "#c7f5bf",
          "layer": "below",
          "line": {
           "width": 0
          },
          "opacity": 0.1,
          "type": "rect",
          "x0": -0.19999999999999996,
          "x1": 0.25,
          "xref": "x",
          "y0": 0,
          "y1": 1,
          "yref": "y"
         },
         {
          "line": {
           "color": "#371ea3",
           "width": 1.5
          },
          "type": "line",
          "x0": 0,
          "x1": 0,
          "xref": "x",
          "y0": 0,
          "y1": 1,
          "yref": "y"
         },
         {
          "fillcolor": "#f05a71",
          "layer": "below",
          "line": {
           "width": 0
          },
          "opacity": 0.1,
          "type": "rect",
          "x0": 0.25,
          "x1": 0.3,
          "xref": "x",
          "y0": 0,
          "y1": 1,
          "yref": "y2"
         },
         {
          "fillcolor": "#f05a71",
          "layer": "below",
          "line": {
           "width": 0
          },
          "opacity": 0.1,
          "type": "rect",
          "x0": -0.7940194714881781,
          "x1": -0.19999999999999996,
          "xref": "x",
          "y0": 0,
          "y1": 1,
          "yref": "y2"
         },
         {
          "fillcolor": "#c7f5bf",
          "layer": "below",
          "line": {
           "width": 0
          },
          "opacity": 0.1,
          "type": "rect",
          "x0": -0.19999999999999996,
          "x1": 0.25,
          "xref": "x",
          "y0": 0,
          "y1": 1,
          "yref": "y2"
         },
         {
          "line": {
           "color": "#371ea3",
           "width": 1.5
          },
          "type": "line",
          "x0": 0,
          "x1": 0,
          "xref": "x",
          "y0": 0,
          "y1": 1,
          "yref": "y2"
         },
         {
          "fillcolor": "#f05a71",
          "layer": "below",
          "line": {
           "width": 0
          },
          "opacity": 0.1,
          "type": "rect",
          "x0": 0.25,
          "x1": 0.3,
          "xref": "x",
          "y0": 0,
          "y1": 1,
          "yref": "y3"
         },
         {
          "fillcolor": "#f05a71",
          "layer": "below",
          "line": {
           "width": 0
          },
          "opacity": 0.1,
          "type": "rect",
          "x0": -0.7940194714881781,
          "x1": -0.19999999999999996,
          "xref": "x",
          "y0": 0,
          "y1": 1,
          "yref": "y3"
         },
         {
          "fillcolor": "#c7f5bf",
          "layer": "below",
          "line": {
           "width": 0
          },
          "opacity": 0.1,
          "type": "rect",
          "x0": -0.19999999999999996,
          "x1": 0.25,
          "xref": "x",
          "y0": 0,
          "y1": 1,
          "yref": "y3"
         },
         {
          "line": {
           "color": "#371ea3",
           "width": 1.5
          },
          "type": "line",
          "x0": 0,
          "x1": 0,
          "xref": "x",
          "y0": 0,
          "y1": 1,
          "yref": "y3"
         },
         {
          "fillcolor": "#f05a71",
          "layer": "below",
          "line": {
           "width": 0
          },
          "opacity": 0.1,
          "type": "rect",
          "x0": 0.25,
          "x1": 0.3,
          "xref": "x",
          "y0": 0,
          "y1": 1,
          "yref": "y4"
         },
         {
          "fillcolor": "#f05a71",
          "layer": "below",
          "line": {
           "width": 0
          },
          "opacity": 0.1,
          "type": "rect",
          "x0": -0.7940194714881781,
          "x1": -0.19999999999999996,
          "xref": "x",
          "y0": 0,
          "y1": 1,
          "yref": "y4"
         },
         {
          "fillcolor": "#c7f5bf",
          "layer": "below",
          "line": {
           "width": 0
          },
          "opacity": 0.1,
          "type": "rect",
          "x0": -0.19999999999999996,
          "x1": 0.25,
          "xref": "x",
          "y0": 0,
          "y1": 1,
          "yref": "y4"
         },
         {
          "line": {
           "color": "#371ea3",
           "width": 1.5
          },
          "type": "line",
          "x0": 0,
          "x1": 0,
          "xref": "x",
          "y0": 0,
          "y1": 1,
          "yref": "y4"
         },
         {
          "fillcolor": "#f05a71",
          "layer": "below",
          "line": {
           "width": 0
          },
          "opacity": 0.1,
          "type": "rect",
          "x0": 0.25,
          "x1": 0.3,
          "xref": "x",
          "y0": 0,
          "y1": 1,
          "yref": "y5"
         },
         {
          "fillcolor": "#f05a71",
          "layer": "below",
          "line": {
           "width": 0
          },
          "opacity": 0.1,
          "type": "rect",
          "x0": -0.7940194714881781,
          "x1": -0.19999999999999996,
          "xref": "x",
          "y0": 0,
          "y1": 1,
          "yref": "y5"
         },
         {
          "fillcolor": "#c7f5bf",
          "layer": "below",
          "line": {
           "width": 0
          },
          "opacity": 0.1,
          "type": "rect",
          "x0": -0.19999999999999996,
          "x1": 0.25,
          "xref": "x",
          "y0": 0,
          "y1": 1,
          "yref": "y5"
         },
         {
          "line": {
           "color": "#371ea3",
           "width": 1.5
          },
          "type": "line",
          "x0": 0,
          "x1": 0,
          "xref": "x",
          "y0": 0,
          "y1": 1,
          "yref": "y5"
         }
        ],
        "template": {
         "data": {
          "bar": [
           {
            "error_x": {
             "color": "#2a3f5f"
            },
            "error_y": {
             "color": "#2a3f5f"
            },
            "marker": {
             "line": {
              "color": "white",
              "width": 0.5
             },
             "pattern": {
              "fillmode": "overlay",
              "size": 10,
              "solidity": 0.2
             }
            },
            "type": "bar"
           }
          ],
          "barpolar": [
           {
            "marker": {
             "line": {
              "color": "white",
              "width": 0.5
             },
             "pattern": {
              "fillmode": "overlay",
              "size": 10,
              "solidity": 0.2
             }
            },
            "type": "barpolar"
           }
          ],
          "carpet": [
           {
            "aaxis": {
             "endlinecolor": "#2a3f5f",
             "gridcolor": "#C8D4E3",
             "linecolor": "#C8D4E3",
             "minorgridcolor": "#C8D4E3",
             "startlinecolor": "#2a3f5f"
            },
            "baxis": {
             "endlinecolor": "#2a3f5f",
             "gridcolor": "#C8D4E3",
             "linecolor": "#C8D4E3",
             "minorgridcolor": "#C8D4E3",
             "startlinecolor": "#2a3f5f"
            },
            "type": "carpet"
           }
          ],
          "choropleth": [
           {
            "colorbar": {
             "outlinewidth": 0,
             "ticks": ""
            },
            "type": "choropleth"
           }
          ],
          "contour": [
           {
            "colorbar": {
             "outlinewidth": 0,
             "ticks": ""
            },
            "colorscale": [
             [
              0,
              "#0d0887"
             ],
             [
              0.1111111111111111,
              "#46039f"
             ],
             [
              0.2222222222222222,
              "#7201a8"
             ],
             [
              0.3333333333333333,
              "#9c179e"
             ],
             [
              0.4444444444444444,
              "#bd3786"
             ],
             [
              0.5555555555555556,
              "#d8576b"
             ],
             [
              0.6666666666666666,
              "#ed7953"
             ],
             [
              0.7777777777777778,
              "#fb9f3a"
             ],
             [
              0.8888888888888888,
              "#fdca26"
             ],
             [
              1,
              "#f0f921"
             ]
            ],
            "type": "contour"
           }
          ],
          "contourcarpet": [
           {
            "colorbar": {
             "outlinewidth": 0,
             "ticks": ""
            },
            "type": "contourcarpet"
           }
          ],
          "heatmap": [
           {
            "colorbar": {
             "outlinewidth": 0,
             "ticks": ""
            },
            "colorscale": [
             [
              0,
              "#0d0887"
             ],
             [
              0.1111111111111111,
              "#46039f"
             ],
             [
              0.2222222222222222,
              "#7201a8"
             ],
             [
              0.3333333333333333,
              "#9c179e"
             ],
             [
              0.4444444444444444,
              "#bd3786"
             ],
             [
              0.5555555555555556,
              "#d8576b"
             ],
             [
              0.6666666666666666,
              "#ed7953"
             ],
             [
              0.7777777777777778,
              "#fb9f3a"
             ],
             [
              0.8888888888888888,
              "#fdca26"
             ],
             [
              1,
              "#f0f921"
             ]
            ],
            "type": "heatmap"
           }
          ],
          "heatmapgl": [
           {
            "colorbar": {
             "outlinewidth": 0,
             "ticks": ""
            },
            "colorscale": [
             [
              0,
              "#0d0887"
             ],
             [
              0.1111111111111111,
              "#46039f"
             ],
             [
              0.2222222222222222,
              "#7201a8"
             ],
             [
              0.3333333333333333,
              "#9c179e"
             ],
             [
              0.4444444444444444,
              "#bd3786"
             ],
             [
              0.5555555555555556,
              "#d8576b"
             ],
             [
              0.6666666666666666,
              "#ed7953"
             ],
             [
              0.7777777777777778,
              "#fb9f3a"
             ],
             [
              0.8888888888888888,
              "#fdca26"
             ],
             [
              1,
              "#f0f921"
             ]
            ],
            "type": "heatmapgl"
           }
          ],
          "histogram": [
           {
            "marker": {
             "pattern": {
              "fillmode": "overlay",
              "size": 10,
              "solidity": 0.2
             }
            },
            "type": "histogram"
           }
          ],
          "histogram2d": [
           {
            "colorbar": {
             "outlinewidth": 0,
             "ticks": ""
            },
            "colorscale": [
             [
              0,
              "#0d0887"
             ],
             [
              0.1111111111111111,
              "#46039f"
             ],
             [
              0.2222222222222222,
              "#7201a8"
             ],
             [
              0.3333333333333333,
              "#9c179e"
             ],
             [
              0.4444444444444444,
              "#bd3786"
             ],
             [
              0.5555555555555556,
              "#d8576b"
             ],
             [
              0.6666666666666666,
              "#ed7953"
             ],
             [
              0.7777777777777778,
              "#fb9f3a"
             ],
             [
              0.8888888888888888,
              "#fdca26"
             ],
             [
              1,
              "#f0f921"
             ]
            ],
            "type": "histogram2d"
           }
          ],
          "histogram2dcontour": [
           {
            "colorbar": {
             "outlinewidth": 0,
             "ticks": ""
            },
            "colorscale": [
             [
              0,
              "#0d0887"
             ],
             [
              0.1111111111111111,
              "#46039f"
             ],
             [
              0.2222222222222222,
              "#7201a8"
             ],
             [
              0.3333333333333333,
              "#9c179e"
             ],
             [
              0.4444444444444444,
              "#bd3786"
             ],
             [
              0.5555555555555556,
              "#d8576b"
             ],
             [
              0.6666666666666666,
              "#ed7953"
             ],
             [
              0.7777777777777778,
              "#fb9f3a"
             ],
             [
              0.8888888888888888,
              "#fdca26"
             ],
             [
              1,
              "#f0f921"
             ]
            ],
            "type": "histogram2dcontour"
           }
          ],
          "mesh3d": [
           {
            "colorbar": {
             "outlinewidth": 0,
             "ticks": ""
            },
            "type": "mesh3d"
           }
          ],
          "parcoords": [
           {
            "line": {
             "colorbar": {
              "outlinewidth": 0,
              "ticks": ""
             }
            },
            "type": "parcoords"
           }
          ],
          "pie": [
           {
            "automargin": true,
            "type": "pie"
           }
          ],
          "scatter": [
           {
            "marker": {
             "colorbar": {
              "outlinewidth": 0,
              "ticks": ""
             }
            },
            "type": "scatter"
           }
          ],
          "scatter3d": [
           {
            "line": {
             "colorbar": {
              "outlinewidth": 0,
              "ticks": ""
             }
            },
            "marker": {
             "colorbar": {
              "outlinewidth": 0,
              "ticks": ""
             }
            },
            "type": "scatter3d"
           }
          ],
          "scattercarpet": [
           {
            "marker": {
             "colorbar": {
              "outlinewidth": 0,
              "ticks": ""
             }
            },
            "type": "scattercarpet"
           }
          ],
          "scattergeo": [
           {
            "marker": {
             "colorbar": {
              "outlinewidth": 0,
              "ticks": ""
             }
            },
            "type": "scattergeo"
           }
          ],
          "scattergl": [
           {
            "marker": {
             "colorbar": {
              "outlinewidth": 0,
              "ticks": ""
             }
            },
            "type": "scattergl"
           }
          ],
          "scattermapbox": [
           {
            "marker": {
             "colorbar": {
              "outlinewidth": 0,
              "ticks": ""
             }
            },
            "type": "scattermapbox"
           }
          ],
          "scatterpolar": [
           {
            "marker": {
             "colorbar": {
              "outlinewidth": 0,
              "ticks": ""
             }
            },
            "type": "scatterpolar"
           }
          ],
          "scatterpolargl": [
           {
            "marker": {
             "colorbar": {
              "outlinewidth": 0,
              "ticks": ""
             }
            },
            "type": "scatterpolargl"
           }
          ],
          "scatterternary": [
           {
            "marker": {
             "colorbar": {
              "outlinewidth": 0,
              "ticks": ""
             }
            },
            "type": "scatterternary"
           }
          ],
          "surface": [
           {
            "colorbar": {
             "outlinewidth": 0,
             "ticks": ""
            },
            "colorscale": [
             [
              0,
              "#0d0887"
             ],
             [
              0.1111111111111111,
              "#46039f"
             ],
             [
              0.2222222222222222,
              "#7201a8"
             ],
             [
              0.3333333333333333,
              "#9c179e"
             ],
             [
              0.4444444444444444,
              "#bd3786"
             ],
             [
              0.5555555555555556,
              "#d8576b"
             ],
             [
              0.6666666666666666,
              "#ed7953"
             ],
             [
              0.7777777777777778,
              "#fb9f3a"
             ],
             [
              0.8888888888888888,
              "#fdca26"
             ],
             [
              1,
              "#f0f921"
             ]
            ],
            "type": "surface"
           }
          ],
          "table": [
           {
            "cells": {
             "fill": {
              "color": "#EBF0F8"
             },
             "line": {
              "color": "white"
             }
            },
            "header": {
             "fill": {
              "color": "#C8D4E3"
             },
             "line": {
              "color": "white"
             }
            },
            "type": "table"
           }
          ]
         },
         "layout": {
          "annotationdefaults": {
           "arrowcolor": "#2a3f5f",
           "arrowhead": 0,
           "arrowwidth": 1
          },
          "autotypenumbers": "strict",
          "coloraxis": {
           "colorbar": {
            "outlinewidth": 0,
            "ticks": ""
           }
          },
          "colorscale": {
           "diverging": [
            [
             0,
             "#8e0152"
            ],
            [
             0.1,
             "#c51b7d"
            ],
            [
             0.2,
             "#de77ae"
            ],
            [
             0.3,
             "#f1b6da"
            ],
            [
             0.4,
             "#fde0ef"
            ],
            [
             0.5,
             "#f7f7f7"
            ],
            [
             0.6,
             "#e6f5d0"
            ],
            [
             0.7,
             "#b8e186"
            ],
            [
             0.8,
             "#7fbc41"
            ],
            [
             0.9,
             "#4d9221"
            ],
            [
             1,
             "#276419"
            ]
           ],
           "sequential": [
            [
             0,
             "#0d0887"
            ],
            [
             0.1111111111111111,
             "#46039f"
            ],
            [
             0.2222222222222222,
             "#7201a8"
            ],
            [
             0.3333333333333333,
             "#9c179e"
            ],
            [
             0.4444444444444444,
             "#bd3786"
            ],
            [
             0.5555555555555556,
             "#d8576b"
            ],
            [
             0.6666666666666666,
             "#ed7953"
            ],
            [
             0.7777777777777778,
             "#fb9f3a"
            ],
            [
             0.8888888888888888,
             "#fdca26"
            ],
            [
             1,
             "#f0f921"
            ]
           ],
           "sequentialminus": [
            [
             0,
             "#0d0887"
            ],
            [
             0.1111111111111111,
             "#46039f"
            ],
            [
             0.2222222222222222,
             "#7201a8"
            ],
            [
             0.3333333333333333,
             "#9c179e"
            ],
            [
             0.4444444444444444,
             "#bd3786"
            ],
            [
             0.5555555555555556,
             "#d8576b"
            ],
            [
             0.6666666666666666,
             "#ed7953"
            ],
            [
             0.7777777777777778,
             "#fb9f3a"
            ],
            [
             0.8888888888888888,
             "#fdca26"
            ],
            [
             1,
             "#f0f921"
            ]
           ]
          },
          "colorway": [
           "#636efa",
           "#EF553B",
           "#00cc96",
           "#ab63fa",
           "#FFA15A",
           "#19d3f3",
           "#FF6692",
           "#B6E880",
           "#FF97FF",
           "#FECB52"
          ],
          "font": {
           "color": "#2a3f5f"
          },
          "geo": {
           "bgcolor": "white",
           "lakecolor": "white",
           "landcolor": "white",
           "showlakes": true,
           "showland": true,
           "subunitcolor": "#C8D4E3"
          },
          "hoverlabel": {
           "align": "left"
          },
          "hovermode": "closest",
          "mapbox": {
           "style": "light"
          },
          "paper_bgcolor": "white",
          "plot_bgcolor": "white",
          "polar": {
           "angularaxis": {
            "gridcolor": "#EBF0F8",
            "linecolor": "#EBF0F8",
            "ticks": ""
           },
           "bgcolor": "white",
           "radialaxis": {
            "gridcolor": "#EBF0F8",
            "linecolor": "#EBF0F8",
            "ticks": ""
           }
          },
          "scene": {
           "xaxis": {
            "backgroundcolor": "white",
            "gridcolor": "#DFE8F3",
            "gridwidth": 2,
            "linecolor": "#EBF0F8",
            "showbackground": true,
            "ticks": "",
            "zerolinecolor": "#EBF0F8"
           },
           "yaxis": {
            "backgroundcolor": "white",
            "gridcolor": "#DFE8F3",
            "gridwidth": 2,
            "linecolor": "#EBF0F8",
            "showbackground": true,
            "ticks": "",
            "zerolinecolor": "#EBF0F8"
           },
           "zaxis": {
            "backgroundcolor": "white",
            "gridcolor": "#DFE8F3",
            "gridwidth": 2,
            "linecolor": "#EBF0F8",
            "showbackground": true,
            "ticks": "",
            "zerolinecolor": "#EBF0F8"
           }
          },
          "shapedefaults": {
           "line": {
            "color": "#2a3f5f"
           }
          },
          "ternary": {
           "aaxis": {
            "gridcolor": "#DFE8F3",
            "linecolor": "#A2B1C6",
            "ticks": ""
           },
           "baxis": {
            "gridcolor": "#DFE8F3",
            "linecolor": "#A2B1C6",
            "ticks": ""
           },
           "bgcolor": "white",
           "caxis": {
            "gridcolor": "#DFE8F3",
            "linecolor": "#A2B1C6",
            "ticks": ""
           }
          },
          "title": {
           "x": 0.05
          },
          "xaxis": {
           "automargin": true,
           "gridcolor": "#EBF0F8",
           "linecolor": "#EBF0F8",
           "ticks": "",
           "title": {
            "standoff": 15
           },
           "zerolinecolor": "#EBF0F8",
           "zerolinewidth": 2
          },
          "yaxis": {
           "automargin": true,
           "gridcolor": "#EBF0F8",
           "linecolor": "#EBF0F8",
           "ticks": "",
           "title": {
            "standoff": 15
           },
           "zerolinecolor": "#EBF0F8",
           "zerolinewidth": 2
          }
         }
        },
        "title": {
         "font": {
          "size": 25
         },
         "text": "Fairness Check",
         "x": 0.5,
         "y": 0.99
        },
        "xaxis": {
         "anchor": "y",
         "domain": [
          0,
          1
         ],
         "range": [
          -0.7940194714881781,
          0.3
         ],
         "ticktext": [
          0.2,
          0.4,
          0.6,
          0.8,
          1,
          1.2,
          1.4,
          1
         ],
         "tickvals": [
          -0.8,
          -0.6,
          -0.4,
          -0.19999999999999996,
          0,
          0.19999999999999996,
          0.3999999999999999,
          0
         ],
         "title": {
          "text": "score"
         },
         "type": "linear"
        },
        "xaxis2": {
         "anchor": "y2",
         "domain": [
          0,
          1
         ],
         "matches": "x",
         "range": [
          -0.7940194714881781,
          0.3
         ],
         "showticklabels": false,
         "ticktext": [
          0.2,
          0.4,
          0.6,
          0.8,
          1,
          1.2,
          1.4,
          1
         ],
         "tickvals": [
          -0.8,
          -0.6,
          -0.4,
          -0.19999999999999996,
          0,
          0.19999999999999996,
          0.3999999999999999,
          0
         ],
         "type": "linear"
        },
        "xaxis3": {
         "anchor": "y3",
         "domain": [
          0,
          1
         ],
         "matches": "x",
         "range": [
          -0.7940194714881781,
          0.3
         ],
         "showticklabels": false,
         "ticktext": [
          0.2,
          0.4,
          0.6,
          0.8,
          1,
          1.2,
          1.4,
          1
         ],
         "tickvals": [
          -0.8,
          -0.6,
          -0.4,
          -0.19999999999999996,
          0,
          0.19999999999999996,
          0.3999999999999999,
          0
         ],
         "type": "linear"
        },
        "xaxis4": {
         "anchor": "y4",
         "domain": [
          0,
          1
         ],
         "matches": "x",
         "range": [
          -0.7940194714881781,
          0.3
         ],
         "showticklabels": false,
         "ticktext": [
          0.2,
          0.4,
          0.6,
          0.8,
          1,
          1.2,
          1.4,
          1
         ],
         "tickvals": [
          -0.8,
          -0.6,
          -0.4,
          -0.19999999999999996,
          0,
          0.19999999999999996,
          0.3999999999999999,
          0
         ],
         "type": "linear"
        },
        "xaxis5": {
         "anchor": "y5",
         "domain": [
          0,
          1
         ],
         "matches": "x",
         "range": [
          -0.7940194714881781,
          0.3
         ],
         "showticklabels": false,
         "ticktext": [
          0.2,
          0.4,
          0.6,
          0.8,
          1,
          1.2,
          1.4,
          1
         ],
         "tickvals": [
          -0.8,
          -0.6,
          -0.4,
          -0.19999999999999996,
          0,
          0.19999999999999996,
          0.3999999999999999,
          0
         ],
         "type": "linear"
        },
        "yaxis": {
         "anchor": "x",
         "domain": [
          0,
          0.144
         ],
         "range": [
          0,
          1
         ],
         "showgrid": false,
         "ticktext": [
          "0_young",
          "1_old",
          "1_young"
         ],
         "tickvals": [
          0.25,
          0.5,
          0.75
         ],
         "title": {
          "text": ""
         },
         "type": "linear",
         "zeroline": false
        },
        "yaxis2": {
         "anchor": "x2",
         "domain": [
          0.214,
          0.358
         ],
         "matches": "y",
         "range": [
          0,
          1
         ],
         "showgrid": false,
         "ticktext": [
          "0_young",
          "1_old",
          "1_young"
         ],
         "tickvals": [
          0.25,
          0.5,
          0.75
         ],
         "title": {
          "text": ""
         },
         "type": "linear",
         "zeroline": false
        },
        "yaxis3": {
         "anchor": "x3",
         "domain": [
          0.428,
          0.572
         ],
         "matches": "y",
         "range": [
          0,
          1
         ],
         "showgrid": false,
         "ticktext": [
          "0_young",
          "1_old",
          "1_young"
         ],
         "tickvals": [
          0.25,
          0.5,
          0.75
         ],
         "title": {
          "text": "subgroup"
         },
         "type": "linear",
         "zeroline": false
        },
        "yaxis4": {
         "anchor": "x4",
         "domain": [
          0.6419999999999999,
          0.7859999999999999
         ],
         "matches": "y",
         "range": [
          0,
          1
         ],
         "showgrid": false,
         "ticktext": [
          "0_young",
          "1_old",
          "1_young"
         ],
         "tickvals": [
          0.25,
          0.5,
          0.75
         ],
         "title": {
          "text": ""
         },
         "type": "linear",
         "zeroline": false
        },
        "yaxis5": {
         "anchor": "x5",
         "domain": [
          0.856,
          1
         ],
         "matches": "y",
         "range": [
          0,
          1
         ],
         "showgrid": false,
         "ticktext": [
          "0_young",
          "1_old",
          "1_young"
         ],
         "tickvals": [
          0.25,
          0.5,
          0.75
         ],
         "title": {
          "text": ""
         },
         "type": "linear",
         "zeroline": false
        }
       }
      },
      "image/png": "[encoded data removed]",
      "text/html": [
       "<div>                            <div id=\"d0c1f9bb-addf-43bc-89c0-abae23f11655\" class=\"plotly-graph-div\" style=\"height:525px; width:100%;\"></div>            <script type=\"text/javascript\">                require([\"plotly\"], function(Plotly) {                    window.PLOTLYENV=window.PLOTLYENV || {};                                    if (document.getElementById(\"d0c1f9bb-addf-43bc-89c0-abae23f11655\")) {                    Plotly.newPlot(                        \"d0c1f9bb-addf-43bc-89c0-abae23f11655\",                        [{\"alignmentgroup\":\"True\",\"customdata\":[[\"0_young\",0.492,\"DecisionTreeClassifier\"],[\"1_old\",0.887,\"DecisionTreeClassifier\"],[\"1_young\",0.633,\"DecisionTreeClassifier\"]],\"hovertemplate\":\"<b>%{customdata[2]}</b><br>Subgroup: %{customdata[0]}<br>Score: %{customdata[1]}<br><extra></extra>\",\"legendgroup\":\"DecisionTreeClassifier\",\"marker\":{\"color\":\"#46bac2\",\"pattern\":{\"shape\":\"\"}},\"name\":\"DecisionTreeClassifier\",\"offsetgroup\":\"DecisionTreeClassifier\",\"orientation\":\"h\",\"showlegend\":true,\"textposition\":\"auto\",\"type\":\"bar\",\"x\":[-0.5077605321507761,-0.11308203991130816,-0.3669623059866963],\"xaxis\":\"x5\",\"y\":[0.25,0.5,0.75],\"yaxis\":\"y5\"},{\"alignmentgroup\":\"True\",\"customdata\":[[\"0_young\",1.195,\"DecisionTreeClassifier\"],[\"1_old\",1.075,\"DecisionTreeClassifier\"],[\"1_young\",0.827,\"DecisionTreeClassifier\"]],\"hovertemplate\":\"<b>%{customdata[2]}</b><br>Subgroup: %{customdata[0]}<br>Score: %{customdata[1]}<br><extra></extra>\",\"legendgroup\":\"DecisionTreeClassifier\",\"marker\":{\"color\":\"#46bac2\",\"pattern\":{\"shape\":\"\"}},\"name\":\"DecisionTreeClassifier\",\"offsetgroup\":\"DecisionTreeClassifier\",\"orientation\":\"h\",\"showlegend\":false,\"textposition\":\"auto\",\"type\":\"bar\",\"x\":[0.1948924731182795,0.07526881720430123,-0.1733870967741935],\"xaxis\":\"x4\",\"y\":[0.25,0.5,0.75],\"yaxis\":\"y4\"},{\"alignmentgroup\":\"True\",\"customdata\":[[\"0_young\",0.278,\"DecisionTreeClassifier\"],[\"1_old\",0.894,\"DecisionTreeClassifier\"],[\"1_young\",0.463,\"DecisionTreeClassifier\"]],\"hovertemplate\":\"<b>%{customdata[2]}</b><br>Subgroup: %{customdata[0]}<br>Score: %{customdata[1]}<br><extra></extra>\",\"legendgroup\":\"DecisionTreeClassifier\",\"marker\":{\"color\":\"#46bac2\",\"pattern\":{\"shape\":\"\"}},\"name\":\"DecisionTreeClassifier\",\"offsetgroup\":\"DecisionTreeClassifier\",\"orientation\":\"h\",\"showlegend\":false,\"textposition\":\"auto\",\"type\":\"bar\",\"x\":[-0.721835883171071,-0.10570236439499303,-0.536856745479833],\"xaxis\":\"x3\",\"y\":[0.25,0.5,0.75],\"yaxis\":\"y3\"},{\"alignmentgroup\":\"True\",\"customdata\":[[\"0_young\",0.731,\"DecisionTreeClassifier\"],[\"1_old\",0.973,\"DecisionTreeClassifier\"],[\"1_young\",0.87,\"DecisionTreeClassifier\"]],\"hovertemplate\":\"<b>%{customdata[2]}</b><br>Subgroup: %{customdata[0]}<br>Score: %{customdata[1]}<br><extra></extra>\",\"legendgroup\":\"DecisionTreeClassifier\",\"marker\":{\"color\":\"#46bac2\",\"pattern\":{\"shape\":\"\"}},\"name\":\"DecisionTreeClassifier\",\"offsetgroup\":\"DecisionTreeClassifier\",\"orientation\":\"h\",\"showlegend\":false,\"textposition\":\"auto\",\"type\":\"bar\",\"x\":[-0.26890756302521,-0.026610644257703098,-0.13025210084033612],\"xaxis\":\"x2\",\"y\":[0.25,0.5,0.75],\"yaxis\":\"y2\"},{\"alignmentgroup\":\"True\",\"customdata\":[[\"0_young\",0.462,\"DecisionTreeClassifier\"],[\"1_old\",0.901,\"DecisionTreeClassifier\"],[\"1_young\",0.529,\"DecisionTreeClassifier\"]],\"hovertemplate\":\"<b>%{customdata[2]}</b><br>Subgroup: %{customdata[0]}<br>Score: %{customdata[1]}<br><extra></extra>\",\"legendgroup\":\"DecisionTreeClassifier\",\"marker\":{\"color\":\"#46bac2\",\"pattern\":{\"shape\":\"\"}},\"name\":\"DecisionTreeClassifier\",\"offsetgroup\":\"DecisionTreeClassifier\",\"orientation\":\"h\",\"showlegend\":false,\"textposition\":\"auto\",\"type\":\"bar\",\"x\":[-0.538370720188902,-0.09917355371900827,-0.47107438016528924],\"xaxis\":\"x\",\"y\":[0.25,0.5,0.75],\"yaxis\":\"y\"}],                        {\"annotations\":[{\"font\":{\"size\":15},\"showarrow\":false,\"text\":\"Statistical parity ratio   (TP + FP)/(TP + FP + TN + FN)\",\"x\":0.05,\"xanchor\":\"left\",\"xref\":\"paper\",\"y\":0.144,\"yanchor\":\"bottom\",\"yref\":\"paper\"},{\"font\":{\"size\":15},\"showarrow\":false,\"text\":\"Accuracy equality ratio    (TP + TN)/(TP + FP + TN + FN)\",\"x\":0.05,\"xanchor\":\"left\",\"xref\":\"paper\",\"y\":0.358,\"yanchor\":\"bottom\",\"yref\":\"paper\"},{\"font\":{\"size\":15},\"showarrow\":false,\"text\":\"Predictive equality ratio   FP/(FP + TN)\",\"x\":0.05,\"xanchor\":\"left\",\"xref\":\"paper\",\"y\":0.572,\"yanchor\":\"bottom\",\"yref\":\"paper\"},{\"font\":{\"size\":15},\"showarrow\":false,\"text\":\"Predictive parity ratio     TP/(TP + FP)\",\"x\":0.05,\"xanchor\":\"left\",\"xref\":\"paper\",\"y\":0.7859999999999999,\"yanchor\":\"bottom\",\"yref\":\"paper\"},{\"font\":{\"size\":15},\"showarrow\":false,\"text\":\"Equal opportunity ratio     TP/(TP + FN)\",\"x\":0.05,\"xanchor\":\"left\",\"xref\":\"paper\",\"y\":1.0,\"yanchor\":\"bottom\",\"yref\":\"paper\"}],\"barmode\":\"group\",\"font\":{\"color\":\"#371ea3\"},\"legend\":{\"title\":{\"text\":\"label\"},\"tracegroupgap\":0},\"margin\":{\"b\":71,\"r\":30,\"t\":78},\"shapes\":[{\"fillcolor\":\"#f05a71\",\"layer\":\"below\",\"line\":{\"width\":0},\"opacity\":0.1,\"type\":\"rect\",\"x0\":0.25,\"x1\":0.3,\"xref\":\"x\",\"y0\":0,\"y1\":1,\"yref\":\"y\"},{\"fillcolor\":\"#f05a71\",\"layer\":\"below\",\"line\":{\"width\":0},\"opacity\":0.1,\"type\":\"rect\",\"x0\":-0.7940194714881781,\"x1\":-0.19999999999999996,\"xref\":\"x\",\"y0\":0,\"y1\":1,\"yref\":\"y\"},{\"fillcolor\":\"#c7f5bf\",\"layer\":\"below\",\"line\":{\"width\":0},\"opacity\":0.1,\"type\":\"rect\",\"x0\":-0.19999999999999996,\"x1\":0.25,\"xref\":\"x\",\"y0\":0,\"y1\":1,\"yref\":\"y\"},{\"line\":{\"color\":\"#371ea3\",\"width\":1.5},\"type\":\"line\",\"x0\":0,\"x1\":0,\"xref\":\"x\",\"y0\":0,\"y1\":1,\"yref\":\"y\"},{\"fillcolor\":\"#f05a71\",\"layer\":\"below\",\"line\":{\"width\":0},\"opacity\":0.1,\"type\":\"rect\",\"x0\":0.25,\"x1\":0.3,\"xref\":\"x\",\"y0\":0,\"y1\":1,\"yref\":\"y2\"},{\"fillcolor\":\"#f05a71\",\"layer\":\"below\",\"line\":{\"width\":0},\"opacity\":0.1,\"type\":\"rect\",\"x0\":-0.7940194714881781,\"x1\":-0.19999999999999996,\"xref\":\"x\",\"y0\":0,\"y1\":1,\"yref\":\"y2\"},{\"fillcolor\":\"#c7f5bf\",\"layer\":\"below\",\"line\":{\"width\":0},\"opacity\":0.1,\"type\":\"rect\",\"x0\":-0.19999999999999996,\"x1\":0.25,\"xref\":\"x\",\"y0\":0,\"y1\":1,\"yref\":\"y2\"},{\"line\":{\"color\":\"#371ea3\",\"width\":1.5},\"type\":\"line\",\"x0\":0,\"x1\":0,\"xref\":\"x\",\"y0\":0,\"y1\":1,\"yref\":\"y2\"},{\"fillcolor\":\"#f05a71\",\"layer\":\"below\",\"line\":{\"width\":0},\"opacity\":0.1,\"type\":\"rect\",\"x0\":0.25,\"x1\":0.3,\"xref\":\"x\",\"y0\":0,\"y1\":1,\"yref\":\"y3\"},{\"fillcolor\":\"#f05a71\",\"layer\":\"below\",\"line\":{\"width\":0},\"opacity\":0.1,\"type\":\"rect\",\"x0\":-0.7940194714881781,\"x1\":-0.19999999999999996,\"xref\":\"x\",\"y0\":0,\"y1\":1,\"yref\":\"y3\"},{\"fillcolor\":\"#c7f5bf\",\"layer\":\"below\",\"line\":{\"width\":0},\"opacity\":0.1,\"type\":\"rect\",\"x0\":-0.19999999999999996,\"x1\":0.25,\"xref\":\"x\",\"y0\":0,\"y1\":1,\"yref\":\"y3\"},{\"line\":{\"color\":\"#371ea3\",\"width\":1.5},\"type\":\"line\",\"x0\":0,\"x1\":0,\"xref\":\"x\",\"y0\":0,\"y1\":1,\"yref\":\"y3\"},{\"fillcolor\":\"#f05a71\",\"layer\":\"below\",\"line\":{\"width\":0},\"opacity\":0.1,\"type\":\"rect\",\"x0\":0.25,\"x1\":0.3,\"xref\":\"x\",\"y0\":0,\"y1\":1,\"yref\":\"y4\"},{\"fillcolor\":\"#f05a71\",\"layer\":\"below\",\"line\":{\"width\":0},\"opacity\":0.1,\"type\":\"rect\",\"x0\":-0.7940194714881781,\"x1\":-0.19999999999999996,\"xref\":\"x\",\"y0\":0,\"y1\":1,\"yref\":\"y4\"},{\"fillcolor\":\"#c7f5bf\",\"layer\":\"below\",\"line\":{\"width\":0},\"opacity\":0.1,\"type\":\"rect\",\"x0\":-0.19999999999999996,\"x1\":0.25,\"xref\":\"x\",\"y0\":0,\"y1\":1,\"yref\":\"y4\"},{\"line\":{\"color\":\"#371ea3\",\"width\":1.5},\"type\":\"line\",\"x0\":0,\"x1\":0,\"xref\":\"x\",\"y0\":0,\"y1\":1,\"yref\":\"y4\"},{\"fillcolor\":\"#f05a71\",\"layer\":\"below\",\"line\":{\"width\":0},\"opacity\":0.1,\"type\":\"rect\",\"x0\":0.25,\"x1\":0.3,\"xref\":\"x\",\"y0\":0,\"y1\":1,\"yref\":\"y5\"},{\"fillcolor\":\"#f05a71\",\"layer\":\"below\",\"line\":{\"width\":0},\"opacity\":0.1,\"type\":\"rect\",\"x0\":-0.7940194714881781,\"x1\":-0.19999999999999996,\"xref\":\"x\",\"y0\":0,\"y1\":1,\"yref\":\"y5\"},{\"fillcolor\":\"#c7f5bf\",\"layer\":\"below\",\"line\":{\"width\":0},\"opacity\":0.1,\"type\":\"rect\",\"x0\":-0.19999999999999996,\"x1\":0.25,\"xref\":\"x\",\"y0\":0,\"y1\":1,\"yref\":\"y5\"},{\"line\":{\"color\":\"#371ea3\",\"width\":1.5},\"type\":\"line\",\"x0\":0,\"x1\":0,\"xref\":\"x\",\"y0\":0,\"y1\":1,\"yref\":\"y5\"}],\"template\":{\"data\":{\"bar\":[{\"error_x\":{\"color\":\"#2a3f5f\"},\"error_y\":{\"color\":\"#2a3f5f\"},\"marker\":{\"line\":{\"color\":\"white\",\"width\":0.5},\"pattern\":{\"fillmode\":\"overlay\",\"size\":10,\"solidity\":0.2}},\"type\":\"bar\"}],\"barpolar\":[{\"marker\":{\"line\":{\"color\":\"white\",\"width\":0.5},\"pattern\":{\"fillmode\":\"overlay\",\"size\":10,\"solidity\":0.2}},\"type\":\"barpolar\"}],\"carpet\":[{\"aaxis\":{\"endlinecolor\":\"#2a3f5f\",\"gridcolor\":\"#C8D4E3\",\"linecolor\":\"#C8D4E3\",\"minorgridcolor\":\"#C8D4E3\",\"startlinecolor\":\"#2a3f5f\"},\"baxis\":{\"endlinecolor\":\"#2a3f5f\",\"gridcolor\":\"#C8D4E3\",\"linecolor\":\"#C8D4E3\",\"minorgridcolor\":\"#C8D4E3\",\"startlinecolor\":\"#2a3f5f\"},\"type\":\"carpet\"}],\"choropleth\":[{\"colorbar\":{\"outlinewidth\":0,\"ticks\":\"\"},\"type\":\"choropleth\"}],\"contour\":[{\"colorbar\":{\"outlinewidth\":0,\"ticks\":\"\"},\"colorscale\":[[0.0,\"#0d0887\"],[0.1111111111111111,\"#46039f\"],[0.2222222222222222,\"#7201a8\"],[0.3333333333333333,\"#9c179e\"],[0.4444444444444444,\"#bd3786\"],[0.5555555555555556,\"#d8576b\"],[0.6666666666666666,\"#ed7953\"],[0.7777777777777778,\"#fb9f3a\"],[0.8888888888888888,\"#fdca26\"],[1.0,\"#f0f921\"]],\"type\":\"contour\"}],\"contourcarpet\":[{\"colorbar\":{\"outlinewidth\":0,\"ticks\":\"\"},\"type\":\"contourcarpet\"}],\"heatmap\":[{\"colorbar\":{\"outlinewidth\":0,\"ticks\":\"\"},\"colorscale\":[[0.0,\"#0d0887\"],[0.1111111111111111,\"#46039f\"],[0.2222222222222222,\"#7201a8\"],[0.3333333333333333,\"#9c179e\"],[0.4444444444444444,\"#bd3786\"],[0.5555555555555556,\"#d8576b\"],[0.6666666666666666,\"#ed7953\"],[0.7777777777777778,\"#fb9f3a\"],[0.8888888888888888,\"#fdca26\"],[1.0,\"#f0f921\"]],\"type\":\"heatmap\"}],\"heatmapgl\":[{\"colorbar\":{\"outlinewidth\":0,\"ticks\":\"\"},\"colorscale\":[[0.0,\"#0d0887\"],[0.1111111111111111,\"#46039f\"],[0.2222222222222222,\"#7201a8\"],[0.3333333333333333,\"#9c179e\"],[0.4444444444444444,\"#bd3786\"],[0.5555555555555556,\"#d8576b\"],[0.6666666666666666,\"#ed7953\"],[0.7777777777777778,\"#fb9f3a\"],[0.8888888888888888,\"#fdca26\"],[1.0,\"#f0f921\"]],\"type\":\"heatmapgl\"}],\"histogram\":[{\"marker\":{\"pattern\":{\"fillmode\":\"overlay\",\"size\":10,\"solidity\":0.2}},\"type\":\"histogram\"}],\"histogram2d\":[{\"colorbar\":{\"outlinewidth\":0,\"ticks\":\"\"},\"colorscale\":[[0.0,\"#0d0887\"],[0.1111111111111111,\"#46039f\"],[0.2222222222222222,\"#7201a8\"],[0.3333333333333333,\"#9c179e\"],[0.4444444444444444,\"#bd3786\"],[0.5555555555555556,\"#d8576b\"],[0.6666666666666666,\"#ed7953\"],[0.7777777777777778,\"#fb9f3a\"],[0.8888888888888888,\"#fdca26\"],[1.0,\"#f0f921\"]],\"type\":\"histogram2d\"}],\"histogram2dcontour\":[{\"colorbar\":{\"outlinewidth\":0,\"ticks\":\"\"},\"colorscale\":[[0.0,\"#0d0887\"],[0.1111111111111111,\"#46039f\"],[0.2222222222222222,\"#7201a8\"],[0.3333333333333333,\"#9c179e\"],[0.4444444444444444,\"#bd3786\"],[0.5555555555555556,\"#d8576b\"],[0.6666666666666666,\"#ed7953\"],[0.7777777777777778,\"#fb9f3a\"],[0.8888888888888888,\"#fdca26\"],[1.0,\"#f0f921\"]],\"type\":\"histogram2dcontour\"}],\"mesh3d\":[{\"colorbar\":{\"outlinewidth\":0,\"ticks\":\"\"},\"type\":\"mesh3d\"}],\"parcoords\":[{\"line\":{\"colorbar\":{\"outlinewidth\":0,\"ticks\":\"\"}},\"type\":\"parcoords\"}],\"pie\":[{\"automargin\":true,\"type\":\"pie\"}],\"scatter\":[{\"marker\":{\"colorbar\":{\"outlinewidth\":0,\"ticks\":\"\"}},\"type\":\"scatter\"}],\"scatter3d\":[{\"line\":{\"colorbar\":{\"outlinewidth\":0,\"ticks\":\"\"}},\"marker\":{\"colorbar\":{\"outlinewidth\":0,\"ticks\":\"\"}},\"type\":\"scatter3d\"}],\"scattercarpet\":[{\"marker\":{\"colorbar\":{\"outlinewidth\":0,\"ticks\":\"\"}},\"type\":\"scattercarpet\"}],\"scattergeo\":[{\"marker\":{\"colorbar\":{\"outlinewidth\":0,\"ticks\":\"\"}},\"type\":\"scattergeo\"}],\"scattergl\":[{\"marker\":{\"colorbar\":{\"outlinewidth\":0,\"ticks\":\"\"}},\"type\":\"scattergl\"}],\"scattermapbox\":[{\"marker\":{\"colorbar\":{\"outlinewidth\":0,\"ticks\":\"\"}},\"type\":\"scattermapbox\"}],\"scatterpolar\":[{\"marker\":{\"colorbar\":{\"outlinewidth\":0,\"ticks\":\"\"}},\"type\":\"scatterpolar\"}],\"scatterpolargl\":[{\"marker\":{\"colorbar\":{\"outlinewidth\":0,\"ticks\":\"\"}},\"type\":\"scatterpolargl\"}],\"scatterternary\":[{\"marker\":{\"colorbar\":{\"outlinewidth\":0,\"ticks\":\"\"}},\"type\":\"scatterternary\"}],\"surface\":[{\"colorbar\":{\"outlinewidth\":0,\"ticks\":\"\"},\"colorscale\":[[0.0,\"#0d0887\"],[0.1111111111111111,\"#46039f\"],[0.2222222222222222,\"#7201a8\"],[0.3333333333333333,\"#9c179e\"],[0.4444444444444444,\"#bd3786\"],[0.5555555555555556,\"#d8576b\"],[0.6666666666666666,\"#ed7953\"],[0.7777777777777778,\"#fb9f3a\"],[0.8888888888888888,\"#fdca26\"],[1.0,\"#f0f921\"]],\"type\":\"surface\"}],\"table\":[{\"cells\":{\"fill\":{\"color\":\"#EBF0F8\"},\"line\":{\"color\":\"white\"}},\"header\":{\"fill\":{\"color\":\"#C8D4E3\"},\"line\":{\"color\":\"white\"}},\"type\":\"table\"}]},\"layout\":{\"annotationdefaults\":{\"arrowcolor\":\"#2a3f5f\",\"arrowhead\":0,\"arrowwidth\":1},\"autotypenumbers\":\"strict\",\"coloraxis\":{\"colorbar\":{\"outlinewidth\":0,\"ticks\":\"\"}},\"colorscale\":{\"diverging\":[[0,\"#8e0152\"],[0.1,\"#c51b7d\"],[0.2,\"#de77ae\"],[0.3,\"#f1b6da\"],[0.4,\"#fde0ef\"],[0.5,\"#f7f7f7\"],[0.6,\"#e6f5d0\"],[0.7,\"#b8e186\"],[0.8,\"#7fbc41\"],[0.9,\"#4d9221\"],[1,\"#276419\"]],\"sequential\":[[0.0,\"#0d0887\"],[0.1111111111111111,\"#46039f\"],[0.2222222222222222,\"#7201a8\"],[0.3333333333333333,\"#9c179e\"],[0.4444444444444444,\"#bd3786\"],[0.5555555555555556,\"#d8576b\"],[0.6666666666666666,\"#ed7953\"],[0.7777777777777778,\"#fb9f3a\"],[0.8888888888888888,\"#fdca26\"],[1.0,\"#f0f921\"]],\"sequentialminus\":[[0.0,\"#0d0887\"],[0.1111111111111111,\"#46039f\"],[0.2222222222222222,\"#7201a8\"],[0.3333333333333333,\"#9c179e\"],[0.4444444444444444,\"#bd3786\"],[0.5555555555555556,\"#d8576b\"],[0.6666666666666666,\"#ed7953\"],[0.7777777777777778,\"#fb9f3a\"],[0.8888888888888888,\"#fdca26\"],[1.0,\"#f0f921\"]]},\"colorway\":[\"#636efa\",\"#EF553B\",\"#00cc96\",\"#ab63fa\",\"#FFA15A\",\"#19d3f3\",\"#FF6692\",\"#B6E880\",\"#FF97FF\",\"#FECB52\"],\"font\":{\"color\":\"#2a3f5f\"},\"geo\":{\"bgcolor\":\"white\",\"lakecolor\":\"white\",\"landcolor\":\"white\",\"showlakes\":true,\"showland\":true,\"subunitcolor\":\"#C8D4E3\"},\"hoverlabel\":{\"align\":\"left\"},\"hovermode\":\"closest\",\"mapbox\":{\"style\":\"light\"},\"paper_bgcolor\":\"white\",\"plot_bgcolor\":\"white\",\"polar\":{\"angularaxis\":{\"gridcolor\":\"#EBF0F8\",\"linecolor\":\"#EBF0F8\",\"ticks\":\"\"},\"bgcolor\":\"white\",\"radialaxis\":{\"gridcolor\":\"#EBF0F8\",\"linecolor\":\"#EBF0F8\",\"ticks\":\"\"}},\"scene\":{\"xaxis\":{\"backgroundcolor\":\"white\",\"gridcolor\":\"#DFE8F3\",\"gridwidth\":2,\"linecolor\":\"#EBF0F8\",\"showbackground\":true,\"ticks\":\"\",\"zerolinecolor\":\"#EBF0F8\"},\"yaxis\":{\"backgroundcolor\":\"white\",\"gridcolor\":\"#DFE8F3\",\"gridwidth\":2,\"linecolor\":\"#EBF0F8\",\"showbackground\":true,\"ticks\":\"\",\"zerolinecolor\":\"#EBF0F8\"},\"zaxis\":{\"backgroundcolor\":\"white\",\"gridcolor\":\"#DFE8F3\",\"gridwidth\":2,\"linecolor\":\"#EBF0F8\",\"showbackground\":true,\"ticks\":\"\",\"zerolinecolor\":\"#EBF0F8\"}},\"shapedefaults\":{\"line\":{\"color\":\"#2a3f5f\"}},\"ternary\":{\"aaxis\":{\"gridcolor\":\"#DFE8F3\",\"linecolor\":\"#A2B1C6\",\"ticks\":\"\"},\"baxis\":{\"gridcolor\":\"#DFE8F3\",\"linecolor\":\"#A2B1C6\",\"ticks\":\"\"},\"bgcolor\":\"white\",\"caxis\":{\"gridcolor\":\"#DFE8F3\",\"linecolor\":\"#A2B1C6\",\"ticks\":\"\"}},\"title\":{\"x\":0.05},\"xaxis\":{\"automargin\":true,\"gridcolor\":\"#EBF0F8\",\"linecolor\":\"#EBF0F8\",\"ticks\":\"\",\"title\":{\"standoff\":15},\"zerolinecolor\":\"#EBF0F8\",\"zerolinewidth\":2},\"yaxis\":{\"automargin\":true,\"gridcolor\":\"#EBF0F8\",\"linecolor\":\"#EBF0F8\",\"ticks\":\"\",\"title\":{\"standoff\":15},\"zerolinecolor\":\"#EBF0F8\",\"zerolinewidth\":2}}},\"title\":{\"font\":{\"size\":25},\"text\":\"Fairness Check\",\"x\":0.5,\"y\":0.99},\"xaxis\":{\"anchor\":\"y\",\"domain\":[0.0,1.0],\"range\":[-0.7940194714881781,0.3],\"ticktext\":[0.2,0.4,0.6,0.8,1.0,1.2,1.4,1.0],\"tickvals\":[-0.8,-0.6,-0.4,-0.19999999999999996,0.0,0.19999999999999996,0.3999999999999999,0.0],\"title\":{\"text\":\"score\"}},\"xaxis2\":{\"anchor\":\"y2\",\"domain\":[0.0,1.0],\"matches\":\"x\",\"range\":[-0.7940194714881781,0.3],\"showticklabels\":false,\"ticktext\":[0.2,0.4,0.6,0.8,1.0,1.2,1.4,1.0],\"tickvals\":[-0.8,-0.6,-0.4,-0.19999999999999996,0.0,0.19999999999999996,0.3999999999999999,0.0]},\"xaxis3\":{\"anchor\":\"y3\",\"domain\":[0.0,1.0],\"matches\":\"x\",\"range\":[-0.7940194714881781,0.3],\"showticklabels\":false,\"ticktext\":[0.2,0.4,0.6,0.8,1.0,1.2,1.4,1.0],\"tickvals\":[-0.8,-0.6,-0.4,-0.19999999999999996,0.0,0.19999999999999996,0.3999999999999999,0.0]},\"xaxis4\":{\"anchor\":\"y4\",\"domain\":[0.0,1.0],\"matches\":\"x\",\"range\":[-0.7940194714881781,0.3],\"showticklabels\":false,\"ticktext\":[0.2,0.4,0.6,0.8,1.0,1.2,1.4,1.0],\"tickvals\":[-0.8,-0.6,-0.4,-0.19999999999999996,0.0,0.19999999999999996,0.3999999999999999,0.0]},\"xaxis5\":{\"anchor\":\"y5\",\"domain\":[0.0,1.0],\"matches\":\"x\",\"range\":[-0.7940194714881781,0.3],\"showticklabels\":false,\"ticktext\":[0.2,0.4,0.6,0.8,1.0,1.2,1.4,1.0],\"tickvals\":[-0.8,-0.6,-0.4,-0.19999999999999996,0.0,0.19999999999999996,0.3999999999999999,0.0]},\"yaxis\":{\"anchor\":\"x\",\"domain\":[0.0,0.144],\"range\":[0,1],\"showgrid\":false,\"ticktext\":[\"0_young\",\"1_old\",\"1_young\"],\"tickvals\":[0.25,0.5,0.75],\"title\":{\"text\":\"\"},\"zeroline\":false},\"yaxis2\":{\"anchor\":\"x2\",\"domain\":[0.214,0.358],\"matches\":\"y\",\"range\":[0,1],\"showgrid\":false,\"ticktext\":[\"0_young\",\"1_old\",\"1_young\"],\"tickvals\":[0.25,0.5,0.75],\"title\":{\"text\":\"\"},\"zeroline\":false},\"yaxis3\":{\"anchor\":\"x3\",\"domain\":[0.428,0.572],\"matches\":\"y\",\"range\":[0,1],\"showgrid\":false,\"ticktext\":[\"0_young\",\"1_old\",\"1_young\"],\"tickvals\":[0.25,0.5,0.75],\"title\":{\"text\":\"subgroup\"},\"zeroline\":false},\"yaxis4\":{\"anchor\":\"x4\",\"domain\":[0.6419999999999999,0.7859999999999999],\"matches\":\"y\",\"range\":[0,1],\"showgrid\":false,\"ticktext\":[\"0_young\",\"1_old\",\"1_young\"],\"tickvals\":[0.25,0.5,0.75],\"title\":{\"text\":\"\"},\"zeroline\":false},\"yaxis5\":{\"anchor\":\"x5\",\"domain\":[0.856,1.0],\"matches\":\"y\",\"range\":[0,1],\"showgrid\":false,\"ticktext\":[\"0_young\",\"1_old\",\"1_young\"],\"tickvals\":[0.25,0.5,0.75],\"title\":{\"text\":\"\"},\"zeroline\":false}},                        {\"displaylogo\": false, \"staticPlot\": false, \"toImageButtonOptions\": {\"height\": null, \"width\": null}, \"modeBarButtonsToRemove\": [\"sendDataToCloud\", \"lasso2d\", \"autoScale2d\", \"select2d\", \"zoom2d\", \"pan2d\", \"zoomIn2d\", \"zoomOut2d\", \"resetScale2d\", \"toggleSpikelines\", \"hoverCompareCartesian\", \"hoverClosestCartesian\"], \"responsive\": true}                    ).then(function(){\n",
       "                            \n",
       "var gd = document.getElementById('d0c1f9bb-addf-43bc-89c0-abae23f11655');\n",
       "var x = new MutationObserver(function (mutations, observer) {{\n",
       "        var display = window.getComputedStyle(gd).display;\n",
       "        if (!display || display === 'none') {{\n",
       "            console.log([gd, 'removed!']);\n",
       "            Plotly.purge(gd);\n",
       "            observer.disconnect();\n",
       "        }}\n",
       "}});\n",
       "\n",
       "// Listen for the removal of the full notebook cells\n",
       "var notebookContainer = gd.closest('#notebook-container');\n",
       "if (notebookContainer) {{\n",
       "    x.observe(notebookContainer, {childList: true});\n",
       "}}\n",
       "\n",
       "// Listen for the clearing of the current output cell\n",
       "var outputEl = gd.closest('.output');\n",
       "if (outputEl) {{\n",
       "    x.observe(outputEl, {childList: true});\n",
       "}}\n",
       "\n",
       "                        })                };                });            </script>        </div>"
      ]
     },
     "metadata": {},
     "output_type": "display_data"
    }
   ],
   "source": [
    "fairness_decisiontree.plot()"
   ]
  },
  {
   "cell_type": "markdown",
   "id": "42ffb590",
   "metadata": {},
   "source": [
    "**Notes**:\n",
    "1. Fairness metrics work the exact same way as performance metrics do. If one was to fit a model on the entire dataset and foster overfitting (namely, skipping a `train_test_split` operation), she would end up with a non biased model.\n",
    "2. A lots of metrics can be computed. It is important to define early in the conception which are the critical metrics to monitor"
   ]
  },
  {
   "cell_type": "markdown",
   "id": "24b64628",
   "metadata": {},
   "source": [
    "### Remove sensitive attribute"
   ]
  },
  {
   "cell_type": "markdown",
   "id": "51e750c0",
   "metadata": {},
   "source": [
    "### Adversarial inprocessing"
   ]
  },
  {
   "cell_type": "markdown",
   "id": "c0441dd3-e4ee-46b0-846f-cd911dd7e0e3",
   "metadata": {},
   "source": [
    "The adversarial inprocessing method consists in learning a target attribute $y$ (here the risk) while forgetting a fixed sensitive attribute $s$. This is done by learning a neural network and minimizing a loss of the form:\n",
    "$$ \\mathcal{L} = \\mathcal{L}_{CE}(y,\\hat{y}) - \\lambda \\mathcal{L}_{CE}(s,\\hat{s}), $$\n",
    "where $\\lambda$ controls the fairness-accuracy tradeoff. \n",
    "\n",
    "This method is implemented in aif360 in the case of a binary sensitive attribute. In the following we incorporate it into the dalex pipeline."
   ]
  },
  {
   "cell_type": "code",
   "execution_count": 87,
   "id": "1c35d76b-6f06-4646-ac5e-e32dacfe0880",
   "metadata": {},
   "outputs": [],
   "source": [
    "from aif360.sklearn.inprocessing import AdversarialDebiasing\n",
    "import tensorflow.compat.v1 as tf\n",
    "sess = tf.Session()\n",
    "tf.disable_eager_execution()\n",
    "tf.random.set_random_seed(42)"
   ]
  },
  {
   "cell_type": "code",
   "execution_count": 94,
   "id": "49329de7-b87f-4dd8-88c0-14ab61f7aa94",
   "metadata": {},
   "outputs": [],
   "source": [
    "df_in, target_in = dx.datasets.load_german(), \"risk\"\n",
    "df_in[\"job\"] = df_in[\"job\"].astype(\"object\")\n",
    "df_in[\"sex\"] = np.where(df_in[\"sex\"] == \"female\", 1, 0).astype(np.int64)\n",
    "df_in[\"youth\"] = np.where(df_in.age <= 25, 1, 0).astype(np.int64)\n",
    "X_train_in, X_test_in, y_train_in, y_test_in = train_test_split(\n",
    "    df_in.drop(columns=[target_in]),\n",
    "    df_in[target_in],\n",
    "    test_size=0.3,\n",
    "    random_state=42\n",
    ")\n",
    "\n",
    "preprocessor = make_column_transformer(\n",
    "      (\"passthrough\", make_column_selector(dtype_include=np.number)),\n",
    "      (OneHotEncoder(handle_unknown=\"ignore\"), make_column_selector(dtype_include=object)),\n",
    ")\n",
    "\n",
    "X_prep_train =  preprocessor.fit_transform(X_train_in)\n",
    "columns_names = preprocessor.get_feature_names_out(preprocessor.feature_names_in_)\n",
    "\n",
    "protected = np.where(X_test_in.age <= 25, 'young', 'old')  # X_test.sex.astype(\"str\") \n",
    "privileged = 'old'\n",
    "\n",
    "class ToFrame():\n",
    "    def __init__(self):\n",
    "        pass\n",
    "        #print('ok')\n",
    "    \n",
    "    def fit(self, arr, y=None):\n",
    "        return self\n",
    "    \n",
    "    def transform(self, arr, y=None):\n",
    "        df = pd.DataFrame(arr)\n",
    "        df.columns = columns_names\n",
    "        df.index = df['passthrough__youth']\n",
    "        #print(df.head())\n",
    "        return df"
   ]
  },
  {
   "cell_type": "code",
   "execution_count": 95,
   "id": "207bb015-f0d0-4dae-9696-58e759f36e19",
   "metadata": {},
   "outputs": [],
   "source": [
    "models = []\n",
    "for adv_weight in ['no_adv', 'adv']:\n",
    "    if adv_weight == 'no_adv':\n",
    "        models.append(\n",
    "            \n",
    "                        Pipeline(steps=[\n",
    "                            ('preprocessor', preprocessor),\n",
    "                            ('toframe', ToFrame()),\n",
    "                            ('classifier', DecisionTreeClassifier(max_depth=7, random_state=123))\n",
    "                        ])       \n",
    "                     )\n",
    "    else:\n",
    "        models.append(\n",
    "                    Pipeline(steps=[\n",
    "                        ('preprocessor', preprocessor),\n",
    "                        ('toframe', ToFrame()),\n",
    "                        ('adv', AdversarialDebiasing(prot_attr='passthrough__youth', \n",
    "                                                     debias=True\n",
    "                                                    ))\n",
    "                            ])        \n",
    "                 )"
   ]
  },
  {
   "cell_type": "code",
   "execution_count": 96,
   "id": "f6410036-603a-4a38-91a1-857e960f27de",
   "metadata": {},
   "outputs": [],
   "source": [
    "models_expl = []\n",
    "for model in models:\n",
    "    model.fit(X_train_in, y_train_in)\n",
    "    models_expl.append(\n",
    "                        dx.Explainer(model, X_test_in, y_test_in, verbose=False)\n",
    "    )   "
   ]
  },
  {
   "cell_type": "code",
   "execution_count": 97,
   "id": "3391924b-811b-4ef2-9d2a-f0fcc9ebdab7",
   "metadata": {},
   "outputs": [],
   "source": [
    "fobj = []\n",
    "for i, expl in enumerate(models_expl):\n",
    "    fobj.append(\n",
    "                expl.model_fairness(protected=protected, privileged=privileged)\n",
    "    )\n",
    "    fobj[-1].label ='adv_{}'.format(i)"
   ]
  },
  {
   "cell_type": "code",
   "execution_count": 98,
   "id": "0c4c663f-e134-4e68-9774-b64d9f00cd01",
   "metadata": {},
   "outputs": [
    {
     "name": "stdout",
     "output_type": "stream",
     "text": [
      "Bias detected in 4 metrics: TPR, ACC, FPR, STP\n",
      "\n",
      "Conclusion: your model is not fair because 2 or more criteria exceeded acceptable limits set by epsilon.\n",
      "\n",
      "Ratios of metrics, based on 'old'. Parameter 'epsilon' was set to 0.8 and therefore metrics should be within (0.8, 1.25)\n",
      "        TPR       ACC      PPV       FPR       STP\n",
      "young  0.57  0.786908  0.94695  0.473469  0.529894\n"
     ]
    }
   ],
   "source": [
    "fobj[0].fairness_check()"
   ]
  },
  {
   "cell_type": "code",
   "execution_count": 66,
   "id": "74af0f16-6906-4577-b8e7-75333d4ab4c3",
   "metadata": {},
   "outputs": [
    {
     "name": "stdout",
     "output_type": "stream",
     "text": [
      "No bias was detected!\n",
      "\n",
      "Conclusion: your model is fair in terms of checked fairness criteria.\n",
      "\n",
      "Ratios of metrics, based on 'old'. Parameter 'epsilon' was set to 0.8 and therefore metrics should be within (0.8, 1.25)\n",
      "       TPR       ACC       PPV  FPR  STP\n",
      "young  1.0  0.880952  0.880952  1.0  1.0\n"
     ]
    }
   ],
   "source": [
    "fobj[1].fairness_check()"
   ]
  },
  {
   "cell_type": "code",
   "execution_count": 67,
   "id": "b3bdf064-15bc-4105-9d85-468ad67835b0",
   "metadata": {},
   "outputs": [
    {
     "data": {
      "application/vnd.plotly.v1+json": {
       "config": {
        "displaylogo": false,
        "modeBarButtonsToRemove": [
         "sendDataToCloud",
         "lasso2d",
         "autoScale2d",
         "select2d",
         "zoom2d",
         "pan2d",
         "zoomIn2d",
         "zoomOut2d",
         "resetScale2d",
         "toggleSpikelines",
         "hoverCompareCartesian",
         "hoverClosestCartesian"
        ],
        "plotlyServerURL": "https://plot.ly",
        "staticPlot": false,
        "toImageButtonOptions": {
         "height": null,
         "width": null
        }
       },
       "data": [
        {
         "hovertemplate": "<b>%{text}</b><br>Metric: %{theta}<br>Parity loss: %{r:.3f}<extra></extra>",
         "line": {
          "color": "#8bdcbe"
         },
         "marker": {
          "color": [
           "#8bdcbe",
           "#8bdcbe",
           "#8bdcbe",
           "#8bdcbe",
           "#8bdcbe",
           "#8bdcbe"
          ]
         },
         "name": "adv_0",
         "r": [
          0.5621189181535413,
          0.054509405668371765,
          0.7476680194383625,
          0.23964383790178323,
          0.635077367659448,
          0.5621189181535413
         ],
         "text": [
          "adv_0",
          "adv_0",
          "adv_0",
          "adv_0",
          "adv_0",
          "adv_0"
         ],
         "theta": [
          "TPR",
          "PPV",
          "FPR",
          "ACC",
          "STP",
          "TPR"
         ],
         "type": "scatterpolar"
        },
        {
         "hovertemplate": "<b>%{text}</b><br>Metric: %{theta}<br>Parity loss: %{r:.3f}<extra></extra>",
         "line": {
          "color": "#4378bf"
         },
         "marker": {
          "color": [
           "#4378bf",
           "#4378bf",
           "#4378bf",
           "#4378bf",
           "#4378bf",
           "#4378bf"
          ]
         },
         "name": "adv_1",
         "r": [
          0,
          0.12675170563914376,
          0,
          0.12675170563914376,
          0,
          0
         ],
         "text": [
          "adv_1",
          "adv_1",
          "adv_1",
          "adv_1",
          "adv_1",
          "adv_1"
         ],
         "theta": [
          "TPR",
          "PPV",
          "FPR",
          "ACC",
          "STP",
          "TPR"
         ],
         "type": "scatterpolar"
        }
       ],
       "layout": {
        "autosize": true,
        "font": {
         "color": "#371ea3"
        },
        "margin": {
         "b": 71,
         "r": 30,
         "t": 78
        },
        "polar": {
         "angularaxis": {
          "type": "category"
         },
         "radialaxis": {
          "autorange": false,
          "range": [
           0,
           0.8476680194383625
          ],
          "type": "linear"
         }
        },
        "template": {
         "data": {
          "bar": [
           {
            "error_x": {
             "color": "#2a3f5f"
            },
            "error_y": {
             "color": "#2a3f5f"
            },
            "marker": {
             "line": {
              "color": "white",
              "width": 0.5
             },
             "pattern": {
              "fillmode": "overlay",
              "size": 10,
              "solidity": 0.2
             }
            },
            "type": "bar"
           }
          ],
          "barpolar": [
           {
            "marker": {
             "line": {
              "color": "white",
              "width": 0.5
             },
             "pattern": {
              "fillmode": "overlay",
              "size": 10,
              "solidity": 0.2
             }
            },
            "type": "barpolar"
           }
          ],
          "carpet": [
           {
            "aaxis": {
             "endlinecolor": "#2a3f5f",
             "gridcolor": "#C8D4E3",
             "linecolor": "#C8D4E3",
             "minorgridcolor": "#C8D4E3",
             "startlinecolor": "#2a3f5f"
            },
            "baxis": {
             "endlinecolor": "#2a3f5f",
             "gridcolor": "#C8D4E3",
             "linecolor": "#C8D4E3",
             "minorgridcolor": "#C8D4E3",
             "startlinecolor": "#2a3f5f"
            },
            "type": "carpet"
           }
          ],
          "choropleth": [
           {
            "colorbar": {
             "outlinewidth": 0,
             "ticks": ""
            },
            "type": "choropleth"
           }
          ],
          "contour": [
           {
            "colorbar": {
             "outlinewidth": 0,
             "ticks": ""
            },
            "colorscale": [
             [
              0,
              "#0d0887"
             ],
             [
              0.1111111111111111,
              "#46039f"
             ],
             [
              0.2222222222222222,
              "#7201a8"
             ],
             [
              0.3333333333333333,
              "#9c179e"
             ],
             [
              0.4444444444444444,
              "#bd3786"
             ],
             [
              0.5555555555555556,
              "#d8576b"
             ],
             [
              0.6666666666666666,
              "#ed7953"
             ],
             [
              0.7777777777777778,
              "#fb9f3a"
             ],
             [
              0.8888888888888888,
              "#fdca26"
             ],
             [
              1,
              "#f0f921"
             ]
            ],
            "type": "contour"
           }
          ],
          "contourcarpet": [
           {
            "colorbar": {
             "outlinewidth": 0,
             "ticks": ""
            },
            "type": "contourcarpet"
           }
          ],
          "heatmap": [
           {
            "colorbar": {
             "outlinewidth": 0,
             "ticks": ""
            },
            "colorscale": [
             [
              0,
              "#0d0887"
             ],
             [
              0.1111111111111111,
              "#46039f"
             ],
             [
              0.2222222222222222,
              "#7201a8"
             ],
             [
              0.3333333333333333,
              "#9c179e"
             ],
             [
              0.4444444444444444,
              "#bd3786"
             ],
             [
              0.5555555555555556,
              "#d8576b"
             ],
             [
              0.6666666666666666,
              "#ed7953"
             ],
             [
              0.7777777777777778,
              "#fb9f3a"
             ],
             [
              0.8888888888888888,
              "#fdca26"
             ],
             [
              1,
              "#f0f921"
             ]
            ],
            "type": "heatmap"
           }
          ],
          "heatmapgl": [
           {
            "colorbar": {
             "outlinewidth": 0,
             "ticks": ""
            },
            "colorscale": [
             [
              0,
              "#0d0887"
             ],
             [
              0.1111111111111111,
              "#46039f"
             ],
             [
              0.2222222222222222,
              "#7201a8"
             ],
             [
              0.3333333333333333,
              "#9c179e"
             ],
             [
              0.4444444444444444,
              "#bd3786"
             ],
             [
              0.5555555555555556,
              "#d8576b"
             ],
             [
              0.6666666666666666,
              "#ed7953"
             ],
             [
              0.7777777777777778,
              "#fb9f3a"
             ],
             [
              0.8888888888888888,
              "#fdca26"
             ],
             [
              1,
              "#f0f921"
             ]
            ],
            "type": "heatmapgl"
           }
          ],
          "histogram": [
           {
            "marker": {
             "pattern": {
              "fillmode": "overlay",
              "size": 10,
              "solidity": 0.2
             }
            },
            "type": "histogram"
           }
          ],
          "histogram2d": [
           {
            "colorbar": {
             "outlinewidth": 0,
             "ticks": ""
            },
            "colorscale": [
             [
              0,
              "#0d0887"
             ],
             [
              0.1111111111111111,
              "#46039f"
             ],
             [
              0.2222222222222222,
              "#7201a8"
             ],
             [
              0.3333333333333333,
              "#9c179e"
             ],
             [
              0.4444444444444444,
              "#bd3786"
             ],
             [
              0.5555555555555556,
              "#d8576b"
             ],
             [
              0.6666666666666666,
              "#ed7953"
             ],
             [
              0.7777777777777778,
              "#fb9f3a"
             ],
             [
              0.8888888888888888,
              "#fdca26"
             ],
             [
              1,
              "#f0f921"
             ]
            ],
            "type": "histogram2d"
           }
          ],
          "histogram2dcontour": [
           {
            "colorbar": {
             "outlinewidth": 0,
             "ticks": ""
            },
            "colorscale": [
             [
              0,
              "#0d0887"
             ],
             [
              0.1111111111111111,
              "#46039f"
             ],
             [
              0.2222222222222222,
              "#7201a8"
             ],
             [
              0.3333333333333333,
              "#9c179e"
             ],
             [
              0.4444444444444444,
              "#bd3786"
             ],
             [
              0.5555555555555556,
              "#d8576b"
             ],
             [
              0.6666666666666666,
              "#ed7953"
             ],
             [
              0.7777777777777778,
              "#fb9f3a"
             ],
             [
              0.8888888888888888,
              "#fdca26"
             ],
             [
              1,
              "#f0f921"
             ]
            ],
            "type": "histogram2dcontour"
           }
          ],
          "mesh3d": [
           {
            "colorbar": {
             "outlinewidth": 0,
             "ticks": ""
            },
            "type": "mesh3d"
           }
          ],
          "parcoords": [
           {
            "line": {
             "colorbar": {
              "outlinewidth": 0,
              "ticks": ""
             }
            },
            "type": "parcoords"
           }
          ],
          "pie": [
           {
            "automargin": true,
            "type": "pie"
           }
          ],
          "scatter": [
           {
            "marker": {
             "colorbar": {
              "outlinewidth": 0,
              "ticks": ""
             }
            },
            "type": "scatter"
           }
          ],
          "scatter3d": [
           {
            "line": {
             "colorbar": {
              "outlinewidth": 0,
              "ticks": ""
             }
            },
            "marker": {
             "colorbar": {
              "outlinewidth": 0,
              "ticks": ""
             }
            },
            "type": "scatter3d"
           }
          ],
          "scattercarpet": [
           {
            "marker": {
             "colorbar": {
              "outlinewidth": 0,
              "ticks": ""
             }
            },
            "type": "scattercarpet"
           }
          ],
          "scattergeo": [
           {
            "marker": {
             "colorbar": {
              "outlinewidth": 0,
              "ticks": ""
             }
            },
            "type": "scattergeo"
           }
          ],
          "scattergl": [
           {
            "marker": {
             "colorbar": {
              "outlinewidth": 0,
              "ticks": ""
             }
            },
            "type": "scattergl"
           }
          ],
          "scattermapbox": [
           {
            "marker": {
             "colorbar": {
              "outlinewidth": 0,
              "ticks": ""
             }
            },
            "type": "scattermapbox"
           }
          ],
          "scatterpolar": [
           {
            "marker": {
             "colorbar": {
              "outlinewidth": 0,
              "ticks": ""
             }
            },
            "type": "scatterpolar"
           }
          ],
          "scatterpolargl": [
           {
            "marker": {
             "colorbar": {
              "outlinewidth": 0,
              "ticks": ""
             }
            },
            "type": "scatterpolargl"
           }
          ],
          "scatterternary": [
           {
            "marker": {
             "colorbar": {
              "outlinewidth": 0,
              "ticks": ""
             }
            },
            "type": "scatterternary"
           }
          ],
          "surface": [
           {
            "colorbar": {
             "outlinewidth": 0,
             "ticks": ""
            },
            "colorscale": [
             [
              0,
              "#0d0887"
             ],
             [
              0.1111111111111111,
              "#46039f"
             ],
             [
              0.2222222222222222,
              "#7201a8"
             ],
             [
              0.3333333333333333,
              "#9c179e"
             ],
             [
              0.4444444444444444,
              "#bd3786"
             ],
             [
              0.5555555555555556,
              "#d8576b"
             ],
             [
              0.6666666666666666,
              "#ed7953"
             ],
             [
              0.7777777777777778,
              "#fb9f3a"
             ],
             [
              0.8888888888888888,
              "#fdca26"
             ],
             [
              1,
              "#f0f921"
             ]
            ],
            "type": "surface"
           }
          ],
          "table": [
           {
            "cells": {
             "fill": {
              "color": "#EBF0F8"
             },
             "line": {
              "color": "white"
             }
            },
            "header": {
             "fill": {
              "color": "#C8D4E3"
             },
             "line": {
              "color": "white"
             }
            },
            "type": "table"
           }
          ]
         },
         "layout": {
          "annotationdefaults": {
           "arrowcolor": "#2a3f5f",
           "arrowhead": 0,
           "arrowwidth": 1
          },
          "autotypenumbers": "strict",
          "coloraxis": {
           "colorbar": {
            "outlinewidth": 0,
            "ticks": ""
           }
          },
          "colorscale": {
           "diverging": [
            [
             0,
             "#8e0152"
            ],
            [
             0.1,
             "#c51b7d"
            ],
            [
             0.2,
             "#de77ae"
            ],
            [
             0.3,
             "#f1b6da"
            ],
            [
             0.4,
             "#fde0ef"
            ],
            [
             0.5,
             "#f7f7f7"
            ],
            [
             0.6,
             "#e6f5d0"
            ],
            [
             0.7,
             "#b8e186"
            ],
            [
             0.8,
             "#7fbc41"
            ],
            [
             0.9,
             "#4d9221"
            ],
            [
             1,
             "#276419"
            ]
           ],
           "sequential": [
            [
             0,
             "#0d0887"
            ],
            [
             0.1111111111111111,
             "#46039f"
            ],
            [
             0.2222222222222222,
             "#7201a8"
            ],
            [
             0.3333333333333333,
             "#9c179e"
            ],
            [
             0.4444444444444444,
             "#bd3786"
            ],
            [
             0.5555555555555556,
             "#d8576b"
            ],
            [
             0.6666666666666666,
             "#ed7953"
            ],
            [
             0.7777777777777778,
             "#fb9f3a"
            ],
            [
             0.8888888888888888,
             "#fdca26"
            ],
            [
             1,
             "#f0f921"
            ]
           ],
           "sequentialminus": [
            [
             0,
             "#0d0887"
            ],
            [
             0.1111111111111111,
             "#46039f"
            ],
            [
             0.2222222222222222,
             "#7201a8"
            ],
            [
             0.3333333333333333,
             "#9c179e"
            ],
            [
             0.4444444444444444,
             "#bd3786"
            ],
            [
             0.5555555555555556,
             "#d8576b"
            ],
            [
             0.6666666666666666,
             "#ed7953"
            ],
            [
             0.7777777777777778,
             "#fb9f3a"
            ],
            [
             0.8888888888888888,
             "#fdca26"
            ],
            [
             1,
             "#f0f921"
            ]
           ]
          },
          "colorway": [
           "#636efa",
           "#EF553B",
           "#00cc96",
           "#ab63fa",
           "#FFA15A",
           "#19d3f3",
           "#FF6692",
           "#B6E880",
           "#FF97FF",
           "#FECB52"
          ],
          "font": {
           "color": "#2a3f5f"
          },
          "geo": {
           "bgcolor": "white",
           "lakecolor": "white",
           "landcolor": "white",
           "showlakes": true,
           "showland": true,
           "subunitcolor": "#C8D4E3"
          },
          "hoverlabel": {
           "align": "left"
          },
          "hovermode": "closest",
          "mapbox": {
           "style": "light"
          },
          "paper_bgcolor": "white",
          "plot_bgcolor": "white",
          "polar": {
           "angularaxis": {
            "gridcolor": "#EBF0F8",
            "linecolor": "#EBF0F8",
            "ticks": ""
           },
           "bgcolor": "white",
           "radialaxis": {
            "gridcolor": "#EBF0F8",
            "linecolor": "#EBF0F8",
            "ticks": ""
           }
          },
          "scene": {
           "xaxis": {
            "backgroundcolor": "white",
            "gridcolor": "#DFE8F3",
            "gridwidth": 2,
            "linecolor": "#EBF0F8",
            "showbackground": true,
            "ticks": "",
            "zerolinecolor": "#EBF0F8"
           },
           "yaxis": {
            "backgroundcolor": "white",
            "gridcolor": "#DFE8F3",
            "gridwidth": 2,
            "linecolor": "#EBF0F8",
            "showbackground": true,
            "ticks": "",
            "zerolinecolor": "#EBF0F8"
           },
           "zaxis": {
            "backgroundcolor": "white",
            "gridcolor": "#DFE8F3",
            "gridwidth": 2,
            "linecolor": "#EBF0F8",
            "showbackground": true,
            "ticks": "",
            "zerolinecolor": "#EBF0F8"
           }
          },
          "shapedefaults": {
           "line": {
            "color": "#2a3f5f"
           }
          },
          "ternary": {
           "aaxis": {
            "gridcolor": "#DFE8F3",
            "linecolor": "#A2B1C6",
            "ticks": ""
           },
           "baxis": {
            "gridcolor": "#DFE8F3",
            "linecolor": "#A2B1C6",
            "ticks": ""
           },
           "bgcolor": "white",
           "caxis": {
            "gridcolor": "#DFE8F3",
            "linecolor": "#A2B1C6",
            "ticks": ""
           }
          },
          "title": {
           "x": 0.05
          },
          "xaxis": {
           "automargin": true,
           "gridcolor": "#EBF0F8",
           "linecolor": "#EBF0F8",
           "ticks": "",
           "title": {
            "standoff": 15
           },
           "zerolinecolor": "#EBF0F8",
           "zerolinewidth": 2
          },
          "yaxis": {
           "automargin": true,
           "gridcolor": "#EBF0F8",
           "linecolor": "#EBF0F8",
           "ticks": "",
           "title": {
            "standoff": 15
           },
           "zerolinecolor": "#EBF0F8",
           "zerolinewidth": 2
          }
         }
        },
        "title": {
         "font": {
          "size": 25
         },
         "text": "Fairness Radar",
         "x": 0.5,
         "y": 0.99
        }
       }
      },
      "image/png": "[encoded data removed]",
      "text/html": [
       "<div>                            <div id=\"5a6b3cc5-ded3-4b76-bd3d-fc51ae1dcaff\" class=\"plotly-graph-div\" style=\"height:525px; width:100%;\"></div>            <script type=\"text/javascript\">                require([\"plotly\"], function(Plotly) {                    window.PLOTLYENV=window.PLOTLYENV || {};                                    if (document.getElementById(\"5a6b3cc5-ded3-4b76-bd3d-fc51ae1dcaff\")) {                    Plotly.newPlot(                        \"5a6b3cc5-ded3-4b76-bd3d-fc51ae1dcaff\",                        [{\"hovertemplate\":\"<b>%{text}</b><br>Metric: %{theta}<br>Parity loss: %{r:.3f}<extra></extra>\",\"line\":{\"color\":\"#8bdcbe\"},\"marker\":{\"color\":[\"#8bdcbe\",\"#8bdcbe\",\"#8bdcbe\",\"#8bdcbe\",\"#8bdcbe\",\"#8bdcbe\"]},\"name\":\"adv_0\",\"r\":[0.5621189181535413,0.054509405668371765,0.7476680194383625,0.23964383790178323,0.635077367659448,0.5621189181535413],\"text\":[\"adv_0\",\"adv_0\",\"adv_0\",\"adv_0\",\"adv_0\",\"adv_0\"],\"theta\":[\"TPR\",\"PPV\",\"FPR\",\"ACC\",\"STP\",\"TPR\"],\"type\":\"scatterpolar\"},{\"hovertemplate\":\"<b>%{text}</b><br>Metric: %{theta}<br>Parity loss: %{r:.3f}<extra></extra>\",\"line\":{\"color\":\"#4378bf\"},\"marker\":{\"color\":[\"#4378bf\",\"#4378bf\",\"#4378bf\",\"#4378bf\",\"#4378bf\",\"#4378bf\"]},\"name\":\"adv_1\",\"r\":[0.0,0.12675170563914376,0.0,0.12675170563914376,0.0,0.0],\"text\":[\"adv_1\",\"adv_1\",\"adv_1\",\"adv_1\",\"adv_1\",\"adv_1\"],\"theta\":[\"TPR\",\"PPV\",\"FPR\",\"ACC\",\"STP\",\"TPR\"],\"type\":\"scatterpolar\"}],                        {\"font\":{\"color\":\"#371ea3\"},\"margin\":{\"b\":71,\"r\":30,\"t\":78},\"polar\":{\"radialaxis\":{\"range\":[0,0.8476680194383625]}},\"template\":{\"data\":{\"bar\":[{\"error_x\":{\"color\":\"#2a3f5f\"},\"error_y\":{\"color\":\"#2a3f5f\"},\"marker\":{\"line\":{\"color\":\"white\",\"width\":0.5},\"pattern\":{\"fillmode\":\"overlay\",\"size\":10,\"solidity\":0.2}},\"type\":\"bar\"}],\"barpolar\":[{\"marker\":{\"line\":{\"color\":\"white\",\"width\":0.5},\"pattern\":{\"fillmode\":\"overlay\",\"size\":10,\"solidity\":0.2}},\"type\":\"barpolar\"}],\"carpet\":[{\"aaxis\":{\"endlinecolor\":\"#2a3f5f\",\"gridcolor\":\"#C8D4E3\",\"linecolor\":\"#C8D4E3\",\"minorgridcolor\":\"#C8D4E3\",\"startlinecolor\":\"#2a3f5f\"},\"baxis\":{\"endlinecolor\":\"#2a3f5f\",\"gridcolor\":\"#C8D4E3\",\"linecolor\":\"#C8D4E3\",\"minorgridcolor\":\"#C8D4E3\",\"startlinecolor\":\"#2a3f5f\"},\"type\":\"carpet\"}],\"choropleth\":[{\"colorbar\":{\"outlinewidth\":0,\"ticks\":\"\"},\"type\":\"choropleth\"}],\"contour\":[{\"colorbar\":{\"outlinewidth\":0,\"ticks\":\"\"},\"colorscale\":[[0.0,\"#0d0887\"],[0.1111111111111111,\"#46039f\"],[0.2222222222222222,\"#7201a8\"],[0.3333333333333333,\"#9c179e\"],[0.4444444444444444,\"#bd3786\"],[0.5555555555555556,\"#d8576b\"],[0.6666666666666666,\"#ed7953\"],[0.7777777777777778,\"#fb9f3a\"],[0.8888888888888888,\"#fdca26\"],[1.0,\"#f0f921\"]],\"type\":\"contour\"}],\"contourcarpet\":[{\"colorbar\":{\"outlinewidth\":0,\"ticks\":\"\"},\"type\":\"contourcarpet\"}],\"heatmap\":[{\"colorbar\":{\"outlinewidth\":0,\"ticks\":\"\"},\"colorscale\":[[0.0,\"#0d0887\"],[0.1111111111111111,\"#46039f\"],[0.2222222222222222,\"#7201a8\"],[0.3333333333333333,\"#9c179e\"],[0.4444444444444444,\"#bd3786\"],[0.5555555555555556,\"#d8576b\"],[0.6666666666666666,\"#ed7953\"],[0.7777777777777778,\"#fb9f3a\"],[0.8888888888888888,\"#fdca26\"],[1.0,\"#f0f921\"]],\"type\":\"heatmap\"}],\"heatmapgl\":[{\"colorbar\":{\"outlinewidth\":0,\"ticks\":\"\"},\"colorscale\":[[0.0,\"#0d0887\"],[0.1111111111111111,\"#46039f\"],[0.2222222222222222,\"#7201a8\"],[0.3333333333333333,\"#9c179e\"],[0.4444444444444444,\"#bd3786\"],[0.5555555555555556,\"#d8576b\"],[0.6666666666666666,\"#ed7953\"],[0.7777777777777778,\"#fb9f3a\"],[0.8888888888888888,\"#fdca26\"],[1.0,\"#f0f921\"]],\"type\":\"heatmapgl\"}],\"histogram\":[{\"marker\":{\"pattern\":{\"fillmode\":\"overlay\",\"size\":10,\"solidity\":0.2}},\"type\":\"histogram\"}],\"histogram2d\":[{\"colorbar\":{\"outlinewidth\":0,\"ticks\":\"\"},\"colorscale\":[[0.0,\"#0d0887\"],[0.1111111111111111,\"#46039f\"],[0.2222222222222222,\"#7201a8\"],[0.3333333333333333,\"#9c179e\"],[0.4444444444444444,\"#bd3786\"],[0.5555555555555556,\"#d8576b\"],[0.6666666666666666,\"#ed7953\"],[0.7777777777777778,\"#fb9f3a\"],[0.8888888888888888,\"#fdca26\"],[1.0,\"#f0f921\"]],\"type\":\"histogram2d\"}],\"histogram2dcontour\":[{\"colorbar\":{\"outlinewidth\":0,\"ticks\":\"\"},\"colorscale\":[[0.0,\"#0d0887\"],[0.1111111111111111,\"#46039f\"],[0.2222222222222222,\"#7201a8\"],[0.3333333333333333,\"#9c179e\"],[0.4444444444444444,\"#bd3786\"],[0.5555555555555556,\"#d8576b\"],[0.6666666666666666,\"#ed7953\"],[0.7777777777777778,\"#fb9f3a\"],[0.8888888888888888,\"#fdca26\"],[1.0,\"#f0f921\"]],\"type\":\"histogram2dcontour\"}],\"mesh3d\":[{\"colorbar\":{\"outlinewidth\":0,\"ticks\":\"\"},\"type\":\"mesh3d\"}],\"parcoords\":[{\"line\":{\"colorbar\":{\"outlinewidth\":0,\"ticks\":\"\"}},\"type\":\"parcoords\"}],\"pie\":[{\"automargin\":true,\"type\":\"pie\"}],\"scatter\":[{\"marker\":{\"colorbar\":{\"outlinewidth\":0,\"ticks\":\"\"}},\"type\":\"scatter\"}],\"scatter3d\":[{\"line\":{\"colorbar\":{\"outlinewidth\":0,\"ticks\":\"\"}},\"marker\":{\"colorbar\":{\"outlinewidth\":0,\"ticks\":\"\"}},\"type\":\"scatter3d\"}],\"scattercarpet\":[{\"marker\":{\"colorbar\":{\"outlinewidth\":0,\"ticks\":\"\"}},\"type\":\"scattercarpet\"}],\"scattergeo\":[{\"marker\":{\"colorbar\":{\"outlinewidth\":0,\"ticks\":\"\"}},\"type\":\"scattergeo\"}],\"scattergl\":[{\"marker\":{\"colorbar\":{\"outlinewidth\":0,\"ticks\":\"\"}},\"type\":\"scattergl\"}],\"scattermapbox\":[{\"marker\":{\"colorbar\":{\"outlinewidth\":0,\"ticks\":\"\"}},\"type\":\"scattermapbox\"}],\"scatterpolar\":[{\"marker\":{\"colorbar\":{\"outlinewidth\":0,\"ticks\":\"\"}},\"type\":\"scatterpolar\"}],\"scatterpolargl\":[{\"marker\":{\"colorbar\":{\"outlinewidth\":0,\"ticks\":\"\"}},\"type\":\"scatterpolargl\"}],\"scatterternary\":[{\"marker\":{\"colorbar\":{\"outlinewidth\":0,\"ticks\":\"\"}},\"type\":\"scatterternary\"}],\"surface\":[{\"colorbar\":{\"outlinewidth\":0,\"ticks\":\"\"},\"colorscale\":[[0.0,\"#0d0887\"],[0.1111111111111111,\"#46039f\"],[0.2222222222222222,\"#7201a8\"],[0.3333333333333333,\"#9c179e\"],[0.4444444444444444,\"#bd3786\"],[0.5555555555555556,\"#d8576b\"],[0.6666666666666666,\"#ed7953\"],[0.7777777777777778,\"#fb9f3a\"],[0.8888888888888888,\"#fdca26\"],[1.0,\"#f0f921\"]],\"type\":\"surface\"}],\"table\":[{\"cells\":{\"fill\":{\"color\":\"#EBF0F8\"},\"line\":{\"color\":\"white\"}},\"header\":{\"fill\":{\"color\":\"#C8D4E3\"},\"line\":{\"color\":\"white\"}},\"type\":\"table\"}]},\"layout\":{\"annotationdefaults\":{\"arrowcolor\":\"#2a3f5f\",\"arrowhead\":0,\"arrowwidth\":1},\"autotypenumbers\":\"strict\",\"coloraxis\":{\"colorbar\":{\"outlinewidth\":0,\"ticks\":\"\"}},\"colorscale\":{\"diverging\":[[0,\"#8e0152\"],[0.1,\"#c51b7d\"],[0.2,\"#de77ae\"],[0.3,\"#f1b6da\"],[0.4,\"#fde0ef\"],[0.5,\"#f7f7f7\"],[0.6,\"#e6f5d0\"],[0.7,\"#b8e186\"],[0.8,\"#7fbc41\"],[0.9,\"#4d9221\"],[1,\"#276419\"]],\"sequential\":[[0.0,\"#0d0887\"],[0.1111111111111111,\"#46039f\"],[0.2222222222222222,\"#7201a8\"],[0.3333333333333333,\"#9c179e\"],[0.4444444444444444,\"#bd3786\"],[0.5555555555555556,\"#d8576b\"],[0.6666666666666666,\"#ed7953\"],[0.7777777777777778,\"#fb9f3a\"],[0.8888888888888888,\"#fdca26\"],[1.0,\"#f0f921\"]],\"sequentialminus\":[[0.0,\"#0d0887\"],[0.1111111111111111,\"#46039f\"],[0.2222222222222222,\"#7201a8\"],[0.3333333333333333,\"#9c179e\"],[0.4444444444444444,\"#bd3786\"],[0.5555555555555556,\"#d8576b\"],[0.6666666666666666,\"#ed7953\"],[0.7777777777777778,\"#fb9f3a\"],[0.8888888888888888,\"#fdca26\"],[1.0,\"#f0f921\"]]},\"colorway\":[\"#636efa\",\"#EF553B\",\"#00cc96\",\"#ab63fa\",\"#FFA15A\",\"#19d3f3\",\"#FF6692\",\"#B6E880\",\"#FF97FF\",\"#FECB52\"],\"font\":{\"color\":\"#2a3f5f\"},\"geo\":{\"bgcolor\":\"white\",\"lakecolor\":\"white\",\"landcolor\":\"white\",\"showlakes\":true,\"showland\":true,\"subunitcolor\":\"#C8D4E3\"},\"hoverlabel\":{\"align\":\"left\"},\"hovermode\":\"closest\",\"mapbox\":{\"style\":\"light\"},\"paper_bgcolor\":\"white\",\"plot_bgcolor\":\"white\",\"polar\":{\"angularaxis\":{\"gridcolor\":\"#EBF0F8\",\"linecolor\":\"#EBF0F8\",\"ticks\":\"\"},\"bgcolor\":\"white\",\"radialaxis\":{\"gridcolor\":\"#EBF0F8\",\"linecolor\":\"#EBF0F8\",\"ticks\":\"\"}},\"scene\":{\"xaxis\":{\"backgroundcolor\":\"white\",\"gridcolor\":\"#DFE8F3\",\"gridwidth\":2,\"linecolor\":\"#EBF0F8\",\"showbackground\":true,\"ticks\":\"\",\"zerolinecolor\":\"#EBF0F8\"},\"yaxis\":{\"backgroundcolor\":\"white\",\"gridcolor\":\"#DFE8F3\",\"gridwidth\":2,\"linecolor\":\"#EBF0F8\",\"showbackground\":true,\"ticks\":\"\",\"zerolinecolor\":\"#EBF0F8\"},\"zaxis\":{\"backgroundcolor\":\"white\",\"gridcolor\":\"#DFE8F3\",\"gridwidth\":2,\"linecolor\":\"#EBF0F8\",\"showbackground\":true,\"ticks\":\"\",\"zerolinecolor\":\"#EBF0F8\"}},\"shapedefaults\":{\"line\":{\"color\":\"#2a3f5f\"}},\"ternary\":{\"aaxis\":{\"gridcolor\":\"#DFE8F3\",\"linecolor\":\"#A2B1C6\",\"ticks\":\"\"},\"baxis\":{\"gridcolor\":\"#DFE8F3\",\"linecolor\":\"#A2B1C6\",\"ticks\":\"\"},\"bgcolor\":\"white\",\"caxis\":{\"gridcolor\":\"#DFE8F3\",\"linecolor\":\"#A2B1C6\",\"ticks\":\"\"}},\"title\":{\"x\":0.05},\"xaxis\":{\"automargin\":true,\"gridcolor\":\"#EBF0F8\",\"linecolor\":\"#EBF0F8\",\"ticks\":\"\",\"title\":{\"standoff\":15},\"zerolinecolor\":\"#EBF0F8\",\"zerolinewidth\":2},\"yaxis\":{\"automargin\":true,\"gridcolor\":\"#EBF0F8\",\"linecolor\":\"#EBF0F8\",\"ticks\":\"\",\"title\":{\"standoff\":15},\"zerolinecolor\":\"#EBF0F8\",\"zerolinewidth\":2}}},\"title\":{\"font\":{\"size\":25},\"text\":\"Fairness Radar\",\"x\":0.5,\"y\":0.99}},                        {\"displaylogo\": false, \"staticPlot\": false, \"toImageButtonOptions\": {\"height\": null, \"width\": null}, \"modeBarButtonsToRemove\": [\"sendDataToCloud\", \"lasso2d\", \"autoScale2d\", \"select2d\", \"zoom2d\", \"pan2d\", \"zoomIn2d\", \"zoomOut2d\", \"resetScale2d\", \"toggleSpikelines\", \"hoverCompareCartesian\", \"hoverClosestCartesian\"], \"responsive\": true}                    ).then(function(){\n",
       "                            \n",
       "var gd = document.getElementById('5a6b3cc5-ded3-4b76-bd3d-fc51ae1dcaff');\n",
       "var x = new MutationObserver(function (mutations, observer) {{\n",
       "        var display = window.getComputedStyle(gd).display;\n",
       "        if (!display || display === 'none') {{\n",
       "            console.log([gd, 'removed!']);\n",
       "            Plotly.purge(gd);\n",
       "            observer.disconnect();\n",
       "        }}\n",
       "}});\n",
       "\n",
       "// Listen for the removal of the full notebook cells\n",
       "var notebookContainer = gd.closest('#notebook-container');\n",
       "if (notebookContainer) {{\n",
       "    x.observe(notebookContainer, {childList: true});\n",
       "}}\n",
       "\n",
       "// Listen for the clearing of the current output cell\n",
       "var outputEl = gd.closest('.output');\n",
       "if (outputEl) {{\n",
       "    x.observe(outputEl, {childList: true});\n",
       "}}\n",
       "\n",
       "                        })                };                });            </script>        </div>"
      ]
     },
     "metadata": {},
     "output_type": "display_data"
    }
   ],
   "source": [
    "fobj[0].plot(objects=[fobj[1]], type = \"radar\")"
   ]
  },
  {
   "cell_type": "markdown",
   "id": "c103bc4d",
   "metadata": {},
   "source": [
    "### Calibrate equalized ODTS"
   ]
  },
  {
   "cell_type": "markdown",
   "id": "1b16165f",
   "metadata": {},
   "source": [
    "### Comparison"
   ]
  },
  {
   "cell_type": "code",
   "execution_count": null,
   "id": "7f7c7739",
   "metadata": {},
   "outputs": [],
   "source": [
    "fairness_decisiontree.plot(objects=[fairness_sensitive, fairness_adversarial, fairness_odts])"
   ]
  },
  {
   "cell_type": "code",
   "execution_count": null,
   "id": "491fbc4d",
   "metadata": {},
   "outputs": [],
   "source": [
    "fairness_decisiontree.plot(objects=[fairness_sensitive, fairness_adversarial, fairness_odts], type = \"heatmap\")"
   ]
  },
  {
   "cell_type": "code",
   "execution_count": null,
   "id": "ff6f9295",
   "metadata": {},
   "outputs": [],
   "source": [
    "fairness_decisiontree.plot(objects=[fairness_sensitive, fairness_adversarial, fairness_odts], type = \"stacked\")"
   ]
  },
  {
   "cell_type": "code",
   "execution_count": null,
   "id": "97c2bf02",
   "metadata": {},
   "outputs": [],
   "source": [
    "fairness_decisiontree.plot(objects=[fairness_sensitive, fairness_adversarial, fairness_odts], type = \"performance_and_fairness\")"
   ]
  },
  {
   "cell_type": "code",
   "execution_count": null,
   "id": "c2c8adb0",
   "metadata": {},
   "outputs": [],
   "source": [
    "fairness_decisiontree.plot(objects=[fairness_sensitive, fairness_adversarial, fairness_odts], type = \"ceteris_paribus_cutoff\", subgroup=\"female_young\")"
   ]
  }
 ],
 "metadata": {
  "kernelspec": {
   "display_name": "Python 3",
   "language": "python",
   "name": "python3"
  },
  "language_info": {
   "codemirror_mode": {
    "name": "ipython",
    "version": 3
   },
   "file_extension": ".py",
   "mimetype": "text/x-python",
   "name": "python",
   "nbconvert_exporter": "python",
   "pygments_lexer": "ipython3",
   "version": "3.8.8"
  },
  "toc": {
   "base_numbering": 1,
   "nav_menu": {},
   "number_sections": true,
   "sideBar": true,
   "skip_h1_title": true,
   "title_cell": "Table of Contents",
   "title_sidebar": "Contents",
   "toc_cell": true,
   "toc_position": {
    "height": "calc(100% - 180px)",
    "left": "10px",
    "top": "150px",
    "width": "165px"
   },
   "toc_section_display": true,
   "toc_window_display": true
  }
 },
 "nbformat": 4,
 "nbformat_minor": 5
}
