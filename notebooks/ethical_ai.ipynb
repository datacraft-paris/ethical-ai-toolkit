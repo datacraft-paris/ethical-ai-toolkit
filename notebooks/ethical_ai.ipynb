{
 "cells": [
  {
   "cell_type": "markdown",
   "id": "b92c3b5b",
   "metadata": {},
   "source": [
    "<h1>Ethical AI</h1>"
   ]
  },
  {
   "cell_type": "code",
   "execution_count": 48,
   "id": "4a32cce6",
   "metadata": {
    "ExecuteTime": {
     "end_time": "2021-10-14T14:22:48.800561Z",
     "start_time": "2021-10-14T14:22:48.788476Z"
    }
   },
   "outputs": [],
   "source": [
    "# ! pip install -U scikit-learn dalex pandas\n",
    "# ! pip install dalex\n",
    "# ! pip install aif360 tensorflow"
   ]
  },
  {
   "cell_type": "markdown",
   "id": "266194ff",
   "metadata": {
    "toc": true
   },
   "source": [
    "<h1>Table of Contents<span class=\"tocSkip\"></span></h1>\n",
    "<div class=\"toc\"><ul class=\"toc-item\"><li><span><a href=\"#Question\" data-toc-modified-id=\"Question-1\"><span class=\"toc-item-num\">1&nbsp;&nbsp;</span>Question</a></span></li><li><span><a href=\"#Dataset-&amp;\" data-toc-modified-id=\"Dataset-&amp;-2\"><span class=\"toc-item-num\">2&nbsp;&nbsp;</span>Dataset &amp;</a></span></li><li><span><a href=\"#EDA\" data-toc-modified-id=\"EDA-3\"><span class=\"toc-item-num\">3&nbsp;&nbsp;</span>EDA</a></span></li><li><span><a href=\"#Model\" data-toc-modified-id=\"Model-4\"><span class=\"toc-item-num\">4&nbsp;&nbsp;</span>Model</a></span></li><li><span><a href=\"#Preprocessing\" data-toc-modified-id=\"Preprocessing-5\"><span class=\"toc-item-num\">5&nbsp;&nbsp;</span>Preprocessing</a></span></li><li><span><a href=\"#Inprocessing\" data-toc-modified-id=\"Inprocessing-6\"><span class=\"toc-item-num\">6&nbsp;&nbsp;</span>Inprocessing</a></span></li><li><span><a href=\"#Postprocessing\" data-toc-modified-id=\"Postprocessing-7\"><span class=\"toc-item-num\">7&nbsp;&nbsp;</span>Postprocessing</a></span></li></ul></div>"
   ]
  },
  {
   "cell_type": "code",
   "execution_count": 52,
   "id": "979a3700",
   "metadata": {
    "ExecuteTime": {
     "end_time": "2021-10-14T14:29:49.447705Z",
     "start_time": "2021-10-14T14:29:49.317253Z"
    }
   },
   "outputs": [
    {
     "data": {
      "text/plain": [
       "{'dalex': '1.4.0', 'numpy': '1.19.5', 'pandas': '1.2.4', 'sklearn': '1.0'}"
      ]
     },
     "execution_count": 52,
     "metadata": {},
     "output_type": "execute_result"
    }
   ],
   "source": [
    "from sklearn.compose import make_column_transformer, make_column_selector\n",
    "from sklearn.linear_model import LogisticRegression\n",
    "from sklearn.model_selection import train_test_split\n",
    "from sklearn.pipeline import Pipeline\n",
    "from sklearn.preprocessing import StandardScaler, OneHotEncoder\n",
    "\n",
    "import dalex as dx\n",
    "import numpy as np\n",
    "import pandas as pd\n",
    "import sklearn\n",
    "\n",
    "from aif360.datasets import BinaryLabelDataset\n",
    "from aif360.metrics import ClassificationMetric\n",
    "\n",
    "{\"dalex\": dx.__version__, \"numpy\": np.__version__, \"pandas\": pd.__version__, \"sklearn\": sklearn.__version__}"
   ]
  },
  {
   "cell_type": "code",
   "execution_count": 53,
   "id": "de1a5735",
   "metadata": {
    "ExecuteTime": {
     "end_time": "2021-10-14T14:25:38.811142Z",
     "start_time": "2021-10-14T14:25:38.797491Z"
    }
   },
   "outputs": [],
   "source": [
    "sklearn.set_config(display=\"diagram\")"
   ]
  },
  {
   "cell_type": "markdown",
   "id": "cbfac198",
   "metadata": {},
   "source": [
    "## Question\n",
    "\n",
    "Goal of the project:\n",
    "\n",
    "Potential biases lie in the genre, age, revenue\n",
    "\n"
   ]
  },
  {
   "cell_type": "markdown",
   "id": "77327fea",
   "metadata": {},
   "source": [
    "## Dataset & \n",
    "\n",
    "--> Identi\n",
    "\n",
    "--> Risk assessment"
   ]
  },
  {
   "cell_type": "code",
   "execution_count": 54,
   "id": "ba2fdabf",
   "metadata": {
    "ExecuteTime": {
     "end_time": "2021-10-14T14:30:49.091909Z",
     "start_time": "2021-10-14T14:30:49.070240Z"
    }
   },
   "outputs": [],
   "source": [
    "df, target = dx.datasets.load_german(), \"risk\""
   ]
  },
  {
   "cell_type": "markdown",
   "id": "3c061ecb",
   "metadata": {},
   "source": [
    "## EDA\n",
    "--> Potential bias"
   ]
  },
  {
   "cell_type": "code",
   "execution_count": 55,
   "id": "a08ea91d",
   "metadata": {
    "ExecuteTime": {
     "end_time": "2021-10-14T14:25:58.366334Z",
     "start_time": "2021-10-14T14:25:58.355336Z"
    }
   },
   "outputs": [],
   "source": [
    "def facets(df: pd.DataFrame):\n",
    "    \"\"\" Displays Facets viz\n",
    "    Source: https://colab.research.google.com/github/PAIR-code/facets/blob/master/colab_facets.ipynb#scrollTo=XtOzRy8Z3M36\n",
    "    \n",
    "    Parameters\n",
    "    ----------\n",
    "    df: pd.DataFrame\n",
    "        Data to plot\n",
    "    \"\"\"\n",
    "    from IPython.core.display import display, HTML\n",
    "    jsonstr = df.to_json(orient='records')\n",
    "    HTML_TEMPLATE = \"\"\"\n",
    "            <script src=\"https://cdnjs.cloudflare.com/ajax/libs/webcomponentsjs/1.3.3/webcomponents-lite.js\"></script>\n",
    "            <link rel=\"import\" href=\"https://raw.githubusercontent.com/PAIR-code/facets/1.0.0/facets-dist/facets-jupyter.html\">\n",
    "            <facets-dive id=\"elem\" height=\"600\"></facets-dive>\n",
    "            <script>\n",
    "              var data = {jsonstr};\n",
    "              document.querySelector(\"#elem\").data = data;\n",
    "            </script>\"\"\"\n",
    "    html = HTML_TEMPLATE.format(jsonstr=jsonstr)\n",
    "    display(HTML(html))"
   ]
  },
  {
   "cell_type": "code",
   "execution_count": 56,
   "id": "07a40124",
   "metadata": {
    "ExecuteTime": {
     "end_time": "2021-10-14T14:26:00.102046Z",
     "start_time": "2021-10-14T14:26:00.082049Z"
    }
   },
   "outputs": [
    {
     "data": {
      "text/html": [
       "\n",
       "            <script src=\"https://cdnjs.cloudflare.com/ajax/libs/webcomponentsjs/1.3.3/webcomponents-lite.js\"></script>\n",
       "            <link rel=\"import\" href=\"https://raw.githubusercontent.com/PAIR-code/facets/1.0.0/facets-dist/facets-jupyter.html\">\n",
       "            <facets-dive id=\"elem\" height=\"600\"></facets-dive>\n",
       "            <script>\n",
       "              var data = [{\"risk\":1,\"sex\":\"male\",\"job\":2,\"housing\":\"own\",\"saving_accounts\":\"not_known\",\"checking_account\":\"little\",\"credit_amount\":1169,\"duration\":6,\"purpose\":\"radio\\/TV\",\"age\":67},{\"risk\":0,\"sex\":\"female\",\"job\":2,\"housing\":\"own\",\"saving_accounts\":\"little\",\"checking_account\":\"moderate\",\"credit_amount\":5951,\"duration\":48,\"purpose\":\"radio\\/TV\",\"age\":22},{\"risk\":1,\"sex\":\"male\",\"job\":1,\"housing\":\"own\",\"saving_accounts\":\"little\",\"checking_account\":\"not_known\",\"credit_amount\":2096,\"duration\":12,\"purpose\":\"education\",\"age\":49},{\"risk\":1,\"sex\":\"male\",\"job\":2,\"housing\":\"free\",\"saving_accounts\":\"little\",\"checking_account\":\"little\",\"credit_amount\":7882,\"duration\":42,\"purpose\":\"furniture\\/equipment\",\"age\":45},{\"risk\":0,\"sex\":\"male\",\"job\":2,\"housing\":\"free\",\"saving_accounts\":\"little\",\"checking_account\":\"little\",\"credit_amount\":4870,\"duration\":24,\"purpose\":\"car\",\"age\":53},{\"risk\":1,\"sex\":\"male\",\"job\":1,\"housing\":\"free\",\"saving_accounts\":\"not_known\",\"checking_account\":\"not_known\",\"credit_amount\":9055,\"duration\":36,\"purpose\":\"education\",\"age\":35},{\"risk\":1,\"sex\":\"male\",\"job\":2,\"housing\":\"own\",\"saving_accounts\":\"quite rich\",\"checking_account\":\"not_known\",\"credit_amount\":2835,\"duration\":24,\"purpose\":\"furniture\\/equipment\",\"age\":53},{\"risk\":1,\"sex\":\"male\",\"job\":3,\"housing\":\"rent\",\"saving_accounts\":\"little\",\"checking_account\":\"moderate\",\"credit_amount\":6948,\"duration\":36,\"purpose\":\"car\",\"age\":35},{\"risk\":1,\"sex\":\"male\",\"job\":1,\"housing\":\"own\",\"saving_accounts\":\"rich\",\"checking_account\":\"not_known\",\"credit_amount\":3059,\"duration\":12,\"purpose\":\"radio\\/TV\",\"age\":61},{\"risk\":0,\"sex\":\"male\",\"job\":3,\"housing\":\"own\",\"saving_accounts\":\"little\",\"checking_account\":\"moderate\",\"credit_amount\":5234,\"duration\":30,\"purpose\":\"car\",\"age\":28},{\"risk\":0,\"sex\":\"female\",\"job\":2,\"housing\":\"rent\",\"saving_accounts\":\"little\",\"checking_account\":\"moderate\",\"credit_amount\":1295,\"duration\":12,\"purpose\":\"car\",\"age\":25},{\"risk\":0,\"sex\":\"female\",\"job\":2,\"housing\":\"rent\",\"saving_accounts\":\"little\",\"checking_account\":\"little\",\"credit_amount\":4308,\"duration\":48,\"purpose\":\"business\",\"age\":24},{\"risk\":1,\"sex\":\"female\",\"job\":2,\"housing\":\"own\",\"saving_accounts\":\"little\",\"checking_account\":\"moderate\",\"credit_amount\":1567,\"duration\":12,\"purpose\":\"radio\\/TV\",\"age\":22},{\"risk\":0,\"sex\":\"male\",\"job\":1,\"housing\":\"own\",\"saving_accounts\":\"little\",\"checking_account\":\"little\",\"credit_amount\":1199,\"duration\":24,\"purpose\":\"car\",\"age\":60},{\"risk\":1,\"sex\":\"female\",\"job\":2,\"housing\":\"rent\",\"saving_accounts\":\"little\",\"checking_account\":\"little\",\"credit_amount\":1403,\"duration\":15,\"purpose\":\"car\",\"age\":28},{\"risk\":0,\"sex\":\"female\",\"job\":1,\"housing\":\"own\",\"saving_accounts\":\"moderate\",\"checking_account\":\"little\",\"credit_amount\":1282,\"duration\":24,\"purpose\":\"radio\\/TV\",\"age\":32},{\"risk\":1,\"sex\":\"male\",\"job\":2,\"housing\":\"own\",\"saving_accounts\":\"not_known\",\"checking_account\":\"not_known\",\"credit_amount\":2424,\"duration\":24,\"purpose\":\"radio\\/TV\",\"age\":53},{\"risk\":1,\"sex\":\"male\",\"job\":2,\"housing\":\"own\",\"saving_accounts\":\"not_known\",\"checking_account\":\"little\",\"credit_amount\":8072,\"duration\":30,\"purpose\":\"business\",\"age\":25},{\"risk\":0,\"sex\":\"female\",\"job\":3,\"housing\":\"free\",\"saving_accounts\":\"little\",\"checking_account\":\"moderate\",\"credit_amount\":12579,\"duration\":24,\"purpose\":\"car\",\"age\":44},{\"risk\":1,\"sex\":\"male\",\"job\":2,\"housing\":\"own\",\"saving_accounts\":\"quite rich\",\"checking_account\":\"not_known\",\"credit_amount\":3430,\"duration\":24,\"purpose\":\"radio\\/TV\",\"age\":31},{\"risk\":1,\"sex\":\"male\",\"job\":2,\"housing\":\"own\",\"saving_accounts\":\"little\",\"checking_account\":\"not_known\",\"credit_amount\":2134,\"duration\":9,\"purpose\":\"car\",\"age\":48},{\"risk\":1,\"sex\":\"male\",\"job\":2,\"housing\":\"rent\",\"saving_accounts\":\"quite rich\",\"checking_account\":\"little\",\"credit_amount\":2647,\"duration\":6,\"purpose\":\"radio\\/TV\",\"age\":44},{\"risk\":1,\"sex\":\"male\",\"job\":1,\"housing\":\"rent\",\"saving_accounts\":\"little\",\"checking_account\":\"little\",\"credit_amount\":2241,\"duration\":10,\"purpose\":\"car\",\"age\":48},{\"risk\":1,\"sex\":\"male\",\"job\":2,\"housing\":\"own\",\"saving_accounts\":\"moderate\",\"checking_account\":\"moderate\",\"credit_amount\":1804,\"duration\":12,\"purpose\":\"car\",\"age\":44},{\"risk\":1,\"sex\":\"male\",\"job\":2,\"housing\":\"own\",\"saving_accounts\":\"not_known\",\"checking_account\":\"not_known\",\"credit_amount\":2069,\"duration\":10,\"purpose\":\"furniture\\/equipment\",\"age\":26},{\"risk\":1,\"sex\":\"male\",\"job\":1,\"housing\":\"own\",\"saving_accounts\":\"little\",\"checking_account\":\"little\",\"credit_amount\":1374,\"duration\":6,\"purpose\":\"furniture\\/equipment\",\"age\":36},{\"risk\":1,\"sex\":\"male\",\"job\":1,\"housing\":\"own\",\"saving_accounts\":\"little\",\"checking_account\":\"not_known\",\"credit_amount\":426,\"duration\":6,\"purpose\":\"radio\\/TV\",\"age\":39},{\"risk\":1,\"sex\":\"female\",\"job\":2,\"housing\":\"rent\",\"saving_accounts\":\"rich\",\"checking_account\":\"rich\",\"credit_amount\":409,\"duration\":12,\"purpose\":\"radio\\/TV\",\"age\":42},{\"risk\":1,\"sex\":\"male\",\"job\":2,\"housing\":\"own\",\"saving_accounts\":\"little\",\"checking_account\":\"moderate\",\"credit_amount\":2415,\"duration\":7,\"purpose\":\"radio\\/TV\",\"age\":34},{\"risk\":0,\"sex\":\"male\",\"job\":2,\"housing\":\"own\",\"saving_accounts\":\"little\",\"checking_account\":\"little\",\"credit_amount\":6836,\"duration\":60,\"purpose\":\"business\",\"age\":63},{\"risk\":1,\"sex\":\"male\",\"job\":2,\"housing\":\"own\",\"saving_accounts\":\"rich\",\"checking_account\":\"moderate\",\"credit_amount\":1913,\"duration\":18,\"purpose\":\"business\",\"age\":36},{\"risk\":1,\"sex\":\"male\",\"job\":2,\"housing\":\"own\",\"saving_accounts\":\"little\",\"checking_account\":\"little\",\"credit_amount\":4020,\"duration\":24,\"purpose\":\"furniture\\/equipment\",\"age\":27},{\"risk\":1,\"sex\":\"male\",\"job\":2,\"housing\":\"own\",\"saving_accounts\":\"moderate\",\"checking_account\":\"moderate\",\"credit_amount\":5866,\"duration\":18,\"purpose\":\"car\",\"age\":30},{\"risk\":1,\"sex\":\"male\",\"job\":1,\"housing\":\"rent\",\"saving_accounts\":\"not_known\",\"checking_account\":\"not_known\",\"credit_amount\":1264,\"duration\":12,\"purpose\":\"business\",\"age\":57},{\"risk\":1,\"sex\":\"female\",\"job\":3,\"housing\":\"own\",\"saving_accounts\":\"little\",\"checking_account\":\"rich\",\"credit_amount\":1474,\"duration\":12,\"purpose\":\"furniture\\/equipment\",\"age\":33},{\"risk\":0,\"sex\":\"male\",\"job\":1,\"housing\":\"own\",\"saving_accounts\":\"little\",\"checking_account\":\"moderate\",\"credit_amount\":4746,\"duration\":45,\"purpose\":\"radio\\/TV\",\"age\":25},{\"risk\":1,\"sex\":\"male\",\"job\":2,\"housing\":\"free\",\"saving_accounts\":\"little\",\"checking_account\":\"not_known\",\"credit_amount\":6110,\"duration\":48,\"purpose\":\"education\",\"age\":31},{\"risk\":0,\"sex\":\"male\",\"job\":2,\"housing\":\"own\",\"saving_accounts\":\"little\",\"checking_account\":\"rich\",\"credit_amount\":2100,\"duration\":18,\"purpose\":\"radio\\/TV\",\"age\":37},{\"risk\":1,\"sex\":\"male\",\"job\":2,\"housing\":\"own\",\"saving_accounts\":\"little\",\"checking_account\":\"rich\",\"credit_amount\":1225,\"duration\":10,\"purpose\":\"domestic appliances\",\"age\":37},{\"risk\":1,\"sex\":\"male\",\"job\":2,\"housing\":\"own\",\"saving_accounts\":\"little\",\"checking_account\":\"moderate\",\"credit_amount\":458,\"duration\":9,\"purpose\":\"radio\\/TV\",\"age\":24},{\"risk\":1,\"sex\":\"male\",\"job\":3,\"housing\":\"own\",\"saving_accounts\":\"quite rich\",\"checking_account\":\"not_known\",\"credit_amount\":2333,\"duration\":30,\"purpose\":\"radio\\/TV\",\"age\":30},{\"risk\":1,\"sex\":\"male\",\"job\":2,\"housing\":\"own\",\"saving_accounts\":\"quite rich\",\"checking_account\":\"moderate\",\"credit_amount\":1158,\"duration\":12,\"purpose\":\"radio\\/TV\",\"age\":26},{\"risk\":1,\"sex\":\"male\",\"job\":1,\"housing\":\"own\",\"saving_accounts\":\"little\",\"checking_account\":\"moderate\",\"credit_amount\":6204,\"duration\":18,\"purpose\":\"repairs\",\"age\":44},{\"risk\":1,\"sex\":\"male\",\"job\":2,\"housing\":\"rent\",\"saving_accounts\":\"moderate\",\"checking_account\":\"little\",\"credit_amount\":6187,\"duration\":30,\"purpose\":\"car\",\"age\":24},{\"risk\":0,\"sex\":\"female\",\"job\":1,\"housing\":\"free\",\"saving_accounts\":\"little\",\"checking_account\":\"little\",\"credit_amount\":6143,\"duration\":48,\"purpose\":\"car\",\"age\":58},{\"risk\":1,\"sex\":\"female\",\"job\":3,\"housing\":\"own\",\"saving_accounts\":\"little\",\"checking_account\":\"not_known\",\"credit_amount\":1393,\"duration\":11,\"purpose\":\"car\",\"age\":35},{\"risk\":1,\"sex\":\"male\",\"job\":2,\"housing\":\"own\",\"saving_accounts\":\"quite rich\",\"checking_account\":\"not_known\",\"credit_amount\":2299,\"duration\":36,\"purpose\":\"radio\\/TV\",\"age\":39},{\"risk\":1,\"sex\":\"female\",\"job\":0,\"housing\":\"rent\",\"saving_accounts\":\"quite rich\",\"checking_account\":\"little\",\"credit_amount\":1352,\"duration\":6,\"purpose\":\"car\",\"age\":23},{\"risk\":1,\"sex\":\"male\",\"job\":1,\"housing\":\"own\",\"saving_accounts\":\"little\",\"checking_account\":\"not_known\",\"credit_amount\":7228,\"duration\":11,\"purpose\":\"car\",\"age\":39},{\"risk\":1,\"sex\":\"female\",\"job\":2,\"housing\":\"own\",\"saving_accounts\":\"moderate\",\"checking_account\":\"not_known\",\"credit_amount\":2073,\"duration\":12,\"purpose\":\"radio\\/TV\",\"age\":28},{\"risk\":1,\"sex\":\"male\",\"job\":1,\"housing\":\"own\",\"saving_accounts\":\"not_known\",\"checking_account\":\"moderate\",\"credit_amount\":2333,\"duration\":24,\"purpose\":\"furniture\\/equipment\",\"age\":29},{\"risk\":1,\"sex\":\"male\",\"job\":3,\"housing\":\"own\",\"saving_accounts\":\"little\",\"checking_account\":\"moderate\",\"credit_amount\":5965,\"duration\":27,\"purpose\":\"car\",\"age\":30},{\"risk\":1,\"sex\":\"male\",\"job\":2,\"housing\":\"own\",\"saving_accounts\":\"little\",\"checking_account\":\"not_known\",\"credit_amount\":1262,\"duration\":12,\"purpose\":\"radio\\/TV\",\"age\":25},{\"risk\":1,\"sex\":\"male\",\"job\":2,\"housing\":\"own\",\"saving_accounts\":\"not_known\",\"checking_account\":\"not_known\",\"credit_amount\":3378,\"duration\":18,\"purpose\":\"car\",\"age\":31},{\"risk\":0,\"sex\":\"male\",\"job\":2,\"housing\":\"free\",\"saving_accounts\":\"little\",\"checking_account\":\"moderate\",\"credit_amount\":2225,\"duration\":36,\"purpose\":\"car\",\"age\":57},{\"risk\":1,\"sex\":\"male\",\"job\":1,\"housing\":\"own\",\"saving_accounts\":\"not_known\",\"checking_account\":\"not_known\",\"credit_amount\":783,\"duration\":6,\"purpose\":\"car\",\"age\":26},{\"risk\":0,\"sex\":\"male\",\"job\":3,\"housing\":\"own\",\"saving_accounts\":\"not_known\",\"checking_account\":\"moderate\",\"credit_amount\":6468,\"duration\":12,\"purpose\":\"radio\\/TV\",\"age\":52},{\"risk\":1,\"sex\":\"female\",\"job\":2,\"housing\":\"own\",\"saving_accounts\":\"little\",\"checking_account\":\"not_known\",\"credit_amount\":9566,\"duration\":36,\"purpose\":\"radio\\/TV\",\"age\":31},{\"risk\":1,\"sex\":\"female\",\"job\":3,\"housing\":\"own\",\"saving_accounts\":\"little\",\"checking_account\":\"rich\",\"credit_amount\":1961,\"duration\":18,\"purpose\":\"car\",\"age\":23},{\"risk\":0,\"sex\":\"female\",\"job\":1,\"housing\":\"rent\",\"saving_accounts\":\"little\",\"checking_account\":\"little\",\"credit_amount\":6229,\"duration\":36,\"purpose\":\"furniture\\/equipment\",\"age\":23},{\"risk\":1,\"sex\":\"male\",\"job\":2,\"housing\":\"own\",\"saving_accounts\":\"little\",\"checking_account\":\"moderate\",\"credit_amount\":1391,\"duration\":9,\"purpose\":\"business\",\"age\":27},{\"risk\":1,\"sex\":\"male\",\"job\":2,\"housing\":\"own\",\"saving_accounts\":\"not_known\",\"checking_account\":\"moderate\",\"credit_amount\":1537,\"duration\":15,\"purpose\":\"radio\\/TV\",\"age\":50},{\"risk\":0,\"sex\":\"male\",\"job\":3,\"housing\":\"free\",\"saving_accounts\":\"little\",\"checking_account\":\"moderate\",\"credit_amount\":1953,\"duration\":36,\"purpose\":\"business\",\"age\":61},{\"risk\":0,\"sex\":\"male\",\"job\":2,\"housing\":\"own\",\"saving_accounts\":\"little\",\"checking_account\":\"moderate\",\"credit_amount\":14421,\"duration\":48,\"purpose\":\"business\",\"age\":25},{\"risk\":1,\"sex\":\"female\",\"job\":2,\"housing\":\"own\",\"saving_accounts\":\"little\",\"checking_account\":\"not_known\",\"credit_amount\":3181,\"duration\":24,\"purpose\":\"radio\\/TV\",\"age\":26},{\"risk\":1,\"sex\":\"male\",\"job\":2,\"housing\":\"own\",\"saving_accounts\":\"not_known\",\"checking_account\":\"not_known\",\"credit_amount\":5190,\"duration\":27,\"purpose\":\"repairs\",\"age\":48},{\"risk\":1,\"sex\":\"female\",\"job\":2,\"housing\":\"own\",\"saving_accounts\":\"little\",\"checking_account\":\"not_known\",\"credit_amount\":2171,\"duration\":12,\"purpose\":\"radio\\/TV\",\"age\":29},{\"risk\":1,\"sex\":\"male\",\"job\":2,\"housing\":\"own\",\"saving_accounts\":\"rich\",\"checking_account\":\"moderate\",\"credit_amount\":1007,\"duration\":12,\"purpose\":\"car\",\"age\":22},{\"risk\":0,\"sex\":\"male\",\"job\":2,\"housing\":\"free\",\"saving_accounts\":\"little\",\"checking_account\":\"not_known\",\"credit_amount\":1819,\"duration\":36,\"purpose\":\"education\",\"age\":37},{\"risk\":1,\"sex\":\"female\",\"job\":2,\"housing\":\"own\",\"saving_accounts\":\"not_known\",\"checking_account\":\"not_known\",\"credit_amount\":2394,\"duration\":36,\"purpose\":\"radio\\/TV\",\"age\":25},{\"risk\":1,\"sex\":\"female\",\"job\":2,\"housing\":\"own\",\"saving_accounts\":\"little\",\"checking_account\":\"not_known\",\"credit_amount\":8133,\"duration\":36,\"purpose\":\"car\",\"age\":30},{\"risk\":1,\"sex\":\"male\",\"job\":1,\"housing\":\"rent\",\"saving_accounts\":\"not_known\",\"checking_account\":\"not_known\",\"credit_amount\":730,\"duration\":7,\"purpose\":\"radio\\/TV\",\"age\":46},{\"risk\":1,\"sex\":\"male\",\"job\":3,\"housing\":\"free\",\"saving_accounts\":\"little\",\"checking_account\":\"little\",\"credit_amount\":1164,\"duration\":8,\"purpose\":\"vacation\\/others\",\"age\":51},{\"risk\":1,\"sex\":\"female\",\"job\":1,\"housing\":\"own\",\"saving_accounts\":\"little\",\"checking_account\":\"moderate\",\"credit_amount\":5954,\"duration\":42,\"purpose\":\"business\",\"age\":41},{\"risk\":0,\"sex\":\"male\",\"job\":3,\"housing\":\"own\",\"saving_accounts\":\"not_known\",\"checking_account\":\"little\",\"credit_amount\":1977,\"duration\":36,\"purpose\":\"education\",\"age\":40},{\"risk\":1,\"sex\":\"male\",\"job\":3,\"housing\":\"free\",\"saving_accounts\":\"little\",\"checking_account\":\"little\",\"credit_amount\":1526,\"duration\":12,\"purpose\":\"car\",\"age\":66},{\"risk\":0,\"sex\":\"male\",\"job\":2,\"housing\":\"own\",\"saving_accounts\":\"little\",\"checking_account\":\"little\",\"credit_amount\":3965,\"duration\":42,\"purpose\":\"radio\\/TV\",\"age\":34},{\"risk\":1,\"sex\":\"male\",\"job\":2,\"housing\":\"own\",\"saving_accounts\":\"little\",\"checking_account\":\"moderate\",\"credit_amount\":4771,\"duration\":11,\"purpose\":\"radio\\/TV\",\"age\":51},{\"risk\":1,\"sex\":\"male\",\"job\":1,\"housing\":\"own\",\"saving_accounts\":\"not_known\",\"checking_account\":\"not_known\",\"credit_amount\":9436,\"duration\":54,\"purpose\":\"car\",\"age\":39},{\"risk\":1,\"sex\":\"male\",\"job\":2,\"housing\":\"own\",\"saving_accounts\":\"little\",\"checking_account\":\"moderate\",\"credit_amount\":3832,\"duration\":30,\"purpose\":\"furniture\\/equipment\",\"age\":22},{\"risk\":0,\"sex\":\"female\",\"job\":2,\"housing\":\"own\",\"saving_accounts\":\"not_known\",\"checking_account\":\"not_known\",\"credit_amount\":5943,\"duration\":24,\"purpose\":\"radio\\/TV\",\"age\":44},{\"risk\":1,\"sex\":\"male\",\"job\":2,\"housing\":\"own\",\"saving_accounts\":\"quite rich\",\"checking_account\":\"not_known\",\"credit_amount\":1213,\"duration\":15,\"purpose\":\"radio\\/TV\",\"age\":47},{\"risk\":1,\"sex\":\"female\",\"job\":1,\"housing\":\"rent\",\"saving_accounts\":\"moderate\",\"checking_account\":\"not_known\",\"credit_amount\":1568,\"duration\":18,\"purpose\":\"business\",\"age\":24},{\"risk\":1,\"sex\":\"female\",\"job\":1,\"housing\":\"own\",\"saving_accounts\":\"little\",\"checking_account\":\"little\",\"credit_amount\":1755,\"duration\":24,\"purpose\":\"vacation\\/others\",\"age\":58},{\"risk\":1,\"sex\":\"male\",\"job\":1,\"housing\":\"own\",\"saving_accounts\":\"little\",\"checking_account\":\"little\",\"credit_amount\":2315,\"duration\":10,\"purpose\":\"radio\\/TV\",\"age\":52},{\"risk\":1,\"sex\":\"female\",\"job\":3,\"housing\":\"own\",\"saving_accounts\":\"little\",\"checking_account\":\"not_known\",\"credit_amount\":1412,\"duration\":12,\"purpose\":\"business\",\"age\":29},{\"risk\":1,\"sex\":\"female\",\"job\":2,\"housing\":\"own\",\"saving_accounts\":\"little\",\"checking_account\":\"moderate\",\"credit_amount\":1295,\"duration\":18,\"purpose\":\"furniture\\/equipment\",\"age\":27},{\"risk\":0,\"sex\":\"male\",\"job\":2,\"housing\":\"free\",\"saving_accounts\":\"moderate\",\"checking_account\":\"moderate\",\"credit_amount\":12612,\"duration\":36,\"purpose\":\"education\",\"age\":47},{\"risk\":1,\"sex\":\"male\",\"job\":3,\"housing\":\"own\",\"saving_accounts\":\"moderate\",\"checking_account\":\"little\",\"credit_amount\":2249,\"duration\":18,\"purpose\":\"car\",\"age\":30},{\"risk\":0,\"sex\":\"male\",\"job\":2,\"housing\":\"own\",\"saving_accounts\":\"little\",\"checking_account\":\"little\",\"credit_amount\":1108,\"duration\":12,\"purpose\":\"repairs\",\"age\":28},{\"risk\":1,\"sex\":\"male\",\"job\":2,\"housing\":\"own\",\"saving_accounts\":\"little\",\"checking_account\":\"not_known\",\"credit_amount\":618,\"duration\":12,\"purpose\":\"radio\\/TV\",\"age\":56},{\"risk\":1,\"sex\":\"male\",\"job\":2,\"housing\":\"own\",\"saving_accounts\":\"little\",\"checking_account\":\"little\",\"credit_amount\":1409,\"duration\":12,\"purpose\":\"car\",\"age\":54},{\"risk\":0,\"sex\":\"female\",\"job\":1,\"housing\":\"own\",\"saving_accounts\":\"not_known\",\"checking_account\":\"not_known\",\"credit_amount\":797,\"duration\":12,\"purpose\":\"radio\\/TV\",\"age\":33},{\"risk\":1,\"sex\":\"male\",\"job\":2,\"housing\":\"rent\",\"saving_accounts\":\"not_known\",\"checking_account\":\"rich\",\"credit_amount\":3617,\"duration\":24,\"purpose\":\"furniture\\/equipment\",\"age\":20},{\"risk\":1,\"sex\":\"male\",\"job\":2,\"housing\":\"own\",\"saving_accounts\":\"rich\",\"checking_account\":\"moderate\",\"credit_amount\":1318,\"duration\":12,\"purpose\":\"car\",\"age\":54},{\"risk\":0,\"sex\":\"male\",\"job\":2,\"housing\":\"rent\",\"saving_accounts\":\"little\",\"checking_account\":\"moderate\",\"credit_amount\":15945,\"duration\":54,\"purpose\":\"business\",\"age\":58},{\"risk\":1,\"sex\":\"female\",\"job\":2,\"housing\":\"own\",\"saving_accounts\":\"not_known\",\"checking_account\":\"not_known\",\"credit_amount\":2012,\"duration\":12,\"purpose\":\"education\",\"age\":61},{\"risk\":1,\"sex\":\"male\",\"job\":2,\"housing\":\"own\",\"saving_accounts\":\"moderate\",\"checking_account\":\"moderate\",\"credit_amount\":2622,\"duration\":18,\"purpose\":\"business\",\"age\":34},{\"risk\":1,\"sex\":\"male\",\"job\":2,\"housing\":\"own\",\"saving_accounts\":\"little\",\"checking_account\":\"moderate\",\"credit_amount\":2337,\"duration\":36,\"purpose\":\"radio\\/TV\",\"age\":36},{\"risk\":1,\"sex\":\"male\",\"job\":3,\"housing\":\"rent\",\"saving_accounts\":\"not_known\",\"checking_account\":\"moderate\",\"credit_amount\":7057,\"duration\":20,\"purpose\":\"car\",\"age\":36},{\"risk\":1,\"sex\":\"male\",\"job\":1,\"housing\":\"rent\",\"saving_accounts\":\"moderate\",\"checking_account\":\"not_known\",\"credit_amount\":1469,\"duration\":24,\"purpose\":\"car\",\"age\":41},{\"risk\":1,\"sex\":\"male\",\"job\":2,\"housing\":\"rent\",\"saving_accounts\":\"little\",\"checking_account\":\"moderate\",\"credit_amount\":2323,\"duration\":36,\"purpose\":\"radio\\/TV\",\"age\":24},{\"risk\":1,\"sex\":\"female\",\"job\":2,\"housing\":\"own\",\"saving_accounts\":\"little\",\"checking_account\":\"not_known\",\"credit_amount\":932,\"duration\":6,\"purpose\":\"radio\\/TV\",\"age\":24},{\"risk\":1,\"sex\":\"male\",\"job\":2,\"housing\":\"rent\",\"saving_accounts\":\"little\",\"checking_account\":\"moderate\",\"credit_amount\":1919,\"duration\":9,\"purpose\":\"furniture\\/equipment\",\"age\":35},{\"risk\":1,\"sex\":\"male\",\"job\":2,\"housing\":\"rent\",\"saving_accounts\":\"not_known\",\"checking_account\":\"not_known\",\"credit_amount\":2445,\"duration\":12,\"purpose\":\"car\",\"age\":26},{\"risk\":0,\"sex\":\"male\",\"job\":3,\"housing\":\"own\",\"saving_accounts\":\"little\",\"checking_account\":\"moderate\",\"credit_amount\":11938,\"duration\":24,\"purpose\":\"vacation\\/others\",\"age\":39},{\"risk\":0,\"sex\":\"male\",\"job\":3,\"housing\":\"own\",\"saving_accounts\":\"little\",\"checking_account\":\"not_known\",\"credit_amount\":6458,\"duration\":18,\"purpose\":\"car\",\"age\":39},{\"risk\":1,\"sex\":\"male\",\"job\":2,\"housing\":\"own\",\"saving_accounts\":\"little\",\"checking_account\":\"moderate\",\"credit_amount\":6078,\"duration\":12,\"purpose\":\"car\",\"age\":32},{\"risk\":1,\"sex\":\"female\",\"job\":2,\"housing\":\"own\",\"saving_accounts\":\"not_known\",\"checking_account\":\"little\",\"credit_amount\":7721,\"duration\":24,\"purpose\":\"furniture\\/equipment\",\"age\":30},{\"risk\":1,\"sex\":\"male\",\"job\":2,\"housing\":\"own\",\"saving_accounts\":\"quite rich\",\"checking_account\":\"moderate\",\"credit_amount\":1410,\"duration\":14,\"purpose\":\"business\",\"age\":35},{\"risk\":1,\"sex\":\"male\",\"job\":2,\"housing\":\"own\",\"saving_accounts\":\"moderate\",\"checking_account\":\"moderate\",\"credit_amount\":1449,\"duration\":6,\"purpose\":\"business\",\"age\":31},{\"risk\":1,\"sex\":\"female\",\"job\":2,\"housing\":\"rent\",\"saving_accounts\":\"little\",\"checking_account\":\"rich\",\"credit_amount\":392,\"duration\":15,\"purpose\":\"education\",\"age\":23},{\"risk\":1,\"sex\":\"male\",\"job\":1,\"housing\":\"rent\",\"saving_accounts\":\"little\",\"checking_account\":\"moderate\",\"credit_amount\":6260,\"duration\":18,\"purpose\":\"car\",\"age\":28},{\"risk\":0,\"sex\":\"female\",\"job\":2,\"housing\":\"own\",\"saving_accounts\":\"little\",\"checking_account\":\"not_known\",\"credit_amount\":7855,\"duration\":36,\"purpose\":\"car\",\"age\":25},{\"risk\":1,\"sex\":\"male\",\"job\":2,\"housing\":\"own\",\"saving_accounts\":\"quite rich\",\"checking_account\":\"little\",\"credit_amount\":1680,\"duration\":12,\"purpose\":\"radio\\/TV\",\"age\":35},{\"risk\":1,\"sex\":\"male\",\"job\":2,\"housing\":\"own\",\"saving_accounts\":\"not_known\",\"checking_account\":\"not_known\",\"credit_amount\":3578,\"duration\":48,\"purpose\":\"radio\\/TV\",\"age\":47},{\"risk\":0,\"sex\":\"female\",\"job\":3,\"housing\":\"own\",\"saving_accounts\":\"not_known\",\"checking_account\":\"little\",\"credit_amount\":7174,\"duration\":42,\"purpose\":\"radio\\/TV\",\"age\":30},{\"risk\":1,\"sex\":\"female\",\"job\":2,\"housing\":\"rent\",\"saving_accounts\":\"not_known\",\"checking_account\":\"little\",\"credit_amount\":2132,\"duration\":10,\"purpose\":\"furniture\\/equipment\",\"age\":27},{\"risk\":0,\"sex\":\"female\",\"job\":2,\"housing\":\"own\",\"saving_accounts\":\"quite rich\",\"checking_account\":\"little\",\"credit_amount\":4281,\"duration\":33,\"purpose\":\"furniture\\/equipment\",\"age\":23},{\"risk\":1,\"sex\":\"male\",\"job\":3,\"housing\":\"own\",\"saving_accounts\":\"quite rich\",\"checking_account\":\"moderate\",\"credit_amount\":2366,\"duration\":12,\"purpose\":\"car\",\"age\":36},{\"risk\":0,\"sex\":\"female\",\"job\":2,\"housing\":\"own\",\"saving_accounts\":\"little\",\"checking_account\":\"little\",\"credit_amount\":1835,\"duration\":21,\"purpose\":\"radio\\/TV\",\"age\":25},{\"risk\":1,\"sex\":\"female\",\"job\":3,\"housing\":\"rent\",\"saving_accounts\":\"little\",\"checking_account\":\"not_known\",\"credit_amount\":3868,\"duration\":24,\"purpose\":\"car\",\"age\":41},{\"risk\":1,\"sex\":\"male\",\"job\":1,\"housing\":\"rent\",\"saving_accounts\":\"little\",\"checking_account\":\"not_known\",\"credit_amount\":1768,\"duration\":12,\"purpose\":\"furniture\\/equipment\",\"age\":24},{\"risk\":1,\"sex\":\"male\",\"job\":2,\"housing\":\"free\",\"saving_accounts\":\"little\",\"checking_account\":\"rich\",\"credit_amount\":781,\"duration\":10,\"purpose\":\"car\",\"age\":63},{\"risk\":0,\"sex\":\"female\",\"job\":2,\"housing\":\"rent\",\"saving_accounts\":\"not_known\",\"checking_account\":\"moderate\",\"credit_amount\":1924,\"duration\":18,\"purpose\":\"furniture\\/equipment\",\"age\":27},{\"risk\":1,\"sex\":\"male\",\"job\":2,\"housing\":\"own\",\"saving_accounts\":\"little\",\"checking_account\":\"little\",\"credit_amount\":2121,\"duration\":12,\"purpose\":\"car\",\"age\":30},{\"risk\":1,\"sex\":\"male\",\"job\":1,\"housing\":\"own\",\"saving_accounts\":\"little\",\"checking_account\":\"little\",\"credit_amount\":701,\"duration\":12,\"purpose\":\"radio\\/TV\",\"age\":40},{\"risk\":0,\"sex\":\"male\",\"job\":2,\"housing\":\"own\",\"saving_accounts\":\"little\",\"checking_account\":\"moderate\",\"credit_amount\":639,\"duration\":12,\"purpose\":\"repairs\",\"age\":30},{\"risk\":1,\"sex\":\"male\",\"job\":3,\"housing\":\"own\",\"saving_accounts\":\"little\",\"checking_account\":\"moderate\",\"credit_amount\":1860,\"duration\":12,\"purpose\":\"car\",\"age\":34},{\"risk\":0,\"sex\":\"female\",\"job\":2,\"housing\":\"own\",\"saving_accounts\":\"little\",\"checking_account\":\"little\",\"credit_amount\":3499,\"duration\":12,\"purpose\":\"car\",\"age\":29},{\"risk\":1,\"sex\":\"female\",\"job\":2,\"housing\":\"own\",\"saving_accounts\":\"not_known\",\"checking_account\":\"moderate\",\"credit_amount\":8487,\"duration\":48,\"purpose\":\"car\",\"age\":24},{\"risk\":0,\"sex\":\"male\",\"job\":2,\"housing\":\"own\",\"saving_accounts\":\"little\",\"checking_account\":\"little\",\"credit_amount\":6887,\"duration\":36,\"purpose\":\"education\",\"age\":29},{\"risk\":1,\"sex\":\"male\",\"job\":1,\"housing\":\"own\",\"saving_accounts\":\"little\",\"checking_account\":\"not_known\",\"credit_amount\":2708,\"duration\":15,\"purpose\":\"furniture\\/equipment\",\"age\":27},{\"risk\":1,\"sex\":\"male\",\"job\":2,\"housing\":\"free\",\"saving_accounts\":\"little\",\"checking_account\":\"not_known\",\"credit_amount\":1984,\"duration\":18,\"purpose\":\"furniture\\/equipment\",\"age\":47},{\"risk\":1,\"sex\":\"female\",\"job\":2,\"housing\":\"own\",\"saving_accounts\":\"moderate\",\"checking_account\":\"not_known\",\"credit_amount\":10144,\"duration\":60,\"purpose\":\"radio\\/TV\",\"age\":21},{\"risk\":1,\"sex\":\"female\",\"job\":2,\"housing\":\"own\",\"saving_accounts\":\"not_known\",\"checking_account\":\"not_known\",\"credit_amount\":1240,\"duration\":12,\"purpose\":\"radio\\/TV\",\"age\":38},{\"risk\":1,\"sex\":\"male\",\"job\":2,\"housing\":\"own\",\"saving_accounts\":\"rich\",\"checking_account\":\"not_known\",\"credit_amount\":8613,\"duration\":27,\"purpose\":\"car\",\"age\":27},{\"risk\":0,\"sex\":\"male\",\"job\":1,\"housing\":\"own\",\"saving_accounts\":\"quite rich\",\"checking_account\":\"moderate\",\"credit_amount\":766,\"duration\":12,\"purpose\":\"radio\\/TV\",\"age\":66},{\"risk\":1,\"sex\":\"male\",\"job\":2,\"housing\":\"own\",\"saving_accounts\":\"not_known\",\"checking_account\":\"moderate\",\"credit_amount\":2728,\"duration\":15,\"purpose\":\"radio\\/TV\",\"age\":35},{\"risk\":1,\"sex\":\"female\",\"job\":1,\"housing\":\"rent\",\"saving_accounts\":\"little\",\"checking_account\":\"rich\",\"credit_amount\":1881,\"duration\":12,\"purpose\":\"radio\\/TV\",\"age\":44},{\"risk\":1,\"sex\":\"male\",\"job\":0,\"housing\":\"own\",\"saving_accounts\":\"rich\",\"checking_account\":\"rich\",\"credit_amount\":709,\"duration\":6,\"purpose\":\"car\",\"age\":27},{\"risk\":1,\"sex\":\"female\",\"job\":3,\"housing\":\"own\",\"saving_accounts\":\"little\",\"checking_account\":\"moderate\",\"credit_amount\":4795,\"duration\":36,\"purpose\":\"radio\\/TV\",\"age\":30},{\"risk\":1,\"sex\":\"male\",\"job\":3,\"housing\":\"own\",\"saving_accounts\":\"little\",\"checking_account\":\"little\",\"credit_amount\":3416,\"duration\":27,\"purpose\":\"radio\\/TV\",\"age\":27},{\"risk\":0,\"sex\":\"male\",\"job\":2,\"housing\":\"own\",\"saving_accounts\":\"little\",\"checking_account\":\"little\",\"credit_amount\":2462,\"duration\":18,\"purpose\":\"furniture\\/equipment\",\"age\":22},{\"risk\":1,\"sex\":\"female\",\"job\":2,\"housing\":\"own\",\"saving_accounts\":\"little\",\"checking_account\":\"not_known\",\"credit_amount\":2288,\"duration\":21,\"purpose\":\"furniture\\/equipment\",\"age\":23},{\"risk\":1,\"sex\":\"male\",\"job\":2,\"housing\":\"own\",\"saving_accounts\":\"moderate\",\"checking_account\":\"moderate\",\"credit_amount\":3566,\"duration\":48,\"purpose\":\"business\",\"age\":30},{\"risk\":1,\"sex\":\"female\",\"job\":2,\"housing\":\"own\",\"saving_accounts\":\"little\",\"checking_account\":\"little\",\"credit_amount\":860,\"duration\":6,\"purpose\":\"car\",\"age\":39},{\"risk\":1,\"sex\":\"female\",\"job\":2,\"housing\":\"own\",\"saving_accounts\":\"moderate\",\"checking_account\":\"not_known\",\"credit_amount\":682,\"duration\":12,\"purpose\":\"car\",\"age\":51},{\"risk\":1,\"sex\":\"male\",\"job\":2,\"housing\":\"own\",\"saving_accounts\":\"little\",\"checking_account\":\"little\",\"credit_amount\":5371,\"duration\":36,\"purpose\":\"furniture\\/equipment\",\"age\":28},{\"risk\":1,\"sex\":\"male\",\"job\":2,\"housing\":\"own\",\"saving_accounts\":\"rich\",\"checking_account\":\"not_known\",\"credit_amount\":1582,\"duration\":18,\"purpose\":\"radio\\/TV\",\"age\":46},{\"risk\":1,\"sex\":\"male\",\"job\":2,\"housing\":\"free\",\"saving_accounts\":\"moderate\",\"checking_account\":\"not_known\",\"credit_amount\":1346,\"duration\":6,\"purpose\":\"radio\\/TV\",\"age\":42},{\"risk\":1,\"sex\":\"male\",\"job\":2,\"housing\":\"own\",\"saving_accounts\":\"little\",\"checking_account\":\"not_known\",\"credit_amount\":1924,\"duration\":10,\"purpose\":\"radio\\/TV\",\"age\":38},{\"risk\":1,\"sex\":\"male\",\"job\":2,\"housing\":\"own\",\"saving_accounts\":\"little\",\"checking_account\":\"rich\",\"credit_amount\":5848,\"duration\":36,\"purpose\":\"radio\\/TV\",\"age\":24},{\"risk\":1,\"sex\":\"female\",\"job\":2,\"housing\":\"rent\",\"saving_accounts\":\"rich\",\"checking_account\":\"moderate\",\"credit_amount\":7758,\"duration\":24,\"purpose\":\"car\",\"age\":29},{\"risk\":1,\"sex\":\"male\",\"job\":3,\"housing\":\"rent\",\"saving_accounts\":\"moderate\",\"checking_account\":\"moderate\",\"credit_amount\":6967,\"duration\":24,\"purpose\":\"business\",\"age\":36},{\"risk\":0,\"sex\":\"female\",\"job\":2,\"housing\":\"rent\",\"saving_accounts\":\"little\",\"checking_account\":\"little\",\"credit_amount\":1282,\"duration\":12,\"purpose\":\"furniture\\/equipment\",\"age\":20},{\"risk\":1,\"sex\":\"male\",\"job\":2,\"housing\":\"own\",\"saving_accounts\":\"moderate\",\"checking_account\":\"little\",\"credit_amount\":1288,\"duration\":9,\"purpose\":\"repairs\",\"age\":48},{\"risk\":1,\"sex\":\"male\",\"job\":1,\"housing\":\"own\",\"saving_accounts\":\"little\",\"checking_account\":\"little\",\"credit_amount\":339,\"duration\":12,\"purpose\":\"education\",\"age\":45},{\"risk\":1,\"sex\":\"male\",\"job\":2,\"housing\":\"own\",\"saving_accounts\":\"moderate\",\"checking_account\":\"moderate\",\"credit_amount\":3512,\"duration\":24,\"purpose\":\"car\",\"age\":38},{\"risk\":1,\"sex\":\"male\",\"job\":1,\"housing\":\"own\",\"saving_accounts\":\"not_known\",\"checking_account\":\"not_known\",\"credit_amount\":1898,\"duration\":6,\"purpose\":\"radio\\/TV\",\"age\":34},{\"risk\":1,\"sex\":\"male\",\"job\":2,\"housing\":\"own\",\"saving_accounts\":\"moderate\",\"checking_account\":\"not_known\",\"credit_amount\":2872,\"duration\":24,\"purpose\":\"radio\\/TV\",\"age\":36},{\"risk\":1,\"sex\":\"female\",\"job\":2,\"housing\":\"own\",\"saving_accounts\":\"little\",\"checking_account\":\"not_known\",\"credit_amount\":1055,\"duration\":18,\"purpose\":\"car\",\"age\":30},{\"risk\":1,\"sex\":\"male\",\"job\":2,\"housing\":\"own\",\"saving_accounts\":\"quite rich\",\"checking_account\":\"not_known\",\"credit_amount\":1262,\"duration\":15,\"purpose\":\"domestic appliances\",\"age\":36},{\"risk\":1,\"sex\":\"male\",\"job\":3,\"housing\":\"free\",\"saving_accounts\":\"little\",\"checking_account\":\"moderate\",\"credit_amount\":7308,\"duration\":10,\"purpose\":\"car\",\"age\":70},{\"risk\":1,\"sex\":\"male\",\"job\":2,\"housing\":\"own\",\"saving_accounts\":\"quite rich\",\"checking_account\":\"not_known\",\"credit_amount\":909,\"duration\":36,\"purpose\":\"car\",\"age\":36},{\"risk\":1,\"sex\":\"male\",\"job\":2,\"housing\":\"own\",\"saving_accounts\":\"quite rich\",\"checking_account\":\"not_known\",\"credit_amount\":2978,\"duration\":6,\"purpose\":\"furniture\\/equipment\",\"age\":32},{\"risk\":0,\"sex\":\"female\",\"job\":2,\"housing\":\"own\",\"saving_accounts\":\"little\",\"checking_account\":\"little\",\"credit_amount\":1131,\"duration\":18,\"purpose\":\"furniture\\/equipment\",\"age\":33},{\"risk\":1,\"sex\":\"female\",\"job\":2,\"housing\":\"own\",\"saving_accounts\":\"rich\",\"checking_account\":\"moderate\",\"credit_amount\":1577,\"duration\":11,\"purpose\":\"furniture\\/equipment\",\"age\":20},{\"risk\":1,\"sex\":\"female\",\"job\":2,\"housing\":\"rent\",\"saving_accounts\":\"little\",\"checking_account\":\"not_known\",\"credit_amount\":3972,\"duration\":24,\"purpose\":\"furniture\\/equipment\",\"age\":25},{\"risk\":0,\"sex\":\"male\",\"job\":2,\"housing\":\"own\",\"saving_accounts\":\"little\",\"checking_account\":\"moderate\",\"credit_amount\":1935,\"duration\":24,\"purpose\":\"business\",\"age\":31},{\"risk\":0,\"sex\":\"male\",\"job\":2,\"housing\":\"rent\",\"saving_accounts\":\"little\",\"checking_account\":\"little\",\"credit_amount\":950,\"duration\":15,\"purpose\":\"car\",\"age\":33},{\"risk\":1,\"sex\":\"female\",\"job\":2,\"housing\":\"own\",\"saving_accounts\":\"little\",\"checking_account\":\"not_known\",\"credit_amount\":763,\"duration\":12,\"purpose\":\"furniture\\/equipment\",\"age\":26},{\"risk\":0,\"sex\":\"female\",\"job\":3,\"housing\":\"own\",\"saving_accounts\":\"little\",\"checking_account\":\"moderate\",\"credit_amount\":2064,\"duration\":24,\"purpose\":\"furniture\\/equipment\",\"age\":34},{\"risk\":1,\"sex\":\"male\",\"job\":2,\"housing\":\"own\",\"saving_accounts\":\"little\",\"checking_account\":\"moderate\",\"credit_amount\":1414,\"duration\":8,\"purpose\":\"radio\\/TV\",\"age\":33},{\"risk\":0,\"sex\":\"male\",\"job\":2,\"housing\":\"own\",\"saving_accounts\":\"little\",\"checking_account\":\"little\",\"credit_amount\":3414,\"duration\":21,\"purpose\":\"education\",\"age\":26},{\"risk\":0,\"sex\":\"female\",\"job\":3,\"housing\":\"own\",\"saving_accounts\":\"not_known\",\"checking_account\":\"not_known\",\"credit_amount\":7485,\"duration\":30,\"purpose\":\"car\",\"age\":53},{\"risk\":1,\"sex\":\"male\",\"job\":2,\"housing\":\"own\",\"saving_accounts\":\"little\",\"checking_account\":\"little\",\"credit_amount\":2577,\"duration\":12,\"purpose\":\"furniture\\/equipment\",\"age\":42},{\"risk\":1,\"sex\":\"male\",\"job\":2,\"housing\":\"own\",\"saving_accounts\":\"quite rich\",\"checking_account\":\"little\",\"credit_amount\":338,\"duration\":6,\"purpose\":\"radio\\/TV\",\"age\":52},{\"risk\":1,\"sex\":\"male\",\"job\":3,\"housing\":\"rent\",\"saving_accounts\":\"little\",\"checking_account\":\"not_known\",\"credit_amount\":1963,\"duration\":12,\"purpose\":\"radio\\/TV\",\"age\":31},{\"risk\":1,\"sex\":\"male\",\"job\":2,\"housing\":\"own\",\"saving_accounts\":\"little\",\"checking_account\":\"little\",\"credit_amount\":571,\"duration\":21,\"purpose\":\"car\",\"age\":65},{\"risk\":0,\"sex\":\"male\",\"job\":2,\"housing\":\"own\",\"saving_accounts\":\"little\",\"checking_account\":\"not_known\",\"credit_amount\":9572,\"duration\":36,\"purpose\":\"business\",\"age\":28},{\"risk\":0,\"sex\":\"male\",\"job\":3,\"housing\":\"own\",\"saving_accounts\":\"little\",\"checking_account\":\"moderate\",\"credit_amount\":4455,\"duration\":36,\"purpose\":\"business\",\"age\":30},{\"risk\":0,\"sex\":\"male\",\"job\":1,\"housing\":\"own\",\"saving_accounts\":\"not_known\",\"checking_account\":\"little\",\"credit_amount\":1647,\"duration\":21,\"purpose\":\"car\",\"age\":40},{\"risk\":1,\"sex\":\"male\",\"job\":2,\"housing\":\"own\",\"saving_accounts\":\"rich\",\"checking_account\":\"not_known\",\"credit_amount\":3777,\"duration\":24,\"purpose\":\"furniture\\/equipment\",\"age\":50},{\"risk\":0,\"sex\":\"male\",\"job\":2,\"housing\":\"own\",\"saving_accounts\":\"little\",\"checking_account\":\"moderate\",\"credit_amount\":884,\"duration\":18,\"purpose\":\"car\",\"age\":36},{\"risk\":1,\"sex\":\"male\",\"job\":2,\"housing\":\"own\",\"saving_accounts\":\"little\",\"checking_account\":\"not_known\",\"credit_amount\":1360,\"duration\":15,\"purpose\":\"radio\\/TV\",\"age\":31},{\"risk\":0,\"sex\":\"female\",\"job\":3,\"housing\":\"free\",\"saving_accounts\":\"little\",\"checking_account\":\"moderate\",\"credit_amount\":5129,\"duration\":9,\"purpose\":\"car\",\"age\":74},{\"risk\":1,\"sex\":\"male\",\"job\":0,\"housing\":\"free\",\"saving_accounts\":\"little\",\"checking_account\":\"moderate\",\"credit_amount\":1175,\"duration\":16,\"purpose\":\"car\",\"age\":68},{\"risk\":0,\"sex\":\"male\",\"job\":2,\"housing\":\"own\",\"saving_accounts\":\"moderate\",\"checking_account\":\"little\",\"credit_amount\":674,\"duration\":12,\"purpose\":\"radio\\/TV\",\"age\":20},{\"risk\":1,\"sex\":\"female\",\"job\":2,\"housing\":\"own\",\"saving_accounts\":\"little\",\"checking_account\":\"moderate\",\"credit_amount\":3244,\"duration\":18,\"purpose\":\"furniture\\/equipment\",\"age\":33},{\"risk\":0,\"sex\":\"male\",\"job\":3,\"housing\":\"own\",\"saving_accounts\":\"rich\",\"checking_account\":\"not_known\",\"credit_amount\":4591,\"duration\":24,\"purpose\":\"business\",\"age\":54},{\"risk\":0,\"sex\":\"male\",\"job\":1,\"housing\":\"free\",\"saving_accounts\":\"moderate\",\"checking_account\":\"moderate\",\"credit_amount\":3844,\"duration\":48,\"purpose\":\"business\",\"age\":34},{\"risk\":0,\"sex\":\"male\",\"job\":2,\"housing\":\"own\",\"saving_accounts\":\"little\",\"checking_account\":\"moderate\",\"credit_amount\":3915,\"duration\":27,\"purpose\":\"business\",\"age\":36},{\"risk\":1,\"sex\":\"male\",\"job\":2,\"housing\":\"rent\",\"saving_accounts\":\"little\",\"checking_account\":\"not_known\",\"credit_amount\":2108,\"duration\":6,\"purpose\":\"radio\\/TV\",\"age\":29},{\"risk\":0,\"sex\":\"male\",\"job\":2,\"housing\":\"rent\",\"saving_accounts\":\"moderate\",\"checking_account\":\"moderate\",\"credit_amount\":3031,\"duration\":45,\"purpose\":\"radio\\/TV\",\"age\":21},{\"risk\":0,\"sex\":\"female\",\"job\":3,\"housing\":\"own\",\"saving_accounts\":\"little\",\"checking_account\":\"moderate\",\"credit_amount\":1501,\"duration\":9,\"purpose\":\"education\",\"age\":34},{\"risk\":1,\"sex\":\"female\",\"job\":2,\"housing\":\"own\",\"saving_accounts\":\"little\",\"checking_account\":\"not_known\",\"credit_amount\":1382,\"duration\":6,\"purpose\":\"radio\\/TV\",\"age\":28},{\"risk\":0,\"sex\":\"female\",\"job\":2,\"housing\":\"rent\",\"saving_accounts\":\"moderate\",\"checking_account\":\"moderate\",\"credit_amount\":951,\"duration\":12,\"purpose\":\"furniture\\/equipment\",\"age\":27},{\"risk\":1,\"sex\":\"male\",\"job\":2,\"housing\":\"free\",\"saving_accounts\":\"not_known\",\"checking_account\":\"moderate\",\"credit_amount\":2760,\"duration\":24,\"purpose\":\"car\",\"age\":36},{\"risk\":0,\"sex\":\"male\",\"job\":3,\"housing\":\"own\",\"saving_accounts\":\"little\",\"checking_account\":\"moderate\",\"credit_amount\":4297,\"duration\":18,\"purpose\":\"furniture\\/equipment\",\"age\":40},{\"risk\":1,\"sex\":\"male\",\"job\":2,\"housing\":\"own\",\"saving_accounts\":\"quite rich\",\"checking_account\":\"not_known\",\"credit_amount\":936,\"duration\":9,\"purpose\":\"education\",\"age\":52},{\"risk\":1,\"sex\":\"male\",\"job\":1,\"housing\":\"own\",\"saving_accounts\":\"little\",\"checking_account\":\"little\",\"credit_amount\":1168,\"duration\":12,\"purpose\":\"car\",\"age\":27},{\"risk\":1,\"sex\":\"male\",\"job\":2,\"housing\":\"own\",\"saving_accounts\":\"little\",\"checking_account\":\"not_known\",\"credit_amount\":5117,\"duration\":27,\"purpose\":\"business\",\"age\":26},{\"risk\":0,\"sex\":\"male\",\"job\":2,\"housing\":\"rent\",\"saving_accounts\":\"little\",\"checking_account\":\"little\",\"credit_amount\":902,\"duration\":12,\"purpose\":\"education\",\"age\":21},{\"risk\":1,\"sex\":\"male\",\"job\":1,\"housing\":\"own\",\"saving_accounts\":\"little\",\"checking_account\":\"not_known\",\"credit_amount\":1495,\"duration\":12,\"purpose\":\"car\",\"age\":38},{\"risk\":1,\"sex\":\"male\",\"job\":3,\"housing\":\"free\",\"saving_accounts\":\"little\",\"checking_account\":\"little\",\"credit_amount\":10623,\"duration\":30,\"purpose\":\"car\",\"age\":38},{\"risk\":1,\"sex\":\"male\",\"job\":2,\"housing\":\"own\",\"saving_accounts\":\"little\",\"checking_account\":\"not_known\",\"credit_amount\":1935,\"duration\":12,\"purpose\":\"furniture\\/equipment\",\"age\":43},{\"risk\":1,\"sex\":\"male\",\"job\":2,\"housing\":\"own\",\"saving_accounts\":\"little\",\"checking_account\":\"moderate\",\"credit_amount\":1424,\"duration\":12,\"purpose\":\"domestic appliances\",\"age\":26},{\"risk\":1,\"sex\":\"male\",\"job\":1,\"housing\":\"own\",\"saving_accounts\":\"little\",\"checking_account\":\"little\",\"credit_amount\":6568,\"duration\":24,\"purpose\":\"business\",\"age\":21},{\"risk\":1,\"sex\":\"male\",\"job\":2,\"housing\":\"own\",\"saving_accounts\":\"rich\",\"checking_account\":\"not_known\",\"credit_amount\":1413,\"duration\":12,\"purpose\":\"car\",\"age\":55},{\"risk\":1,\"sex\":\"male\",\"job\":2,\"housing\":\"own\",\"saving_accounts\":\"not_known\",\"checking_account\":\"not_known\",\"credit_amount\":3074,\"duration\":9,\"purpose\":\"radio\\/TV\",\"age\":33},{\"risk\":1,\"sex\":\"female\",\"job\":1,\"housing\":\"own\",\"saving_accounts\":\"not_known\",\"checking_account\":\"not_known\",\"credit_amount\":3835,\"duration\":36,\"purpose\":\"radio\\/TV\",\"age\":45},{\"risk\":0,\"sex\":\"male\",\"job\":2,\"housing\":\"own\",\"saving_accounts\":\"little\",\"checking_account\":\"little\",\"credit_amount\":5293,\"duration\":27,\"purpose\":\"business\",\"age\":50},{\"risk\":0,\"sex\":\"male\",\"job\":3,\"housing\":\"own\",\"saving_accounts\":\"little\",\"checking_account\":\"rich\",\"credit_amount\":1908,\"duration\":30,\"purpose\":\"business\",\"age\":66},{\"risk\":1,\"sex\":\"male\",\"job\":2,\"housing\":\"own\",\"saving_accounts\":\"not_known\",\"checking_account\":\"not_known\",\"credit_amount\":3342,\"duration\":36,\"purpose\":\"radio\\/TV\",\"age\":51},{\"risk\":1,\"sex\":\"female\",\"job\":1,\"housing\":\"own\",\"saving_accounts\":\"not_known\",\"checking_account\":\"moderate\",\"credit_amount\":932,\"duration\":6,\"purpose\":\"education\",\"age\":39},{\"risk\":1,\"sex\":\"male\",\"job\":2,\"housing\":\"own\",\"saving_accounts\":\"little\",\"checking_account\":\"little\",\"credit_amount\":3104,\"duration\":18,\"purpose\":\"business\",\"age\":31},{\"risk\":1,\"sex\":\"male\",\"job\":2,\"housing\":\"own\",\"saving_accounts\":\"little\",\"checking_account\":\"rich\",\"credit_amount\":3913,\"duration\":36,\"purpose\":\"radio\\/TV\",\"age\":23},{\"risk\":1,\"sex\":\"male\",\"job\":1,\"housing\":\"rent\",\"saving_accounts\":\"little\",\"checking_account\":\"little\",\"credit_amount\":3021,\"duration\":24,\"purpose\":\"furniture\\/equipment\",\"age\":24},{\"risk\":1,\"sex\":\"female\",\"job\":2,\"housing\":\"own\",\"saving_accounts\":\"little\",\"checking_account\":\"not_known\",\"credit_amount\":1364,\"duration\":10,\"purpose\":\"car\",\"age\":64},{\"risk\":1,\"sex\":\"male\",\"job\":1,\"housing\":\"own\",\"saving_accounts\":\"little\",\"checking_account\":\"moderate\",\"credit_amount\":625,\"duration\":12,\"purpose\":\"radio\\/TV\",\"age\":26},{\"risk\":1,\"sex\":\"female\",\"job\":2,\"housing\":\"rent\",\"saving_accounts\":\"not_known\",\"checking_account\":\"little\",\"credit_amount\":1200,\"duration\":12,\"purpose\":\"education\",\"age\":23},{\"risk\":1,\"sex\":\"male\",\"job\":2,\"housing\":\"own\",\"saving_accounts\":\"little\",\"checking_account\":\"not_known\",\"credit_amount\":707,\"duration\":12,\"purpose\":\"radio\\/TV\",\"age\":30},{\"risk\":1,\"sex\":\"male\",\"job\":2,\"housing\":\"own\",\"saving_accounts\":\"not_known\",\"checking_account\":\"not_known\",\"credit_amount\":2978,\"duration\":24,\"purpose\":\"business\",\"age\":32},{\"risk\":1,\"sex\":\"male\",\"job\":2,\"housing\":\"own\",\"saving_accounts\":\"little\",\"checking_account\":\"not_known\",\"credit_amount\":4657,\"duration\":15,\"purpose\":\"car\",\"age\":30},{\"risk\":1,\"sex\":\"male\",\"job\":2,\"housing\":\"own\",\"saving_accounts\":\"little\",\"checking_account\":\"not_known\",\"credit_amount\":2613,\"duration\":36,\"purpose\":\"repairs\",\"age\":27},{\"risk\":0,\"sex\":\"male\",\"job\":2,\"housing\":\"own\",\"saving_accounts\":\"rich\",\"checking_account\":\"moderate\",\"credit_amount\":10961,\"duration\":48,\"purpose\":\"radio\\/TV\",\"age\":27},{\"risk\":0,\"sex\":\"male\",\"job\":3,\"housing\":\"free\",\"saving_accounts\":\"little\",\"checking_account\":\"little\",\"credit_amount\":7865,\"duration\":12,\"purpose\":\"furniture\\/equipment\",\"age\":53},{\"risk\":0,\"sex\":\"male\",\"job\":2,\"housing\":\"own\",\"saving_accounts\":\"little\",\"checking_account\":\"not_known\",\"credit_amount\":1478,\"duration\":9,\"purpose\":\"radio\\/TV\",\"age\":22},{\"risk\":1,\"sex\":\"male\",\"job\":2,\"housing\":\"free\",\"saving_accounts\":\"little\",\"checking_account\":\"little\",\"credit_amount\":3149,\"duration\":24,\"purpose\":\"furniture\\/equipment\",\"age\":22},{\"risk\":0,\"sex\":\"male\",\"job\":2,\"housing\":\"own\",\"saving_accounts\":\"little\",\"checking_account\":\"rich\",\"credit_amount\":4210,\"duration\":36,\"purpose\":\"radio\\/TV\",\"age\":26},{\"risk\":1,\"sex\":\"male\",\"job\":1,\"housing\":\"free\",\"saving_accounts\":\"quite rich\",\"checking_account\":\"not_known\",\"credit_amount\":2507,\"duration\":9,\"purpose\":\"car\",\"age\":51},{\"risk\":1,\"sex\":\"male\",\"job\":2,\"housing\":\"own\",\"saving_accounts\":\"moderate\",\"checking_account\":\"not_known\",\"credit_amount\":2141,\"duration\":12,\"purpose\":\"radio\\/TV\",\"age\":35},{\"risk\":1,\"sex\":\"male\",\"job\":1,\"housing\":\"own\",\"saving_accounts\":\"little\",\"checking_account\":\"moderate\",\"credit_amount\":866,\"duration\":18,\"purpose\":\"radio\\/TV\",\"age\":25},{\"risk\":1,\"sex\":\"male\",\"job\":1,\"housing\":\"own\",\"saving_accounts\":\"little\",\"checking_account\":\"not_known\",\"credit_amount\":1544,\"duration\":4,\"purpose\":\"radio\\/TV\",\"age\":42},{\"risk\":0,\"sex\":\"male\",\"job\":3,\"housing\":\"own\",\"saving_accounts\":\"little\",\"checking_account\":\"little\",\"credit_amount\":1823,\"duration\":24,\"purpose\":\"radio\\/TV\",\"age\":30},{\"risk\":0,\"sex\":\"male\",\"job\":0,\"housing\":\"own\",\"saving_accounts\":\"not_known\",\"checking_account\":\"moderate\",\"credit_amount\":14555,\"duration\":6,\"purpose\":\"car\",\"age\":23},{\"risk\":0,\"sex\":\"male\",\"job\":1,\"housing\":\"rent\",\"saving_accounts\":\"moderate\",\"checking_account\":\"moderate\",\"credit_amount\":2767,\"duration\":21,\"purpose\":\"business\",\"age\":61},{\"risk\":1,\"sex\":\"female\",\"job\":2,\"housing\":\"own\",\"saving_accounts\":\"little\",\"checking_account\":\"not_known\",\"credit_amount\":1291,\"duration\":12,\"purpose\":\"radio\\/TV\",\"age\":35},{\"risk\":1,\"sex\":\"male\",\"job\":2,\"housing\":\"own\",\"saving_accounts\":\"little\",\"checking_account\":\"little\",\"credit_amount\":2522,\"duration\":30,\"purpose\":\"radio\\/TV\",\"age\":39},{\"risk\":0,\"sex\":\"female\",\"job\":2,\"housing\":\"own\",\"saving_accounts\":\"not_known\",\"checking_account\":\"little\",\"credit_amount\":915,\"duration\":24,\"purpose\":\"car\",\"age\":29},{\"risk\":1,\"sex\":\"male\",\"job\":2,\"housing\":\"own\",\"saving_accounts\":\"little\",\"checking_account\":\"not_known\",\"credit_amount\":1595,\"duration\":6,\"purpose\":\"radio\\/TV\",\"age\":51},{\"risk\":0,\"sex\":\"male\",\"job\":2,\"housing\":\"free\",\"saving_accounts\":\"little\",\"checking_account\":\"little\",\"credit_amount\":4605,\"duration\":48,\"purpose\":\"car\",\"age\":24},{\"risk\":1,\"sex\":\"female\",\"job\":2,\"housing\":\"own\",\"saving_accounts\":\"little\",\"checking_account\":\"not_known\",\"credit_amount\":1185,\"duration\":12,\"purpose\":\"business\",\"age\":27},{\"risk\":1,\"sex\":\"female\",\"job\":1,\"housing\":\"own\",\"saving_accounts\":\"quite rich\",\"checking_account\":\"not_known\",\"credit_amount\":3447,\"duration\":12,\"purpose\":\"education\",\"age\":35},{\"risk\":1,\"sex\":\"male\",\"job\":2,\"housing\":\"own\",\"saving_accounts\":\"little\",\"checking_account\":\"not_known\",\"credit_amount\":1258,\"duration\":24,\"purpose\":\"business\",\"age\":25},{\"risk\":1,\"sex\":\"male\",\"job\":2,\"housing\":\"own\",\"saving_accounts\":\"little\",\"checking_account\":\"not_known\",\"credit_amount\":717,\"duration\":12,\"purpose\":\"radio\\/TV\",\"age\":52},{\"risk\":1,\"sex\":\"male\",\"job\":2,\"housing\":\"rent\",\"saving_accounts\":\"moderate\",\"checking_account\":\"not_known\",\"credit_amount\":1204,\"duration\":6,\"purpose\":\"car\",\"age\":35},{\"risk\":1,\"sex\":\"male\",\"job\":2,\"housing\":\"own\",\"saving_accounts\":\"little\",\"checking_account\":\"rich\",\"credit_amount\":1925,\"duration\":24,\"purpose\":\"furniture\\/equipment\",\"age\":26},{\"risk\":0,\"sex\":\"female\",\"job\":2,\"housing\":\"rent\",\"saving_accounts\":\"little\",\"checking_account\":\"not_known\",\"credit_amount\":433,\"duration\":18,\"purpose\":\"radio\\/TV\",\"age\":22},{\"risk\":1,\"sex\":\"female\",\"job\":1,\"housing\":\"own\",\"saving_accounts\":\"rich\",\"checking_account\":\"little\",\"credit_amount\":666,\"duration\":6,\"purpose\":\"car\",\"age\":39},{\"risk\":1,\"sex\":\"female\",\"job\":1,\"housing\":\"own\",\"saving_accounts\":\"little\",\"checking_account\":\"rich\",\"credit_amount\":2251,\"duration\":12,\"purpose\":\"furniture\\/equipment\",\"age\":46},{\"risk\":0,\"sex\":\"female\",\"job\":2,\"housing\":\"own\",\"saving_accounts\":\"little\",\"checking_account\":\"moderate\",\"credit_amount\":2150,\"duration\":30,\"purpose\":\"car\",\"age\":24},{\"risk\":1,\"sex\":\"male\",\"job\":2,\"housing\":\"own\",\"saving_accounts\":\"moderate\",\"checking_account\":\"not_known\",\"credit_amount\":4151,\"duration\":24,\"purpose\":\"furniture\\/equipment\",\"age\":35},{\"risk\":1,\"sex\":\"male\",\"job\":2,\"housing\":\"own\",\"saving_accounts\":\"not_known\",\"checking_account\":\"moderate\",\"credit_amount\":2030,\"duration\":9,\"purpose\":\"furniture\\/equipment\",\"age\":24},{\"risk\":1,\"sex\":\"male\",\"job\":1,\"housing\":\"own\",\"saving_accounts\":\"not_known\",\"checking_account\":\"moderate\",\"credit_amount\":7418,\"duration\":60,\"purpose\":\"radio\\/TV\",\"age\":27},{\"risk\":1,\"sex\":\"male\",\"job\":1,\"housing\":\"own\",\"saving_accounts\":\"little\",\"checking_account\":\"not_known\",\"credit_amount\":2684,\"duration\":24,\"purpose\":\"radio\\/TV\",\"age\":35},{\"risk\":0,\"sex\":\"male\",\"job\":2,\"housing\":\"free\",\"saving_accounts\":\"little\",\"checking_account\":\"little\",\"credit_amount\":2149,\"duration\":12,\"purpose\":\"radio\\/TV\",\"age\":29},{\"risk\":1,\"sex\":\"female\",\"job\":2,\"housing\":\"own\",\"saving_accounts\":\"moderate\",\"checking_account\":\"not_known\",\"credit_amount\":3812,\"duration\":15,\"purpose\":\"car\",\"age\":23},{\"risk\":1,\"sex\":\"female\",\"job\":1,\"housing\":\"own\",\"saving_accounts\":\"moderate\",\"checking_account\":\"not_known\",\"credit_amount\":1154,\"duration\":11,\"purpose\":\"radio\\/TV\",\"age\":57},{\"risk\":1,\"sex\":\"male\",\"job\":2,\"housing\":\"own\",\"saving_accounts\":\"little\",\"checking_account\":\"little\",\"credit_amount\":1657,\"duration\":12,\"purpose\":\"furniture\\/equipment\",\"age\":27},{\"risk\":1,\"sex\":\"female\",\"job\":2,\"housing\":\"own\",\"saving_accounts\":\"little\",\"checking_account\":\"little\",\"credit_amount\":1603,\"duration\":24,\"purpose\":\"radio\\/TV\",\"age\":55},{\"risk\":1,\"sex\":\"male\",\"job\":3,\"housing\":\"free\",\"saving_accounts\":\"little\",\"checking_account\":\"little\",\"credit_amount\":5302,\"duration\":18,\"purpose\":\"car\",\"age\":36},{\"risk\":1,\"sex\":\"female\",\"job\":1,\"housing\":\"free\",\"saving_accounts\":\"little\",\"checking_account\":\"not_known\",\"credit_amount\":2748,\"duration\":12,\"purpose\":\"education\",\"age\":57},{\"risk\":1,\"sex\":\"male\",\"job\":1,\"housing\":\"own\",\"saving_accounts\":\"little\",\"checking_account\":\"not_known\",\"credit_amount\":1231,\"duration\":10,\"purpose\":\"car\",\"age\":32},{\"risk\":0,\"sex\":\"male\",\"job\":2,\"housing\":\"own\",\"saving_accounts\":\"little\",\"checking_account\":\"moderate\",\"credit_amount\":802,\"duration\":15,\"purpose\":\"radio\\/TV\",\"age\":37},{\"risk\":1,\"sex\":\"male\",\"job\":2,\"housing\":\"own\",\"saving_accounts\":\"not_known\",\"checking_account\":\"not_known\",\"credit_amount\":6304,\"duration\":36,\"purpose\":\"business\",\"age\":36},{\"risk\":1,\"sex\":\"female\",\"job\":2,\"housing\":\"own\",\"saving_accounts\":\"little\",\"checking_account\":\"not_known\",\"credit_amount\":1533,\"duration\":24,\"purpose\":\"radio\\/TV\",\"age\":38},{\"risk\":0,\"sex\":\"male\",\"job\":3,\"housing\":\"own\",\"saving_accounts\":\"little\",\"checking_account\":\"little\",\"credit_amount\":8978,\"duration\":14,\"purpose\":\"car\",\"age\":45},{\"risk\":1,\"sex\":\"male\",\"job\":2,\"housing\":\"own\",\"saving_accounts\":\"not_known\",\"checking_account\":\"not_known\",\"credit_amount\":999,\"duration\":24,\"purpose\":\"radio\\/TV\",\"age\":25},{\"risk\":1,\"sex\":\"male\",\"job\":2,\"housing\":\"own\",\"saving_accounts\":\"not_known\",\"checking_account\":\"not_known\",\"credit_amount\":2662,\"duration\":18,\"purpose\":\"car\",\"age\":32},{\"risk\":1,\"sex\":\"female\",\"job\":2,\"housing\":\"rent\",\"saving_accounts\":\"quite rich\",\"checking_account\":\"not_known\",\"credit_amount\":1402,\"duration\":12,\"purpose\":\"furniture\\/equipment\",\"age\":37},{\"risk\":1,\"sex\":\"male\",\"job\":3,\"housing\":\"free\",\"saving_accounts\":\"not_known\",\"checking_account\":\"moderate\",\"credit_amount\":12169,\"duration\":48,\"purpose\":\"car\",\"age\":36},{\"risk\":0,\"sex\":\"male\",\"job\":2,\"housing\":\"own\",\"saving_accounts\":\"little\",\"checking_account\":\"moderate\",\"credit_amount\":3060,\"duration\":48,\"purpose\":\"radio\\/TV\",\"age\":28},{\"risk\":0,\"sex\":\"male\",\"job\":1,\"housing\":\"own\",\"saving_accounts\":\"little\",\"checking_account\":\"little\",\"credit_amount\":11998,\"duration\":30,\"purpose\":\"repairs\",\"age\":34},{\"risk\":1,\"sex\":\"male\",\"job\":2,\"housing\":\"own\",\"saving_accounts\":\"little\",\"checking_account\":\"not_known\",\"credit_amount\":2697,\"duration\":9,\"purpose\":\"radio\\/TV\",\"age\":32},{\"risk\":1,\"sex\":\"female\",\"job\":2,\"housing\":\"own\",\"saving_accounts\":\"little\",\"checking_account\":\"not_known\",\"credit_amount\":2404,\"duration\":18,\"purpose\":\"radio\\/TV\",\"age\":26},{\"risk\":1,\"sex\":\"male\",\"job\":1,\"housing\":\"own\",\"saving_accounts\":\"not_known\",\"checking_account\":\"little\",\"credit_amount\":1262,\"duration\":12,\"purpose\":\"furniture\\/equipment\",\"age\":49},{\"risk\":0,\"sex\":\"female\",\"job\":2,\"housing\":\"own\",\"saving_accounts\":\"little\",\"checking_account\":\"not_known\",\"credit_amount\":4611,\"duration\":6,\"purpose\":\"furniture\\/equipment\",\"age\":32},{\"risk\":1,\"sex\":\"male\",\"job\":3,\"housing\":\"rent\",\"saving_accounts\":\"moderate\",\"checking_account\":\"not_known\",\"credit_amount\":1901,\"duration\":24,\"purpose\":\"radio\\/TV\",\"age\":29},{\"risk\":1,\"sex\":\"male\",\"job\":2,\"housing\":\"rent\",\"saving_accounts\":\"rich\",\"checking_account\":\"not_known\",\"credit_amount\":3368,\"duration\":15,\"purpose\":\"car\",\"age\":23},{\"risk\":1,\"sex\":\"male\",\"job\":2,\"housing\":\"own\",\"saving_accounts\":\"little\",\"checking_account\":\"not_known\",\"credit_amount\":1574,\"duration\":12,\"purpose\":\"furniture\\/equipment\",\"age\":50},{\"risk\":1,\"sex\":\"male\",\"job\":1,\"housing\":\"own\",\"saving_accounts\":\"not_known\",\"checking_account\":\"rich\",\"credit_amount\":1445,\"duration\":18,\"purpose\":\"radio\\/TV\",\"age\":49},{\"risk\":1,\"sex\":\"male\",\"job\":2,\"housing\":\"own\",\"saving_accounts\":\"not_known\",\"checking_account\":\"not_known\",\"credit_amount\":1520,\"duration\":15,\"purpose\":\"furniture\\/equipment\",\"age\":63},{\"risk\":1,\"sex\":\"male\",\"job\":2,\"housing\":\"own\",\"saving_accounts\":\"moderate\",\"checking_account\":\"moderate\",\"credit_amount\":3878,\"duration\":24,\"purpose\":\"car\",\"age\":37},{\"risk\":1,\"sex\":\"female\",\"job\":1,\"housing\":\"own\",\"saving_accounts\":\"little\",\"checking_account\":\"little\",\"credit_amount\":10722,\"duration\":47,\"purpose\":\"car\",\"age\":35},{\"risk\":1,\"sex\":\"male\",\"job\":2,\"housing\":\"own\",\"saving_accounts\":\"little\",\"checking_account\":\"little\",\"credit_amount\":4788,\"duration\":48,\"purpose\":\"car\",\"age\":26},{\"risk\":1,\"sex\":\"male\",\"job\":3,\"housing\":\"free\",\"saving_accounts\":\"moderate\",\"checking_account\":\"moderate\",\"credit_amount\":7582,\"duration\":48,\"purpose\":\"vacation\\/others\",\"age\":31},{\"risk\":1,\"sex\":\"female\",\"job\":2,\"housing\":\"own\",\"saving_accounts\":\"little\",\"checking_account\":\"moderate\",\"credit_amount\":1092,\"duration\":12,\"purpose\":\"radio\\/TV\",\"age\":49},{\"risk\":0,\"sex\":\"male\",\"job\":2,\"housing\":\"own\",\"saving_accounts\":\"little\",\"checking_account\":\"little\",\"credit_amount\":1024,\"duration\":24,\"purpose\":\"radio\\/TV\",\"age\":48},{\"risk\":1,\"sex\":\"male\",\"job\":2,\"housing\":\"own\",\"saving_accounts\":\"little\",\"checking_account\":\"not_known\",\"credit_amount\":1076,\"duration\":12,\"purpose\":\"business\",\"age\":26},{\"risk\":0,\"sex\":\"male\",\"job\":3,\"housing\":\"rent\",\"saving_accounts\":\"little\",\"checking_account\":\"moderate\",\"credit_amount\":9398,\"duration\":36,\"purpose\":\"car\",\"age\":28},{\"risk\":1,\"sex\":\"female\",\"job\":3,\"housing\":\"free\",\"saving_accounts\":\"little\",\"checking_account\":\"little\",\"credit_amount\":6419,\"duration\":24,\"purpose\":\"car\",\"age\":44},{\"risk\":1,\"sex\":\"male\",\"job\":2,\"housing\":\"free\",\"saving_accounts\":\"little\",\"checking_account\":\"rich\",\"credit_amount\":4796,\"duration\":42,\"purpose\":\"car\",\"age\":56},{\"risk\":1,\"sex\":\"male\",\"job\":3,\"housing\":\"own\",\"saving_accounts\":\"not_known\",\"checking_account\":\"not_known\",\"credit_amount\":7629,\"duration\":48,\"purpose\":\"business\",\"age\":46},{\"risk\":0,\"sex\":\"female\",\"job\":2,\"housing\":\"own\",\"saving_accounts\":\"little\",\"checking_account\":\"moderate\",\"credit_amount\":9960,\"duration\":48,\"purpose\":\"furniture\\/equipment\",\"age\":26},{\"risk\":1,\"sex\":\"female\",\"job\":2,\"housing\":\"rent\",\"saving_accounts\":\"not_known\",\"checking_account\":\"not_known\",\"credit_amount\":4675,\"duration\":12,\"purpose\":\"car\",\"age\":20},{\"risk\":1,\"sex\":\"male\",\"job\":1,\"housing\":\"own\",\"saving_accounts\":\"not_known\",\"checking_account\":\"not_known\",\"credit_amount\":1287,\"duration\":10,\"purpose\":\"car\",\"age\":45},{\"risk\":1,\"sex\":\"male\",\"job\":2,\"housing\":\"own\",\"saving_accounts\":\"little\",\"checking_account\":\"not_known\",\"credit_amount\":2515,\"duration\":18,\"purpose\":\"furniture\\/equipment\",\"age\":43},{\"risk\":1,\"sex\":\"male\",\"job\":2,\"housing\":\"own\",\"saving_accounts\":\"rich\",\"checking_account\":\"moderate\",\"credit_amount\":2745,\"duration\":21,\"purpose\":\"furniture\\/equipment\",\"age\":32},{\"risk\":1,\"sex\":\"female\",\"job\":0,\"housing\":\"own\",\"saving_accounts\":\"little\",\"checking_account\":\"not_known\",\"credit_amount\":672,\"duration\":6,\"purpose\":\"car\",\"age\":54},{\"risk\":0,\"sex\":\"female\",\"job\":2,\"housing\":\"own\",\"saving_accounts\":\"little\",\"checking_account\":\"moderate\",\"credit_amount\":3804,\"duration\":36,\"purpose\":\"radio\\/TV\",\"age\":42},{\"risk\":0,\"sex\":\"male\",\"job\":1,\"housing\":\"own\",\"saving_accounts\":\"not_known\",\"checking_account\":\"rich\",\"credit_amount\":1344,\"duration\":24,\"purpose\":\"car\",\"age\":37},{\"risk\":1,\"sex\":\"male\",\"job\":2,\"housing\":\"own\",\"saving_accounts\":\"little\",\"checking_account\":\"little\",\"credit_amount\":1038,\"duration\":10,\"purpose\":\"car\",\"age\":49},{\"risk\":0,\"sex\":\"male\",\"job\":2,\"housing\":\"free\",\"saving_accounts\":\"quite rich\",\"checking_account\":\"not_known\",\"credit_amount\":10127,\"duration\":48,\"purpose\":\"car\",\"age\":44},{\"risk\":1,\"sex\":\"male\",\"job\":2,\"housing\":\"own\",\"saving_accounts\":\"rich\",\"checking_account\":\"not_known\",\"credit_amount\":1543,\"duration\":6,\"purpose\":\"furniture\\/equipment\",\"age\":33},{\"risk\":1,\"sex\":\"female\",\"job\":1,\"housing\":\"rent\",\"saving_accounts\":\"not_known\",\"checking_account\":\"not_known\",\"credit_amount\":4811,\"duration\":30,\"purpose\":\"car\",\"age\":24},{\"risk\":0,\"sex\":\"male\",\"job\":1,\"housing\":\"own\",\"saving_accounts\":\"moderate\",\"checking_account\":\"little\",\"credit_amount\":727,\"duration\":12,\"purpose\":\"radio\\/TV\",\"age\":33},{\"risk\":0,\"sex\":\"female\",\"job\":2,\"housing\":\"own\",\"saving_accounts\":\"little\",\"checking_account\":\"moderate\",\"credit_amount\":1237,\"duration\":8,\"purpose\":\"furniture\\/equipment\",\"age\":24},{\"risk\":1,\"sex\":\"male\",\"job\":1,\"housing\":\"rent\",\"saving_accounts\":\"little\",\"checking_account\":\"moderate\",\"credit_amount\":276,\"duration\":9,\"purpose\":\"car\",\"age\":22},{\"risk\":1,\"sex\":\"male\",\"job\":0,\"housing\":\"free\",\"saving_accounts\":\"not_known\",\"checking_account\":\"moderate\",\"credit_amount\":5381,\"duration\":48,\"purpose\":\"vacation\\/others\",\"age\":40},{\"risk\":1,\"sex\":\"male\",\"job\":2,\"housing\":\"own\",\"saving_accounts\":\"moderate\",\"checking_account\":\"not_known\",\"credit_amount\":5511,\"duration\":24,\"purpose\":\"furniture\\/equipment\",\"age\":25},{\"risk\":1,\"sex\":\"female\",\"job\":2,\"housing\":\"own\",\"saving_accounts\":\"little\",\"checking_account\":\"rich\",\"credit_amount\":3749,\"duration\":24,\"purpose\":\"furniture\\/equipment\",\"age\":26},{\"risk\":0,\"sex\":\"male\",\"job\":1,\"housing\":\"own\",\"saving_accounts\":\"little\",\"checking_account\":\"moderate\",\"credit_amount\":685,\"duration\":12,\"purpose\":\"car\",\"age\":25},{\"risk\":1,\"sex\":\"male\",\"job\":1,\"housing\":\"own\",\"saving_accounts\":\"not_known\",\"checking_account\":\"rich\",\"credit_amount\":1494,\"duration\":4,\"purpose\":\"car\",\"age\":29},{\"risk\":0,\"sex\":\"male\",\"job\":2,\"housing\":\"own\",\"saving_accounts\":\"little\",\"checking_account\":\"little\",\"credit_amount\":2746,\"duration\":36,\"purpose\":\"furniture\\/equipment\",\"age\":31},{\"risk\":1,\"sex\":\"male\",\"job\":1,\"housing\":\"own\",\"saving_accounts\":\"little\",\"checking_account\":\"little\",\"credit_amount\":708,\"duration\":12,\"purpose\":\"furniture\\/equipment\",\"age\":38},{\"risk\":1,\"sex\":\"female\",\"job\":1,\"housing\":\"own\",\"saving_accounts\":\"not_known\",\"checking_account\":\"moderate\",\"credit_amount\":4351,\"duration\":24,\"purpose\":\"furniture\\/equipment\",\"age\":48},{\"risk\":1,\"sex\":\"male\",\"job\":2,\"housing\":\"own\",\"saving_accounts\":\"little\",\"checking_account\":\"not_known\",\"credit_amount\":701,\"duration\":12,\"purpose\":\"education\",\"age\":32},{\"risk\":1,\"sex\":\"female\",\"job\":1,\"housing\":\"own\",\"saving_accounts\":\"little\",\"checking_account\":\"little\",\"credit_amount\":3643,\"duration\":15,\"purpose\":\"furniture\\/equipment\",\"age\":27},{\"risk\":0,\"sex\":\"male\",\"job\":3,\"housing\":\"own\",\"saving_accounts\":\"little\",\"checking_account\":\"moderate\",\"credit_amount\":4249,\"duration\":30,\"purpose\":\"car\",\"age\":28},{\"risk\":0,\"sex\":\"male\",\"job\":2,\"housing\":\"own\",\"saving_accounts\":\"little\",\"checking_account\":\"little\",\"credit_amount\":1938,\"duration\":24,\"purpose\":\"radio\\/TV\",\"age\":32},{\"risk\":1,\"sex\":\"male\",\"job\":3,\"housing\":\"free\",\"saving_accounts\":\"little\",\"checking_account\":\"little\",\"credit_amount\":2910,\"duration\":24,\"purpose\":\"car\",\"age\":34},{\"risk\":1,\"sex\":\"male\",\"job\":2,\"housing\":\"own\",\"saving_accounts\":\"rich\",\"checking_account\":\"little\",\"credit_amount\":2659,\"duration\":18,\"purpose\":\"furniture\\/equipment\",\"age\":28},{\"risk\":1,\"sex\":\"female\",\"job\":2,\"housing\":\"own\",\"saving_accounts\":\"little\",\"checking_account\":\"not_known\",\"credit_amount\":1028,\"duration\":18,\"purpose\":\"car\",\"age\":36},{\"risk\":1,\"sex\":\"male\",\"job\":1,\"housing\":\"own\",\"saving_accounts\":\"little\",\"checking_account\":\"little\",\"credit_amount\":3398,\"duration\":8,\"purpose\":\"car\",\"age\":39},{\"risk\":1,\"sex\":\"male\",\"job\":2,\"housing\":\"rent\",\"saving_accounts\":\"not_known\",\"checking_account\":\"not_known\",\"credit_amount\":5801,\"duration\":12,\"purpose\":\"furniture\\/equipment\",\"age\":49},{\"risk\":1,\"sex\":\"female\",\"job\":2,\"housing\":\"own\",\"saving_accounts\":\"rich\",\"checking_account\":\"not_known\",\"credit_amount\":1525,\"duration\":24,\"purpose\":\"car\",\"age\":34},{\"risk\":1,\"sex\":\"male\",\"job\":2,\"housing\":\"own\",\"saving_accounts\":\"little\",\"checking_account\":\"rich\",\"credit_amount\":4473,\"duration\":36,\"purpose\":\"radio\\/TV\",\"age\":31},{\"risk\":1,\"sex\":\"male\",\"job\":2,\"housing\":\"own\",\"saving_accounts\":\"little\",\"checking_account\":\"moderate\",\"credit_amount\":1068,\"duration\":6,\"purpose\":\"radio\\/TV\",\"age\":28},{\"risk\":1,\"sex\":\"male\",\"job\":3,\"housing\":\"free\",\"saving_accounts\":\"little\",\"checking_account\":\"little\",\"credit_amount\":6615,\"duration\":24,\"purpose\":\"car\",\"age\":75},{\"risk\":0,\"sex\":\"female\",\"job\":2,\"housing\":\"own\",\"saving_accounts\":\"moderate\",\"checking_account\":\"not_known\",\"credit_amount\":1864,\"duration\":18,\"purpose\":\"education\",\"age\":30},{\"risk\":0,\"sex\":\"female\",\"job\":3,\"housing\":\"own\",\"saving_accounts\":\"moderate\",\"checking_account\":\"moderate\",\"credit_amount\":7408,\"duration\":60,\"purpose\":\"car\",\"age\":24},{\"risk\":0,\"sex\":\"female\",\"job\":1,\"housing\":\"rent\",\"saving_accounts\":\"moderate\",\"checking_account\":\"not_known\",\"credit_amount\":11590,\"duration\":48,\"purpose\":\"car\",\"age\":24},{\"risk\":0,\"sex\":\"male\",\"job\":2,\"housing\":\"rent\",\"saving_accounts\":\"little\",\"checking_account\":\"little\",\"credit_amount\":4110,\"duration\":24,\"purpose\":\"furniture\\/equipment\",\"age\":23},{\"risk\":0,\"sex\":\"male\",\"job\":3,\"housing\":\"rent\",\"saving_accounts\":\"little\",\"checking_account\":\"little\",\"credit_amount\":3384,\"duration\":6,\"purpose\":\"furniture\\/equipment\",\"age\":44},{\"risk\":1,\"sex\":\"female\",\"job\":1,\"housing\":\"own\",\"saving_accounts\":\"little\",\"checking_account\":\"moderate\",\"credit_amount\":2101,\"duration\":13,\"purpose\":\"radio\\/TV\",\"age\":23},{\"risk\":0,\"sex\":\"female\",\"job\":2,\"housing\":\"rent\",\"saving_accounts\":\"not_known\",\"checking_account\":\"little\",\"credit_amount\":1275,\"duration\":15,\"purpose\":\"domestic appliances\",\"age\":24},{\"risk\":1,\"sex\":\"male\",\"job\":2,\"housing\":\"own\",\"saving_accounts\":\"little\",\"checking_account\":\"little\",\"credit_amount\":4169,\"duration\":24,\"purpose\":\"furniture\\/equipment\",\"age\":28},{\"risk\":1,\"sex\":\"male\",\"job\":1,\"housing\":\"own\",\"saving_accounts\":\"little\",\"checking_account\":\"moderate\",\"credit_amount\":1521,\"duration\":10,\"purpose\":\"furniture\\/equipment\",\"age\":31},{\"risk\":1,\"sex\":\"female\",\"job\":2,\"housing\":\"free\",\"saving_accounts\":\"little\",\"checking_account\":\"moderate\",\"credit_amount\":5743,\"duration\":24,\"purpose\":\"education\",\"age\":24},{\"risk\":1,\"sex\":\"female\",\"job\":1,\"housing\":\"rent\",\"saving_accounts\":\"little\",\"checking_account\":\"little\",\"credit_amount\":3599,\"duration\":21,\"purpose\":\"furniture\\/equipment\",\"age\":26},{\"risk\":1,\"sex\":\"male\",\"job\":2,\"housing\":\"rent\",\"saving_accounts\":\"quite rich\",\"checking_account\":\"moderate\",\"credit_amount\":3213,\"duration\":18,\"purpose\":\"radio\\/TV\",\"age\":25},{\"risk\":1,\"sex\":\"male\",\"job\":3,\"housing\":\"own\",\"saving_accounts\":\"little\",\"checking_account\":\"moderate\",\"credit_amount\":4439,\"duration\":18,\"purpose\":\"business\",\"age\":33},{\"risk\":1,\"sex\":\"male\",\"job\":1,\"housing\":\"own\",\"saving_accounts\":\"little\",\"checking_account\":\"rich\",\"credit_amount\":3949,\"duration\":10,\"purpose\":\"car\",\"age\":37},{\"risk\":1,\"sex\":\"female\",\"job\":1,\"housing\":\"own\",\"saving_accounts\":\"little\",\"checking_account\":\"not_known\",\"credit_amount\":1459,\"duration\":15,\"purpose\":\"radio\\/TV\",\"age\":43},{\"risk\":1,\"sex\":\"male\",\"job\":2,\"housing\":\"own\",\"saving_accounts\":\"little\",\"checking_account\":\"moderate\",\"credit_amount\":882,\"duration\":13,\"purpose\":\"radio\\/TV\",\"age\":23},{\"risk\":1,\"sex\":\"female\",\"job\":0,\"housing\":\"rent\",\"saving_accounts\":\"quite rich\",\"checking_account\":\"moderate\",\"credit_amount\":3758,\"duration\":24,\"purpose\":\"radio\\/TV\",\"age\":23},{\"risk\":1,\"sex\":\"male\",\"job\":1,\"housing\":\"own\",\"saving_accounts\":\"moderate\",\"checking_account\":\"not_known\",\"credit_amount\":1743,\"duration\":6,\"purpose\":\"business\",\"age\":34},{\"risk\":0,\"sex\":\"male\",\"job\":2,\"housing\":\"free\",\"saving_accounts\":\"rich\",\"checking_account\":\"moderate\",\"credit_amount\":1136,\"duration\":9,\"purpose\":\"education\",\"age\":32},{\"risk\":1,\"sex\":\"female\",\"job\":2,\"housing\":\"rent\",\"saving_accounts\":\"little\",\"checking_account\":\"not_known\",\"credit_amount\":1236,\"duration\":9,\"purpose\":\"domestic appliances\",\"age\":23},{\"risk\":0,\"sex\":\"female\",\"job\":2,\"housing\":\"own\",\"saving_accounts\":\"little\",\"checking_account\":\"moderate\",\"credit_amount\":959,\"duration\":9,\"purpose\":\"furniture\\/equipment\",\"age\":29},{\"risk\":1,\"sex\":\"male\",\"job\":3,\"housing\":\"own\",\"saving_accounts\":\"not_known\",\"checking_account\":\"not_known\",\"credit_amount\":3229,\"duration\":18,\"purpose\":\"car\",\"age\":38},{\"risk\":0,\"sex\":\"male\",\"job\":2,\"housing\":\"rent\",\"saving_accounts\":\"little\",\"checking_account\":\"little\",\"credit_amount\":6199,\"duration\":12,\"purpose\":\"radio\\/TV\",\"age\":28},{\"risk\":1,\"sex\":\"male\",\"job\":2,\"housing\":\"free\",\"saving_accounts\":\"quite rich\",\"checking_account\":\"not_known\",\"credit_amount\":727,\"duration\":10,\"purpose\":\"education\",\"age\":46},{\"risk\":0,\"sex\":\"male\",\"job\":1,\"housing\":\"own\",\"saving_accounts\":\"little\",\"checking_account\":\"moderate\",\"credit_amount\":1246,\"duration\":24,\"purpose\":\"car\",\"age\":23},{\"risk\":1,\"sex\":\"male\",\"job\":2,\"housing\":\"own\",\"saving_accounts\":\"not_known\",\"checking_account\":\"not_known\",\"credit_amount\":2331,\"duration\":12,\"purpose\":\"radio\\/TV\",\"age\":49},{\"risk\":0,\"sex\":\"male\",\"job\":3,\"housing\":\"own\",\"saving_accounts\":\"little\",\"checking_account\":\"not_known\",\"credit_amount\":4463,\"duration\":36,\"purpose\":\"radio\\/TV\",\"age\":26},{\"risk\":1,\"sex\":\"male\",\"job\":2,\"housing\":\"own\",\"saving_accounts\":\"little\",\"checking_account\":\"not_known\",\"credit_amount\":776,\"duration\":12,\"purpose\":\"radio\\/TV\",\"age\":28},{\"risk\":0,\"sex\":\"female\",\"job\":2,\"housing\":\"rent\",\"saving_accounts\":\"little\",\"checking_account\":\"little\",\"credit_amount\":2406,\"duration\":30,\"purpose\":\"furniture\\/equipment\",\"age\":23},{\"risk\":1,\"sex\":\"male\",\"job\":2,\"housing\":\"free\",\"saving_accounts\":\"not_known\",\"checking_account\":\"moderate\",\"credit_amount\":1239,\"duration\":18,\"purpose\":\"education\",\"age\":61},{\"risk\":1,\"sex\":\"male\",\"job\":3,\"housing\":\"own\",\"saving_accounts\":\"not_known\",\"checking_account\":\"rich\",\"credit_amount\":3399,\"duration\":12,\"purpose\":\"radio\\/TV\",\"age\":37},{\"risk\":1,\"sex\":\"female\",\"job\":2,\"housing\":\"own\",\"saving_accounts\":\"little\",\"checking_account\":\"rich\",\"credit_amount\":2247,\"duration\":12,\"purpose\":\"car\",\"age\":36},{\"risk\":1,\"sex\":\"male\",\"job\":2,\"housing\":\"rent\",\"saving_accounts\":\"little\",\"checking_account\":\"not_known\",\"credit_amount\":1766,\"duration\":6,\"purpose\":\"furniture\\/equipment\",\"age\":21},{\"risk\":0,\"sex\":\"male\",\"job\":0,\"housing\":\"own\",\"saving_accounts\":\"little\",\"checking_account\":\"little\",\"credit_amount\":2473,\"duration\":18,\"purpose\":\"furniture\\/equipment\",\"age\":25},{\"risk\":1,\"sex\":\"male\",\"job\":2,\"housing\":\"own\",\"saving_accounts\":\"little\",\"checking_account\":\"not_known\",\"credit_amount\":1542,\"duration\":12,\"purpose\":\"business\",\"age\":36},{\"risk\":1,\"sex\":\"male\",\"job\":2,\"housing\":\"own\",\"saving_accounts\":\"little\",\"checking_account\":\"not_known\",\"credit_amount\":3850,\"duration\":18,\"purpose\":\"car\",\"age\":27},{\"risk\":1,\"sex\":\"female\",\"job\":2,\"housing\":\"rent\",\"saving_accounts\":\"little\",\"checking_account\":\"little\",\"credit_amount\":3650,\"duration\":18,\"purpose\":\"furniture\\/equipment\",\"age\":22},{\"risk\":0,\"sex\":\"male\",\"job\":2,\"housing\":\"own\",\"saving_accounts\":\"little\",\"checking_account\":\"little\",\"credit_amount\":3446,\"duration\":36,\"purpose\":\"furniture\\/equipment\",\"age\":42},{\"risk\":1,\"sex\":\"female\",\"job\":2,\"housing\":\"rent\",\"saving_accounts\":\"little\",\"checking_account\":\"moderate\",\"credit_amount\":3001,\"duration\":18,\"purpose\":\"furniture\\/equipment\",\"age\":40},{\"risk\":1,\"sex\":\"male\",\"job\":2,\"housing\":\"own\",\"saving_accounts\":\"not_known\",\"checking_account\":\"not_known\",\"credit_amount\":3079,\"duration\":36,\"purpose\":\"car\",\"age\":36},{\"risk\":1,\"sex\":\"male\",\"job\":2,\"housing\":\"own\",\"saving_accounts\":\"little\",\"checking_account\":\"not_known\",\"credit_amount\":6070,\"duration\":18,\"purpose\":\"radio\\/TV\",\"age\":33},{\"risk\":1,\"sex\":\"female\",\"job\":2,\"housing\":\"rent\",\"saving_accounts\":\"little\",\"checking_account\":\"not_known\",\"credit_amount\":2146,\"duration\":10,\"purpose\":\"furniture\\/equipment\",\"age\":23},{\"risk\":1,\"sex\":\"male\",\"job\":3,\"housing\":\"free\",\"saving_accounts\":\"not_known\",\"checking_account\":\"not_known\",\"credit_amount\":13756,\"duration\":60,\"purpose\":\"car\",\"age\":63},{\"risk\":0,\"sex\":\"female\",\"job\":3,\"housing\":\"free\",\"saving_accounts\":\"moderate\",\"checking_account\":\"moderate\",\"credit_amount\":14782,\"duration\":60,\"purpose\":\"vacation\\/others\",\"age\":60},{\"risk\":0,\"sex\":\"female\",\"job\":2,\"housing\":\"rent\",\"saving_accounts\":\"little\",\"checking_account\":\"little\",\"credit_amount\":7685,\"duration\":48,\"purpose\":\"business\",\"age\":37},{\"risk\":1,\"sex\":\"male\",\"job\":2,\"housing\":\"own\",\"saving_accounts\":\"little\",\"checking_account\":\"not_known\",\"credit_amount\":2320,\"duration\":18,\"purpose\":\"radio\\/TV\",\"age\":34},{\"risk\":1,\"sex\":\"male\",\"job\":2,\"housing\":\"free\",\"saving_accounts\":\"not_known\",\"checking_account\":\"not_known\",\"credit_amount\":846,\"duration\":7,\"purpose\":\"radio\\/TV\",\"age\":36},{\"risk\":0,\"sex\":\"male\",\"job\":3,\"housing\":\"free\",\"saving_accounts\":\"little\",\"checking_account\":\"moderate\",\"credit_amount\":14318,\"duration\":36,\"purpose\":\"car\",\"age\":57},{\"risk\":1,\"sex\":\"female\",\"job\":1,\"housing\":\"own\",\"saving_accounts\":\"moderate\",\"checking_account\":\"not_known\",\"credit_amount\":362,\"duration\":6,\"purpose\":\"car\",\"age\":52},{\"risk\":1,\"sex\":\"male\",\"job\":2,\"housing\":\"own\",\"saving_accounts\":\"not_known\",\"checking_account\":\"little\",\"credit_amount\":2212,\"duration\":20,\"purpose\":\"furniture\\/equipment\",\"age\":39},{\"risk\":0,\"sex\":\"female\",\"job\":3,\"housing\":\"free\",\"saving_accounts\":\"little\",\"checking_account\":\"moderate\",\"credit_amount\":12976,\"duration\":18,\"purpose\":\"car\",\"age\":38},{\"risk\":1,\"sex\":\"female\",\"job\":2,\"housing\":\"rent\",\"saving_accounts\":\"not_known\",\"checking_account\":\"not_known\",\"credit_amount\":1283,\"duration\":22,\"purpose\":\"car\",\"age\":25},{\"risk\":1,\"sex\":\"male\",\"job\":2,\"housing\":\"own\",\"saving_accounts\":\"little\",\"checking_account\":\"rich\",\"credit_amount\":1330,\"duration\":12,\"purpose\":\"car\",\"age\":26},{\"risk\":1,\"sex\":\"male\",\"job\":1,\"housing\":\"own\",\"saving_accounts\":\"moderate\",\"checking_account\":\"not_known\",\"credit_amount\":4272,\"duration\":30,\"purpose\":\"business\",\"age\":26},{\"risk\":1,\"sex\":\"female\",\"job\":2,\"housing\":\"own\",\"saving_accounts\":\"little\",\"checking_account\":\"not_known\",\"credit_amount\":2238,\"duration\":18,\"purpose\":\"radio\\/TV\",\"age\":25},{\"risk\":1,\"sex\":\"female\",\"job\":2,\"housing\":\"rent\",\"saving_accounts\":\"not_known\",\"checking_account\":\"not_known\",\"credit_amount\":1126,\"duration\":18,\"purpose\":\"radio\\/TV\",\"age\":21},{\"risk\":1,\"sex\":\"male\",\"job\":3,\"housing\":\"own\",\"saving_accounts\":\"little\",\"checking_account\":\"moderate\",\"credit_amount\":7374,\"duration\":18,\"purpose\":\"furniture\\/equipment\",\"age\":40},{\"risk\":1,\"sex\":\"male\",\"job\":2,\"housing\":\"own\",\"saving_accounts\":\"quite rich\",\"checking_account\":\"moderate\",\"credit_amount\":2326,\"duration\":15,\"purpose\":\"business\",\"age\":27},{\"risk\":1,\"sex\":\"female\",\"job\":2,\"housing\":\"own\",\"saving_accounts\":\"little\",\"checking_account\":\"not_known\",\"credit_amount\":1449,\"duration\":9,\"purpose\":\"business\",\"age\":27},{\"risk\":1,\"sex\":\"male\",\"job\":3,\"housing\":\"own\",\"saving_accounts\":\"little\",\"checking_account\":\"not_known\",\"credit_amount\":1820,\"duration\":18,\"purpose\":\"car\",\"age\":30},{\"risk\":1,\"sex\":\"female\",\"job\":1,\"housing\":\"rent\",\"saving_accounts\":\"rich\",\"checking_account\":\"moderate\",\"credit_amount\":983,\"duration\":12,\"purpose\":\"furniture\\/equipment\",\"age\":19},{\"risk\":1,\"sex\":\"male\",\"job\":3,\"housing\":\"free\",\"saving_accounts\":\"little\",\"checking_account\":\"little\",\"credit_amount\":3249,\"duration\":36,\"purpose\":\"car\",\"age\":39},{\"risk\":1,\"sex\":\"female\",\"job\":2,\"housing\":\"own\",\"saving_accounts\":\"little\",\"checking_account\":\"little\",\"credit_amount\":1957,\"duration\":6,\"purpose\":\"radio\\/TV\",\"age\":31},{\"risk\":1,\"sex\":\"male\",\"job\":3,\"housing\":\"own\",\"saving_accounts\":\"little\",\"checking_account\":\"not_known\",\"credit_amount\":2406,\"duration\":9,\"purpose\":\"furniture\\/equipment\",\"age\":31},{\"risk\":1,\"sex\":\"male\",\"job\":2,\"housing\":\"rent\",\"saving_accounts\":\"moderate\",\"checking_account\":\"moderate\",\"credit_amount\":11760,\"duration\":39,\"purpose\":\"education\",\"age\":32},{\"risk\":1,\"sex\":\"female\",\"job\":3,\"housing\":\"free\",\"saving_accounts\":\"little\",\"checking_account\":\"little\",\"credit_amount\":2578,\"duration\":12,\"purpose\":\"furniture\\/equipment\",\"age\":55},{\"risk\":1,\"sex\":\"male\",\"job\":2,\"housing\":\"own\",\"saving_accounts\":\"little\",\"checking_account\":\"little\",\"credit_amount\":2348,\"duration\":36,\"purpose\":\"furniture\\/equipment\",\"age\":46},{\"risk\":0,\"sex\":\"male\",\"job\":2,\"housing\":\"rent\",\"saving_accounts\":\"little\",\"checking_account\":\"moderate\",\"credit_amount\":1223,\"duration\":12,\"purpose\":\"car\",\"age\":46},{\"risk\":1,\"sex\":\"female\",\"job\":1,\"housing\":\"own\",\"saving_accounts\":\"rich\",\"checking_account\":\"not_known\",\"credit_amount\":1516,\"duration\":24,\"purpose\":\"radio\\/TV\",\"age\":43},{\"risk\":1,\"sex\":\"male\",\"job\":2,\"housing\":\"own\",\"saving_accounts\":\"little\",\"checking_account\":\"not_known\",\"credit_amount\":1473,\"duration\":18,\"purpose\":\"radio\\/TV\",\"age\":39},{\"risk\":1,\"sex\":\"male\",\"job\":2,\"housing\":\"own\",\"saving_accounts\":\"not_known\",\"checking_account\":\"moderate\",\"credit_amount\":1887,\"duration\":18,\"purpose\":\"business\",\"age\":28},{\"risk\":0,\"sex\":\"male\",\"job\":2,\"housing\":\"own\",\"saving_accounts\":\"little\",\"checking_account\":\"not_known\",\"credit_amount\":8648,\"duration\":24,\"purpose\":\"business\",\"age\":27},{\"risk\":1,\"sex\":\"male\",\"job\":1,\"housing\":\"own\",\"saving_accounts\":\"little\",\"checking_account\":\"not_known\",\"credit_amount\":802,\"duration\":14,\"purpose\":\"car\",\"age\":27},{\"risk\":1,\"sex\":\"male\",\"job\":2,\"housing\":\"own\",\"saving_accounts\":\"not_known\",\"checking_account\":\"moderate\",\"credit_amount\":2899,\"duration\":18,\"purpose\":\"car\",\"age\":43},{\"risk\":0,\"sex\":\"male\",\"job\":2,\"housing\":\"own\",\"saving_accounts\":\"little\",\"checking_account\":\"moderate\",\"credit_amount\":2039,\"duration\":24,\"purpose\":\"radio\\/TV\",\"age\":22},{\"risk\":1,\"sex\":\"male\",\"job\":2,\"housing\":\"own\",\"saving_accounts\":\"not_known\",\"checking_account\":\"not_known\",\"credit_amount\":2197,\"duration\":24,\"purpose\":\"car\",\"age\":43},{\"risk\":1,\"sex\":\"male\",\"job\":2,\"housing\":\"own\",\"saving_accounts\":\"little\",\"checking_account\":\"little\",\"credit_amount\":1053,\"duration\":15,\"purpose\":\"radio\\/TV\",\"age\":27},{\"risk\":1,\"sex\":\"male\",\"job\":3,\"housing\":\"own\",\"saving_accounts\":\"quite rich\",\"checking_account\":\"not_known\",\"credit_amount\":3235,\"duration\":24,\"purpose\":\"radio\\/TV\",\"age\":26},{\"risk\":0,\"sex\":\"male\",\"job\":2,\"housing\":\"own\",\"saving_accounts\":\"quite rich\",\"checking_account\":\"rich\",\"credit_amount\":939,\"duration\":12,\"purpose\":\"car\",\"age\":28},{\"risk\":1,\"sex\":\"female\",\"job\":2,\"housing\":\"own\",\"saving_accounts\":\"little\",\"checking_account\":\"moderate\",\"credit_amount\":1967,\"duration\":24,\"purpose\":\"radio\\/TV\",\"age\":20},{\"risk\":1,\"sex\":\"male\",\"job\":3,\"housing\":\"own\",\"saving_accounts\":\"little\",\"checking_account\":\"not_known\",\"credit_amount\":7253,\"duration\":33,\"purpose\":\"car\",\"age\":35},{\"risk\":0,\"sex\":\"male\",\"job\":3,\"housing\":\"own\",\"saving_accounts\":\"little\",\"checking_account\":\"not_known\",\"credit_amount\":2292,\"duration\":12,\"purpose\":\"business\",\"age\":42},{\"risk\":1,\"sex\":\"male\",\"job\":1,\"housing\":\"rent\",\"saving_accounts\":\"quite rich\",\"checking_account\":\"not_known\",\"credit_amount\":1597,\"duration\":10,\"purpose\":\"car\",\"age\":40},{\"risk\":0,\"sex\":\"female\",\"job\":2,\"housing\":\"own\",\"saving_accounts\":\"not_known\",\"checking_account\":\"little\",\"credit_amount\":1381,\"duration\":24,\"purpose\":\"car\",\"age\":35},{\"risk\":1,\"sex\":\"male\",\"job\":2,\"housing\":\"own\",\"saving_accounts\":\"little\",\"checking_account\":\"not_known\",\"credit_amount\":5842,\"duration\":36,\"purpose\":\"car\",\"age\":35},{\"risk\":0,\"sex\":\"male\",\"job\":1,\"housing\":\"own\",\"saving_accounts\":\"little\",\"checking_account\":\"little\",\"credit_amount\":2579,\"duration\":12,\"purpose\":\"car\",\"age\":33},{\"risk\":1,\"sex\":\"female\",\"job\":2,\"housing\":\"rent\",\"saving_accounts\":\"not_known\",\"checking_account\":\"little\",\"credit_amount\":8471,\"duration\":18,\"purpose\":\"education\",\"age\":23},{\"risk\":1,\"sex\":\"female\",\"job\":3,\"housing\":\"own\",\"saving_accounts\":\"quite rich\",\"checking_account\":\"not_known\",\"credit_amount\":2782,\"duration\":21,\"purpose\":\"car\",\"age\":31},{\"risk\":0,\"sex\":\"female\",\"job\":2,\"housing\":\"own\",\"saving_accounts\":\"not_known\",\"checking_account\":\"moderate\",\"credit_amount\":1042,\"duration\":18,\"purpose\":\"car\",\"age\":33},{\"risk\":1,\"sex\":\"female\",\"job\":2,\"housing\":\"rent\",\"saving_accounts\":\"rich\",\"checking_account\":\"not_known\",\"credit_amount\":3186,\"duration\":15,\"purpose\":\"car\",\"age\":20},{\"risk\":1,\"sex\":\"male\",\"job\":2,\"housing\":\"own\",\"saving_accounts\":\"not_known\",\"checking_account\":\"moderate\",\"credit_amount\":2028,\"duration\":12,\"purpose\":\"car\",\"age\":30},{\"risk\":1,\"sex\":\"male\",\"job\":1,\"housing\":\"own\",\"saving_accounts\":\"little\",\"checking_account\":\"moderate\",\"credit_amount\":958,\"duration\":12,\"purpose\":\"car\",\"age\":47},{\"risk\":1,\"sex\":\"male\",\"job\":3,\"housing\":\"own\",\"saving_accounts\":\"moderate\",\"checking_account\":\"not_known\",\"credit_amount\":1591,\"duration\":21,\"purpose\":\"furniture\\/equipment\",\"age\":34},{\"risk\":0,\"sex\":\"female\",\"job\":2,\"housing\":\"own\",\"saving_accounts\":\"not_known\",\"checking_account\":\"moderate\",\"credit_amount\":2762,\"duration\":12,\"purpose\":\"furniture\\/equipment\",\"age\":25},{\"risk\":1,\"sex\":\"male\",\"job\":2,\"housing\":\"rent\",\"saving_accounts\":\"little\",\"checking_account\":\"moderate\",\"credit_amount\":2779,\"duration\":18,\"purpose\":\"car\",\"age\":21},{\"risk\":1,\"sex\":\"male\",\"job\":2,\"housing\":\"own\",\"saving_accounts\":\"little\",\"checking_account\":\"not_known\",\"credit_amount\":2743,\"duration\":28,\"purpose\":\"radio\\/TV\",\"age\":29},{\"risk\":1,\"sex\":\"male\",\"job\":2,\"housing\":\"own\",\"saving_accounts\":\"rich\",\"checking_account\":\"not_known\",\"credit_amount\":1149,\"duration\":18,\"purpose\":\"radio\\/TV\",\"age\":46},{\"risk\":1,\"sex\":\"male\",\"job\":2,\"housing\":\"own\",\"saving_accounts\":\"little\",\"checking_account\":\"not_known\",\"credit_amount\":1313,\"duration\":9,\"purpose\":\"furniture\\/equipment\",\"age\":20},{\"risk\":0,\"sex\":\"female\",\"job\":0,\"housing\":\"free\",\"saving_accounts\":\"little\",\"checking_account\":\"little\",\"credit_amount\":1190,\"duration\":18,\"purpose\":\"repairs\",\"age\":55},{\"risk\":1,\"sex\":\"male\",\"job\":1,\"housing\":\"own\",\"saving_accounts\":\"little\",\"checking_account\":\"not_known\",\"credit_amount\":3448,\"duration\":5,\"purpose\":\"business\",\"age\":74},{\"risk\":0,\"sex\":\"male\",\"job\":3,\"housing\":\"own\",\"saving_accounts\":\"little\",\"checking_account\":\"moderate\",\"credit_amount\":11328,\"duration\":24,\"purpose\":\"vacation\\/others\",\"age\":29},{\"risk\":1,\"sex\":\"male\",\"job\":3,\"housing\":\"free\",\"saving_accounts\":\"little\",\"checking_account\":\"little\",\"credit_amount\":1872,\"duration\":6,\"purpose\":\"furniture\\/equipment\",\"age\":36},{\"risk\":1,\"sex\":\"male\",\"job\":2,\"housing\":\"own\",\"saving_accounts\":\"little\",\"checking_account\":\"not_known\",\"credit_amount\":2058,\"duration\":24,\"purpose\":\"repairs\",\"age\":33},{\"risk\":1,\"sex\":\"male\",\"job\":2,\"housing\":\"own\",\"saving_accounts\":\"little\",\"checking_account\":\"little\",\"credit_amount\":2136,\"duration\":9,\"purpose\":\"furniture\\/equipment\",\"age\":25},{\"risk\":0,\"sex\":\"male\",\"job\":2,\"housing\":\"own\",\"saving_accounts\":\"not_known\",\"checking_account\":\"moderate\",\"credit_amount\":1484,\"duration\":12,\"purpose\":\"radio\\/TV\",\"age\":25},{\"risk\":1,\"sex\":\"male\",\"job\":1,\"housing\":\"rent\",\"saving_accounts\":\"quite rich\",\"checking_account\":\"not_known\",\"credit_amount\":660,\"duration\":6,\"purpose\":\"repairs\",\"age\":23},{\"risk\":1,\"sex\":\"female\",\"job\":2,\"housing\":\"own\",\"saving_accounts\":\"rich\",\"checking_account\":\"not_known\",\"credit_amount\":1287,\"duration\":24,\"purpose\":\"car\",\"age\":37},{\"risk\":1,\"sex\":\"male\",\"job\":0,\"housing\":\"own\",\"saving_accounts\":\"little\",\"checking_account\":\"little\",\"credit_amount\":3394,\"duration\":42,\"purpose\":\"repairs\",\"age\":65},{\"risk\":0,\"sex\":\"female\",\"job\":0,\"housing\":\"own\",\"saving_accounts\":\"little\",\"checking_account\":\"rich\",\"credit_amount\":609,\"duration\":12,\"purpose\":\"business\",\"age\":26},{\"risk\":1,\"sex\":\"male\",\"job\":3,\"housing\":\"own\",\"saving_accounts\":\"little\",\"checking_account\":\"not_known\",\"credit_amount\":1884,\"duration\":12,\"purpose\":\"car\",\"age\":39},{\"risk\":1,\"sex\":\"female\",\"job\":2,\"housing\":\"own\",\"saving_accounts\":\"little\",\"checking_account\":\"little\",\"credit_amount\":1620,\"duration\":12,\"purpose\":\"furniture\\/equipment\",\"age\":30},{\"risk\":1,\"sex\":\"male\",\"job\":2,\"housing\":\"own\",\"saving_accounts\":\"little\",\"checking_account\":\"moderate\",\"credit_amount\":2629,\"duration\":20,\"purpose\":\"vacation\\/others\",\"age\":29},{\"risk\":0,\"sex\":\"male\",\"job\":1,\"housing\":\"own\",\"saving_accounts\":\"little\",\"checking_account\":\"not_known\",\"credit_amount\":719,\"duration\":12,\"purpose\":\"education\",\"age\":41},{\"risk\":0,\"sex\":\"female\",\"job\":3,\"housing\":\"own\",\"saving_accounts\":\"little\",\"checking_account\":\"moderate\",\"credit_amount\":5096,\"duration\":48,\"purpose\":\"furniture\\/equipment\",\"age\":30},{\"risk\":1,\"sex\":\"female\",\"job\":1,\"housing\":\"rent\",\"saving_accounts\":\"not_known\",\"checking_account\":\"not_known\",\"credit_amount\":1244,\"duration\":9,\"purpose\":\"education\",\"age\":41},{\"risk\":0,\"sex\":\"female\",\"job\":2,\"housing\":\"own\",\"saving_accounts\":\"little\",\"checking_account\":\"little\",\"credit_amount\":1842,\"duration\":36,\"purpose\":\"car\",\"age\":34},{\"risk\":1,\"sex\":\"male\",\"job\":2,\"housing\":\"own\",\"saving_accounts\":\"little\",\"checking_account\":\"moderate\",\"credit_amount\":2576,\"duration\":7,\"purpose\":\"radio\\/TV\",\"age\":35},{\"risk\":1,\"sex\":\"female\",\"job\":3,\"housing\":\"own\",\"saving_accounts\":\"not_known\",\"checking_account\":\"rich\",\"credit_amount\":1424,\"duration\":12,\"purpose\":\"furniture\\/equipment\",\"age\":55},{\"risk\":0,\"sex\":\"male\",\"job\":2,\"housing\":\"own\",\"saving_accounts\":\"rich\",\"checking_account\":\"moderate\",\"credit_amount\":1512,\"duration\":15,\"purpose\":\"repairs\",\"age\":61},{\"risk\":1,\"sex\":\"male\",\"job\":3,\"housing\":\"own\",\"saving_accounts\":\"not_known\",\"checking_account\":\"not_known\",\"credit_amount\":11054,\"duration\":36,\"purpose\":\"car\",\"age\":30},{\"risk\":1,\"sex\":\"female\",\"job\":2,\"housing\":\"own\",\"saving_accounts\":\"little\",\"checking_account\":\"not_known\",\"credit_amount\":518,\"duration\":6,\"purpose\":\"radio\\/TV\",\"age\":29},{\"risk\":1,\"sex\":\"male\",\"job\":2,\"housing\":\"own\",\"saving_accounts\":\"little\",\"checking_account\":\"not_known\",\"credit_amount\":2759,\"duration\":12,\"purpose\":\"furniture\\/equipment\",\"age\":34},{\"risk\":1,\"sex\":\"male\",\"job\":3,\"housing\":\"own\",\"saving_accounts\":\"little\",\"checking_account\":\"not_known\",\"credit_amount\":2670,\"duration\":24,\"purpose\":\"car\",\"age\":35},{\"risk\":0,\"sex\":\"male\",\"job\":2,\"housing\":\"own\",\"saving_accounts\":\"little\",\"checking_account\":\"little\",\"credit_amount\":4817,\"duration\":24,\"purpose\":\"car\",\"age\":31},{\"risk\":1,\"sex\":\"female\",\"job\":3,\"housing\":\"own\",\"saving_accounts\":\"little\",\"checking_account\":\"not_known\",\"credit_amount\":2679,\"duration\":24,\"purpose\":\"car\",\"age\":29},{\"risk\":1,\"sex\":\"male\",\"job\":2,\"housing\":\"rent\",\"saving_accounts\":\"little\",\"checking_account\":\"little\",\"credit_amount\":3905,\"duration\":11,\"purpose\":\"car\",\"age\":36},{\"risk\":0,\"sex\":\"male\",\"job\":2,\"housing\":\"free\",\"saving_accounts\":\"little\",\"checking_account\":\"little\",\"credit_amount\":3386,\"duration\":12,\"purpose\":\"car\",\"age\":35},{\"risk\":1,\"sex\":\"female\",\"job\":2,\"housing\":\"own\",\"saving_accounts\":\"little\",\"checking_account\":\"little\",\"credit_amount\":343,\"duration\":6,\"purpose\":\"domestic appliances\",\"age\":27},{\"risk\":1,\"sex\":\"male\",\"job\":2,\"housing\":\"own\",\"saving_accounts\":\"little\",\"checking_account\":\"not_known\",\"credit_amount\":4594,\"duration\":18,\"purpose\":\"radio\\/TV\",\"age\":32},{\"risk\":1,\"sex\":\"male\",\"job\":2,\"housing\":\"own\",\"saving_accounts\":\"little\",\"checking_account\":\"little\",\"credit_amount\":3620,\"duration\":36,\"purpose\":\"furniture\\/equipment\",\"age\":37},{\"risk\":1,\"sex\":\"male\",\"job\":2,\"housing\":\"own\",\"saving_accounts\":\"little\",\"checking_account\":\"little\",\"credit_amount\":1721,\"duration\":15,\"purpose\":\"car\",\"age\":36},{\"risk\":1,\"sex\":\"female\",\"job\":3,\"housing\":\"rent\",\"saving_accounts\":\"little\",\"checking_account\":\"moderate\",\"credit_amount\":3017,\"duration\":12,\"purpose\":\"furniture\\/equipment\",\"age\":34},{\"risk\":1,\"sex\":\"male\",\"job\":2,\"housing\":\"own\",\"saving_accounts\":\"not_known\",\"checking_account\":\"moderate\",\"credit_amount\":754,\"duration\":12,\"purpose\":\"education\",\"age\":38},{\"risk\":1,\"sex\":\"male\",\"job\":2,\"housing\":\"own\",\"saving_accounts\":\"little\",\"checking_account\":\"not_known\",\"credit_amount\":1950,\"duration\":18,\"purpose\":\"business\",\"age\":34},{\"risk\":1,\"sex\":\"male\",\"job\":2,\"housing\":\"own\",\"saving_accounts\":\"little\",\"checking_account\":\"little\",\"credit_amount\":2924,\"duration\":24,\"purpose\":\"car\",\"age\":63},{\"risk\":0,\"sex\":\"female\",\"job\":1,\"housing\":\"rent\",\"saving_accounts\":\"little\",\"checking_account\":\"little\",\"credit_amount\":1659,\"duration\":24,\"purpose\":\"radio\\/TV\",\"age\":29},{\"risk\":1,\"sex\":\"male\",\"job\":2,\"housing\":\"own\",\"saving_accounts\":\"not_known\",\"checking_account\":\"not_known\",\"credit_amount\":7238,\"duration\":48,\"purpose\":\"radio\\/TV\",\"age\":32},{\"risk\":1,\"sex\":\"female\",\"job\":2,\"housing\":\"own\",\"saving_accounts\":\"little\",\"checking_account\":\"not_known\",\"credit_amount\":2764,\"duration\":33,\"purpose\":\"business\",\"age\":26},{\"risk\":1,\"sex\":\"male\",\"job\":1,\"housing\":\"own\",\"saving_accounts\":\"little\",\"checking_account\":\"not_known\",\"credit_amount\":4679,\"duration\":24,\"purpose\":\"car\",\"age\":35},{\"risk\":0,\"sex\":\"male\",\"job\":2,\"housing\":\"rent\",\"saving_accounts\":\"moderate\",\"checking_account\":\"moderate\",\"credit_amount\":3092,\"duration\":24,\"purpose\":\"radio\\/TV\",\"age\":22},{\"risk\":0,\"sex\":\"female\",\"job\":2,\"housing\":\"own\",\"saving_accounts\":\"little\",\"checking_account\":\"little\",\"credit_amount\":448,\"duration\":6,\"purpose\":\"education\",\"age\":23},{\"risk\":0,\"sex\":\"male\",\"job\":1,\"housing\":\"own\",\"saving_accounts\":\"little\",\"checking_account\":\"little\",\"credit_amount\":654,\"duration\":9,\"purpose\":\"car\",\"age\":28},{\"risk\":1,\"sex\":\"male\",\"job\":3,\"housing\":\"own\",\"saving_accounts\":\"not_known\",\"checking_account\":\"not_known\",\"credit_amount\":1238,\"duration\":6,\"purpose\":\"education\",\"age\":36},{\"risk\":0,\"sex\":\"male\",\"job\":2,\"housing\":\"own\",\"saving_accounts\":\"little\",\"checking_account\":\"moderate\",\"credit_amount\":1245,\"duration\":18,\"purpose\":\"radio\\/TV\",\"age\":33},{\"risk\":0,\"sex\":\"female\",\"job\":2,\"housing\":\"rent\",\"saving_accounts\":\"little\",\"checking_account\":\"little\",\"credit_amount\":3114,\"duration\":18,\"purpose\":\"furniture\\/equipment\",\"age\":26},{\"risk\":1,\"sex\":\"male\",\"job\":2,\"housing\":\"own\",\"saving_accounts\":\"quite rich\",\"checking_account\":\"not_known\",\"credit_amount\":2569,\"duration\":39,\"purpose\":\"car\",\"age\":24},{\"risk\":1,\"sex\":\"male\",\"job\":2,\"housing\":\"own\",\"saving_accounts\":\"little\",\"checking_account\":\"rich\",\"credit_amount\":5152,\"duration\":24,\"purpose\":\"radio\\/TV\",\"age\":25},{\"risk\":1,\"sex\":\"male\",\"job\":1,\"housing\":\"own\",\"saving_accounts\":\"moderate\",\"checking_account\":\"moderate\",\"credit_amount\":1037,\"duration\":12,\"purpose\":\"business\",\"age\":39},{\"risk\":1,\"sex\":\"male\",\"job\":2,\"housing\":\"own\",\"saving_accounts\":\"little\",\"checking_account\":\"little\",\"credit_amount\":1478,\"duration\":15,\"purpose\":\"furniture\\/equipment\",\"age\":44},{\"risk\":1,\"sex\":\"female\",\"job\":1,\"housing\":\"own\",\"saving_accounts\":\"little\",\"checking_account\":\"moderate\",\"credit_amount\":3573,\"duration\":12,\"purpose\":\"radio\\/TV\",\"age\":23},{\"risk\":1,\"sex\":\"male\",\"job\":2,\"housing\":\"own\",\"saving_accounts\":\"little\",\"checking_account\":\"moderate\",\"credit_amount\":1201,\"duration\":24,\"purpose\":\"car\",\"age\":26},{\"risk\":1,\"sex\":\"female\",\"job\":2,\"housing\":\"rent\",\"saving_accounts\":\"rich\",\"checking_account\":\"little\",\"credit_amount\":3622,\"duration\":30,\"purpose\":\"furniture\\/equipment\",\"age\":57},{\"risk\":1,\"sex\":\"female\",\"job\":2,\"housing\":\"own\",\"saving_accounts\":\"rich\",\"checking_account\":\"not_known\",\"credit_amount\":960,\"duration\":15,\"purpose\":\"furniture\\/equipment\",\"age\":30},{\"risk\":1,\"sex\":\"male\",\"job\":2,\"housing\":\"own\",\"saving_accounts\":\"quite rich\",\"checking_account\":\"not_known\",\"credit_amount\":1163,\"duration\":12,\"purpose\":\"car\",\"age\":44},{\"risk\":0,\"sex\":\"male\",\"job\":3,\"housing\":\"own\",\"saving_accounts\":\"little\",\"checking_account\":\"moderate\",\"credit_amount\":1209,\"duration\":6,\"purpose\":\"car\",\"age\":47},{\"risk\":1,\"sex\":\"male\",\"job\":2,\"housing\":\"own\",\"saving_accounts\":\"little\",\"checking_account\":\"not_known\",\"credit_amount\":3077,\"duration\":12,\"purpose\":\"radio\\/TV\",\"age\":52},{\"risk\":1,\"sex\":\"female\",\"job\":2,\"housing\":\"free\",\"saving_accounts\":\"little\",\"checking_account\":\"not_known\",\"credit_amount\":3757,\"duration\":24,\"purpose\":\"car\",\"age\":62},{\"risk\":1,\"sex\":\"male\",\"job\":1,\"housing\":\"rent\",\"saving_accounts\":\"moderate\",\"checking_account\":\"not_known\",\"credit_amount\":1418,\"duration\":10,\"purpose\":\"car\",\"age\":35},{\"risk\":1,\"sex\":\"male\",\"job\":2,\"housing\":\"rent\",\"saving_accounts\":\"little\",\"checking_account\":\"not_known\",\"credit_amount\":3518,\"duration\":6,\"purpose\":\"car\",\"age\":26},{\"risk\":1,\"sex\":\"male\",\"job\":2,\"housing\":\"own\",\"saving_accounts\":\"little\",\"checking_account\":\"not_known\",\"credit_amount\":1934,\"duration\":12,\"purpose\":\"radio\\/TV\",\"age\":26},{\"risk\":0,\"sex\":\"female\",\"job\":3,\"housing\":\"free\",\"saving_accounts\":\"little\",\"checking_account\":\"moderate\",\"credit_amount\":8318,\"duration\":27,\"purpose\":\"business\",\"age\":42},{\"risk\":1,\"sex\":\"female\",\"job\":2,\"housing\":\"own\",\"saving_accounts\":\"moderate\",\"checking_account\":\"not_known\",\"credit_amount\":1237,\"duration\":6,\"purpose\":\"radio\\/TV\",\"age\":27},{\"risk\":1,\"sex\":\"male\",\"job\":2,\"housing\":\"own\",\"saving_accounts\":\"not_known\",\"checking_account\":\"moderate\",\"credit_amount\":368,\"duration\":6,\"purpose\":\"radio\\/TV\",\"age\":38},{\"risk\":1,\"sex\":\"male\",\"job\":1,\"housing\":\"rent\",\"saving_accounts\":\"little\",\"checking_account\":\"little\",\"credit_amount\":2122,\"duration\":12,\"purpose\":\"car\",\"age\":39},{\"risk\":0,\"sex\":\"male\",\"job\":2,\"housing\":\"own\",\"saving_accounts\":\"not_known\",\"checking_account\":\"little\",\"credit_amount\":2996,\"duration\":24,\"purpose\":\"furniture\\/equipment\",\"age\":20},{\"risk\":0,\"sex\":\"male\",\"job\":3,\"housing\":\"rent\",\"saving_accounts\":\"moderate\",\"checking_account\":\"moderate\",\"credit_amount\":9034,\"duration\":36,\"purpose\":\"furniture\\/equipment\",\"age\":29},{\"risk\":1,\"sex\":\"male\",\"job\":2,\"housing\":\"own\",\"saving_accounts\":\"little\",\"checking_account\":\"not_known\",\"credit_amount\":1585,\"duration\":24,\"purpose\":\"furniture\\/equipment\",\"age\":40},{\"risk\":1,\"sex\":\"male\",\"job\":1,\"housing\":\"own\",\"saving_accounts\":\"little\",\"checking_account\":\"moderate\",\"credit_amount\":1301,\"duration\":18,\"purpose\":\"radio\\/TV\",\"age\":32},{\"risk\":1,\"sex\":\"male\",\"job\":2,\"housing\":\"own\",\"saving_accounts\":\"moderate\",\"checking_account\":\"rich\",\"credit_amount\":1323,\"duration\":6,\"purpose\":\"car\",\"age\":28},{\"risk\":0,\"sex\":\"female\",\"job\":2,\"housing\":\"own\",\"saving_accounts\":\"little\",\"checking_account\":\"little\",\"credit_amount\":3123,\"duration\":24,\"purpose\":\"car\",\"age\":27},{\"risk\":1,\"sex\":\"male\",\"job\":2,\"housing\":\"free\",\"saving_accounts\":\"little\",\"checking_account\":\"little\",\"credit_amount\":5493,\"duration\":36,\"purpose\":\"car\",\"age\":42},{\"risk\":1,\"sex\":\"male\",\"job\":2,\"housing\":\"own\",\"saving_accounts\":\"moderate\",\"checking_account\":\"rich\",\"credit_amount\":1126,\"duration\":9,\"purpose\":\"radio\\/TV\",\"age\":49},{\"risk\":0,\"sex\":\"male\",\"job\":2,\"housing\":\"own\",\"saving_accounts\":\"moderate\",\"checking_account\":\"moderate\",\"credit_amount\":1216,\"duration\":24,\"purpose\":\"radio\\/TV\",\"age\":38},{\"risk\":0,\"sex\":\"female\",\"job\":2,\"housing\":\"rent\",\"saving_accounts\":\"little\",\"checking_account\":\"little\",\"credit_amount\":1207,\"duration\":24,\"purpose\":\"car\",\"age\":24},{\"risk\":0,\"sex\":\"male\",\"job\":1,\"housing\":\"own\",\"saving_accounts\":\"not_known\",\"checking_account\":\"not_known\",\"credit_amount\":1309,\"duration\":10,\"purpose\":\"car\",\"age\":27},{\"risk\":1,\"sex\":\"male\",\"job\":2,\"housing\":\"own\",\"saving_accounts\":\"quite rich\",\"checking_account\":\"rich\",\"credit_amount\":2360,\"duration\":15,\"purpose\":\"car\",\"age\":36},{\"risk\":0,\"sex\":\"male\",\"job\":3,\"housing\":\"own\",\"saving_accounts\":\"moderate\",\"checking_account\":\"moderate\",\"credit_amount\":6850,\"duration\":15,\"purpose\":\"car\",\"age\":34},{\"risk\":1,\"sex\":\"male\",\"job\":2,\"housing\":\"own\",\"saving_accounts\":\"little\",\"checking_account\":\"not_known\",\"credit_amount\":1413,\"duration\":24,\"purpose\":\"radio\\/TV\",\"age\":28},{\"risk\":1,\"sex\":\"male\",\"job\":3,\"housing\":\"own\",\"saving_accounts\":\"moderate\",\"checking_account\":\"not_known\",\"credit_amount\":8588,\"duration\":39,\"purpose\":\"car\",\"age\":45},{\"risk\":0,\"sex\":\"male\",\"job\":2,\"housing\":\"own\",\"saving_accounts\":\"little\",\"checking_account\":\"little\",\"credit_amount\":759,\"duration\":12,\"purpose\":\"car\",\"age\":26},{\"risk\":1,\"sex\":\"male\",\"job\":3,\"housing\":\"free\",\"saving_accounts\":\"little\",\"checking_account\":\"not_known\",\"credit_amount\":4686,\"duration\":36,\"purpose\":\"car\",\"age\":32},{\"risk\":1,\"sex\":\"male\",\"job\":2,\"housing\":\"rent\",\"saving_accounts\":\"little\",\"checking_account\":\"rich\",\"credit_amount\":2687,\"duration\":15,\"purpose\":\"business\",\"age\":26},{\"risk\":1,\"sex\":\"male\",\"job\":2,\"housing\":\"rent\",\"saving_accounts\":\"little\",\"checking_account\":\"moderate\",\"credit_amount\":585,\"duration\":12,\"purpose\":\"radio\\/TV\",\"age\":20},{\"risk\":1,\"sex\":\"male\",\"job\":2,\"housing\":\"own\",\"saving_accounts\":\"not_known\",\"checking_account\":\"not_known\",\"credit_amount\":2255,\"duration\":24,\"purpose\":\"car\",\"age\":54},{\"risk\":1,\"sex\":\"female\",\"job\":2,\"housing\":\"own\",\"saving_accounts\":\"little\",\"checking_account\":\"little\",\"credit_amount\":609,\"duration\":6,\"purpose\":\"car\",\"age\":37},{\"risk\":1,\"sex\":\"male\",\"job\":1,\"housing\":\"own\",\"saving_accounts\":\"little\",\"checking_account\":\"little\",\"credit_amount\":1361,\"duration\":6,\"purpose\":\"car\",\"age\":40},{\"risk\":0,\"sex\":\"female\",\"job\":2,\"housing\":\"rent\",\"saving_accounts\":\"little\",\"checking_account\":\"not_known\",\"credit_amount\":7127,\"duration\":36,\"purpose\":\"furniture\\/equipment\",\"age\":23},{\"risk\":1,\"sex\":\"male\",\"job\":2,\"housing\":\"own\",\"saving_accounts\":\"moderate\",\"checking_account\":\"little\",\"credit_amount\":1203,\"duration\":6,\"purpose\":\"car\",\"age\":43},{\"risk\":1,\"sex\":\"male\",\"job\":2,\"housing\":\"free\",\"saving_accounts\":\"not_known\",\"checking_account\":\"not_known\",\"credit_amount\":700,\"duration\":6,\"purpose\":\"radio\\/TV\",\"age\":36},{\"risk\":1,\"sex\":\"male\",\"job\":2,\"housing\":\"free\",\"saving_accounts\":\"little\",\"checking_account\":\"not_known\",\"credit_amount\":5507,\"duration\":24,\"purpose\":\"repairs\",\"age\":44},{\"risk\":0,\"sex\":\"female\",\"job\":2,\"housing\":\"own\",\"saving_accounts\":\"little\",\"checking_account\":\"little\",\"credit_amount\":3190,\"duration\":18,\"purpose\":\"radio\\/TV\",\"age\":24},{\"risk\":0,\"sex\":\"male\",\"job\":2,\"housing\":\"free\",\"saving_accounts\":\"little\",\"checking_account\":\"little\",\"credit_amount\":7119,\"duration\":48,\"purpose\":\"furniture\\/equipment\",\"age\":53},{\"risk\":1,\"sex\":\"female\",\"job\":2,\"housing\":\"own\",\"saving_accounts\":\"moderate\",\"checking_account\":\"not_known\",\"credit_amount\":3488,\"duration\":24,\"purpose\":\"car\",\"age\":23},{\"risk\":1,\"sex\":\"female\",\"job\":1,\"housing\":\"own\",\"saving_accounts\":\"little\",\"checking_account\":\"moderate\",\"credit_amount\":1113,\"duration\":18,\"purpose\":\"radio\\/TV\",\"age\":26},{\"risk\":1,\"sex\":\"male\",\"job\":2,\"housing\":\"own\",\"saving_accounts\":\"little\",\"checking_account\":\"moderate\",\"credit_amount\":7966,\"duration\":26,\"purpose\":\"car\",\"age\":30},{\"risk\":1,\"sex\":\"female\",\"job\":2,\"housing\":\"own\",\"saving_accounts\":\"moderate\",\"checking_account\":\"not_known\",\"credit_amount\":1532,\"duration\":15,\"purpose\":\"education\",\"age\":31},{\"risk\":1,\"sex\":\"male\",\"job\":1,\"housing\":\"own\",\"saving_accounts\":\"little\",\"checking_account\":\"not_known\",\"credit_amount\":1503,\"duration\":4,\"purpose\":\"radio\\/TV\",\"age\":42},{\"risk\":0,\"sex\":\"male\",\"job\":2,\"housing\":\"rent\",\"saving_accounts\":\"little\",\"checking_account\":\"little\",\"credit_amount\":2302,\"duration\":36,\"purpose\":\"radio\\/TV\",\"age\":31},{\"risk\":1,\"sex\":\"male\",\"job\":1,\"housing\":\"own\",\"saving_accounts\":\"little\",\"checking_account\":\"little\",\"credit_amount\":662,\"duration\":6,\"purpose\":\"car\",\"age\":41},{\"risk\":1,\"sex\":\"male\",\"job\":2,\"housing\":\"own\",\"saving_accounts\":\"little\",\"checking_account\":\"moderate\",\"credit_amount\":2273,\"duration\":36,\"purpose\":\"education\",\"age\":32},{\"risk\":0,\"sex\":\"female\",\"job\":2,\"housing\":\"rent\",\"saving_accounts\":\"moderate\",\"checking_account\":\"moderate\",\"credit_amount\":2631,\"duration\":15,\"purpose\":\"car\",\"age\":28},{\"risk\":1,\"sex\":\"male\",\"job\":2,\"housing\":\"rent\",\"saving_accounts\":\"little\",\"checking_account\":\"not_known\",\"credit_amount\":1503,\"duration\":12,\"purpose\":\"car\",\"age\":41},{\"risk\":1,\"sex\":\"male\",\"job\":2,\"housing\":\"own\",\"saving_accounts\":\"moderate\",\"checking_account\":\"not_known\",\"credit_amount\":1311,\"duration\":24,\"purpose\":\"radio\\/TV\",\"age\":26},{\"risk\":1,\"sex\":\"male\",\"job\":2,\"housing\":\"own\",\"saving_accounts\":\"not_known\",\"checking_account\":\"not_known\",\"credit_amount\":3105,\"duration\":24,\"purpose\":\"radio\\/TV\",\"age\":25},{\"risk\":0,\"sex\":\"male\",\"job\":2,\"housing\":\"rent\",\"saving_accounts\":\"little\",\"checking_account\":\"rich\",\"credit_amount\":2319,\"duration\":21,\"purpose\":\"education\",\"age\":33},{\"risk\":1,\"sex\":\"female\",\"job\":3,\"housing\":\"own\",\"saving_accounts\":\"not_known\",\"checking_account\":\"little\",\"credit_amount\":1374,\"duration\":6,\"purpose\":\"car\",\"age\":75},{\"risk\":1,\"sex\":\"female\",\"job\":2,\"housing\":\"own\",\"saving_accounts\":\"little\",\"checking_account\":\"moderate\",\"credit_amount\":3612,\"duration\":18,\"purpose\":\"furniture\\/equipment\",\"age\":37},{\"risk\":0,\"sex\":\"male\",\"job\":3,\"housing\":\"free\",\"saving_accounts\":\"little\",\"checking_account\":\"little\",\"credit_amount\":7763,\"duration\":48,\"purpose\":\"car\",\"age\":42},{\"risk\":1,\"sex\":\"female\",\"job\":1,\"housing\":\"own\",\"saving_accounts\":\"little\",\"checking_account\":\"rich\",\"credit_amount\":3049,\"duration\":18,\"purpose\":\"furniture\\/equipment\",\"age\":45},{\"risk\":0,\"sex\":\"male\",\"job\":2,\"housing\":\"rent\",\"saving_accounts\":\"little\",\"checking_account\":\"moderate\",\"credit_amount\":1534,\"duration\":12,\"purpose\":\"radio\\/TV\",\"age\":23},{\"risk\":1,\"sex\":\"male\",\"job\":2,\"housing\":\"free\",\"saving_accounts\":\"little\",\"checking_account\":\"not_known\",\"credit_amount\":2032,\"duration\":24,\"purpose\":\"car\",\"age\":60},{\"risk\":0,\"sex\":\"male\",\"job\":2,\"housing\":\"own\",\"saving_accounts\":\"not_known\",\"checking_account\":\"little\",\"credit_amount\":6350,\"duration\":30,\"purpose\":\"furniture\\/equipment\",\"age\":31},{\"risk\":0,\"sex\":\"male\",\"job\":1,\"housing\":\"own\",\"saving_accounts\":\"little\",\"checking_account\":\"rich\",\"credit_amount\":2864,\"duration\":18,\"purpose\":\"furniture\\/equipment\",\"age\":34},{\"risk\":1,\"sex\":\"male\",\"job\":1,\"housing\":\"own\",\"saving_accounts\":\"little\",\"checking_account\":\"not_known\",\"credit_amount\":1255,\"duration\":12,\"purpose\":\"car\",\"age\":61},{\"risk\":0,\"sex\":\"male\",\"job\":2,\"housing\":\"free\",\"saving_accounts\":\"little\",\"checking_account\":\"little\",\"credit_amount\":1333,\"duration\":24,\"purpose\":\"car\",\"age\":43},{\"risk\":1,\"sex\":\"female\",\"job\":2,\"housing\":\"own\",\"saving_accounts\":\"little\",\"checking_account\":\"not_known\",\"credit_amount\":2022,\"duration\":24,\"purpose\":\"car\",\"age\":37},{\"risk\":1,\"sex\":\"male\",\"job\":2,\"housing\":\"own\",\"saving_accounts\":\"little\",\"checking_account\":\"not_known\",\"credit_amount\":1552,\"duration\":24,\"purpose\":\"radio\\/TV\",\"age\":32},{\"risk\":0,\"sex\":\"female\",\"job\":1,\"housing\":\"own\",\"saving_accounts\":\"little\",\"checking_account\":\"little\",\"credit_amount\":626,\"duration\":12,\"purpose\":\"radio\\/TV\",\"age\":24},{\"risk\":1,\"sex\":\"male\",\"job\":2,\"housing\":\"free\",\"saving_accounts\":\"not_known\",\"checking_account\":\"not_known\",\"credit_amount\":8858,\"duration\":48,\"purpose\":\"car\",\"age\":35},{\"risk\":1,\"sex\":\"female\",\"job\":2,\"housing\":\"own\",\"saving_accounts\":\"not_known\",\"checking_account\":\"not_known\",\"credit_amount\":996,\"duration\":12,\"purpose\":\"repairs\",\"age\":23},{\"risk\":1,\"sex\":\"male\",\"job\":1,\"housing\":\"own\",\"saving_accounts\":\"quite rich\",\"checking_account\":\"not_known\",\"credit_amount\":1750,\"duration\":6,\"purpose\":\"radio\\/TV\",\"age\":45},{\"risk\":0,\"sex\":\"male\",\"job\":2,\"housing\":\"own\",\"saving_accounts\":\"little\",\"checking_account\":\"little\",\"credit_amount\":6999,\"duration\":48,\"purpose\":\"radio\\/TV\",\"age\":34},{\"risk\":1,\"sex\":\"male\",\"job\":2,\"housing\":\"own\",\"saving_accounts\":\"moderate\",\"checking_account\":\"moderate\",\"credit_amount\":1995,\"duration\":12,\"purpose\":\"car\",\"age\":27},{\"risk\":1,\"sex\":\"female\",\"job\":3,\"housing\":\"own\",\"saving_accounts\":\"little\",\"checking_account\":\"moderate\",\"credit_amount\":1199,\"duration\":9,\"purpose\":\"education\",\"age\":67},{\"risk\":0,\"sex\":\"male\",\"job\":2,\"housing\":\"own\",\"saving_accounts\":\"little\",\"checking_account\":\"moderate\",\"credit_amount\":1331,\"duration\":12,\"purpose\":\"radio\\/TV\",\"age\":22},{\"risk\":0,\"sex\":\"female\",\"job\":2,\"housing\":\"own\",\"saving_accounts\":\"moderate\",\"checking_account\":\"moderate\",\"credit_amount\":2278,\"duration\":18,\"purpose\":\"car\",\"age\":28},{\"risk\":0,\"sex\":\"female\",\"job\":2,\"housing\":\"own\",\"saving_accounts\":\"not_known\",\"checking_account\":\"not_known\",\"credit_amount\":5003,\"duration\":21,\"purpose\":\"car\",\"age\":29},{\"risk\":0,\"sex\":\"male\",\"job\":2,\"housing\":\"own\",\"saving_accounts\":\"little\",\"checking_account\":\"little\",\"credit_amount\":3552,\"duration\":24,\"purpose\":\"furniture\\/equipment\",\"age\":27},{\"risk\":0,\"sex\":\"male\",\"job\":1,\"housing\":\"own\",\"saving_accounts\":\"little\",\"checking_account\":\"moderate\",\"credit_amount\":1928,\"duration\":18,\"purpose\":\"furniture\\/equipment\",\"age\":31},{\"risk\":1,\"sex\":\"male\",\"job\":2,\"housing\":\"free\",\"saving_accounts\":\"not_known\",\"checking_account\":\"little\",\"credit_amount\":2964,\"duration\":24,\"purpose\":\"car\",\"age\":49},{\"risk\":0,\"sex\":\"male\",\"job\":1,\"housing\":\"rent\",\"saving_accounts\":\"little\",\"checking_account\":\"little\",\"credit_amount\":1546,\"duration\":24,\"purpose\":\"radio\\/TV\",\"age\":24},{\"risk\":1,\"sex\":\"female\",\"job\":2,\"housing\":\"own\",\"saving_accounts\":\"little\",\"checking_account\":\"rich\",\"credit_amount\":683,\"duration\":6,\"purpose\":\"radio\\/TV\",\"age\":29},{\"risk\":0,\"sex\":\"male\",\"job\":2,\"housing\":\"free\",\"saving_accounts\":\"not_known\",\"checking_account\":\"moderate\",\"credit_amount\":12389,\"duration\":36,\"purpose\":\"car\",\"age\":37},{\"risk\":1,\"sex\":\"male\",\"job\":3,\"housing\":\"own\",\"saving_accounts\":\"not_known\",\"checking_account\":\"moderate\",\"credit_amount\":4712,\"duration\":24,\"purpose\":\"business\",\"age\":37},{\"risk\":1,\"sex\":\"female\",\"job\":2,\"housing\":\"rent\",\"saving_accounts\":\"moderate\",\"checking_account\":\"moderate\",\"credit_amount\":1553,\"duration\":24,\"purpose\":\"radio\\/TV\",\"age\":23},{\"risk\":0,\"sex\":\"male\",\"job\":2,\"housing\":\"own\",\"saving_accounts\":\"little\",\"checking_account\":\"little\",\"credit_amount\":1372,\"duration\":12,\"purpose\":\"car\",\"age\":36},{\"risk\":1,\"sex\":\"male\",\"job\":2,\"housing\":\"own\",\"saving_accounts\":\"rich\",\"checking_account\":\"not_known\",\"credit_amount\":2578,\"duration\":24,\"purpose\":\"radio\\/TV\",\"age\":34},{\"risk\":1,\"sex\":\"male\",\"job\":2,\"housing\":\"own\",\"saving_accounts\":\"not_known\",\"checking_account\":\"moderate\",\"credit_amount\":3979,\"duration\":48,\"purpose\":\"radio\\/TV\",\"age\":41},{\"risk\":0,\"sex\":\"female\",\"job\":2,\"housing\":\"own\",\"saving_accounts\":\"little\",\"checking_account\":\"little\",\"credit_amount\":6758,\"duration\":48,\"purpose\":\"radio\\/TV\",\"age\":31},{\"risk\":0,\"sex\":\"female\",\"job\":1,\"housing\":\"rent\",\"saving_accounts\":\"little\",\"checking_account\":\"little\",\"credit_amount\":3234,\"duration\":24,\"purpose\":\"furniture\\/equipment\",\"age\":23},{\"risk\":1,\"sex\":\"male\",\"job\":2,\"housing\":\"own\",\"saving_accounts\":\"little\",\"checking_account\":\"not_known\",\"credit_amount\":5954,\"duration\":30,\"purpose\":\"radio\\/TV\",\"age\":38},{\"risk\":1,\"sex\":\"female\",\"job\":3,\"housing\":\"rent\",\"saving_accounts\":\"not_known\",\"checking_account\":\"not_known\",\"credit_amount\":5433,\"duration\":24,\"purpose\":\"car\",\"age\":26},{\"risk\":1,\"sex\":\"female\",\"job\":1,\"housing\":\"own\",\"saving_accounts\":\"little\",\"checking_account\":\"little\",\"credit_amount\":806,\"duration\":15,\"purpose\":\"business\",\"age\":22},{\"risk\":1,\"sex\":\"male\",\"job\":1,\"housing\":\"own\",\"saving_accounts\":\"little\",\"checking_account\":\"moderate\",\"credit_amount\":1082,\"duration\":9,\"purpose\":\"radio\\/TV\",\"age\":27},{\"risk\":1,\"sex\":\"female\",\"job\":2,\"housing\":\"own\",\"saving_accounts\":\"little\",\"checking_account\":\"not_known\",\"credit_amount\":2788,\"duration\":15,\"purpose\":\"furniture\\/equipment\",\"age\":24},{\"risk\":1,\"sex\":\"female\",\"job\":2,\"housing\":\"own\",\"saving_accounts\":\"little\",\"checking_account\":\"moderate\",\"credit_amount\":2930,\"duration\":12,\"purpose\":\"radio\\/TV\",\"age\":27},{\"risk\":1,\"sex\":\"female\",\"job\":2,\"housing\":\"own\",\"saving_accounts\":\"not_known\",\"checking_account\":\"not_known\",\"credit_amount\":1927,\"duration\":24,\"purpose\":\"education\",\"age\":33},{\"risk\":0,\"sex\":\"male\",\"job\":2,\"housing\":\"own\",\"saving_accounts\":\"little\",\"checking_account\":\"moderate\",\"credit_amount\":2820,\"duration\":36,\"purpose\":\"car\",\"age\":27},{\"risk\":1,\"sex\":\"male\",\"job\":1,\"housing\":\"own\",\"saving_accounts\":\"little\",\"checking_account\":\"not_known\",\"credit_amount\":937,\"duration\":24,\"purpose\":\"education\",\"age\":27},{\"risk\":0,\"sex\":\"male\",\"job\":2,\"housing\":\"own\",\"saving_accounts\":\"little\",\"checking_account\":\"moderate\",\"credit_amount\":1056,\"duration\":18,\"purpose\":\"car\",\"age\":30},{\"risk\":1,\"sex\":\"male\",\"job\":1,\"housing\":\"own\",\"saving_accounts\":\"little\",\"checking_account\":\"moderate\",\"credit_amount\":3124,\"duration\":12,\"purpose\":\"car\",\"age\":49},{\"risk\":1,\"sex\":\"female\",\"job\":2,\"housing\":\"rent\",\"saving_accounts\":\"little\",\"checking_account\":\"not_known\",\"credit_amount\":1388,\"duration\":9,\"purpose\":\"furniture\\/equipment\",\"age\":26},{\"risk\":0,\"sex\":\"male\",\"job\":1,\"housing\":\"rent\",\"saving_accounts\":\"little\",\"checking_account\":\"moderate\",\"credit_amount\":2384,\"duration\":36,\"purpose\":\"repairs\",\"age\":33},{\"risk\":1,\"sex\":\"female\",\"job\":3,\"housing\":\"free\",\"saving_accounts\":\"not_known\",\"checking_account\":\"not_known\",\"credit_amount\":2133,\"duration\":12,\"purpose\":\"car\",\"age\":52},{\"risk\":0,\"sex\":\"female\",\"job\":2,\"housing\":\"rent\",\"saving_accounts\":\"little\",\"checking_account\":\"little\",\"credit_amount\":2039,\"duration\":18,\"purpose\":\"furniture\\/equipment\",\"age\":20},{\"risk\":1,\"sex\":\"male\",\"job\":2,\"housing\":\"rent\",\"saving_accounts\":\"little\",\"checking_account\":\"little\",\"credit_amount\":2799,\"duration\":9,\"purpose\":\"car\",\"age\":36},{\"risk\":1,\"sex\":\"male\",\"job\":1,\"housing\":\"own\",\"saving_accounts\":\"little\",\"checking_account\":\"little\",\"credit_amount\":1289,\"duration\":12,\"purpose\":\"furniture\\/equipment\",\"age\":21},{\"risk\":0,\"sex\":\"male\",\"job\":1,\"housing\":\"own\",\"saving_accounts\":\"little\",\"checking_account\":\"little\",\"credit_amount\":1217,\"duration\":18,\"purpose\":\"domestic appliances\",\"age\":47},{\"risk\":0,\"sex\":\"male\",\"job\":2,\"housing\":\"own\",\"saving_accounts\":\"little\",\"checking_account\":\"little\",\"credit_amount\":2246,\"duration\":12,\"purpose\":\"furniture\\/equipment\",\"age\":60},{\"risk\":1,\"sex\":\"female\",\"job\":1,\"housing\":\"own\",\"saving_accounts\":\"little\",\"checking_account\":\"little\",\"credit_amount\":385,\"duration\":12,\"purpose\":\"radio\\/TV\",\"age\":58},{\"risk\":1,\"sex\":\"female\",\"job\":2,\"housing\":\"rent\",\"saving_accounts\":\"not_known\",\"checking_account\":\"moderate\",\"credit_amount\":1965,\"duration\":24,\"purpose\":\"car\",\"age\":42},{\"risk\":1,\"sex\":\"female\",\"job\":1,\"housing\":\"own\",\"saving_accounts\":\"rich\",\"checking_account\":\"not_known\",\"credit_amount\":1572,\"duration\":21,\"purpose\":\"business\",\"age\":36},{\"risk\":0,\"sex\":\"female\",\"job\":1,\"housing\":\"rent\",\"saving_accounts\":\"little\",\"checking_account\":\"moderate\",\"credit_amount\":2718,\"duration\":24,\"purpose\":\"car\",\"age\":20},{\"risk\":0,\"sex\":\"male\",\"job\":3,\"housing\":\"own\",\"saving_accounts\":\"not_known\",\"checking_account\":\"little\",\"credit_amount\":1358,\"duration\":24,\"purpose\":\"vacation\\/others\",\"age\":40},{\"risk\":0,\"sex\":\"female\",\"job\":1,\"housing\":\"own\",\"saving_accounts\":\"moderate\",\"checking_account\":\"moderate\",\"credit_amount\":931,\"duration\":6,\"purpose\":\"car\",\"age\":32},{\"risk\":0,\"sex\":\"female\",\"job\":2,\"housing\":\"rent\",\"saving_accounts\":\"little\",\"checking_account\":\"little\",\"credit_amount\":1442,\"duration\":24,\"purpose\":\"car\",\"age\":23},{\"risk\":0,\"sex\":\"male\",\"job\":1,\"housing\":\"own\",\"saving_accounts\":\"little\",\"checking_account\":\"moderate\",\"credit_amount\":4241,\"duration\":24,\"purpose\":\"business\",\"age\":36},{\"risk\":0,\"sex\":\"male\",\"job\":2,\"housing\":\"own\",\"saving_accounts\":\"little\",\"checking_account\":\"not_known\",\"credit_amount\":2775,\"duration\":18,\"purpose\":\"car\",\"age\":31},{\"risk\":1,\"sex\":\"male\",\"job\":2,\"housing\":\"free\",\"saving_accounts\":\"little\",\"checking_account\":\"not_known\",\"credit_amount\":3863,\"duration\":24,\"purpose\":\"business\",\"age\":32},{\"risk\":1,\"sex\":\"female\",\"job\":2,\"housing\":\"own\",\"saving_accounts\":\"little\",\"checking_account\":\"moderate\",\"credit_amount\":2329,\"duration\":7,\"purpose\":\"radio\\/TV\",\"age\":45},{\"risk\":0,\"sex\":\"female\",\"job\":2,\"housing\":\"own\",\"saving_accounts\":\"little\",\"checking_account\":\"moderate\",\"credit_amount\":918,\"duration\":9,\"purpose\":\"furniture\\/equipment\",\"age\":30},{\"risk\":0,\"sex\":\"female\",\"job\":1,\"housing\":\"free\",\"saving_accounts\":\"little\",\"checking_account\":\"moderate\",\"credit_amount\":1837,\"duration\":24,\"purpose\":\"education\",\"age\":34},{\"risk\":0,\"sex\":\"female\",\"job\":3,\"housing\":\"own\",\"saving_accounts\":\"little\",\"checking_account\":\"not_known\",\"credit_amount\":3349,\"duration\":36,\"purpose\":\"furniture\\/equipment\",\"age\":28},{\"risk\":1,\"sex\":\"female\",\"job\":2,\"housing\":\"own\",\"saving_accounts\":\"little\",\"checking_account\":\"rich\",\"credit_amount\":1275,\"duration\":10,\"purpose\":\"furniture\\/equipment\",\"age\":23},{\"risk\":1,\"sex\":\"male\",\"job\":2,\"housing\":\"own\",\"saving_accounts\":\"quite rich\",\"checking_account\":\"little\",\"credit_amount\":2828,\"duration\":24,\"purpose\":\"furniture\\/equipment\",\"age\":22},{\"risk\":1,\"sex\":\"male\",\"job\":3,\"housing\":\"own\",\"saving_accounts\":\"little\",\"checking_account\":\"not_known\",\"credit_amount\":4526,\"duration\":24,\"purpose\":\"business\",\"age\":74},{\"risk\":0,\"sex\":\"female\",\"job\":2,\"housing\":\"free\",\"saving_accounts\":\"moderate\",\"checking_account\":\"moderate\",\"credit_amount\":2671,\"duration\":36,\"purpose\":\"radio\\/TV\",\"age\":50},{\"risk\":1,\"sex\":\"male\",\"job\":2,\"housing\":\"own\",\"saving_accounts\":\"little\",\"checking_account\":\"not_known\",\"credit_amount\":2051,\"duration\":18,\"purpose\":\"radio\\/TV\",\"age\":33},{\"risk\":1,\"sex\":\"male\",\"job\":2,\"housing\":\"free\",\"saving_accounts\":\"not_known\",\"checking_account\":\"not_known\",\"credit_amount\":1300,\"duration\":15,\"purpose\":\"car\",\"age\":45},{\"risk\":0,\"sex\":\"female\",\"job\":2,\"housing\":\"own\",\"saving_accounts\":\"moderate\",\"checking_account\":\"little\",\"credit_amount\":741,\"duration\":12,\"purpose\":\"domestic appliances\",\"age\":22},{\"risk\":0,\"sex\":\"female\",\"job\":1,\"housing\":\"free\",\"saving_accounts\":\"moderate\",\"checking_account\":\"rich\",\"credit_amount\":1240,\"duration\":10,\"purpose\":\"car\",\"age\":48},{\"risk\":1,\"sex\":\"female\",\"job\":2,\"housing\":\"own\",\"saving_accounts\":\"rich\",\"checking_account\":\"little\",\"credit_amount\":3357,\"duration\":21,\"purpose\":\"radio\\/TV\",\"age\":29},{\"risk\":1,\"sex\":\"female\",\"job\":2,\"housing\":\"rent\",\"saving_accounts\":\"little\",\"checking_account\":\"little\",\"credit_amount\":3632,\"duration\":24,\"purpose\":\"car\",\"age\":22},{\"risk\":0,\"sex\":\"female\",\"job\":2,\"housing\":\"own\",\"saving_accounts\":\"little\",\"checking_account\":\"not_known\",\"credit_amount\":1808,\"duration\":18,\"purpose\":\"furniture\\/equipment\",\"age\":22},{\"risk\":1,\"sex\":\"male\",\"job\":3,\"housing\":\"own\",\"saving_accounts\":\"not_known\",\"checking_account\":\"moderate\",\"credit_amount\":12204,\"duration\":48,\"purpose\":\"business\",\"age\":48},{\"risk\":1,\"sex\":\"male\",\"job\":3,\"housing\":\"free\",\"saving_accounts\":\"not_known\",\"checking_account\":\"moderate\",\"credit_amount\":9157,\"duration\":60,\"purpose\":\"radio\\/TV\",\"age\":27},{\"risk\":1,\"sex\":\"male\",\"job\":2,\"housing\":\"rent\",\"saving_accounts\":\"little\",\"checking_account\":\"little\",\"credit_amount\":3676,\"duration\":6,\"purpose\":\"car\",\"age\":37},{\"risk\":0,\"sex\":\"female\",\"job\":2,\"housing\":\"rent\",\"saving_accounts\":\"moderate\",\"checking_account\":\"moderate\",\"credit_amount\":3441,\"duration\":30,\"purpose\":\"furniture\\/equipment\",\"age\":21},{\"risk\":1,\"sex\":\"male\",\"job\":1,\"housing\":\"own\",\"saving_accounts\":\"little\",\"checking_account\":\"not_known\",\"credit_amount\":640,\"duration\":12,\"purpose\":\"car\",\"age\":49},{\"risk\":1,\"sex\":\"male\",\"job\":2,\"housing\":\"own\",\"saving_accounts\":\"little\",\"checking_account\":\"moderate\",\"credit_amount\":3652,\"duration\":21,\"purpose\":\"business\",\"age\":27},{\"risk\":0,\"sex\":\"male\",\"job\":2,\"housing\":\"own\",\"saving_accounts\":\"little\",\"checking_account\":\"not_known\",\"credit_amount\":1530,\"duration\":18,\"purpose\":\"car\",\"age\":32},{\"risk\":0,\"sex\":\"male\",\"job\":2,\"housing\":\"own\",\"saving_accounts\":\"not_known\",\"checking_account\":\"not_known\",\"credit_amount\":3914,\"duration\":48,\"purpose\":\"business\",\"age\":38},{\"risk\":1,\"sex\":\"female\",\"job\":2,\"housing\":\"rent\",\"saving_accounts\":\"little\",\"checking_account\":\"little\",\"credit_amount\":1858,\"duration\":12,\"purpose\":\"furniture\\/equipment\",\"age\":22},{\"risk\":0,\"sex\":\"male\",\"job\":2,\"housing\":\"free\",\"saving_accounts\":\"little\",\"checking_account\":\"little\",\"credit_amount\":2600,\"duration\":18,\"purpose\":\"radio\\/TV\",\"age\":65},{\"risk\":1,\"sex\":\"male\",\"job\":2,\"housing\":\"own\",\"saving_accounts\":\"not_known\",\"checking_account\":\"not_known\",\"credit_amount\":1979,\"duration\":15,\"purpose\":\"radio\\/TV\",\"age\":35},{\"risk\":1,\"sex\":\"male\",\"job\":2,\"housing\":\"own\",\"saving_accounts\":\"little\",\"checking_account\":\"rich\",\"credit_amount\":2116,\"duration\":6,\"purpose\":\"furniture\\/equipment\",\"age\":41},{\"risk\":0,\"sex\":\"male\",\"job\":2,\"housing\":\"own\",\"saving_accounts\":\"moderate\",\"checking_account\":\"moderate\",\"credit_amount\":1437,\"duration\":9,\"purpose\":\"car\",\"age\":29},{\"risk\":1,\"sex\":\"male\",\"job\":2,\"housing\":\"own\",\"saving_accounts\":\"quite rich\",\"checking_account\":\"not_known\",\"credit_amount\":4042,\"duration\":42,\"purpose\":\"furniture\\/equipment\",\"age\":36},{\"risk\":1,\"sex\":\"male\",\"job\":1,\"housing\":\"own\",\"saving_accounts\":\"not_known\",\"checking_account\":\"not_known\",\"credit_amount\":3832,\"duration\":9,\"purpose\":\"education\",\"age\":64},{\"risk\":1,\"sex\":\"female\",\"job\":2,\"housing\":\"own\",\"saving_accounts\":\"little\",\"checking_account\":\"little\",\"credit_amount\":3660,\"duration\":24,\"purpose\":\"radio\\/TV\",\"age\":28},{\"risk\":0,\"sex\":\"male\",\"job\":2,\"housing\":\"own\",\"saving_accounts\":\"little\",\"checking_account\":\"little\",\"credit_amount\":1553,\"duration\":18,\"purpose\":\"furniture\\/equipment\",\"age\":44},{\"risk\":1,\"sex\":\"male\",\"job\":2,\"housing\":\"own\",\"saving_accounts\":\"not_known\",\"checking_account\":\"moderate\",\"credit_amount\":1444,\"duration\":15,\"purpose\":\"radio\\/TV\",\"age\":23},{\"risk\":0,\"sex\":\"female\",\"job\":2,\"housing\":\"rent\",\"saving_accounts\":\"little\",\"checking_account\":\"not_known\",\"credit_amount\":1980,\"duration\":9,\"purpose\":\"furniture\\/equipment\",\"age\":19},{\"risk\":0,\"sex\":\"female\",\"job\":1,\"housing\":\"own\",\"saving_accounts\":\"little\",\"checking_account\":\"moderate\",\"credit_amount\":1355,\"duration\":24,\"purpose\":\"car\",\"age\":25},{\"risk\":1,\"sex\":\"male\",\"job\":2,\"housing\":\"own\",\"saving_accounts\":\"little\",\"checking_account\":\"not_known\",\"credit_amount\":1393,\"duration\":12,\"purpose\":\"education\",\"age\":47},{\"risk\":1,\"sex\":\"female\",\"job\":2,\"housing\":\"own\",\"saving_accounts\":\"quite rich\",\"checking_account\":\"not_known\",\"credit_amount\":1376,\"duration\":24,\"purpose\":\"radio\\/TV\",\"age\":28},{\"risk\":1,\"sex\":\"male\",\"job\":2,\"housing\":\"own\",\"saving_accounts\":\"little\",\"checking_account\":\"not_known\",\"credit_amount\":15653,\"duration\":60,\"purpose\":\"radio\\/TV\",\"age\":21},{\"risk\":1,\"sex\":\"female\",\"job\":2,\"housing\":\"own\",\"saving_accounts\":\"little\",\"checking_account\":\"not_known\",\"credit_amount\":1493,\"duration\":12,\"purpose\":\"radio\\/TV\",\"age\":34},{\"risk\":0,\"sex\":\"male\",\"job\":2,\"housing\":\"own\",\"saving_accounts\":\"little\",\"checking_account\":\"little\",\"credit_amount\":4370,\"duration\":42,\"purpose\":\"radio\\/TV\",\"age\":26},{\"risk\":0,\"sex\":\"female\",\"job\":0,\"housing\":\"own\",\"saving_accounts\":\"little\",\"checking_account\":\"little\",\"credit_amount\":750,\"duration\":18,\"purpose\":\"education\",\"age\":27},{\"risk\":1,\"sex\":\"male\",\"job\":1,\"housing\":\"own\",\"saving_accounts\":\"little\",\"checking_account\":\"moderate\",\"credit_amount\":1308,\"duration\":15,\"purpose\":\"repairs\",\"age\":38},{\"risk\":0,\"sex\":\"male\",\"job\":3,\"housing\":\"own\",\"saving_accounts\":\"moderate\",\"checking_account\":\"not_known\",\"credit_amount\":4623,\"duration\":15,\"purpose\":\"education\",\"age\":40},{\"risk\":1,\"sex\":\"male\",\"job\":2,\"housing\":\"own\",\"saving_accounts\":\"little\",\"checking_account\":\"not_known\",\"credit_amount\":1851,\"duration\":24,\"purpose\":\"radio\\/TV\",\"age\":33},{\"risk\":1,\"sex\":\"male\",\"job\":3,\"housing\":\"own\",\"saving_accounts\":\"little\",\"checking_account\":\"little\",\"credit_amount\":1880,\"duration\":18,\"purpose\":\"radio\\/TV\",\"age\":32},{\"risk\":0,\"sex\":\"male\",\"job\":2,\"housing\":\"rent\",\"saving_accounts\":\"not_known\",\"checking_account\":\"not_known\",\"credit_amount\":7980,\"duration\":36,\"purpose\":\"business\",\"age\":27},{\"risk\":1,\"sex\":\"male\",\"job\":2,\"housing\":\"own\",\"saving_accounts\":\"little\",\"checking_account\":\"little\",\"credit_amount\":4583,\"duration\":30,\"purpose\":\"furniture\\/equipment\",\"age\":32},{\"risk\":0,\"sex\":\"female\",\"job\":2,\"housing\":\"own\",\"saving_accounts\":\"quite rich\",\"checking_account\":\"not_known\",\"credit_amount\":1386,\"duration\":12,\"purpose\":\"car\",\"age\":26},{\"risk\":0,\"sex\":\"male\",\"job\":2,\"housing\":\"free\",\"saving_accounts\":\"little\",\"checking_account\":\"rich\",\"credit_amount\":947,\"duration\":24,\"purpose\":\"car\",\"age\":38},{\"risk\":0,\"sex\":\"male\",\"job\":1,\"housing\":\"rent\",\"saving_accounts\":\"little\",\"checking_account\":\"little\",\"credit_amount\":684,\"duration\":12,\"purpose\":\"education\",\"age\":40},{\"risk\":1,\"sex\":\"male\",\"job\":3,\"housing\":\"free\",\"saving_accounts\":\"little\",\"checking_account\":\"little\",\"credit_amount\":7476,\"duration\":48,\"purpose\":\"education\",\"age\":50},{\"risk\":0,\"sex\":\"male\",\"job\":1,\"housing\":\"own\",\"saving_accounts\":\"little\",\"checking_account\":\"moderate\",\"credit_amount\":1922,\"duration\":12,\"purpose\":\"furniture\\/equipment\",\"age\":37},{\"risk\":0,\"sex\":\"male\",\"job\":2,\"housing\":\"own\",\"saving_accounts\":\"little\",\"checking_account\":\"little\",\"credit_amount\":2303,\"duration\":24,\"purpose\":\"car\",\"age\":45},{\"risk\":0,\"sex\":\"male\",\"job\":3,\"housing\":\"own\",\"saving_accounts\":\"moderate\",\"checking_account\":\"moderate\",\"credit_amount\":8086,\"duration\":36,\"purpose\":\"car\",\"age\":42},{\"risk\":1,\"sex\":\"male\",\"job\":2,\"housing\":\"own\",\"saving_accounts\":\"little\",\"checking_account\":\"not_known\",\"credit_amount\":2346,\"duration\":24,\"purpose\":\"car\",\"age\":35},{\"risk\":1,\"sex\":\"male\",\"job\":2,\"housing\":\"free\",\"saving_accounts\":\"little\",\"checking_account\":\"little\",\"credit_amount\":3973,\"duration\":14,\"purpose\":\"car\",\"age\":22},{\"risk\":0,\"sex\":\"male\",\"job\":1,\"housing\":\"own\",\"saving_accounts\":\"little\",\"checking_account\":\"moderate\",\"credit_amount\":888,\"duration\":12,\"purpose\":\"car\",\"age\":41},{\"risk\":1,\"sex\":\"male\",\"job\":2,\"housing\":\"own\",\"saving_accounts\":\"not_known\",\"checking_account\":\"not_known\",\"credit_amount\":10222,\"duration\":48,\"purpose\":\"radio\\/TV\",\"age\":37},{\"risk\":1,\"sex\":\"female\",\"job\":2,\"housing\":\"own\",\"saving_accounts\":\"little\",\"checking_account\":\"moderate\",\"credit_amount\":4221,\"duration\":30,\"purpose\":\"business\",\"age\":28},{\"risk\":1,\"sex\":\"male\",\"job\":2,\"housing\":\"own\",\"saving_accounts\":\"little\",\"checking_account\":\"moderate\",\"credit_amount\":6361,\"duration\":18,\"purpose\":\"furniture\\/equipment\",\"age\":41},{\"risk\":1,\"sex\":\"male\",\"job\":2,\"housing\":\"rent\",\"saving_accounts\":\"little\",\"checking_account\":\"rich\",\"credit_amount\":1297,\"duration\":12,\"purpose\":\"radio\\/TV\",\"age\":23},{\"risk\":0,\"sex\":\"male\",\"job\":2,\"housing\":\"own\",\"saving_accounts\":\"not_known\",\"checking_account\":\"little\",\"credit_amount\":900,\"duration\":12,\"purpose\":\"car\",\"age\":23},{\"risk\":1,\"sex\":\"male\",\"job\":2,\"housing\":\"own\",\"saving_accounts\":\"little\",\"checking_account\":\"not_known\",\"credit_amount\":2241,\"duration\":21,\"purpose\":\"furniture\\/equipment\",\"age\":50},{\"risk\":1,\"sex\":\"male\",\"job\":3,\"housing\":\"own\",\"saving_accounts\":\"little\",\"checking_account\":\"moderate\",\"credit_amount\":1050,\"duration\":6,\"purpose\":\"furniture\\/equipment\",\"age\":35},{\"risk\":1,\"sex\":\"female\",\"job\":1,\"housing\":\"own\",\"saving_accounts\":\"little\",\"checking_account\":\"rich\",\"credit_amount\":1047,\"duration\":6,\"purpose\":\"education\",\"age\":50},{\"risk\":1,\"sex\":\"male\",\"job\":3,\"housing\":\"own\",\"saving_accounts\":\"little\",\"checking_account\":\"not_known\",\"credit_amount\":6314,\"duration\":24,\"purpose\":\"vacation\\/others\",\"age\":27},{\"risk\":1,\"sex\":\"male\",\"job\":2,\"housing\":\"own\",\"saving_accounts\":\"rich\",\"checking_account\":\"moderate\",\"credit_amount\":3496,\"duration\":30,\"purpose\":\"furniture\\/equipment\",\"age\":34},{\"risk\":1,\"sex\":\"female\",\"job\":2,\"housing\":\"own\",\"saving_accounts\":\"little\",\"checking_account\":\"not_known\",\"credit_amount\":3609,\"duration\":48,\"purpose\":\"business\",\"age\":27},{\"risk\":0,\"sex\":\"male\",\"job\":2,\"housing\":\"rent\",\"saving_accounts\":\"little\",\"checking_account\":\"little\",\"credit_amount\":4843,\"duration\":12,\"purpose\":\"car\",\"age\":43},{\"risk\":1,\"sex\":\"male\",\"job\":2,\"housing\":\"own\",\"saving_accounts\":\"little\",\"checking_account\":\"rich\",\"credit_amount\":3017,\"duration\":30,\"purpose\":\"radio\\/TV\",\"age\":47},{\"risk\":1,\"sex\":\"male\",\"job\":1,\"housing\":\"own\",\"saving_accounts\":\"moderate\",\"checking_account\":\"not_known\",\"credit_amount\":4139,\"duration\":24,\"purpose\":\"business\",\"age\":27},{\"risk\":1,\"sex\":\"male\",\"job\":2,\"housing\":\"own\",\"saving_accounts\":\"moderate\",\"checking_account\":\"not_known\",\"credit_amount\":5742,\"duration\":36,\"purpose\":\"business\",\"age\":31},{\"risk\":1,\"sex\":\"male\",\"job\":3,\"housing\":\"own\",\"saving_accounts\":\"little\",\"checking_account\":\"not_known\",\"credit_amount\":10366,\"duration\":60,\"purpose\":\"car\",\"age\":42},{\"risk\":1,\"sex\":\"male\",\"job\":2,\"housing\":\"own\",\"saving_accounts\":\"quite rich\",\"checking_account\":\"not_known\",\"credit_amount\":2080,\"duration\":6,\"purpose\":\"car\",\"age\":24},{\"risk\":0,\"sex\":\"male\",\"job\":1,\"housing\":\"own\",\"saving_accounts\":\"quite rich\",\"checking_account\":\"not_known\",\"credit_amount\":2580,\"duration\":21,\"purpose\":\"business\",\"age\":41},{\"risk\":1,\"sex\":\"female\",\"job\":3,\"housing\":\"rent\",\"saving_accounts\":\"little\",\"checking_account\":\"not_known\",\"credit_amount\":4530,\"duration\":30,\"purpose\":\"radio\\/TV\",\"age\":26},{\"risk\":1,\"sex\":\"male\",\"job\":2,\"housing\":\"own\",\"saving_accounts\":\"little\",\"checking_account\":\"not_known\",\"credit_amount\":5150,\"duration\":24,\"purpose\":\"furniture\\/equipment\",\"age\":33},{\"risk\":0,\"sex\":\"male\",\"job\":2,\"housing\":\"own\",\"saving_accounts\":\"moderate\",\"checking_account\":\"moderate\",\"credit_amount\":5595,\"duration\":72,\"purpose\":\"radio\\/TV\",\"age\":24},{\"risk\":1,\"sex\":\"male\",\"job\":1,\"housing\":\"rent\",\"saving_accounts\":\"little\",\"checking_account\":\"little\",\"credit_amount\":2384,\"duration\":24,\"purpose\":\"radio\\/TV\",\"age\":64},{\"risk\":1,\"sex\":\"female\",\"job\":2,\"housing\":\"own\",\"saving_accounts\":\"little\",\"checking_account\":\"not_known\",\"credit_amount\":1453,\"duration\":18,\"purpose\":\"radio\\/TV\",\"age\":26},{\"risk\":1,\"sex\":\"female\",\"job\":2,\"housing\":\"own\",\"saving_accounts\":\"little\",\"checking_account\":\"not_known\",\"credit_amount\":1538,\"duration\":6,\"purpose\":\"education\",\"age\":56},{\"risk\":1,\"sex\":\"male\",\"job\":2,\"housing\":\"free\",\"saving_accounts\":\"not_known\",\"checking_account\":\"not_known\",\"credit_amount\":2279,\"duration\":12,\"purpose\":\"radio\\/TV\",\"age\":37},{\"risk\":1,\"sex\":\"male\",\"job\":2,\"housing\":\"own\",\"saving_accounts\":\"little\",\"checking_account\":\"not_known\",\"credit_amount\":1478,\"duration\":15,\"purpose\":\"radio\\/TV\",\"age\":33},{\"risk\":1,\"sex\":\"male\",\"job\":2,\"housing\":\"free\",\"saving_accounts\":\"little\",\"checking_account\":\"not_known\",\"credit_amount\":5103,\"duration\":24,\"purpose\":\"radio\\/TV\",\"age\":47},{\"risk\":1,\"sex\":\"male\",\"job\":1,\"housing\":\"own\",\"saving_accounts\":\"moderate\",\"checking_account\":\"moderate\",\"credit_amount\":9857,\"duration\":36,\"purpose\":\"business\",\"age\":31},{\"risk\":1,\"sex\":\"male\",\"job\":2,\"housing\":\"free\",\"saving_accounts\":\"not_known\",\"checking_account\":\"not_known\",\"credit_amount\":6527,\"duration\":60,\"purpose\":\"car\",\"age\":34},{\"risk\":1,\"sex\":\"male\",\"job\":2,\"housing\":\"own\",\"saving_accounts\":\"not_known\",\"checking_account\":\"rich\",\"credit_amount\":1347,\"duration\":10,\"purpose\":\"radio\\/TV\",\"age\":27},{\"risk\":1,\"sex\":\"male\",\"job\":2,\"housing\":\"free\",\"saving_accounts\":\"moderate\",\"checking_account\":\"moderate\",\"credit_amount\":2862,\"duration\":36,\"purpose\":\"car\",\"age\":30},{\"risk\":1,\"sex\":\"male\",\"job\":2,\"housing\":\"own\",\"saving_accounts\":\"moderate\",\"checking_account\":\"not_known\",\"credit_amount\":2753,\"duration\":9,\"purpose\":\"radio\\/TV\",\"age\":35},{\"risk\":1,\"sex\":\"male\",\"job\":2,\"housing\":\"own\",\"saving_accounts\":\"rich\",\"checking_account\":\"little\",\"credit_amount\":3651,\"duration\":12,\"purpose\":\"car\",\"age\":31},{\"risk\":1,\"sex\":\"male\",\"job\":2,\"housing\":\"own\",\"saving_accounts\":\"little\",\"checking_account\":\"little\",\"credit_amount\":975,\"duration\":15,\"purpose\":\"furniture\\/equipment\",\"age\":25},{\"risk\":1,\"sex\":\"female\",\"job\":1,\"housing\":\"own\",\"saving_accounts\":\"moderate\",\"checking_account\":\"moderate\",\"credit_amount\":2631,\"duration\":15,\"purpose\":\"repairs\",\"age\":25},{\"risk\":1,\"sex\":\"male\",\"job\":2,\"housing\":\"own\",\"saving_accounts\":\"moderate\",\"checking_account\":\"moderate\",\"credit_amount\":2896,\"duration\":24,\"purpose\":\"radio\\/TV\",\"age\":29},{\"risk\":1,\"sex\":\"male\",\"job\":1,\"housing\":\"own\",\"saving_accounts\":\"not_known\",\"checking_account\":\"little\",\"credit_amount\":4716,\"duration\":6,\"purpose\":\"car\",\"age\":44},{\"risk\":1,\"sex\":\"male\",\"job\":2,\"housing\":\"own\",\"saving_accounts\":\"little\",\"checking_account\":\"not_known\",\"credit_amount\":2284,\"duration\":24,\"purpose\":\"radio\\/TV\",\"age\":28},{\"risk\":1,\"sex\":\"male\",\"job\":2,\"housing\":\"rent\",\"saving_accounts\":\"quite rich\",\"checking_account\":\"not_known\",\"credit_amount\":1236,\"duration\":6,\"purpose\":\"car\",\"age\":50},{\"risk\":1,\"sex\":\"male\",\"job\":2,\"housing\":\"own\",\"saving_accounts\":\"little\",\"checking_account\":\"moderate\",\"credit_amount\":1103,\"duration\":12,\"purpose\":\"radio\\/TV\",\"age\":29},{\"risk\":1,\"sex\":\"female\",\"job\":0,\"housing\":\"own\",\"saving_accounts\":\"little\",\"checking_account\":\"not_known\",\"credit_amount\":926,\"duration\":12,\"purpose\":\"car\",\"age\":38},{\"risk\":1,\"sex\":\"male\",\"job\":2,\"housing\":\"own\",\"saving_accounts\":\"little\",\"checking_account\":\"not_known\",\"credit_amount\":1800,\"duration\":18,\"purpose\":\"radio\\/TV\",\"age\":24},{\"risk\":1,\"sex\":\"male\",\"job\":3,\"housing\":\"rent\",\"saving_accounts\":\"little\",\"checking_account\":\"rich\",\"credit_amount\":1905,\"duration\":15,\"purpose\":\"education\",\"age\":40},{\"risk\":0,\"sex\":\"female\",\"job\":1,\"housing\":\"rent\",\"saving_accounts\":\"quite rich\",\"checking_account\":\"not_known\",\"credit_amount\":1123,\"duration\":12,\"purpose\":\"furniture\\/equipment\",\"age\":29},{\"risk\":0,\"sex\":\"male\",\"job\":2,\"housing\":\"free\",\"saving_accounts\":\"little\",\"checking_account\":\"little\",\"credit_amount\":6331,\"duration\":48,\"purpose\":\"car\",\"age\":46},{\"risk\":1,\"sex\":\"female\",\"job\":2,\"housing\":\"free\",\"saving_accounts\":\"moderate\",\"checking_account\":\"rich\",\"credit_amount\":1377,\"duration\":24,\"purpose\":\"radio\\/TV\",\"age\":47},{\"risk\":1,\"sex\":\"male\",\"job\":2,\"housing\":\"own\",\"saving_accounts\":\"moderate\",\"checking_account\":\"moderate\",\"credit_amount\":2503,\"duration\":30,\"purpose\":\"business\",\"age\":41},{\"risk\":1,\"sex\":\"female\",\"job\":2,\"housing\":\"own\",\"saving_accounts\":\"little\",\"checking_account\":\"moderate\",\"credit_amount\":2528,\"duration\":27,\"purpose\":\"business\",\"age\":32},{\"risk\":1,\"sex\":\"female\",\"job\":2,\"housing\":\"free\",\"saving_accounts\":\"quite rich\",\"checking_account\":\"not_known\",\"credit_amount\":5324,\"duration\":15,\"purpose\":\"car\",\"age\":35},{\"risk\":0,\"sex\":\"male\",\"job\":2,\"housing\":\"own\",\"saving_accounts\":\"moderate\",\"checking_account\":\"moderate\",\"credit_amount\":6560,\"duration\":48,\"purpose\":\"car\",\"age\":24},{\"risk\":0,\"sex\":\"female\",\"job\":2,\"housing\":\"rent\",\"saving_accounts\":\"little\",\"checking_account\":\"moderate\",\"credit_amount\":2969,\"duration\":12,\"purpose\":\"furniture\\/equipment\",\"age\":25},{\"risk\":1,\"sex\":\"female\",\"job\":2,\"housing\":\"own\",\"saving_accounts\":\"little\",\"checking_account\":\"moderate\",\"credit_amount\":1206,\"duration\":9,\"purpose\":\"radio\\/TV\",\"age\":25},{\"risk\":1,\"sex\":\"male\",\"job\":1,\"housing\":\"own\",\"saving_accounts\":\"little\",\"checking_account\":\"moderate\",\"credit_amount\":2118,\"duration\":9,\"purpose\":\"radio\\/TV\",\"age\":37},{\"risk\":1,\"sex\":\"male\",\"job\":3,\"housing\":\"own\",\"saving_accounts\":\"quite rich\",\"checking_account\":\"not_known\",\"credit_amount\":629,\"duration\":18,\"purpose\":\"radio\\/TV\",\"age\":32},{\"risk\":0,\"sex\":\"female\",\"job\":2,\"housing\":\"free\",\"saving_accounts\":\"little\",\"checking_account\":\"little\",\"credit_amount\":1198,\"duration\":6,\"purpose\":\"education\",\"age\":35},{\"risk\":1,\"sex\":\"male\",\"job\":3,\"housing\":\"own\",\"saving_accounts\":\"not_known\",\"checking_account\":\"not_known\",\"credit_amount\":2476,\"duration\":21,\"purpose\":\"car\",\"age\":46},{\"risk\":1,\"sex\":\"male\",\"job\":1,\"housing\":\"own\",\"saving_accounts\":\"little\",\"checking_account\":\"little\",\"credit_amount\":1138,\"duration\":9,\"purpose\":\"radio\\/TV\",\"age\":25},{\"risk\":0,\"sex\":\"male\",\"job\":3,\"housing\":\"own\",\"saving_accounts\":\"little\",\"checking_account\":\"moderate\",\"credit_amount\":14027,\"duration\":60,\"purpose\":\"car\",\"age\":27},{\"risk\":1,\"sex\":\"male\",\"job\":2,\"housing\":\"own\",\"saving_accounts\":\"not_known\",\"checking_account\":\"not_known\",\"credit_amount\":7596,\"duration\":30,\"purpose\":\"car\",\"age\":63},{\"risk\":1,\"sex\":\"male\",\"job\":2,\"housing\":\"own\",\"saving_accounts\":\"not_known\",\"checking_account\":\"not_known\",\"credit_amount\":3077,\"duration\":30,\"purpose\":\"radio\\/TV\",\"age\":40},{\"risk\":1,\"sex\":\"male\",\"job\":3,\"housing\":\"free\",\"saving_accounts\":\"little\",\"checking_account\":\"not_known\",\"credit_amount\":1505,\"duration\":18,\"purpose\":\"radio\\/TV\",\"age\":32},{\"risk\":1,\"sex\":\"male\",\"job\":2,\"housing\":\"own\",\"saving_accounts\":\"not_known\",\"checking_account\":\"rich\",\"credit_amount\":3148,\"duration\":24,\"purpose\":\"radio\\/TV\",\"age\":31},{\"risk\":1,\"sex\":\"male\",\"job\":2,\"housing\":\"own\",\"saving_accounts\":\"moderate\",\"checking_account\":\"moderate\",\"credit_amount\":6148,\"duration\":20,\"purpose\":\"car\",\"age\":31},{\"risk\":0,\"sex\":\"male\",\"job\":3,\"housing\":\"own\",\"saving_accounts\":\"little\",\"checking_account\":\"rich\",\"credit_amount\":1337,\"duration\":9,\"purpose\":\"radio\\/TV\",\"age\":34},{\"risk\":0,\"sex\":\"female\",\"job\":2,\"housing\":\"rent\",\"saving_accounts\":\"rich\",\"checking_account\":\"moderate\",\"credit_amount\":433,\"duration\":6,\"purpose\":\"education\",\"age\":24},{\"risk\":0,\"sex\":\"female\",\"job\":1,\"housing\":\"own\",\"saving_accounts\":\"little\",\"checking_account\":\"little\",\"credit_amount\":1228,\"duration\":12,\"purpose\":\"car\",\"age\":24},{\"risk\":1,\"sex\":\"female\",\"job\":1,\"housing\":\"own\",\"saving_accounts\":\"quite rich\",\"checking_account\":\"moderate\",\"credit_amount\":790,\"duration\":9,\"purpose\":\"radio\\/TV\",\"age\":66},{\"risk\":0,\"sex\":\"female\",\"job\":2,\"housing\":\"rent\",\"saving_accounts\":\"little\",\"checking_account\":\"not_known\",\"credit_amount\":2570,\"duration\":27,\"purpose\":\"car\",\"age\":21},{\"risk\":1,\"sex\":\"female\",\"job\":1,\"housing\":\"own\",\"saving_accounts\":\"rich\",\"checking_account\":\"not_known\",\"credit_amount\":250,\"duration\":6,\"purpose\":\"car\",\"age\":41},{\"risk\":1,\"sex\":\"male\",\"job\":1,\"housing\":\"own\",\"saving_accounts\":\"quite rich\",\"checking_account\":\"not_known\",\"credit_amount\":1316,\"duration\":15,\"purpose\":\"radio\\/TV\",\"age\":47},{\"risk\":0,\"sex\":\"female\",\"job\":2,\"housing\":\"rent\",\"saving_accounts\":\"little\",\"checking_account\":\"little\",\"credit_amount\":1882,\"duration\":18,\"purpose\":\"radio\\/TV\",\"age\":25},{\"risk\":0,\"sex\":\"female\",\"job\":2,\"housing\":\"rent\",\"saving_accounts\":\"little\",\"checking_account\":\"moderate\",\"credit_amount\":6416,\"duration\":48,\"purpose\":\"business\",\"age\":59},{\"risk\":1,\"sex\":\"male\",\"job\":2,\"housing\":\"own\",\"saving_accounts\":\"rich\",\"checking_account\":\"rich\",\"credit_amount\":1275,\"duration\":24,\"purpose\":\"business\",\"age\":36},{\"risk\":1,\"sex\":\"male\",\"job\":2,\"housing\":\"own\",\"saving_accounts\":\"little\",\"checking_account\":\"moderate\",\"credit_amount\":6403,\"duration\":24,\"purpose\":\"radio\\/TV\",\"age\":33},{\"risk\":0,\"sex\":\"male\",\"job\":1,\"housing\":\"rent\",\"saving_accounts\":\"little\",\"checking_account\":\"little\",\"credit_amount\":1987,\"duration\":24,\"purpose\":\"radio\\/TV\",\"age\":21},{\"risk\":1,\"sex\":\"female\",\"job\":1,\"housing\":\"own\",\"saving_accounts\":\"little\",\"checking_account\":\"moderate\",\"credit_amount\":760,\"duration\":8,\"purpose\":\"radio\\/TV\",\"age\":44},{\"risk\":1,\"sex\":\"female\",\"job\":2,\"housing\":\"rent\",\"saving_accounts\":\"rich\",\"checking_account\":\"not_known\",\"credit_amount\":2603,\"duration\":24,\"purpose\":\"car\",\"age\":28},{\"risk\":1,\"sex\":\"female\",\"job\":2,\"housing\":\"own\",\"saving_accounts\":\"little\",\"checking_account\":\"not_known\",\"credit_amount\":3380,\"duration\":4,\"purpose\":\"car\",\"age\":37},{\"risk\":1,\"sex\":\"female\",\"job\":0,\"housing\":\"own\",\"saving_accounts\":\"not_known\",\"checking_account\":\"moderate\",\"credit_amount\":3990,\"duration\":36,\"purpose\":\"domestic appliances\",\"age\":29},{\"risk\":0,\"sex\":\"female\",\"job\":3,\"housing\":\"rent\",\"saving_accounts\":\"little\",\"checking_account\":\"moderate\",\"credit_amount\":11560,\"duration\":24,\"purpose\":\"car\",\"age\":23},{\"risk\":1,\"sex\":\"male\",\"job\":1,\"housing\":\"own\",\"saving_accounts\":\"moderate\",\"checking_account\":\"little\",\"credit_amount\":4380,\"duration\":18,\"purpose\":\"car\",\"age\":35},{\"risk\":1,\"sex\":\"male\",\"job\":3,\"housing\":\"own\",\"saving_accounts\":\"little\",\"checking_account\":\"not_known\",\"credit_amount\":6761,\"duration\":6,\"purpose\":\"car\",\"age\":45},{\"risk\":0,\"sex\":\"female\",\"job\":1,\"housing\":\"rent\",\"saving_accounts\":\"moderate\",\"checking_account\":\"moderate\",\"credit_amount\":4280,\"duration\":30,\"purpose\":\"business\",\"age\":26},{\"risk\":1,\"sex\":\"male\",\"job\":2,\"housing\":\"own\",\"saving_accounts\":\"moderate\",\"checking_account\":\"little\",\"credit_amount\":2325,\"duration\":24,\"purpose\":\"car\",\"age\":32},{\"risk\":1,\"sex\":\"male\",\"job\":1,\"housing\":\"own\",\"saving_accounts\":\"little\",\"checking_account\":\"moderate\",\"credit_amount\":1048,\"duration\":10,\"purpose\":\"radio\\/TV\",\"age\":23},{\"risk\":1,\"sex\":\"male\",\"job\":2,\"housing\":\"own\",\"saving_accounts\":\"not_known\",\"checking_account\":\"not_known\",\"credit_amount\":3160,\"duration\":21,\"purpose\":\"radio\\/TV\",\"age\":41},{\"risk\":1,\"sex\":\"male\",\"job\":2,\"housing\":\"own\",\"saving_accounts\":\"quite rich\",\"checking_account\":\"little\",\"credit_amount\":2483,\"duration\":24,\"purpose\":\"furniture\\/equipment\",\"age\":22},{\"risk\":1,\"sex\":\"male\",\"job\":3,\"housing\":\"own\",\"saving_accounts\":\"not_known\",\"checking_account\":\"little\",\"credit_amount\":14179,\"duration\":39,\"purpose\":\"furniture\\/equipment\",\"age\":30},{\"risk\":1,\"sex\":\"male\",\"job\":1,\"housing\":\"own\",\"saving_accounts\":\"little\",\"checking_account\":\"little\",\"credit_amount\":1797,\"duration\":13,\"purpose\":\"business\",\"age\":28},{\"risk\":1,\"sex\":\"female\",\"job\":2,\"housing\":\"rent\",\"saving_accounts\":\"little\",\"checking_account\":\"little\",\"credit_amount\":2511,\"duration\":15,\"purpose\":\"car\",\"age\":23},{\"risk\":0,\"sex\":\"female\",\"job\":1,\"housing\":\"own\",\"saving_accounts\":\"little\",\"checking_account\":\"little\",\"credit_amount\":1274,\"duration\":12,\"purpose\":\"car\",\"age\":37},{\"risk\":1,\"sex\":\"male\",\"job\":2,\"housing\":\"own\",\"saving_accounts\":\"not_known\",\"checking_account\":\"not_known\",\"credit_amount\":5248,\"duration\":21,\"purpose\":\"car\",\"age\":26},{\"risk\":1,\"sex\":\"male\",\"job\":2,\"housing\":\"own\",\"saving_accounts\":\"little\",\"checking_account\":\"not_known\",\"credit_amount\":3029,\"duration\":15,\"purpose\":\"car\",\"age\":33},{\"risk\":1,\"sex\":\"female\",\"job\":2,\"housing\":\"own\",\"saving_accounts\":\"little\",\"checking_account\":\"little\",\"credit_amount\":428,\"duration\":6,\"purpose\":\"furniture\\/equipment\",\"age\":49},{\"risk\":0,\"sex\":\"female\",\"job\":1,\"housing\":\"own\",\"saving_accounts\":\"little\",\"checking_account\":\"little\",\"credit_amount\":976,\"duration\":18,\"purpose\":\"car\",\"age\":23},{\"risk\":1,\"sex\":\"female\",\"job\":1,\"housing\":\"rent\",\"saving_accounts\":\"moderate\",\"checking_account\":\"moderate\",\"credit_amount\":841,\"duration\":12,\"purpose\":\"business\",\"age\":23},{\"risk\":1,\"sex\":\"female\",\"job\":2,\"housing\":\"own\",\"saving_accounts\":\"little\",\"checking_account\":\"not_known\",\"credit_amount\":5771,\"duration\":30,\"purpose\":\"radio\\/TV\",\"age\":25},{\"risk\":0,\"sex\":\"male\",\"job\":2,\"housing\":\"free\",\"saving_accounts\":\"rich\",\"checking_account\":\"not_known\",\"credit_amount\":1555,\"duration\":12,\"purpose\":\"repairs\",\"age\":55},{\"risk\":0,\"sex\":\"female\",\"job\":2,\"housing\":\"rent\",\"saving_accounts\":\"not_known\",\"checking_account\":\"little\",\"credit_amount\":1285,\"duration\":24,\"purpose\":\"car\",\"age\":32},{\"risk\":1,\"sex\":\"male\",\"job\":0,\"housing\":\"own\",\"saving_accounts\":\"little\",\"checking_account\":\"rich\",\"credit_amount\":1299,\"duration\":6,\"purpose\":\"car\",\"age\":74},{\"risk\":0,\"sex\":\"male\",\"job\":2,\"housing\":\"free\",\"saving_accounts\":\"not_known\",\"checking_account\":\"rich\",\"credit_amount\":1271,\"duration\":15,\"purpose\":\"radio\\/TV\",\"age\":39},{\"risk\":1,\"sex\":\"male\",\"job\":2,\"housing\":\"own\",\"saving_accounts\":\"little\",\"checking_account\":\"not_known\",\"credit_amount\":1393,\"duration\":24,\"purpose\":\"car\",\"age\":31},{\"risk\":0,\"sex\":\"male\",\"job\":2,\"housing\":\"own\",\"saving_accounts\":\"little\",\"checking_account\":\"little\",\"credit_amount\":691,\"duration\":12,\"purpose\":\"car\",\"age\":35},{\"risk\":1,\"sex\":\"female\",\"job\":2,\"housing\":\"own\",\"saving_accounts\":\"not_known\",\"checking_account\":\"not_known\",\"credit_amount\":5045,\"duration\":15,\"purpose\":\"car\",\"age\":59},{\"risk\":0,\"sex\":\"female\",\"job\":2,\"housing\":\"rent\",\"saving_accounts\":\"little\",\"checking_account\":\"little\",\"credit_amount\":2124,\"duration\":18,\"purpose\":\"furniture\\/equipment\",\"age\":24},{\"risk\":1,\"sex\":\"male\",\"job\":1,\"housing\":\"own\",\"saving_accounts\":\"little\",\"checking_account\":\"little\",\"credit_amount\":2214,\"duration\":12,\"purpose\":\"radio\\/TV\",\"age\":24},{\"risk\":0,\"sex\":\"male\",\"job\":3,\"housing\":\"free\",\"saving_accounts\":\"not_known\",\"checking_account\":\"not_known\",\"credit_amount\":12680,\"duration\":21,\"purpose\":\"car\",\"age\":30},{\"risk\":1,\"sex\":\"male\",\"job\":2,\"housing\":\"own\",\"saving_accounts\":\"moderate\",\"checking_account\":\"not_known\",\"credit_amount\":2463,\"duration\":24,\"purpose\":\"car\",\"age\":27},{\"risk\":1,\"sex\":\"male\",\"job\":1,\"housing\":\"own\",\"saving_accounts\":\"little\",\"checking_account\":\"moderate\",\"credit_amount\":1155,\"duration\":12,\"purpose\":\"radio\\/TV\",\"age\":40},{\"risk\":0,\"sex\":\"male\",\"job\":1,\"housing\":\"own\",\"saving_accounts\":\"little\",\"checking_account\":\"little\",\"credit_amount\":3108,\"duration\":30,\"purpose\":\"furniture\\/equipment\",\"age\":31},{\"risk\":1,\"sex\":\"female\",\"job\":2,\"housing\":\"rent\",\"saving_accounts\":\"not_known\",\"checking_account\":\"not_known\",\"credit_amount\":2901,\"duration\":10,\"purpose\":\"car\",\"age\":31},{\"risk\":1,\"sex\":\"male\",\"job\":2,\"housing\":\"rent\",\"saving_accounts\":\"little\",\"checking_account\":\"moderate\",\"credit_amount\":3617,\"duration\":12,\"purpose\":\"furniture\\/equipment\",\"age\":28},{\"risk\":1,\"sex\":\"male\",\"job\":1,\"housing\":\"own\",\"saving_accounts\":\"little\",\"checking_account\":\"not_known\",\"credit_amount\":1655,\"duration\":12,\"purpose\":\"radio\\/TV\",\"age\":63},{\"risk\":1,\"sex\":\"female\",\"job\":2,\"housing\":\"rent\",\"saving_accounts\":\"not_known\",\"checking_account\":\"little\",\"credit_amount\":2812,\"duration\":24,\"purpose\":\"car\",\"age\":26},{\"risk\":0,\"sex\":\"female\",\"job\":3,\"housing\":\"own\",\"saving_accounts\":\"little\",\"checking_account\":\"little\",\"credit_amount\":8065,\"duration\":36,\"purpose\":\"education\",\"age\":25},{\"risk\":1,\"sex\":\"male\",\"job\":3,\"housing\":\"own\",\"saving_accounts\":\"little\",\"checking_account\":\"not_known\",\"credit_amount\":3275,\"duration\":21,\"purpose\":\"car\",\"age\":36},{\"risk\":1,\"sex\":\"male\",\"job\":2,\"housing\":\"own\",\"saving_accounts\":\"moderate\",\"checking_account\":\"not_known\",\"credit_amount\":2223,\"duration\":24,\"purpose\":\"radio\\/TV\",\"age\":52},{\"risk\":1,\"sex\":\"male\",\"job\":0,\"housing\":\"free\",\"saving_accounts\":\"quite rich\",\"checking_account\":\"rich\",\"credit_amount\":1480,\"duration\":12,\"purpose\":\"car\",\"age\":66},{\"risk\":0,\"sex\":\"female\",\"job\":2,\"housing\":\"rent\",\"saving_accounts\":\"not_known\",\"checking_account\":\"little\",\"credit_amount\":1371,\"duration\":24,\"purpose\":\"car\",\"age\":25},{\"risk\":1,\"sex\":\"male\",\"job\":2,\"housing\":\"own\",\"saving_accounts\":\"little\",\"checking_account\":\"not_known\",\"credit_amount\":3535,\"duration\":36,\"purpose\":\"car\",\"age\":37},{\"risk\":1,\"sex\":\"female\",\"job\":2,\"housing\":\"own\",\"saving_accounts\":\"little\",\"checking_account\":\"little\",\"credit_amount\":3509,\"duration\":18,\"purpose\":\"radio\\/TV\",\"age\":25},{\"risk\":1,\"sex\":\"male\",\"job\":3,\"housing\":\"own\",\"saving_accounts\":\"rich\",\"checking_account\":\"not_known\",\"credit_amount\":5711,\"duration\":36,\"purpose\":\"car\",\"age\":38},{\"risk\":1,\"sex\":\"female\",\"job\":2,\"housing\":\"own\",\"saving_accounts\":\"little\",\"checking_account\":\"moderate\",\"credit_amount\":3872,\"duration\":18,\"purpose\":\"repairs\",\"age\":67},{\"risk\":0,\"sex\":\"male\",\"job\":2,\"housing\":\"own\",\"saving_accounts\":\"little\",\"checking_account\":\"moderate\",\"credit_amount\":4933,\"duration\":39,\"purpose\":\"radio\\/TV\",\"age\":25},{\"risk\":1,\"sex\":\"male\",\"job\":2,\"housing\":\"own\",\"saving_accounts\":\"rich\",\"checking_account\":\"not_known\",\"credit_amount\":1940,\"duration\":24,\"purpose\":\"car\",\"age\":60},{\"risk\":1,\"sex\":\"male\",\"job\":1,\"housing\":\"own\",\"saving_accounts\":\"little\",\"checking_account\":\"moderate\",\"credit_amount\":1410,\"duration\":12,\"purpose\":\"education\",\"age\":31},{\"risk\":0,\"sex\":\"female\",\"job\":1,\"housing\":\"own\",\"saving_accounts\":\"moderate\",\"checking_account\":\"moderate\",\"credit_amount\":836,\"duration\":12,\"purpose\":\"car\",\"age\":23},{\"risk\":1,\"sex\":\"male\",\"job\":3,\"housing\":\"own\",\"saving_accounts\":\"not_known\",\"checking_account\":\"moderate\",\"credit_amount\":6468,\"duration\":20,\"purpose\":\"car\",\"age\":60},{\"risk\":1,\"sex\":\"male\",\"job\":1,\"housing\":\"own\",\"saving_accounts\":\"rich\",\"checking_account\":\"moderate\",\"credit_amount\":1941,\"duration\":18,\"purpose\":\"business\",\"age\":35},{\"risk\":1,\"sex\":\"male\",\"job\":2,\"housing\":\"own\",\"saving_accounts\":\"quite rich\",\"checking_account\":\"not_known\",\"credit_amount\":2675,\"duration\":22,\"purpose\":\"radio\\/TV\",\"age\":40},{\"risk\":1,\"sex\":\"male\",\"job\":2,\"housing\":\"own\",\"saving_accounts\":\"not_known\",\"checking_account\":\"not_known\",\"credit_amount\":2751,\"duration\":48,\"purpose\":\"car\",\"age\":38},{\"risk\":0,\"sex\":\"male\",\"job\":2,\"housing\":\"free\",\"saving_accounts\":\"little\",\"checking_account\":\"moderate\",\"credit_amount\":6224,\"duration\":48,\"purpose\":\"education\",\"age\":50},{\"risk\":0,\"sex\":\"male\",\"job\":2,\"housing\":\"own\",\"saving_accounts\":\"little\",\"checking_account\":\"little\",\"credit_amount\":5998,\"duration\":40,\"purpose\":\"education\",\"age\":27},{\"risk\":0,\"sex\":\"female\",\"job\":2,\"housing\":\"own\",\"saving_accounts\":\"little\",\"checking_account\":\"moderate\",\"credit_amount\":1188,\"duration\":21,\"purpose\":\"business\",\"age\":39},{\"risk\":1,\"sex\":\"male\",\"job\":3,\"housing\":\"own\",\"saving_accounts\":\"not_known\",\"checking_account\":\"not_known\",\"credit_amount\":6313,\"duration\":24,\"purpose\":\"car\",\"age\":41},{\"risk\":1,\"sex\":\"male\",\"job\":2,\"housing\":\"own\",\"saving_accounts\":\"not_known\",\"checking_account\":\"not_known\",\"credit_amount\":1221,\"duration\":6,\"purpose\":\"furniture\\/equipment\",\"age\":27},{\"risk\":1,\"sex\":\"male\",\"job\":2,\"housing\":\"free\",\"saving_accounts\":\"little\",\"checking_account\":\"rich\",\"credit_amount\":2892,\"duration\":24,\"purpose\":\"furniture\\/equipment\",\"age\":51},{\"risk\":1,\"sex\":\"male\",\"job\":2,\"housing\":\"rent\",\"saving_accounts\":\"quite rich\",\"checking_account\":\"not_known\",\"credit_amount\":3062,\"duration\":24,\"purpose\":\"furniture\\/equipment\",\"age\":32},{\"risk\":1,\"sex\":\"female\",\"job\":2,\"housing\":\"rent\",\"saving_accounts\":\"moderate\",\"checking_account\":\"not_known\",\"credit_amount\":2301,\"duration\":9,\"purpose\":\"furniture\\/equipment\",\"age\":22},{\"risk\":0,\"sex\":\"male\",\"job\":2,\"housing\":\"free\",\"saving_accounts\":\"not_known\",\"checking_account\":\"little\",\"credit_amount\":7511,\"duration\":18,\"purpose\":\"car\",\"age\":51},{\"risk\":1,\"sex\":\"female\",\"job\":1,\"housing\":\"rent\",\"saving_accounts\":\"little\",\"checking_account\":\"not_known\",\"credit_amount\":1258,\"duration\":12,\"purpose\":\"furniture\\/equipment\",\"age\":22},{\"risk\":1,\"sex\":\"male\",\"job\":2,\"housing\":\"own\",\"saving_accounts\":\"not_known\",\"checking_account\":\"not_known\",\"credit_amount\":717,\"duration\":24,\"purpose\":\"car\",\"age\":54},{\"risk\":1,\"sex\":\"male\",\"job\":0,\"housing\":\"own\",\"saving_accounts\":\"not_known\",\"checking_account\":\"moderate\",\"credit_amount\":1549,\"duration\":9,\"purpose\":\"car\",\"age\":35},{\"risk\":1,\"sex\":\"male\",\"job\":2,\"housing\":\"free\",\"saving_accounts\":\"little\",\"checking_account\":\"not_known\",\"credit_amount\":1597,\"duration\":24,\"purpose\":\"education\",\"age\":54},{\"risk\":1,\"sex\":\"female\",\"job\":1,\"housing\":\"rent\",\"saving_accounts\":\"little\",\"checking_account\":\"moderate\",\"credit_amount\":1795,\"duration\":18,\"purpose\":\"radio\\/TV\",\"age\":48},{\"risk\":1,\"sex\":\"female\",\"job\":2,\"housing\":\"own\",\"saving_accounts\":\"little\",\"checking_account\":\"little\",\"credit_amount\":4272,\"duration\":20,\"purpose\":\"furniture\\/equipment\",\"age\":24},{\"risk\":1,\"sex\":\"male\",\"job\":2,\"housing\":\"own\",\"saving_accounts\":\"not_known\",\"checking_account\":\"not_known\",\"credit_amount\":976,\"duration\":12,\"purpose\":\"radio\\/TV\",\"age\":35},{\"risk\":1,\"sex\":\"female\",\"job\":0,\"housing\":\"rent\",\"saving_accounts\":\"not_known\",\"checking_account\":\"moderate\",\"credit_amount\":7472,\"duration\":12,\"purpose\":\"car\",\"age\":24},{\"risk\":0,\"sex\":\"male\",\"job\":2,\"housing\":\"own\",\"saving_accounts\":\"little\",\"checking_account\":\"little\",\"credit_amount\":9271,\"duration\":36,\"purpose\":\"car\",\"age\":24},{\"risk\":1,\"sex\":\"male\",\"job\":1,\"housing\":\"own\",\"saving_accounts\":\"little\",\"checking_account\":\"moderate\",\"credit_amount\":590,\"duration\":6,\"purpose\":\"radio\\/TV\",\"age\":26},{\"risk\":1,\"sex\":\"male\",\"job\":2,\"housing\":\"own\",\"saving_accounts\":\"not_known\",\"checking_account\":\"not_known\",\"credit_amount\":930,\"duration\":12,\"purpose\":\"radio\\/TV\",\"age\":65},{\"risk\":1,\"sex\":\"male\",\"job\":3,\"housing\":\"free\",\"saving_accounts\":\"little\",\"checking_account\":\"moderate\",\"credit_amount\":9283,\"duration\":42,\"purpose\":\"car\",\"age\":55},{\"risk\":0,\"sex\":\"female\",\"job\":0,\"housing\":\"rent\",\"saving_accounts\":\"little\",\"checking_account\":\"moderate\",\"credit_amount\":1778,\"duration\":15,\"purpose\":\"car\",\"age\":26},{\"risk\":1,\"sex\":\"male\",\"job\":2,\"housing\":\"own\",\"saving_accounts\":\"little\",\"checking_account\":\"moderate\",\"credit_amount\":907,\"duration\":8,\"purpose\":\"business\",\"age\":26},{\"risk\":1,\"sex\":\"male\",\"job\":1,\"housing\":\"own\",\"saving_accounts\":\"little\",\"checking_account\":\"moderate\",\"credit_amount\":484,\"duration\":6,\"purpose\":\"radio\\/TV\",\"age\":28},{\"risk\":0,\"sex\":\"male\",\"job\":2,\"housing\":\"own\",\"saving_accounts\":\"little\",\"checking_account\":\"little\",\"credit_amount\":9629,\"duration\":36,\"purpose\":\"car\",\"age\":24},{\"risk\":0,\"sex\":\"male\",\"job\":2,\"housing\":\"own\",\"saving_accounts\":\"little\",\"checking_account\":\"little\",\"credit_amount\":3051,\"duration\":48,\"purpose\":\"domestic appliances\",\"age\":54},{\"risk\":0,\"sex\":\"male\",\"job\":2,\"housing\":\"free\",\"saving_accounts\":\"little\",\"checking_account\":\"little\",\"credit_amount\":3931,\"duration\":48,\"purpose\":\"car\",\"age\":46},{\"risk\":1,\"sex\":\"female\",\"job\":2,\"housing\":\"rent\",\"saving_accounts\":\"little\",\"checking_account\":\"moderate\",\"credit_amount\":7432,\"duration\":36,\"purpose\":\"car\",\"age\":54},{\"risk\":1,\"sex\":\"male\",\"job\":2,\"housing\":\"own\",\"saving_accounts\":\"quite rich\",\"checking_account\":\"not_known\",\"credit_amount\":1338,\"duration\":6,\"purpose\":\"domestic appliances\",\"age\":62},{\"risk\":1,\"sex\":\"female\",\"job\":2,\"housing\":\"rent\",\"saving_accounts\":\"little\",\"checking_account\":\"not_known\",\"credit_amount\":1554,\"duration\":6,\"purpose\":\"radio\\/TV\",\"age\":24},{\"risk\":1,\"sex\":\"male\",\"job\":3,\"housing\":\"own\",\"saving_accounts\":\"little\",\"checking_account\":\"little\",\"credit_amount\":15857,\"duration\":36,\"purpose\":\"vacation\\/others\",\"age\":43},{\"risk\":0,\"sex\":\"male\",\"job\":2,\"housing\":\"own\",\"saving_accounts\":\"little\",\"checking_account\":\"little\",\"credit_amount\":1345,\"duration\":18,\"purpose\":\"radio\\/TV\",\"age\":26},{\"risk\":1,\"sex\":\"male\",\"job\":2,\"housing\":\"own\",\"saving_accounts\":\"little\",\"checking_account\":\"not_known\",\"credit_amount\":1101,\"duration\":12,\"purpose\":\"car\",\"age\":27},{\"risk\":1,\"sex\":\"male\",\"job\":2,\"housing\":\"own\",\"saving_accounts\":\"little\",\"checking_account\":\"rich\",\"credit_amount\":3016,\"duration\":12,\"purpose\":\"radio\\/TV\",\"age\":24},{\"risk\":0,\"sex\":\"male\",\"job\":2,\"housing\":\"own\",\"saving_accounts\":\"little\",\"checking_account\":\"little\",\"credit_amount\":2712,\"duration\":36,\"purpose\":\"furniture\\/equipment\",\"age\":41},{\"risk\":1,\"sex\":\"male\",\"job\":1,\"housing\":\"own\",\"saving_accounts\":\"little\",\"checking_account\":\"little\",\"credit_amount\":731,\"duration\":8,\"purpose\":\"car\",\"age\":47},{\"risk\":1,\"sex\":\"male\",\"job\":3,\"housing\":\"own\",\"saving_accounts\":\"little\",\"checking_account\":\"not_known\",\"credit_amount\":3780,\"duration\":18,\"purpose\":\"furniture\\/equipment\",\"age\":35},{\"risk\":1,\"sex\":\"male\",\"job\":2,\"housing\":\"own\",\"saving_accounts\":\"little\",\"checking_account\":\"little\",\"credit_amount\":1602,\"duration\":21,\"purpose\":\"car\",\"age\":30},{\"risk\":0,\"sex\":\"female\",\"job\":2,\"housing\":\"rent\",\"saving_accounts\":\"little\",\"checking_account\":\"little\",\"credit_amount\":3966,\"duration\":18,\"purpose\":\"car\",\"age\":33},{\"risk\":0,\"sex\":\"male\",\"job\":2,\"housing\":\"own\",\"saving_accounts\":\"little\",\"checking_account\":\"not_known\",\"credit_amount\":4165,\"duration\":18,\"purpose\":\"business\",\"age\":36},{\"risk\":0,\"sex\":\"male\",\"job\":2,\"housing\":\"free\",\"saving_accounts\":\"not_known\",\"checking_account\":\"little\",\"credit_amount\":8335,\"duration\":36,\"purpose\":\"car\",\"age\":47},{\"risk\":1,\"sex\":\"male\",\"job\":2,\"housing\":\"free\",\"saving_accounts\":\"not_known\",\"checking_account\":\"moderate\",\"credit_amount\":6681,\"duration\":48,\"purpose\":\"business\",\"age\":38},{\"risk\":1,\"sex\":\"male\",\"job\":2,\"housing\":\"own\",\"saving_accounts\":\"quite rich\",\"checking_account\":\"not_known\",\"credit_amount\":2375,\"duration\":24,\"purpose\":\"business\",\"age\":44},{\"risk\":0,\"sex\":\"female\",\"job\":2,\"housing\":\"rent\",\"saving_accounts\":\"little\",\"checking_account\":\"little\",\"credit_amount\":1216,\"duration\":18,\"purpose\":\"car\",\"age\":23},{\"risk\":0,\"sex\":\"male\",\"job\":2,\"housing\":\"rent\",\"saving_accounts\":\"little\",\"checking_account\":\"little\",\"credit_amount\":11816,\"duration\":45,\"purpose\":\"business\",\"age\":29},{\"risk\":1,\"sex\":\"female\",\"job\":2,\"housing\":\"own\",\"saving_accounts\":\"not_known\",\"checking_account\":\"moderate\",\"credit_amount\":5084,\"duration\":24,\"purpose\":\"radio\\/TV\",\"age\":42},{\"risk\":0,\"sex\":\"female\",\"job\":1,\"housing\":\"own\",\"saving_accounts\":\"little\",\"checking_account\":\"rich\",\"credit_amount\":2327,\"duration\":15,\"purpose\":\"radio\\/TV\",\"age\":25},{\"risk\":0,\"sex\":\"male\",\"job\":2,\"housing\":\"own\",\"saving_accounts\":\"little\",\"checking_account\":\"little\",\"credit_amount\":1082,\"duration\":12,\"purpose\":\"car\",\"age\":48},{\"risk\":1,\"sex\":\"female\",\"job\":2,\"housing\":\"own\",\"saving_accounts\":\"not_known\",\"checking_account\":\"not_known\",\"credit_amount\":886,\"duration\":12,\"purpose\":\"radio\\/TV\",\"age\":21},{\"risk\":1,\"sex\":\"female\",\"job\":1,\"housing\":\"rent\",\"saving_accounts\":\"little\",\"checking_account\":\"not_known\",\"credit_amount\":601,\"duration\":4,\"purpose\":\"furniture\\/equipment\",\"age\":23},{\"risk\":1,\"sex\":\"male\",\"job\":2,\"housing\":\"own\",\"saving_accounts\":\"little\",\"checking_account\":\"little\",\"credit_amount\":2957,\"duration\":24,\"purpose\":\"car\",\"age\":63},{\"risk\":1,\"sex\":\"male\",\"job\":2,\"housing\":\"own\",\"saving_accounts\":\"little\",\"checking_account\":\"not_known\",\"credit_amount\":2611,\"duration\":24,\"purpose\":\"radio\\/TV\",\"age\":46},{\"risk\":0,\"sex\":\"male\",\"job\":2,\"housing\":\"own\",\"saving_accounts\":\"little\",\"checking_account\":\"little\",\"credit_amount\":5179,\"duration\":36,\"purpose\":\"furniture\\/equipment\",\"age\":29},{\"risk\":1,\"sex\":\"male\",\"job\":1,\"housing\":\"own\",\"saving_accounts\":\"little\",\"checking_account\":\"not_known\",\"credit_amount\":2993,\"duration\":21,\"purpose\":\"car\",\"age\":28},{\"risk\":0,\"sex\":\"female\",\"job\":2,\"housing\":\"own\",\"saving_accounts\":\"little\",\"checking_account\":\"not_known\",\"credit_amount\":1943,\"duration\":18,\"purpose\":\"repairs\",\"age\":23},{\"risk\":1,\"sex\":\"male\",\"job\":2,\"housing\":\"own\",\"saving_accounts\":\"little\",\"checking_account\":\"not_known\",\"credit_amount\":1559,\"duration\":24,\"purpose\":\"business\",\"age\":50},{\"risk\":1,\"sex\":\"male\",\"job\":2,\"housing\":\"own\",\"saving_accounts\":\"little\",\"checking_account\":\"not_known\",\"credit_amount\":3422,\"duration\":18,\"purpose\":\"furniture\\/equipment\",\"age\":47},{\"risk\":1,\"sex\":\"male\",\"job\":2,\"housing\":\"own\",\"saving_accounts\":\"not_known\",\"checking_account\":\"moderate\",\"credit_amount\":3976,\"duration\":21,\"purpose\":\"furniture\\/equipment\",\"age\":35},{\"risk\":0,\"sex\":\"male\",\"job\":2,\"housing\":\"rent\",\"saving_accounts\":\"not_known\",\"checking_account\":\"not_known\",\"credit_amount\":6761,\"duration\":18,\"purpose\":\"car\",\"age\":68},{\"risk\":1,\"sex\":\"male\",\"job\":2,\"housing\":\"own\",\"saving_accounts\":\"little\",\"checking_account\":\"not_known\",\"credit_amount\":1249,\"duration\":24,\"purpose\":\"car\",\"age\":28},{\"risk\":1,\"sex\":\"male\",\"job\":2,\"housing\":\"own\",\"saving_accounts\":\"little\",\"checking_account\":\"little\",\"credit_amount\":1364,\"duration\":9,\"purpose\":\"radio\\/TV\",\"age\":59},{\"risk\":0,\"sex\":\"male\",\"job\":1,\"housing\":\"own\",\"saving_accounts\":\"little\",\"checking_account\":\"little\",\"credit_amount\":709,\"duration\":12,\"purpose\":\"radio\\/TV\",\"age\":57},{\"risk\":0,\"sex\":\"male\",\"job\":2,\"housing\":\"rent\",\"saving_accounts\":\"little\",\"checking_account\":\"little\",\"credit_amount\":2235,\"duration\":20,\"purpose\":\"car\",\"age\":33},{\"risk\":1,\"sex\":\"male\",\"job\":2,\"housing\":\"own\",\"saving_accounts\":\"not_known\",\"checking_account\":\"not_known\",\"credit_amount\":4042,\"duration\":24,\"purpose\":\"car\",\"age\":43},{\"risk\":1,\"sex\":\"male\",\"job\":2,\"housing\":\"free\",\"saving_accounts\":\"little\",\"checking_account\":\"not_known\",\"credit_amount\":1471,\"duration\":15,\"purpose\":\"radio\\/TV\",\"age\":35},{\"risk\":0,\"sex\":\"male\",\"job\":1,\"housing\":\"free\",\"saving_accounts\":\"little\",\"checking_account\":\"little\",\"credit_amount\":1442,\"duration\":18,\"purpose\":\"car\",\"age\":32},{\"risk\":1,\"sex\":\"male\",\"job\":2,\"housing\":\"own\",\"saving_accounts\":\"little\",\"checking_account\":\"not_known\",\"credit_amount\":10875,\"duration\":36,\"purpose\":\"car\",\"age\":45},{\"risk\":1,\"sex\":\"male\",\"job\":2,\"housing\":\"own\",\"saving_accounts\":\"moderate\",\"checking_account\":\"not_known\",\"credit_amount\":1474,\"duration\":24,\"purpose\":\"car\",\"age\":33},{\"risk\":1,\"sex\":\"female\",\"job\":2,\"housing\":\"own\",\"saving_accounts\":\"not_known\",\"checking_account\":\"not_known\",\"credit_amount\":894,\"duration\":10,\"purpose\":\"education\",\"age\":40},{\"risk\":1,\"sex\":\"male\",\"job\":2,\"housing\":\"free\",\"saving_accounts\":\"little\",\"checking_account\":\"not_known\",\"credit_amount\":3343,\"duration\":15,\"purpose\":\"furniture\\/equipment\",\"age\":28},{\"risk\":0,\"sex\":\"female\",\"job\":2,\"housing\":\"own\",\"saving_accounts\":\"little\",\"checking_account\":\"little\",\"credit_amount\":3959,\"duration\":15,\"purpose\":\"car\",\"age\":29},{\"risk\":1,\"sex\":\"male\",\"job\":2,\"housing\":\"rent\",\"saving_accounts\":\"moderate\",\"checking_account\":\"not_known\",\"credit_amount\":3577,\"duration\":9,\"purpose\":\"car\",\"age\":26},{\"risk\":1,\"sex\":\"male\",\"job\":2,\"housing\":\"own\",\"saving_accounts\":\"rich\",\"checking_account\":\"not_known\",\"credit_amount\":5804,\"duration\":24,\"purpose\":\"car\",\"age\":27},{\"risk\":0,\"sex\":\"male\",\"job\":2,\"housing\":\"own\",\"saving_accounts\":\"little\",\"checking_account\":\"not_known\",\"credit_amount\":2169,\"duration\":18,\"purpose\":\"business\",\"age\":28},{\"risk\":0,\"sex\":\"female\",\"job\":2,\"housing\":\"own\",\"saving_accounts\":\"little\",\"checking_account\":\"little\",\"credit_amount\":2439,\"duration\":24,\"purpose\":\"radio\\/TV\",\"age\":35},{\"risk\":1,\"sex\":\"male\",\"job\":1,\"housing\":\"own\",\"saving_accounts\":\"rich\",\"checking_account\":\"not_known\",\"credit_amount\":4526,\"duration\":27,\"purpose\":\"furniture\\/equipment\",\"age\":32},{\"risk\":0,\"sex\":\"male\",\"job\":1,\"housing\":\"rent\",\"saving_accounts\":\"little\",\"checking_account\":\"not_known\",\"credit_amount\":2210,\"duration\":10,\"purpose\":\"furniture\\/equipment\",\"age\":25},{\"risk\":1,\"sex\":\"female\",\"job\":2,\"housing\":\"rent\",\"saving_accounts\":\"quite rich\",\"checking_account\":\"not_known\",\"credit_amount\":2221,\"duration\":15,\"purpose\":\"furniture\\/equipment\",\"age\":20},{\"risk\":1,\"sex\":\"female\",\"job\":2,\"housing\":\"own\",\"saving_accounts\":\"little\",\"checking_account\":\"little\",\"credit_amount\":2389,\"duration\":18,\"purpose\":\"radio\\/TV\",\"age\":27},{\"risk\":1,\"sex\":\"male\",\"job\":2,\"housing\":\"own\",\"saving_accounts\":\"little\",\"checking_account\":\"not_known\",\"credit_amount\":3331,\"duration\":12,\"purpose\":\"furniture\\/equipment\",\"age\":42},{\"risk\":1,\"sex\":\"male\",\"job\":2,\"housing\":\"own\",\"saving_accounts\":\"not_known\",\"checking_account\":\"not_known\",\"credit_amount\":7409,\"duration\":36,\"purpose\":\"business\",\"age\":37},{\"risk\":1,\"sex\":\"female\",\"job\":2,\"housing\":\"rent\",\"saving_accounts\":\"little\",\"checking_account\":\"little\",\"credit_amount\":652,\"duration\":12,\"purpose\":\"furniture\\/equipment\",\"age\":24},{\"risk\":1,\"sex\":\"female\",\"job\":2,\"housing\":\"own\",\"saving_accounts\":\"quite rich\",\"checking_account\":\"not_known\",\"credit_amount\":7678,\"duration\":36,\"purpose\":\"furniture\\/equipment\",\"age\":40},{\"risk\":1,\"sex\":\"male\",\"job\":2,\"housing\":\"own\",\"saving_accounts\":\"little\",\"checking_account\":\"rich\",\"credit_amount\":1343,\"duration\":6,\"purpose\":\"car\",\"age\":46},{\"risk\":1,\"sex\":\"male\",\"job\":2,\"housing\":\"own\",\"saving_accounts\":\"moderate\",\"checking_account\":\"little\",\"credit_amount\":1382,\"duration\":24,\"purpose\":\"business\",\"age\":26},{\"risk\":1,\"sex\":\"female\",\"job\":2,\"housing\":\"own\",\"saving_accounts\":\"not_known\",\"checking_account\":\"not_known\",\"credit_amount\":874,\"duration\":15,\"purpose\":\"domestic appliances\",\"age\":24},{\"risk\":1,\"sex\":\"male\",\"job\":1,\"housing\":\"own\",\"saving_accounts\":\"little\",\"checking_account\":\"little\",\"credit_amount\":3590,\"duration\":12,\"purpose\":\"furniture\\/equipment\",\"age\":29},{\"risk\":1,\"sex\":\"female\",\"job\":2,\"housing\":\"own\",\"saving_accounts\":\"rich\",\"checking_account\":\"moderate\",\"credit_amount\":1322,\"duration\":11,\"purpose\":\"car\",\"age\":40},{\"risk\":1,\"sex\":\"male\",\"job\":3,\"housing\":\"free\",\"saving_accounts\":\"little\",\"checking_account\":\"little\",\"credit_amount\":1940,\"duration\":18,\"purpose\":\"radio\\/TV\",\"age\":36},{\"risk\":1,\"sex\":\"male\",\"job\":2,\"housing\":\"own\",\"saving_accounts\":\"little\",\"checking_account\":\"not_known\",\"credit_amount\":3595,\"duration\":36,\"purpose\":\"radio\\/TV\",\"age\":28},{\"risk\":0,\"sex\":\"male\",\"job\":3,\"housing\":\"free\",\"saving_accounts\":\"little\",\"checking_account\":\"little\",\"credit_amount\":1422,\"duration\":9,\"purpose\":\"car\",\"age\":27},{\"risk\":1,\"sex\":\"male\",\"job\":2,\"housing\":\"own\",\"saving_accounts\":\"not_known\",\"checking_account\":\"not_known\",\"credit_amount\":6742,\"duration\":30,\"purpose\":\"radio\\/TV\",\"age\":36},{\"risk\":1,\"sex\":\"male\",\"job\":3,\"housing\":\"own\",\"saving_accounts\":\"little\",\"checking_account\":\"not_known\",\"credit_amount\":7814,\"duration\":24,\"purpose\":\"car\",\"age\":38},{\"risk\":1,\"sex\":\"male\",\"job\":2,\"housing\":\"free\",\"saving_accounts\":\"not_known\",\"checking_account\":\"not_known\",\"credit_amount\":9277,\"duration\":24,\"purpose\":\"car\",\"age\":48},{\"risk\":1,\"sex\":\"male\",\"job\":2,\"housing\":\"own\",\"saving_accounts\":\"not_known\",\"checking_account\":\"moderate\",\"credit_amount\":2181,\"duration\":30,\"purpose\":\"car\",\"age\":36},{\"risk\":1,\"sex\":\"female\",\"job\":0,\"housing\":\"own\",\"saving_accounts\":\"little\",\"checking_account\":\"not_known\",\"credit_amount\":1098,\"duration\":18,\"purpose\":\"radio\\/TV\",\"age\":65},{\"risk\":0,\"sex\":\"male\",\"job\":2,\"housing\":\"own\",\"saving_accounts\":\"little\",\"checking_account\":\"moderate\",\"credit_amount\":4057,\"duration\":24,\"purpose\":\"furniture\\/equipment\",\"age\":43},{\"risk\":0,\"sex\":\"female\",\"job\":2,\"housing\":\"own\",\"saving_accounts\":\"little\",\"checking_account\":\"little\",\"credit_amount\":795,\"duration\":12,\"purpose\":\"education\",\"age\":53},{\"risk\":1,\"sex\":\"male\",\"job\":2,\"housing\":\"own\",\"saving_accounts\":\"not_known\",\"checking_account\":\"moderate\",\"credit_amount\":2825,\"duration\":24,\"purpose\":\"business\",\"age\":34},{\"risk\":0,\"sex\":\"male\",\"job\":2,\"housing\":\"own\",\"saving_accounts\":\"little\",\"checking_account\":\"moderate\",\"credit_amount\":15672,\"duration\":48,\"purpose\":\"business\",\"age\":23},{\"risk\":1,\"sex\":\"male\",\"job\":3,\"housing\":\"own\",\"saving_accounts\":\"little\",\"checking_account\":\"not_known\",\"credit_amount\":6614,\"duration\":36,\"purpose\":\"car\",\"age\":34},{\"risk\":1,\"sex\":\"male\",\"job\":2,\"housing\":\"rent\",\"saving_accounts\":\"not_known\",\"checking_account\":\"not_known\",\"credit_amount\":7824,\"duration\":28,\"purpose\":\"car\",\"age\":40},{\"risk\":1,\"sex\":\"male\",\"job\":3,\"housing\":\"own\",\"saving_accounts\":\"little\",\"checking_account\":\"little\",\"credit_amount\":2442,\"duration\":27,\"purpose\":\"business\",\"age\":43},{\"risk\":1,\"sex\":\"male\",\"job\":2,\"housing\":\"own\",\"saving_accounts\":\"little\",\"checking_account\":\"not_known\",\"credit_amount\":1829,\"duration\":15,\"purpose\":\"radio\\/TV\",\"age\":46},{\"risk\":1,\"sex\":\"male\",\"job\":1,\"housing\":\"own\",\"saving_accounts\":\"little\",\"checking_account\":\"little\",\"credit_amount\":2171,\"duration\":12,\"purpose\":\"car\",\"age\":38},{\"risk\":1,\"sex\":\"male\",\"job\":2,\"housing\":\"own\",\"saving_accounts\":\"little\",\"checking_account\":\"moderate\",\"credit_amount\":5800,\"duration\":36,\"purpose\":\"car\",\"age\":34},{\"risk\":1,\"sex\":\"male\",\"job\":2,\"housing\":\"own\",\"saving_accounts\":\"not_known\",\"checking_account\":\"not_known\",\"credit_amount\":1169,\"duration\":18,\"purpose\":\"radio\\/TV\",\"age\":29},{\"risk\":1,\"sex\":\"male\",\"job\":3,\"housing\":\"own\",\"saving_accounts\":\"not_known\",\"checking_account\":\"not_known\",\"credit_amount\":8947,\"duration\":36,\"purpose\":\"car\",\"age\":31},{\"risk\":1,\"sex\":\"female\",\"job\":3,\"housing\":\"rent\",\"saving_accounts\":\"little\",\"checking_account\":\"little\",\"credit_amount\":2606,\"duration\":21,\"purpose\":\"radio\\/TV\",\"age\":28},{\"risk\":1,\"sex\":\"female\",\"job\":2,\"housing\":\"own\",\"saving_accounts\":\"rich\",\"checking_account\":\"not_known\",\"credit_amount\":1592,\"duration\":12,\"purpose\":\"furniture\\/equipment\",\"age\":35},{\"risk\":1,\"sex\":\"female\",\"job\":1,\"housing\":\"rent\",\"saving_accounts\":\"not_known\",\"checking_account\":\"not_known\",\"credit_amount\":2186,\"duration\":15,\"purpose\":\"furniture\\/equipment\",\"age\":33},{\"risk\":0,\"sex\":\"male\",\"job\":2,\"housing\":\"own\",\"saving_accounts\":\"little\",\"checking_account\":\"little\",\"credit_amount\":4153,\"duration\":18,\"purpose\":\"furniture\\/equipment\",\"age\":42},{\"risk\":0,\"sex\":\"male\",\"job\":2,\"housing\":\"rent\",\"saving_accounts\":\"little\",\"checking_account\":\"little\",\"credit_amount\":2625,\"duration\":16,\"purpose\":\"car\",\"age\":43},{\"risk\":1,\"sex\":\"male\",\"job\":2,\"housing\":\"own\",\"saving_accounts\":\"not_known\",\"checking_account\":\"not_known\",\"credit_amount\":3485,\"duration\":20,\"purpose\":\"car\",\"age\":44},{\"risk\":1,\"sex\":\"male\",\"job\":2,\"housing\":\"free\",\"saving_accounts\":\"not_known\",\"checking_account\":\"not_known\",\"credit_amount\":10477,\"duration\":36,\"purpose\":\"car\",\"age\":42},{\"risk\":1,\"sex\":\"male\",\"job\":2,\"housing\":\"rent\",\"saving_accounts\":\"not_known\",\"checking_account\":\"not_known\",\"credit_amount\":1386,\"duration\":15,\"purpose\":\"radio\\/TV\",\"age\":40},{\"risk\":1,\"sex\":\"male\",\"job\":3,\"housing\":\"own\",\"saving_accounts\":\"little\",\"checking_account\":\"not_known\",\"credit_amount\":1278,\"duration\":24,\"purpose\":\"radio\\/TV\",\"age\":36},{\"risk\":1,\"sex\":\"male\",\"job\":3,\"housing\":\"rent\",\"saving_accounts\":\"little\",\"checking_account\":\"little\",\"credit_amount\":1107,\"duration\":12,\"purpose\":\"radio\\/TV\",\"age\":20},{\"risk\":1,\"sex\":\"male\",\"job\":1,\"housing\":\"own\",\"saving_accounts\":\"not_known\",\"checking_account\":\"little\",\"credit_amount\":3763,\"duration\":21,\"purpose\":\"car\",\"age\":24},{\"risk\":1,\"sex\":\"male\",\"job\":2,\"housing\":\"own\",\"saving_accounts\":\"not_known\",\"checking_account\":\"moderate\",\"credit_amount\":3711,\"duration\":36,\"purpose\":\"education\",\"age\":27},{\"risk\":1,\"sex\":\"female\",\"job\":1,\"housing\":\"own\",\"saving_accounts\":\"little\",\"checking_account\":\"not_known\",\"credit_amount\":3594,\"duration\":15,\"purpose\":\"car\",\"age\":46},{\"risk\":1,\"sex\":\"female\",\"job\":1,\"housing\":\"own\",\"saving_accounts\":\"not_known\",\"checking_account\":\"moderate\",\"credit_amount\":3195,\"duration\":9,\"purpose\":\"car\",\"age\":33},{\"risk\":1,\"sex\":\"female\",\"job\":2,\"housing\":\"own\",\"saving_accounts\":\"little\",\"checking_account\":\"not_known\",\"credit_amount\":4454,\"duration\":36,\"purpose\":\"radio\\/TV\",\"age\":34},{\"risk\":0,\"sex\":\"female\",\"job\":1,\"housing\":\"own\",\"saving_accounts\":\"little\",\"checking_account\":\"moderate\",\"credit_amount\":4736,\"duration\":24,\"purpose\":\"furniture\\/equipment\",\"age\":25},{\"risk\":1,\"sex\":\"female\",\"job\":2,\"housing\":\"own\",\"saving_accounts\":\"not_known\",\"checking_account\":\"moderate\",\"credit_amount\":2991,\"duration\":30,\"purpose\":\"radio\\/TV\",\"age\":25},{\"risk\":1,\"sex\":\"male\",\"job\":2,\"housing\":\"own\",\"saving_accounts\":\"rich\",\"checking_account\":\"not_known\",\"credit_amount\":2142,\"duration\":11,\"purpose\":\"business\",\"age\":28},{\"risk\":0,\"sex\":\"male\",\"job\":2,\"housing\":\"rent\",\"saving_accounts\":\"little\",\"checking_account\":\"little\",\"credit_amount\":3161,\"duration\":24,\"purpose\":\"business\",\"age\":31},{\"risk\":0,\"sex\":\"female\",\"job\":3,\"housing\":\"own\",\"saving_accounts\":\"little\",\"checking_account\":\"moderate\",\"credit_amount\":18424,\"duration\":48,\"purpose\":\"vacation\\/others\",\"age\":32},{\"risk\":1,\"sex\":\"male\",\"job\":2,\"housing\":\"own\",\"saving_accounts\":\"moderate\",\"checking_account\":\"not_known\",\"credit_amount\":2848,\"duration\":10,\"purpose\":\"car\",\"age\":32},{\"risk\":0,\"sex\":\"male\",\"job\":3,\"housing\":\"own\",\"saving_accounts\":\"little\",\"checking_account\":\"little\",\"credit_amount\":14896,\"duration\":6,\"purpose\":\"car\",\"age\":68},{\"risk\":0,\"sex\":\"male\",\"job\":2,\"housing\":\"own\",\"saving_accounts\":\"moderate\",\"checking_account\":\"little\",\"credit_amount\":2359,\"duration\":24,\"purpose\":\"furniture\\/equipment\",\"age\":33},{\"risk\":0,\"sex\":\"male\",\"job\":3,\"housing\":\"rent\",\"saving_accounts\":\"little\",\"checking_account\":\"little\",\"credit_amount\":3345,\"duration\":24,\"purpose\":\"furniture\\/equipment\",\"age\":39},{\"risk\":1,\"sex\":\"female\",\"job\":2,\"housing\":\"own\",\"saving_accounts\":\"little\",\"checking_account\":\"not_known\",\"credit_amount\":1817,\"duration\":18,\"purpose\":\"furniture\\/equipment\",\"age\":28},{\"risk\":1,\"sex\":\"male\",\"job\":3,\"housing\":\"own\",\"saving_accounts\":\"quite rich\",\"checking_account\":\"not_known\",\"credit_amount\":12749,\"duration\":48,\"purpose\":\"radio\\/TV\",\"age\":37},{\"risk\":0,\"sex\":\"female\",\"job\":2,\"housing\":\"rent\",\"saving_accounts\":\"little\",\"checking_account\":\"little\",\"credit_amount\":1366,\"duration\":9,\"purpose\":\"radio\\/TV\",\"age\":22},{\"risk\":1,\"sex\":\"male\",\"job\":2,\"housing\":\"rent\",\"saving_accounts\":\"little\",\"checking_account\":\"moderate\",\"credit_amount\":2002,\"duration\":12,\"purpose\":\"car\",\"age\":30},{\"risk\":0,\"sex\":\"male\",\"job\":2,\"housing\":\"own\",\"saving_accounts\":\"little\",\"checking_account\":\"little\",\"credit_amount\":6872,\"duration\":24,\"purpose\":\"furniture\\/equipment\",\"age\":55},{\"risk\":0,\"sex\":\"male\",\"job\":2,\"housing\":\"own\",\"saving_accounts\":\"little\",\"checking_account\":\"little\",\"credit_amount\":697,\"duration\":12,\"purpose\":\"car\",\"age\":46},{\"risk\":1,\"sex\":\"female\",\"job\":2,\"housing\":\"rent\",\"saving_accounts\":\"little\",\"checking_account\":\"little\",\"credit_amount\":1049,\"duration\":18,\"purpose\":\"furniture\\/equipment\",\"age\":21},{\"risk\":0,\"sex\":\"male\",\"job\":2,\"housing\":\"free\",\"saving_accounts\":\"little\",\"checking_account\":\"little\",\"credit_amount\":10297,\"duration\":48,\"purpose\":\"car\",\"age\":39},{\"risk\":1,\"sex\":\"male\",\"job\":2,\"housing\":\"own\",\"saving_accounts\":\"not_known\",\"checking_account\":\"not_known\",\"credit_amount\":1867,\"duration\":30,\"purpose\":\"radio\\/TV\",\"age\":58},{\"risk\":1,\"sex\":\"male\",\"job\":1,\"housing\":\"own\",\"saving_accounts\":\"little\",\"checking_account\":\"little\",\"credit_amount\":1344,\"duration\":12,\"purpose\":\"car\",\"age\":43},{\"risk\":1,\"sex\":\"male\",\"job\":1,\"housing\":\"own\",\"saving_accounts\":\"little\",\"checking_account\":\"little\",\"credit_amount\":1747,\"duration\":24,\"purpose\":\"furniture\\/equipment\",\"age\":24},{\"risk\":0,\"sex\":\"female\",\"job\":2,\"housing\":\"own\",\"saving_accounts\":\"little\",\"checking_account\":\"moderate\",\"credit_amount\":1670,\"duration\":9,\"purpose\":\"radio\\/TV\",\"age\":22},{\"risk\":1,\"sex\":\"male\",\"job\":2,\"housing\":\"own\",\"saving_accounts\":\"little\",\"checking_account\":\"not_known\",\"credit_amount\":1224,\"duration\":9,\"purpose\":\"car\",\"age\":30},{\"risk\":1,\"sex\":\"male\",\"job\":2,\"housing\":\"own\",\"saving_accounts\":\"quite rich\",\"checking_account\":\"not_known\",\"credit_amount\":522,\"duration\":12,\"purpose\":\"radio\\/TV\",\"age\":42},{\"risk\":1,\"sex\":\"female\",\"job\":2,\"housing\":\"own\",\"saving_accounts\":\"little\",\"checking_account\":\"little\",\"credit_amount\":1498,\"duration\":12,\"purpose\":\"radio\\/TV\",\"age\":23},{\"risk\":0,\"sex\":\"male\",\"job\":3,\"housing\":\"own\",\"saving_accounts\":\"moderate\",\"checking_account\":\"moderate\",\"credit_amount\":1919,\"duration\":30,\"purpose\":\"radio\\/TV\",\"age\":30},{\"risk\":0,\"sex\":\"female\",\"job\":1,\"housing\":\"own\",\"saving_accounts\":\"little\",\"checking_account\":\"rich\",\"credit_amount\":745,\"duration\":9,\"purpose\":\"radio\\/TV\",\"age\":28},{\"risk\":1,\"sex\":\"male\",\"job\":3,\"housing\":\"rent\",\"saving_accounts\":\"little\",\"checking_account\":\"moderate\",\"credit_amount\":2063,\"duration\":6,\"purpose\":\"radio\\/TV\",\"age\":30},{\"risk\":0,\"sex\":\"male\",\"job\":2,\"housing\":\"free\",\"saving_accounts\":\"little\",\"checking_account\":\"moderate\",\"credit_amount\":6288,\"duration\":60,\"purpose\":\"education\",\"age\":42},{\"risk\":1,\"sex\":\"male\",\"job\":3,\"housing\":\"own\",\"saving_accounts\":\"not_known\",\"checking_account\":\"not_known\",\"credit_amount\":6842,\"duration\":24,\"purpose\":\"car\",\"age\":46},{\"risk\":1,\"sex\":\"male\",\"job\":3,\"housing\":\"own\",\"saving_accounts\":\"not_known\",\"checking_account\":\"not_known\",\"credit_amount\":3527,\"duration\":12,\"purpose\":\"car\",\"age\":45},{\"risk\":1,\"sex\":\"male\",\"job\":1,\"housing\":\"own\",\"saving_accounts\":\"little\",\"checking_account\":\"not_known\",\"credit_amount\":1546,\"duration\":10,\"purpose\":\"car\",\"age\":31},{\"risk\":1,\"sex\":\"male\",\"job\":2,\"housing\":\"own\",\"saving_accounts\":\"not_known\",\"checking_account\":\"not_known\",\"credit_amount\":929,\"duration\":24,\"purpose\":\"furniture\\/equipment\",\"age\":31},{\"risk\":1,\"sex\":\"male\",\"job\":1,\"housing\":\"own\",\"saving_accounts\":\"little\",\"checking_account\":\"not_known\",\"credit_amount\":1455,\"duration\":4,\"purpose\":\"car\",\"age\":42},{\"risk\":1,\"sex\":\"female\",\"job\":2,\"housing\":\"rent\",\"saving_accounts\":\"little\",\"checking_account\":\"little\",\"credit_amount\":1845,\"duration\":15,\"purpose\":\"furniture\\/equipment\",\"age\":46},{\"risk\":1,\"sex\":\"female\",\"job\":2,\"housing\":\"own\",\"saving_accounts\":\"quite rich\",\"checking_account\":\"moderate\",\"credit_amount\":8358,\"duration\":48,\"purpose\":\"car\",\"age\":30},{\"risk\":0,\"sex\":\"male\",\"job\":2,\"housing\":\"free\",\"saving_accounts\":\"quite rich\",\"checking_account\":\"little\",\"credit_amount\":3349,\"duration\":24,\"purpose\":\"furniture\\/equipment\",\"age\":30},{\"risk\":1,\"sex\":\"male\",\"job\":3,\"housing\":\"own\",\"saving_accounts\":\"not_known\",\"checking_account\":\"not_known\",\"credit_amount\":2859,\"duration\":12,\"purpose\":\"car\",\"age\":38},{\"risk\":0,\"sex\":\"male\",\"job\":1,\"housing\":\"own\",\"saving_accounts\":\"little\",\"checking_account\":\"not_known\",\"credit_amount\":1533,\"duration\":18,\"purpose\":\"furniture\\/equipment\",\"age\":43},{\"risk\":0,\"sex\":\"male\",\"job\":2,\"housing\":\"own\",\"saving_accounts\":\"moderate\",\"checking_account\":\"not_known\",\"credit_amount\":3621,\"duration\":24,\"purpose\":\"radio\\/TV\",\"age\":31},{\"risk\":1,\"sex\":\"male\",\"job\":0,\"housing\":\"own\",\"saving_accounts\":\"little\",\"checking_account\":\"moderate\",\"credit_amount\":3590,\"duration\":18,\"purpose\":\"business\",\"age\":40},{\"risk\":0,\"sex\":\"male\",\"job\":2,\"housing\":\"own\",\"saving_accounts\":\"little\",\"checking_account\":\"little\",\"credit_amount\":2145,\"duration\":36,\"purpose\":\"business\",\"age\":24},{\"risk\":0,\"sex\":\"female\",\"job\":2,\"housing\":\"rent\",\"saving_accounts\":\"quite rich\",\"checking_account\":\"moderate\",\"credit_amount\":4113,\"duration\":24,\"purpose\":\"car\",\"age\":28},{\"risk\":0,\"sex\":\"female\",\"job\":3,\"housing\":\"own\",\"saving_accounts\":\"little\",\"checking_account\":\"not_known\",\"credit_amount\":10974,\"duration\":36,\"purpose\":\"furniture\\/equipment\",\"age\":26},{\"risk\":1,\"sex\":\"female\",\"job\":2,\"housing\":\"own\",\"saving_accounts\":\"little\",\"checking_account\":\"little\",\"credit_amount\":1893,\"duration\":12,\"purpose\":\"car\",\"age\":29},{\"risk\":1,\"sex\":\"female\",\"job\":3,\"housing\":\"rent\",\"saving_accounts\":\"rich\",\"checking_account\":\"little\",\"credit_amount\":1231,\"duration\":24,\"purpose\":\"radio\\/TV\",\"age\":57},{\"risk\":1,\"sex\":\"male\",\"job\":1,\"housing\":\"own\",\"saving_accounts\":\"not_known\",\"checking_account\":\"rich\",\"credit_amount\":3656,\"duration\":30,\"purpose\":\"radio\\/TV\",\"age\":49},{\"risk\":1,\"sex\":\"male\",\"job\":1,\"housing\":\"own\",\"saving_accounts\":\"little\",\"checking_account\":\"moderate\",\"credit_amount\":1154,\"duration\":9,\"purpose\":\"radio\\/TV\",\"age\":37},{\"risk\":0,\"sex\":\"male\",\"job\":1,\"housing\":\"own\",\"saving_accounts\":\"little\",\"checking_account\":\"little\",\"credit_amount\":4006,\"duration\":28,\"purpose\":\"car\",\"age\":45},{\"risk\":1,\"sex\":\"male\",\"job\":2,\"housing\":\"free\",\"saving_accounts\":\"moderate\",\"checking_account\":\"moderate\",\"credit_amount\":3069,\"duration\":24,\"purpose\":\"furniture\\/equipment\",\"age\":30},{\"risk\":1,\"sex\":\"male\",\"job\":2,\"housing\":\"rent\",\"saving_accounts\":\"little\",\"checking_account\":\"not_known\",\"credit_amount\":1740,\"duration\":6,\"purpose\":\"radio\\/TV\",\"age\":30},{\"risk\":1,\"sex\":\"male\",\"job\":2,\"housing\":\"own\",\"saving_accounts\":\"little\",\"checking_account\":\"moderate\",\"credit_amount\":2353,\"duration\":21,\"purpose\":\"car\",\"age\":47},{\"risk\":1,\"sex\":\"male\",\"job\":2,\"housing\":\"own\",\"saving_accounts\":\"not_known\",\"checking_account\":\"not_known\",\"credit_amount\":3556,\"duration\":15,\"purpose\":\"car\",\"age\":29},{\"risk\":0,\"sex\":\"male\",\"job\":2,\"housing\":\"own\",\"saving_accounts\":\"quite rich\",\"checking_account\":\"not_known\",\"credit_amount\":2397,\"duration\":24,\"purpose\":\"radio\\/TV\",\"age\":35},{\"risk\":1,\"sex\":\"male\",\"job\":1,\"housing\":\"own\",\"saving_accounts\":\"little\",\"checking_account\":\"moderate\",\"credit_amount\":454,\"duration\":6,\"purpose\":\"repairs\",\"age\":22},{\"risk\":1,\"sex\":\"female\",\"job\":2,\"housing\":\"own\",\"saving_accounts\":\"not_known\",\"checking_account\":\"moderate\",\"credit_amount\":1715,\"duration\":30,\"purpose\":\"radio\\/TV\",\"age\":26},{\"risk\":0,\"sex\":\"male\",\"job\":1,\"housing\":\"own\",\"saving_accounts\":\"quite rich\",\"checking_account\":\"moderate\",\"credit_amount\":2520,\"duration\":27,\"purpose\":\"radio\\/TV\",\"age\":23},{\"risk\":1,\"sex\":\"female\",\"job\":3,\"housing\":\"rent\",\"saving_accounts\":\"little\",\"checking_account\":\"not_known\",\"credit_amount\":3568,\"duration\":15,\"purpose\":\"radio\\/TV\",\"age\":54},{\"risk\":1,\"sex\":\"male\",\"job\":2,\"housing\":\"rent\",\"saving_accounts\":\"not_known\",\"checking_account\":\"not_known\",\"credit_amount\":7166,\"duration\":42,\"purpose\":\"radio\\/TV\",\"age\":29},{\"risk\":1,\"sex\":\"male\",\"job\":1,\"housing\":\"own\",\"saving_accounts\":\"little\",\"checking_account\":\"little\",\"credit_amount\":3939,\"duration\":11,\"purpose\":\"car\",\"age\":40},{\"risk\":1,\"sex\":\"male\",\"job\":2,\"housing\":\"own\",\"saving_accounts\":\"moderate\",\"checking_account\":\"moderate\",\"credit_amount\":1514,\"duration\":15,\"purpose\":\"repairs\",\"age\":22},{\"risk\":1,\"sex\":\"male\",\"job\":1,\"housing\":\"own\",\"saving_accounts\":\"little\",\"checking_account\":\"not_known\",\"credit_amount\":7393,\"duration\":24,\"purpose\":\"car\",\"age\":43},{\"risk\":0,\"sex\":\"female\",\"job\":0,\"housing\":\"rent\",\"saving_accounts\":\"little\",\"checking_account\":\"little\",\"credit_amount\":1193,\"duration\":24,\"purpose\":\"car\",\"age\":29},{\"risk\":0,\"sex\":\"male\",\"job\":2,\"housing\":\"rent\",\"saving_accounts\":\"little\",\"checking_account\":\"little\",\"credit_amount\":7297,\"duration\":60,\"purpose\":\"business\",\"age\":36},{\"risk\":1,\"sex\":\"female\",\"job\":2,\"housing\":\"own\",\"saving_accounts\":\"little\",\"checking_account\":\"not_known\",\"credit_amount\":2831,\"duration\":30,\"purpose\":\"radio\\/TV\",\"age\":33},{\"risk\":1,\"sex\":\"female\",\"job\":1,\"housing\":\"own\",\"saving_accounts\":\"quite rich\",\"checking_account\":\"rich\",\"credit_amount\":1258,\"duration\":24,\"purpose\":\"radio\\/TV\",\"age\":57},{\"risk\":1,\"sex\":\"female\",\"job\":2,\"housing\":\"own\",\"saving_accounts\":\"little\",\"checking_account\":\"moderate\",\"credit_amount\":753,\"duration\":6,\"purpose\":\"radio\\/TV\",\"age\":64},{\"risk\":1,\"sex\":\"male\",\"job\":2,\"housing\":\"own\",\"saving_accounts\":\"not_known\",\"checking_account\":\"moderate\",\"credit_amount\":2427,\"duration\":18,\"purpose\":\"business\",\"age\":42},{\"risk\":0,\"sex\":\"male\",\"job\":1,\"housing\":\"own\",\"saving_accounts\":\"little\",\"checking_account\":\"not_known\",\"credit_amount\":2538,\"duration\":24,\"purpose\":\"car\",\"age\":47},{\"risk\":0,\"sex\":\"male\",\"job\":2,\"housing\":\"rent\",\"saving_accounts\":\"moderate\",\"checking_account\":\"moderate\",\"credit_amount\":1264,\"duration\":15,\"purpose\":\"car\",\"age\":25},{\"risk\":0,\"sex\":\"male\",\"job\":2,\"housing\":\"own\",\"saving_accounts\":\"little\",\"checking_account\":\"moderate\",\"credit_amount\":8386,\"duration\":30,\"purpose\":\"furniture\\/equipment\",\"age\":49},{\"risk\":0,\"sex\":\"male\",\"job\":3,\"housing\":\"rent\",\"saving_accounts\":\"little\",\"checking_account\":\"not_known\",\"credit_amount\":4844,\"duration\":48,\"purpose\":\"business\",\"age\":33},{\"risk\":1,\"sex\":\"female\",\"job\":3,\"housing\":\"own\",\"saving_accounts\":\"moderate\",\"checking_account\":\"rich\",\"credit_amount\":2923,\"duration\":21,\"purpose\":\"car\",\"age\":28},{\"risk\":0,\"sex\":\"male\",\"job\":2,\"housing\":\"own\",\"saving_accounts\":\"little\",\"checking_account\":\"little\",\"credit_amount\":8229,\"duration\":36,\"purpose\":\"car\",\"age\":26},{\"risk\":1,\"sex\":\"male\",\"job\":1,\"housing\":\"own\",\"saving_accounts\":\"little\",\"checking_account\":\"not_known\",\"credit_amount\":2028,\"duration\":24,\"purpose\":\"furniture\\/equipment\",\"age\":30},{\"risk\":1,\"sex\":\"female\",\"job\":2,\"housing\":\"rent\",\"saving_accounts\":\"little\",\"checking_account\":\"little\",\"credit_amount\":1433,\"duration\":15,\"purpose\":\"furniture\\/equipment\",\"age\":25},{\"risk\":1,\"sex\":\"male\",\"job\":2,\"housing\":\"own\",\"saving_accounts\":\"little\",\"checking_account\":\"rich\",\"credit_amount\":6289,\"duration\":42,\"purpose\":\"business\",\"age\":33},{\"risk\":1,\"sex\":\"female\",\"job\":2,\"housing\":\"own\",\"saving_accounts\":\"moderate\",\"checking_account\":\"not_known\",\"credit_amount\":1409,\"duration\":13,\"purpose\":\"radio\\/TV\",\"age\":64},{\"risk\":1,\"sex\":\"male\",\"job\":3,\"housing\":\"free\",\"saving_accounts\":\"little\",\"checking_account\":\"little\",\"credit_amount\":6579,\"duration\":24,\"purpose\":\"car\",\"age\":29},{\"risk\":1,\"sex\":\"male\",\"job\":1,\"housing\":\"own\",\"saving_accounts\":\"little\",\"checking_account\":\"moderate\",\"credit_amount\":1743,\"duration\":24,\"purpose\":\"radio\\/TV\",\"age\":48},{\"risk\":1,\"sex\":\"male\",\"job\":1,\"housing\":\"own\",\"saving_accounts\":\"not_known\",\"checking_account\":\"not_known\",\"credit_amount\":3565,\"duration\":12,\"purpose\":\"education\",\"age\":37},{\"risk\":1,\"sex\":\"male\",\"job\":1,\"housing\":\"own\",\"saving_accounts\":\"moderate\",\"checking_account\":\"not_known\",\"credit_amount\":1569,\"duration\":15,\"purpose\":\"radio\\/TV\",\"age\":34},{\"risk\":1,\"sex\":\"male\",\"job\":1,\"housing\":\"rent\",\"saving_accounts\":\"not_known\",\"checking_account\":\"little\",\"credit_amount\":1936,\"duration\":18,\"purpose\":\"radio\\/TV\",\"age\":23},{\"risk\":1,\"sex\":\"male\",\"job\":3,\"housing\":\"own\",\"saving_accounts\":\"little\",\"checking_account\":\"little\",\"credit_amount\":3959,\"duration\":36,\"purpose\":\"furniture\\/equipment\",\"age\":30},{\"risk\":1,\"sex\":\"male\",\"job\":2,\"housing\":\"own\",\"saving_accounts\":\"not_known\",\"checking_account\":\"not_known\",\"credit_amount\":2390,\"duration\":12,\"purpose\":\"car\",\"age\":50},{\"risk\":1,\"sex\":\"female\",\"job\":1,\"housing\":\"own\",\"saving_accounts\":\"little\",\"checking_account\":\"not_known\",\"credit_amount\":1736,\"duration\":12,\"purpose\":\"furniture\\/equipment\",\"age\":31},{\"risk\":1,\"sex\":\"male\",\"job\":3,\"housing\":\"own\",\"saving_accounts\":\"little\",\"checking_account\":\"little\",\"credit_amount\":3857,\"duration\":30,\"purpose\":\"car\",\"age\":40},{\"risk\":1,\"sex\":\"male\",\"job\":2,\"housing\":\"own\",\"saving_accounts\":\"little\",\"checking_account\":\"not_known\",\"credit_amount\":804,\"duration\":12,\"purpose\":\"radio\\/TV\",\"age\":38},{\"risk\":0,\"sex\":\"male\",\"job\":2,\"housing\":\"free\",\"saving_accounts\":\"little\",\"checking_account\":\"little\",\"credit_amount\":1845,\"duration\":45,\"purpose\":\"radio\\/TV\",\"age\":23},{\"risk\":1,\"sex\":\"male\",\"job\":2,\"housing\":\"own\",\"saving_accounts\":\"moderate\",\"checking_account\":\"moderate\",\"credit_amount\":4576,\"duration\":45,\"purpose\":\"car\",\"age\":27}];\n",
       "              document.querySelector(\"#elem\").data = data;\n",
       "            </script>"
      ],
      "text/plain": [
       "<IPython.core.display.HTML object>"
      ]
     },
     "metadata": {},
     "output_type": "display_data"
    }
   ],
   "source": [
    "facets(df)"
   ]
  },
  {
   "cell_type": "markdown",
   "id": "1a36efc3",
   "metadata": {},
   "source": [
    "## Fairness evaluation of a couple (dataset, model)"
   ]
  },
  {
   "cell_type": "markdown",
   "id": "1b64cc7b-dddb-4a1d-8ec5-37e2066a4056",
   "metadata": {},
   "source": [
    "<h3> Define and train the model</h3>"
   ]
  },
  {
   "cell_type": "code",
   "execution_count": 57,
   "id": "6bd459a5",
   "metadata": {
    "ExecuteTime": {
     "end_time": "2021-10-14T14:30:52.600560Z",
     "start_time": "2021-10-14T14:30:52.567925Z"
    }
   },
   "outputs": [],
   "source": [
    "X_train, X_test, y_train, y_test = train_test_split(\n",
    "    df.drop(columns=[target]),\n",
    "    df[target],\n",
    "    test_size=0.3,\n",
    "    random_state=42\n",
    ")"
   ]
  },
  {
   "cell_type": "code",
   "execution_count": 58,
   "id": "c62d5e7f",
   "metadata": {
    "ExecuteTime": {
     "end_time": "2021-10-14T14:31:02.832460Z",
     "start_time": "2021-10-14T14:31:02.802170Z"
    }
   },
   "outputs": [
    {
     "data": {
      "text/html": [
       "<style>#sk-17628faf-7294-41fb-bb12-2bd0368dbdcf {color: black;background-color: white;}#sk-17628faf-7294-41fb-bb12-2bd0368dbdcf pre{padding: 0;}#sk-17628faf-7294-41fb-bb12-2bd0368dbdcf div.sk-toggleable {background-color: white;}#sk-17628faf-7294-41fb-bb12-2bd0368dbdcf label.sk-toggleable__label {cursor: pointer;display: block;width: 100%;margin-bottom: 0;padding: 0.3em;box-sizing: border-box;text-align: center;}#sk-17628faf-7294-41fb-bb12-2bd0368dbdcf div.sk-toggleable__content {max-height: 0;max-width: 0;overflow: hidden;text-align: left;background-color: #f0f8ff;}#sk-17628faf-7294-41fb-bb12-2bd0368dbdcf div.sk-toggleable__content pre {margin: 0.2em;color: black;border-radius: 0.25em;background-color: #f0f8ff;}#sk-17628faf-7294-41fb-bb12-2bd0368dbdcf input.sk-toggleable__control:checked~div.sk-toggleable__content {max-height: 200px;max-width: 100%;overflow: auto;}#sk-17628faf-7294-41fb-bb12-2bd0368dbdcf div.sk-estimator input.sk-toggleable__control:checked~label.sk-toggleable__label {background-color: #d4ebff;}#sk-17628faf-7294-41fb-bb12-2bd0368dbdcf div.sk-label input.sk-toggleable__control:checked~label.sk-toggleable__label {background-color: #d4ebff;}#sk-17628faf-7294-41fb-bb12-2bd0368dbdcf input.sk-hidden--visually {border: 0;clip: rect(1px 1px 1px 1px);clip: rect(1px, 1px, 1px, 1px);height: 1px;margin: -1px;overflow: hidden;padding: 0;position: absolute;width: 1px;}#sk-17628faf-7294-41fb-bb12-2bd0368dbdcf div.sk-estimator {font-family: monospace;background-color: #f0f8ff;border: 1px dotted black;border-radius: 0.25em;box-sizing: border-box;margin-bottom: 0.5em;}#sk-17628faf-7294-41fb-bb12-2bd0368dbdcf div.sk-estimator:hover {background-color: #d4ebff;}#sk-17628faf-7294-41fb-bb12-2bd0368dbdcf div.sk-parallel-item::after {content: \"\";width: 100%;border-bottom: 1px solid gray;flex-grow: 1;}#sk-17628faf-7294-41fb-bb12-2bd0368dbdcf div.sk-label:hover label.sk-toggleable__label {background-color: #d4ebff;}#sk-17628faf-7294-41fb-bb12-2bd0368dbdcf div.sk-serial::before {content: \"\";position: absolute;border-left: 1px solid gray;box-sizing: border-box;top: 2em;bottom: 0;left: 50%;}#sk-17628faf-7294-41fb-bb12-2bd0368dbdcf div.sk-serial {display: flex;flex-direction: column;align-items: center;background-color: white;padding-right: 0.2em;padding-left: 0.2em;}#sk-17628faf-7294-41fb-bb12-2bd0368dbdcf div.sk-item {z-index: 1;}#sk-17628faf-7294-41fb-bb12-2bd0368dbdcf div.sk-parallel {display: flex;align-items: stretch;justify-content: center;background-color: white;}#sk-17628faf-7294-41fb-bb12-2bd0368dbdcf div.sk-parallel::before {content: \"\";position: absolute;border-left: 1px solid gray;box-sizing: border-box;top: 2em;bottom: 0;left: 50%;}#sk-17628faf-7294-41fb-bb12-2bd0368dbdcf div.sk-parallel-item {display: flex;flex-direction: column;position: relative;background-color: white;}#sk-17628faf-7294-41fb-bb12-2bd0368dbdcf div.sk-parallel-item:first-child::after {align-self: flex-end;width: 50%;}#sk-17628faf-7294-41fb-bb12-2bd0368dbdcf div.sk-parallel-item:last-child::after {align-self: flex-start;width: 50%;}#sk-17628faf-7294-41fb-bb12-2bd0368dbdcf div.sk-parallel-item:only-child::after {width: 0;}#sk-17628faf-7294-41fb-bb12-2bd0368dbdcf div.sk-dashed-wrapped {border: 1px dashed gray;margin: 0 0.4em 0.5em 0.4em;box-sizing: border-box;padding-bottom: 0.4em;background-color: white;position: relative;}#sk-17628faf-7294-41fb-bb12-2bd0368dbdcf div.sk-label label {font-family: monospace;font-weight: bold;background-color: white;display: inline-block;line-height: 1.2em;}#sk-17628faf-7294-41fb-bb12-2bd0368dbdcf div.sk-label-container {position: relative;z-index: 2;text-align: center;}#sk-17628faf-7294-41fb-bb12-2bd0368dbdcf div.sk-container {display: inline-block;position: relative;}</style><div id=\"sk-17628faf-7294-41fb-bb12-2bd0368dbdcf\" class\"sk-top-container\"><div class=\"sk-container\"><div class=\"sk-item sk-dashed-wrapped\"><div class=\"sk-label-container\"><div class=\"sk-label sk-toggleable\"><input class=\"sk-toggleable__control sk-hidden--visually\" id=\"270aad87-88a4-4157-9640-c3bea2698153\" type=\"checkbox\" ><label class=\"sk-toggleable__label\" for=\"270aad87-88a4-4157-9640-c3bea2698153\">Pipeline</label><div class=\"sk-toggleable__content\"><pre>Pipeline(steps=[('preprocessor',\n",
       "                 ColumnTransformer(transformers=[('standardscaler',\n",
       "                                                  StandardScaler(),\n",
       "                                                  <sklearn.compose._column_transformer.make_column_selector object at 0x7fadc97c3e50>),\n",
       "                                                 ('onehotencoder',\n",
       "                                                  OneHotEncoder(),\n",
       "                                                  <sklearn.compose._column_transformer.make_column_selector object at 0x7fadc97c3ac0>)])),\n",
       "                ('classifier', LogisticRegression())])</pre></div></div></div><div class=\"sk-serial\"><div class=\"sk-item sk-dashed-wrapped\"><div class=\"sk-label-container\"><div class=\"sk-label sk-toggleable\"><input class=\"sk-toggleable__control sk-hidden--visually\" id=\"deeb8584-6350-43bd-b5de-f2fed654c2f7\" type=\"checkbox\" ><label class=\"sk-toggleable__label\" for=\"deeb8584-6350-43bd-b5de-f2fed654c2f7\">preprocessor: ColumnTransformer</label><div class=\"sk-toggleable__content\"><pre>ColumnTransformer(transformers=[('standardscaler', StandardScaler(),\n",
       "                                 <sklearn.compose._column_transformer.make_column_selector object at 0x7fadc97c3e50>),\n",
       "                                ('onehotencoder', OneHotEncoder(),\n",
       "                                 <sklearn.compose._column_transformer.make_column_selector object at 0x7fadc97c3ac0>)])</pre></div></div></div><div class=\"sk-parallel\"><div class=\"sk-parallel-item\"><div class=\"sk-item\"><div class=\"sk-label-container\"><div class=\"sk-label sk-toggleable\"><input class=\"sk-toggleable__control sk-hidden--visually\" id=\"a28cf0b0-6cdf-4440-ba29-c62f34785205\" type=\"checkbox\" ><label class=\"sk-toggleable__label\" for=\"a28cf0b0-6cdf-4440-ba29-c62f34785205\">standardscaler</label><div class=\"sk-toggleable__content\"><pre><sklearn.compose._column_transformer.make_column_selector object at 0x7fadc97c3e50></pre></div></div></div><div class=\"sk-serial\"><div class=\"sk-item\"><div class=\"sk-estimator sk-toggleable\"><input class=\"sk-toggleable__control sk-hidden--visually\" id=\"4e500351-f696-4aed-b3be-5edb97223212\" type=\"checkbox\" ><label class=\"sk-toggleable__label\" for=\"4e500351-f696-4aed-b3be-5edb97223212\">StandardScaler</label><div class=\"sk-toggleable__content\"><pre>StandardScaler()</pre></div></div></div></div></div></div><div class=\"sk-parallel-item\"><div class=\"sk-item\"><div class=\"sk-label-container\"><div class=\"sk-label sk-toggleable\"><input class=\"sk-toggleable__control sk-hidden--visually\" id=\"4cab1662-81d4-48a6-a578-715c6d65988d\" type=\"checkbox\" ><label class=\"sk-toggleable__label\" for=\"4cab1662-81d4-48a6-a578-715c6d65988d\">onehotencoder</label><div class=\"sk-toggleable__content\"><pre><sklearn.compose._column_transformer.make_column_selector object at 0x7fadc97c3ac0></pre></div></div></div><div class=\"sk-serial\"><div class=\"sk-item\"><div class=\"sk-estimator sk-toggleable\"><input class=\"sk-toggleable__control sk-hidden--visually\" id=\"e5c0d7e9-af58-4c7a-81a6-afd2a9562e6b\" type=\"checkbox\" ><label class=\"sk-toggleable__label\" for=\"e5c0d7e9-af58-4c7a-81a6-afd2a9562e6b\">OneHotEncoder</label><div class=\"sk-toggleable__content\"><pre>OneHotEncoder()</pre></div></div></div></div></div></div></div></div><div class=\"sk-item\"><div class=\"sk-estimator sk-toggleable\"><input class=\"sk-toggleable__control sk-hidden--visually\" id=\"fd160072-0780-492a-8c28-1dc79cb5f8f2\" type=\"checkbox\" ><label class=\"sk-toggleable__label\" for=\"fd160072-0780-492a-8c28-1dc79cb5f8f2\">LogisticRegression</label><div class=\"sk-toggleable__content\"><pre>LogisticRegression()</pre></div></div></div></div></div></div></div>"
      ],
      "text/plain": [
       "Pipeline(steps=[('preprocessor',\n",
       "                 ColumnTransformer(transformers=[('standardscaler',\n",
       "                                                  StandardScaler(),\n",
       "                                                  <sklearn.compose._column_transformer.make_column_selector object at 0x7fadc97c3e50>),\n",
       "                                                 ('onehotencoder',\n",
       "                                                  OneHotEncoder(),\n",
       "                                                  <sklearn.compose._column_transformer.make_column_selector object at 0x7fadc97c3ac0>)])),\n",
       "                ('classifier', LogisticRegression())])"
      ]
     },
     "execution_count": 58,
     "metadata": {},
     "output_type": "execute_result"
    }
   ],
   "source": [
    "preprocessor = make_column_transformer(\n",
    "      (StandardScaler(), make_column_selector(dtype_include=np.number)),\n",
    "      (OneHotEncoder(), make_column_selector(dtype_include=object))\n",
    ")\n",
    "\n",
    "\n",
    "clf_logreg = Pipeline(steps=[\n",
    "    ('preprocessor', preprocessor),\n",
    "    ('classifier', LogisticRegression())\n",
    "])\n",
    "clf_logreg"
   ]
  },
  {
   "cell_type": "code",
   "execution_count": 59,
   "id": "80b12e81",
   "metadata": {
    "ExecuteTime": {
     "end_time": "2021-10-14T14:31:47.075525Z",
     "start_time": "2021-10-14T14:31:46.989514Z"
    }
   },
   "outputs": [
    {
     "data": {
      "text/html": [
       "<style>#sk-9d5f220a-cadc-4dd5-8923-deac7ad3f372 {color: black;background-color: white;}#sk-9d5f220a-cadc-4dd5-8923-deac7ad3f372 pre{padding: 0;}#sk-9d5f220a-cadc-4dd5-8923-deac7ad3f372 div.sk-toggleable {background-color: white;}#sk-9d5f220a-cadc-4dd5-8923-deac7ad3f372 label.sk-toggleable__label {cursor: pointer;display: block;width: 100%;margin-bottom: 0;padding: 0.3em;box-sizing: border-box;text-align: center;}#sk-9d5f220a-cadc-4dd5-8923-deac7ad3f372 div.sk-toggleable__content {max-height: 0;max-width: 0;overflow: hidden;text-align: left;background-color: #f0f8ff;}#sk-9d5f220a-cadc-4dd5-8923-deac7ad3f372 div.sk-toggleable__content pre {margin: 0.2em;color: black;border-radius: 0.25em;background-color: #f0f8ff;}#sk-9d5f220a-cadc-4dd5-8923-deac7ad3f372 input.sk-toggleable__control:checked~div.sk-toggleable__content {max-height: 200px;max-width: 100%;overflow: auto;}#sk-9d5f220a-cadc-4dd5-8923-deac7ad3f372 div.sk-estimator input.sk-toggleable__control:checked~label.sk-toggleable__label {background-color: #d4ebff;}#sk-9d5f220a-cadc-4dd5-8923-deac7ad3f372 div.sk-label input.sk-toggleable__control:checked~label.sk-toggleable__label {background-color: #d4ebff;}#sk-9d5f220a-cadc-4dd5-8923-deac7ad3f372 input.sk-hidden--visually {border: 0;clip: rect(1px 1px 1px 1px);clip: rect(1px, 1px, 1px, 1px);height: 1px;margin: -1px;overflow: hidden;padding: 0;position: absolute;width: 1px;}#sk-9d5f220a-cadc-4dd5-8923-deac7ad3f372 div.sk-estimator {font-family: monospace;background-color: #f0f8ff;border: 1px dotted black;border-radius: 0.25em;box-sizing: border-box;margin-bottom: 0.5em;}#sk-9d5f220a-cadc-4dd5-8923-deac7ad3f372 div.sk-estimator:hover {background-color: #d4ebff;}#sk-9d5f220a-cadc-4dd5-8923-deac7ad3f372 div.sk-parallel-item::after {content: \"\";width: 100%;border-bottom: 1px solid gray;flex-grow: 1;}#sk-9d5f220a-cadc-4dd5-8923-deac7ad3f372 div.sk-label:hover label.sk-toggleable__label {background-color: #d4ebff;}#sk-9d5f220a-cadc-4dd5-8923-deac7ad3f372 div.sk-serial::before {content: \"\";position: absolute;border-left: 1px solid gray;box-sizing: border-box;top: 2em;bottom: 0;left: 50%;}#sk-9d5f220a-cadc-4dd5-8923-deac7ad3f372 div.sk-serial {display: flex;flex-direction: column;align-items: center;background-color: white;padding-right: 0.2em;padding-left: 0.2em;}#sk-9d5f220a-cadc-4dd5-8923-deac7ad3f372 div.sk-item {z-index: 1;}#sk-9d5f220a-cadc-4dd5-8923-deac7ad3f372 div.sk-parallel {display: flex;align-items: stretch;justify-content: center;background-color: white;}#sk-9d5f220a-cadc-4dd5-8923-deac7ad3f372 div.sk-parallel::before {content: \"\";position: absolute;border-left: 1px solid gray;box-sizing: border-box;top: 2em;bottom: 0;left: 50%;}#sk-9d5f220a-cadc-4dd5-8923-deac7ad3f372 div.sk-parallel-item {display: flex;flex-direction: column;position: relative;background-color: white;}#sk-9d5f220a-cadc-4dd5-8923-deac7ad3f372 div.sk-parallel-item:first-child::after {align-self: flex-end;width: 50%;}#sk-9d5f220a-cadc-4dd5-8923-deac7ad3f372 div.sk-parallel-item:last-child::after {align-self: flex-start;width: 50%;}#sk-9d5f220a-cadc-4dd5-8923-deac7ad3f372 div.sk-parallel-item:only-child::after {width: 0;}#sk-9d5f220a-cadc-4dd5-8923-deac7ad3f372 div.sk-dashed-wrapped {border: 1px dashed gray;margin: 0 0.4em 0.5em 0.4em;box-sizing: border-box;padding-bottom: 0.4em;background-color: white;position: relative;}#sk-9d5f220a-cadc-4dd5-8923-deac7ad3f372 div.sk-label label {font-family: monospace;font-weight: bold;background-color: white;display: inline-block;line-height: 1.2em;}#sk-9d5f220a-cadc-4dd5-8923-deac7ad3f372 div.sk-label-container {position: relative;z-index: 2;text-align: center;}#sk-9d5f220a-cadc-4dd5-8923-deac7ad3f372 div.sk-container {display: inline-block;position: relative;}</style><div id=\"sk-9d5f220a-cadc-4dd5-8923-deac7ad3f372\" class\"sk-top-container\"><div class=\"sk-container\"><div class=\"sk-item sk-dashed-wrapped\"><div class=\"sk-label-container\"><div class=\"sk-label sk-toggleable\"><input class=\"sk-toggleable__control sk-hidden--visually\" id=\"cf000312-52f9-4be1-bdf0-d90a119a9bbd\" type=\"checkbox\" ><label class=\"sk-toggleable__label\" for=\"cf000312-52f9-4be1-bdf0-d90a119a9bbd\">Pipeline</label><div class=\"sk-toggleable__content\"><pre>Pipeline(steps=[('preprocessor',\n",
       "                 ColumnTransformer(transformers=[('standardscaler',\n",
       "                                                  StandardScaler(),\n",
       "                                                  <sklearn.compose._column_transformer.make_column_selector object at 0x7fadc97c3e50>),\n",
       "                                                 ('onehotencoder',\n",
       "                                                  OneHotEncoder(),\n",
       "                                                  <sklearn.compose._column_transformer.make_column_selector object at 0x7fadc97c3ac0>)])),\n",
       "                ('classifier', LogisticRegression())])</pre></div></div></div><div class=\"sk-serial\"><div class=\"sk-item sk-dashed-wrapped\"><div class=\"sk-label-container\"><div class=\"sk-label sk-toggleable\"><input class=\"sk-toggleable__control sk-hidden--visually\" id=\"7ba148bc-be13-4d8c-9d6c-97320e16bb19\" type=\"checkbox\" ><label class=\"sk-toggleable__label\" for=\"7ba148bc-be13-4d8c-9d6c-97320e16bb19\">preprocessor: ColumnTransformer</label><div class=\"sk-toggleable__content\"><pre>ColumnTransformer(transformers=[('standardscaler', StandardScaler(),\n",
       "                                 <sklearn.compose._column_transformer.make_column_selector object at 0x7fadc97c3e50>),\n",
       "                                ('onehotencoder', OneHotEncoder(),\n",
       "                                 <sklearn.compose._column_transformer.make_column_selector object at 0x7fadc97c3ac0>)])</pre></div></div></div><div class=\"sk-parallel\"><div class=\"sk-parallel-item\"><div class=\"sk-item\"><div class=\"sk-label-container\"><div class=\"sk-label sk-toggleable\"><input class=\"sk-toggleable__control sk-hidden--visually\" id=\"aef9a194-af54-4f86-870d-726ed9226694\" type=\"checkbox\" ><label class=\"sk-toggleable__label\" for=\"aef9a194-af54-4f86-870d-726ed9226694\">standardscaler</label><div class=\"sk-toggleable__content\"><pre><sklearn.compose._column_transformer.make_column_selector object at 0x7fadc97c3e50></pre></div></div></div><div class=\"sk-serial\"><div class=\"sk-item\"><div class=\"sk-estimator sk-toggleable\"><input class=\"sk-toggleable__control sk-hidden--visually\" id=\"44e5be39-9cd3-48ff-abb0-cc64782aae76\" type=\"checkbox\" ><label class=\"sk-toggleable__label\" for=\"44e5be39-9cd3-48ff-abb0-cc64782aae76\">StandardScaler</label><div class=\"sk-toggleable__content\"><pre>StandardScaler()</pre></div></div></div></div></div></div><div class=\"sk-parallel-item\"><div class=\"sk-item\"><div class=\"sk-label-container\"><div class=\"sk-label sk-toggleable\"><input class=\"sk-toggleable__control sk-hidden--visually\" id=\"e589e88c-0855-47ed-ab71-ed3f39b483a0\" type=\"checkbox\" ><label class=\"sk-toggleable__label\" for=\"e589e88c-0855-47ed-ab71-ed3f39b483a0\">onehotencoder</label><div class=\"sk-toggleable__content\"><pre><sklearn.compose._column_transformer.make_column_selector object at 0x7fadc97c3ac0></pre></div></div></div><div class=\"sk-serial\"><div class=\"sk-item\"><div class=\"sk-estimator sk-toggleable\"><input class=\"sk-toggleable__control sk-hidden--visually\" id=\"4cfbf918-14b3-4285-9e75-cc3c78f2edf5\" type=\"checkbox\" ><label class=\"sk-toggleable__label\" for=\"4cfbf918-14b3-4285-9e75-cc3c78f2edf5\">OneHotEncoder</label><div class=\"sk-toggleable__content\"><pre>OneHotEncoder()</pre></div></div></div></div></div></div></div></div><div class=\"sk-item\"><div class=\"sk-estimator sk-toggleable\"><input class=\"sk-toggleable__control sk-hidden--visually\" id=\"655210d7-efb7-4458-a324-942013c07328\" type=\"checkbox\" ><label class=\"sk-toggleable__label\" for=\"655210d7-efb7-4458-a324-942013c07328\">LogisticRegression</label><div class=\"sk-toggleable__content\"><pre>LogisticRegression()</pre></div></div></div></div></div></div></div>"
      ],
      "text/plain": [
       "Pipeline(steps=[('preprocessor',\n",
       "                 ColumnTransformer(transformers=[('standardscaler',\n",
       "                                                  StandardScaler(),\n",
       "                                                  <sklearn.compose._column_transformer.make_column_selector object at 0x7fadc97c3e50>),\n",
       "                                                 ('onehotencoder',\n",
       "                                                  OneHotEncoder(),\n",
       "                                                  <sklearn.compose._column_transformer.make_column_selector object at 0x7fadc97c3ac0>)])),\n",
       "                ('classifier', LogisticRegression())])"
      ]
     },
     "execution_count": 59,
     "metadata": {},
     "output_type": "execute_result"
    }
   ],
   "source": [
    "clf_logreg.fit(X_train, y_train)"
   ]
  },
  {
   "cell_type": "markdown",
   "id": "1b9d1f4c-288b-4a81-8297-07da4d37f481",
   "metadata": {},
   "source": [
    "<h3> Fairness evaluation </h3>"
   ]
  },
  {
   "cell_type": "markdown",
   "id": "7897dd3b-b4f8-4aca-9436-26806c22a937",
   "metadata": {},
   "source": [
    "<h4> With dalex </h4>"
   ]
  },
  {
   "cell_type": "markdown",
   "id": "28418613-2396-492a-aa9e-dd7ba73d68b7",
   "metadata": {},
   "source": [
    "The main object of dalex is the ```Explainer``` container. It takes as inputs a dataset (features and target) and a trained model. </br>\n",
    "Once the data and the model has been wrapped, one needs to fix protected and privileged attributes. Beware these choices correspond to an a priori understanding of the problem and could miss hidden flaws of the model. An interesting line of work would consist in conducting a king of grid-search exploration for potential biases."
   ]
  },
  {
   "cell_type": "code",
   "execution_count": 60,
   "id": "eb0cbd87-2f1f-47c8-9dda-926513a9de90",
   "metadata": {},
   "outputs": [],
   "source": [
    "explainer = dx.Explainer(clf_logreg, X_test, y_test, verbose=False)\n",
    "\n",
    "protected = X_test.sex + '_' + np.where(X_test.age < 25, 'young', 'old')\n",
    "privileged = 'male_old'"
   ]
  },
  {
   "cell_type": "markdown",
   "id": "83a2a930-9504-449f-96fb-c4f44769e0e9",
   "metadata": {},
   "source": [
    "The method ```model_fairness``` returns a fairness object from which fairness evaluations can be conducted. Notice that every metrics inherited from the confusion matrix are computed during the instantiation. </br>\n",
    "Two methods can then be performed:\n",
    "<ul>\n",
    "    <li> The fairness_check method, which returns a report on the fairness of the model. It requires an epsilon parameter that corresponds to the threshold ratio below which a given metric is considered to be unfair (default value is 0.8).</li>\n",
    "    <li> The plot method, which allows to visualize the main fairness ratios between the protected subgroups and the privileged one.</li>\n",
    "</ul>"
   ]
  },
  {
   "cell_type": "code",
   "execution_count": 61,
   "id": "2d0adc84-992b-49c9-92d6-9942254a9a4f",
   "metadata": {},
   "outputs": [
    {
     "name": "stdout",
     "output_type": "stream",
     "text": [
      "Bias detected in 3 metrics: TPR, FPR, STP\n",
      "\n",
      "Conclusion: your model is not fair because 2 or more criteria exceeded acceptable limits set by epsilon.\n",
      "\n",
      "Ratios of metrics, based on 'male_old'. Parameter 'epsilon' was set to 0.8 and therefore metrics should be within (0.8, 1.25)\n",
      "                   TPR       ACC       PPV       FPR       STP\n",
      "female_old    1.001073  1.099310  1.112011  0.852785  0.984055\n",
      "female_young  0.843348  0.951724  0.873144  0.530504  0.667426\n",
      "male_young    0.774678  0.960000  1.170040  0.530504  0.742597\n"
     ]
    },
    {
     "data": {
      "application/vnd.plotly.v1+json": {
       "config": {
        "displaylogo": false,
        "modeBarButtonsToRemove": [
         "sendDataToCloud",
         "lasso2d",
         "autoScale2d",
         "select2d",
         "zoom2d",
         "pan2d",
         "zoomIn2d",
         "zoomOut2d",
         "resetScale2d",
         "toggleSpikelines",
         "hoverCompareCartesian",
         "hoverClosestCartesian"
        ],
        "plotlyServerURL": "https://plot.ly",
        "staticPlot": false,
        "toImageButtonOptions": {
         "height": null,
         "width": null
        }
       },
       "data": [
        {
         "alignmentgroup": "True",
         "customdata": [
          [
           "female_old",
           1.001,
           "LogisticRegression"
          ],
          [
           "female_young",
           0.843,
           "LogisticRegression"
          ],
          [
           "male_young",
           0.775,
           "LogisticRegression"
          ]
         ],
         "hovertemplate": "<b>%{customdata[2]}</b><br>Subgroup: %{customdata[0]}<br>Score: %{customdata[1]}<br><extra></extra>",
         "legendgroup": "LogisticRegression",
         "marker": {
          "color": "#46bac2",
          "pattern": {
           "shape": ""
          }
         },
         "name": "LogisticRegression",
         "offsetgroup": "LogisticRegression",
         "orientation": "h",
         "showlegend": true,
         "textposition": "auto",
         "type": "bar",
         "x": [
          0.0010729613733906351,
          -0.15665236051502152,
          -0.22532188841201728
         ],
         "xaxis": "x5",
         "y": [
          0.25,
          0.5,
          0.75
         ],
         "yaxis": "y5"
        },
        {
         "alignmentgroup": "True",
         "customdata": [
          [
           "female_old",
           1.112,
           "LogisticRegression"
          ],
          [
           "female_young",
           0.873,
           "LogisticRegression"
          ],
          [
           "male_young",
           1.17,
           "LogisticRegression"
          ]
         ],
         "hovertemplate": "<b>%{customdata[2]}</b><br>Subgroup: %{customdata[0]}<br>Score: %{customdata[1]}<br><extra></extra>",
         "legendgroup": "LogisticRegression",
         "marker": {
          "color": "#46bac2",
          "pattern": {
           "shape": ""
          }
         },
         "name": "LogisticRegression",
         "offsetgroup": "LogisticRegression",
         "orientation": "h",
         "showlegend": false,
         "textposition": "auto",
         "type": "bar",
         "x": [
          0.1120107962213226,
          -0.12685560053981104,
          0.17004048582995956
         ],
         "xaxis": "x4",
         "y": [
          0.25,
          0.5,
          0.75
         ],
         "yaxis": "y4"
        },
        {
         "alignmentgroup": "True",
         "customdata": [
          [
           "female_old",
           0.853,
           "LogisticRegression"
          ],
          [
           "female_young",
           0.531,
           "LogisticRegression"
          ],
          [
           "male_young",
           0.531,
           "LogisticRegression"
          ]
         ],
         "hovertemplate": "<b>%{customdata[2]}</b><br>Subgroup: %{customdata[0]}<br>Score: %{customdata[1]}<br><extra></extra>",
         "legendgroup": "LogisticRegression",
         "marker": {
          "color": "#46bac2",
          "pattern": {
           "shape": ""
          }
         },
         "name": "LogisticRegression",
         "offsetgroup": "LogisticRegression",
         "orientation": "h",
         "showlegend": false,
         "textposition": "auto",
         "type": "bar",
         "x": [
          -0.14721485411140578,
          -0.4694960212201591,
          -0.4694960212201591
         ],
         "xaxis": "x3",
         "y": [
          0.25,
          0.5,
          0.75
         ],
         "yaxis": "y3"
        },
        {
         "alignmentgroup": "True",
         "customdata": [
          [
           "female_old",
           1.099,
           "LogisticRegression"
          ],
          [
           "female_young",
           0.952,
           "LogisticRegression"
          ],
          [
           "male_young",
           0.96,
           "LogisticRegression"
          ]
         ],
         "hovertemplate": "<b>%{customdata[2]}</b><br>Subgroup: %{customdata[0]}<br>Score: %{customdata[1]}<br><extra></extra>",
         "legendgroup": "LogisticRegression",
         "marker": {
          "color": "#46bac2",
          "pattern": {
           "shape": ""
          }
         },
         "name": "LogisticRegression",
         "offsetgroup": "LogisticRegression",
         "orientation": "h",
         "showlegend": false,
         "textposition": "auto",
         "type": "bar",
         "x": [
          0.09931034482758627,
          -0.048275862068965614,
          -0.040000000000000036
         ],
         "xaxis": "x2",
         "y": [
          0.25,
          0.5,
          0.75
         ],
         "yaxis": "y2"
        },
        {
         "alignmentgroup": "True",
         "customdata": [
          [
           "female_old",
           0.984,
           "LogisticRegression"
          ],
          [
           "female_young",
           0.667,
           "LogisticRegression"
          ],
          [
           "male_young",
           0.743,
           "LogisticRegression"
          ]
         ],
         "hovertemplate": "<b>%{customdata[2]}</b><br>Subgroup: %{customdata[0]}<br>Score: %{customdata[1]}<br><extra></extra>",
         "legendgroup": "LogisticRegression",
         "marker": {
          "color": "#46bac2",
          "pattern": {
           "shape": ""
          }
         },
         "name": "LogisticRegression",
         "offsetgroup": "LogisticRegression",
         "orientation": "h",
         "showlegend": false,
         "textposition": "auto",
         "type": "bar",
         "x": [
          -0.015945330296127547,
          -0.3325740318906606,
          -0.2574031890660592
         ],
         "xaxis": "x",
         "y": [
          0.25,
          0.5,
          0.75
         ],
         "yaxis": "y"
        }
       ],
       "layout": {
        "annotations": [
         {
          "font": {
           "size": 15
          },
          "showarrow": false,
          "text": "Statistical parity ratio   (TP + FP)/(TP + FP + TN + FN)",
          "x": 0.05,
          "xanchor": "left",
          "xref": "paper",
          "y": 0.144,
          "yanchor": "bottom",
          "yref": "paper"
         },
         {
          "font": {
           "size": 15
          },
          "showarrow": false,
          "text": "Accuracy equality ratio    (TP + TN)/(TP + FP + TN + FN)",
          "x": 0.05,
          "xanchor": "left",
          "xref": "paper",
          "y": 0.358,
          "yanchor": "bottom",
          "yref": "paper"
         },
         {
          "font": {
           "size": 15
          },
          "showarrow": false,
          "text": "Predictive equality ratio   FP/(FP + TN)",
          "x": 0.05,
          "xanchor": "left",
          "xref": "paper",
          "y": 0.572,
          "yanchor": "bottom",
          "yref": "paper"
         },
         {
          "font": {
           "size": 15
          },
          "showarrow": false,
          "text": "Predictive parity ratio     TP/(TP + FP)",
          "x": 0.05,
          "xanchor": "left",
          "xref": "paper",
          "y": 0.7859999999999999,
          "yanchor": "bottom",
          "yref": "paper"
         },
         {
          "font": {
           "size": 15
          },
          "showarrow": false,
          "text": "Equal opportunity ratio     TP/(TP + FN)",
          "x": 0.05,
          "xanchor": "left",
          "xref": "paper",
          "y": 1,
          "yanchor": "bottom",
          "yref": "paper"
         }
        ],
        "autosize": true,
        "barmode": "group",
        "font": {
         "color": "#371ea3"
        },
        "legend": {
         "title": {
          "text": "label"
         },
         "tracegroupgap": 0
        },
        "margin": {
         "b": 71,
         "r": 30,
         "t": 78
        },
        "shapes": [
         {
          "fillcolor": "#f05a71",
          "layer": "below",
          "line": {
           "width": 0
          },
          "opacity": 0.1,
          "type": "rect",
          "x0": 0.25,
          "x1": 0.3,
          "xref": "x",
          "y0": 0,
          "y1": 1,
          "yref": "y"
         },
         {
          "fillcolor": "#f05a71",
          "layer": "below",
          "line": {
           "width": 0
          },
          "opacity": 0.1,
          "type": "rect",
          "x0": -0.516445623342175,
          "x1": -0.19999999999999996,
          "xref": "x",
          "y0": 0,
          "y1": 1,
          "yref": "y"
         },
         {
          "fillcolor": "#c7f5bf",
          "layer": "below",
          "line": {
           "width": 0
          },
          "opacity": 0.1,
          "type": "rect",
          "x0": -0.19999999999999996,
          "x1": 0.25,
          "xref": "x",
          "y0": 0,
          "y1": 1,
          "yref": "y"
         },
         {
          "line": {
           "color": "#371ea3",
           "width": 1.5
          },
          "type": "line",
          "x0": 0,
          "x1": 0,
          "xref": "x",
          "y0": 0,
          "y1": 1,
          "yref": "y"
         },
         {
          "fillcolor": "#f05a71",
          "layer": "below",
          "line": {
           "width": 0
          },
          "opacity": 0.1,
          "type": "rect",
          "x0": 0.25,
          "x1": 0.3,
          "xref": "x",
          "y0": 0,
          "y1": 1,
          "yref": "y2"
         },
         {
          "fillcolor": "#f05a71",
          "layer": "below",
          "line": {
           "width": 0
          },
          "opacity": 0.1,
          "type": "rect",
          "x0": -0.516445623342175,
          "x1": -0.19999999999999996,
          "xref": "x",
          "y0": 0,
          "y1": 1,
          "yref": "y2"
         },
         {
          "fillcolor": "#c7f5bf",
          "layer": "below",
          "line": {
           "width": 0
          },
          "opacity": 0.1,
          "type": "rect",
          "x0": -0.19999999999999996,
          "x1": 0.25,
          "xref": "x",
          "y0": 0,
          "y1": 1,
          "yref": "y2"
         },
         {
          "line": {
           "color": "#371ea3",
           "width": 1.5
          },
          "type": "line",
          "x0": 0,
          "x1": 0,
          "xref": "x",
          "y0": 0,
          "y1": 1,
          "yref": "y2"
         },
         {
          "fillcolor": "#f05a71",
          "layer": "below",
          "line": {
           "width": 0
          },
          "opacity": 0.1,
          "type": "rect",
          "x0": 0.25,
          "x1": 0.3,
          "xref": "x",
          "y0": 0,
          "y1": 1,
          "yref": "y3"
         },
         {
          "fillcolor": "#f05a71",
          "layer": "below",
          "line": {
           "width": 0
          },
          "opacity": 0.1,
          "type": "rect",
          "x0": -0.516445623342175,
          "x1": -0.19999999999999996,
          "xref": "x",
          "y0": 0,
          "y1": 1,
          "yref": "y3"
         },
         {
          "fillcolor": "#c7f5bf",
          "layer": "below",
          "line": {
           "width": 0
          },
          "opacity": 0.1,
          "type": "rect",
          "x0": -0.19999999999999996,
          "x1": 0.25,
          "xref": "x",
          "y0": 0,
          "y1": 1,
          "yref": "y3"
         },
         {
          "line": {
           "color": "#371ea3",
           "width": 1.5
          },
          "type": "line",
          "x0": 0,
          "x1": 0,
          "xref": "x",
          "y0": 0,
          "y1": 1,
          "yref": "y3"
         },
         {
          "fillcolor": "#f05a71",
          "layer": "below",
          "line": {
           "width": 0
          },
          "opacity": 0.1,
          "type": "rect",
          "x0": 0.25,
          "x1": 0.3,
          "xref": "x",
          "y0": 0,
          "y1": 1,
          "yref": "y4"
         },
         {
          "fillcolor": "#f05a71",
          "layer": "below",
          "line": {
           "width": 0
          },
          "opacity": 0.1,
          "type": "rect",
          "x0": -0.516445623342175,
          "x1": -0.19999999999999996,
          "xref": "x",
          "y0": 0,
          "y1": 1,
          "yref": "y4"
         },
         {
          "fillcolor": "#c7f5bf",
          "layer": "below",
          "line": {
           "width": 0
          },
          "opacity": 0.1,
          "type": "rect",
          "x0": -0.19999999999999996,
          "x1": 0.25,
          "xref": "x",
          "y0": 0,
          "y1": 1,
          "yref": "y4"
         },
         {
          "line": {
           "color": "#371ea3",
           "width": 1.5
          },
          "type": "line",
          "x0": 0,
          "x1": 0,
          "xref": "x",
          "y0": 0,
          "y1": 1,
          "yref": "y4"
         },
         {
          "fillcolor": "#f05a71",
          "layer": "below",
          "line": {
           "width": 0
          },
          "opacity": 0.1,
          "type": "rect",
          "x0": 0.25,
          "x1": 0.3,
          "xref": "x",
          "y0": 0,
          "y1": 1,
          "yref": "y5"
         },
         {
          "fillcolor": "#f05a71",
          "layer": "below",
          "line": {
           "width": 0
          },
          "opacity": 0.1,
          "type": "rect",
          "x0": -0.516445623342175,
          "x1": -0.19999999999999996,
          "xref": "x",
          "y0": 0,
          "y1": 1,
          "yref": "y5"
         },
         {
          "fillcolor": "#c7f5bf",
          "layer": "below",
          "line": {
           "width": 0
          },
          "opacity": 0.1,
          "type": "rect",
          "x0": -0.19999999999999996,
          "x1": 0.25,
          "xref": "x",
          "y0": 0,
          "y1": 1,
          "yref": "y5"
         },
         {
          "line": {
           "color": "#371ea3",
           "width": 1.5
          },
          "type": "line",
          "x0": 0,
          "x1": 0,
          "xref": "x",
          "y0": 0,
          "y1": 1,
          "yref": "y5"
         }
        ],
        "template": {
         "data": {
          "bar": [
           {
            "error_x": {
             "color": "#2a3f5f"
            },
            "error_y": {
             "color": "#2a3f5f"
            },
            "marker": {
             "line": {
              "color": "white",
              "width": 0.5
             },
             "pattern": {
              "fillmode": "overlay",
              "size": 10,
              "solidity": 0.2
             }
            },
            "type": "bar"
           }
          ],
          "barpolar": [
           {
            "marker": {
             "line": {
              "color": "white",
              "width": 0.5
             },
             "pattern": {
              "fillmode": "overlay",
              "size": 10,
              "solidity": 0.2
             }
            },
            "type": "barpolar"
           }
          ],
          "carpet": [
           {
            "aaxis": {
             "endlinecolor": "#2a3f5f",
             "gridcolor": "#C8D4E3",
             "linecolor": "#C8D4E3",
             "minorgridcolor": "#C8D4E3",
             "startlinecolor": "#2a3f5f"
            },
            "baxis": {
             "endlinecolor": "#2a3f5f",
             "gridcolor": "#C8D4E3",
             "linecolor": "#C8D4E3",
             "minorgridcolor": "#C8D4E3",
             "startlinecolor": "#2a3f5f"
            },
            "type": "carpet"
           }
          ],
          "choropleth": [
           {
            "colorbar": {
             "outlinewidth": 0,
             "ticks": ""
            },
            "type": "choropleth"
           }
          ],
          "contour": [
           {
            "colorbar": {
             "outlinewidth": 0,
             "ticks": ""
            },
            "colorscale": [
             [
              0,
              "#0d0887"
             ],
             [
              0.1111111111111111,
              "#46039f"
             ],
             [
              0.2222222222222222,
              "#7201a8"
             ],
             [
              0.3333333333333333,
              "#9c179e"
             ],
             [
              0.4444444444444444,
              "#bd3786"
             ],
             [
              0.5555555555555556,
              "#d8576b"
             ],
             [
              0.6666666666666666,
              "#ed7953"
             ],
             [
              0.7777777777777778,
              "#fb9f3a"
             ],
             [
              0.8888888888888888,
              "#fdca26"
             ],
             [
              1,
              "#f0f921"
             ]
            ],
            "type": "contour"
           }
          ],
          "contourcarpet": [
           {
            "colorbar": {
             "outlinewidth": 0,
             "ticks": ""
            },
            "type": "contourcarpet"
           }
          ],
          "heatmap": [
           {
            "colorbar": {
             "outlinewidth": 0,
             "ticks": ""
            },
            "colorscale": [
             [
              0,
              "#0d0887"
             ],
             [
              0.1111111111111111,
              "#46039f"
             ],
             [
              0.2222222222222222,
              "#7201a8"
             ],
             [
              0.3333333333333333,
              "#9c179e"
             ],
             [
              0.4444444444444444,
              "#bd3786"
             ],
             [
              0.5555555555555556,
              "#d8576b"
             ],
             [
              0.6666666666666666,
              "#ed7953"
             ],
             [
              0.7777777777777778,
              "#fb9f3a"
             ],
             [
              0.8888888888888888,
              "#fdca26"
             ],
             [
              1,
              "#f0f921"
             ]
            ],
            "type": "heatmap"
           }
          ],
          "heatmapgl": [
           {
            "colorbar": {
             "outlinewidth": 0,
             "ticks": ""
            },
            "colorscale": [
             [
              0,
              "#0d0887"
             ],
             [
              0.1111111111111111,
              "#46039f"
             ],
             [
              0.2222222222222222,
              "#7201a8"
             ],
             [
              0.3333333333333333,
              "#9c179e"
             ],
             [
              0.4444444444444444,
              "#bd3786"
             ],
             [
              0.5555555555555556,
              "#d8576b"
             ],
             [
              0.6666666666666666,
              "#ed7953"
             ],
             [
              0.7777777777777778,
              "#fb9f3a"
             ],
             [
              0.8888888888888888,
              "#fdca26"
             ],
             [
              1,
              "#f0f921"
             ]
            ],
            "type": "heatmapgl"
           }
          ],
          "histogram": [
           {
            "marker": {
             "pattern": {
              "fillmode": "overlay",
              "size": 10,
              "solidity": 0.2
             }
            },
            "type": "histogram"
           }
          ],
          "histogram2d": [
           {
            "colorbar": {
             "outlinewidth": 0,
             "ticks": ""
            },
            "colorscale": [
             [
              0,
              "#0d0887"
             ],
             [
              0.1111111111111111,
              "#46039f"
             ],
             [
              0.2222222222222222,
              "#7201a8"
             ],
             [
              0.3333333333333333,
              "#9c179e"
             ],
             [
              0.4444444444444444,
              "#bd3786"
             ],
             [
              0.5555555555555556,
              "#d8576b"
             ],
             [
              0.6666666666666666,
              "#ed7953"
             ],
             [
              0.7777777777777778,
              "#fb9f3a"
             ],
             [
              0.8888888888888888,
              "#fdca26"
             ],
             [
              1,
              "#f0f921"
             ]
            ],
            "type": "histogram2d"
           }
          ],
          "histogram2dcontour": [
           {
            "colorbar": {
             "outlinewidth": 0,
             "ticks": ""
            },
            "colorscale": [
             [
              0,
              "#0d0887"
             ],
             [
              0.1111111111111111,
              "#46039f"
             ],
             [
              0.2222222222222222,
              "#7201a8"
             ],
             [
              0.3333333333333333,
              "#9c179e"
             ],
             [
              0.4444444444444444,
              "#bd3786"
             ],
             [
              0.5555555555555556,
              "#d8576b"
             ],
             [
              0.6666666666666666,
              "#ed7953"
             ],
             [
              0.7777777777777778,
              "#fb9f3a"
             ],
             [
              0.8888888888888888,
              "#fdca26"
             ],
             [
              1,
              "#f0f921"
             ]
            ],
            "type": "histogram2dcontour"
           }
          ],
          "mesh3d": [
           {
            "colorbar": {
             "outlinewidth": 0,
             "ticks": ""
            },
            "type": "mesh3d"
           }
          ],
          "parcoords": [
           {
            "line": {
             "colorbar": {
              "outlinewidth": 0,
              "ticks": ""
             }
            },
            "type": "parcoords"
           }
          ],
          "pie": [
           {
            "automargin": true,
            "type": "pie"
           }
          ],
          "scatter": [
           {
            "marker": {
             "colorbar": {
              "outlinewidth": 0,
              "ticks": ""
             }
            },
            "type": "scatter"
           }
          ],
          "scatter3d": [
           {
            "line": {
             "colorbar": {
              "outlinewidth": 0,
              "ticks": ""
             }
            },
            "marker": {
             "colorbar": {
              "outlinewidth": 0,
              "ticks": ""
             }
            },
            "type": "scatter3d"
           }
          ],
          "scattercarpet": [
           {
            "marker": {
             "colorbar": {
              "outlinewidth": 0,
              "ticks": ""
             }
            },
            "type": "scattercarpet"
           }
          ],
          "scattergeo": [
           {
            "marker": {
             "colorbar": {
              "outlinewidth": 0,
              "ticks": ""
             }
            },
            "type": "scattergeo"
           }
          ],
          "scattergl": [
           {
            "marker": {
             "colorbar": {
              "outlinewidth": 0,
              "ticks": ""
             }
            },
            "type": "scattergl"
           }
          ],
          "scattermapbox": [
           {
            "marker": {
             "colorbar": {
              "outlinewidth": 0,
              "ticks": ""
             }
            },
            "type": "scattermapbox"
           }
          ],
          "scatterpolar": [
           {
            "marker": {
             "colorbar": {
              "outlinewidth": 0,
              "ticks": ""
             }
            },
            "type": "scatterpolar"
           }
          ],
          "scatterpolargl": [
           {
            "marker": {
             "colorbar": {
              "outlinewidth": 0,
              "ticks": ""
             }
            },
            "type": "scatterpolargl"
           }
          ],
          "scatterternary": [
           {
            "marker": {
             "colorbar": {
              "outlinewidth": 0,
              "ticks": ""
             }
            },
            "type": "scatterternary"
           }
          ],
          "surface": [
           {
            "colorbar": {
             "outlinewidth": 0,
             "ticks": ""
            },
            "colorscale": [
             [
              0,
              "#0d0887"
             ],
             [
              0.1111111111111111,
              "#46039f"
             ],
             [
              0.2222222222222222,
              "#7201a8"
             ],
             [
              0.3333333333333333,
              "#9c179e"
             ],
             [
              0.4444444444444444,
              "#bd3786"
             ],
             [
              0.5555555555555556,
              "#d8576b"
             ],
             [
              0.6666666666666666,
              "#ed7953"
             ],
             [
              0.7777777777777778,
              "#fb9f3a"
             ],
             [
              0.8888888888888888,
              "#fdca26"
             ],
             [
              1,
              "#f0f921"
             ]
            ],
            "type": "surface"
           }
          ],
          "table": [
           {
            "cells": {
             "fill": {
              "color": "#EBF0F8"
             },
             "line": {
              "color": "white"
             }
            },
            "header": {
             "fill": {
              "color": "#C8D4E3"
             },
             "line": {
              "color": "white"
             }
            },
            "type": "table"
           }
          ]
         },
         "layout": {
          "annotationdefaults": {
           "arrowcolor": "#2a3f5f",
           "arrowhead": 0,
           "arrowwidth": 1
          },
          "autotypenumbers": "strict",
          "coloraxis": {
           "colorbar": {
            "outlinewidth": 0,
            "ticks": ""
           }
          },
          "colorscale": {
           "diverging": [
            [
             0,
             "#8e0152"
            ],
            [
             0.1,
             "#c51b7d"
            ],
            [
             0.2,
             "#de77ae"
            ],
            [
             0.3,
             "#f1b6da"
            ],
            [
             0.4,
             "#fde0ef"
            ],
            [
             0.5,
             "#f7f7f7"
            ],
            [
             0.6,
             "#e6f5d0"
            ],
            [
             0.7,
             "#b8e186"
            ],
            [
             0.8,
             "#7fbc41"
            ],
            [
             0.9,
             "#4d9221"
            ],
            [
             1,
             "#276419"
            ]
           ],
           "sequential": [
            [
             0,
             "#0d0887"
            ],
            [
             0.1111111111111111,
             "#46039f"
            ],
            [
             0.2222222222222222,
             "#7201a8"
            ],
            [
             0.3333333333333333,
             "#9c179e"
            ],
            [
             0.4444444444444444,
             "#bd3786"
            ],
            [
             0.5555555555555556,
             "#d8576b"
            ],
            [
             0.6666666666666666,
             "#ed7953"
            ],
            [
             0.7777777777777778,
             "#fb9f3a"
            ],
            [
             0.8888888888888888,
             "#fdca26"
            ],
            [
             1,
             "#f0f921"
            ]
           ],
           "sequentialminus": [
            [
             0,
             "#0d0887"
            ],
            [
             0.1111111111111111,
             "#46039f"
            ],
            [
             0.2222222222222222,
             "#7201a8"
            ],
            [
             0.3333333333333333,
             "#9c179e"
            ],
            [
             0.4444444444444444,
             "#bd3786"
            ],
            [
             0.5555555555555556,
             "#d8576b"
            ],
            [
             0.6666666666666666,
             "#ed7953"
            ],
            [
             0.7777777777777778,
             "#fb9f3a"
            ],
            [
             0.8888888888888888,
             "#fdca26"
            ],
            [
             1,
             "#f0f921"
            ]
           ]
          },
          "colorway": [
           "#636efa",
           "#EF553B",
           "#00cc96",
           "#ab63fa",
           "#FFA15A",
           "#19d3f3",
           "#FF6692",
           "#B6E880",
           "#FF97FF",
           "#FECB52"
          ],
          "font": {
           "color": "#2a3f5f"
          },
          "geo": {
           "bgcolor": "white",
           "lakecolor": "white",
           "landcolor": "white",
           "showlakes": true,
           "showland": true,
           "subunitcolor": "#C8D4E3"
          },
          "hoverlabel": {
           "align": "left"
          },
          "hovermode": "closest",
          "mapbox": {
           "style": "light"
          },
          "paper_bgcolor": "white",
          "plot_bgcolor": "white",
          "polar": {
           "angularaxis": {
            "gridcolor": "#EBF0F8",
            "linecolor": "#EBF0F8",
            "ticks": ""
           },
           "bgcolor": "white",
           "radialaxis": {
            "gridcolor": "#EBF0F8",
            "linecolor": "#EBF0F8",
            "ticks": ""
           }
          },
          "scene": {
           "xaxis": {
            "backgroundcolor": "white",
            "gridcolor": "#DFE8F3",
            "gridwidth": 2,
            "linecolor": "#EBF0F8",
            "showbackground": true,
            "ticks": "",
            "zerolinecolor": "#EBF0F8"
           },
           "yaxis": {
            "backgroundcolor": "white",
            "gridcolor": "#DFE8F3",
            "gridwidth": 2,
            "linecolor": "#EBF0F8",
            "showbackground": true,
            "ticks": "",
            "zerolinecolor": "#EBF0F8"
           },
           "zaxis": {
            "backgroundcolor": "white",
            "gridcolor": "#DFE8F3",
            "gridwidth": 2,
            "linecolor": "#EBF0F8",
            "showbackground": true,
            "ticks": "",
            "zerolinecolor": "#EBF0F8"
           }
          },
          "shapedefaults": {
           "line": {
            "color": "#2a3f5f"
           }
          },
          "ternary": {
           "aaxis": {
            "gridcolor": "#DFE8F3",
            "linecolor": "#A2B1C6",
            "ticks": ""
           },
           "baxis": {
            "gridcolor": "#DFE8F3",
            "linecolor": "#A2B1C6",
            "ticks": ""
           },
           "bgcolor": "white",
           "caxis": {
            "gridcolor": "#DFE8F3",
            "linecolor": "#A2B1C6",
            "ticks": ""
           }
          },
          "title": {
           "x": 0.05
          },
          "xaxis": {
           "automargin": true,
           "gridcolor": "#EBF0F8",
           "linecolor": "#EBF0F8",
           "ticks": "",
           "title": {
            "standoff": 15
           },
           "zerolinecolor": "#EBF0F8",
           "zerolinewidth": 2
          },
          "yaxis": {
           "automargin": true,
           "gridcolor": "#EBF0F8",
           "linecolor": "#EBF0F8",
           "ticks": "",
           "title": {
            "standoff": 15
           },
           "zerolinecolor": "#EBF0F8",
           "zerolinewidth": 2
          }
         }
        },
        "title": {
         "font": {
          "size": 25
         },
         "text": "Fairness Check",
         "x": 0.5,
         "y": 0.99
        },
        "xaxis": {
         "anchor": "y",
         "domain": [
          0,
          1
         ],
         "range": [
          -0.516445623342175,
          0.3
         ],
         "ticktext": [
          0.4,
          0.5,
          0.6,
          0.7,
          0.8,
          0.9,
          1,
          1.1,
          1.2,
          1
         ],
         "tickvals": [
          -0.6,
          -0.5,
          -0.4,
          -0.30000000000000004,
          -0.19999999999999996,
          -0.09999999999999998,
          0,
          0.10000000000000009,
          0.19999999999999996,
          0
         ],
         "title": {
          "text": "score"
         },
         "type": "linear"
        },
        "xaxis2": {
         "anchor": "y2",
         "domain": [
          0,
          1
         ],
         "matches": "x",
         "range": [
          -0.516445623342175,
          0.3
         ],
         "showticklabels": false,
         "ticktext": [
          0.4,
          0.5,
          0.6,
          0.7,
          0.8,
          0.9,
          1,
          1.1,
          1.2,
          1
         ],
         "tickvals": [
          -0.6,
          -0.5,
          -0.4,
          -0.30000000000000004,
          -0.19999999999999996,
          -0.09999999999999998,
          0,
          0.10000000000000009,
          0.19999999999999996,
          0
         ],
         "type": "linear"
        },
        "xaxis3": {
         "anchor": "y3",
         "domain": [
          0,
          1
         ],
         "matches": "x",
         "range": [
          -0.516445623342175,
          0.3
         ],
         "showticklabels": false,
         "ticktext": [
          0.4,
          0.5,
          0.6,
          0.7,
          0.8,
          0.9,
          1,
          1.1,
          1.2,
          1
         ],
         "tickvals": [
          -0.6,
          -0.5,
          -0.4,
          -0.30000000000000004,
          -0.19999999999999996,
          -0.09999999999999998,
          0,
          0.10000000000000009,
          0.19999999999999996,
          0
         ],
         "type": "linear"
        },
        "xaxis4": {
         "anchor": "y4",
         "domain": [
          0,
          1
         ],
         "matches": "x",
         "range": [
          -0.516445623342175,
          0.3
         ],
         "showticklabels": false,
         "ticktext": [
          0.4,
          0.5,
          0.6,
          0.7,
          0.8,
          0.9,
          1,
          1.1,
          1.2,
          1
         ],
         "tickvals": [
          -0.6,
          -0.5,
          -0.4,
          -0.30000000000000004,
          -0.19999999999999996,
          -0.09999999999999998,
          0,
          0.10000000000000009,
          0.19999999999999996,
          0
         ],
         "type": "linear"
        },
        "xaxis5": {
         "anchor": "y5",
         "domain": [
          0,
          1
         ],
         "matches": "x",
         "range": [
          -0.516445623342175,
          0.3
         ],
         "showticklabels": false,
         "ticktext": [
          0.4,
          0.5,
          0.6,
          0.7,
          0.8,
          0.9,
          1,
          1.1,
          1.2,
          1
         ],
         "tickvals": [
          -0.6,
          -0.5,
          -0.4,
          -0.30000000000000004,
          -0.19999999999999996,
          -0.09999999999999998,
          0,
          0.10000000000000009,
          0.19999999999999996,
          0
         ],
         "type": "linear"
        },
        "yaxis": {
         "anchor": "x",
         "domain": [
          0,
          0.144
         ],
         "range": [
          0,
          1
         ],
         "showgrid": false,
         "ticktext": [
          "female_old",
          "female_young",
          "male_young"
         ],
         "tickvals": [
          0.25,
          0.5,
          0.75
         ],
         "title": {
          "text": ""
         },
         "type": "linear",
         "zeroline": false
        },
        "yaxis2": {
         "anchor": "x2",
         "domain": [
          0.214,
          0.358
         ],
         "matches": "y",
         "range": [
          0,
          1
         ],
         "showgrid": false,
         "ticktext": [
          "female_old",
          "female_young",
          "male_young"
         ],
         "tickvals": [
          0.25,
          0.5,
          0.75
         ],
         "title": {
          "text": ""
         },
         "type": "linear",
         "zeroline": false
        },
        "yaxis3": {
         "anchor": "x3",
         "domain": [
          0.428,
          0.572
         ],
         "matches": "y",
         "range": [
          0,
          1
         ],
         "showgrid": false,
         "ticktext": [
          "female_old",
          "female_young",
          "male_young"
         ],
         "tickvals": [
          0.25,
          0.5,
          0.75
         ],
         "title": {
          "text": "subgroup"
         },
         "type": "linear",
         "zeroline": false
        },
        "yaxis4": {
         "anchor": "x4",
         "domain": [
          0.6419999999999999,
          0.7859999999999999
         ],
         "matches": "y",
         "range": [
          0,
          1
         ],
         "showgrid": false,
         "ticktext": [
          "female_old",
          "female_young",
          "male_young"
         ],
         "tickvals": [
          0.25,
          0.5,
          0.75
         ],
         "title": {
          "text": ""
         },
         "type": "linear",
         "zeroline": false
        },
        "yaxis5": {
         "anchor": "x5",
         "domain": [
          0.856,
          1
         ],
         "matches": "y",
         "range": [
          0,
          1
         ],
         "showgrid": false,
         "ticktext": [
          "female_old",
          "female_young",
          "male_young"
         ],
         "tickvals": [
          0.25,
          0.5,
          0.75
         ],
         "title": {
          "text": ""
         },
         "type": "linear",
         "zeroline": false
        }
       }
      },
      "image/png": "[encoded data removed]",
      "text/html": [
       "<div>                            <div id=\"af2bcd2b-b7b7-4e71-bb18-22e3d1e17134\" class=\"plotly-graph-div\" style=\"height:525px; width:100%;\"></div>            <script type=\"text/javascript\">                require([\"plotly\"], function(Plotly) {                    window.PLOTLYENV=window.PLOTLYENV || {};                                    if (document.getElementById(\"af2bcd2b-b7b7-4e71-bb18-22e3d1e17134\")) {                    Plotly.newPlot(                        \"af2bcd2b-b7b7-4e71-bb18-22e3d1e17134\",                        [{\"alignmentgroup\":\"True\",\"customdata\":[[\"female_old\",1.001,\"LogisticRegression\"],[\"female_young\",0.843,\"LogisticRegression\"],[\"male_young\",0.775,\"LogisticRegression\"]],\"hovertemplate\":\"<b>%{customdata[2]}</b><br>Subgroup: %{customdata[0]}<br>Score: %{customdata[1]}<br><extra></extra>\",\"legendgroup\":\"LogisticRegression\",\"marker\":{\"color\":\"#46bac2\",\"pattern\":{\"shape\":\"\"}},\"name\":\"LogisticRegression\",\"offsetgroup\":\"LogisticRegression\",\"orientation\":\"h\",\"showlegend\":true,\"textposition\":\"auto\",\"type\":\"bar\",\"x\":[0.0010729613733906351,-0.15665236051502152,-0.22532188841201728],\"xaxis\":\"x5\",\"y\":[0.25,0.5,0.75],\"yaxis\":\"y5\"},{\"alignmentgroup\":\"True\",\"customdata\":[[\"female_old\",1.112,\"LogisticRegression\"],[\"female_young\",0.873,\"LogisticRegression\"],[\"male_young\",1.17,\"LogisticRegression\"]],\"hovertemplate\":\"<b>%{customdata[2]}</b><br>Subgroup: %{customdata[0]}<br>Score: %{customdata[1]}<br><extra></extra>\",\"legendgroup\":\"LogisticRegression\",\"marker\":{\"color\":\"#46bac2\",\"pattern\":{\"shape\":\"\"}},\"name\":\"LogisticRegression\",\"offsetgroup\":\"LogisticRegression\",\"orientation\":\"h\",\"showlegend\":false,\"textposition\":\"auto\",\"type\":\"bar\",\"x\":[0.1120107962213226,-0.12685560053981104,0.17004048582995956],\"xaxis\":\"x4\",\"y\":[0.25,0.5,0.75],\"yaxis\":\"y4\"},{\"alignmentgroup\":\"True\",\"customdata\":[[\"female_old\",0.853,\"LogisticRegression\"],[\"female_young\",0.531,\"LogisticRegression\"],[\"male_young\",0.531,\"LogisticRegression\"]],\"hovertemplate\":\"<b>%{customdata[2]}</b><br>Subgroup: %{customdata[0]}<br>Score: %{customdata[1]}<br><extra></extra>\",\"legendgroup\":\"LogisticRegression\",\"marker\":{\"color\":\"#46bac2\",\"pattern\":{\"shape\":\"\"}},\"name\":\"LogisticRegression\",\"offsetgroup\":\"LogisticRegression\",\"orientation\":\"h\",\"showlegend\":false,\"textposition\":\"auto\",\"type\":\"bar\",\"x\":[-0.14721485411140578,-0.4694960212201591,-0.4694960212201591],\"xaxis\":\"x3\",\"y\":[0.25,0.5,0.75],\"yaxis\":\"y3\"},{\"alignmentgroup\":\"True\",\"customdata\":[[\"female_old\",1.099,\"LogisticRegression\"],[\"female_young\",0.952,\"LogisticRegression\"],[\"male_young\",0.96,\"LogisticRegression\"]],\"hovertemplate\":\"<b>%{customdata[2]}</b><br>Subgroup: %{customdata[0]}<br>Score: %{customdata[1]}<br><extra></extra>\",\"legendgroup\":\"LogisticRegression\",\"marker\":{\"color\":\"#46bac2\",\"pattern\":{\"shape\":\"\"}},\"name\":\"LogisticRegression\",\"offsetgroup\":\"LogisticRegression\",\"orientation\":\"h\",\"showlegend\":false,\"textposition\":\"auto\",\"type\":\"bar\",\"x\":[0.09931034482758627,-0.048275862068965614,-0.040000000000000036],\"xaxis\":\"x2\",\"y\":[0.25,0.5,0.75],\"yaxis\":\"y2\"},{\"alignmentgroup\":\"True\",\"customdata\":[[\"female_old\",0.984,\"LogisticRegression\"],[\"female_young\",0.667,\"LogisticRegression\"],[\"male_young\",0.743,\"LogisticRegression\"]],\"hovertemplate\":\"<b>%{customdata[2]}</b><br>Subgroup: %{customdata[0]}<br>Score: %{customdata[1]}<br><extra></extra>\",\"legendgroup\":\"LogisticRegression\",\"marker\":{\"color\":\"#46bac2\",\"pattern\":{\"shape\":\"\"}},\"name\":\"LogisticRegression\",\"offsetgroup\":\"LogisticRegression\",\"orientation\":\"h\",\"showlegend\":false,\"textposition\":\"auto\",\"type\":\"bar\",\"x\":[-0.015945330296127547,-0.3325740318906606,-0.2574031890660592],\"xaxis\":\"x\",\"y\":[0.25,0.5,0.75],\"yaxis\":\"y\"}],                        {\"annotations\":[{\"font\":{\"size\":15},\"showarrow\":false,\"text\":\"Statistical parity ratio   (TP + FP)/(TP + FP + TN + FN)\",\"x\":0.05,\"xanchor\":\"left\",\"xref\":\"paper\",\"y\":0.144,\"yanchor\":\"bottom\",\"yref\":\"paper\"},{\"font\":{\"size\":15},\"showarrow\":false,\"text\":\"Accuracy equality ratio    (TP + TN)/(TP + FP + TN + FN)\",\"x\":0.05,\"xanchor\":\"left\",\"xref\":\"paper\",\"y\":0.358,\"yanchor\":\"bottom\",\"yref\":\"paper\"},{\"font\":{\"size\":15},\"showarrow\":false,\"text\":\"Predictive equality ratio   FP/(FP + TN)\",\"x\":0.05,\"xanchor\":\"left\",\"xref\":\"paper\",\"y\":0.572,\"yanchor\":\"bottom\",\"yref\":\"paper\"},{\"font\":{\"size\":15},\"showarrow\":false,\"text\":\"Predictive parity ratio     TP/(TP + FP)\",\"x\":0.05,\"xanchor\":\"left\",\"xref\":\"paper\",\"y\":0.7859999999999999,\"yanchor\":\"bottom\",\"yref\":\"paper\"},{\"font\":{\"size\":15},\"showarrow\":false,\"text\":\"Equal opportunity ratio     TP/(TP + FN)\",\"x\":0.05,\"xanchor\":\"left\",\"xref\":\"paper\",\"y\":1.0,\"yanchor\":\"bottom\",\"yref\":\"paper\"}],\"barmode\":\"group\",\"font\":{\"color\":\"#371ea3\"},\"legend\":{\"title\":{\"text\":\"label\"},\"tracegroupgap\":0},\"margin\":{\"b\":71,\"r\":30,\"t\":78},\"shapes\":[{\"fillcolor\":\"#f05a71\",\"layer\":\"below\",\"line\":{\"width\":0},\"opacity\":0.1,\"type\":\"rect\",\"x0\":0.25,\"x1\":0.3,\"xref\":\"x\",\"y0\":0,\"y1\":1,\"yref\":\"y\"},{\"fillcolor\":\"#f05a71\",\"layer\":\"below\",\"line\":{\"width\":0},\"opacity\":0.1,\"type\":\"rect\",\"x0\":-0.516445623342175,\"x1\":-0.19999999999999996,\"xref\":\"x\",\"y0\":0,\"y1\":1,\"yref\":\"y\"},{\"fillcolor\":\"#c7f5bf\",\"layer\":\"below\",\"line\":{\"width\":0},\"opacity\":0.1,\"type\":\"rect\",\"x0\":-0.19999999999999996,\"x1\":0.25,\"xref\":\"x\",\"y0\":0,\"y1\":1,\"yref\":\"y\"},{\"line\":{\"color\":\"#371ea3\",\"width\":1.5},\"type\":\"line\",\"x0\":0,\"x1\":0,\"xref\":\"x\",\"y0\":0,\"y1\":1,\"yref\":\"y\"},{\"fillcolor\":\"#f05a71\",\"layer\":\"below\",\"line\":{\"width\":0},\"opacity\":0.1,\"type\":\"rect\",\"x0\":0.25,\"x1\":0.3,\"xref\":\"x\",\"y0\":0,\"y1\":1,\"yref\":\"y2\"},{\"fillcolor\":\"#f05a71\",\"layer\":\"below\",\"line\":{\"width\":0},\"opacity\":0.1,\"type\":\"rect\",\"x0\":-0.516445623342175,\"x1\":-0.19999999999999996,\"xref\":\"x\",\"y0\":0,\"y1\":1,\"yref\":\"y2\"},{\"fillcolor\":\"#c7f5bf\",\"layer\":\"below\",\"line\":{\"width\":0},\"opacity\":0.1,\"type\":\"rect\",\"x0\":-0.19999999999999996,\"x1\":0.25,\"xref\":\"x\",\"y0\":0,\"y1\":1,\"yref\":\"y2\"},{\"line\":{\"color\":\"#371ea3\",\"width\":1.5},\"type\":\"line\",\"x0\":0,\"x1\":0,\"xref\":\"x\",\"y0\":0,\"y1\":1,\"yref\":\"y2\"},{\"fillcolor\":\"#f05a71\",\"layer\":\"below\",\"line\":{\"width\":0},\"opacity\":0.1,\"type\":\"rect\",\"x0\":0.25,\"x1\":0.3,\"xref\":\"x\",\"y0\":0,\"y1\":1,\"yref\":\"y3\"},{\"fillcolor\":\"#f05a71\",\"layer\":\"below\",\"line\":{\"width\":0},\"opacity\":0.1,\"type\":\"rect\",\"x0\":-0.516445623342175,\"x1\":-0.19999999999999996,\"xref\":\"x\",\"y0\":0,\"y1\":1,\"yref\":\"y3\"},{\"fillcolor\":\"#c7f5bf\",\"layer\":\"below\",\"line\":{\"width\":0},\"opacity\":0.1,\"type\":\"rect\",\"x0\":-0.19999999999999996,\"x1\":0.25,\"xref\":\"x\",\"y0\":0,\"y1\":1,\"yref\":\"y3\"},{\"line\":{\"color\":\"#371ea3\",\"width\":1.5},\"type\":\"line\",\"x0\":0,\"x1\":0,\"xref\":\"x\",\"y0\":0,\"y1\":1,\"yref\":\"y3\"},{\"fillcolor\":\"#f05a71\",\"layer\":\"below\",\"line\":{\"width\":0},\"opacity\":0.1,\"type\":\"rect\",\"x0\":0.25,\"x1\":0.3,\"xref\":\"x\",\"y0\":0,\"y1\":1,\"yref\":\"y4\"},{\"fillcolor\":\"#f05a71\",\"layer\":\"below\",\"line\":{\"width\":0},\"opacity\":0.1,\"type\":\"rect\",\"x0\":-0.516445623342175,\"x1\":-0.19999999999999996,\"xref\":\"x\",\"y0\":0,\"y1\":1,\"yref\":\"y4\"},{\"fillcolor\":\"#c7f5bf\",\"layer\":\"below\",\"line\":{\"width\":0},\"opacity\":0.1,\"type\":\"rect\",\"x0\":-0.19999999999999996,\"x1\":0.25,\"xref\":\"x\",\"y0\":0,\"y1\":1,\"yref\":\"y4\"},{\"line\":{\"color\":\"#371ea3\",\"width\":1.5},\"type\":\"line\",\"x0\":0,\"x1\":0,\"xref\":\"x\",\"y0\":0,\"y1\":1,\"yref\":\"y4\"},{\"fillcolor\":\"#f05a71\",\"layer\":\"below\",\"line\":{\"width\":0},\"opacity\":0.1,\"type\":\"rect\",\"x0\":0.25,\"x1\":0.3,\"xref\":\"x\",\"y0\":0,\"y1\":1,\"yref\":\"y5\"},{\"fillcolor\":\"#f05a71\",\"layer\":\"below\",\"line\":{\"width\":0},\"opacity\":0.1,\"type\":\"rect\",\"x0\":-0.516445623342175,\"x1\":-0.19999999999999996,\"xref\":\"x\",\"y0\":0,\"y1\":1,\"yref\":\"y5\"},{\"fillcolor\":\"#c7f5bf\",\"layer\":\"below\",\"line\":{\"width\":0},\"opacity\":0.1,\"type\":\"rect\",\"x0\":-0.19999999999999996,\"x1\":0.25,\"xref\":\"x\",\"y0\":0,\"y1\":1,\"yref\":\"y5\"},{\"line\":{\"color\":\"#371ea3\",\"width\":1.5},\"type\":\"line\",\"x0\":0,\"x1\":0,\"xref\":\"x\",\"y0\":0,\"y1\":1,\"yref\":\"y5\"}],\"template\":{\"data\":{\"bar\":[{\"error_x\":{\"color\":\"#2a3f5f\"},\"error_y\":{\"color\":\"#2a3f5f\"},\"marker\":{\"line\":{\"color\":\"white\",\"width\":0.5},\"pattern\":{\"fillmode\":\"overlay\",\"size\":10,\"solidity\":0.2}},\"type\":\"bar\"}],\"barpolar\":[{\"marker\":{\"line\":{\"color\":\"white\",\"width\":0.5},\"pattern\":{\"fillmode\":\"overlay\",\"size\":10,\"solidity\":0.2}},\"type\":\"barpolar\"}],\"carpet\":[{\"aaxis\":{\"endlinecolor\":\"#2a3f5f\",\"gridcolor\":\"#C8D4E3\",\"linecolor\":\"#C8D4E3\",\"minorgridcolor\":\"#C8D4E3\",\"startlinecolor\":\"#2a3f5f\"},\"baxis\":{\"endlinecolor\":\"#2a3f5f\",\"gridcolor\":\"#C8D4E3\",\"linecolor\":\"#C8D4E3\",\"minorgridcolor\":\"#C8D4E3\",\"startlinecolor\":\"#2a3f5f\"},\"type\":\"carpet\"}],\"choropleth\":[{\"colorbar\":{\"outlinewidth\":0,\"ticks\":\"\"},\"type\":\"choropleth\"}],\"contour\":[{\"colorbar\":{\"outlinewidth\":0,\"ticks\":\"\"},\"colorscale\":[[0.0,\"#0d0887\"],[0.1111111111111111,\"#46039f\"],[0.2222222222222222,\"#7201a8\"],[0.3333333333333333,\"#9c179e\"],[0.4444444444444444,\"#bd3786\"],[0.5555555555555556,\"#d8576b\"],[0.6666666666666666,\"#ed7953\"],[0.7777777777777778,\"#fb9f3a\"],[0.8888888888888888,\"#fdca26\"],[1.0,\"#f0f921\"]],\"type\":\"contour\"}],\"contourcarpet\":[{\"colorbar\":{\"outlinewidth\":0,\"ticks\":\"\"},\"type\":\"contourcarpet\"}],\"heatmap\":[{\"colorbar\":{\"outlinewidth\":0,\"ticks\":\"\"},\"colorscale\":[[0.0,\"#0d0887\"],[0.1111111111111111,\"#46039f\"],[0.2222222222222222,\"#7201a8\"],[0.3333333333333333,\"#9c179e\"],[0.4444444444444444,\"#bd3786\"],[0.5555555555555556,\"#d8576b\"],[0.6666666666666666,\"#ed7953\"],[0.7777777777777778,\"#fb9f3a\"],[0.8888888888888888,\"#fdca26\"],[1.0,\"#f0f921\"]],\"type\":\"heatmap\"}],\"heatmapgl\":[{\"colorbar\":{\"outlinewidth\":0,\"ticks\":\"\"},\"colorscale\":[[0.0,\"#0d0887\"],[0.1111111111111111,\"#46039f\"],[0.2222222222222222,\"#7201a8\"],[0.3333333333333333,\"#9c179e\"],[0.4444444444444444,\"#bd3786\"],[0.5555555555555556,\"#d8576b\"],[0.6666666666666666,\"#ed7953\"],[0.7777777777777778,\"#fb9f3a\"],[0.8888888888888888,\"#fdca26\"],[1.0,\"#f0f921\"]],\"type\":\"heatmapgl\"}],\"histogram\":[{\"marker\":{\"pattern\":{\"fillmode\":\"overlay\",\"size\":10,\"solidity\":0.2}},\"type\":\"histogram\"}],\"histogram2d\":[{\"colorbar\":{\"outlinewidth\":0,\"ticks\":\"\"},\"colorscale\":[[0.0,\"#0d0887\"],[0.1111111111111111,\"#46039f\"],[0.2222222222222222,\"#7201a8\"],[0.3333333333333333,\"#9c179e\"],[0.4444444444444444,\"#bd3786\"],[0.5555555555555556,\"#d8576b\"],[0.6666666666666666,\"#ed7953\"],[0.7777777777777778,\"#fb9f3a\"],[0.8888888888888888,\"#fdca26\"],[1.0,\"#f0f921\"]],\"type\":\"histogram2d\"}],\"histogram2dcontour\":[{\"colorbar\":{\"outlinewidth\":0,\"ticks\":\"\"},\"colorscale\":[[0.0,\"#0d0887\"],[0.1111111111111111,\"#46039f\"],[0.2222222222222222,\"#7201a8\"],[0.3333333333333333,\"#9c179e\"],[0.4444444444444444,\"#bd3786\"],[0.5555555555555556,\"#d8576b\"],[0.6666666666666666,\"#ed7953\"],[0.7777777777777778,\"#fb9f3a\"],[0.8888888888888888,\"#fdca26\"],[1.0,\"#f0f921\"]],\"type\":\"histogram2dcontour\"}],\"mesh3d\":[{\"colorbar\":{\"outlinewidth\":0,\"ticks\":\"\"},\"type\":\"mesh3d\"}],\"parcoords\":[{\"line\":{\"colorbar\":{\"outlinewidth\":0,\"ticks\":\"\"}},\"type\":\"parcoords\"}],\"pie\":[{\"automargin\":true,\"type\":\"pie\"}],\"scatter\":[{\"marker\":{\"colorbar\":{\"outlinewidth\":0,\"ticks\":\"\"}},\"type\":\"scatter\"}],\"scatter3d\":[{\"line\":{\"colorbar\":{\"outlinewidth\":0,\"ticks\":\"\"}},\"marker\":{\"colorbar\":{\"outlinewidth\":0,\"ticks\":\"\"}},\"type\":\"scatter3d\"}],\"scattercarpet\":[{\"marker\":{\"colorbar\":{\"outlinewidth\":0,\"ticks\":\"\"}},\"type\":\"scattercarpet\"}],\"scattergeo\":[{\"marker\":{\"colorbar\":{\"outlinewidth\":0,\"ticks\":\"\"}},\"type\":\"scattergeo\"}],\"scattergl\":[{\"marker\":{\"colorbar\":{\"outlinewidth\":0,\"ticks\":\"\"}},\"type\":\"scattergl\"}],\"scattermapbox\":[{\"marker\":{\"colorbar\":{\"outlinewidth\":0,\"ticks\":\"\"}},\"type\":\"scattermapbox\"}],\"scatterpolar\":[{\"marker\":{\"colorbar\":{\"outlinewidth\":0,\"ticks\":\"\"}},\"type\":\"scatterpolar\"}],\"scatterpolargl\":[{\"marker\":{\"colorbar\":{\"outlinewidth\":0,\"ticks\":\"\"}},\"type\":\"scatterpolargl\"}],\"scatterternary\":[{\"marker\":{\"colorbar\":{\"outlinewidth\":0,\"ticks\":\"\"}},\"type\":\"scatterternary\"}],\"surface\":[{\"colorbar\":{\"outlinewidth\":0,\"ticks\":\"\"},\"colorscale\":[[0.0,\"#0d0887\"],[0.1111111111111111,\"#46039f\"],[0.2222222222222222,\"#7201a8\"],[0.3333333333333333,\"#9c179e\"],[0.4444444444444444,\"#bd3786\"],[0.5555555555555556,\"#d8576b\"],[0.6666666666666666,\"#ed7953\"],[0.7777777777777778,\"#fb9f3a\"],[0.8888888888888888,\"#fdca26\"],[1.0,\"#f0f921\"]],\"type\":\"surface\"}],\"table\":[{\"cells\":{\"fill\":{\"color\":\"#EBF0F8\"},\"line\":{\"color\":\"white\"}},\"header\":{\"fill\":{\"color\":\"#C8D4E3\"},\"line\":{\"color\":\"white\"}},\"type\":\"table\"}]},\"layout\":{\"annotationdefaults\":{\"arrowcolor\":\"#2a3f5f\",\"arrowhead\":0,\"arrowwidth\":1},\"autotypenumbers\":\"strict\",\"coloraxis\":{\"colorbar\":{\"outlinewidth\":0,\"ticks\":\"\"}},\"colorscale\":{\"diverging\":[[0,\"#8e0152\"],[0.1,\"#c51b7d\"],[0.2,\"#de77ae\"],[0.3,\"#f1b6da\"],[0.4,\"#fde0ef\"],[0.5,\"#f7f7f7\"],[0.6,\"#e6f5d0\"],[0.7,\"#b8e186\"],[0.8,\"#7fbc41\"],[0.9,\"#4d9221\"],[1,\"#276419\"]],\"sequential\":[[0.0,\"#0d0887\"],[0.1111111111111111,\"#46039f\"],[0.2222222222222222,\"#7201a8\"],[0.3333333333333333,\"#9c179e\"],[0.4444444444444444,\"#bd3786\"],[0.5555555555555556,\"#d8576b\"],[0.6666666666666666,\"#ed7953\"],[0.7777777777777778,\"#fb9f3a\"],[0.8888888888888888,\"#fdca26\"],[1.0,\"#f0f921\"]],\"sequentialminus\":[[0.0,\"#0d0887\"],[0.1111111111111111,\"#46039f\"],[0.2222222222222222,\"#7201a8\"],[0.3333333333333333,\"#9c179e\"],[0.4444444444444444,\"#bd3786\"],[0.5555555555555556,\"#d8576b\"],[0.6666666666666666,\"#ed7953\"],[0.7777777777777778,\"#fb9f3a\"],[0.8888888888888888,\"#fdca26\"],[1.0,\"#f0f921\"]]},\"colorway\":[\"#636efa\",\"#EF553B\",\"#00cc96\",\"#ab63fa\",\"#FFA15A\",\"#19d3f3\",\"#FF6692\",\"#B6E880\",\"#FF97FF\",\"#FECB52\"],\"font\":{\"color\":\"#2a3f5f\"},\"geo\":{\"bgcolor\":\"white\",\"lakecolor\":\"white\",\"landcolor\":\"white\",\"showlakes\":true,\"showland\":true,\"subunitcolor\":\"#C8D4E3\"},\"hoverlabel\":{\"align\":\"left\"},\"hovermode\":\"closest\",\"mapbox\":{\"style\":\"light\"},\"paper_bgcolor\":\"white\",\"plot_bgcolor\":\"white\",\"polar\":{\"angularaxis\":{\"gridcolor\":\"#EBF0F8\",\"linecolor\":\"#EBF0F8\",\"ticks\":\"\"},\"bgcolor\":\"white\",\"radialaxis\":{\"gridcolor\":\"#EBF0F8\",\"linecolor\":\"#EBF0F8\",\"ticks\":\"\"}},\"scene\":{\"xaxis\":{\"backgroundcolor\":\"white\",\"gridcolor\":\"#DFE8F3\",\"gridwidth\":2,\"linecolor\":\"#EBF0F8\",\"showbackground\":true,\"ticks\":\"\",\"zerolinecolor\":\"#EBF0F8\"},\"yaxis\":{\"backgroundcolor\":\"white\",\"gridcolor\":\"#DFE8F3\",\"gridwidth\":2,\"linecolor\":\"#EBF0F8\",\"showbackground\":true,\"ticks\":\"\",\"zerolinecolor\":\"#EBF0F8\"},\"zaxis\":{\"backgroundcolor\":\"white\",\"gridcolor\":\"#DFE8F3\",\"gridwidth\":2,\"linecolor\":\"#EBF0F8\",\"showbackground\":true,\"ticks\":\"\",\"zerolinecolor\":\"#EBF0F8\"}},\"shapedefaults\":{\"line\":{\"color\":\"#2a3f5f\"}},\"ternary\":{\"aaxis\":{\"gridcolor\":\"#DFE8F3\",\"linecolor\":\"#A2B1C6\",\"ticks\":\"\"},\"baxis\":{\"gridcolor\":\"#DFE8F3\",\"linecolor\":\"#A2B1C6\",\"ticks\":\"\"},\"bgcolor\":\"white\",\"caxis\":{\"gridcolor\":\"#DFE8F3\",\"linecolor\":\"#A2B1C6\",\"ticks\":\"\"}},\"title\":{\"x\":0.05},\"xaxis\":{\"automargin\":true,\"gridcolor\":\"#EBF0F8\",\"linecolor\":\"#EBF0F8\",\"ticks\":\"\",\"title\":{\"standoff\":15},\"zerolinecolor\":\"#EBF0F8\",\"zerolinewidth\":2},\"yaxis\":{\"automargin\":true,\"gridcolor\":\"#EBF0F8\",\"linecolor\":\"#EBF0F8\",\"ticks\":\"\",\"title\":{\"standoff\":15},\"zerolinecolor\":\"#EBF0F8\",\"zerolinewidth\":2}}},\"title\":{\"font\":{\"size\":25},\"text\":\"Fairness Check\",\"x\":0.5,\"y\":0.99},\"xaxis\":{\"anchor\":\"y\",\"domain\":[0.0,1.0],\"range\":[-0.516445623342175,0.3],\"ticktext\":[0.4,0.5,0.6,0.7,0.8,0.9,1.0,1.1,1.2,1.0],\"tickvals\":[-0.6,-0.5,-0.4,-0.30000000000000004,-0.19999999999999996,-0.09999999999999998,0.0,0.10000000000000009,0.19999999999999996,0.0],\"title\":{\"text\":\"score\"}},\"xaxis2\":{\"anchor\":\"y2\",\"domain\":[0.0,1.0],\"matches\":\"x\",\"range\":[-0.516445623342175,0.3],\"showticklabels\":false,\"ticktext\":[0.4,0.5,0.6,0.7,0.8,0.9,1.0,1.1,1.2,1.0],\"tickvals\":[-0.6,-0.5,-0.4,-0.30000000000000004,-0.19999999999999996,-0.09999999999999998,0.0,0.10000000000000009,0.19999999999999996,0.0]},\"xaxis3\":{\"anchor\":\"y3\",\"domain\":[0.0,1.0],\"matches\":\"x\",\"range\":[-0.516445623342175,0.3],\"showticklabels\":false,\"ticktext\":[0.4,0.5,0.6,0.7,0.8,0.9,1.0,1.1,1.2,1.0],\"tickvals\":[-0.6,-0.5,-0.4,-0.30000000000000004,-0.19999999999999996,-0.09999999999999998,0.0,0.10000000000000009,0.19999999999999996,0.0]},\"xaxis4\":{\"anchor\":\"y4\",\"domain\":[0.0,1.0],\"matches\":\"x\",\"range\":[-0.516445623342175,0.3],\"showticklabels\":false,\"ticktext\":[0.4,0.5,0.6,0.7,0.8,0.9,1.0,1.1,1.2,1.0],\"tickvals\":[-0.6,-0.5,-0.4,-0.30000000000000004,-0.19999999999999996,-0.09999999999999998,0.0,0.10000000000000009,0.19999999999999996,0.0]},\"xaxis5\":{\"anchor\":\"y5\",\"domain\":[0.0,1.0],\"matches\":\"x\",\"range\":[-0.516445623342175,0.3],\"showticklabels\":false,\"ticktext\":[0.4,0.5,0.6,0.7,0.8,0.9,1.0,1.1,1.2,1.0],\"tickvals\":[-0.6,-0.5,-0.4,-0.30000000000000004,-0.19999999999999996,-0.09999999999999998,0.0,0.10000000000000009,0.19999999999999996,0.0]},\"yaxis\":{\"anchor\":\"x\",\"domain\":[0.0,0.144],\"range\":[0,1],\"showgrid\":false,\"ticktext\":[\"female_old\",\"female_young\",\"male_young\"],\"tickvals\":[0.25,0.5,0.75],\"title\":{\"text\":\"\"},\"zeroline\":false},\"yaxis2\":{\"anchor\":\"x2\",\"domain\":[0.214,0.358],\"matches\":\"y\",\"range\":[0,1],\"showgrid\":false,\"ticktext\":[\"female_old\",\"female_young\",\"male_young\"],\"tickvals\":[0.25,0.5,0.75],\"title\":{\"text\":\"\"},\"zeroline\":false},\"yaxis3\":{\"anchor\":\"x3\",\"domain\":[0.428,0.572],\"matches\":\"y\",\"range\":[0,1],\"showgrid\":false,\"ticktext\":[\"female_old\",\"female_young\",\"male_young\"],\"tickvals\":[0.25,0.5,0.75],\"title\":{\"text\":\"subgroup\"},\"zeroline\":false},\"yaxis4\":{\"anchor\":\"x4\",\"domain\":[0.6419999999999999,0.7859999999999999],\"matches\":\"y\",\"range\":[0,1],\"showgrid\":false,\"ticktext\":[\"female_old\",\"female_young\",\"male_young\"],\"tickvals\":[0.25,0.5,0.75],\"title\":{\"text\":\"\"},\"zeroline\":false},\"yaxis5\":{\"anchor\":\"x5\",\"domain\":[0.856,1.0],\"matches\":\"y\",\"range\":[0,1],\"showgrid\":false,\"ticktext\":[\"female_old\",\"female_young\",\"male_young\"],\"tickvals\":[0.25,0.5,0.75],\"title\":{\"text\":\"\"},\"zeroline\":false}},                        {\"displaylogo\": false, \"staticPlot\": false, \"toImageButtonOptions\": {\"height\": null, \"width\": null}, \"modeBarButtonsToRemove\": [\"sendDataToCloud\", \"lasso2d\", \"autoScale2d\", \"select2d\", \"zoom2d\", \"pan2d\", \"zoomIn2d\", \"zoomOut2d\", \"resetScale2d\", \"toggleSpikelines\", \"hoverCompareCartesian\", \"hoverClosestCartesian\"], \"responsive\": true}                    ).then(function(){\n",
       "                            \n",
       "var gd = document.getElementById('af2bcd2b-b7b7-4e71-bb18-22e3d1e17134');\n",
       "var x = new MutationObserver(function (mutations, observer) {{\n",
       "        var display = window.getComputedStyle(gd).display;\n",
       "        if (!display || display === 'none') {{\n",
       "            console.log([gd, 'removed!']);\n",
       "            Plotly.purge(gd);\n",
       "            observer.disconnect();\n",
       "        }}\n",
       "}});\n",
       "\n",
       "// Listen for the removal of the full notebook cells\n",
       "var notebookContainer = gd.closest('#notebook-container');\n",
       "if (notebookContainer) {{\n",
       "    x.observe(notebookContainer, {childList: true});\n",
       "}}\n",
       "\n",
       "// Listen for the clearing of the current output cell\n",
       "var outputEl = gd.closest('.output');\n",
       "if (outputEl) {{\n",
       "    x.observe(outputEl, {childList: true});\n",
       "}}\n",
       "\n",
       "                        })                };                });            </script>        </div>"
      ]
     },
     "metadata": {},
     "output_type": "display_data"
    }
   ],
   "source": [
    "fairness_object = explainer.model_fairness(protected = protected, privileged = privileged)\n",
    "\n",
    "fairness_object.fairness_check(epsilon = 0.8)\n",
    "fairness_object.plot()"
   ]
  },
  {
   "cell_type": "markdown",
   "id": "75fb43bd-7034-45a2-9731-9014c042fb03",
   "metadata": {},
   "source": [
    "<h4> With aif360 </h3>"
   ]
  },
  {
   "cell_type": "markdown",
   "id": "ebf527d0-dbe0-451c-af5b-3562d150026c",
   "metadata": {},
   "source": [
    "With aif30, there is no such thing as a wrapper of a dataset together with a model. Instead, we need to define two instances of the class ```BinaryLabelDataset```:\n",
    "<ul>\n",
    "    <li> One with the groundtruth labels and the protected (resp. privileged) subgroups, </li>\n",
    "    <li> One with the predicted labels (obtained from a trained model) and the protected (resp. privileged) subgroups.</li>\n",
    "</ul>\n",
    "Beware that the data need to be np.arrays."
   ]
  },
  {
   "cell_type": "code",
   "execution_count": 62,
   "id": "c891339a-e653-4c3c-be31-d34fa7571da2",
   "metadata": {},
   "outputs": [],
   "source": [
    "data_for_aif = X_test[['sex']]\n",
    "data_for_aif['sex'] = data_for_aif['sex'].apply(lambda x: int(x == 'male'))\n",
    "data_for_aif['age'] = X_test['age'].apply(lambda x: int(x >= 25))\n",
    "\n",
    "data_for_aif_gt = data_for_aif.copy()\n",
    "data_for_aif_gt['risk'] = y_test\n",
    "\n",
    "data_for_aif_pred = data_for_aif.copy()\n",
    "data_for_aif_pred['risk'] = clf_logreg.predict(X_test)\n",
    "\n",
    "binary_dataset_gt = BinaryLabelDataset(df=data_for_aif_gt, label_names=['risk'], protected_attribute_names=['sex', 'age'])\n",
    "binary_dataset_pred = BinaryLabelDataset(df=data_for_aif_pred, label_names=['risk'], protected_attribute_names=['sex', 'age'])"
   ]
  },
  {
   "cell_type": "markdown",
   "id": "866ab327-5e77-4b1f-9246-ed82117b98e5",
   "metadata": {},
   "source": [
    "The two BinaryLabelDataset are then wrapped into a ```ClassificationMetric``` object, which requires to fix privileged and unprivileged subgroups in the form of dictionaries. It seems that, although several groups can be defined, the metrics are only computed for the two first one (an issue of the librabry ?)."
   ]
  },
  {
   "cell_type": "code",
   "execution_count": 63,
   "id": "d1546490-8c91-42c1-a579-96e8f2187b19",
   "metadata": {},
   "outputs": [],
   "source": [
    "aif_classif_metrics = ClassificationMetric(binary_dataset_gt, \n",
    "                                           binary_dataset_pred, \n",
    "                                           privileged_groups=[{'sex': 1.0, 'age': 1.0}],\n",
    "                                           unprivileged_groups=[{'sex': 1.0, 'age': 0.0}, {'sex': 0.0, 'age': 1.0}, {'sex': 0.0, 'age': 0.0}]\n",
    "                                          )"
   ]
  },
  {
   "cell_type": "code",
   "execution_count": 64,
   "id": "42367dbd-c575-4e27-ba74-261fc6da708a",
   "metadata": {},
   "outputs": [
    {
     "data": {
      "text/plain": [
       "0.8513513513513514"
      ]
     },
     "execution_count": 64,
     "metadata": {},
     "output_type": "execute_result"
    }
   ],
   "source": [
    "aif_classif_metrics.disparate_impact()"
   ]
  },
  {
   "cell_type": "markdown",
   "id": "91f405c6",
   "metadata": {},
   "source": [
    "## Preprocessing"
   ]
  },
  {
   "cell_type": "markdown",
   "id": "3d931c6d",
   "metadata": {},
   "source": [
    "## Inprocessing"
   ]
  },
  {
   "cell_type": "markdown",
   "id": "4668b830",
   "metadata": {},
   "source": [
    "## Postprocessing"
   ]
  },
  {
   "cell_type": "code",
   "execution_count": null,
   "id": "07b5ad96",
   "metadata": {},
   "outputs": [],
   "source": []
  }
 ],
 "metadata": {
  "kernelspec": {
   "display_name": "Python 3",
   "language": "python",
   "name": "python3"
  },
  "language_info": {
   "codemirror_mode": {
    "name": "ipython",
    "version": 3
   },
   "file_extension": ".py",
   "mimetype": "text/x-python",
   "name": "python",
   "nbconvert_exporter": "python",
   "pygments_lexer": "ipython3",
   "version": "3.8.8"
  },
  "toc": {
   "base_numbering": 1,
   "nav_menu": {},
   "number_sections": true,
   "sideBar": true,
   "skip_h1_title": true,
   "title_cell": "Table of Contents",
   "title_sidebar": "Contents",
   "toc_cell": true,
   "toc_position": {
    "height": "calc(100% - 180px)",
    "left": "10px",
    "top": "150px",
    "width": "165px"
   },
   "toc_section_display": true,
   "toc_window_display": false
  }
 },
 "nbformat": 4,
 "nbformat_minor": 5
}
