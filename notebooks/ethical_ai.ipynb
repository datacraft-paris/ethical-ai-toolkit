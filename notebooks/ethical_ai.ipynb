{
 "cells": [
  {
   "cell_type": "markdown",
   "id": "b92c3b5b",
   "metadata": {},
   "source": [
    "![title](images/logo_datacraft.png)\n",
    "\n",
    "<h1><center>Ethical AI</center></h1>\n",
    "<center><i>Datacraft workshop, sponsored by La French Tech</i></center>\n",
    "\n",
    "\n",
    "**Objective of the notebook**: understand how to tackle the fairness challenge in AI on real use case - credit granting\n",
    "\n",
    "This exercise highly relies on the work conducted by the Dalex team (see [here](https://dalex.drwhy.ai/), [here](https://dalex.drwhy.ai/python-dalex-fairness.html) or [here](https://dalex.drwhy.ai/python-dalex-fairness2.html)). It is based on the German Credit dataset. This dataset is often used to benchmark fairness approaches.\n",
    "\n",
    "Our humble ambition is to combine the power of different tools: Dalex as a base, complemented by other tools from the open source community, like [AIF360](https://aif360.mybluemix.net/)."
   ]
  },
  {
   "cell_type": "markdown",
   "id": "266194ff",
   "metadata": {
    "toc": true
   },
   "source": [
    "<h1>Table of Contents<span class=\"tocSkip\"></span></h1>\n",
    "<div class=\"toc\"><ul class=\"toc-item\"><li><span><a href=\"#Prerequesites\" data-toc-modified-id=\"Prerequesites-1\"><span class=\"toc-item-num\">1&nbsp;&nbsp;</span>Prerequesites</a></span></li><li><span><a href=\"#Bias-a-priori\" data-toc-modified-id=\"Bias-a-priori-2\"><span class=\"toc-item-num\">2&nbsp;&nbsp;</span>Bias a priori</a></span></li><li><span><a href=\"#Dataset\" data-toc-modified-id=\"Dataset-3\"><span class=\"toc-item-num\">3&nbsp;&nbsp;</span>Dataset</a></span></li><li><span><a href=\"#EDA\" data-toc-modified-id=\"EDA-4\"><span class=\"toc-item-num\">4&nbsp;&nbsp;</span>EDA</a></span></li><li><span><a href=\"#ML-prerequisites\" data-toc-modified-id=\"ML-prerequisites-5\"><span class=\"toc-item-num\">5&nbsp;&nbsp;</span>ML prerequisites</a></span></li><li><span><a href=\"#Fairness-evaluation-principles\" data-toc-modified-id=\"Fairness-evaluation-principles-6\"><span class=\"toc-item-num\">6&nbsp;&nbsp;</span>Fairness evaluation principles</a></span></li><li><span><a href=\"#Strategies\" data-toc-modified-id=\"Strategies-7\"><span class=\"toc-item-num\">7&nbsp;&nbsp;</span>Strategies</a></span><ul class=\"toc-item\"><li><span><a href=\"#Do-nothing\" data-toc-modified-id=\"Do-nothing-7.1\"><span class=\"toc-item-num\">7.1&nbsp;&nbsp;</span>Do nothing</a></span></li><li><span><a href=\"#-Fairness-evaluation-\" data-toc-modified-id=\"-Fairness-evaluation--7.2\"><span class=\"toc-item-num\">7.2&nbsp;&nbsp;</span> Fairness evaluation </a></span><ul class=\"toc-item\"><li><span><a href=\"#-With-dalex-\" data-toc-modified-id=\"-With-dalex--7.2.1\"><span class=\"toc-item-num\">7.2.1&nbsp;&nbsp;</span> With dalex </a></span></li><li><span><a href=\"#-With-aif360-\" data-toc-modified-id=\"-With-aif360--7.2.2\"><span class=\"toc-item-num\">7.2.2&nbsp;&nbsp;</span> With aif360 </a></span></li></ul></li></ul></li><li><span><a href=\"#Preprocessing\" data-toc-modified-id=\"Preprocessing-8\"><span class=\"toc-item-num\">8&nbsp;&nbsp;</span>Preprocessing</a></span></li><li><span><a href=\"#Inprocessing\" data-toc-modified-id=\"Inprocessing-9\"><span class=\"toc-item-num\">9&nbsp;&nbsp;</span>Inprocessing</a></span></li><li><span><a href=\"#Postprocessing\" data-toc-modified-id=\"Postprocessing-10\"><span class=\"toc-item-num\">10&nbsp;&nbsp;</span>Postprocessing</a></span></li></ul></div>"
   ]
  },
  {
   "cell_type": "markdown",
   "id": "948ccf7b",
   "metadata": {},
   "source": [
    "## Prerequesites"
   ]
  },
  {
   "cell_type": "code",
   "execution_count": 1,
   "id": "4a32cce6",
   "metadata": {
    "ExecuteTime": {
     "end_time": "2021-11-08T16:41:18.859644Z",
     "start_time": "2021-11-08T16:41:05.619690Z"
    },
    "scrolled": true
   },
   "outputs": [
    {
     "name": "stdout",
     "output_type": "stream",
     "text": [
      "Collecting fairlearn\n",
      "  Downloading fairlearn-0.7.0-py3-none-any.whl (177 kB)\n",
      "Requirement already satisfied: pandas>=0.25.1 in c:\\users\\isnardan\\miniconda3\\envs\\ethicalai\\lib\\site-packages (from fairlearn) (1.3.4)\n",
      "Requirement already satisfied: scipy>=1.4.1 in c:\\users\\isnardan\\miniconda3\\envs\\ethicalai\\lib\\site-packages (from fairlearn) (1.5.4)\n",
      "Requirement already satisfied: numpy>=1.17.2 in c:\\users\\isnardan\\miniconda3\\envs\\ethicalai\\lib\\site-packages (from fairlearn) (1.20.3)\n",
      "Requirement already satisfied: scikit-learn>=0.22.1 in c:\\users\\isnardan\\miniconda3\\envs\\ethicalai\\lib\\site-packages (from fairlearn) (1.0.1)\n",
      "Requirement already satisfied: python-dateutil>=2.7.3 in c:\\users\\isnardan\\miniconda3\\envs\\ethicalai\\lib\\site-packages (from pandas>=0.25.1->fairlearn) (2.8.2)\n",
      "Requirement already satisfied: pytz>=2017.3 in c:\\users\\isnardan\\miniconda3\\envs\\ethicalai\\lib\\site-packages (from pandas>=0.25.1->fairlearn) (2021.1)\n",
      "Requirement already satisfied: six>=1.5 in c:\\users\\isnardan\\miniconda3\\envs\\ethicalai\\lib\\site-packages (from python-dateutil>=2.7.3->pandas>=0.25.1->fairlearn) (1.16.0)\n",
      "Requirement already satisfied: threadpoolctl>=2.0.0 in c:\\users\\isnardan\\miniconda3\\envs\\ethicalai\\lib\\site-packages (from scikit-learn>=0.22.1->fairlearn) (2.2.0)\n",
      "Requirement already satisfied: joblib>=0.11 in c:\\users\\isnardan\\miniconda3\\envs\\ethicalai\\lib\\site-packages (from scikit-learn>=0.22.1->fairlearn) (1.0.1)\n",
      "Installing collected packages: fairlearn\n",
      "Successfully installed fairlearn-0.7.0\n",
      "Requirement already satisfied: dalex in c:\\users\\isnardan\\miniconda3\\envs\\ethicalai\\lib\\site-packages (1.4.1)\n",
      "Requirement already satisfied: tqdm>=4.48.2 in c:\\users\\isnardan\\miniconda3\\envs\\ethicalai\\lib\\site-packages (from dalex) (4.62.0)\n",
      "Requirement already satisfied: plotly>=4.12.0 in c:\\users\\isnardan\\miniconda3\\envs\\ethicalai\\lib\\site-packages (from dalex) (5.3.1)\n",
      "Requirement already satisfied: pandas>=1.1.2 in c:\\users\\isnardan\\miniconda3\\envs\\ethicalai\\lib\\site-packages (from dalex) (1.3.4)\n",
      "Requirement already satisfied: setuptools in c:\\users\\isnardan\\miniconda3\\envs\\ethicalai\\lib\\site-packages (from dalex) (52.0.0.post20210125)\n",
      "Requirement already satisfied: numpy>=1.18.4 in c:\\users\\isnardan\\miniconda3\\envs\\ethicalai\\lib\\site-packages (from dalex) (1.20.3)\n",
      "Requirement already satisfied: scipy>=1.5.4 in c:\\users\\isnardan\\miniconda3\\envs\\ethicalai\\lib\\site-packages (from dalex) (1.5.4)\n",
      "Requirement already satisfied: python-dateutil>=2.7.3 in c:\\users\\isnardan\\miniconda3\\envs\\ethicalai\\lib\\site-packages (from pandas>=1.1.2->dalex) (2.8.2)\n",
      "Requirement already satisfied: pytz>=2017.3 in c:\\users\\isnardan\\miniconda3\\envs\\ethicalai\\lib\\site-packages (from pandas>=1.1.2->dalex) (2021.1)\n",
      "Requirement already satisfied: six in c:\\users\\isnardan\\miniconda3\\envs\\ethicalai\\lib\\site-packages (from plotly>=4.12.0->dalex) (1.16.0)\n",
      "Requirement already satisfied: tenacity>=6.2.0 in c:\\users\\isnardan\\miniconda3\\envs\\ethicalai\\lib\\site-packages (from plotly>=4.12.0->dalex) (8.0.1)\n",
      "Requirement already satisfied: colorama in c:\\users\\isnardan\\miniconda3\\envs\\ethicalai\\lib\\site-packages (from tqdm>=4.48.2->dalex) (0.4.4)\n",
      "Requirement already satisfied: scikit-learn in c:\\users\\isnardan\\miniconda3\\envs\\ethicalai\\lib\\site-packages (1.0.1)\n",
      "Requirement already satisfied: numpy>=1.14.6 in c:\\users\\isnardan\\miniconda3\\envs\\ethicalai\\lib\\site-packages (from scikit-learn) (1.20.3)\n",
      "Requirement already satisfied: scipy>=1.1.0 in c:\\users\\isnardan\\miniconda3\\envs\\ethicalai\\lib\\site-packages (from scikit-learn) (1.5.4)\n",
      "Requirement already satisfied: joblib>=0.11 in c:\\users\\isnardan\\miniconda3\\envs\\ethicalai\\lib\\site-packages (from scikit-learn) (1.0.1)\n",
      "Requirement already satisfied: threadpoolctl>=2.0.0 in c:\\users\\isnardan\\miniconda3\\envs\\ethicalai\\lib\\site-packages (from scikit-learn) (2.2.0)\n",
      "Requirement already satisfied: pandas in c:\\users\\isnardan\\miniconda3\\envs\\ethicalai\\lib\\site-packages (1.3.4)\n",
      "Requirement already satisfied: python-dateutil>=2.7.3 in c:\\users\\isnardan\\miniconda3\\envs\\ethicalai\\lib\\site-packages (from pandas) (2.8.2)\n",
      "Requirement already satisfied: numpy>=1.17.3 in c:\\users\\isnardan\\miniconda3\\envs\\ethicalai\\lib\\site-packages (from pandas) (1.20.3)\n",
      "Requirement already satisfied: pytz>=2017.3 in c:\\users\\isnardan\\miniconda3\\envs\\ethicalai\\lib\\site-packages (from pandas) (2021.1)\n",
      "Requirement already satisfied: six>=1.5 in c:\\users\\isnardan\\miniconda3\\envs\\ethicalai\\lib\\site-packages (from python-dateutil>=2.7.3->pandas) (1.16.0)\n",
      "Requirement already satisfied: aif360 in c:\\users\\isnardan\\miniconda3\\envs\\ethicalai\\lib\\site-packages (0.4.0)\n",
      "Requirement already satisfied: scikit-learn>=0.22.1 in c:\\users\\isnardan\\miniconda3\\envs\\ethicalai\\lib\\site-packages (from aif360) (1.0.1)\n",
      "Requirement already satisfied: scipy<1.6.0,>=1.2.0 in c:\\users\\isnardan\\miniconda3\\envs\\ethicalai\\lib\\site-packages (from aif360) (1.5.4)\n",
      "Requirement already satisfied: pandas>=0.24.0 in c:\\users\\isnardan\\miniconda3\\envs\\ethicalai\\lib\\site-packages (from aif360) (1.3.4)\n",
      "Requirement already satisfied: tempeh in c:\\users\\isnardan\\miniconda3\\envs\\ethicalai\\lib\\site-packages (from aif360) (0.1.12)\n",
      "Requirement already satisfied: matplotlib in c:\\users\\isnardan\\miniconda3\\envs\\ethicalai\\lib\\site-packages (from aif360) (3.4.2)\n",
      "Requirement already satisfied: numpy>=1.16 in c:\\users\\isnardan\\miniconda3\\envs\\ethicalai\\lib\\site-packages (from aif360) (1.20.3)\n",
      "Requirement already satisfied: pytz>=2017.3 in c:\\users\\isnardan\\miniconda3\\envs\\ethicalai\\lib\\site-packages (from pandas>=0.24.0->aif360) (2021.1)\n",
      "Requirement already satisfied: python-dateutil>=2.7.3 in c:\\users\\isnardan\\miniconda3\\envs\\ethicalai\\lib\\site-packages (from pandas>=0.24.0->aif360) (2.8.2)\n",
      "Requirement already satisfied: six>=1.5 in c:\\users\\isnardan\\miniconda3\\envs\\ethicalai\\lib\\site-packages (from python-dateutil>=2.7.3->pandas>=0.24.0->aif360) (1.16.0)\n",
      "Requirement already satisfied: joblib>=0.11 in c:\\users\\isnardan\\miniconda3\\envs\\ethicalai\\lib\\site-packages (from scikit-learn>=0.22.1->aif360) (1.0.1)\n",
      "Requirement already satisfied: threadpoolctl>=2.0.0 in c:\\users\\isnardan\\miniconda3\\envs\\ethicalai\\lib\\site-packages (from scikit-learn>=0.22.1->aif360) (2.2.0)\n",
      "Requirement already satisfied: cycler>=0.10 in c:\\users\\isnardan\\miniconda3\\envs\\ethicalai\\lib\\site-packages (from matplotlib->aif360) (0.10.0)\n",
      "Requirement already satisfied: kiwisolver>=1.0.1 in c:\\users\\isnardan\\miniconda3\\envs\\ethicalai\\lib\\site-packages (from matplotlib->aif360) (1.3.1)\n",
      "Requirement already satisfied: pyparsing>=2.2.1 in c:\\users\\isnardan\\miniconda3\\envs\\ethicalai\\lib\\site-packages (from matplotlib->aif360) (2.4.7)\n",
      "Requirement already satisfied: pillow>=6.2.0 in c:\\users\\isnardan\\miniconda3\\envs\\ethicalai\\lib\\site-packages (from matplotlib->aif360) (8.3.1)\n",
      "Requirement already satisfied: memory-profiler in c:\\users\\isnardan\\miniconda3\\envs\\ethicalai\\lib\\site-packages (from tempeh->aif360) (0.58.0)\n",
      "Requirement already satisfied: shap in c:\\users\\isnardan\\miniconda3\\envs\\ethicalai\\lib\\site-packages (from tempeh->aif360) (0.39.0)\n",
      "Requirement already satisfied: requests in c:\\users\\isnardan\\miniconda3\\envs\\ethicalai\\lib\\site-packages (from tempeh->aif360) (2.26.0)\n",
      "Requirement already satisfied: pytest in c:\\users\\isnardan\\miniconda3\\envs\\ethicalai\\lib\\site-packages (from tempeh->aif360) (6.2.4)\n",
      "Requirement already satisfied: psutil in c:\\users\\isnardan\\miniconda3\\envs\\ethicalai\\lib\\site-packages (from memory-profiler->tempeh->aif360) (5.8.0)\n",
      "Requirement already satisfied: attrs>=19.2.0 in c:\\users\\isnardan\\miniconda3\\envs\\ethicalai\\lib\\site-packages (from pytest->tempeh->aif360) (21.2.0)\n",
      "Requirement already satisfied: iniconfig in c:\\users\\isnardan\\miniconda3\\envs\\ethicalai\\lib\\site-packages (from pytest->tempeh->aif360) (1.1.1)\n",
      "Requirement already satisfied: packaging in c:\\users\\isnardan\\miniconda3\\envs\\ethicalai\\lib\\site-packages (from pytest->tempeh->aif360) (21.0)\n",
      "Requirement already satisfied: pluggy<1.0.0a1,>=0.12 in c:\\users\\isnardan\\miniconda3\\envs\\ethicalai\\lib\\site-packages (from pytest->tempeh->aif360) (0.13.1)\n",
      "Requirement already satisfied: py>=1.8.2 in c:\\users\\isnardan\\miniconda3\\envs\\ethicalai\\lib\\site-packages (from pytest->tempeh->aif360) (1.10.0)\n",
      "Requirement already satisfied: toml in c:\\users\\isnardan\\miniconda3\\envs\\ethicalai\\lib\\site-packages (from pytest->tempeh->aif360) (0.10.2)\n",
      "Requirement already satisfied: importlib-metadata>=0.12 in c:\\users\\isnardan\\miniconda3\\envs\\ethicalai\\lib\\site-packages (from pytest->tempeh->aif360) (4.6.3)\n",
      "Requirement already satisfied: atomicwrites>=1.0 in c:\\users\\isnardan\\miniconda3\\envs\\ethicalai\\lib\\site-packages (from pytest->tempeh->aif360) (1.4.0)\n",
      "Requirement already satisfied: colorama in c:\\users\\isnardan\\miniconda3\\envs\\ethicalai\\lib\\site-packages (from pytest->tempeh->aif360) (0.4.4)\n",
      "Requirement already satisfied: typing-extensions>=3.6.4 in c:\\users\\isnardan\\miniconda3\\envs\\ethicalai\\lib\\site-packages (from importlib-metadata>=0.12->pytest->tempeh->aif360) (3.10.0.0)\n",
      "Requirement already satisfied: zipp>=0.5 in c:\\users\\isnardan\\miniconda3\\envs\\ethicalai\\lib\\site-packages (from importlib-metadata>=0.12->pytest->tempeh->aif360) (3.5.0)\n",
      "Requirement already satisfied: charset-normalizer~=2.0.0 in c:\\users\\isnardan\\miniconda3\\envs\\ethicalai\\lib\\site-packages (from requests->tempeh->aif360) (2.0.0)\n",
      "Requirement already satisfied: urllib3<1.27,>=1.21.1 in c:\\users\\isnardan\\miniconda3\\envs\\ethicalai\\lib\\site-packages (from requests->tempeh->aif360) (1.26.6)\n",
      "Requirement already satisfied: idna<4,>=2.5 in c:\\users\\isnardan\\miniconda3\\envs\\ethicalai\\lib\\site-packages (from requests->tempeh->aif360) (3.1)\n",
      "Requirement already satisfied: certifi>=2017.4.17 in c:\\users\\isnardan\\miniconda3\\envs\\ethicalai\\lib\\site-packages (from requests->tempeh->aif360) (2021.5.30)\n",
      "Requirement already satisfied: cloudpickle in c:\\users\\isnardan\\miniconda3\\envs\\ethicalai\\lib\\site-packages (from shap->tempeh->aif360) (1.6.0)\n",
      "Requirement already satisfied: slicer==0.0.7 in c:\\users\\isnardan\\miniconda3\\envs\\ethicalai\\lib\\site-packages (from shap->tempeh->aif360) (0.0.7)\n",
      "Requirement already satisfied: tqdm>4.25.0 in c:\\users\\isnardan\\miniconda3\\envs\\ethicalai\\lib\\site-packages (from shap->tempeh->aif360) (4.62.0)\n",
      "Requirement already satisfied: numba in c:\\users\\isnardan\\miniconda3\\envs\\ethicalai\\lib\\site-packages (from shap->tempeh->aif360) (0.53.1)\n",
      "Requirement already satisfied: llvmlite<0.37,>=0.36.0rc1 in c:\\users\\isnardan\\miniconda3\\envs\\ethicalai\\lib\\site-packages (from numba->shap->tempeh->aif360) (0.36.0)\n",
      "Requirement already satisfied: setuptools in c:\\users\\isnardan\\miniconda3\\envs\\ethicalai\\lib\\site-packages (from numba->shap->tempeh->aif360) (52.0.0.post20210125)\n"
     ]
    },
    {
     "name": "stdout",
     "output_type": "stream",
     "text": [
      "Requirement already satisfied: plotly in c:\\users\\isnardan\\miniconda3\\envs\\ethicalai\\lib\\site-packages (5.3.1)\n",
      "Requirement already satisfied: tenacity>=6.2.0 in c:\\users\\isnardan\\miniconda3\\envs\\ethicalai\\lib\\site-packages (from plotly) (8.0.1)\n",
      "Requirement already satisfied: six in c:\\users\\isnardan\\miniconda3\\envs\\ethicalai\\lib\\site-packages (from plotly) (1.16.0)\n"
     ]
    }
   ],
   "source": [
    "# We strongly recommend to install the necessary libraries from a dedicated virtual environment\n",
    "# See Minicoda e.g.: https://docs.conda.io/projects/conda/en/latest/user-guide/tasks/manage-environments.html#creating-an-environment-with-commands\n",
    "\n",
    "! pip install fairlearn\n",
    "! pip install dalex -U\n",
    "! pip install -U scikit-learn\n",
    "! pip install -U pandas\n",
    "! pip install aif360\n",
    "! pip install -U plotly"
   ]
  },
  {
   "cell_type": "code",
   "execution_count": 2,
   "id": "979a3700",
   "metadata": {
    "ExecuteTime": {
     "end_time": "2021-11-08T16:41:24.324544Z",
     "start_time": "2021-11-08T16:41:18.871647Z"
    }
   },
   "outputs": [
    {
     "data": {
      "text/plain": [
       "{'aif360': '0.4.0',\n",
       " 'dalex': '1.4.1',\n",
       " 'numpy': '1.20.3',\n",
       " 'pandas': '1.3.4',\n",
       " 'sklearn': '1.0.1'}"
      ]
     },
     "execution_count": 2,
     "metadata": {},
     "output_type": "execute_result"
    }
   ],
   "source": [
    "from sklearn.compose import make_column_transformer, make_column_selector\n",
    "from sklearn.linear_model import LogisticRegression\n",
    "from sklearn.model_selection import train_test_split\n",
    "from sklearn.pipeline import Pipeline\n",
    "from sklearn.preprocessing import StandardScaler, OneHotEncoder\n",
    "from sklearn.tree import DecisionTreeClassifier\n",
    "\n",
    "import aif360\n",
    "import dalex as dx\n",
    "import numpy as np\n",
    "import pandas as pd\n",
    "import sklearn\n",
    "\n",
    "from aif360.datasets import BinaryLabelDataset\n",
    "from aif360.metrics import ClassificationMetric\n",
    "\n",
    "{\n",
    "    \"aif360\": aif360.__version__,\n",
    "    \"dalex\": dx.__version__,\n",
    "    \"numpy\": np.__version__,\n",
    "    \"pandas\": pd.__version__,\n",
    "    \"sklearn\": sklearn.__version__\n",
    "}"
   ]
  },
  {
   "cell_type": "code",
   "execution_count": 3,
   "id": "de1a5735",
   "metadata": {
    "ExecuteTime": {
     "end_time": "2021-11-08T16:41:24.339546Z",
     "start_time": "2021-11-08T16:41:24.326545Z"
    }
   },
   "outputs": [],
   "source": [
    "sklearn.set_config(display=\"diagram\")"
   ]
  },
  {
   "cell_type": "markdown",
   "id": "cbfac198",
   "metadata": {},
   "source": [
    "## Bias a priori\n",
    "\n",
    "*When implementing an AI system, fairness and biases must be an important component during conception, especially when dealing with sensitive information, and/or Personally Identifiable Information (PII), and/or Personal Health Information (PHI). Indeed, not only those information are bound to the law (GDPR in Europe e.g.), but they are also bound to a brand image challenge.*\n",
    "\n",
    "Today's challenge aims at **assigning a risk to credit-seeker**.\n",
    "\n",
    "Before implementing any AI system to predict the likelihood of a credit-seeker to be granted a credit, **AI engineers AND business stakeholders** should **sit and identify potential sources of biases**.\n",
    "\n",
    "In this case, potential biases might lie in:\n",
    "\n",
    "- Genre\n",
    "- Age\n",
    "- Revenue?"
   ]
  },
  {
   "cell_type": "markdown",
   "id": "77327fea",
   "metadata": {},
   "source": [
    "## Dataset"
   ]
  },
  {
   "cell_type": "code",
   "execution_count": 4,
   "id": "ba2fdabf",
   "metadata": {
    "ExecuteTime": {
     "end_time": "2021-11-08T16:41:53.059529Z",
     "start_time": "2021-11-08T16:41:53.033529Z"
    }
   },
   "outputs": [],
   "source": [
    "df, target = dx.datasets.load_german(), \"risk\""
   ]
  },
  {
   "cell_type": "markdown",
   "id": "3c061ecb",
   "metadata": {},
   "source": [
    "## EDA"
   ]
  },
  {
   "cell_type": "code",
   "execution_count": 5,
   "id": "a08ea91d",
   "metadata": {
    "ExecuteTime": {
     "end_time": "2021-11-08T16:41:53.786761Z",
     "start_time": "2021-11-08T16:41:53.770763Z"
    },
    "code_folding": [
     0
    ]
   },
   "outputs": [],
   "source": [
    "def facets(df: pd.DataFrame):\n",
    "    \"\"\" Displays Facets viz\n",
    "    Source: https://colab.research.google.com/github/PAIR-code/facets/blob/master/colab_facets.ipynb#scrollTo=XtOzRy8Z3M36\n",
    "    \n",
    "    Parameters\n",
    "    ----------\n",
    "    df: pd.DataFrame\n",
    "        Data to plot\n",
    "    \"\"\"\n",
    "    from IPython.core.display import display, HTML\n",
    "    jsonstr = df.to_json(orient='records')\n",
    "    HTML_TEMPLATE = \"\"\"\n",
    "            <script src=\"https://cdnjs.cloudflare.com/ajax/libs/webcomponentsjs/1.3.3/webcomponents-lite.js\"></script>\n",
    "            <link rel=\"import\" href=\"https://raw.githubusercontent.com/PAIR-code/facets/1.0.0/facets-dist/facets-jupyter.html\">\n",
    "            <facets-dive id=\"elem\" height=\"600\"></facets-dive>\n",
    "            <script>\n",
    "              var data = {jsonstr};\n",
    "              document.querySelector(\"#elem\").data = data;\n",
    "            </script>\"\"\"\n",
    "    html = HTML_TEMPLATE.format(jsonstr=jsonstr)\n",
    "    display(HTML(html))"
   ]
  },
  {
   "cell_type": "code",
   "execution_count": null,
   "id": "07a40124",
   "metadata": {
    "ExecuteTime": {
     "end_time": "2021-11-08T16:39:26.252249Z",
     "start_time": "2021-11-08T16:39:26.231635Z"
    }
   },
   "outputs": [],
   "source": [
    "facets(df)"
   ]
  },
  {
   "cell_type": "code",
   "execution_count": null,
   "id": "ef4b0517",
   "metadata": {
    "ExecuteTime": {
     "end_time": "2021-11-08T16:39:26.546261Z",
     "start_time": "2021-11-08T16:39:26.529227Z"
    },
    "cell_style": "split"
   },
   "outputs": [],
   "source": [
    "(\n",
    "    df\n",
    "    .groupby(\"sex\")\n",
    "    [\"risk\"]\n",
    "    .value_counts(normalize=True)\n",
    "    .multiply(100)\n",
    "    .astype(int)\n",
    "    .to_frame()\n",
    ")"
   ]
  },
  {
   "cell_type": "code",
   "execution_count": null,
   "id": "77a9c4a0",
   "metadata": {
    "ExecuteTime": {
     "end_time": "2021-11-08T16:39:26.806227Z",
     "start_time": "2021-11-08T16:39:26.785231Z"
    },
    "cell_style": "split",
    "scrolled": true
   },
   "outputs": [],
   "source": [
    "(\n",
    "    df\n",
    "    .assign(youth=lambda x: np.where(x[\"age\"] <= 30, \"young\", \"old\"))\n",
    "    .groupby(\"youth\")\n",
    "    [\"risk\"]\n",
    "    .value_counts(normalize=True)\n",
    "    .multiply(100)\n",
    "    .astype(int)\n",
    "    .to_frame()\n",
    ")"
   ]
  },
  {
   "cell_type": "code",
   "execution_count": null,
   "id": "461ea8c0",
   "metadata": {
    "ExecuteTime": {
     "end_time": "2021-11-08T16:39:27.207745Z",
     "start_time": "2021-11-08T16:39:27.188036Z"
    }
   },
   "outputs": [],
   "source": [
    "(\n",
    "    df\n",
    "    .assign(youth=lambda x: np.where(x[\"age\"] <= 30, \"young\", \"old\"))\n",
    "    .groupby([\"sex\", \"youth\"])\n",
    "    [\"risk\"]\n",
    "    .value_counts(normalize=True)\n",
    "    .multiply(100)\n",
    "    .astype(int)\n",
    "    .to_frame()\n",
    ")"
   ]
  },
  {
   "cell_type": "markdown",
   "id": "b81cd4d4",
   "metadata": {},
   "source": [
    "**Quick EDA**\n",
    "\n",
    "If we bin by sex, we realize that women are:\n",
    "- Under represented in volume (310 vs 690)\n",
    "- Slightly biased from a credit-granting perspective (64% vs 72%)\n",
    "\n",
    "If we bin by age, we realize that young are:\n",
    "- Under represented in volume (411 VS 589)\n",
    "- Slightly biased from a credit-granting perspective (63% vs 74%)\n",
    "\n",
    "If we combine the two, biases in input data are amplified.\n",
    "\n",
    "**Conclusion: the apriori from section 2 looks confirmed and will need to be carefully handled during modelling.**\n",
    "\n",
    "----\n",
    "\n",
    "**Notes**\n",
    "\n",
    "1. This is a toy example where biases are \"straightforward\" and well identified as \"recurrent\" social biases. However, it might not always be as easy to detect them. Additional sources might come from data history, selection bias, data incompleteness, unexpected sources of bias (column/attribute), ...\n",
    "2. In this example, we identified biases related to representation in volume. If we had not been exposed to such discrepencies, namely having a balanced dataset, could we have concluded that biases would have been limited while modelling? Not so sure, see [this article](https://arxiv.org/pdf/1811.08489.pdf)."
   ]
  },
  {
   "cell_type": "markdown",
   "id": "e0a02b60",
   "metadata": {},
   "source": [
    "## ML prerequisites"
   ]
  },
  {
   "cell_type": "code",
   "execution_count": 36,
   "id": "52c89311",
   "metadata": {
    "ExecuteTime": {
     "end_time": "2021-11-08T16:46:58.294363Z",
     "start_time": "2021-11-08T16:46:58.282327Z"
    }
   },
   "outputs": [],
   "source": [
    "df[\"job\"] = df[\"job\"].astype(\"object\")\n",
    "df[\"sex\"] = np.where(df[\"sex\"] == \"female\", 1, 0).astype(np.int64)"
   ]
  },
  {
   "cell_type": "code",
   "execution_count": 37,
   "id": "6bd459a5",
   "metadata": {
    "ExecuteTime": {
     "end_time": "2021-11-08T16:47:01.604200Z",
     "start_time": "2021-11-08T16:47:01.592201Z"
    }
   },
   "outputs": [],
   "source": [
    "X_train, X_test, y_train, y_test = train_test_split(\n",
    "    df.drop(columns=[target]),\n",
    "    df[target],\n",
    "    test_size=0.3,\n",
    "    random_state=42\n",
    ")"
   ]
  },
  {
   "cell_type": "markdown",
   "id": "1a36efc3",
   "metadata": {},
   "source": [
    "## Fairness evaluation principles"
   ]
  },
  {
   "cell_type": "markdown",
   "id": "b7126ba8",
   "metadata": {
    "ExecuteTime": {
     "end_time": "2021-11-08T15:48:52.229401Z",
     "start_time": "2021-11-08T15:48:52.177397Z"
    }
   },
   "source": [
    "![title](images/dalex_pipeline.jpg)"
   ]
  },
  {
   "cell_type": "markdown",
   "id": "28418613-2396-492a-aa9e-dd7ba73d68b7",
   "metadata": {},
   "source": [
    "The main object of dalex is the `Explainer` container which wraps a **dataset** (features and target) and a **trained model**. \n",
    "\n",
    "Once the data and the model have been wrapped, one needs to fix **protected and privileged attributes**.\n",
    "\n",
    "**Important note**: beware these choices correspond to an a priori understanding of the problem and could miss hidden flaws of the model. An interesting line of work would consist in conducting a kind of grid-search exploration for potential biases."
   ]
  },
  {
   "cell_type": "code",
   "execution_count": 38,
   "id": "f0984019",
   "metadata": {
    "ExecuteTime": {
     "end_time": "2021-11-08T16:47:14.814335Z",
     "start_time": "2021-11-08T16:47:14.807264Z"
    }
   },
   "outputs": [],
   "source": [
    "# protected = df.sex.astype(\"str\") + '_' + np.where(df.age < 25, 'young', 'old')\n",
    "protected = X_test.sex.astype(\"str\") + '_' + np.where(X_test.age < 25, 'young', 'old')\n",
    "privileged = '0_old'"
   ]
  },
  {
   "cell_type": "markdown",
   "id": "d22cc82c",
   "metadata": {},
   "source": [
    "## Strategies"
   ]
  },
  {
   "cell_type": "markdown",
   "id": "1b64cc7b-dddb-4a1d-8ec5-37e2066a4056",
   "metadata": {},
   "source": [
    "### Do nothing"
   ]
  },
  {
   "cell_type": "code",
   "execution_count": 39,
   "id": "c62d5e7f",
   "metadata": {
    "ExecuteTime": {
     "end_time": "2021-11-08T16:47:18.109180Z",
     "start_time": "2021-11-08T16:47:18.090143Z"
    }
   },
   "outputs": [],
   "source": [
    "preprocessor = make_column_transformer(\n",
    "      (\"passthrough\", make_column_selector(dtype_include=np.number)),\n",
    "      (OneHotEncoder(handle_unknown=\"ignore\"), make_column_selector(dtype_include=object))\n",
    ")\n",
    "\n",
    "clf_decisiontree = Pipeline(steps=[\n",
    "    ('preprocessor', preprocessor),\n",
    "    ('classifier', DecisionTreeClassifier(max_depth=7, random_state=123))\n",
    "])"
   ]
  },
  {
   "cell_type": "code",
   "execution_count": 40,
   "id": "80b12e81",
   "metadata": {
    "ExecuteTime": {
     "end_time": "2021-11-08T16:47:24.328910Z",
     "start_time": "2021-11-08T16:47:24.298646Z"
    }
   },
   "outputs": [
    {
     "data": {
      "text/html": [
       "<style>#sk-c5211a96-73c3-411c-98ff-bb8a10476812 {color: black;background-color: white;}#sk-c5211a96-73c3-411c-98ff-bb8a10476812 pre{padding: 0;}#sk-c5211a96-73c3-411c-98ff-bb8a10476812 div.sk-toggleable {background-color: white;}#sk-c5211a96-73c3-411c-98ff-bb8a10476812 label.sk-toggleable__label {cursor: pointer;display: block;width: 100%;margin-bottom: 0;padding: 0.3em;box-sizing: border-box;text-align: center;}#sk-c5211a96-73c3-411c-98ff-bb8a10476812 div.sk-toggleable__content {max-height: 0;max-width: 0;overflow: hidden;text-align: left;background-color: #f0f8ff;}#sk-c5211a96-73c3-411c-98ff-bb8a10476812 div.sk-toggleable__content pre {margin: 0.2em;color: black;border-radius: 0.25em;background-color: #f0f8ff;}#sk-c5211a96-73c3-411c-98ff-bb8a10476812 input.sk-toggleable__control:checked~div.sk-toggleable__content {max-height: 200px;max-width: 100%;overflow: auto;}#sk-c5211a96-73c3-411c-98ff-bb8a10476812 div.sk-estimator input.sk-toggleable__control:checked~label.sk-toggleable__label {background-color: #d4ebff;}#sk-c5211a96-73c3-411c-98ff-bb8a10476812 div.sk-label input.sk-toggleable__control:checked~label.sk-toggleable__label {background-color: #d4ebff;}#sk-c5211a96-73c3-411c-98ff-bb8a10476812 input.sk-hidden--visually {border: 0;clip: rect(1px 1px 1px 1px);clip: rect(1px, 1px, 1px, 1px);height: 1px;margin: -1px;overflow: hidden;padding: 0;position: absolute;width: 1px;}#sk-c5211a96-73c3-411c-98ff-bb8a10476812 div.sk-estimator {font-family: monospace;background-color: #f0f8ff;border: 1px dotted black;border-radius: 0.25em;box-sizing: border-box;margin-bottom: 0.5em;}#sk-c5211a96-73c3-411c-98ff-bb8a10476812 div.sk-estimator:hover {background-color: #d4ebff;}#sk-c5211a96-73c3-411c-98ff-bb8a10476812 div.sk-parallel-item::after {content: \"\";width: 100%;border-bottom: 1px solid gray;flex-grow: 1;}#sk-c5211a96-73c3-411c-98ff-bb8a10476812 div.sk-label:hover label.sk-toggleable__label {background-color: #d4ebff;}#sk-c5211a96-73c3-411c-98ff-bb8a10476812 div.sk-serial::before {content: \"\";position: absolute;border-left: 1px solid gray;box-sizing: border-box;top: 2em;bottom: 0;left: 50%;}#sk-c5211a96-73c3-411c-98ff-bb8a10476812 div.sk-serial {display: flex;flex-direction: column;align-items: center;background-color: white;padding-right: 0.2em;padding-left: 0.2em;}#sk-c5211a96-73c3-411c-98ff-bb8a10476812 div.sk-item {z-index: 1;}#sk-c5211a96-73c3-411c-98ff-bb8a10476812 div.sk-parallel {display: flex;align-items: stretch;justify-content: center;background-color: white;}#sk-c5211a96-73c3-411c-98ff-bb8a10476812 div.sk-parallel::before {content: \"\";position: absolute;border-left: 1px solid gray;box-sizing: border-box;top: 2em;bottom: 0;left: 50%;}#sk-c5211a96-73c3-411c-98ff-bb8a10476812 div.sk-parallel-item {display: flex;flex-direction: column;position: relative;background-color: white;}#sk-c5211a96-73c3-411c-98ff-bb8a10476812 div.sk-parallel-item:first-child::after {align-self: flex-end;width: 50%;}#sk-c5211a96-73c3-411c-98ff-bb8a10476812 div.sk-parallel-item:last-child::after {align-self: flex-start;width: 50%;}#sk-c5211a96-73c3-411c-98ff-bb8a10476812 div.sk-parallel-item:only-child::after {width: 0;}#sk-c5211a96-73c3-411c-98ff-bb8a10476812 div.sk-dashed-wrapped {border: 1px dashed gray;margin: 0 0.4em 0.5em 0.4em;box-sizing: border-box;padding-bottom: 0.4em;background-color: white;position: relative;}#sk-c5211a96-73c3-411c-98ff-bb8a10476812 div.sk-label label {font-family: monospace;font-weight: bold;background-color: white;display: inline-block;line-height: 1.2em;}#sk-c5211a96-73c3-411c-98ff-bb8a10476812 div.sk-label-container {position: relative;z-index: 2;text-align: center;}#sk-c5211a96-73c3-411c-98ff-bb8a10476812 div.sk-container {display: inline-block;position: relative;}</style><div id=\"sk-c5211a96-73c3-411c-98ff-bb8a10476812\" class\"sk-top-container\"><div class=\"sk-container\"><div class=\"sk-item sk-dashed-wrapped\"><div class=\"sk-label-container\"><div class=\"sk-label sk-toggleable\"><input class=\"sk-toggleable__control sk-hidden--visually\" id=\"170c4bfa-2a4a-455d-adfa-664f8eb09b49\" type=\"checkbox\" ><label class=\"sk-toggleable__label\" for=\"170c4bfa-2a4a-455d-adfa-664f8eb09b49\">Pipeline</label><div class=\"sk-toggleable__content\"><pre>Pipeline(steps=[('preprocessor',\n",
       "                 ColumnTransformer(transformers=[('passthrough', 'passthrough',\n",
       "                                                  <sklearn.compose._column_transformer.make_column_selector object at 0x000001F428C5F508>),\n",
       "                                                 ('onehotencoder',\n",
       "                                                  OneHotEncoder(handle_unknown='ignore'),\n",
       "                                                  <sklearn.compose._column_transformer.make_column_selector object at 0x000001F428C5F908>)])),\n",
       "                ('classifier',\n",
       "                 DecisionTreeClassifier(max_depth=7, random_state=123))])</pre></div></div></div><div class=\"sk-serial\"><div class=\"sk-item sk-dashed-wrapped\"><div class=\"sk-label-container\"><div class=\"sk-label sk-toggleable\"><input class=\"sk-toggleable__control sk-hidden--visually\" id=\"7634918f-7b98-492c-af2f-a572d4dc1fcf\" type=\"checkbox\" ><label class=\"sk-toggleable__label\" for=\"7634918f-7b98-492c-af2f-a572d4dc1fcf\">preprocessor: ColumnTransformer</label><div class=\"sk-toggleable__content\"><pre>ColumnTransformer(transformers=[('passthrough', 'passthrough',\n",
       "                                 <sklearn.compose._column_transformer.make_column_selector object at 0x000001F428C5F508>),\n",
       "                                ('onehotencoder',\n",
       "                                 OneHotEncoder(handle_unknown='ignore'),\n",
       "                                 <sklearn.compose._column_transformer.make_column_selector object at 0x000001F428C5F908>)])</pre></div></div></div><div class=\"sk-parallel\"><div class=\"sk-parallel-item\"><div class=\"sk-item\"><div class=\"sk-label-container\"><div class=\"sk-label sk-toggleable\"><input class=\"sk-toggleable__control sk-hidden--visually\" id=\"2dc56b9d-7e6a-4ad6-adbd-690c87443bdf\" type=\"checkbox\" ><label class=\"sk-toggleable__label\" for=\"2dc56b9d-7e6a-4ad6-adbd-690c87443bdf\">passthrough</label><div class=\"sk-toggleable__content\"><pre><sklearn.compose._column_transformer.make_column_selector object at 0x000001F428C5F508></pre></div></div></div><div class=\"sk-serial\"><div class=\"sk-item\"><div class=\"sk-estimator sk-toggleable\"><input class=\"sk-toggleable__control sk-hidden--visually\" id=\"faf9f24d-fbc7-445a-b5fe-f6caacd2d03d\" type=\"checkbox\" ><label class=\"sk-toggleable__label\" for=\"faf9f24d-fbc7-445a-b5fe-f6caacd2d03d\">passthrough</label><div class=\"sk-toggleable__content\"><pre>passthrough</pre></div></div></div></div></div></div><div class=\"sk-parallel-item\"><div class=\"sk-item\"><div class=\"sk-label-container\"><div class=\"sk-label sk-toggleable\"><input class=\"sk-toggleable__control sk-hidden--visually\" id=\"9071dfa9-8e27-4d12-bae5-26bf2e9e96d7\" type=\"checkbox\" ><label class=\"sk-toggleable__label\" for=\"9071dfa9-8e27-4d12-bae5-26bf2e9e96d7\">onehotencoder</label><div class=\"sk-toggleable__content\"><pre><sklearn.compose._column_transformer.make_column_selector object at 0x000001F428C5F908></pre></div></div></div><div class=\"sk-serial\"><div class=\"sk-item\"><div class=\"sk-estimator sk-toggleable\"><input class=\"sk-toggleable__control sk-hidden--visually\" id=\"181fafe1-68a0-48a7-a30e-73273f1c5d0f\" type=\"checkbox\" ><label class=\"sk-toggleable__label\" for=\"181fafe1-68a0-48a7-a30e-73273f1c5d0f\">OneHotEncoder</label><div class=\"sk-toggleable__content\"><pre>OneHotEncoder(handle_unknown='ignore')</pre></div></div></div></div></div></div></div></div><div class=\"sk-item\"><div class=\"sk-estimator sk-toggleable\"><input class=\"sk-toggleable__control sk-hidden--visually\" id=\"5347a26f-27e9-464b-8bde-90c90f3947f6\" type=\"checkbox\" ><label class=\"sk-toggleable__label\" for=\"5347a26f-27e9-464b-8bde-90c90f3947f6\">DecisionTreeClassifier</label><div class=\"sk-toggleable__content\"><pre>DecisionTreeClassifier(max_depth=7, random_state=123)</pre></div></div></div></div></div></div></div>"
      ],
      "text/plain": [
       "Pipeline(steps=[('preprocessor',\n",
       "                 ColumnTransformer(transformers=[('passthrough', 'passthrough',\n",
       "                                                  <sklearn.compose._column_transformer.make_column_selector object at 0x000001F428C5F508>),\n",
       "                                                 ('onehotencoder',\n",
       "                                                  OneHotEncoder(handle_unknown='ignore'),\n",
       "                                                  <sklearn.compose._column_transformer.make_column_selector object at 0x000001F428C5F908>)])),\n",
       "                ('classifier',\n",
       "                 DecisionTreeClassifier(max_depth=7, random_state=123))])"
      ]
     },
     "execution_count": 40,
     "metadata": {},
     "output_type": "execute_result"
    }
   ],
   "source": [
    "# clf_decisiontree.fit(df.drop(columns=[target]), df[target])\n",
    "clf_decisiontree.fit(X_train, y_train)"
   ]
  },
  {
   "cell_type": "code",
   "execution_count": 47,
   "id": "eb0cbd87-2f1f-47c8-9dda-926513a9de90",
   "metadata": {
    "ExecuteTime": {
     "end_time": "2021-11-08T16:51:21.122259Z",
     "start_time": "2021-11-08T16:51:21.006295Z"
    }
   },
   "outputs": [],
   "source": [
    "# exp_decisiontree = dx.Explainer(clf_decisiontree, df.drop(columns=[target]), df[target], verbose=False)\n",
    "exp_decisiontree = dx.Explainer(clf_decisiontree, X_test, y_test, verbose=False)"
   ]
  },
  {
   "cell_type": "code",
   "execution_count": 48,
   "id": "09d28f9e",
   "metadata": {
    "ExecuteTime": {
     "end_time": "2021-11-08T16:51:21.728260Z",
     "start_time": "2021-11-08T16:51:21.676260Z"
    }
   },
   "outputs": [
    {
     "data": {
      "text/html": [
       "<div>\n",
       "<style scoped>\n",
       "    .dataframe tbody tr th:only-of-type {\n",
       "        vertical-align: middle;\n",
       "    }\n",
       "\n",
       "    .dataframe tbody tr th {\n",
       "        vertical-align: top;\n",
       "    }\n",
       "\n",
       "    .dataframe thead th {\n",
       "        text-align: right;\n",
       "    }\n",
       "</style>\n",
       "<table border=\"1\" class=\"dataframe\">\n",
       "  <thead>\n",
       "    <tr style=\"text-align: right;\">\n",
       "      <th></th>\n",
       "      <th>recall</th>\n",
       "      <th>precision</th>\n",
       "      <th>f1</th>\n",
       "      <th>accuracy</th>\n",
       "      <th>auc</th>\n",
       "    </tr>\n",
       "  </thead>\n",
       "  <tbody>\n",
       "    <tr>\n",
       "      <th>DecisionTreeClassifier</th>\n",
       "      <td>0.832536</td>\n",
       "      <td>0.759825</td>\n",
       "      <td>0.794521</td>\n",
       "      <td>0.7</td>\n",
       "      <td>0.691861</td>\n",
       "    </tr>\n",
       "  </tbody>\n",
       "</table>\n",
       "</div>"
      ],
      "text/plain": [
       "                          recall  precision        f1  accuracy       auc\n",
       "DecisionTreeClassifier  0.832536   0.759825  0.794521       0.7  0.691861"
      ]
     },
     "execution_count": 48,
     "metadata": {},
     "output_type": "execute_result"
    }
   ],
   "source": [
    "exp_decisiontree.model_performance().result"
   ]
  },
  {
   "cell_type": "markdown",
   "id": "a29c6b5e",
   "metadata": {},
   "source": [
    "The method `model_fairness` returns a fairness object from which fairness evaluations can be conducted. Notice that every metrics inherited from the confusion matrix are computed during the instantiation.\n",
    "\n",
    "Two methods can then be performed:\n",
    "- The `fairness_check` method, which returns a report on the fairness of the model. It requires an epsilon parameter that corresponds to the threshold ratio below which a given metric is considered to be unfair (default value is 0.8).\n",
    "- The `plot` method, which allows to visualize the main fairness ratios between the protected subgroups and the privileged one."
   ]
  },
  {
   "cell_type": "code",
   "execution_count": 49,
   "id": "382e6012",
   "metadata": {
    "ExecuteTime": {
     "end_time": "2021-11-08T16:51:22.995340Z",
     "start_time": "2021-11-08T16:51:22.960334Z"
    }
   },
   "outputs": [],
   "source": [
    "fairness_decisiontree = exp_decisiontree.model_fairness(protected=protected, privileged=privileged)"
   ]
  },
  {
   "cell_type": "code",
   "execution_count": 50,
   "id": "f8063d90",
   "metadata": {
    "ExecuteTime": {
     "end_time": "2021-11-08T16:51:23.351372Z",
     "start_time": "2021-11-08T16:51:23.328372Z"
    }
   },
   "outputs": [
    {
     "name": "stdout",
     "output_type": "stream",
     "text": [
      "Bias detected in 3 metrics: TPR, FPR, STP\n",
      "\n",
      "Conclusion: your model is not fair because 2 or more criteria exceeded acceptable limits set by epsilon.\n",
      "\n",
      "Ratios of metrics, based on '0_old'. Parameter 'epsilon' was set to 0.8 and therefore metrics should be within (0.8, 1.25)\n",
      "             TPR       ACC       PPV       FPR       STP\n",
      "0_young  0.55991  0.825485  1.002632  0.355114  0.481526\n"
     ]
    }
   ],
   "source": [
    "fairness_decisiontree.fairness_check(epsilon = 0.8) # default epsilon"
   ]
  },
  {
   "cell_type": "code",
   "execution_count": 51,
   "id": "abf51fee",
   "metadata": {
    "ExecuteTime": {
     "end_time": "2021-11-08T16:51:24.417770Z",
     "start_time": "2021-11-08T16:51:23.879254Z"
    }
   },
   "outputs": [
    {
     "data": {
      "application/vnd.plotly.v1+json": {
       "config": {
        "displaylogo": false,
        "modeBarButtonsToRemove": [
         "sendDataToCloud",
         "lasso2d",
         "autoScale2d",
         "select2d",
         "zoom2d",
         "pan2d",
         "zoomIn2d",
         "zoomOut2d",
         "resetScale2d",
         "toggleSpikelines",
         "hoverCompareCartesian",
         "hoverClosestCartesian"
        ],
        "plotlyServerURL": "https://plot.ly",
        "staticPlot": false,
        "toImageButtonOptions": {
         "height": null,
         "width": null
        }
       },
       "data": [
        {
         "alignmentgroup": "True",
         "customdata": [
          [
           "0_young",
           0.56,
           "DecisionTreeClassifier"
          ]
         ],
         "hovertemplate": "<b>%{customdata[2]}</b><br>Subgroup: %{customdata[0]}<br>Score: %{customdata[1]}<br><extra></extra>",
         "legendgroup": "DecisionTreeClassifier",
         "marker": {
          "color": "#46bac2",
          "pattern": {
           "shape": ""
          }
         },
         "name": "DecisionTreeClassifier",
         "offsetgroup": "DecisionTreeClassifier",
         "orientation": "h",
         "showlegend": true,
         "textposition": "auto",
         "type": "bar",
         "x": [
          -0.4400895856662934
         ],
         "xaxis": "x5",
         "y": [
          0.5
         ],
         "yaxis": "y5"
        },
        {
         "alignmentgroup": "True",
         "customdata": [
          [
           "0_young",
           1.003,
           "DecisionTreeClassifier"
          ]
         ],
         "hovertemplate": "<b>%{customdata[2]}</b><br>Subgroup: %{customdata[0]}<br>Score: %{customdata[1]}<br><extra></extra>",
         "legendgroup": "DecisionTreeClassifier",
         "marker": {
          "color": "#46bac2",
          "pattern": {
           "shape": ""
          }
         },
         "name": "DecisionTreeClassifier",
         "offsetgroup": "DecisionTreeClassifier",
         "orientation": "h",
         "showlegend": false,
         "textposition": "auto",
         "type": "bar",
         "x": [
          0.002631578947368318
         ],
         "xaxis": "x4",
         "y": [
          0.5
         ],
         "yaxis": "y4"
        },
        {
         "alignmentgroup": "True",
         "customdata": [
          [
           "0_young",
           0.355,
           "DecisionTreeClassifier"
          ]
         ],
         "hovertemplate": "<b>%{customdata[2]}</b><br>Subgroup: %{customdata[0]}<br>Score: %{customdata[1]}<br><extra></extra>",
         "legendgroup": "DecisionTreeClassifier",
         "marker": {
          "color": "#46bac2",
          "pattern": {
           "shape": ""
          }
         },
         "name": "DecisionTreeClassifier",
         "offsetgroup": "DecisionTreeClassifier",
         "orientation": "h",
         "showlegend": false,
         "textposition": "auto",
         "type": "bar",
         "x": [
          -0.6448863636363635
         ],
         "xaxis": "x3",
         "y": [
          0.5
         ],
         "yaxis": "y3"
        },
        {
         "alignmentgroup": "True",
         "customdata": [
          [
           "0_young",
           0.825,
           "DecisionTreeClassifier"
          ]
         ],
         "hovertemplate": "<b>%{customdata[2]}</b><br>Subgroup: %{customdata[0]}<br>Score: %{customdata[1]}<br><extra></extra>",
         "legendgroup": "DecisionTreeClassifier",
         "marker": {
          "color": "#46bac2",
          "pattern": {
           "shape": ""
          }
         },
         "name": "DecisionTreeClassifier",
         "offsetgroup": "DecisionTreeClassifier",
         "orientation": "h",
         "showlegend": false,
         "textposition": "auto",
         "type": "bar",
         "x": [
          -0.1745152354570637
         ],
         "xaxis": "x2",
         "y": [
          0.5
         ],
         "yaxis": "y2"
        },
        {
         "alignmentgroup": "True",
         "customdata": [
          [
           "0_young",
           0.482,
           "DecisionTreeClassifier"
          ]
         ],
         "hovertemplate": "<b>%{customdata[2]}</b><br>Subgroup: %{customdata[0]}<br>Score: %{customdata[1]}<br><extra></extra>",
         "legendgroup": "DecisionTreeClassifier",
         "marker": {
          "color": "#46bac2",
          "pattern": {
           "shape": ""
          }
         },
         "name": "DecisionTreeClassifier",
         "offsetgroup": "DecisionTreeClassifier",
         "orientation": "h",
         "showlegend": false,
         "textposition": "auto",
         "type": "bar",
         "x": [
          -0.5184743742550655
         ],
         "xaxis": "x",
         "y": [
          0.5
         ],
         "yaxis": "y"
        }
       ],
       "layout": {
        "annotations": [
         {
          "font": {
           "size": 15
          },
          "showarrow": false,
          "text": "Statistical parity ratio   (TP + FP)/(TP + FP + TN + FN)",
          "x": 0.05,
          "xanchor": "left",
          "xref": "paper",
          "y": 0.144,
          "yanchor": "bottom",
          "yref": "paper"
         },
         {
          "font": {
           "size": 15
          },
          "showarrow": false,
          "text": "Accuracy equality ratio    (TP + TN)/(TP + FP + TN + FN)",
          "x": 0.05,
          "xanchor": "left",
          "xref": "paper",
          "y": 0.358,
          "yanchor": "bottom",
          "yref": "paper"
         },
         {
          "font": {
           "size": 15
          },
          "showarrow": false,
          "text": "Predictive equality ratio   FP/(FP + TN)",
          "x": 0.05,
          "xanchor": "left",
          "xref": "paper",
          "y": 0.572,
          "yanchor": "bottom",
          "yref": "paper"
         },
         {
          "font": {
           "size": 15
          },
          "showarrow": false,
          "text": "Predictive parity ratio     TP/(TP + FP)",
          "x": 0.05,
          "xanchor": "left",
          "xref": "paper",
          "y": 0.7859999999999999,
          "yanchor": "bottom",
          "yref": "paper"
         },
         {
          "font": {
           "size": 15
          },
          "showarrow": false,
          "text": "Equal opportunity ratio     TP/(TP + FN)",
          "x": 0.05,
          "xanchor": "left",
          "xref": "paper",
          "y": 1,
          "yanchor": "bottom",
          "yref": "paper"
         }
        ],
        "barmode": "group",
        "font": {
         "color": "#371ea3"
        },
        "legend": {
         "title": {
          "text": "label"
         },
         "tracegroupgap": 0
        },
        "margin": {
         "b": 71,
         "r": 30,
         "t": 78
        },
        "shapes": [
         {
          "fillcolor": "#f05a71",
          "layer": "below",
          "line": {
           "width": 0
          },
          "opacity": 0.1,
          "type": "rect",
          "x0": 0.25,
          "x1": 0.3,
          "xref": "x",
          "y0": 0,
          "y1": 1,
          "yref": "y"
         },
         {
          "fillcolor": "#f05a71",
          "layer": "below",
          "line": {
           "width": 0
          },
          "opacity": 0.1,
          "type": "rect",
          "x0": -0.709375,
          "x1": -0.19999999999999996,
          "xref": "x",
          "y0": 0,
          "y1": 1,
          "yref": "y"
         },
         {
          "fillcolor": "#c7f5bf",
          "layer": "below",
          "line": {
           "width": 0
          },
          "opacity": 0.1,
          "type": "rect",
          "x0": -0.19999999999999996,
          "x1": 0.25,
          "xref": "x",
          "y0": 0,
          "y1": 1,
          "yref": "y"
         },
         {
          "line": {
           "color": "#371ea3",
           "width": 1.5
          },
          "type": "line",
          "x0": 0,
          "x1": 0,
          "xref": "x",
          "y0": 0,
          "y1": 1,
          "yref": "y"
         },
         {
          "fillcolor": "#f05a71",
          "layer": "below",
          "line": {
           "width": 0
          },
          "opacity": 0.1,
          "type": "rect",
          "x0": 0.25,
          "x1": 0.3,
          "xref": "x",
          "y0": 0,
          "y1": 1,
          "yref": "y2"
         },
         {
          "fillcolor": "#f05a71",
          "layer": "below",
          "line": {
           "width": 0
          },
          "opacity": 0.1,
          "type": "rect",
          "x0": -0.709375,
          "x1": -0.19999999999999996,
          "xref": "x",
          "y0": 0,
          "y1": 1,
          "yref": "y2"
         },
         {
          "fillcolor": "#c7f5bf",
          "layer": "below",
          "line": {
           "width": 0
          },
          "opacity": 0.1,
          "type": "rect",
          "x0": -0.19999999999999996,
          "x1": 0.25,
          "xref": "x",
          "y0": 0,
          "y1": 1,
          "yref": "y2"
         },
         {
          "line": {
           "color": "#371ea3",
           "width": 1.5
          },
          "type": "line",
          "x0": 0,
          "x1": 0,
          "xref": "x",
          "y0": 0,
          "y1": 1,
          "yref": "y2"
         },
         {
          "fillcolor": "#f05a71",
          "layer": "below",
          "line": {
           "width": 0
          },
          "opacity": 0.1,
          "type": "rect",
          "x0": 0.25,
          "x1": 0.3,
          "xref": "x",
          "y0": 0,
          "y1": 1,
          "yref": "y3"
         },
         {
          "fillcolor": "#f05a71",
          "layer": "below",
          "line": {
           "width": 0
          },
          "opacity": 0.1,
          "type": "rect",
          "x0": -0.709375,
          "x1": -0.19999999999999996,
          "xref": "x",
          "y0": 0,
          "y1": 1,
          "yref": "y3"
         },
         {
          "fillcolor": "#c7f5bf",
          "layer": "below",
          "line": {
           "width": 0
          },
          "opacity": 0.1,
          "type": "rect",
          "x0": -0.19999999999999996,
          "x1": 0.25,
          "xref": "x",
          "y0": 0,
          "y1": 1,
          "yref": "y3"
         },
         {
          "line": {
           "color": "#371ea3",
           "width": 1.5
          },
          "type": "line",
          "x0": 0,
          "x1": 0,
          "xref": "x",
          "y0": 0,
          "y1": 1,
          "yref": "y3"
         },
         {
          "fillcolor": "#f05a71",
          "layer": "below",
          "line": {
           "width": 0
          },
          "opacity": 0.1,
          "type": "rect",
          "x0": 0.25,
          "x1": 0.3,
          "xref": "x",
          "y0": 0,
          "y1": 1,
          "yref": "y4"
         },
         {
          "fillcolor": "#f05a71",
          "layer": "below",
          "line": {
           "width": 0
          },
          "opacity": 0.1,
          "type": "rect",
          "x0": -0.709375,
          "x1": -0.19999999999999996,
          "xref": "x",
          "y0": 0,
          "y1": 1,
          "yref": "y4"
         },
         {
          "fillcolor": "#c7f5bf",
          "layer": "below",
          "line": {
           "width": 0
          },
          "opacity": 0.1,
          "type": "rect",
          "x0": -0.19999999999999996,
          "x1": 0.25,
          "xref": "x",
          "y0": 0,
          "y1": 1,
          "yref": "y4"
         },
         {
          "line": {
           "color": "#371ea3",
           "width": 1.5
          },
          "type": "line",
          "x0": 0,
          "x1": 0,
          "xref": "x",
          "y0": 0,
          "y1": 1,
          "yref": "y4"
         },
         {
          "fillcolor": "#f05a71",
          "layer": "below",
          "line": {
           "width": 0
          },
          "opacity": 0.1,
          "type": "rect",
          "x0": 0.25,
          "x1": 0.3,
          "xref": "x",
          "y0": 0,
          "y1": 1,
          "yref": "y5"
         },
         {
          "fillcolor": "#f05a71",
          "layer": "below",
          "line": {
           "width": 0
          },
          "opacity": 0.1,
          "type": "rect",
          "x0": -0.709375,
          "x1": -0.19999999999999996,
          "xref": "x",
          "y0": 0,
          "y1": 1,
          "yref": "y5"
         },
         {
          "fillcolor": "#c7f5bf",
          "layer": "below",
          "line": {
           "width": 0
          },
          "opacity": 0.1,
          "type": "rect",
          "x0": -0.19999999999999996,
          "x1": 0.25,
          "xref": "x",
          "y0": 0,
          "y1": 1,
          "yref": "y5"
         },
         {
          "line": {
           "color": "#371ea3",
           "width": 1.5
          },
          "type": "line",
          "x0": 0,
          "x1": 0,
          "xref": "x",
          "y0": 0,
          "y1": 1,
          "yref": "y5"
         }
        ],
        "template": {
         "data": {
          "bar": [
           {
            "error_x": {
             "color": "#2a3f5f"
            },
            "error_y": {
             "color": "#2a3f5f"
            },
            "marker": {
             "line": {
              "color": "white",
              "width": 0.5
             },
             "pattern": {
              "fillmode": "overlay",
              "size": 10,
              "solidity": 0.2
             }
            },
            "type": "bar"
           }
          ],
          "barpolar": [
           {
            "marker": {
             "line": {
              "color": "white",
              "width": 0.5
             },
             "pattern": {
              "fillmode": "overlay",
              "size": 10,
              "solidity": 0.2
             }
            },
            "type": "barpolar"
           }
          ],
          "carpet": [
           {
            "aaxis": {
             "endlinecolor": "#2a3f5f",
             "gridcolor": "#C8D4E3",
             "linecolor": "#C8D4E3",
             "minorgridcolor": "#C8D4E3",
             "startlinecolor": "#2a3f5f"
            },
            "baxis": {
             "endlinecolor": "#2a3f5f",
             "gridcolor": "#C8D4E3",
             "linecolor": "#C8D4E3",
             "minorgridcolor": "#C8D4E3",
             "startlinecolor": "#2a3f5f"
            },
            "type": "carpet"
           }
          ],
          "choropleth": [
           {
            "colorbar": {
             "outlinewidth": 0,
             "ticks": ""
            },
            "type": "choropleth"
           }
          ],
          "contour": [
           {
            "colorbar": {
             "outlinewidth": 0,
             "ticks": ""
            },
            "colorscale": [
             [
              0,
              "#0d0887"
             ],
             [
              0.1111111111111111,
              "#46039f"
             ],
             [
              0.2222222222222222,
              "#7201a8"
             ],
             [
              0.3333333333333333,
              "#9c179e"
             ],
             [
              0.4444444444444444,
              "#bd3786"
             ],
             [
              0.5555555555555556,
              "#d8576b"
             ],
             [
              0.6666666666666666,
              "#ed7953"
             ],
             [
              0.7777777777777778,
              "#fb9f3a"
             ],
             [
              0.8888888888888888,
              "#fdca26"
             ],
             [
              1,
              "#f0f921"
             ]
            ],
            "type": "contour"
           }
          ],
          "contourcarpet": [
           {
            "colorbar": {
             "outlinewidth": 0,
             "ticks": ""
            },
            "type": "contourcarpet"
           }
          ],
          "heatmap": [
           {
            "colorbar": {
             "outlinewidth": 0,
             "ticks": ""
            },
            "colorscale": [
             [
              0,
              "#0d0887"
             ],
             [
              0.1111111111111111,
              "#46039f"
             ],
             [
              0.2222222222222222,
              "#7201a8"
             ],
             [
              0.3333333333333333,
              "#9c179e"
             ],
             [
              0.4444444444444444,
              "#bd3786"
             ],
             [
              0.5555555555555556,
              "#d8576b"
             ],
             [
              0.6666666666666666,
              "#ed7953"
             ],
             [
              0.7777777777777778,
              "#fb9f3a"
             ],
             [
              0.8888888888888888,
              "#fdca26"
             ],
             [
              1,
              "#f0f921"
             ]
            ],
            "type": "heatmap"
           }
          ],
          "heatmapgl": [
           {
            "colorbar": {
             "outlinewidth": 0,
             "ticks": ""
            },
            "colorscale": [
             [
              0,
              "#0d0887"
             ],
             [
              0.1111111111111111,
              "#46039f"
             ],
             [
              0.2222222222222222,
              "#7201a8"
             ],
             [
              0.3333333333333333,
              "#9c179e"
             ],
             [
              0.4444444444444444,
              "#bd3786"
             ],
             [
              0.5555555555555556,
              "#d8576b"
             ],
             [
              0.6666666666666666,
              "#ed7953"
             ],
             [
              0.7777777777777778,
              "#fb9f3a"
             ],
             [
              0.8888888888888888,
              "#fdca26"
             ],
             [
              1,
              "#f0f921"
             ]
            ],
            "type": "heatmapgl"
           }
          ],
          "histogram": [
           {
            "marker": {
             "pattern": {
              "fillmode": "overlay",
              "size": 10,
              "solidity": 0.2
             }
            },
            "type": "histogram"
           }
          ],
          "histogram2d": [
           {
            "colorbar": {
             "outlinewidth": 0,
             "ticks": ""
            },
            "colorscale": [
             [
              0,
              "#0d0887"
             ],
             [
              0.1111111111111111,
              "#46039f"
             ],
             [
              0.2222222222222222,
              "#7201a8"
             ],
             [
              0.3333333333333333,
              "#9c179e"
             ],
             [
              0.4444444444444444,
              "#bd3786"
             ],
             [
              0.5555555555555556,
              "#d8576b"
             ],
             [
              0.6666666666666666,
              "#ed7953"
             ],
             [
              0.7777777777777778,
              "#fb9f3a"
             ],
             [
              0.8888888888888888,
              "#fdca26"
             ],
             [
              1,
              "#f0f921"
             ]
            ],
            "type": "histogram2d"
           }
          ],
          "histogram2dcontour": [
           {
            "colorbar": {
             "outlinewidth": 0,
             "ticks": ""
            },
            "colorscale": [
             [
              0,
              "#0d0887"
             ],
             [
              0.1111111111111111,
              "#46039f"
             ],
             [
              0.2222222222222222,
              "#7201a8"
             ],
             [
              0.3333333333333333,
              "#9c179e"
             ],
             [
              0.4444444444444444,
              "#bd3786"
             ],
             [
              0.5555555555555556,
              "#d8576b"
             ],
             [
              0.6666666666666666,
              "#ed7953"
             ],
             [
              0.7777777777777778,
              "#fb9f3a"
             ],
             [
              0.8888888888888888,
              "#fdca26"
             ],
             [
              1,
              "#f0f921"
             ]
            ],
            "type": "histogram2dcontour"
           }
          ],
          "mesh3d": [
           {
            "colorbar": {
             "outlinewidth": 0,
             "ticks": ""
            },
            "type": "mesh3d"
           }
          ],
          "parcoords": [
           {
            "line": {
             "colorbar": {
              "outlinewidth": 0,
              "ticks": ""
             }
            },
            "type": "parcoords"
           }
          ],
          "pie": [
           {
            "automargin": true,
            "type": "pie"
           }
          ],
          "scatter": [
           {
            "marker": {
             "colorbar": {
              "outlinewidth": 0,
              "ticks": ""
             }
            },
            "type": "scatter"
           }
          ],
          "scatter3d": [
           {
            "line": {
             "colorbar": {
              "outlinewidth": 0,
              "ticks": ""
             }
            },
            "marker": {
             "colorbar": {
              "outlinewidth": 0,
              "ticks": ""
             }
            },
            "type": "scatter3d"
           }
          ],
          "scattercarpet": [
           {
            "marker": {
             "colorbar": {
              "outlinewidth": 0,
              "ticks": ""
             }
            },
            "type": "scattercarpet"
           }
          ],
          "scattergeo": [
           {
            "marker": {
             "colorbar": {
              "outlinewidth": 0,
              "ticks": ""
             }
            },
            "type": "scattergeo"
           }
          ],
          "scattergl": [
           {
            "marker": {
             "colorbar": {
              "outlinewidth": 0,
              "ticks": ""
             }
            },
            "type": "scattergl"
           }
          ],
          "scattermapbox": [
           {
            "marker": {
             "colorbar": {
              "outlinewidth": 0,
              "ticks": ""
             }
            },
            "type": "scattermapbox"
           }
          ],
          "scatterpolar": [
           {
            "marker": {
             "colorbar": {
              "outlinewidth": 0,
              "ticks": ""
             }
            },
            "type": "scatterpolar"
           }
          ],
          "scatterpolargl": [
           {
            "marker": {
             "colorbar": {
              "outlinewidth": 0,
              "ticks": ""
             }
            },
            "type": "scatterpolargl"
           }
          ],
          "scatterternary": [
           {
            "marker": {
             "colorbar": {
              "outlinewidth": 0,
              "ticks": ""
             }
            },
            "type": "scatterternary"
           }
          ],
          "surface": [
           {
            "colorbar": {
             "outlinewidth": 0,
             "ticks": ""
            },
            "colorscale": [
             [
              0,
              "#0d0887"
             ],
             [
              0.1111111111111111,
              "#46039f"
             ],
             [
              0.2222222222222222,
              "#7201a8"
             ],
             [
              0.3333333333333333,
              "#9c179e"
             ],
             [
              0.4444444444444444,
              "#bd3786"
             ],
             [
              0.5555555555555556,
              "#d8576b"
             ],
             [
              0.6666666666666666,
              "#ed7953"
             ],
             [
              0.7777777777777778,
              "#fb9f3a"
             ],
             [
              0.8888888888888888,
              "#fdca26"
             ],
             [
              1,
              "#f0f921"
             ]
            ],
            "type": "surface"
           }
          ],
          "table": [
           {
            "cells": {
             "fill": {
              "color": "#EBF0F8"
             },
             "line": {
              "color": "white"
             }
            },
            "header": {
             "fill": {
              "color": "#C8D4E3"
             },
             "line": {
              "color": "white"
             }
            },
            "type": "table"
           }
          ]
         },
         "layout": {
          "annotationdefaults": {
           "arrowcolor": "#2a3f5f",
           "arrowhead": 0,
           "arrowwidth": 1
          },
          "autotypenumbers": "strict",
          "coloraxis": {
           "colorbar": {
            "outlinewidth": 0,
            "ticks": ""
           }
          },
          "colorscale": {
           "diverging": [
            [
             0,
             "#8e0152"
            ],
            [
             0.1,
             "#c51b7d"
            ],
            [
             0.2,
             "#de77ae"
            ],
            [
             0.3,
             "#f1b6da"
            ],
            [
             0.4,
             "#fde0ef"
            ],
            [
             0.5,
             "#f7f7f7"
            ],
            [
             0.6,
             "#e6f5d0"
            ],
            [
             0.7,
             "#b8e186"
            ],
            [
             0.8,
             "#7fbc41"
            ],
            [
             0.9,
             "#4d9221"
            ],
            [
             1,
             "#276419"
            ]
           ],
           "sequential": [
            [
             0,
             "#0d0887"
            ],
            [
             0.1111111111111111,
             "#46039f"
            ],
            [
             0.2222222222222222,
             "#7201a8"
            ],
            [
             0.3333333333333333,
             "#9c179e"
            ],
            [
             0.4444444444444444,
             "#bd3786"
            ],
            [
             0.5555555555555556,
             "#d8576b"
            ],
            [
             0.6666666666666666,
             "#ed7953"
            ],
            [
             0.7777777777777778,
             "#fb9f3a"
            ],
            [
             0.8888888888888888,
             "#fdca26"
            ],
            [
             1,
             "#f0f921"
            ]
           ],
           "sequentialminus": [
            [
             0,
             "#0d0887"
            ],
            [
             0.1111111111111111,
             "#46039f"
            ],
            [
             0.2222222222222222,
             "#7201a8"
            ],
            [
             0.3333333333333333,
             "#9c179e"
            ],
            [
             0.4444444444444444,
             "#bd3786"
            ],
            [
             0.5555555555555556,
             "#d8576b"
            ],
            [
             0.6666666666666666,
             "#ed7953"
            ],
            [
             0.7777777777777778,
             "#fb9f3a"
            ],
            [
             0.8888888888888888,
             "#fdca26"
            ],
            [
             1,
             "#f0f921"
            ]
           ]
          },
          "colorway": [
           "#636efa",
           "#EF553B",
           "#00cc96",
           "#ab63fa",
           "#FFA15A",
           "#19d3f3",
           "#FF6692",
           "#B6E880",
           "#FF97FF",
           "#FECB52"
          ],
          "font": {
           "color": "#2a3f5f"
          },
          "geo": {
           "bgcolor": "white",
           "lakecolor": "white",
           "landcolor": "white",
           "showlakes": true,
           "showland": true,
           "subunitcolor": "#C8D4E3"
          },
          "hoverlabel": {
           "align": "left"
          },
          "hovermode": "closest",
          "mapbox": {
           "style": "light"
          },
          "paper_bgcolor": "white",
          "plot_bgcolor": "white",
          "polar": {
           "angularaxis": {
            "gridcolor": "#EBF0F8",
            "linecolor": "#EBF0F8",
            "ticks": ""
           },
           "bgcolor": "white",
           "radialaxis": {
            "gridcolor": "#EBF0F8",
            "linecolor": "#EBF0F8",
            "ticks": ""
           }
          },
          "scene": {
           "xaxis": {
            "backgroundcolor": "white",
            "gridcolor": "#DFE8F3",
            "gridwidth": 2,
            "linecolor": "#EBF0F8",
            "showbackground": true,
            "ticks": "",
            "zerolinecolor": "#EBF0F8"
           },
           "yaxis": {
            "backgroundcolor": "white",
            "gridcolor": "#DFE8F3",
            "gridwidth": 2,
            "linecolor": "#EBF0F8",
            "showbackground": true,
            "ticks": "",
            "zerolinecolor": "#EBF0F8"
           },
           "zaxis": {
            "backgroundcolor": "white",
            "gridcolor": "#DFE8F3",
            "gridwidth": 2,
            "linecolor": "#EBF0F8",
            "showbackground": true,
            "ticks": "",
            "zerolinecolor": "#EBF0F8"
           }
          },
          "shapedefaults": {
           "line": {
            "color": "#2a3f5f"
           }
          },
          "ternary": {
           "aaxis": {
            "gridcolor": "#DFE8F3",
            "linecolor": "#A2B1C6",
            "ticks": ""
           },
           "baxis": {
            "gridcolor": "#DFE8F3",
            "linecolor": "#A2B1C6",
            "ticks": ""
           },
           "bgcolor": "white",
           "caxis": {
            "gridcolor": "#DFE8F3",
            "linecolor": "#A2B1C6",
            "ticks": ""
           }
          },
          "title": {
           "x": 0.05
          },
          "xaxis": {
           "automargin": true,
           "gridcolor": "#EBF0F8",
           "linecolor": "#EBF0F8",
           "ticks": "",
           "title": {
            "standoff": 15
           },
           "zerolinecolor": "#EBF0F8",
           "zerolinewidth": 2
          },
          "yaxis": {
           "automargin": true,
           "gridcolor": "#EBF0F8",
           "linecolor": "#EBF0F8",
           "ticks": "",
           "title": {
            "standoff": 15
           },
           "zerolinecolor": "#EBF0F8",
           "zerolinewidth": 2
          }
         }
        },
        "title": {
         "font": {
          "size": 25
         },
         "text": "Fairness Check",
         "x": 0.5,
         "y": 0.99
        },
        "xaxis": {
         "anchor": "y",
         "domain": [
          0,
          1
         ],
         "range": [
          -0.709375,
          0.3
         ],
         "ticktext": [
          0.2,
          0.4,
          0.6,
          0.8,
          1,
          1.2,
          1.4,
          1
         ],
         "tickvals": [
          -0.8,
          -0.6,
          -0.4,
          -0.19999999999999996,
          0,
          0.19999999999999996,
          0.3999999999999999,
          0
         ],
         "title": {
          "text": "score"
         }
        },
        "xaxis2": {
         "anchor": "y2",
         "domain": [
          0,
          1
         ],
         "matches": "x",
         "range": [
          -0.709375,
          0.3
         ],
         "showticklabels": false,
         "ticktext": [
          0.2,
          0.4,
          0.6,
          0.8,
          1,
          1.2,
          1.4,
          1
         ],
         "tickvals": [
          -0.8,
          -0.6,
          -0.4,
          -0.19999999999999996,
          0,
          0.19999999999999996,
          0.3999999999999999,
          0
         ]
        },
        "xaxis3": {
         "anchor": "y3",
         "domain": [
          0,
          1
         ],
         "matches": "x",
         "range": [
          -0.709375,
          0.3
         ],
         "showticklabels": false,
         "ticktext": [
          0.2,
          0.4,
          0.6,
          0.8,
          1,
          1.2,
          1.4,
          1
         ],
         "tickvals": [
          -0.8,
          -0.6,
          -0.4,
          -0.19999999999999996,
          0,
          0.19999999999999996,
          0.3999999999999999,
          0
         ]
        },
        "xaxis4": {
         "anchor": "y4",
         "domain": [
          0,
          1
         ],
         "matches": "x",
         "range": [
          -0.709375,
          0.3
         ],
         "showticklabels": false,
         "ticktext": [
          0.2,
          0.4,
          0.6,
          0.8,
          1,
          1.2,
          1.4,
          1
         ],
         "tickvals": [
          -0.8,
          -0.6,
          -0.4,
          -0.19999999999999996,
          0,
          0.19999999999999996,
          0.3999999999999999,
          0
         ]
        },
        "xaxis5": {
         "anchor": "y5",
         "domain": [
          0,
          1
         ],
         "matches": "x",
         "range": [
          -0.709375,
          0.3
         ],
         "showticklabels": false,
         "ticktext": [
          0.2,
          0.4,
          0.6,
          0.8,
          1,
          1.2,
          1.4,
          1
         ],
         "tickvals": [
          -0.8,
          -0.6,
          -0.4,
          -0.19999999999999996,
          0,
          0.19999999999999996,
          0.3999999999999999,
          0
         ]
        },
        "yaxis": {
         "anchor": "x",
         "domain": [
          0,
          0.144
         ],
         "range": [
          0,
          1
         ],
         "showgrid": false,
         "ticktext": [
          "0_young"
         ],
         "tickvals": [
          0.5
         ],
         "title": {
          "text": ""
         },
         "zeroline": false
        },
        "yaxis2": {
         "anchor": "x2",
         "domain": [
          0.214,
          0.358
         ],
         "matches": "y",
         "range": [
          0,
          1
         ],
         "showgrid": false,
         "ticktext": [
          "0_young"
         ],
         "tickvals": [
          0.5
         ],
         "title": {
          "text": ""
         },
         "zeroline": false
        },
        "yaxis3": {
         "anchor": "x3",
         "domain": [
          0.428,
          0.572
         ],
         "matches": "y",
         "range": [
          0,
          1
         ],
         "showgrid": false,
         "ticktext": [
          "0_young"
         ],
         "tickvals": [
          0.5
         ],
         "title": {
          "text": "subgroup"
         },
         "zeroline": false
        },
        "yaxis4": {
         "anchor": "x4",
         "domain": [
          0.6419999999999999,
          0.7859999999999999
         ],
         "matches": "y",
         "range": [
          0,
          1
         ],
         "showgrid": false,
         "ticktext": [
          "0_young"
         ],
         "tickvals": [
          0.5
         ],
         "title": {
          "text": ""
         },
         "zeroline": false
        },
        "yaxis5": {
         "anchor": "x5",
         "domain": [
          0.856,
          1
         ],
         "matches": "y",
         "range": [
          0,
          1
         ],
         "showgrid": false,
         "ticktext": [
          "0_young"
         ],
         "tickvals": [
          0.5
         ],
         "title": {
          "text": ""
         },
         "zeroline": false
        }
       }
      },
      "text/html": [
       "<div>                            <div id=\"b322b669-e391-463c-9574-fe9e9e6ff30e\" class=\"plotly-graph-div\" style=\"height:525px; width:100%;\"></div>            <script type=\"text/javascript\">                require([\"plotly\"], function(Plotly) {                    window.PLOTLYENV=window.PLOTLYENV || {};                                    if (document.getElementById(\"b322b669-e391-463c-9574-fe9e9e6ff30e\")) {                    Plotly.newPlot(                        \"b322b669-e391-463c-9574-fe9e9e6ff30e\",                        [{\"alignmentgroup\":\"True\",\"customdata\":[[\"0_young\",0.56,\"DecisionTreeClassifier\"]],\"hovertemplate\":\"<b>%{customdata[2]}</b><br>Subgroup: %{customdata[0]}<br>Score: %{customdata[1]}<br><extra></extra>\",\"legendgroup\":\"DecisionTreeClassifier\",\"marker\":{\"color\":\"#46bac2\",\"pattern\":{\"shape\":\"\"}},\"name\":\"DecisionTreeClassifier\",\"offsetgroup\":\"DecisionTreeClassifier\",\"orientation\":\"h\",\"showlegend\":true,\"textposition\":\"auto\",\"type\":\"bar\",\"x\":[-0.4400895856662934],\"xaxis\":\"x5\",\"y\":[0.5],\"yaxis\":\"y5\"},{\"alignmentgroup\":\"True\",\"customdata\":[[\"0_young\",1.003,\"DecisionTreeClassifier\"]],\"hovertemplate\":\"<b>%{customdata[2]}</b><br>Subgroup: %{customdata[0]}<br>Score: %{customdata[1]}<br><extra></extra>\",\"legendgroup\":\"DecisionTreeClassifier\",\"marker\":{\"color\":\"#46bac2\",\"pattern\":{\"shape\":\"\"}},\"name\":\"DecisionTreeClassifier\",\"offsetgroup\":\"DecisionTreeClassifier\",\"orientation\":\"h\",\"showlegend\":false,\"textposition\":\"auto\",\"type\":\"bar\",\"x\":[0.002631578947368318],\"xaxis\":\"x4\",\"y\":[0.5],\"yaxis\":\"y4\"},{\"alignmentgroup\":\"True\",\"customdata\":[[\"0_young\",0.355,\"DecisionTreeClassifier\"]],\"hovertemplate\":\"<b>%{customdata[2]}</b><br>Subgroup: %{customdata[0]}<br>Score: %{customdata[1]}<br><extra></extra>\",\"legendgroup\":\"DecisionTreeClassifier\",\"marker\":{\"color\":\"#46bac2\",\"pattern\":{\"shape\":\"\"}},\"name\":\"DecisionTreeClassifier\",\"offsetgroup\":\"DecisionTreeClassifier\",\"orientation\":\"h\",\"showlegend\":false,\"textposition\":\"auto\",\"type\":\"bar\",\"x\":[-0.6448863636363635],\"xaxis\":\"x3\",\"y\":[0.5],\"yaxis\":\"y3\"},{\"alignmentgroup\":\"True\",\"customdata\":[[\"0_young\",0.825,\"DecisionTreeClassifier\"]],\"hovertemplate\":\"<b>%{customdata[2]}</b><br>Subgroup: %{customdata[0]}<br>Score: %{customdata[1]}<br><extra></extra>\",\"legendgroup\":\"DecisionTreeClassifier\",\"marker\":{\"color\":\"#46bac2\",\"pattern\":{\"shape\":\"\"}},\"name\":\"DecisionTreeClassifier\",\"offsetgroup\":\"DecisionTreeClassifier\",\"orientation\":\"h\",\"showlegend\":false,\"textposition\":\"auto\",\"type\":\"bar\",\"x\":[-0.1745152354570637],\"xaxis\":\"x2\",\"y\":[0.5],\"yaxis\":\"y2\"},{\"alignmentgroup\":\"True\",\"customdata\":[[\"0_young\",0.482,\"DecisionTreeClassifier\"]],\"hovertemplate\":\"<b>%{customdata[2]}</b><br>Subgroup: %{customdata[0]}<br>Score: %{customdata[1]}<br><extra></extra>\",\"legendgroup\":\"DecisionTreeClassifier\",\"marker\":{\"color\":\"#46bac2\",\"pattern\":{\"shape\":\"\"}},\"name\":\"DecisionTreeClassifier\",\"offsetgroup\":\"DecisionTreeClassifier\",\"orientation\":\"h\",\"showlegend\":false,\"textposition\":\"auto\",\"type\":\"bar\",\"x\":[-0.5184743742550655],\"xaxis\":\"x\",\"y\":[0.5],\"yaxis\":\"y\"}],                        {\"annotations\":[{\"font\":{\"size\":15},\"showarrow\":false,\"text\":\"Statistical parity ratio   (TP + FP)/(TP + FP + TN + FN)\",\"x\":0.05,\"xanchor\":\"left\",\"xref\":\"paper\",\"y\":0.144,\"yanchor\":\"bottom\",\"yref\":\"paper\"},{\"font\":{\"size\":15},\"showarrow\":false,\"text\":\"Accuracy equality ratio    (TP + TN)/(TP + FP + TN + FN)\",\"x\":0.05,\"xanchor\":\"left\",\"xref\":\"paper\",\"y\":0.358,\"yanchor\":\"bottom\",\"yref\":\"paper\"},{\"font\":{\"size\":15},\"showarrow\":false,\"text\":\"Predictive equality ratio   FP/(FP + TN)\",\"x\":0.05,\"xanchor\":\"left\",\"xref\":\"paper\",\"y\":0.572,\"yanchor\":\"bottom\",\"yref\":\"paper\"},{\"font\":{\"size\":15},\"showarrow\":false,\"text\":\"Predictive parity ratio     TP/(TP + FP)\",\"x\":0.05,\"xanchor\":\"left\",\"xref\":\"paper\",\"y\":0.7859999999999999,\"yanchor\":\"bottom\",\"yref\":\"paper\"},{\"font\":{\"size\":15},\"showarrow\":false,\"text\":\"Equal opportunity ratio     TP/(TP + FN)\",\"x\":0.05,\"xanchor\":\"left\",\"xref\":\"paper\",\"y\":1.0,\"yanchor\":\"bottom\",\"yref\":\"paper\"}],\"barmode\":\"group\",\"font\":{\"color\":\"#371ea3\"},\"legend\":{\"title\":{\"text\":\"label\"},\"tracegroupgap\":0},\"margin\":{\"b\":71,\"r\":30,\"t\":78},\"shapes\":[{\"fillcolor\":\"#f05a71\",\"layer\":\"below\",\"line\":{\"width\":0},\"opacity\":0.1,\"type\":\"rect\",\"x0\":0.25,\"x1\":0.3,\"xref\":\"x\",\"y0\":0,\"y1\":1,\"yref\":\"y\"},{\"fillcolor\":\"#f05a71\",\"layer\":\"below\",\"line\":{\"width\":0},\"opacity\":0.1,\"type\":\"rect\",\"x0\":-0.709375,\"x1\":-0.19999999999999996,\"xref\":\"x\",\"y0\":0,\"y1\":1,\"yref\":\"y\"},{\"fillcolor\":\"#c7f5bf\",\"layer\":\"below\",\"line\":{\"width\":0},\"opacity\":0.1,\"type\":\"rect\",\"x0\":-0.19999999999999996,\"x1\":0.25,\"xref\":\"x\",\"y0\":0,\"y1\":1,\"yref\":\"y\"},{\"line\":{\"color\":\"#371ea3\",\"width\":1.5},\"type\":\"line\",\"x0\":0,\"x1\":0,\"xref\":\"x\",\"y0\":0,\"y1\":1,\"yref\":\"y\"},{\"fillcolor\":\"#f05a71\",\"layer\":\"below\",\"line\":{\"width\":0},\"opacity\":0.1,\"type\":\"rect\",\"x0\":0.25,\"x1\":0.3,\"xref\":\"x\",\"y0\":0,\"y1\":1,\"yref\":\"y2\"},{\"fillcolor\":\"#f05a71\",\"layer\":\"below\",\"line\":{\"width\":0},\"opacity\":0.1,\"type\":\"rect\",\"x0\":-0.709375,\"x1\":-0.19999999999999996,\"xref\":\"x\",\"y0\":0,\"y1\":1,\"yref\":\"y2\"},{\"fillcolor\":\"#c7f5bf\",\"layer\":\"below\",\"line\":{\"width\":0},\"opacity\":0.1,\"type\":\"rect\",\"x0\":-0.19999999999999996,\"x1\":0.25,\"xref\":\"x\",\"y0\":0,\"y1\":1,\"yref\":\"y2\"},{\"line\":{\"color\":\"#371ea3\",\"width\":1.5},\"type\":\"line\",\"x0\":0,\"x1\":0,\"xref\":\"x\",\"y0\":0,\"y1\":1,\"yref\":\"y2\"},{\"fillcolor\":\"#f05a71\",\"layer\":\"below\",\"line\":{\"width\":0},\"opacity\":0.1,\"type\":\"rect\",\"x0\":0.25,\"x1\":0.3,\"xref\":\"x\",\"y0\":0,\"y1\":1,\"yref\":\"y3\"},{\"fillcolor\":\"#f05a71\",\"layer\":\"below\",\"line\":{\"width\":0},\"opacity\":0.1,\"type\":\"rect\",\"x0\":-0.709375,\"x1\":-0.19999999999999996,\"xref\":\"x\",\"y0\":0,\"y1\":1,\"yref\":\"y3\"},{\"fillcolor\":\"#c7f5bf\",\"layer\":\"below\",\"line\":{\"width\":0},\"opacity\":0.1,\"type\":\"rect\",\"x0\":-0.19999999999999996,\"x1\":0.25,\"xref\":\"x\",\"y0\":0,\"y1\":1,\"yref\":\"y3\"},{\"line\":{\"color\":\"#371ea3\",\"width\":1.5},\"type\":\"line\",\"x0\":0,\"x1\":0,\"xref\":\"x\",\"y0\":0,\"y1\":1,\"yref\":\"y3\"},{\"fillcolor\":\"#f05a71\",\"layer\":\"below\",\"line\":{\"width\":0},\"opacity\":0.1,\"type\":\"rect\",\"x0\":0.25,\"x1\":0.3,\"xref\":\"x\",\"y0\":0,\"y1\":1,\"yref\":\"y4\"},{\"fillcolor\":\"#f05a71\",\"layer\":\"below\",\"line\":{\"width\":0},\"opacity\":0.1,\"type\":\"rect\",\"x0\":-0.709375,\"x1\":-0.19999999999999996,\"xref\":\"x\",\"y0\":0,\"y1\":1,\"yref\":\"y4\"},{\"fillcolor\":\"#c7f5bf\",\"layer\":\"below\",\"line\":{\"width\":0},\"opacity\":0.1,\"type\":\"rect\",\"x0\":-0.19999999999999996,\"x1\":0.25,\"xref\":\"x\",\"y0\":0,\"y1\":1,\"yref\":\"y4\"},{\"line\":{\"color\":\"#371ea3\",\"width\":1.5},\"type\":\"line\",\"x0\":0,\"x1\":0,\"xref\":\"x\",\"y0\":0,\"y1\":1,\"yref\":\"y4\"},{\"fillcolor\":\"#f05a71\",\"layer\":\"below\",\"line\":{\"width\":0},\"opacity\":0.1,\"type\":\"rect\",\"x0\":0.25,\"x1\":0.3,\"xref\":\"x\",\"y0\":0,\"y1\":1,\"yref\":\"y5\"},{\"fillcolor\":\"#f05a71\",\"layer\":\"below\",\"line\":{\"width\":0},\"opacity\":0.1,\"type\":\"rect\",\"x0\":-0.709375,\"x1\":-0.19999999999999996,\"xref\":\"x\",\"y0\":0,\"y1\":1,\"yref\":\"y5\"},{\"fillcolor\":\"#c7f5bf\",\"layer\":\"below\",\"line\":{\"width\":0},\"opacity\":0.1,\"type\":\"rect\",\"x0\":-0.19999999999999996,\"x1\":0.25,\"xref\":\"x\",\"y0\":0,\"y1\":1,\"yref\":\"y5\"},{\"line\":{\"color\":\"#371ea3\",\"width\":1.5},\"type\":\"line\",\"x0\":0,\"x1\":0,\"xref\":\"x\",\"y0\":0,\"y1\":1,\"yref\":\"y5\"}],\"template\":{\"data\":{\"bar\":[{\"error_x\":{\"color\":\"#2a3f5f\"},\"error_y\":{\"color\":\"#2a3f5f\"},\"marker\":{\"line\":{\"color\":\"white\",\"width\":0.5},\"pattern\":{\"fillmode\":\"overlay\",\"size\":10,\"solidity\":0.2}},\"type\":\"bar\"}],\"barpolar\":[{\"marker\":{\"line\":{\"color\":\"white\",\"width\":0.5},\"pattern\":{\"fillmode\":\"overlay\",\"size\":10,\"solidity\":0.2}},\"type\":\"barpolar\"}],\"carpet\":[{\"aaxis\":{\"endlinecolor\":\"#2a3f5f\",\"gridcolor\":\"#C8D4E3\",\"linecolor\":\"#C8D4E3\",\"minorgridcolor\":\"#C8D4E3\",\"startlinecolor\":\"#2a3f5f\"},\"baxis\":{\"endlinecolor\":\"#2a3f5f\",\"gridcolor\":\"#C8D4E3\",\"linecolor\":\"#C8D4E3\",\"minorgridcolor\":\"#C8D4E3\",\"startlinecolor\":\"#2a3f5f\"},\"type\":\"carpet\"}],\"choropleth\":[{\"colorbar\":{\"outlinewidth\":0,\"ticks\":\"\"},\"type\":\"choropleth\"}],\"contour\":[{\"colorbar\":{\"outlinewidth\":0,\"ticks\":\"\"},\"colorscale\":[[0.0,\"#0d0887\"],[0.1111111111111111,\"#46039f\"],[0.2222222222222222,\"#7201a8\"],[0.3333333333333333,\"#9c179e\"],[0.4444444444444444,\"#bd3786\"],[0.5555555555555556,\"#d8576b\"],[0.6666666666666666,\"#ed7953\"],[0.7777777777777778,\"#fb9f3a\"],[0.8888888888888888,\"#fdca26\"],[1.0,\"#f0f921\"]],\"type\":\"contour\"}],\"contourcarpet\":[{\"colorbar\":{\"outlinewidth\":0,\"ticks\":\"\"},\"type\":\"contourcarpet\"}],\"heatmap\":[{\"colorbar\":{\"outlinewidth\":0,\"ticks\":\"\"},\"colorscale\":[[0.0,\"#0d0887\"],[0.1111111111111111,\"#46039f\"],[0.2222222222222222,\"#7201a8\"],[0.3333333333333333,\"#9c179e\"],[0.4444444444444444,\"#bd3786\"],[0.5555555555555556,\"#d8576b\"],[0.6666666666666666,\"#ed7953\"],[0.7777777777777778,\"#fb9f3a\"],[0.8888888888888888,\"#fdca26\"],[1.0,\"#f0f921\"]],\"type\":\"heatmap\"}],\"heatmapgl\":[{\"colorbar\":{\"outlinewidth\":0,\"ticks\":\"\"},\"colorscale\":[[0.0,\"#0d0887\"],[0.1111111111111111,\"#46039f\"],[0.2222222222222222,\"#7201a8\"],[0.3333333333333333,\"#9c179e\"],[0.4444444444444444,\"#bd3786\"],[0.5555555555555556,\"#d8576b\"],[0.6666666666666666,\"#ed7953\"],[0.7777777777777778,\"#fb9f3a\"],[0.8888888888888888,\"#fdca26\"],[1.0,\"#f0f921\"]],\"type\":\"heatmapgl\"}],\"histogram\":[{\"marker\":{\"pattern\":{\"fillmode\":\"overlay\",\"size\":10,\"solidity\":0.2}},\"type\":\"histogram\"}],\"histogram2d\":[{\"colorbar\":{\"outlinewidth\":0,\"ticks\":\"\"},\"colorscale\":[[0.0,\"#0d0887\"],[0.1111111111111111,\"#46039f\"],[0.2222222222222222,\"#7201a8\"],[0.3333333333333333,\"#9c179e\"],[0.4444444444444444,\"#bd3786\"],[0.5555555555555556,\"#d8576b\"],[0.6666666666666666,\"#ed7953\"],[0.7777777777777778,\"#fb9f3a\"],[0.8888888888888888,\"#fdca26\"],[1.0,\"#f0f921\"]],\"type\":\"histogram2d\"}],\"histogram2dcontour\":[{\"colorbar\":{\"outlinewidth\":0,\"ticks\":\"\"},\"colorscale\":[[0.0,\"#0d0887\"],[0.1111111111111111,\"#46039f\"],[0.2222222222222222,\"#7201a8\"],[0.3333333333333333,\"#9c179e\"],[0.4444444444444444,\"#bd3786\"],[0.5555555555555556,\"#d8576b\"],[0.6666666666666666,\"#ed7953\"],[0.7777777777777778,\"#fb9f3a\"],[0.8888888888888888,\"#fdca26\"],[1.0,\"#f0f921\"]],\"type\":\"histogram2dcontour\"}],\"mesh3d\":[{\"colorbar\":{\"outlinewidth\":0,\"ticks\":\"\"},\"type\":\"mesh3d\"}],\"parcoords\":[{\"line\":{\"colorbar\":{\"outlinewidth\":0,\"ticks\":\"\"}},\"type\":\"parcoords\"}],\"pie\":[{\"automargin\":true,\"type\":\"pie\"}],\"scatter\":[{\"marker\":{\"colorbar\":{\"outlinewidth\":0,\"ticks\":\"\"}},\"type\":\"scatter\"}],\"scatter3d\":[{\"line\":{\"colorbar\":{\"outlinewidth\":0,\"ticks\":\"\"}},\"marker\":{\"colorbar\":{\"outlinewidth\":0,\"ticks\":\"\"}},\"type\":\"scatter3d\"}],\"scattercarpet\":[{\"marker\":{\"colorbar\":{\"outlinewidth\":0,\"ticks\":\"\"}},\"type\":\"scattercarpet\"}],\"scattergeo\":[{\"marker\":{\"colorbar\":{\"outlinewidth\":0,\"ticks\":\"\"}},\"type\":\"scattergeo\"}],\"scattergl\":[{\"marker\":{\"colorbar\":{\"outlinewidth\":0,\"ticks\":\"\"}},\"type\":\"scattergl\"}],\"scattermapbox\":[{\"marker\":{\"colorbar\":{\"outlinewidth\":0,\"ticks\":\"\"}},\"type\":\"scattermapbox\"}],\"scatterpolar\":[{\"marker\":{\"colorbar\":{\"outlinewidth\":0,\"ticks\":\"\"}},\"type\":\"scatterpolar\"}],\"scatterpolargl\":[{\"marker\":{\"colorbar\":{\"outlinewidth\":0,\"ticks\":\"\"}},\"type\":\"scatterpolargl\"}],\"scatterternary\":[{\"marker\":{\"colorbar\":{\"outlinewidth\":0,\"ticks\":\"\"}},\"type\":\"scatterternary\"}],\"surface\":[{\"colorbar\":{\"outlinewidth\":0,\"ticks\":\"\"},\"colorscale\":[[0.0,\"#0d0887\"],[0.1111111111111111,\"#46039f\"],[0.2222222222222222,\"#7201a8\"],[0.3333333333333333,\"#9c179e\"],[0.4444444444444444,\"#bd3786\"],[0.5555555555555556,\"#d8576b\"],[0.6666666666666666,\"#ed7953\"],[0.7777777777777778,\"#fb9f3a\"],[0.8888888888888888,\"#fdca26\"],[1.0,\"#f0f921\"]],\"type\":\"surface\"}],\"table\":[{\"cells\":{\"fill\":{\"color\":\"#EBF0F8\"},\"line\":{\"color\":\"white\"}},\"header\":{\"fill\":{\"color\":\"#C8D4E3\"},\"line\":{\"color\":\"white\"}},\"type\":\"table\"}]},\"layout\":{\"annotationdefaults\":{\"arrowcolor\":\"#2a3f5f\",\"arrowhead\":0,\"arrowwidth\":1},\"autotypenumbers\":\"strict\",\"coloraxis\":{\"colorbar\":{\"outlinewidth\":0,\"ticks\":\"\"}},\"colorscale\":{\"diverging\":[[0,\"#8e0152\"],[0.1,\"#c51b7d\"],[0.2,\"#de77ae\"],[0.3,\"#f1b6da\"],[0.4,\"#fde0ef\"],[0.5,\"#f7f7f7\"],[0.6,\"#e6f5d0\"],[0.7,\"#b8e186\"],[0.8,\"#7fbc41\"],[0.9,\"#4d9221\"],[1,\"#276419\"]],\"sequential\":[[0.0,\"#0d0887\"],[0.1111111111111111,\"#46039f\"],[0.2222222222222222,\"#7201a8\"],[0.3333333333333333,\"#9c179e\"],[0.4444444444444444,\"#bd3786\"],[0.5555555555555556,\"#d8576b\"],[0.6666666666666666,\"#ed7953\"],[0.7777777777777778,\"#fb9f3a\"],[0.8888888888888888,\"#fdca26\"],[1.0,\"#f0f921\"]],\"sequentialminus\":[[0.0,\"#0d0887\"],[0.1111111111111111,\"#46039f\"],[0.2222222222222222,\"#7201a8\"],[0.3333333333333333,\"#9c179e\"],[0.4444444444444444,\"#bd3786\"],[0.5555555555555556,\"#d8576b\"],[0.6666666666666666,\"#ed7953\"],[0.7777777777777778,\"#fb9f3a\"],[0.8888888888888888,\"#fdca26\"],[1.0,\"#f0f921\"]]},\"colorway\":[\"#636efa\",\"#EF553B\",\"#00cc96\",\"#ab63fa\",\"#FFA15A\",\"#19d3f3\",\"#FF6692\",\"#B6E880\",\"#FF97FF\",\"#FECB52\"],\"font\":{\"color\":\"#2a3f5f\"},\"geo\":{\"bgcolor\":\"white\",\"lakecolor\":\"white\",\"landcolor\":\"white\",\"showlakes\":true,\"showland\":true,\"subunitcolor\":\"#C8D4E3\"},\"hoverlabel\":{\"align\":\"left\"},\"hovermode\":\"closest\",\"mapbox\":{\"style\":\"light\"},\"paper_bgcolor\":\"white\",\"plot_bgcolor\":\"white\",\"polar\":{\"angularaxis\":{\"gridcolor\":\"#EBF0F8\",\"linecolor\":\"#EBF0F8\",\"ticks\":\"\"},\"bgcolor\":\"white\",\"radialaxis\":{\"gridcolor\":\"#EBF0F8\",\"linecolor\":\"#EBF0F8\",\"ticks\":\"\"}},\"scene\":{\"xaxis\":{\"backgroundcolor\":\"white\",\"gridcolor\":\"#DFE8F3\",\"gridwidth\":2,\"linecolor\":\"#EBF0F8\",\"showbackground\":true,\"ticks\":\"\",\"zerolinecolor\":\"#EBF0F8\"},\"yaxis\":{\"backgroundcolor\":\"white\",\"gridcolor\":\"#DFE8F3\",\"gridwidth\":2,\"linecolor\":\"#EBF0F8\",\"showbackground\":true,\"ticks\":\"\",\"zerolinecolor\":\"#EBF0F8\"},\"zaxis\":{\"backgroundcolor\":\"white\",\"gridcolor\":\"#DFE8F3\",\"gridwidth\":2,\"linecolor\":\"#EBF0F8\",\"showbackground\":true,\"ticks\":\"\",\"zerolinecolor\":\"#EBF0F8\"}},\"shapedefaults\":{\"line\":{\"color\":\"#2a3f5f\"}},\"ternary\":{\"aaxis\":{\"gridcolor\":\"#DFE8F3\",\"linecolor\":\"#A2B1C6\",\"ticks\":\"\"},\"baxis\":{\"gridcolor\":\"#DFE8F3\",\"linecolor\":\"#A2B1C6\",\"ticks\":\"\"},\"bgcolor\":\"white\",\"caxis\":{\"gridcolor\":\"#DFE8F3\",\"linecolor\":\"#A2B1C6\",\"ticks\":\"\"}},\"title\":{\"x\":0.05},\"xaxis\":{\"automargin\":true,\"gridcolor\":\"#EBF0F8\",\"linecolor\":\"#EBF0F8\",\"ticks\":\"\",\"title\":{\"standoff\":15},\"zerolinecolor\":\"#EBF0F8\",\"zerolinewidth\":2},\"yaxis\":{\"automargin\":true,\"gridcolor\":\"#EBF0F8\",\"linecolor\":\"#EBF0F8\",\"ticks\":\"\",\"title\":{\"standoff\":15},\"zerolinecolor\":\"#EBF0F8\",\"zerolinewidth\":2}}},\"title\":{\"font\":{\"size\":25},\"text\":\"Fairness Check\",\"x\":0.5,\"y\":0.99},\"xaxis\":{\"anchor\":\"y\",\"domain\":[0.0,1.0],\"range\":[-0.709375,0.3],\"ticktext\":[0.2,0.4,0.6,0.8,1.0,1.2,1.4,1.0],\"tickvals\":[-0.8,-0.6,-0.4,-0.19999999999999996,0.0,0.19999999999999996,0.3999999999999999,0.0],\"title\":{\"text\":\"score\"}},\"xaxis2\":{\"anchor\":\"y2\",\"domain\":[0.0,1.0],\"matches\":\"x\",\"range\":[-0.709375,0.3],\"showticklabels\":false,\"ticktext\":[0.2,0.4,0.6,0.8,1.0,1.2,1.4,1.0],\"tickvals\":[-0.8,-0.6,-0.4,-0.19999999999999996,0.0,0.19999999999999996,0.3999999999999999,0.0]},\"xaxis3\":{\"anchor\":\"y3\",\"domain\":[0.0,1.0],\"matches\":\"x\",\"range\":[-0.709375,0.3],\"showticklabels\":false,\"ticktext\":[0.2,0.4,0.6,0.8,1.0,1.2,1.4,1.0],\"tickvals\":[-0.8,-0.6,-0.4,-0.19999999999999996,0.0,0.19999999999999996,0.3999999999999999,0.0]},\"xaxis4\":{\"anchor\":\"y4\",\"domain\":[0.0,1.0],\"matches\":\"x\",\"range\":[-0.709375,0.3],\"showticklabels\":false,\"ticktext\":[0.2,0.4,0.6,0.8,1.0,1.2,1.4,1.0],\"tickvals\":[-0.8,-0.6,-0.4,-0.19999999999999996,0.0,0.19999999999999996,0.3999999999999999,0.0]},\"xaxis5\":{\"anchor\":\"y5\",\"domain\":[0.0,1.0],\"matches\":\"x\",\"range\":[-0.709375,0.3],\"showticklabels\":false,\"ticktext\":[0.2,0.4,0.6,0.8,1.0,1.2,1.4,1.0],\"tickvals\":[-0.8,-0.6,-0.4,-0.19999999999999996,0.0,0.19999999999999996,0.3999999999999999,0.0]},\"yaxis\":{\"anchor\":\"x\",\"domain\":[0.0,0.144],\"range\":[0,1],\"showgrid\":false,\"ticktext\":[\"0_young\"],\"tickvals\":[0.5],\"title\":{\"text\":\"\"},\"zeroline\":false},\"yaxis2\":{\"anchor\":\"x2\",\"domain\":[0.214,0.358],\"matches\":\"y\",\"range\":[0,1],\"showgrid\":false,\"ticktext\":[\"0_young\"],\"tickvals\":[0.5],\"title\":{\"text\":\"\"},\"zeroline\":false},\"yaxis3\":{\"anchor\":\"x3\",\"domain\":[0.428,0.572],\"matches\":\"y\",\"range\":[0,1],\"showgrid\":false,\"ticktext\":[\"0_young\"],\"tickvals\":[0.5],\"title\":{\"text\":\"subgroup\"},\"zeroline\":false},\"yaxis4\":{\"anchor\":\"x4\",\"domain\":[0.6419999999999999,0.7859999999999999],\"matches\":\"y\",\"range\":[0,1],\"showgrid\":false,\"ticktext\":[\"0_young\"],\"tickvals\":[0.5],\"title\":{\"text\":\"\"},\"zeroline\":false},\"yaxis5\":{\"anchor\":\"x5\",\"domain\":[0.856,1.0],\"matches\":\"y\",\"range\":[0,1],\"showgrid\":false,\"ticktext\":[\"0_young\"],\"tickvals\":[0.5],\"title\":{\"text\":\"\"},\"zeroline\":false}},                        {\"displaylogo\": false, \"staticPlot\": false, \"toImageButtonOptions\": {\"height\": null, \"width\": null}, \"modeBarButtonsToRemove\": [\"sendDataToCloud\", \"lasso2d\", \"autoScale2d\", \"select2d\", \"zoom2d\", \"pan2d\", \"zoomIn2d\", \"zoomOut2d\", \"resetScale2d\", \"toggleSpikelines\", \"hoverCompareCartesian\", \"hoverClosestCartesian\"], \"responsive\": true}                    ).then(function(){\n",
       "                            \n",
       "var gd = document.getElementById('b322b669-e391-463c-9574-fe9e9e6ff30e');\n",
       "var x = new MutationObserver(function (mutations, observer) {{\n",
       "        var display = window.getComputedStyle(gd).display;\n",
       "        if (!display || display === 'none') {{\n",
       "            console.log([gd, 'removed!']);\n",
       "            Plotly.purge(gd);\n",
       "            observer.disconnect();\n",
       "        }}\n",
       "}});\n",
       "\n",
       "// Listen for the removal of the full notebook cells\n",
       "var notebookContainer = gd.closest('#notebook-container');\n",
       "if (notebookContainer) {{\n",
       "    x.observe(notebookContainer, {childList: true});\n",
       "}}\n",
       "\n",
       "// Listen for the clearing of the current output cell\n",
       "var outputEl = gd.closest('.output');\n",
       "if (outputEl) {{\n",
       "    x.observe(outputEl, {childList: true});\n",
       "}}\n",
       "\n",
       "                        })                };                });            </script>        </div>"
      ]
     },
     "metadata": {},
     "output_type": "display_data"
    }
   ],
   "source": [
    "fairness_decisiontree.plot()"
   ]
  },
  {
   "cell_type": "markdown",
   "id": "1b9d1f4c-288b-4a81-8297-07da4d37f481",
   "metadata": {},
   "source": [
    "<h3> Fairness evaluation </h3>"
   ]
  },
  {
   "cell_type": "markdown",
   "id": "75fb43bd-7034-45a2-9731-9014c042fb03",
   "metadata": {},
   "source": [
    "<h4> With aif360 </h3>"
   ]
  },
  {
   "cell_type": "markdown",
   "id": "ebf527d0-dbe0-451c-af5b-3562d150026c",
   "metadata": {},
   "source": [
    "With aif30, there is no such thing as a wrapper of a dataset together with a model. Instead, we need to define two instances of the class ```BinaryLabelDataset```:\n",
    "<ul>\n",
    "    <li> One with the groundtruth labels and the protected (resp. privileged) subgroups, </li>\n",
    "    <li> One with the predicted labels (obtained from a trained model) and the protected (resp. privileged) subgroups.</li>\n",
    "</ul>\n",
    "Beware that the data need to be np.arrays."
   ]
  },
  {
   "cell_type": "code",
   "execution_count": null,
   "id": "c891339a-e653-4c3c-be31-d34fa7571da2",
   "metadata": {},
   "outputs": [],
   "source": [
    "data_for_aif = X_test[['sex']]\n",
    "data_for_aif['sex'] = data_for_aif['sex'].apply(lambda x: int(x == 'male'))\n",
    "data_for_aif['age'] = X_test['age'].apply(lambda x: int(x >= 25))\n",
    "\n",
    "data_for_aif_gt = data_for_aif.copy()\n",
    "data_for_aif_gt['risk'] = y_test\n",
    "\n",
    "data_for_aif_pred = data_for_aif.copy()\n",
    "data_for_aif_pred['risk'] = clf_logreg.predict(X_test)\n",
    "\n",
    "binary_dataset_gt = BinaryLabelDataset(df=data_for_aif_gt, label_names=['risk'], protected_attribute_names=['sex', 'age'])\n",
    "binary_dataset_pred = BinaryLabelDataset(df=data_for_aif_pred, label_names=['risk'], protected_attribute_names=['sex', 'age'])"
   ]
  },
  {
   "cell_type": "markdown",
   "id": "866ab327-5e77-4b1f-9246-ed82117b98e5",
   "metadata": {},
   "source": [
    "The two BinaryLabelDataset are then wrapped into a ```ClassificationMetric``` object, which requires to fix privileged and unprivileged subgroups in the form of dictionaries. From this object, several fairness metrics can be computed. </br>\n",
    "Warning: It seems that, although several groups can be defined, the metrics are only computed for the two first one (an issue of the librabry ?)."
   ]
  },
  {
   "cell_type": "code",
   "execution_count": null,
   "id": "d1546490-8c91-42c1-a579-96e8f2187b19",
   "metadata": {},
   "outputs": [],
   "source": [
    "aif_classif_metrics = ClassificationMetric(binary_dataset_gt, \n",
    "                                           binary_dataset_pred, \n",
    "                                           privileged_groups=[{'sex': 1.0, 'age': 1.0}],\n",
    "                                           unprivileged_groups=[{'sex': 1.0, 'age': 0.0}, {'sex': 0.0, 'age': 1.0}, {'sex': 0.0, 'age': 0.0}]\n",
    "                                          )"
   ]
  },
  {
   "cell_type": "code",
   "execution_count": null,
   "id": "42367dbd-c575-4e27-ba74-261fc6da708a",
   "metadata": {},
   "outputs": [],
   "source": [
    "aif_classif_metrics.disparate_impact()"
   ]
  },
  {
   "cell_type": "markdown",
   "id": "91f405c6",
   "metadata": {},
   "source": [
    "## Preprocessing"
   ]
  },
  {
   "cell_type": "markdown",
   "id": "3d931c6d",
   "metadata": {},
   "source": [
    "## Inprocessing"
   ]
  },
  {
   "cell_type": "markdown",
   "id": "4668b830",
   "metadata": {},
   "source": [
    "## Postprocessing"
   ]
  },
  {
   "cell_type": "code",
   "execution_count": null,
   "id": "07b5ad96",
   "metadata": {},
   "outputs": [],
   "source": []
  }
 ],
 "metadata": {
  "kernelspec": {
   "display_name": "Python 3",
   "language": "python",
   "name": "python3"
  },
  "language_info": {
   "codemirror_mode": {
    "name": "ipython",
    "version": 3
   },
   "file_extension": ".py",
   "mimetype": "text/x-python",
   "name": "python",
   "nbconvert_exporter": "python",
   "pygments_lexer": "ipython3",
   "version": "3.7.11"
  },
  "toc": {
   "base_numbering": 1,
   "nav_menu": {},
   "number_sections": true,
   "sideBar": true,
   "skip_h1_title": true,
   "title_cell": "Table of Contents",
   "title_sidebar": "Contents",
   "toc_cell": true,
   "toc_position": {
    "height": "calc(100% - 180px)",
    "left": "10px",
    "top": "150px",
    "width": "165px"
   },
   "toc_section_display": true,
   "toc_window_display": true
  }
 },
 "nbformat": 4,
 "nbformat_minor": 5
}
