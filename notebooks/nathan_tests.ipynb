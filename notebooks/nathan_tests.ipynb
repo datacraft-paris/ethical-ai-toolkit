{
 "cells": [
  {
   "cell_type": "markdown",
   "id": "03904803-6b33-4a7a-9ee5-6ae9936c1108",
   "metadata": {},
   "source": [
    "<h1> Evaluation of a dataset + a model</h1>"
   ]
  },
  {
   "cell_type": "markdown",
   "id": "dd622396-79de-464e-a5a8-6f4cc43795df",
   "metadata": {},
   "source": [
    "In this notebook we focus on the fairness evaluation of a couple (dataset, model). </br>\n",
    "We use two libraries : dalex and aif360."
   ]
  },
  {
   "cell_type": "code",
   "execution_count": 46,
   "id": "c2e5052b-3bb2-4041-b1f4-7010d1fe5788",
   "metadata": {},
   "outputs": [],
   "source": [
    "#! pip install -U scikit-learn\n",
    "import pandas as pd\n",
    "import numpy as np\n",
    "from copy import copy\n",
    "\n",
    "from sklearn.compose import ColumnTransformer\n",
    "from sklearn.pipeline import Pipeline\n",
    "from sklearn.preprocessing import OneHotEncoder\n",
    "from sklearn.tree import DecisionTreeClassifier"
   ]
  },
  {
   "cell_type": "code",
   "execution_count": 47,
   "id": "22fe5af6-2bcc-4a0e-b974-bc2182aefe5d",
   "metadata": {},
   "outputs": [],
   "source": [
    "from sklearn.compose import make_column_transformer, make_column_selector\n",
    "from sklearn.linear_model import LogisticRegression\n",
    "from sklearn.model_selection import train_test_split\n",
    "from sklearn.pipeline import Pipeline\n",
    "from sklearn.preprocessing import StandardScaler, OneHotEncoder\n",
    "\n",
    "import dalex as dx\n",
    "import numpy as np\n",
    "import pandas as pd\n",
    "import sklearn\n",
    "\n",
    "from aif360.datasets import BinaryLabelDataset\n",
    "from aif360.metrics import ClassificationMetric"
   ]
  },
  {
   "cell_type": "code",
   "execution_count": 48,
   "id": "3b6eebf1-fe91-45ef-b94e-4047057ee612",
   "metadata": {},
   "outputs": [],
   "source": [
    "#! pip install dalex\n",
    "import dalex as dx\n",
    "\n",
    "#! pip install aif360 tensorflow\n",
    "from aif360.datasets import BinaryLabelDataset\n",
    "from aif360.metrics import ClassificationMetric"
   ]
  },
  {
   "cell_type": "code",
   "execution_count": 143,
   "id": "cc8212c8-e794-4010-a6a2-e4cb92d1ce12",
   "metadata": {},
   "outputs": [],
   "source": [
    "#! pip install fairlearn\n",
    "import fairlearn\n",
    "from aif360.sklearn.inprocessing import AdversarialDebiasing"
   ]
  },
  {
   "cell_type": "markdown",
   "id": "8034248c-972b-406a-b6b0-25eb7879f256",
   "metadata": {},
   "source": [
    "<h3> New test: adversarial learning </h3>"
   ]
  },
  {
   "cell_type": "code",
   "execution_count": 169,
   "id": "512855c8-cb99-4b80-80d4-52dab499d7d0",
   "metadata": {},
   "outputs": [],
   "source": [
    "df, target = dx.datasets.load_german(), \"risk\""
   ]
  },
  {
   "cell_type": "code",
   "execution_count": 170,
   "id": "579cfe11-4e83-473d-bdb2-6ea3db4d116f",
   "metadata": {},
   "outputs": [],
   "source": [
    "df['sex'] = df['sex'].apply(lambda x: int(x == 'female'))"
   ]
  },
  {
   "cell_type": "code",
   "execution_count": 171,
   "id": "20b7f39f-79ac-484e-96c3-82b3d57e8911",
   "metadata": {},
   "outputs": [
    {
     "data": {
      "text/html": [
       "<div>\n",
       "<style scoped>\n",
       "    .dataframe tbody tr th:only-of-type {\n",
       "        vertical-align: middle;\n",
       "    }\n",
       "\n",
       "    .dataframe tbody tr th {\n",
       "        vertical-align: top;\n",
       "    }\n",
       "\n",
       "    .dataframe thead th {\n",
       "        text-align: right;\n",
       "    }\n",
       "</style>\n",
       "<table border=\"1\" class=\"dataframe\">\n",
       "  <thead>\n",
       "    <tr style=\"text-align: right;\">\n",
       "      <th></th>\n",
       "      <th>risk</th>\n",
       "      <th>sex</th>\n",
       "      <th>job</th>\n",
       "      <th>housing</th>\n",
       "      <th>saving_accounts</th>\n",
       "      <th>checking_account</th>\n",
       "      <th>credit_amount</th>\n",
       "      <th>duration</th>\n",
       "      <th>purpose</th>\n",
       "      <th>age</th>\n",
       "    </tr>\n",
       "  </thead>\n",
       "  <tbody>\n",
       "    <tr>\n",
       "      <th>0</th>\n",
       "      <td>1</td>\n",
       "      <td>0</td>\n",
       "      <td>2</td>\n",
       "      <td>own</td>\n",
       "      <td>not_known</td>\n",
       "      <td>little</td>\n",
       "      <td>1169</td>\n",
       "      <td>6</td>\n",
       "      <td>radio/TV</td>\n",
       "      <td>67</td>\n",
       "    </tr>\n",
       "    <tr>\n",
       "      <th>1</th>\n",
       "      <td>0</td>\n",
       "      <td>1</td>\n",
       "      <td>2</td>\n",
       "      <td>own</td>\n",
       "      <td>little</td>\n",
       "      <td>moderate</td>\n",
       "      <td>5951</td>\n",
       "      <td>48</td>\n",
       "      <td>radio/TV</td>\n",
       "      <td>22</td>\n",
       "    </tr>\n",
       "    <tr>\n",
       "      <th>2</th>\n",
       "      <td>1</td>\n",
       "      <td>0</td>\n",
       "      <td>1</td>\n",
       "      <td>own</td>\n",
       "      <td>little</td>\n",
       "      <td>not_known</td>\n",
       "      <td>2096</td>\n",
       "      <td>12</td>\n",
       "      <td>education</td>\n",
       "      <td>49</td>\n",
       "    </tr>\n",
       "    <tr>\n",
       "      <th>3</th>\n",
       "      <td>1</td>\n",
       "      <td>0</td>\n",
       "      <td>2</td>\n",
       "      <td>free</td>\n",
       "      <td>little</td>\n",
       "      <td>little</td>\n",
       "      <td>7882</td>\n",
       "      <td>42</td>\n",
       "      <td>furniture/equipment</td>\n",
       "      <td>45</td>\n",
       "    </tr>\n",
       "    <tr>\n",
       "      <th>4</th>\n",
       "      <td>0</td>\n",
       "      <td>0</td>\n",
       "      <td>2</td>\n",
       "      <td>free</td>\n",
       "      <td>little</td>\n",
       "      <td>little</td>\n",
       "      <td>4870</td>\n",
       "      <td>24</td>\n",
       "      <td>car</td>\n",
       "      <td>53</td>\n",
       "    </tr>\n",
       "    <tr>\n",
       "      <th>...</th>\n",
       "      <td>...</td>\n",
       "      <td>...</td>\n",
       "      <td>...</td>\n",
       "      <td>...</td>\n",
       "      <td>...</td>\n",
       "      <td>...</td>\n",
       "      <td>...</td>\n",
       "      <td>...</td>\n",
       "      <td>...</td>\n",
       "      <td>...</td>\n",
       "    </tr>\n",
       "    <tr>\n",
       "      <th>995</th>\n",
       "      <td>1</td>\n",
       "      <td>1</td>\n",
       "      <td>1</td>\n",
       "      <td>own</td>\n",
       "      <td>little</td>\n",
       "      <td>not_known</td>\n",
       "      <td>1736</td>\n",
       "      <td>12</td>\n",
       "      <td>furniture/equipment</td>\n",
       "      <td>31</td>\n",
       "    </tr>\n",
       "    <tr>\n",
       "      <th>996</th>\n",
       "      <td>1</td>\n",
       "      <td>0</td>\n",
       "      <td>3</td>\n",
       "      <td>own</td>\n",
       "      <td>little</td>\n",
       "      <td>little</td>\n",
       "      <td>3857</td>\n",
       "      <td>30</td>\n",
       "      <td>car</td>\n",
       "      <td>40</td>\n",
       "    </tr>\n",
       "    <tr>\n",
       "      <th>997</th>\n",
       "      <td>1</td>\n",
       "      <td>0</td>\n",
       "      <td>2</td>\n",
       "      <td>own</td>\n",
       "      <td>little</td>\n",
       "      <td>not_known</td>\n",
       "      <td>804</td>\n",
       "      <td>12</td>\n",
       "      <td>radio/TV</td>\n",
       "      <td>38</td>\n",
       "    </tr>\n",
       "    <tr>\n",
       "      <th>998</th>\n",
       "      <td>0</td>\n",
       "      <td>0</td>\n",
       "      <td>2</td>\n",
       "      <td>free</td>\n",
       "      <td>little</td>\n",
       "      <td>little</td>\n",
       "      <td>1845</td>\n",
       "      <td>45</td>\n",
       "      <td>radio/TV</td>\n",
       "      <td>23</td>\n",
       "    </tr>\n",
       "    <tr>\n",
       "      <th>999</th>\n",
       "      <td>1</td>\n",
       "      <td>0</td>\n",
       "      <td>2</td>\n",
       "      <td>own</td>\n",
       "      <td>moderate</td>\n",
       "      <td>moderate</td>\n",
       "      <td>4576</td>\n",
       "      <td>45</td>\n",
       "      <td>car</td>\n",
       "      <td>27</td>\n",
       "    </tr>\n",
       "  </tbody>\n",
       "</table>\n",
       "<p>1000 rows × 10 columns</p>\n",
       "</div>"
      ],
      "text/plain": [
       "     risk  sex  job housing saving_accounts checking_account  credit_amount  \\\n",
       "0       1    0    2     own       not_known           little           1169   \n",
       "1       0    1    2     own          little         moderate           5951   \n",
       "2       1    0    1     own          little        not_known           2096   \n",
       "3       1    0    2    free          little           little           7882   \n",
       "4       0    0    2    free          little           little           4870   \n",
       "..    ...  ...  ...     ...             ...              ...            ...   \n",
       "995     1    1    1     own          little        not_known           1736   \n",
       "996     1    0    3     own          little           little           3857   \n",
       "997     1    0    2     own          little        not_known            804   \n",
       "998     0    0    2    free          little           little           1845   \n",
       "999     1    0    2     own        moderate         moderate           4576   \n",
       "\n",
       "     duration              purpose  age  \n",
       "0           6             radio/TV   67  \n",
       "1          48             radio/TV   22  \n",
       "2          12            education   49  \n",
       "3          42  furniture/equipment   45  \n",
       "4          24                  car   53  \n",
       "..        ...                  ...  ...  \n",
       "995        12  furniture/equipment   31  \n",
       "996        30                  car   40  \n",
       "997        12             radio/TV   38  \n",
       "998        45             radio/TV   23  \n",
       "999        45                  car   27  \n",
       "\n",
       "[1000 rows x 10 columns]"
      ]
     },
     "execution_count": 171,
     "metadata": {},
     "output_type": "execute_result"
    }
   ],
   "source": [
    "df"
   ]
  },
  {
   "cell_type": "code",
   "execution_count": 172,
   "id": "bed7c7c3-d17a-4c4f-ac95-b10dddea461c",
   "metadata": {},
   "outputs": [],
   "source": [
    "X_train, X_test, y_train, y_test = train_test_split(\n",
    "    df.drop(columns=[target]),\n",
    "    df[target],\n",
    "    test_size=0.3,\n",
    "    random_state=42\n",
    ")"
   ]
  },
  {
   "cell_type": "code",
   "execution_count": 173,
   "id": "8e3ea74f-2fe8-4b35-902e-1ba1ea77572d",
   "metadata": {},
   "outputs": [],
   "source": [
    "class FunctionTransformer():\n",
    "    def __init__(self):\n",
    "        pass\n",
    "    def transform(self, input_array, **transform_params):\n",
    "        return pd.DataFrame(input_array)\n",
    "\n",
    "    def fit(self, X, y=None, **fit_params):\n",
    "        return self    "
   ]
  },
  {
   "cell_type": "raw",
   "id": "5ef536ce-b2ad-4550-b657-3c9e4d8defca",
   "metadata": {},
   "source": [
    "preprocessor = make_column_transformer(\n",
    "      (StandardScaler(), make_column_selector(dtype_include=np.number)),\n",
    "      (OneHotEncoder(), make_column_selector(dtype_include=object))\n",
    ")\n",
    "\n",
    "\n",
    "#adv_model = Pipeline(steps=[\n",
    "#    ('preprocessor', preprocessor),\n",
    "#    ('to_frame', FunctionTransformer()),\n",
    "#    ('classifier', AdversarialDebiasing(prot_attr='sex'))\n",
    "#])\n",
    "\n",
    "#adv_model"
   ]
  },
  {
   "cell_type": "code",
   "execution_count": 177,
   "id": "9542a266-7117-466c-927f-2429f7278dbc",
   "metadata": {},
   "outputs": [],
   "source": [
    "X_prep_train =  preprocessor.fit_transform(X_train)\n",
    "\n",
    "columns_names = preprocessor.get_feature_names_out(preprocessor.feature_names_in_)\n",
    "X_prep_train = pd.DataFrame(X_prep_train, columns=columns_names)"
   ]
  },
  {
   "cell_type": "code",
   "execution_count": 166,
   "id": "373d45f4-9d6d-4a94-a010-c16c41f5015e",
   "metadata": {},
   "outputs": [
    {
     "data": {
      "text/html": [
       "<div>\n",
       "<style scoped>\n",
       "    .dataframe tbody tr th:only-of-type {\n",
       "        vertical-align: middle;\n",
       "    }\n",
       "\n",
       "    .dataframe tbody tr th {\n",
       "        vertical-align: top;\n",
       "    }\n",
       "\n",
       "    .dataframe thead th {\n",
       "        text-align: right;\n",
       "    }\n",
       "</style>\n",
       "<table border=\"1\" class=\"dataframe\">\n",
       "  <thead>\n",
       "    <tr style=\"text-align: right;\">\n",
       "      <th></th>\n",
       "      <th>standardscaler__sex</th>\n",
       "      <th>standardscaler__job</th>\n",
       "      <th>standardscaler__credit_amount</th>\n",
       "      <th>standardscaler__duration</th>\n",
       "      <th>standardscaler__age</th>\n",
       "      <th>onehotencoder__housing_free</th>\n",
       "      <th>onehotencoder__housing_own</th>\n",
       "      <th>onehotencoder__housing_rent</th>\n",
       "      <th>onehotencoder__saving_accounts_little</th>\n",
       "      <th>onehotencoder__saving_accounts_moderate</th>\n",
       "      <th>...</th>\n",
       "      <th>onehotencoder__checking_account_not_known</th>\n",
       "      <th>onehotencoder__checking_account_rich</th>\n",
       "      <th>onehotencoder__purpose_business</th>\n",
       "      <th>onehotencoder__purpose_car</th>\n",
       "      <th>onehotencoder__purpose_domestic appliances</th>\n",
       "      <th>onehotencoder__purpose_education</th>\n",
       "      <th>onehotencoder__purpose_furniture/equipment</th>\n",
       "      <th>onehotencoder__purpose_radio/TV</th>\n",
       "      <th>onehotencoder__purpose_repairs</th>\n",
       "      <th>onehotencoder__purpose_vacation/others</th>\n",
       "    </tr>\n",
       "  </thead>\n",
       "  <tbody>\n",
       "    <tr>\n",
       "      <th>0</th>\n",
       "      <td>-0.681495</td>\n",
       "      <td>0.095819</td>\n",
       "      <td>-0.462936</td>\n",
       "      <td>0.231016</td>\n",
       "      <td>2.179382</td>\n",
       "      <td>1.0</td>\n",
       "      <td>0.0</td>\n",
       "      <td>0.0</td>\n",
       "      <td>1.0</td>\n",
       "      <td>0.0</td>\n",
       "      <td>...</td>\n",
       "      <td>1.0</td>\n",
       "      <td>0.0</td>\n",
       "      <td>0.0</td>\n",
       "      <td>1.0</td>\n",
       "      <td>0.0</td>\n",
       "      <td>0.0</td>\n",
       "      <td>0.0</td>\n",
       "      <td>0.0</td>\n",
       "      <td>0.0</td>\n",
       "      <td>0.0</td>\n",
       "    </tr>\n",
       "    <tr>\n",
       "      <th>1</th>\n",
       "      <td>-0.681495</td>\n",
       "      <td>1.620212</td>\n",
       "      <td>-0.512772</td>\n",
       "      <td>-0.778104</td>\n",
       "      <td>0.311885</td>\n",
       "      <td>0.0</td>\n",
       "      <td>1.0</td>\n",
       "      <td>0.0</td>\n",
       "      <td>1.0</td>\n",
       "      <td>0.0</td>\n",
       "      <td>...</td>\n",
       "      <td>1.0</td>\n",
       "      <td>0.0</td>\n",
       "      <td>0.0</td>\n",
       "      <td>1.0</td>\n",
       "      <td>0.0</td>\n",
       "      <td>0.0</td>\n",
       "      <td>0.0</td>\n",
       "      <td>0.0</td>\n",
       "      <td>0.0</td>\n",
       "      <td>0.0</td>\n",
       "    </tr>\n",
       "    <tr>\n",
       "      <th>2</th>\n",
       "      <td>1.467363</td>\n",
       "      <td>0.095819</td>\n",
       "      <td>0.072458</td>\n",
       "      <td>0.735576</td>\n",
       "      <td>1.912597</td>\n",
       "      <td>0.0</td>\n",
       "      <td>0.0</td>\n",
       "      <td>1.0</td>\n",
       "      <td>0.0</td>\n",
       "      <td>0.0</td>\n",
       "      <td>...</td>\n",
       "      <td>0.0</td>\n",
       "      <td>0.0</td>\n",
       "      <td>0.0</td>\n",
       "      <td>0.0</td>\n",
       "      <td>0.0</td>\n",
       "      <td>0.0</td>\n",
       "      <td>1.0</td>\n",
       "      <td>0.0</td>\n",
       "      <td>0.0</td>\n",
       "      <td>0.0</td>\n",
       "    </tr>\n",
       "    <tr>\n",
       "      <th>3</th>\n",
       "      <td>-0.681495</td>\n",
       "      <td>-1.428574</td>\n",
       "      <td>-0.824580</td>\n",
       "      <td>-0.778104</td>\n",
       "      <td>1.023312</td>\n",
       "      <td>0.0</td>\n",
       "      <td>1.0</td>\n",
       "      <td>0.0</td>\n",
       "      <td>1.0</td>\n",
       "      <td>0.0</td>\n",
       "      <td>...</td>\n",
       "      <td>0.0</td>\n",
       "      <td>0.0</td>\n",
       "      <td>0.0</td>\n",
       "      <td>1.0</td>\n",
       "      <td>0.0</td>\n",
       "      <td>0.0</td>\n",
       "      <td>0.0</td>\n",
       "      <td>0.0</td>\n",
       "      <td>0.0</td>\n",
       "      <td>0.0</td>\n",
       "    </tr>\n",
       "    <tr>\n",
       "      <th>4</th>\n",
       "      <td>-0.681495</td>\n",
       "      <td>1.620212</td>\n",
       "      <td>0.775879</td>\n",
       "      <td>1.240136</td>\n",
       "      <td>0.222956</td>\n",
       "      <td>0.0</td>\n",
       "      <td>1.0</td>\n",
       "      <td>0.0</td>\n",
       "      <td>0.0</td>\n",
       "      <td>0.0</td>\n",
       "      <td>...</td>\n",
       "      <td>1.0</td>\n",
       "      <td>0.0</td>\n",
       "      <td>0.0</td>\n",
       "      <td>1.0</td>\n",
       "      <td>0.0</td>\n",
       "      <td>0.0</td>\n",
       "      <td>0.0</td>\n",
       "      <td>0.0</td>\n",
       "      <td>0.0</td>\n",
       "      <td>0.0</td>\n",
       "    </tr>\n",
       "    <tr>\n",
       "      <th>...</th>\n",
       "      <td>...</td>\n",
       "      <td>...</td>\n",
       "      <td>...</td>\n",
       "      <td>...</td>\n",
       "      <td>...</td>\n",
       "      <td>...</td>\n",
       "      <td>...</td>\n",
       "      <td>...</td>\n",
       "      <td>...</td>\n",
       "      <td>...</td>\n",
       "      <td>...</td>\n",
       "      <td>...</td>\n",
       "      <td>...</td>\n",
       "      <td>...</td>\n",
       "      <td>...</td>\n",
       "      <td>...</td>\n",
       "      <td>...</td>\n",
       "      <td>...</td>\n",
       "      <td>...</td>\n",
       "      <td>...</td>\n",
       "      <td>...</td>\n",
       "    </tr>\n",
       "    <tr>\n",
       "      <th>695</th>\n",
       "      <td>-0.681495</td>\n",
       "      <td>1.620212</td>\n",
       "      <td>1.027413</td>\n",
       "      <td>-0.273544</td>\n",
       "      <td>0.311885</td>\n",
       "      <td>0.0</td>\n",
       "      <td>1.0</td>\n",
       "      <td>0.0</td>\n",
       "      <td>1.0</td>\n",
       "      <td>0.0</td>\n",
       "      <td>...</td>\n",
       "      <td>1.0</td>\n",
       "      <td>0.0</td>\n",
       "      <td>0.0</td>\n",
       "      <td>1.0</td>\n",
       "      <td>0.0</td>\n",
       "      <td>0.0</td>\n",
       "      <td>0.0</td>\n",
       "      <td>0.0</td>\n",
       "      <td>0.0</td>\n",
       "      <td>0.0</td>\n",
       "    </tr>\n",
       "    <tr>\n",
       "      <th>696</th>\n",
       "      <td>-0.681495</td>\n",
       "      <td>0.095819</td>\n",
       "      <td>-0.250799</td>\n",
       "      <td>-0.273544</td>\n",
       "      <td>-0.310614</td>\n",
       "      <td>0.0</td>\n",
       "      <td>1.0</td>\n",
       "      <td>0.0</td>\n",
       "      <td>0.0</td>\n",
       "      <td>0.0</td>\n",
       "      <td>...</td>\n",
       "      <td>1.0</td>\n",
       "      <td>0.0</td>\n",
       "      <td>0.0</td>\n",
       "      <td>1.0</td>\n",
       "      <td>0.0</td>\n",
       "      <td>0.0</td>\n",
       "      <td>0.0</td>\n",
       "      <td>0.0</td>\n",
       "      <td>0.0</td>\n",
       "      <td>0.0</td>\n",
       "    </tr>\n",
       "    <tr>\n",
       "      <th>697</th>\n",
       "      <td>-0.681495</td>\n",
       "      <td>0.095819</td>\n",
       "      <td>0.807194</td>\n",
       "      <td>0.231016</td>\n",
       "      <td>-0.755257</td>\n",
       "      <td>0.0</td>\n",
       "      <td>1.0</td>\n",
       "      <td>0.0</td>\n",
       "      <td>0.0</td>\n",
       "      <td>0.0</td>\n",
       "      <td>...</td>\n",
       "      <td>1.0</td>\n",
       "      <td>0.0</td>\n",
       "      <td>0.0</td>\n",
       "      <td>1.0</td>\n",
       "      <td>0.0</td>\n",
       "      <td>0.0</td>\n",
       "      <td>0.0</td>\n",
       "      <td>0.0</td>\n",
       "      <td>0.0</td>\n",
       "      <td>0.0</td>\n",
       "    </tr>\n",
       "    <tr>\n",
       "      <th>698</th>\n",
       "      <td>-0.681495</td>\n",
       "      <td>0.095819</td>\n",
       "      <td>-0.647462</td>\n",
       "      <td>-0.778104</td>\n",
       "      <td>-0.933113</td>\n",
       "      <td>0.0</td>\n",
       "      <td>1.0</td>\n",
       "      <td>0.0</td>\n",
       "      <td>0.0</td>\n",
       "      <td>0.0</td>\n",
       "      <td>...</td>\n",
       "      <td>0.0</td>\n",
       "      <td>0.0</td>\n",
       "      <td>0.0</td>\n",
       "      <td>0.0</td>\n",
       "      <td>0.0</td>\n",
       "      <td>0.0</td>\n",
       "      <td>0.0</td>\n",
       "      <td>1.0</td>\n",
       "      <td>0.0</td>\n",
       "      <td>0.0</td>\n",
       "    </tr>\n",
       "    <tr>\n",
       "      <th>699</th>\n",
       "      <td>1.467363</td>\n",
       "      <td>0.095819</td>\n",
       "      <td>-0.833335</td>\n",
       "      <td>-1.282664</td>\n",
       "      <td>-1.022042</td>\n",
       "      <td>0.0</td>\n",
       "      <td>1.0</td>\n",
       "      <td>0.0</td>\n",
       "      <td>1.0</td>\n",
       "      <td>0.0</td>\n",
       "      <td>...</td>\n",
       "      <td>1.0</td>\n",
       "      <td>0.0</td>\n",
       "      <td>0.0</td>\n",
       "      <td>0.0</td>\n",
       "      <td>0.0</td>\n",
       "      <td>0.0</td>\n",
       "      <td>0.0</td>\n",
       "      <td>1.0</td>\n",
       "      <td>0.0</td>\n",
       "      <td>0.0</td>\n",
       "    </tr>\n",
       "  </tbody>\n",
       "</table>\n",
       "<p>700 rows × 25 columns</p>\n",
       "</div>"
      ],
      "text/plain": [
       "     standardscaler__sex  standardscaler__job  standardscaler__credit_amount  \\\n",
       "0              -0.681495             0.095819                      -0.462936   \n",
       "1              -0.681495             1.620212                      -0.512772   \n",
       "2               1.467363             0.095819                       0.072458   \n",
       "3              -0.681495            -1.428574                      -0.824580   \n",
       "4              -0.681495             1.620212                       0.775879   \n",
       "..                   ...                  ...                            ...   \n",
       "695            -0.681495             1.620212                       1.027413   \n",
       "696            -0.681495             0.095819                      -0.250799   \n",
       "697            -0.681495             0.095819                       0.807194   \n",
       "698            -0.681495             0.095819                      -0.647462   \n",
       "699             1.467363             0.095819                      -0.833335   \n",
       "\n",
       "     standardscaler__duration  standardscaler__age  \\\n",
       "0                    0.231016             2.179382   \n",
       "1                   -0.778104             0.311885   \n",
       "2                    0.735576             1.912597   \n",
       "3                   -0.778104             1.023312   \n",
       "4                    1.240136             0.222956   \n",
       "..                        ...                  ...   \n",
       "695                 -0.273544             0.311885   \n",
       "696                 -0.273544            -0.310614   \n",
       "697                  0.231016            -0.755257   \n",
       "698                 -0.778104            -0.933113   \n",
       "699                 -1.282664            -1.022042   \n",
       "\n",
       "     onehotencoder__housing_free  onehotencoder__housing_own  \\\n",
       "0                            1.0                         0.0   \n",
       "1                            0.0                         1.0   \n",
       "2                            0.0                         0.0   \n",
       "3                            0.0                         1.0   \n",
       "4                            0.0                         1.0   \n",
       "..                           ...                         ...   \n",
       "695                          0.0                         1.0   \n",
       "696                          0.0                         1.0   \n",
       "697                          0.0                         1.0   \n",
       "698                          0.0                         1.0   \n",
       "699                          0.0                         1.0   \n",
       "\n",
       "     onehotencoder__housing_rent  onehotencoder__saving_accounts_little  \\\n",
       "0                            0.0                                    1.0   \n",
       "1                            0.0                                    1.0   \n",
       "2                            1.0                                    0.0   \n",
       "3                            0.0                                    1.0   \n",
       "4                            0.0                                    0.0   \n",
       "..                           ...                                    ...   \n",
       "695                          0.0                                    1.0   \n",
       "696                          0.0                                    0.0   \n",
       "697                          0.0                                    0.0   \n",
       "698                          0.0                                    0.0   \n",
       "699                          0.0                                    1.0   \n",
       "\n",
       "     onehotencoder__saving_accounts_moderate  ...  \\\n",
       "0                                        0.0  ...   \n",
       "1                                        0.0  ...   \n",
       "2                                        0.0  ...   \n",
       "3                                        0.0  ...   \n",
       "4                                        0.0  ...   \n",
       "..                                       ...  ...   \n",
       "695                                      0.0  ...   \n",
       "696                                      0.0  ...   \n",
       "697                                      0.0  ...   \n",
       "698                                      0.0  ...   \n",
       "699                                      0.0  ...   \n",
       "\n",
       "     onehotencoder__checking_account_not_known  \\\n",
       "0                                          1.0   \n",
       "1                                          1.0   \n",
       "2                                          0.0   \n",
       "3                                          0.0   \n",
       "4                                          1.0   \n",
       "..                                         ...   \n",
       "695                                        1.0   \n",
       "696                                        1.0   \n",
       "697                                        1.0   \n",
       "698                                        0.0   \n",
       "699                                        1.0   \n",
       "\n",
       "     onehotencoder__checking_account_rich  onehotencoder__purpose_business  \\\n",
       "0                                     0.0                              0.0   \n",
       "1                                     0.0                              0.0   \n",
       "2                                     0.0                              0.0   \n",
       "3                                     0.0                              0.0   \n",
       "4                                     0.0                              0.0   \n",
       "..                                    ...                              ...   \n",
       "695                                   0.0                              0.0   \n",
       "696                                   0.0                              0.0   \n",
       "697                                   0.0                              0.0   \n",
       "698                                   0.0                              0.0   \n",
       "699                                   0.0                              0.0   \n",
       "\n",
       "     onehotencoder__purpose_car  onehotencoder__purpose_domestic appliances  \\\n",
       "0                           1.0                                         0.0   \n",
       "1                           1.0                                         0.0   \n",
       "2                           0.0                                         0.0   \n",
       "3                           1.0                                         0.0   \n",
       "4                           1.0                                         0.0   \n",
       "..                          ...                                         ...   \n",
       "695                         1.0                                         0.0   \n",
       "696                         1.0                                         0.0   \n",
       "697                         1.0                                         0.0   \n",
       "698                         0.0                                         0.0   \n",
       "699                         0.0                                         0.0   \n",
       "\n",
       "     onehotencoder__purpose_education  \\\n",
       "0                                 0.0   \n",
       "1                                 0.0   \n",
       "2                                 0.0   \n",
       "3                                 0.0   \n",
       "4                                 0.0   \n",
       "..                                ...   \n",
       "695                               0.0   \n",
       "696                               0.0   \n",
       "697                               0.0   \n",
       "698                               0.0   \n",
       "699                               0.0   \n",
       "\n",
       "     onehotencoder__purpose_furniture/equipment  \\\n",
       "0                                           0.0   \n",
       "1                                           0.0   \n",
       "2                                           1.0   \n",
       "3                                           0.0   \n",
       "4                                           0.0   \n",
       "..                                          ...   \n",
       "695                                         0.0   \n",
       "696                                         0.0   \n",
       "697                                         0.0   \n",
       "698                                         0.0   \n",
       "699                                         0.0   \n",
       "\n",
       "     onehotencoder__purpose_radio/TV  onehotencoder__purpose_repairs  \\\n",
       "0                                0.0                             0.0   \n",
       "1                                0.0                             0.0   \n",
       "2                                0.0                             0.0   \n",
       "3                                0.0                             0.0   \n",
       "4                                0.0                             0.0   \n",
       "..                               ...                             ...   \n",
       "695                              0.0                             0.0   \n",
       "696                              0.0                             0.0   \n",
       "697                              0.0                             0.0   \n",
       "698                              1.0                             0.0   \n",
       "699                              1.0                             0.0   \n",
       "\n",
       "     onehotencoder__purpose_vacation/others  \n",
       "0                                       0.0  \n",
       "1                                       0.0  \n",
       "2                                       0.0  \n",
       "3                                       0.0  \n",
       "4                                       0.0  \n",
       "..                                      ...  \n",
       "695                                     0.0  \n",
       "696                                     0.0  \n",
       "697                                     0.0  \n",
       "698                                     0.0  \n",
       "699                                     0.0  \n",
       "\n",
       "[700 rows x 25 columns]"
      ]
     },
     "execution_count": 166,
     "metadata": {},
     "output_type": "execute_result"
    }
   ],
   "source": [
    "X_prep_train"
   ]
  },
  {
   "cell_type": "code",
   "execution_count": null,
   "id": "f62f4e27-1748-4d35-9e0b-a37d2b3943f2",
   "metadata": {},
   "outputs": [],
   "source": []
  },
  {
   "cell_type": "code",
   "execution_count": null,
   "id": "65220f9c-7bc6-45e3-8696-afc5fde9bb9a",
   "metadata": {},
   "outputs": [],
   "source": []
  },
  {
   "cell_type": "code",
   "execution_count": null,
   "id": "af34c9ed-a8f3-4d2b-bae6-19d025e16531",
   "metadata": {},
   "outputs": [],
   "source": []
  },
  {
   "cell_type": "code",
   "execution_count": 123,
   "id": "a978a1dd-15f9-4850-91db-86c3a5f5270d",
   "metadata": {},
   "outputs": [
    {
     "ename": "ValueError",
     "evalue": "Some of the attributes provided are not present in the dataset. Expected a subset of:\n[]\nGot:\n['sex']",
     "output_type": "error",
     "traceback": [
      "\u001b[0;31m---------------------------------------------------------------------------\u001b[0m",
      "\u001b[0;31mValueError\u001b[0m                                Traceback (most recent call last)",
      "\u001b[0;32m<ipython-input-123-e85928a0f27e>\u001b[0m in \u001b[0;36m<module>\u001b[0;34m\u001b[0m\n\u001b[1;32m      1\u001b[0m \u001b[0mtf\u001b[0m\u001b[0;34m.\u001b[0m\u001b[0mdisable_eager_execution\u001b[0m\u001b[0;34m(\u001b[0m\u001b[0;34m)\u001b[0m\u001b[0;34m\u001b[0m\u001b[0;34m\u001b[0m\u001b[0m\n\u001b[0;32m----> 2\u001b[0;31m \u001b[0madv_model\u001b[0m\u001b[0;34m.\u001b[0m\u001b[0mfit\u001b[0m\u001b[0;34m(\u001b[0m\u001b[0mX_train\u001b[0m\u001b[0;34m,\u001b[0m \u001b[0my_train\u001b[0m\u001b[0;34m)\u001b[0m\u001b[0;34m\u001b[0m\u001b[0;34m\u001b[0m\u001b[0m\n\u001b[0m",
      "\u001b[0;32m~/opt/anaconda3/lib/python3.8/site-packages/sklearn/pipeline.py\u001b[0m in \u001b[0;36mfit\u001b[0;34m(self, X, y, **fit_params)\u001b[0m\n\u001b[1;32m    392\u001b[0m             \u001b[0;32mif\u001b[0m \u001b[0mself\u001b[0m\u001b[0;34m.\u001b[0m\u001b[0m_final_estimator\u001b[0m \u001b[0;34m!=\u001b[0m \u001b[0;34m\"passthrough\"\u001b[0m\u001b[0;34m:\u001b[0m\u001b[0;34m\u001b[0m\u001b[0;34m\u001b[0m\u001b[0m\n\u001b[1;32m    393\u001b[0m                 \u001b[0mfit_params_last_step\u001b[0m \u001b[0;34m=\u001b[0m \u001b[0mfit_params_steps\u001b[0m\u001b[0;34m[\u001b[0m\u001b[0mself\u001b[0m\u001b[0;34m.\u001b[0m\u001b[0msteps\u001b[0m\u001b[0;34m[\u001b[0m\u001b[0;34m-\u001b[0m\u001b[0;36m1\u001b[0m\u001b[0;34m]\u001b[0m\u001b[0;34m[\u001b[0m\u001b[0;36m0\u001b[0m\u001b[0;34m]\u001b[0m\u001b[0;34m]\u001b[0m\u001b[0;34m\u001b[0m\u001b[0;34m\u001b[0m\u001b[0m\n\u001b[0;32m--> 394\u001b[0;31m                 \u001b[0mself\u001b[0m\u001b[0;34m.\u001b[0m\u001b[0m_final_estimator\u001b[0m\u001b[0;34m.\u001b[0m\u001b[0mfit\u001b[0m\u001b[0;34m(\u001b[0m\u001b[0mXt\u001b[0m\u001b[0;34m,\u001b[0m \u001b[0my\u001b[0m\u001b[0;34m,\u001b[0m \u001b[0;34m**\u001b[0m\u001b[0mfit_params_last_step\u001b[0m\u001b[0;34m)\u001b[0m\u001b[0;34m\u001b[0m\u001b[0;34m\u001b[0m\u001b[0m\n\u001b[0m\u001b[1;32m    395\u001b[0m \u001b[0;34m\u001b[0m\u001b[0m\n\u001b[1;32m    396\u001b[0m         \u001b[0;32mreturn\u001b[0m \u001b[0mself\u001b[0m\u001b[0;34m\u001b[0m\u001b[0;34m\u001b[0m\u001b[0m\n",
      "\u001b[0;32m~/opt/anaconda3/lib/python3.8/site-packages/aif360/sklearn/inprocessing/adversarial_debiasing.py\u001b[0m in \u001b[0;36mfit\u001b[0;34m(self, X, y)\u001b[0m\n\u001b[1;32m    105\u001b[0m         \u001b[0mself\u001b[0m\u001b[0;34m.\u001b[0m\u001b[0msess_\u001b[0m \u001b[0;34m=\u001b[0m \u001b[0mtf\u001b[0m\u001b[0;34m.\u001b[0m\u001b[0mSession\u001b[0m\u001b[0;34m(\u001b[0m\u001b[0;34m)\u001b[0m\u001b[0;34m\u001b[0m\u001b[0;34m\u001b[0m\u001b[0m\n\u001b[1;32m    106\u001b[0m \u001b[0;34m\u001b[0m\u001b[0m\n\u001b[0;32m--> 107\u001b[0;31m         \u001b[0mgroups\u001b[0m\u001b[0;34m,\u001b[0m \u001b[0mself\u001b[0m\u001b[0;34m.\u001b[0m\u001b[0mprot_attr_\u001b[0m \u001b[0;34m=\u001b[0m \u001b[0mcheck_groups\u001b[0m\u001b[0;34m(\u001b[0m\u001b[0mX\u001b[0m\u001b[0;34m,\u001b[0m \u001b[0mself\u001b[0m\u001b[0;34m.\u001b[0m\u001b[0mprot_attr\u001b[0m\u001b[0;34m)\u001b[0m\u001b[0;34m\u001b[0m\u001b[0;34m\u001b[0m\u001b[0m\n\u001b[0m\u001b[1;32m    108\u001b[0m         \u001b[0mle\u001b[0m \u001b[0;34m=\u001b[0m \u001b[0mLabelEncoder\u001b[0m\u001b[0;34m(\u001b[0m\u001b[0;34m)\u001b[0m\u001b[0;34m\u001b[0m\u001b[0;34m\u001b[0m\u001b[0m\n\u001b[1;32m    109\u001b[0m         \u001b[0my\u001b[0m \u001b[0;34m=\u001b[0m \u001b[0mle\u001b[0m\u001b[0;34m.\u001b[0m\u001b[0mfit_transform\u001b[0m\u001b[0;34m(\u001b[0m\u001b[0my\u001b[0m\u001b[0;34m)\u001b[0m\u001b[0;34m\u001b[0m\u001b[0;34m\u001b[0m\u001b[0m\n",
      "\u001b[0;32m~/opt/anaconda3/lib/python3.8/site-packages/aif360/sklearn/utils.py\u001b[0m in \u001b[0;36mcheck_groups\u001b[0;34m(arr, prot_attr, ensure_binary)\u001b[0m\n\u001b[1;32m     79\u001b[0m \u001b[0;34m\u001b[0m\u001b[0m\n\u001b[1;32m     80\u001b[0m     \u001b[0;32mif\u001b[0m \u001b[0many\u001b[0m\u001b[0;34m(\u001b[0m\u001b[0mp\u001b[0m \u001b[0;32mnot\u001b[0m \u001b[0;32min\u001b[0m \u001b[0marr\u001b[0m\u001b[0;34m.\u001b[0m\u001b[0mindex\u001b[0m\u001b[0;34m.\u001b[0m\u001b[0mnames\u001b[0m \u001b[0;32mfor\u001b[0m \u001b[0mp\u001b[0m \u001b[0;32min\u001b[0m \u001b[0mprot_attr\u001b[0m\u001b[0;34m)\u001b[0m\u001b[0;34m:\u001b[0m\u001b[0;34m\u001b[0m\u001b[0;34m\u001b[0m\u001b[0m\n\u001b[0;32m---> 81\u001b[0;31m         raise ValueError(\"Some of the attributes provided are not present \"\n\u001b[0m\u001b[1;32m     82\u001b[0m                          \u001b[0;34m\"in the dataset. Expected a subset of:\\n{}\\nGot:\\n\"\u001b[0m\u001b[0;34m\u001b[0m\u001b[0;34m\u001b[0m\u001b[0m\n\u001b[1;32m     83\u001b[0m                          \"{}\".format(all_prot_attrs, prot_attr))\n",
      "\u001b[0;31mValueError\u001b[0m: Some of the attributes provided are not present in the dataset. Expected a subset of:\n[]\nGot:\n['sex']"
     ]
    }
   ],
   "source": [
    "tf.disable_eager_execution()\n",
    "adv_model.fit(X_train, y_train)"
   ]
  },
  {
   "cell_type": "code",
   "execution_count": null,
   "id": "941c2ca9-237c-4e65-810d-c3236daa1011",
   "metadata": {},
   "outputs": [],
   "source": []
  },
  {
   "cell_type": "code",
   "execution_count": null,
   "id": "c996961c-5526-47ba-8113-83708dda5e82",
   "metadata": {},
   "outputs": [],
   "source": []
  },
  {
   "cell_type": "code",
   "execution_count": null,
   "id": "599d2209-45f0-449d-b243-2a62e7ee24c6",
   "metadata": {},
   "outputs": [],
   "source": []
  },
  {
   "cell_type": "code",
   "execution_count": null,
   "id": "293fd22a-aeea-4dec-806e-d393d0359855",
   "metadata": {},
   "outputs": [],
   "source": []
  },
  {
   "cell_type": "code",
   "execution_count": null,
   "id": "6bd38f9d-d938-44a7-9d98-0dfa3e028ba5",
   "metadata": {},
   "outputs": [],
   "source": []
  },
  {
   "cell_type": "code",
   "execution_count": null,
   "id": "fe343cb9-7153-4b00-ad34-2f730a6b97c3",
   "metadata": {},
   "outputs": [],
   "source": []
  },
  {
   "cell_type": "code",
   "execution_count": 84,
   "id": "cf28de69-8fa0-4cce-b456-3c2ff35fdd04",
   "metadata": {},
   "outputs": [],
   "source": [
    "X_prep_train, X_prep_test = preprocessor.fit_transform(X_train), preprocessor.transform(X_test)\n",
    "column_names = preprocessor.get_feature_names_out(preprocessor.feature_names_in_)\n",
    "\n",
    "df_prep = pd.DataFrame(X_prep_train)\n",
    "df_prep.columns = column_names\n",
    "\n",
    "df_prep['risk'] = np.array(y_train)\n",
    "\n",
    "privileged_groups=[{'onehotencdore_sex_male': 1.0}]\n",
    "unprivileged_groups=[{'onehotencdore_sex_female': 1.0}]\n",
    "\n",
    "#df_prep"
   ]
  },
  {
   "cell_type": "code",
   "execution_count": 85,
   "id": "0bec288b-059c-42ee-a89d-017fac5fa4e8",
   "metadata": {},
   "outputs": [
    {
     "data": {
      "text/html": [
       "<div>\n",
       "<style scoped>\n",
       "    .dataframe tbody tr th:only-of-type {\n",
       "        vertical-align: middle;\n",
       "    }\n",
       "\n",
       "    .dataframe tbody tr th {\n",
       "        vertical-align: top;\n",
       "    }\n",
       "\n",
       "    .dataframe thead th {\n",
       "        text-align: right;\n",
       "    }\n",
       "</style>\n",
       "<table border=\"1\" class=\"dataframe\">\n",
       "  <thead>\n",
       "    <tr style=\"text-align: right;\">\n",
       "      <th></th>\n",
       "      <th>standardscaler__job</th>\n",
       "      <th>standardscaler__credit_amount</th>\n",
       "      <th>standardscaler__duration</th>\n",
       "      <th>standardscaler__age</th>\n",
       "      <th>onehotencoder__sex_female</th>\n",
       "      <th>onehotencoder__sex_male</th>\n",
       "      <th>onehotencoder__housing_free</th>\n",
       "      <th>onehotencoder__housing_own</th>\n",
       "      <th>onehotencoder__housing_rent</th>\n",
       "      <th>onehotencoder__saving_accounts_little</th>\n",
       "      <th>...</th>\n",
       "      <th>onehotencoder__checking_account_rich</th>\n",
       "      <th>onehotencoder__purpose_business</th>\n",
       "      <th>onehotencoder__purpose_car</th>\n",
       "      <th>onehotencoder__purpose_domestic appliances</th>\n",
       "      <th>onehotencoder__purpose_education</th>\n",
       "      <th>onehotencoder__purpose_furniture/equipment</th>\n",
       "      <th>onehotencoder__purpose_radio/TV</th>\n",
       "      <th>onehotencoder__purpose_repairs</th>\n",
       "      <th>onehotencoder__purpose_vacation/others</th>\n",
       "      <th>risk</th>\n",
       "    </tr>\n",
       "  </thead>\n",
       "  <tbody>\n",
       "    <tr>\n",
       "      <th>0</th>\n",
       "      <td>0.095819</td>\n",
       "      <td>-0.462936</td>\n",
       "      <td>0.231016</td>\n",
       "      <td>2.179382</td>\n",
       "      <td>0.0</td>\n",
       "      <td>1.0</td>\n",
       "      <td>1.0</td>\n",
       "      <td>0.0</td>\n",
       "      <td>0.0</td>\n",
       "      <td>1.0</td>\n",
       "      <td>...</td>\n",
       "      <td>0.0</td>\n",
       "      <td>0.0</td>\n",
       "      <td>1.0</td>\n",
       "      <td>0.0</td>\n",
       "      <td>0.0</td>\n",
       "      <td>0.0</td>\n",
       "      <td>0.0</td>\n",
       "      <td>0.0</td>\n",
       "      <td>0.0</td>\n",
       "      <td>1</td>\n",
       "    </tr>\n",
       "    <tr>\n",
       "      <th>1</th>\n",
       "      <td>1.620212</td>\n",
       "      <td>-0.512772</td>\n",
       "      <td>-0.778104</td>\n",
       "      <td>0.311885</td>\n",
       "      <td>0.0</td>\n",
       "      <td>1.0</td>\n",
       "      <td>0.0</td>\n",
       "      <td>1.0</td>\n",
       "      <td>0.0</td>\n",
       "      <td>1.0</td>\n",
       "      <td>...</td>\n",
       "      <td>0.0</td>\n",
       "      <td>0.0</td>\n",
       "      <td>1.0</td>\n",
       "      <td>0.0</td>\n",
       "      <td>0.0</td>\n",
       "      <td>0.0</td>\n",
       "      <td>0.0</td>\n",
       "      <td>0.0</td>\n",
       "      <td>0.0</td>\n",
       "      <td>1</td>\n",
       "    </tr>\n",
       "    <tr>\n",
       "      <th>2</th>\n",
       "      <td>0.095819</td>\n",
       "      <td>0.072458</td>\n",
       "      <td>0.735576</td>\n",
       "      <td>1.912597</td>\n",
       "      <td>1.0</td>\n",
       "      <td>0.0</td>\n",
       "      <td>0.0</td>\n",
       "      <td>0.0</td>\n",
       "      <td>1.0</td>\n",
       "      <td>0.0</td>\n",
       "      <td>...</td>\n",
       "      <td>0.0</td>\n",
       "      <td>0.0</td>\n",
       "      <td>0.0</td>\n",
       "      <td>0.0</td>\n",
       "      <td>0.0</td>\n",
       "      <td>1.0</td>\n",
       "      <td>0.0</td>\n",
       "      <td>0.0</td>\n",
       "      <td>0.0</td>\n",
       "      <td>1</td>\n",
       "    </tr>\n",
       "    <tr>\n",
       "      <th>3</th>\n",
       "      <td>-1.428574</td>\n",
       "      <td>-0.824580</td>\n",
       "      <td>-0.778104</td>\n",
       "      <td>1.023312</td>\n",
       "      <td>0.0</td>\n",
       "      <td>1.0</td>\n",
       "      <td>0.0</td>\n",
       "      <td>1.0</td>\n",
       "      <td>0.0</td>\n",
       "      <td>1.0</td>\n",
       "      <td>...</td>\n",
       "      <td>0.0</td>\n",
       "      <td>0.0</td>\n",
       "      <td>1.0</td>\n",
       "      <td>0.0</td>\n",
       "      <td>0.0</td>\n",
       "      <td>0.0</td>\n",
       "      <td>0.0</td>\n",
       "      <td>0.0</td>\n",
       "      <td>0.0</td>\n",
       "      <td>1</td>\n",
       "    </tr>\n",
       "    <tr>\n",
       "      <th>4</th>\n",
       "      <td>1.620212</td>\n",
       "      <td>0.775879</td>\n",
       "      <td>1.240136</td>\n",
       "      <td>0.222956</td>\n",
       "      <td>0.0</td>\n",
       "      <td>1.0</td>\n",
       "      <td>0.0</td>\n",
       "      <td>1.0</td>\n",
       "      <td>0.0</td>\n",
       "      <td>0.0</td>\n",
       "      <td>...</td>\n",
       "      <td>0.0</td>\n",
       "      <td>0.0</td>\n",
       "      <td>1.0</td>\n",
       "      <td>0.0</td>\n",
       "      <td>0.0</td>\n",
       "      <td>0.0</td>\n",
       "      <td>0.0</td>\n",
       "      <td>0.0</td>\n",
       "      <td>0.0</td>\n",
       "      <td>1</td>\n",
       "    </tr>\n",
       "    <tr>\n",
       "      <th>...</th>\n",
       "      <td>...</td>\n",
       "      <td>...</td>\n",
       "      <td>...</td>\n",
       "      <td>...</td>\n",
       "      <td>...</td>\n",
       "      <td>...</td>\n",
       "      <td>...</td>\n",
       "      <td>...</td>\n",
       "      <td>...</td>\n",
       "      <td>...</td>\n",
       "      <td>...</td>\n",
       "      <td>...</td>\n",
       "      <td>...</td>\n",
       "      <td>...</td>\n",
       "      <td>...</td>\n",
       "      <td>...</td>\n",
       "      <td>...</td>\n",
       "      <td>...</td>\n",
       "      <td>...</td>\n",
       "      <td>...</td>\n",
       "      <td>...</td>\n",
       "    </tr>\n",
       "    <tr>\n",
       "      <th>695</th>\n",
       "      <td>1.620212</td>\n",
       "      <td>1.027413</td>\n",
       "      <td>-0.273544</td>\n",
       "      <td>0.311885</td>\n",
       "      <td>0.0</td>\n",
       "      <td>1.0</td>\n",
       "      <td>0.0</td>\n",
       "      <td>1.0</td>\n",
       "      <td>0.0</td>\n",
       "      <td>1.0</td>\n",
       "      <td>...</td>\n",
       "      <td>0.0</td>\n",
       "      <td>0.0</td>\n",
       "      <td>1.0</td>\n",
       "      <td>0.0</td>\n",
       "      <td>0.0</td>\n",
       "      <td>0.0</td>\n",
       "      <td>0.0</td>\n",
       "      <td>0.0</td>\n",
       "      <td>0.0</td>\n",
       "      <td>0</td>\n",
       "    </tr>\n",
       "    <tr>\n",
       "      <th>696</th>\n",
       "      <td>0.095819</td>\n",
       "      <td>-0.250799</td>\n",
       "      <td>-0.273544</td>\n",
       "      <td>-0.310614</td>\n",
       "      <td>0.0</td>\n",
       "      <td>1.0</td>\n",
       "      <td>0.0</td>\n",
       "      <td>1.0</td>\n",
       "      <td>0.0</td>\n",
       "      <td>0.0</td>\n",
       "      <td>...</td>\n",
       "      <td>0.0</td>\n",
       "      <td>0.0</td>\n",
       "      <td>1.0</td>\n",
       "      <td>0.0</td>\n",
       "      <td>0.0</td>\n",
       "      <td>0.0</td>\n",
       "      <td>0.0</td>\n",
       "      <td>0.0</td>\n",
       "      <td>0.0</td>\n",
       "      <td>1</td>\n",
       "    </tr>\n",
       "    <tr>\n",
       "      <th>697</th>\n",
       "      <td>0.095819</td>\n",
       "      <td>0.807194</td>\n",
       "      <td>0.231016</td>\n",
       "      <td>-0.755257</td>\n",
       "      <td>0.0</td>\n",
       "      <td>1.0</td>\n",
       "      <td>0.0</td>\n",
       "      <td>1.0</td>\n",
       "      <td>0.0</td>\n",
       "      <td>0.0</td>\n",
       "      <td>...</td>\n",
       "      <td>0.0</td>\n",
       "      <td>0.0</td>\n",
       "      <td>1.0</td>\n",
       "      <td>0.0</td>\n",
       "      <td>0.0</td>\n",
       "      <td>0.0</td>\n",
       "      <td>0.0</td>\n",
       "      <td>0.0</td>\n",
       "      <td>0.0</td>\n",
       "      <td>1</td>\n",
       "    </tr>\n",
       "    <tr>\n",
       "      <th>698</th>\n",
       "      <td>0.095819</td>\n",
       "      <td>-0.647462</td>\n",
       "      <td>-0.778104</td>\n",
       "      <td>-0.933113</td>\n",
       "      <td>0.0</td>\n",
       "      <td>1.0</td>\n",
       "      <td>0.0</td>\n",
       "      <td>1.0</td>\n",
       "      <td>0.0</td>\n",
       "      <td>0.0</td>\n",
       "      <td>...</td>\n",
       "      <td>0.0</td>\n",
       "      <td>0.0</td>\n",
       "      <td>0.0</td>\n",
       "      <td>0.0</td>\n",
       "      <td>0.0</td>\n",
       "      <td>0.0</td>\n",
       "      <td>1.0</td>\n",
       "      <td>0.0</td>\n",
       "      <td>0.0</td>\n",
       "      <td>0</td>\n",
       "    </tr>\n",
       "    <tr>\n",
       "      <th>699</th>\n",
       "      <td>0.095819</td>\n",
       "      <td>-0.833335</td>\n",
       "      <td>-1.282664</td>\n",
       "      <td>-1.022042</td>\n",
       "      <td>1.0</td>\n",
       "      <td>0.0</td>\n",
       "      <td>0.0</td>\n",
       "      <td>1.0</td>\n",
       "      <td>0.0</td>\n",
       "      <td>1.0</td>\n",
       "      <td>...</td>\n",
       "      <td>0.0</td>\n",
       "      <td>0.0</td>\n",
       "      <td>0.0</td>\n",
       "      <td>0.0</td>\n",
       "      <td>0.0</td>\n",
       "      <td>0.0</td>\n",
       "      <td>1.0</td>\n",
       "      <td>0.0</td>\n",
       "      <td>0.0</td>\n",
       "      <td>1</td>\n",
       "    </tr>\n",
       "  </tbody>\n",
       "</table>\n",
       "<p>700 rows × 27 columns</p>\n",
       "</div>"
      ],
      "text/plain": [
       "     standardscaler__job  standardscaler__credit_amount  \\\n",
       "0               0.095819                      -0.462936   \n",
       "1               1.620212                      -0.512772   \n",
       "2               0.095819                       0.072458   \n",
       "3              -1.428574                      -0.824580   \n",
       "4               1.620212                       0.775879   \n",
       "..                   ...                            ...   \n",
       "695             1.620212                       1.027413   \n",
       "696             0.095819                      -0.250799   \n",
       "697             0.095819                       0.807194   \n",
       "698             0.095819                      -0.647462   \n",
       "699             0.095819                      -0.833335   \n",
       "\n",
       "     standardscaler__duration  standardscaler__age  onehotencoder__sex_female  \\\n",
       "0                    0.231016             2.179382                        0.0   \n",
       "1                   -0.778104             0.311885                        0.0   \n",
       "2                    0.735576             1.912597                        1.0   \n",
       "3                   -0.778104             1.023312                        0.0   \n",
       "4                    1.240136             0.222956                        0.0   \n",
       "..                        ...                  ...                        ...   \n",
       "695                 -0.273544             0.311885                        0.0   \n",
       "696                 -0.273544            -0.310614                        0.0   \n",
       "697                  0.231016            -0.755257                        0.0   \n",
       "698                 -0.778104            -0.933113                        0.0   \n",
       "699                 -1.282664            -1.022042                        1.0   \n",
       "\n",
       "     onehotencoder__sex_male  onehotencoder__housing_free  \\\n",
       "0                        1.0                          1.0   \n",
       "1                        1.0                          0.0   \n",
       "2                        0.0                          0.0   \n",
       "3                        1.0                          0.0   \n",
       "4                        1.0                          0.0   \n",
       "..                       ...                          ...   \n",
       "695                      1.0                          0.0   \n",
       "696                      1.0                          0.0   \n",
       "697                      1.0                          0.0   \n",
       "698                      1.0                          0.0   \n",
       "699                      0.0                          0.0   \n",
       "\n",
       "     onehotencoder__housing_own  onehotencoder__housing_rent  \\\n",
       "0                           0.0                          0.0   \n",
       "1                           1.0                          0.0   \n",
       "2                           0.0                          1.0   \n",
       "3                           1.0                          0.0   \n",
       "4                           1.0                          0.0   \n",
       "..                          ...                          ...   \n",
       "695                         1.0                          0.0   \n",
       "696                         1.0                          0.0   \n",
       "697                         1.0                          0.0   \n",
       "698                         1.0                          0.0   \n",
       "699                         1.0                          0.0   \n",
       "\n",
       "     onehotencoder__saving_accounts_little  ...  \\\n",
       "0                                      1.0  ...   \n",
       "1                                      1.0  ...   \n",
       "2                                      0.0  ...   \n",
       "3                                      1.0  ...   \n",
       "4                                      0.0  ...   \n",
       "..                                     ...  ...   \n",
       "695                                    1.0  ...   \n",
       "696                                    0.0  ...   \n",
       "697                                    0.0  ...   \n",
       "698                                    0.0  ...   \n",
       "699                                    1.0  ...   \n",
       "\n",
       "     onehotencoder__checking_account_rich  onehotencoder__purpose_business  \\\n",
       "0                                     0.0                              0.0   \n",
       "1                                     0.0                              0.0   \n",
       "2                                     0.0                              0.0   \n",
       "3                                     0.0                              0.0   \n",
       "4                                     0.0                              0.0   \n",
       "..                                    ...                              ...   \n",
       "695                                   0.0                              0.0   \n",
       "696                                   0.0                              0.0   \n",
       "697                                   0.0                              0.0   \n",
       "698                                   0.0                              0.0   \n",
       "699                                   0.0                              0.0   \n",
       "\n",
       "     onehotencoder__purpose_car  onehotencoder__purpose_domestic appliances  \\\n",
       "0                           1.0                                         0.0   \n",
       "1                           1.0                                         0.0   \n",
       "2                           0.0                                         0.0   \n",
       "3                           1.0                                         0.0   \n",
       "4                           1.0                                         0.0   \n",
       "..                          ...                                         ...   \n",
       "695                         1.0                                         0.0   \n",
       "696                         1.0                                         0.0   \n",
       "697                         1.0                                         0.0   \n",
       "698                         0.0                                         0.0   \n",
       "699                         0.0                                         0.0   \n",
       "\n",
       "     onehotencoder__purpose_education  \\\n",
       "0                                 0.0   \n",
       "1                                 0.0   \n",
       "2                                 0.0   \n",
       "3                                 0.0   \n",
       "4                                 0.0   \n",
       "..                                ...   \n",
       "695                               0.0   \n",
       "696                               0.0   \n",
       "697                               0.0   \n",
       "698                               0.0   \n",
       "699                               0.0   \n",
       "\n",
       "     onehotencoder__purpose_furniture/equipment  \\\n",
       "0                                           0.0   \n",
       "1                                           0.0   \n",
       "2                                           1.0   \n",
       "3                                           0.0   \n",
       "4                                           0.0   \n",
       "..                                          ...   \n",
       "695                                         0.0   \n",
       "696                                         0.0   \n",
       "697                                         0.0   \n",
       "698                                         0.0   \n",
       "699                                         0.0   \n",
       "\n",
       "     onehotencoder__purpose_radio/TV  onehotencoder__purpose_repairs  \\\n",
       "0                                0.0                             0.0   \n",
       "1                                0.0                             0.0   \n",
       "2                                0.0                             0.0   \n",
       "3                                0.0                             0.0   \n",
       "4                                0.0                             0.0   \n",
       "..                               ...                             ...   \n",
       "695                              0.0                             0.0   \n",
       "696                              0.0                             0.0   \n",
       "697                              0.0                             0.0   \n",
       "698                              1.0                             0.0   \n",
       "699                              1.0                             0.0   \n",
       "\n",
       "     onehotencoder__purpose_vacation/others  risk  \n",
       "0                                       0.0     1  \n",
       "1                                       0.0     1  \n",
       "2                                       0.0     1  \n",
       "3                                       0.0     1  \n",
       "4                                       0.0     1  \n",
       "..                                      ...   ...  \n",
       "695                                     0.0     0  \n",
       "696                                     0.0     1  \n",
       "697                                     0.0     1  \n",
       "698                                     0.0     0  \n",
       "699                                     0.0     1  \n",
       "\n",
       "[700 rows x 27 columns]"
      ]
     },
     "execution_count": 85,
     "metadata": {},
     "output_type": "execute_result"
    }
   ],
   "source": [
    "df_prep"
   ]
  },
  {
   "cell_type": "code",
   "execution_count": 78,
   "id": "251cf08f-b9df-4e22-b242-74c59345a966",
   "metadata": {},
   "outputs": [
    {
     "data": {
      "text/html": [
       "<div>\n",
       "<style scoped>\n",
       "    .dataframe tbody tr th:only-of-type {\n",
       "        vertical-align: middle;\n",
       "    }\n",
       "\n",
       "    .dataframe tbody tr th {\n",
       "        vertical-align: top;\n",
       "    }\n",
       "\n",
       "    .dataframe thead th {\n",
       "        text-align: right;\n",
       "    }\n",
       "</style>\n",
       "<table border=\"1\" class=\"dataframe\">\n",
       "  <thead>\n",
       "    <tr style=\"text-align: right;\">\n",
       "      <th></th>\n",
       "      <th>standardscaler__job</th>\n",
       "      <th>standardscaler__credit_amount</th>\n",
       "      <th>standardscaler__duration</th>\n",
       "      <th>standardscaler__age</th>\n",
       "      <th>onehotencoder__sex_female</th>\n",
       "      <th>onehotencoder__sex_male</th>\n",
       "      <th>onehotencoder__housing_free</th>\n",
       "      <th>onehotencoder__housing_own</th>\n",
       "      <th>onehotencoder__housing_rent</th>\n",
       "      <th>onehotencoder__saving_accounts_little</th>\n",
       "      <th>...</th>\n",
       "      <th>onehotencoder__checking_account_rich</th>\n",
       "      <th>onehotencoder__purpose_business</th>\n",
       "      <th>onehotencoder__purpose_car</th>\n",
       "      <th>onehotencoder__purpose_domestic appliances</th>\n",
       "      <th>onehotencoder__purpose_education</th>\n",
       "      <th>onehotencoder__purpose_furniture/equipment</th>\n",
       "      <th>onehotencoder__purpose_radio/TV</th>\n",
       "      <th>onehotencoder__purpose_repairs</th>\n",
       "      <th>onehotencoder__purpose_vacation/others</th>\n",
       "      <th>risk</th>\n",
       "    </tr>\n",
       "  </thead>\n",
       "  <tbody>\n",
       "    <tr>\n",
       "      <th>0</th>\n",
       "      <td>0.095819</td>\n",
       "      <td>-0.462936</td>\n",
       "      <td>0.231016</td>\n",
       "      <td>2.179382</td>\n",
       "      <td>0.0</td>\n",
       "      <td>1.0</td>\n",
       "      <td>1.0</td>\n",
       "      <td>0.0</td>\n",
       "      <td>0.0</td>\n",
       "      <td>1.0</td>\n",
       "      <td>...</td>\n",
       "      <td>0.0</td>\n",
       "      <td>0.0</td>\n",
       "      <td>1.0</td>\n",
       "      <td>0.0</td>\n",
       "      <td>0.0</td>\n",
       "      <td>0.0</td>\n",
       "      <td>0.0</td>\n",
       "      <td>0.0</td>\n",
       "      <td>0.0</td>\n",
       "      <td>1.0</td>\n",
       "    </tr>\n",
       "    <tr>\n",
       "      <th>1</th>\n",
       "      <td>1.620212</td>\n",
       "      <td>-0.512772</td>\n",
       "      <td>-0.778104</td>\n",
       "      <td>0.311885</td>\n",
       "      <td>0.0</td>\n",
       "      <td>1.0</td>\n",
       "      <td>0.0</td>\n",
       "      <td>1.0</td>\n",
       "      <td>0.0</td>\n",
       "      <td>1.0</td>\n",
       "      <td>...</td>\n",
       "      <td>0.0</td>\n",
       "      <td>0.0</td>\n",
       "      <td>1.0</td>\n",
       "      <td>0.0</td>\n",
       "      <td>0.0</td>\n",
       "      <td>0.0</td>\n",
       "      <td>0.0</td>\n",
       "      <td>0.0</td>\n",
       "      <td>0.0</td>\n",
       "      <td>0.0</td>\n",
       "    </tr>\n",
       "    <tr>\n",
       "      <th>2</th>\n",
       "      <td>0.095819</td>\n",
       "      <td>0.072458</td>\n",
       "      <td>0.735576</td>\n",
       "      <td>1.912597</td>\n",
       "      <td>1.0</td>\n",
       "      <td>0.0</td>\n",
       "      <td>0.0</td>\n",
       "      <td>0.0</td>\n",
       "      <td>1.0</td>\n",
       "      <td>0.0</td>\n",
       "      <td>...</td>\n",
       "      <td>0.0</td>\n",
       "      <td>0.0</td>\n",
       "      <td>0.0</td>\n",
       "      <td>0.0</td>\n",
       "      <td>0.0</td>\n",
       "      <td>1.0</td>\n",
       "      <td>0.0</td>\n",
       "      <td>0.0</td>\n",
       "      <td>0.0</td>\n",
       "      <td>NaN</td>\n",
       "    </tr>\n",
       "    <tr>\n",
       "      <th>3</th>\n",
       "      <td>-1.428574</td>\n",
       "      <td>-0.824580</td>\n",
       "      <td>-0.778104</td>\n",
       "      <td>1.023312</td>\n",
       "      <td>0.0</td>\n",
       "      <td>1.0</td>\n",
       "      <td>0.0</td>\n",
       "      <td>1.0</td>\n",
       "      <td>0.0</td>\n",
       "      <td>1.0</td>\n",
       "      <td>...</td>\n",
       "      <td>0.0</td>\n",
       "      <td>0.0</td>\n",
       "      <td>1.0</td>\n",
       "      <td>0.0</td>\n",
       "      <td>0.0</td>\n",
       "      <td>0.0</td>\n",
       "      <td>0.0</td>\n",
       "      <td>0.0</td>\n",
       "      <td>0.0</td>\n",
       "      <td>NaN</td>\n",
       "    </tr>\n",
       "    <tr>\n",
       "      <th>4</th>\n",
       "      <td>1.620212</td>\n",
       "      <td>0.775879</td>\n",
       "      <td>1.240136</td>\n",
       "      <td>0.222956</td>\n",
       "      <td>0.0</td>\n",
       "      <td>1.0</td>\n",
       "      <td>0.0</td>\n",
       "      <td>1.0</td>\n",
       "      <td>0.0</td>\n",
       "      <td>0.0</td>\n",
       "      <td>...</td>\n",
       "      <td>0.0</td>\n",
       "      <td>0.0</td>\n",
       "      <td>1.0</td>\n",
       "      <td>0.0</td>\n",
       "      <td>0.0</td>\n",
       "      <td>0.0</td>\n",
       "      <td>0.0</td>\n",
       "      <td>0.0</td>\n",
       "      <td>0.0</td>\n",
       "      <td>0.0</td>\n",
       "    </tr>\n",
       "    <tr>\n",
       "      <th>...</th>\n",
       "      <td>...</td>\n",
       "      <td>...</td>\n",
       "      <td>...</td>\n",
       "      <td>...</td>\n",
       "      <td>...</td>\n",
       "      <td>...</td>\n",
       "      <td>...</td>\n",
       "      <td>...</td>\n",
       "      <td>...</td>\n",
       "      <td>...</td>\n",
       "      <td>...</td>\n",
       "      <td>...</td>\n",
       "      <td>...</td>\n",
       "      <td>...</td>\n",
       "      <td>...</td>\n",
       "      <td>...</td>\n",
       "      <td>...</td>\n",
       "      <td>...</td>\n",
       "      <td>...</td>\n",
       "      <td>...</td>\n",
       "      <td>...</td>\n",
       "    </tr>\n",
       "    <tr>\n",
       "      <th>695</th>\n",
       "      <td>1.620212</td>\n",
       "      <td>1.027413</td>\n",
       "      <td>-0.273544</td>\n",
       "      <td>0.311885</td>\n",
       "      <td>0.0</td>\n",
       "      <td>1.0</td>\n",
       "      <td>0.0</td>\n",
       "      <td>1.0</td>\n",
       "      <td>0.0</td>\n",
       "      <td>1.0</td>\n",
       "      <td>...</td>\n",
       "      <td>0.0</td>\n",
       "      <td>0.0</td>\n",
       "      <td>1.0</td>\n",
       "      <td>0.0</td>\n",
       "      <td>0.0</td>\n",
       "      <td>0.0</td>\n",
       "      <td>0.0</td>\n",
       "      <td>0.0</td>\n",
       "      <td>0.0</td>\n",
       "      <td>NaN</td>\n",
       "    </tr>\n",
       "    <tr>\n",
       "      <th>696</th>\n",
       "      <td>0.095819</td>\n",
       "      <td>-0.250799</td>\n",
       "      <td>-0.273544</td>\n",
       "      <td>-0.310614</td>\n",
       "      <td>0.0</td>\n",
       "      <td>1.0</td>\n",
       "      <td>0.0</td>\n",
       "      <td>1.0</td>\n",
       "      <td>0.0</td>\n",
       "      <td>0.0</td>\n",
       "      <td>...</td>\n",
       "      <td>0.0</td>\n",
       "      <td>0.0</td>\n",
       "      <td>1.0</td>\n",
       "      <td>0.0</td>\n",
       "      <td>0.0</td>\n",
       "      <td>0.0</td>\n",
       "      <td>0.0</td>\n",
       "      <td>0.0</td>\n",
       "      <td>0.0</td>\n",
       "      <td>1.0</td>\n",
       "    </tr>\n",
       "    <tr>\n",
       "      <th>697</th>\n",
       "      <td>0.095819</td>\n",
       "      <td>0.807194</td>\n",
       "      <td>0.231016</td>\n",
       "      <td>-0.755257</td>\n",
       "      <td>0.0</td>\n",
       "      <td>1.0</td>\n",
       "      <td>0.0</td>\n",
       "      <td>1.0</td>\n",
       "      <td>0.0</td>\n",
       "      <td>0.0</td>\n",
       "      <td>...</td>\n",
       "      <td>0.0</td>\n",
       "      <td>0.0</td>\n",
       "      <td>1.0</td>\n",
       "      <td>0.0</td>\n",
       "      <td>0.0</td>\n",
       "      <td>0.0</td>\n",
       "      <td>0.0</td>\n",
       "      <td>0.0</td>\n",
       "      <td>0.0</td>\n",
       "      <td>NaN</td>\n",
       "    </tr>\n",
       "    <tr>\n",
       "      <th>698</th>\n",
       "      <td>0.095819</td>\n",
       "      <td>-0.647462</td>\n",
       "      <td>-0.778104</td>\n",
       "      <td>-0.933113</td>\n",
       "      <td>0.0</td>\n",
       "      <td>1.0</td>\n",
       "      <td>0.0</td>\n",
       "      <td>1.0</td>\n",
       "      <td>0.0</td>\n",
       "      <td>0.0</td>\n",
       "      <td>...</td>\n",
       "      <td>0.0</td>\n",
       "      <td>0.0</td>\n",
       "      <td>0.0</td>\n",
       "      <td>0.0</td>\n",
       "      <td>0.0</td>\n",
       "      <td>0.0</td>\n",
       "      <td>1.0</td>\n",
       "      <td>0.0</td>\n",
       "      <td>0.0</td>\n",
       "      <td>1.0</td>\n",
       "    </tr>\n",
       "    <tr>\n",
       "      <th>699</th>\n",
       "      <td>0.095819</td>\n",
       "      <td>-0.833335</td>\n",
       "      <td>-1.282664</td>\n",
       "      <td>-1.022042</td>\n",
       "      <td>1.0</td>\n",
       "      <td>0.0</td>\n",
       "      <td>0.0</td>\n",
       "      <td>1.0</td>\n",
       "      <td>0.0</td>\n",
       "      <td>1.0</td>\n",
       "      <td>...</td>\n",
       "      <td>0.0</td>\n",
       "      <td>0.0</td>\n",
       "      <td>0.0</td>\n",
       "      <td>0.0</td>\n",
       "      <td>0.0</td>\n",
       "      <td>0.0</td>\n",
       "      <td>1.0</td>\n",
       "      <td>0.0</td>\n",
       "      <td>0.0</td>\n",
       "      <td>1.0</td>\n",
       "    </tr>\n",
       "  </tbody>\n",
       "</table>\n",
       "<p>700 rows × 27 columns</p>\n",
       "</div>"
      ],
      "text/plain": [
       "     standardscaler__job  standardscaler__credit_amount  \\\n",
       "0               0.095819                      -0.462936   \n",
       "1               1.620212                      -0.512772   \n",
       "2               0.095819                       0.072458   \n",
       "3              -1.428574                      -0.824580   \n",
       "4               1.620212                       0.775879   \n",
       "..                   ...                            ...   \n",
       "695             1.620212                       1.027413   \n",
       "696             0.095819                      -0.250799   \n",
       "697             0.095819                       0.807194   \n",
       "698             0.095819                      -0.647462   \n",
       "699             0.095819                      -0.833335   \n",
       "\n",
       "     standardscaler__duration  standardscaler__age  onehotencoder__sex_female  \\\n",
       "0                    0.231016             2.179382                        0.0   \n",
       "1                   -0.778104             0.311885                        0.0   \n",
       "2                    0.735576             1.912597                        1.0   \n",
       "3                   -0.778104             1.023312                        0.0   \n",
       "4                    1.240136             0.222956                        0.0   \n",
       "..                        ...                  ...                        ...   \n",
       "695                 -0.273544             0.311885                        0.0   \n",
       "696                 -0.273544            -0.310614                        0.0   \n",
       "697                  0.231016            -0.755257                        0.0   \n",
       "698                 -0.778104            -0.933113                        0.0   \n",
       "699                 -1.282664            -1.022042                        1.0   \n",
       "\n",
       "     onehotencoder__sex_male  onehotencoder__housing_free  \\\n",
       "0                        1.0                          1.0   \n",
       "1                        1.0                          0.0   \n",
       "2                        0.0                          0.0   \n",
       "3                        1.0                          0.0   \n",
       "4                        1.0                          0.0   \n",
       "..                       ...                          ...   \n",
       "695                      1.0                          0.0   \n",
       "696                      1.0                          0.0   \n",
       "697                      1.0                          0.0   \n",
       "698                      1.0                          0.0   \n",
       "699                      0.0                          0.0   \n",
       "\n",
       "     onehotencoder__housing_own  onehotencoder__housing_rent  \\\n",
       "0                           0.0                          0.0   \n",
       "1                           1.0                          0.0   \n",
       "2                           0.0                          1.0   \n",
       "3                           1.0                          0.0   \n",
       "4                           1.0                          0.0   \n",
       "..                          ...                          ...   \n",
       "695                         1.0                          0.0   \n",
       "696                         1.0                          0.0   \n",
       "697                         1.0                          0.0   \n",
       "698                         1.0                          0.0   \n",
       "699                         1.0                          0.0   \n",
       "\n",
       "     onehotencoder__saving_accounts_little  ...  \\\n",
       "0                                      1.0  ...   \n",
       "1                                      1.0  ...   \n",
       "2                                      0.0  ...   \n",
       "3                                      1.0  ...   \n",
       "4                                      0.0  ...   \n",
       "..                                     ...  ...   \n",
       "695                                    1.0  ...   \n",
       "696                                    0.0  ...   \n",
       "697                                    0.0  ...   \n",
       "698                                    0.0  ...   \n",
       "699                                    1.0  ...   \n",
       "\n",
       "     onehotencoder__checking_account_rich  onehotencoder__purpose_business  \\\n",
       "0                                     0.0                              0.0   \n",
       "1                                     0.0                              0.0   \n",
       "2                                     0.0                              0.0   \n",
       "3                                     0.0                              0.0   \n",
       "4                                     0.0                              0.0   \n",
       "..                                    ...                              ...   \n",
       "695                                   0.0                              0.0   \n",
       "696                                   0.0                              0.0   \n",
       "697                                   0.0                              0.0   \n",
       "698                                   0.0                              0.0   \n",
       "699                                   0.0                              0.0   \n",
       "\n",
       "     onehotencoder__purpose_car  onehotencoder__purpose_domestic appliances  \\\n",
       "0                           1.0                                         0.0   \n",
       "1                           1.0                                         0.0   \n",
       "2                           0.0                                         0.0   \n",
       "3                           1.0                                         0.0   \n",
       "4                           1.0                                         0.0   \n",
       "..                          ...                                         ...   \n",
       "695                         1.0                                         0.0   \n",
       "696                         1.0                                         0.0   \n",
       "697                         1.0                                         0.0   \n",
       "698                         0.0                                         0.0   \n",
       "699                         0.0                                         0.0   \n",
       "\n",
       "     onehotencoder__purpose_education  \\\n",
       "0                                 0.0   \n",
       "1                                 0.0   \n",
       "2                                 0.0   \n",
       "3                                 0.0   \n",
       "4                                 0.0   \n",
       "..                                ...   \n",
       "695                               0.0   \n",
       "696                               0.0   \n",
       "697                               0.0   \n",
       "698                               0.0   \n",
       "699                               0.0   \n",
       "\n",
       "     onehotencoder__purpose_furniture/equipment  \\\n",
       "0                                           0.0   \n",
       "1                                           0.0   \n",
       "2                                           1.0   \n",
       "3                                           0.0   \n",
       "4                                           0.0   \n",
       "..                                          ...   \n",
       "695                                         0.0   \n",
       "696                                         0.0   \n",
       "697                                         0.0   \n",
       "698                                         0.0   \n",
       "699                                         0.0   \n",
       "\n",
       "     onehotencoder__purpose_radio/TV  onehotencoder__purpose_repairs  \\\n",
       "0                                0.0                             0.0   \n",
       "1                                0.0                             0.0   \n",
       "2                                0.0                             0.0   \n",
       "3                                0.0                             0.0   \n",
       "4                                0.0                             0.0   \n",
       "..                               ...                             ...   \n",
       "695                              0.0                             0.0   \n",
       "696                              0.0                             0.0   \n",
       "697                              0.0                             0.0   \n",
       "698                              1.0                             0.0   \n",
       "699                              1.0                             0.0   \n",
       "\n",
       "     onehotencoder__purpose_vacation/others  risk  \n",
       "0                                       0.0   1.0  \n",
       "1                                       0.0   0.0  \n",
       "2                                       0.0   NaN  \n",
       "3                                       0.0   NaN  \n",
       "4                                       0.0   0.0  \n",
       "..                                      ...   ...  \n",
       "695                                     0.0   NaN  \n",
       "696                                     0.0   1.0  \n",
       "697                                     0.0   NaN  \n",
       "698                                     0.0   1.0  \n",
       "699                                     0.0   1.0  \n",
       "\n",
       "[700 rows x 27 columns]"
      ]
     },
     "execution_count": 78,
     "metadata": {},
     "output_type": "execute_result"
    }
   ],
   "source": [
    "df_prep"
   ]
  },
  {
   "cell_type": "code",
   "execution_count": 58,
   "id": "b23093c6-2fba-4a21-8415-efc5fa5827bd",
   "metadata": {},
   "outputs": [],
   "source": [
    "from aif360.algorithms.inprocessing.adversarial_debiasing import AdversarialDebiasing\n",
    "import tensorflow.compat.v1 as tf"
   ]
  },
  {
   "cell_type": "code",
   "execution_count": 59,
   "id": "c1be5eca-f1ab-4b97-8738-38d02ec76ed0",
   "metadata": {},
   "outputs": [],
   "source": [
    "sess = tf.Session()\n",
    "adv_model = AdversarialDebiasing(privileged_groups = privileged_groups,\n",
    "                          unprivileged_groups = unprivileged_groups,\n",
    "                          scope_name='plain_classifier',\n",
    "                          debias=False,\n",
    "                          sess=sess)"
   ]
  },
  {
   "cell_type": "code",
   "execution_count": null,
   "id": "ab42fece-552f-476b-a45d-fccd38af1373",
   "metadata": {},
   "outputs": [],
   "source": [
    "adv_model.fit()"
   ]
  },
  {
   "cell_type": "code",
   "execution_count": null,
   "id": "f8d9f077-16ae-46a6-891e-dc5c599e4bee",
   "metadata": {},
   "outputs": [],
   "source": []
  },
  {
   "cell_type": "code",
   "execution_count": 62,
   "id": "2f027767-9978-45a5-a21e-ce9173026af8",
   "metadata": {},
   "outputs": [],
   "source": [
    "from aif360.algorithms.preprocessing.optim_preproc_helpers.data_preproc_functions import load_preproc_data_adult, load_preproc_data_compas, load_preproc_data_german"
   ]
  },
  {
   "cell_type": "code",
   "execution_count": null,
   "id": "ede4d356-9f8b-42e8-833e-ca44c34f08d0",
   "metadata": {},
   "outputs": [],
   "source": []
  },
  {
   "cell_type": "code",
   "execution_count": null,
   "id": "583c9022-d9ae-4247-a81b-61e490efefe6",
   "metadata": {},
   "outputs": [],
   "source": []
  },
  {
   "cell_type": "markdown",
   "id": "496217c4-b387-4a99-8019-c1765421c2a0",
   "metadata": {},
   "source": [
    "<h4> Load the dataset and train the model</h4>"
   ]
  },
  {
   "cell_type": "code",
   "execution_count": 112,
   "id": "8d3b0bf8-2996-46cd-8685-d5a213e81e32",
   "metadata": {},
   "outputs": [
    {
     "data": {
      "text/html": [
       "<div>\n",
       "<style scoped>\n",
       "    .dataframe tbody tr th:only-of-type {\n",
       "        vertical-align: middle;\n",
       "    }\n",
       "\n",
       "    .dataframe tbody tr th {\n",
       "        vertical-align: top;\n",
       "    }\n",
       "\n",
       "    .dataframe thead th {\n",
       "        text-align: right;\n",
       "    }\n",
       "</style>\n",
       "<table border=\"1\" class=\"dataframe\">\n",
       "  <thead>\n",
       "    <tr style=\"text-align: right;\">\n",
       "      <th></th>\n",
       "      <th>risk</th>\n",
       "      <th>sex</th>\n",
       "      <th>job</th>\n",
       "      <th>housing</th>\n",
       "      <th>saving_accounts</th>\n",
       "      <th>checking_account</th>\n",
       "      <th>credit_amount</th>\n",
       "      <th>duration</th>\n",
       "      <th>purpose</th>\n",
       "      <th>age</th>\n",
       "    </tr>\n",
       "  </thead>\n",
       "  <tbody>\n",
       "    <tr>\n",
       "      <th>0</th>\n",
       "      <td>1</td>\n",
       "      <td>male</td>\n",
       "      <td>2</td>\n",
       "      <td>own</td>\n",
       "      <td>not_known</td>\n",
       "      <td>little</td>\n",
       "      <td>1169</td>\n",
       "      <td>6</td>\n",
       "      <td>radio/TV</td>\n",
       "      <td>67</td>\n",
       "    </tr>\n",
       "    <tr>\n",
       "      <th>1</th>\n",
       "      <td>0</td>\n",
       "      <td>female</td>\n",
       "      <td>2</td>\n",
       "      <td>own</td>\n",
       "      <td>little</td>\n",
       "      <td>moderate</td>\n",
       "      <td>5951</td>\n",
       "      <td>48</td>\n",
       "      <td>radio/TV</td>\n",
       "      <td>22</td>\n",
       "    </tr>\n",
       "    <tr>\n",
       "      <th>2</th>\n",
       "      <td>1</td>\n",
       "      <td>male</td>\n",
       "      <td>1</td>\n",
       "      <td>own</td>\n",
       "      <td>little</td>\n",
       "      <td>not_known</td>\n",
       "      <td>2096</td>\n",
       "      <td>12</td>\n",
       "      <td>education</td>\n",
       "      <td>49</td>\n",
       "    </tr>\n",
       "    <tr>\n",
       "      <th>3</th>\n",
       "      <td>1</td>\n",
       "      <td>male</td>\n",
       "      <td>2</td>\n",
       "      <td>free</td>\n",
       "      <td>little</td>\n",
       "      <td>little</td>\n",
       "      <td>7882</td>\n",
       "      <td>42</td>\n",
       "      <td>furniture/equipment</td>\n",
       "      <td>45</td>\n",
       "    </tr>\n",
       "    <tr>\n",
       "      <th>4</th>\n",
       "      <td>0</td>\n",
       "      <td>male</td>\n",
       "      <td>2</td>\n",
       "      <td>free</td>\n",
       "      <td>little</td>\n",
       "      <td>little</td>\n",
       "      <td>4870</td>\n",
       "      <td>24</td>\n",
       "      <td>car</td>\n",
       "      <td>53</td>\n",
       "    </tr>\n",
       "  </tbody>\n",
       "</table>\n",
       "</div>"
      ],
      "text/plain": [
       "   risk     sex  job housing saving_accounts checking_account  credit_amount  \\\n",
       "0     1    male    2     own       not_known           little           1169   \n",
       "1     0  female    2     own          little         moderate           5951   \n",
       "2     1    male    1     own          little        not_known           2096   \n",
       "3     1    male    2    free          little           little           7882   \n",
       "4     0    male    2    free          little           little           4870   \n",
       "\n",
       "   duration              purpose  age  \n",
       "0         6             radio/TV   67  \n",
       "1        48             radio/TV   22  \n",
       "2        12            education   49  \n",
       "3        42  furniture/equipment   45  \n",
       "4        24                  car   53  "
      ]
     },
     "execution_count": 112,
     "metadata": {},
     "output_type": "execute_result"
    }
   ],
   "source": [
    "# load the original dataset \n",
    "# data = pd.read_csv(\"https://raw.githubusercontent.com/ekimetrics/ethical-ai-toolkit/main/data/german-risk-scoring.csv\")\n",
    "\n",
    "# load a clean version of the german risk scoring dataset\n",
    "data = dx.datasets.load_german()\n",
    "data.head()"
   ]
  },
  {
   "cell_type": "code",
   "execution_count": 144,
   "id": "f1a2b9c3-928a-4b04-aa40-66066ae311d2",
   "metadata": {},
   "outputs": [
    {
     "data": {
      "text/plain": [
       "Pipeline(steps=[('preprocessor',\n",
       "                 ColumnTransformer(transformers=[('cat',\n",
       "                                                  Pipeline(steps=[('onehot',\n",
       "                                                                   OneHotEncoder(handle_unknown='ignore'))]),\n",
       "                                                  ['sex', 'job', 'housing',\n",
       "                                                   'saving_accounts',\n",
       "                                                   'checking_account',\n",
       "                                                   'purpose']),\n",
       "                                                 ('num', 'passthrough',\n",
       "                                                  ['age', 'duration',\n",
       "                                                   'credit_amount'])])),\n",
       "                ('classifier',\n",
       "                 DecisionTreeClassifier(max_depth=7, random_state=123))])"
      ]
     },
     "execution_count": 144,
     "metadata": {},
     "output_type": "execute_result"
    }
   ],
   "source": [
    "X = data.drop(columns='risk')\n",
    "y = data.risk\n",
    "\n",
    "categorical_transformer = Pipeline(steps=[\n",
    "    ('onehot', OneHotEncoder(handle_unknown='ignore'))\n",
    "])\n",
    "\n",
    "preprocessor = ColumnTransformer(transformers=[\n",
    "        ('cat', categorical_transformer, categorical_features),\n",
    "        ('num', 'passthrough', numerical_features)\n",
    "])\n",
    "\n",
    "clf = Pipeline(steps=[\n",
    "    ('preprocessor', preprocessor),\n",
    "    ('classifier', DecisionTreeClassifier(max_depth=7, random_state=123))\n",
    "])\n",
    "\n",
    "clf.fit(X, y)"
   ]
  },
  {
   "cell_type": "markdown",
   "id": "c57cd8e4-688a-4b23-98f7-cb498223d384",
   "metadata": {},
   "source": [
    "<h4> Extract fairness metrics </h4>"
   ]
  },
  {
   "cell_type": "markdown",
   "id": "3b92516f-14d7-4022-bb54-88c1fa1d6eec",
   "metadata": {},
   "source": [
    "The first step is to define the sensitive attributes on which we wish to evaluate fairness. Then, each library automatically compute a bunch of fairness metrics.\n",
    "<ul>\n",
    "    <li> With dalex, first wrap the \"model + dataset\" in an Explainer object and then apply the method model_fairness. This returns a GroupFairnessClassification object which has already computed all the mtrics and which can either give a fairness_check or a plot.</li>\n",
    "    <li> With aif360, first wrap the dataset with groundtruth labels and the dataset with predicted labels in two BinaryLabelDataset objects, then wrap the \"BinaryLabelDataset_groundtruth + BinaryLabelDataset_predicted\" in an ClassificationMetric object. This object has several methods that compute fairness metrics.\n",
    "</ul>"
   ]
  },
  {
   "cell_type": "code",
   "execution_count": 145,
   "id": "18089b6f-d1c4-4cf3-92cc-e26909bef9b9",
   "metadata": {},
   "outputs": [],
   "source": [
    "explainer = dx.Explainer(clf, X, y, verbose=False)\n",
    "\n",
    "protected = data.sex + '_' + np.where(data.age < 25, 'young', 'old')\n",
    "privileged = 'male_old'\n",
    "\n",
    "fairness_object = explainer.model_fairness(protected = protected, privileged=privileged)"
   ]
  },
  {
   "cell_type": "code",
   "execution_count": 146,
   "id": "8ffd9b0f-34b2-4bed-83d8-1349ea027e9a",
   "metadata": {},
   "outputs": [
    {
     "name": "stdout",
     "output_type": "stream",
     "text": [
      "No bias was detected!\n",
      "\n",
      "Conclusion: your model is fair in terms of checked fairness criteria.\n",
      "\n",
      "Ratios of metrics, based on 'male_old'. Parameter 'epsilon' was set to 0.8 and therefore metrics should be within (0.8, 1.25)\n",
      "                   TPR       ACC       PPV       FPR       STP\n",
      "female_old    1.018828  1.000000  0.971963  0.921525  0.964677\n",
      "female_young  0.981172  0.938824  0.891355  0.872197  0.855055\n",
      "male_young    1.019874  0.977647  0.929907  0.896861  0.918392\n"
     ]
    }
   ],
   "source": [
    "fairness_object.fairness_check(epsilon = 0.8)"
   ]
  },
  {
   "cell_type": "code",
   "execution_count": 151,
   "id": "6d3f45be-bff9-4854-a751-69a7aca1b170",
   "metadata": {},
   "outputs": [
    {
     "data": {
      "text/html": [
       "<div>\n",
       "<style scoped>\n",
       "    .dataframe tbody tr th:only-of-type {\n",
       "        vertical-align: middle;\n",
       "    }\n",
       "\n",
       "    .dataframe tbody tr th {\n",
       "        vertical-align: top;\n",
       "    }\n",
       "\n",
       "    .dataframe thead th {\n",
       "        text-align: right;\n",
       "    }\n",
       "</style>\n",
       "<table border=\"1\" class=\"dataframe\">\n",
       "  <thead>\n",
       "    <tr style=\"text-align: right;\">\n",
       "      <th></th>\n",
       "      <th>TPR</th>\n",
       "      <th>TNR</th>\n",
       "      <th>PPV</th>\n",
       "      <th>NPV</th>\n",
       "      <th>FNR</th>\n",
       "      <th>FPR</th>\n",
       "      <th>FDR</th>\n",
       "      <th>FOR</th>\n",
       "      <th>ACC</th>\n",
       "      <th>STP</th>\n",
       "    </tr>\n",
       "  </thead>\n",
       "  <tbody>\n",
       "    <tr>\n",
       "      <th>female_old</th>\n",
       "      <td>0.974</td>\n",
       "      <td>0.589</td>\n",
       "      <td>0.832</td>\n",
       "      <td>0.915</td>\n",
       "      <td>0.026</td>\n",
       "      <td>0.411</td>\n",
       "      <td>0.168</td>\n",
       "      <td>0.085</td>\n",
       "      <td>0.850</td>\n",
       "      <td>0.792</td>\n",
       "    </tr>\n",
       "    <tr>\n",
       "      <th>female_young</th>\n",
       "      <td>0.938</td>\n",
       "      <td>0.611</td>\n",
       "      <td>0.763</td>\n",
       "      <td>0.880</td>\n",
       "      <td>0.062</td>\n",
       "      <td>0.389</td>\n",
       "      <td>0.237</td>\n",
       "      <td>0.120</td>\n",
       "      <td>0.798</td>\n",
       "      <td>0.702</td>\n",
       "    </tr>\n",
       "    <tr>\n",
       "      <th>male_old</th>\n",
       "      <td>0.956</td>\n",
       "      <td>0.554</td>\n",
       "      <td>0.856</td>\n",
       "      <td>0.821</td>\n",
       "      <td>0.044</td>\n",
       "      <td>0.446</td>\n",
       "      <td>0.144</td>\n",
       "      <td>0.179</td>\n",
       "      <td>0.850</td>\n",
       "      <td>0.821</td>\n",
       "    </tr>\n",
       "    <tr>\n",
       "      <th>male_young</th>\n",
       "      <td>0.975</td>\n",
       "      <td>0.600</td>\n",
       "      <td>0.796</td>\n",
       "      <td>0.938</td>\n",
       "      <td>0.025</td>\n",
       "      <td>0.400</td>\n",
       "      <td>0.204</td>\n",
       "      <td>0.062</td>\n",
       "      <td>0.831</td>\n",
       "      <td>0.754</td>\n",
       "    </tr>\n",
       "  </tbody>\n",
       "</table>\n",
       "</div>"
      ],
      "text/plain": [
       "                TPR    TNR    PPV    NPV    FNR    FPR    FDR    FOR    ACC  \\\n",
       "female_old    0.974  0.589  0.832  0.915  0.026  0.411  0.168  0.085  0.850   \n",
       "female_young  0.938  0.611  0.763  0.880  0.062  0.389  0.237  0.120  0.798   \n",
       "male_old      0.956  0.554  0.856  0.821  0.044  0.446  0.144  0.179  0.850   \n",
       "male_young    0.975  0.600  0.796  0.938  0.025  0.400  0.204  0.062  0.831   \n",
       "\n",
       "                STP  \n",
       "female_old    0.792  \n",
       "female_young  0.702  \n",
       "male_old      0.821  \n",
       "male_young    0.754  "
      ]
     },
     "execution_count": 151,
     "metadata": {},
     "output_type": "execute_result"
    }
   ],
   "source": [
    "fairness_object.metric_scores"
   ]
  },
  {
   "cell_type": "code",
   "execution_count": 147,
   "id": "1d03df42-a724-4e5d-8146-1d2fbaeed191",
   "metadata": {},
   "outputs": [
    {
     "name": "stdout",
     "output_type": "stream",
     "text": [
      "\n",
      "Found NaN's or 0's for models: {'DecisionTreeClassifier'}\n",
      "It is advisable to check 'metric_ratios'\n"
     ]
    },
    {
     "data": {
      "application/vnd.plotly.v1+json": {
       "config": {
        "displaylogo": false,
        "modeBarButtonsToRemove": [
         "sendDataToCloud",
         "lasso2d",
         "autoScale2d",
         "select2d",
         "zoom2d",
         "pan2d",
         "zoomIn2d",
         "zoomOut2d",
         "resetScale2d",
         "toggleSpikelines",
         "hoverCompareCartesian",
         "hoverClosestCartesian"
        ],
        "plotlyServerURL": "https://plot.ly",
        "staticPlot": false,
        "toImageButtonOptions": {
         "height": null,
         "width": null
        }
       },
       "data": [
        {
         "alignmentgroup": "True",
         "customdata": [
          [
           "female_old",
           1.019,
           "DecisionTreeClassifier"
          ],
          [
           "female_young",
           0.981,
           "DecisionTreeClassifier"
          ],
          [
           "male_young",
           1.02,
           "DecisionTreeClassifier"
          ]
         ],
         "hovertemplate": "<b>%{customdata[2]}</b><br>Subgroup: %{customdata[0]}<br>Score: %{customdata[1]}<br><extra></extra>",
         "legendgroup": "DecisionTreeClassifier",
         "marker": {
          "color": "#46bac2",
          "pattern": {
           "shape": ""
          }
         },
         "name": "DecisionTreeClassifier",
         "offsetgroup": "DecisionTreeClassifier",
         "orientation": "h",
         "showlegend": true,
         "textposition": "auto",
         "type": "bar",
         "x": [
          0.01882845188284521,
          -0.01882845188284521,
          0.01987447698744771
         ],
         "xaxis": "x5",
         "y": [
          0.25,
          0.5,
          0.75
         ],
         "yaxis": "y5"
        },
        {
         "alignmentgroup": "True",
         "customdata": [
          [
           "female_old",
           0.972,
           "DecisionTreeClassifier"
          ],
          [
           "female_young",
           0.891,
           "DecisionTreeClassifier"
          ],
          [
           "male_young",
           0.93,
           "DecisionTreeClassifier"
          ]
         ],
         "hovertemplate": "<b>%{customdata[2]}</b><br>Subgroup: %{customdata[0]}<br>Score: %{customdata[1]}<br><extra></extra>",
         "legendgroup": "DecisionTreeClassifier",
         "marker": {
          "color": "#46bac2",
          "pattern": {
           "shape": ""
          }
         },
         "name": "DecisionTreeClassifier",
         "offsetgroup": "DecisionTreeClassifier",
         "orientation": "h",
         "showlegend": false,
         "textposition": "auto",
         "type": "bar",
         "x": [
          -0.028037383177570097,
          -0.10864485981308403,
          -0.07009345794392519
         ],
         "xaxis": "x4",
         "y": [
          0.25,
          0.5,
          0.75
         ],
         "yaxis": "y4"
        },
        {
         "alignmentgroup": "True",
         "customdata": [
          [
           "female_old",
           0.922,
           "DecisionTreeClassifier"
          ],
          [
           "female_young",
           0.872,
           "DecisionTreeClassifier"
          ],
          [
           "male_young",
           0.897,
           "DecisionTreeClassifier"
          ]
         ],
         "hovertemplate": "<b>%{customdata[2]}</b><br>Subgroup: %{customdata[0]}<br>Score: %{customdata[1]}<br><extra></extra>",
         "legendgroup": "DecisionTreeClassifier",
         "marker": {
          "color": "#46bac2",
          "pattern": {
           "shape": ""
          }
         },
         "name": "DecisionTreeClassifier",
         "offsetgroup": "DecisionTreeClassifier",
         "orientation": "h",
         "showlegend": false,
         "textposition": "auto",
         "type": "bar",
         "x": [
          -0.07847533632287007,
          -0.12780269058295968,
          -0.10313901345291476
         ],
         "xaxis": "x3",
         "y": [
          0.25,
          0.5,
          0.75
         ],
         "yaxis": "y3"
        },
        {
         "alignmentgroup": "True",
         "customdata": [
          [
           "female_old",
           1,
           "DecisionTreeClassifier"
          ],
          [
           "female_young",
           0.939,
           "DecisionTreeClassifier"
          ],
          [
           "male_young",
           0.978,
           "DecisionTreeClassifier"
          ]
         ],
         "hovertemplate": "<b>%{customdata[2]}</b><br>Subgroup: %{customdata[0]}<br>Score: %{customdata[1]}<br><extra></extra>",
         "legendgroup": "DecisionTreeClassifier",
         "marker": {
          "color": "#46bac2",
          "pattern": {
           "shape": ""
          }
         },
         "name": "DecisionTreeClassifier",
         "offsetgroup": "DecisionTreeClassifier",
         "orientation": "h",
         "showlegend": false,
         "textposition": "auto",
         "type": "bar",
         "x": [
          0,
          -0.061176470588235166,
          -0.022352941176470575
         ],
         "xaxis": "x2",
         "y": [
          0.25,
          0.5,
          0.75
         ],
         "yaxis": "y2"
        },
        {
         "alignmentgroup": "True",
         "customdata": [
          [
           "female_old",
           0.965,
           "DecisionTreeClassifier"
          ],
          [
           "female_young",
           0.855,
           "DecisionTreeClassifier"
          ],
          [
           "male_young",
           0.918,
           "DecisionTreeClassifier"
          ]
         ],
         "hovertemplate": "<b>%{customdata[2]}</b><br>Subgroup: %{customdata[0]}<br>Score: %{customdata[1]}<br><extra></extra>",
         "legendgroup": "DecisionTreeClassifier",
         "marker": {
          "color": "#46bac2",
          "pattern": {
           "shape": ""
          }
         },
         "name": "DecisionTreeClassifier",
         "offsetgroup": "DecisionTreeClassifier",
         "orientation": "h",
         "showlegend": false,
         "textposition": "auto",
         "type": "bar",
         "x": [
          -0.0353227771010961,
          -0.14494518879415352,
          -0.08160779537149809
         ],
         "xaxis": "x",
         "y": [
          0.25,
          0.5,
          0.75
         ],
         "yaxis": "y"
        }
       ],
       "layout": {
        "annotations": [
         {
          "font": {
           "size": 15
          },
          "showarrow": false,
          "text": "Statistical parity ratio   (TP + FP)/(TP + FP + TN + FN)",
          "x": 0.05,
          "xanchor": "left",
          "xref": "paper",
          "y": 0.144,
          "yanchor": "bottom",
          "yref": "paper"
         },
         {
          "font": {
           "size": 15
          },
          "showarrow": false,
          "text": "Accuracy equality ratio    (TP + TN)/(TP + FP + TN + FN)",
          "x": 0.05,
          "xanchor": "left",
          "xref": "paper",
          "y": 0.358,
          "yanchor": "bottom",
          "yref": "paper"
         },
         {
          "font": {
           "size": 15
          },
          "showarrow": false,
          "text": "Predictive equality ratio   FP/(FP + TN)",
          "x": 0.05,
          "xanchor": "left",
          "xref": "paper",
          "y": 0.572,
          "yanchor": "bottom",
          "yref": "paper"
         },
         {
          "font": {
           "size": 15
          },
          "showarrow": false,
          "text": "Predictive parity ratio     TP/(TP + FP)",
          "x": 0.05,
          "xanchor": "left",
          "xref": "paper",
          "y": 0.7859999999999999,
          "yanchor": "bottom",
          "yref": "paper"
         },
         {
          "font": {
           "size": 15
          },
          "showarrow": false,
          "text": "Equal opportunity ratio     TP/(TP + FN)",
          "x": 0.05,
          "xanchor": "left",
          "xref": "paper",
          "y": 1,
          "yanchor": "bottom",
          "yref": "paper"
         }
        ],
        "autosize": true,
        "barmode": "group",
        "font": {
         "color": "#371ea3"
        },
        "legend": {
         "title": {
          "text": "label"
         },
         "tracegroupgap": 0
        },
        "margin": {
         "b": 71,
         "r": 30,
         "t": 78
        },
        "shapes": [
         {
          "fillcolor": "#f05a71",
          "layer": "below",
          "line": {
           "width": 0
          },
          "opacity": 0.1,
          "type": "rect",
          "x0": 0.25,
          "x1": 0.3,
          "xref": "x",
          "y0": 0,
          "y1": 1,
          "yref": "y"
         },
         {
          "fillcolor": "#f05a71",
          "layer": "below",
          "line": {
           "width": 0
          },
          "opacity": 0.1,
          "type": "rect",
          "x0": -0.21999999999999997,
          "x1": -0.19999999999999996,
          "xref": "x",
          "y0": 0,
          "y1": 1,
          "yref": "y"
         },
         {
          "fillcolor": "#c7f5bf",
          "layer": "below",
          "line": {
           "width": 0
          },
          "opacity": 0.1,
          "type": "rect",
          "x0": -0.19999999999999996,
          "x1": 0.25,
          "xref": "x",
          "y0": 0,
          "y1": 1,
          "yref": "y"
         },
         {
          "line": {
           "color": "#371ea3",
           "width": 1.5
          },
          "type": "line",
          "x0": 0,
          "x1": 0,
          "xref": "x",
          "y0": 0,
          "y1": 1,
          "yref": "y"
         },
         {
          "fillcolor": "#f05a71",
          "layer": "below",
          "line": {
           "width": 0
          },
          "opacity": 0.1,
          "type": "rect",
          "x0": 0.25,
          "x1": 0.3,
          "xref": "x",
          "y0": 0,
          "y1": 1,
          "yref": "y2"
         },
         {
          "fillcolor": "#f05a71",
          "layer": "below",
          "line": {
           "width": 0
          },
          "opacity": 0.1,
          "type": "rect",
          "x0": -0.21999999999999997,
          "x1": -0.19999999999999996,
          "xref": "x",
          "y0": 0,
          "y1": 1,
          "yref": "y2"
         },
         {
          "fillcolor": "#c7f5bf",
          "layer": "below",
          "line": {
           "width": 0
          },
          "opacity": 0.1,
          "type": "rect",
          "x0": -0.19999999999999996,
          "x1": 0.25,
          "xref": "x",
          "y0": 0,
          "y1": 1,
          "yref": "y2"
         },
         {
          "line": {
           "color": "#371ea3",
           "width": 1.5
          },
          "type": "line",
          "x0": 0,
          "x1": 0,
          "xref": "x",
          "y0": 0,
          "y1": 1,
          "yref": "y2"
         },
         {
          "fillcolor": "#f05a71",
          "layer": "below",
          "line": {
           "width": 0
          },
          "opacity": 0.1,
          "type": "rect",
          "x0": 0.25,
          "x1": 0.3,
          "xref": "x",
          "y0": 0,
          "y1": 1,
          "yref": "y3"
         },
         {
          "fillcolor": "#f05a71",
          "layer": "below",
          "line": {
           "width": 0
          },
          "opacity": 0.1,
          "type": "rect",
          "x0": -0.21999999999999997,
          "x1": -0.19999999999999996,
          "xref": "x",
          "y0": 0,
          "y1": 1,
          "yref": "y3"
         },
         {
          "fillcolor": "#c7f5bf",
          "layer": "below",
          "line": {
           "width": 0
          },
          "opacity": 0.1,
          "type": "rect",
          "x0": -0.19999999999999996,
          "x1": 0.25,
          "xref": "x",
          "y0": 0,
          "y1": 1,
          "yref": "y3"
         },
         {
          "line": {
           "color": "#371ea3",
           "width": 1.5
          },
          "type": "line",
          "x0": 0,
          "x1": 0,
          "xref": "x",
          "y0": 0,
          "y1": 1,
          "yref": "y3"
         },
         {
          "fillcolor": "#f05a71",
          "layer": "below",
          "line": {
           "width": 0
          },
          "opacity": 0.1,
          "type": "rect",
          "x0": 0.25,
          "x1": 0.3,
          "xref": "x",
          "y0": 0,
          "y1": 1,
          "yref": "y4"
         },
         {
          "fillcolor": "#f05a71",
          "layer": "below",
          "line": {
           "width": 0
          },
          "opacity": 0.1,
          "type": "rect",
          "x0": -0.21999999999999997,
          "x1": -0.19999999999999996,
          "xref": "x",
          "y0": 0,
          "y1": 1,
          "yref": "y4"
         },
         {
          "fillcolor": "#c7f5bf",
          "layer": "below",
          "line": {
           "width": 0
          },
          "opacity": 0.1,
          "type": "rect",
          "x0": -0.19999999999999996,
          "x1": 0.25,
          "xref": "x",
          "y0": 0,
          "y1": 1,
          "yref": "y4"
         },
         {
          "line": {
           "color": "#371ea3",
           "width": 1.5
          },
          "type": "line",
          "x0": 0,
          "x1": 0,
          "xref": "x",
          "y0": 0,
          "y1": 1,
          "yref": "y4"
         },
         {
          "fillcolor": "#f05a71",
          "layer": "below",
          "line": {
           "width": 0
          },
          "opacity": 0.1,
          "type": "rect",
          "x0": 0.25,
          "x1": 0.3,
          "xref": "x",
          "y0": 0,
          "y1": 1,
          "yref": "y5"
         },
         {
          "fillcolor": "#f05a71",
          "layer": "below",
          "line": {
           "width": 0
          },
          "opacity": 0.1,
          "type": "rect",
          "x0": -0.21999999999999997,
          "x1": -0.19999999999999996,
          "xref": "x",
          "y0": 0,
          "y1": 1,
          "yref": "y5"
         },
         {
          "fillcolor": "#c7f5bf",
          "layer": "below",
          "line": {
           "width": 0
          },
          "opacity": 0.1,
          "type": "rect",
          "x0": -0.19999999999999996,
          "x1": 0.25,
          "xref": "x",
          "y0": 0,
          "y1": 1,
          "yref": "y5"
         },
         {
          "line": {
           "color": "#371ea3",
           "width": 1.5
          },
          "type": "line",
          "x0": 0,
          "x1": 0,
          "xref": "x",
          "y0": 0,
          "y1": 1,
          "yref": "y5"
         }
        ],
        "template": {
         "data": {
          "bar": [
           {
            "error_x": {
             "color": "#2a3f5f"
            },
            "error_y": {
             "color": "#2a3f5f"
            },
            "marker": {
             "line": {
              "color": "white",
              "width": 0.5
             },
             "pattern": {
              "fillmode": "overlay",
              "size": 10,
              "solidity": 0.2
             }
            },
            "type": "bar"
           }
          ],
          "barpolar": [
           {
            "marker": {
             "line": {
              "color": "white",
              "width": 0.5
             },
             "pattern": {
              "fillmode": "overlay",
              "size": 10,
              "solidity": 0.2
             }
            },
            "type": "barpolar"
           }
          ],
          "carpet": [
           {
            "aaxis": {
             "endlinecolor": "#2a3f5f",
             "gridcolor": "#C8D4E3",
             "linecolor": "#C8D4E3",
             "minorgridcolor": "#C8D4E3",
             "startlinecolor": "#2a3f5f"
            },
            "baxis": {
             "endlinecolor": "#2a3f5f",
             "gridcolor": "#C8D4E3",
             "linecolor": "#C8D4E3",
             "minorgridcolor": "#C8D4E3",
             "startlinecolor": "#2a3f5f"
            },
            "type": "carpet"
           }
          ],
          "choropleth": [
           {
            "colorbar": {
             "outlinewidth": 0,
             "ticks": ""
            },
            "type": "choropleth"
           }
          ],
          "contour": [
           {
            "colorbar": {
             "outlinewidth": 0,
             "ticks": ""
            },
            "colorscale": [
             [
              0,
              "#0d0887"
             ],
             [
              0.1111111111111111,
              "#46039f"
             ],
             [
              0.2222222222222222,
              "#7201a8"
             ],
             [
              0.3333333333333333,
              "#9c179e"
             ],
             [
              0.4444444444444444,
              "#bd3786"
             ],
             [
              0.5555555555555556,
              "#d8576b"
             ],
             [
              0.6666666666666666,
              "#ed7953"
             ],
             [
              0.7777777777777778,
              "#fb9f3a"
             ],
             [
              0.8888888888888888,
              "#fdca26"
             ],
             [
              1,
              "#f0f921"
             ]
            ],
            "type": "contour"
           }
          ],
          "contourcarpet": [
           {
            "colorbar": {
             "outlinewidth": 0,
             "ticks": ""
            },
            "type": "contourcarpet"
           }
          ],
          "heatmap": [
           {
            "colorbar": {
             "outlinewidth": 0,
             "ticks": ""
            },
            "colorscale": [
             [
              0,
              "#0d0887"
             ],
             [
              0.1111111111111111,
              "#46039f"
             ],
             [
              0.2222222222222222,
              "#7201a8"
             ],
             [
              0.3333333333333333,
              "#9c179e"
             ],
             [
              0.4444444444444444,
              "#bd3786"
             ],
             [
              0.5555555555555556,
              "#d8576b"
             ],
             [
              0.6666666666666666,
              "#ed7953"
             ],
             [
              0.7777777777777778,
              "#fb9f3a"
             ],
             [
              0.8888888888888888,
              "#fdca26"
             ],
             [
              1,
              "#f0f921"
             ]
            ],
            "type": "heatmap"
           }
          ],
          "heatmapgl": [
           {
            "colorbar": {
             "outlinewidth": 0,
             "ticks": ""
            },
            "colorscale": [
             [
              0,
              "#0d0887"
             ],
             [
              0.1111111111111111,
              "#46039f"
             ],
             [
              0.2222222222222222,
              "#7201a8"
             ],
             [
              0.3333333333333333,
              "#9c179e"
             ],
             [
              0.4444444444444444,
              "#bd3786"
             ],
             [
              0.5555555555555556,
              "#d8576b"
             ],
             [
              0.6666666666666666,
              "#ed7953"
             ],
             [
              0.7777777777777778,
              "#fb9f3a"
             ],
             [
              0.8888888888888888,
              "#fdca26"
             ],
             [
              1,
              "#f0f921"
             ]
            ],
            "type": "heatmapgl"
           }
          ],
          "histogram": [
           {
            "marker": {
             "pattern": {
              "fillmode": "overlay",
              "size": 10,
              "solidity": 0.2
             }
            },
            "type": "histogram"
           }
          ],
          "histogram2d": [
           {
            "colorbar": {
             "outlinewidth": 0,
             "ticks": ""
            },
            "colorscale": [
             [
              0,
              "#0d0887"
             ],
             [
              0.1111111111111111,
              "#46039f"
             ],
             [
              0.2222222222222222,
              "#7201a8"
             ],
             [
              0.3333333333333333,
              "#9c179e"
             ],
             [
              0.4444444444444444,
              "#bd3786"
             ],
             [
              0.5555555555555556,
              "#d8576b"
             ],
             [
              0.6666666666666666,
              "#ed7953"
             ],
             [
              0.7777777777777778,
              "#fb9f3a"
             ],
             [
              0.8888888888888888,
              "#fdca26"
             ],
             [
              1,
              "#f0f921"
             ]
            ],
            "type": "histogram2d"
           }
          ],
          "histogram2dcontour": [
           {
            "colorbar": {
             "outlinewidth": 0,
             "ticks": ""
            },
            "colorscale": [
             [
              0,
              "#0d0887"
             ],
             [
              0.1111111111111111,
              "#46039f"
             ],
             [
              0.2222222222222222,
              "#7201a8"
             ],
             [
              0.3333333333333333,
              "#9c179e"
             ],
             [
              0.4444444444444444,
              "#bd3786"
             ],
             [
              0.5555555555555556,
              "#d8576b"
             ],
             [
              0.6666666666666666,
              "#ed7953"
             ],
             [
              0.7777777777777778,
              "#fb9f3a"
             ],
             [
              0.8888888888888888,
              "#fdca26"
             ],
             [
              1,
              "#f0f921"
             ]
            ],
            "type": "histogram2dcontour"
           }
          ],
          "mesh3d": [
           {
            "colorbar": {
             "outlinewidth": 0,
             "ticks": ""
            },
            "type": "mesh3d"
           }
          ],
          "parcoords": [
           {
            "line": {
             "colorbar": {
              "outlinewidth": 0,
              "ticks": ""
             }
            },
            "type": "parcoords"
           }
          ],
          "pie": [
           {
            "automargin": true,
            "type": "pie"
           }
          ],
          "scatter": [
           {
            "marker": {
             "colorbar": {
              "outlinewidth": 0,
              "ticks": ""
             }
            },
            "type": "scatter"
           }
          ],
          "scatter3d": [
           {
            "line": {
             "colorbar": {
              "outlinewidth": 0,
              "ticks": ""
             }
            },
            "marker": {
             "colorbar": {
              "outlinewidth": 0,
              "ticks": ""
             }
            },
            "type": "scatter3d"
           }
          ],
          "scattercarpet": [
           {
            "marker": {
             "colorbar": {
              "outlinewidth": 0,
              "ticks": ""
             }
            },
            "type": "scattercarpet"
           }
          ],
          "scattergeo": [
           {
            "marker": {
             "colorbar": {
              "outlinewidth": 0,
              "ticks": ""
             }
            },
            "type": "scattergeo"
           }
          ],
          "scattergl": [
           {
            "marker": {
             "colorbar": {
              "outlinewidth": 0,
              "ticks": ""
             }
            },
            "type": "scattergl"
           }
          ],
          "scattermapbox": [
           {
            "marker": {
             "colorbar": {
              "outlinewidth": 0,
              "ticks": ""
             }
            },
            "type": "scattermapbox"
           }
          ],
          "scatterpolar": [
           {
            "marker": {
             "colorbar": {
              "outlinewidth": 0,
              "ticks": ""
             }
            },
            "type": "scatterpolar"
           }
          ],
          "scatterpolargl": [
           {
            "marker": {
             "colorbar": {
              "outlinewidth": 0,
              "ticks": ""
             }
            },
            "type": "scatterpolargl"
           }
          ],
          "scatterternary": [
           {
            "marker": {
             "colorbar": {
              "outlinewidth": 0,
              "ticks": ""
             }
            },
            "type": "scatterternary"
           }
          ],
          "surface": [
           {
            "colorbar": {
             "outlinewidth": 0,
             "ticks": ""
            },
            "colorscale": [
             [
              0,
              "#0d0887"
             ],
             [
              0.1111111111111111,
              "#46039f"
             ],
             [
              0.2222222222222222,
              "#7201a8"
             ],
             [
              0.3333333333333333,
              "#9c179e"
             ],
             [
              0.4444444444444444,
              "#bd3786"
             ],
             [
              0.5555555555555556,
              "#d8576b"
             ],
             [
              0.6666666666666666,
              "#ed7953"
             ],
             [
              0.7777777777777778,
              "#fb9f3a"
             ],
             [
              0.8888888888888888,
              "#fdca26"
             ],
             [
              1,
              "#f0f921"
             ]
            ],
            "type": "surface"
           }
          ],
          "table": [
           {
            "cells": {
             "fill": {
              "color": "#EBF0F8"
             },
             "line": {
              "color": "white"
             }
            },
            "header": {
             "fill": {
              "color": "#C8D4E3"
             },
             "line": {
              "color": "white"
             }
            },
            "type": "table"
           }
          ]
         },
         "layout": {
          "annotationdefaults": {
           "arrowcolor": "#2a3f5f",
           "arrowhead": 0,
           "arrowwidth": 1
          },
          "autotypenumbers": "strict",
          "coloraxis": {
           "colorbar": {
            "outlinewidth": 0,
            "ticks": ""
           }
          },
          "colorscale": {
           "diverging": [
            [
             0,
             "#8e0152"
            ],
            [
             0.1,
             "#c51b7d"
            ],
            [
             0.2,
             "#de77ae"
            ],
            [
             0.3,
             "#f1b6da"
            ],
            [
             0.4,
             "#fde0ef"
            ],
            [
             0.5,
             "#f7f7f7"
            ],
            [
             0.6,
             "#e6f5d0"
            ],
            [
             0.7,
             "#b8e186"
            ],
            [
             0.8,
             "#7fbc41"
            ],
            [
             0.9,
             "#4d9221"
            ],
            [
             1,
             "#276419"
            ]
           ],
           "sequential": [
            [
             0,
             "#0d0887"
            ],
            [
             0.1111111111111111,
             "#46039f"
            ],
            [
             0.2222222222222222,
             "#7201a8"
            ],
            [
             0.3333333333333333,
             "#9c179e"
            ],
            [
             0.4444444444444444,
             "#bd3786"
            ],
            [
             0.5555555555555556,
             "#d8576b"
            ],
            [
             0.6666666666666666,
             "#ed7953"
            ],
            [
             0.7777777777777778,
             "#fb9f3a"
            ],
            [
             0.8888888888888888,
             "#fdca26"
            ],
            [
             1,
             "#f0f921"
            ]
           ],
           "sequentialminus": [
            [
             0,
             "#0d0887"
            ],
            [
             0.1111111111111111,
             "#46039f"
            ],
            [
             0.2222222222222222,
             "#7201a8"
            ],
            [
             0.3333333333333333,
             "#9c179e"
            ],
            [
             0.4444444444444444,
             "#bd3786"
            ],
            [
             0.5555555555555556,
             "#d8576b"
            ],
            [
             0.6666666666666666,
             "#ed7953"
            ],
            [
             0.7777777777777778,
             "#fb9f3a"
            ],
            [
             0.8888888888888888,
             "#fdca26"
            ],
            [
             1,
             "#f0f921"
            ]
           ]
          },
          "colorway": [
           "#636efa",
           "#EF553B",
           "#00cc96",
           "#ab63fa",
           "#FFA15A",
           "#19d3f3",
           "#FF6692",
           "#B6E880",
           "#FF97FF",
           "#FECB52"
          ],
          "font": {
           "color": "#2a3f5f"
          },
          "geo": {
           "bgcolor": "white",
           "lakecolor": "white",
           "landcolor": "white",
           "showlakes": true,
           "showland": true,
           "subunitcolor": "#C8D4E3"
          },
          "hoverlabel": {
           "align": "left"
          },
          "hovermode": "closest",
          "mapbox": {
           "style": "light"
          },
          "paper_bgcolor": "white",
          "plot_bgcolor": "white",
          "polar": {
           "angularaxis": {
            "gridcolor": "#EBF0F8",
            "linecolor": "#EBF0F8",
            "ticks": ""
           },
           "bgcolor": "white",
           "radialaxis": {
            "gridcolor": "#EBF0F8",
            "linecolor": "#EBF0F8",
            "ticks": ""
           }
          },
          "scene": {
           "xaxis": {
            "backgroundcolor": "white",
            "gridcolor": "#DFE8F3",
            "gridwidth": 2,
            "linecolor": "#EBF0F8",
            "showbackground": true,
            "ticks": "",
            "zerolinecolor": "#EBF0F8"
           },
           "yaxis": {
            "backgroundcolor": "white",
            "gridcolor": "#DFE8F3",
            "gridwidth": 2,
            "linecolor": "#EBF0F8",
            "showbackground": true,
            "ticks": "",
            "zerolinecolor": "#EBF0F8"
           },
           "zaxis": {
            "backgroundcolor": "white",
            "gridcolor": "#DFE8F3",
            "gridwidth": 2,
            "linecolor": "#EBF0F8",
            "showbackground": true,
            "ticks": "",
            "zerolinecolor": "#EBF0F8"
           }
          },
          "shapedefaults": {
           "line": {
            "color": "#2a3f5f"
           }
          },
          "ternary": {
           "aaxis": {
            "gridcolor": "#DFE8F3",
            "linecolor": "#A2B1C6",
            "ticks": ""
           },
           "baxis": {
            "gridcolor": "#DFE8F3",
            "linecolor": "#A2B1C6",
            "ticks": ""
           },
           "bgcolor": "white",
           "caxis": {
            "gridcolor": "#DFE8F3",
            "linecolor": "#A2B1C6",
            "ticks": ""
           }
          },
          "title": {
           "x": 0.05
          },
          "xaxis": {
           "automargin": true,
           "gridcolor": "#EBF0F8",
           "linecolor": "#EBF0F8",
           "ticks": "",
           "title": {
            "standoff": 15
           },
           "zerolinecolor": "#EBF0F8",
           "zerolinewidth": 2
          },
          "yaxis": {
           "automargin": true,
           "gridcolor": "#EBF0F8",
           "linecolor": "#EBF0F8",
           "ticks": "",
           "title": {
            "standoff": 15
           },
           "zerolinecolor": "#EBF0F8",
           "zerolinewidth": 2
          }
         }
        },
        "title": {
         "font": {
          "size": 25
         },
         "text": "Fairness Check",
         "x": 0.5,
         "y": 0.99
        },
        "xaxis": {
         "anchor": "y",
         "domain": [
          0,
          1
         ],
         "range": [
          -0.21999999999999997,
          0.3
         ],
         "ticktext": [
          0.7,
          0.8,
          0.9,
          1,
          1.1,
          1.2,
          1
         ],
         "tickvals": [
          -0.30000000000000004,
          -0.19999999999999996,
          -0.09999999999999998,
          0,
          0.10000000000000009,
          0.19999999999999996,
          0
         ],
         "title": {
          "text": "score"
         },
         "type": "linear"
        },
        "xaxis2": {
         "anchor": "y2",
         "domain": [
          0,
          1
         ],
         "matches": "x",
         "range": [
          -0.21999999999999997,
          0.3
         ],
         "showticklabels": false,
         "ticktext": [
          0.7,
          0.8,
          0.9,
          1,
          1.1,
          1.2,
          1
         ],
         "tickvals": [
          -0.30000000000000004,
          -0.19999999999999996,
          -0.09999999999999998,
          0,
          0.10000000000000009,
          0.19999999999999996,
          0
         ],
         "type": "linear"
        },
        "xaxis3": {
         "anchor": "y3",
         "domain": [
          0,
          1
         ],
         "matches": "x",
         "range": [
          -0.21999999999999997,
          0.3
         ],
         "showticklabels": false,
         "ticktext": [
          0.7,
          0.8,
          0.9,
          1,
          1.1,
          1.2,
          1
         ],
         "tickvals": [
          -0.30000000000000004,
          -0.19999999999999996,
          -0.09999999999999998,
          0,
          0.10000000000000009,
          0.19999999999999996,
          0
         ],
         "type": "linear"
        },
        "xaxis4": {
         "anchor": "y4",
         "domain": [
          0,
          1
         ],
         "matches": "x",
         "range": [
          -0.21999999999999997,
          0.3
         ],
         "showticklabels": false,
         "ticktext": [
          0.7,
          0.8,
          0.9,
          1,
          1.1,
          1.2,
          1
         ],
         "tickvals": [
          -0.30000000000000004,
          -0.19999999999999996,
          -0.09999999999999998,
          0,
          0.10000000000000009,
          0.19999999999999996,
          0
         ],
         "type": "linear"
        },
        "xaxis5": {
         "anchor": "y5",
         "domain": [
          0,
          1
         ],
         "matches": "x",
         "range": [
          -0.21999999999999997,
          0.3
         ],
         "showticklabels": false,
         "ticktext": [
          0.7,
          0.8,
          0.9,
          1,
          1.1,
          1.2,
          1
         ],
         "tickvals": [
          -0.30000000000000004,
          -0.19999999999999996,
          -0.09999999999999998,
          0,
          0.10000000000000009,
          0.19999999999999996,
          0
         ],
         "type": "linear"
        },
        "yaxis": {
         "anchor": "x",
         "domain": [
          0,
          0.144
         ],
         "range": [
          0,
          1
         ],
         "showgrid": false,
         "ticktext": [
          "female_old",
          "female_young",
          "male_young"
         ],
         "tickvals": [
          0.25,
          0.5,
          0.75
         ],
         "title": {
          "text": ""
         },
         "type": "linear",
         "zeroline": false
        },
        "yaxis2": {
         "anchor": "x2",
         "domain": [
          0.214,
          0.358
         ],
         "matches": "y",
         "range": [
          0,
          1
         ],
         "showgrid": false,
         "ticktext": [
          "female_old",
          "female_young",
          "male_young"
         ],
         "tickvals": [
          0.25,
          0.5,
          0.75
         ],
         "title": {
          "text": ""
         },
         "type": "linear",
         "zeroline": false
        },
        "yaxis3": {
         "anchor": "x3",
         "domain": [
          0.428,
          0.572
         ],
         "matches": "y",
         "range": [
          0,
          1
         ],
         "showgrid": false,
         "ticktext": [
          "female_old",
          "female_young",
          "male_young"
         ],
         "tickvals": [
          0.25,
          0.5,
          0.75
         ],
         "title": {
          "text": "subgroup"
         },
         "type": "linear",
         "zeroline": false
        },
        "yaxis4": {
         "anchor": "x4",
         "domain": [
          0.6419999999999999,
          0.7859999999999999
         ],
         "matches": "y",
         "range": [
          0,
          1
         ],
         "showgrid": false,
         "ticktext": [
          "female_old",
          "female_young",
          "male_young"
         ],
         "tickvals": [
          0.25,
          0.5,
          0.75
         ],
         "title": {
          "text": ""
         },
         "type": "linear",
         "zeroline": false
        },
        "yaxis5": {
         "anchor": "x5",
         "domain": [
          0.856,
          1
         ],
         "matches": "y",
         "range": [
          0,
          1
         ],
         "showgrid": false,
         "ticktext": [
          "female_old",
          "female_young",
          "male_young"
         ],
         "tickvals": [
          0.25,
          0.5,
          0.75
         ],
         "title": {
          "text": ""
         },
         "type": "linear",
         "zeroline": false
        }
       }
      },
      "image/png": "[encoded data removed]",
      "text/html": [
       "<div>                            <div id=\"221bee05-952f-4067-9155-8496a25ae3fd\" class=\"plotly-graph-div\" style=\"height:525px; width:100%;\"></div>            <script type=\"text/javascript\">                require([\"plotly\"], function(Plotly) {                    window.PLOTLYENV=window.PLOTLYENV || {};                                    if (document.getElementById(\"221bee05-952f-4067-9155-8496a25ae3fd\")) {                    Plotly.newPlot(                        \"221bee05-952f-4067-9155-8496a25ae3fd\",                        [{\"alignmentgroup\":\"True\",\"customdata\":[[\"female_old\",1.019,\"DecisionTreeClassifier\"],[\"female_young\",0.981,\"DecisionTreeClassifier\"],[\"male_young\",1.02,\"DecisionTreeClassifier\"]],\"hovertemplate\":\"<b>%{customdata[2]}</b><br>Subgroup: %{customdata[0]}<br>Score: %{customdata[1]}<br><extra></extra>\",\"legendgroup\":\"DecisionTreeClassifier\",\"marker\":{\"color\":\"#46bac2\",\"pattern\":{\"shape\":\"\"}},\"name\":\"DecisionTreeClassifier\",\"offsetgroup\":\"DecisionTreeClassifier\",\"orientation\":\"h\",\"showlegend\":true,\"textposition\":\"auto\",\"type\":\"bar\",\"x\":[0.01882845188284521,-0.01882845188284521,0.01987447698744771],\"xaxis\":\"x5\",\"y\":[0.25,0.5,0.75],\"yaxis\":\"y5\"},{\"alignmentgroup\":\"True\",\"customdata\":[[\"female_old\",0.972,\"DecisionTreeClassifier\"],[\"female_young\",0.891,\"DecisionTreeClassifier\"],[\"male_young\",0.93,\"DecisionTreeClassifier\"]],\"hovertemplate\":\"<b>%{customdata[2]}</b><br>Subgroup: %{customdata[0]}<br>Score: %{customdata[1]}<br><extra></extra>\",\"legendgroup\":\"DecisionTreeClassifier\",\"marker\":{\"color\":\"#46bac2\",\"pattern\":{\"shape\":\"\"}},\"name\":\"DecisionTreeClassifier\",\"offsetgroup\":\"DecisionTreeClassifier\",\"orientation\":\"h\",\"showlegend\":false,\"textposition\":\"auto\",\"type\":\"bar\",\"x\":[-0.028037383177570097,-0.10864485981308403,-0.07009345794392519],\"xaxis\":\"x4\",\"y\":[0.25,0.5,0.75],\"yaxis\":\"y4\"},{\"alignmentgroup\":\"True\",\"customdata\":[[\"female_old\",0.922,\"DecisionTreeClassifier\"],[\"female_young\",0.872,\"DecisionTreeClassifier\"],[\"male_young\",0.897,\"DecisionTreeClassifier\"]],\"hovertemplate\":\"<b>%{customdata[2]}</b><br>Subgroup: %{customdata[0]}<br>Score: %{customdata[1]}<br><extra></extra>\",\"legendgroup\":\"DecisionTreeClassifier\",\"marker\":{\"color\":\"#46bac2\",\"pattern\":{\"shape\":\"\"}},\"name\":\"DecisionTreeClassifier\",\"offsetgroup\":\"DecisionTreeClassifier\",\"orientation\":\"h\",\"showlegend\":false,\"textposition\":\"auto\",\"type\":\"bar\",\"x\":[-0.07847533632287007,-0.12780269058295968,-0.10313901345291476],\"xaxis\":\"x3\",\"y\":[0.25,0.5,0.75],\"yaxis\":\"y3\"},{\"alignmentgroup\":\"True\",\"customdata\":[[\"female_old\",1.0,\"DecisionTreeClassifier\"],[\"female_young\",0.939,\"DecisionTreeClassifier\"],[\"male_young\",0.978,\"DecisionTreeClassifier\"]],\"hovertemplate\":\"<b>%{customdata[2]}</b><br>Subgroup: %{customdata[0]}<br>Score: %{customdata[1]}<br><extra></extra>\",\"legendgroup\":\"DecisionTreeClassifier\",\"marker\":{\"color\":\"#46bac2\",\"pattern\":{\"shape\":\"\"}},\"name\":\"DecisionTreeClassifier\",\"offsetgroup\":\"DecisionTreeClassifier\",\"orientation\":\"h\",\"showlegend\":false,\"textposition\":\"auto\",\"type\":\"bar\",\"x\":[0.0,-0.061176470588235166,-0.022352941176470575],\"xaxis\":\"x2\",\"y\":[0.25,0.5,0.75],\"yaxis\":\"y2\"},{\"alignmentgroup\":\"True\",\"customdata\":[[\"female_old\",0.965,\"DecisionTreeClassifier\"],[\"female_young\",0.855,\"DecisionTreeClassifier\"],[\"male_young\",0.918,\"DecisionTreeClassifier\"]],\"hovertemplate\":\"<b>%{customdata[2]}</b><br>Subgroup: %{customdata[0]}<br>Score: %{customdata[1]}<br><extra></extra>\",\"legendgroup\":\"DecisionTreeClassifier\",\"marker\":{\"color\":\"#46bac2\",\"pattern\":{\"shape\":\"\"}},\"name\":\"DecisionTreeClassifier\",\"offsetgroup\":\"DecisionTreeClassifier\",\"orientation\":\"h\",\"showlegend\":false,\"textposition\":\"auto\",\"type\":\"bar\",\"x\":[-0.0353227771010961,-0.14494518879415352,-0.08160779537149809],\"xaxis\":\"x\",\"y\":[0.25,0.5,0.75],\"yaxis\":\"y\"}],                        {\"annotations\":[{\"font\":{\"size\":15},\"showarrow\":false,\"text\":\"Statistical parity ratio   (TP + FP)/(TP + FP + TN + FN)\",\"x\":0.05,\"xanchor\":\"left\",\"xref\":\"paper\",\"y\":0.144,\"yanchor\":\"bottom\",\"yref\":\"paper\"},{\"font\":{\"size\":15},\"showarrow\":false,\"text\":\"Accuracy equality ratio    (TP + TN)/(TP + FP + TN + FN)\",\"x\":0.05,\"xanchor\":\"left\",\"xref\":\"paper\",\"y\":0.358,\"yanchor\":\"bottom\",\"yref\":\"paper\"},{\"font\":{\"size\":15},\"showarrow\":false,\"text\":\"Predictive equality ratio   FP/(FP + TN)\",\"x\":0.05,\"xanchor\":\"left\",\"xref\":\"paper\",\"y\":0.572,\"yanchor\":\"bottom\",\"yref\":\"paper\"},{\"font\":{\"size\":15},\"showarrow\":false,\"text\":\"Predictive parity ratio     TP/(TP + FP)\",\"x\":0.05,\"xanchor\":\"left\",\"xref\":\"paper\",\"y\":0.7859999999999999,\"yanchor\":\"bottom\",\"yref\":\"paper\"},{\"font\":{\"size\":15},\"showarrow\":false,\"text\":\"Equal opportunity ratio     TP/(TP + FN)\",\"x\":0.05,\"xanchor\":\"left\",\"xref\":\"paper\",\"y\":1.0,\"yanchor\":\"bottom\",\"yref\":\"paper\"}],\"barmode\":\"group\",\"font\":{\"color\":\"#371ea3\"},\"legend\":{\"title\":{\"text\":\"label\"},\"tracegroupgap\":0},\"margin\":{\"b\":71,\"r\":30,\"t\":78},\"shapes\":[{\"fillcolor\":\"#f05a71\",\"layer\":\"below\",\"line\":{\"width\":0},\"opacity\":0.1,\"type\":\"rect\",\"x0\":0.25,\"x1\":0.3,\"xref\":\"x\",\"y0\":0,\"y1\":1,\"yref\":\"y\"},{\"fillcolor\":\"#f05a71\",\"layer\":\"below\",\"line\":{\"width\":0},\"opacity\":0.1,\"type\":\"rect\",\"x0\":-0.21999999999999997,\"x1\":-0.19999999999999996,\"xref\":\"x\",\"y0\":0,\"y1\":1,\"yref\":\"y\"},{\"fillcolor\":\"#c7f5bf\",\"layer\":\"below\",\"line\":{\"width\":0},\"opacity\":0.1,\"type\":\"rect\",\"x0\":-0.19999999999999996,\"x1\":0.25,\"xref\":\"x\",\"y0\":0,\"y1\":1,\"yref\":\"y\"},{\"line\":{\"color\":\"#371ea3\",\"width\":1.5},\"type\":\"line\",\"x0\":0,\"x1\":0,\"xref\":\"x\",\"y0\":0,\"y1\":1,\"yref\":\"y\"},{\"fillcolor\":\"#f05a71\",\"layer\":\"below\",\"line\":{\"width\":0},\"opacity\":0.1,\"type\":\"rect\",\"x0\":0.25,\"x1\":0.3,\"xref\":\"x\",\"y0\":0,\"y1\":1,\"yref\":\"y2\"},{\"fillcolor\":\"#f05a71\",\"layer\":\"below\",\"line\":{\"width\":0},\"opacity\":0.1,\"type\":\"rect\",\"x0\":-0.21999999999999997,\"x1\":-0.19999999999999996,\"xref\":\"x\",\"y0\":0,\"y1\":1,\"yref\":\"y2\"},{\"fillcolor\":\"#c7f5bf\",\"layer\":\"below\",\"line\":{\"width\":0},\"opacity\":0.1,\"type\":\"rect\",\"x0\":-0.19999999999999996,\"x1\":0.25,\"xref\":\"x\",\"y0\":0,\"y1\":1,\"yref\":\"y2\"},{\"line\":{\"color\":\"#371ea3\",\"width\":1.5},\"type\":\"line\",\"x0\":0,\"x1\":0,\"xref\":\"x\",\"y0\":0,\"y1\":1,\"yref\":\"y2\"},{\"fillcolor\":\"#f05a71\",\"layer\":\"below\",\"line\":{\"width\":0},\"opacity\":0.1,\"type\":\"rect\",\"x0\":0.25,\"x1\":0.3,\"xref\":\"x\",\"y0\":0,\"y1\":1,\"yref\":\"y3\"},{\"fillcolor\":\"#f05a71\",\"layer\":\"below\",\"line\":{\"width\":0},\"opacity\":0.1,\"type\":\"rect\",\"x0\":-0.21999999999999997,\"x1\":-0.19999999999999996,\"xref\":\"x\",\"y0\":0,\"y1\":1,\"yref\":\"y3\"},{\"fillcolor\":\"#c7f5bf\",\"layer\":\"below\",\"line\":{\"width\":0},\"opacity\":0.1,\"type\":\"rect\",\"x0\":-0.19999999999999996,\"x1\":0.25,\"xref\":\"x\",\"y0\":0,\"y1\":1,\"yref\":\"y3\"},{\"line\":{\"color\":\"#371ea3\",\"width\":1.5},\"type\":\"line\",\"x0\":0,\"x1\":0,\"xref\":\"x\",\"y0\":0,\"y1\":1,\"yref\":\"y3\"},{\"fillcolor\":\"#f05a71\",\"layer\":\"below\",\"line\":{\"width\":0},\"opacity\":0.1,\"type\":\"rect\",\"x0\":0.25,\"x1\":0.3,\"xref\":\"x\",\"y0\":0,\"y1\":1,\"yref\":\"y4\"},{\"fillcolor\":\"#f05a71\",\"layer\":\"below\",\"line\":{\"width\":0},\"opacity\":0.1,\"type\":\"rect\",\"x0\":-0.21999999999999997,\"x1\":-0.19999999999999996,\"xref\":\"x\",\"y0\":0,\"y1\":1,\"yref\":\"y4\"},{\"fillcolor\":\"#c7f5bf\",\"layer\":\"below\",\"line\":{\"width\":0},\"opacity\":0.1,\"type\":\"rect\",\"x0\":-0.19999999999999996,\"x1\":0.25,\"xref\":\"x\",\"y0\":0,\"y1\":1,\"yref\":\"y4\"},{\"line\":{\"color\":\"#371ea3\",\"width\":1.5},\"type\":\"line\",\"x0\":0,\"x1\":0,\"xref\":\"x\",\"y0\":0,\"y1\":1,\"yref\":\"y4\"},{\"fillcolor\":\"#f05a71\",\"layer\":\"below\",\"line\":{\"width\":0},\"opacity\":0.1,\"type\":\"rect\",\"x0\":0.25,\"x1\":0.3,\"xref\":\"x\",\"y0\":0,\"y1\":1,\"yref\":\"y5\"},{\"fillcolor\":\"#f05a71\",\"layer\":\"below\",\"line\":{\"width\":0},\"opacity\":0.1,\"type\":\"rect\",\"x0\":-0.21999999999999997,\"x1\":-0.19999999999999996,\"xref\":\"x\",\"y0\":0,\"y1\":1,\"yref\":\"y5\"},{\"fillcolor\":\"#c7f5bf\",\"layer\":\"below\",\"line\":{\"width\":0},\"opacity\":0.1,\"type\":\"rect\",\"x0\":-0.19999999999999996,\"x1\":0.25,\"xref\":\"x\",\"y0\":0,\"y1\":1,\"yref\":\"y5\"},{\"line\":{\"color\":\"#371ea3\",\"width\":1.5},\"type\":\"line\",\"x0\":0,\"x1\":0,\"xref\":\"x\",\"y0\":0,\"y1\":1,\"yref\":\"y5\"}],\"template\":{\"data\":{\"bar\":[{\"error_x\":{\"color\":\"#2a3f5f\"},\"error_y\":{\"color\":\"#2a3f5f\"},\"marker\":{\"line\":{\"color\":\"white\",\"width\":0.5},\"pattern\":{\"fillmode\":\"overlay\",\"size\":10,\"solidity\":0.2}},\"type\":\"bar\"}],\"barpolar\":[{\"marker\":{\"line\":{\"color\":\"white\",\"width\":0.5},\"pattern\":{\"fillmode\":\"overlay\",\"size\":10,\"solidity\":0.2}},\"type\":\"barpolar\"}],\"carpet\":[{\"aaxis\":{\"endlinecolor\":\"#2a3f5f\",\"gridcolor\":\"#C8D4E3\",\"linecolor\":\"#C8D4E3\",\"minorgridcolor\":\"#C8D4E3\",\"startlinecolor\":\"#2a3f5f\"},\"baxis\":{\"endlinecolor\":\"#2a3f5f\",\"gridcolor\":\"#C8D4E3\",\"linecolor\":\"#C8D4E3\",\"minorgridcolor\":\"#C8D4E3\",\"startlinecolor\":\"#2a3f5f\"},\"type\":\"carpet\"}],\"choropleth\":[{\"colorbar\":{\"outlinewidth\":0,\"ticks\":\"\"},\"type\":\"choropleth\"}],\"contour\":[{\"colorbar\":{\"outlinewidth\":0,\"ticks\":\"\"},\"colorscale\":[[0.0,\"#0d0887\"],[0.1111111111111111,\"#46039f\"],[0.2222222222222222,\"#7201a8\"],[0.3333333333333333,\"#9c179e\"],[0.4444444444444444,\"#bd3786\"],[0.5555555555555556,\"#d8576b\"],[0.6666666666666666,\"#ed7953\"],[0.7777777777777778,\"#fb9f3a\"],[0.8888888888888888,\"#fdca26\"],[1.0,\"#f0f921\"]],\"type\":\"contour\"}],\"contourcarpet\":[{\"colorbar\":{\"outlinewidth\":0,\"ticks\":\"\"},\"type\":\"contourcarpet\"}],\"heatmap\":[{\"colorbar\":{\"outlinewidth\":0,\"ticks\":\"\"},\"colorscale\":[[0.0,\"#0d0887\"],[0.1111111111111111,\"#46039f\"],[0.2222222222222222,\"#7201a8\"],[0.3333333333333333,\"#9c179e\"],[0.4444444444444444,\"#bd3786\"],[0.5555555555555556,\"#d8576b\"],[0.6666666666666666,\"#ed7953\"],[0.7777777777777778,\"#fb9f3a\"],[0.8888888888888888,\"#fdca26\"],[1.0,\"#f0f921\"]],\"type\":\"heatmap\"}],\"heatmapgl\":[{\"colorbar\":{\"outlinewidth\":0,\"ticks\":\"\"},\"colorscale\":[[0.0,\"#0d0887\"],[0.1111111111111111,\"#46039f\"],[0.2222222222222222,\"#7201a8\"],[0.3333333333333333,\"#9c179e\"],[0.4444444444444444,\"#bd3786\"],[0.5555555555555556,\"#d8576b\"],[0.6666666666666666,\"#ed7953\"],[0.7777777777777778,\"#fb9f3a\"],[0.8888888888888888,\"#fdca26\"],[1.0,\"#f0f921\"]],\"type\":\"heatmapgl\"}],\"histogram\":[{\"marker\":{\"pattern\":{\"fillmode\":\"overlay\",\"size\":10,\"solidity\":0.2}},\"type\":\"histogram\"}],\"histogram2d\":[{\"colorbar\":{\"outlinewidth\":0,\"ticks\":\"\"},\"colorscale\":[[0.0,\"#0d0887\"],[0.1111111111111111,\"#46039f\"],[0.2222222222222222,\"#7201a8\"],[0.3333333333333333,\"#9c179e\"],[0.4444444444444444,\"#bd3786\"],[0.5555555555555556,\"#d8576b\"],[0.6666666666666666,\"#ed7953\"],[0.7777777777777778,\"#fb9f3a\"],[0.8888888888888888,\"#fdca26\"],[1.0,\"#f0f921\"]],\"type\":\"histogram2d\"}],\"histogram2dcontour\":[{\"colorbar\":{\"outlinewidth\":0,\"ticks\":\"\"},\"colorscale\":[[0.0,\"#0d0887\"],[0.1111111111111111,\"#46039f\"],[0.2222222222222222,\"#7201a8\"],[0.3333333333333333,\"#9c179e\"],[0.4444444444444444,\"#bd3786\"],[0.5555555555555556,\"#d8576b\"],[0.6666666666666666,\"#ed7953\"],[0.7777777777777778,\"#fb9f3a\"],[0.8888888888888888,\"#fdca26\"],[1.0,\"#f0f921\"]],\"type\":\"histogram2dcontour\"}],\"mesh3d\":[{\"colorbar\":{\"outlinewidth\":0,\"ticks\":\"\"},\"type\":\"mesh3d\"}],\"parcoords\":[{\"line\":{\"colorbar\":{\"outlinewidth\":0,\"ticks\":\"\"}},\"type\":\"parcoords\"}],\"pie\":[{\"automargin\":true,\"type\":\"pie\"}],\"scatter\":[{\"marker\":{\"colorbar\":{\"outlinewidth\":0,\"ticks\":\"\"}},\"type\":\"scatter\"}],\"scatter3d\":[{\"line\":{\"colorbar\":{\"outlinewidth\":0,\"ticks\":\"\"}},\"marker\":{\"colorbar\":{\"outlinewidth\":0,\"ticks\":\"\"}},\"type\":\"scatter3d\"}],\"scattercarpet\":[{\"marker\":{\"colorbar\":{\"outlinewidth\":0,\"ticks\":\"\"}},\"type\":\"scattercarpet\"}],\"scattergeo\":[{\"marker\":{\"colorbar\":{\"outlinewidth\":0,\"ticks\":\"\"}},\"type\":\"scattergeo\"}],\"scattergl\":[{\"marker\":{\"colorbar\":{\"outlinewidth\":0,\"ticks\":\"\"}},\"type\":\"scattergl\"}],\"scattermapbox\":[{\"marker\":{\"colorbar\":{\"outlinewidth\":0,\"ticks\":\"\"}},\"type\":\"scattermapbox\"}],\"scatterpolar\":[{\"marker\":{\"colorbar\":{\"outlinewidth\":0,\"ticks\":\"\"}},\"type\":\"scatterpolar\"}],\"scatterpolargl\":[{\"marker\":{\"colorbar\":{\"outlinewidth\":0,\"ticks\":\"\"}},\"type\":\"scatterpolargl\"}],\"scatterternary\":[{\"marker\":{\"colorbar\":{\"outlinewidth\":0,\"ticks\":\"\"}},\"type\":\"scatterternary\"}],\"surface\":[{\"colorbar\":{\"outlinewidth\":0,\"ticks\":\"\"},\"colorscale\":[[0.0,\"#0d0887\"],[0.1111111111111111,\"#46039f\"],[0.2222222222222222,\"#7201a8\"],[0.3333333333333333,\"#9c179e\"],[0.4444444444444444,\"#bd3786\"],[0.5555555555555556,\"#d8576b\"],[0.6666666666666666,\"#ed7953\"],[0.7777777777777778,\"#fb9f3a\"],[0.8888888888888888,\"#fdca26\"],[1.0,\"#f0f921\"]],\"type\":\"surface\"}],\"table\":[{\"cells\":{\"fill\":{\"color\":\"#EBF0F8\"},\"line\":{\"color\":\"white\"}},\"header\":{\"fill\":{\"color\":\"#C8D4E3\"},\"line\":{\"color\":\"white\"}},\"type\":\"table\"}]},\"layout\":{\"annotationdefaults\":{\"arrowcolor\":\"#2a3f5f\",\"arrowhead\":0,\"arrowwidth\":1},\"autotypenumbers\":\"strict\",\"coloraxis\":{\"colorbar\":{\"outlinewidth\":0,\"ticks\":\"\"}},\"colorscale\":{\"diverging\":[[0,\"#8e0152\"],[0.1,\"#c51b7d\"],[0.2,\"#de77ae\"],[0.3,\"#f1b6da\"],[0.4,\"#fde0ef\"],[0.5,\"#f7f7f7\"],[0.6,\"#e6f5d0\"],[0.7,\"#b8e186\"],[0.8,\"#7fbc41\"],[0.9,\"#4d9221\"],[1,\"#276419\"]],\"sequential\":[[0.0,\"#0d0887\"],[0.1111111111111111,\"#46039f\"],[0.2222222222222222,\"#7201a8\"],[0.3333333333333333,\"#9c179e\"],[0.4444444444444444,\"#bd3786\"],[0.5555555555555556,\"#d8576b\"],[0.6666666666666666,\"#ed7953\"],[0.7777777777777778,\"#fb9f3a\"],[0.8888888888888888,\"#fdca26\"],[1.0,\"#f0f921\"]],\"sequentialminus\":[[0.0,\"#0d0887\"],[0.1111111111111111,\"#46039f\"],[0.2222222222222222,\"#7201a8\"],[0.3333333333333333,\"#9c179e\"],[0.4444444444444444,\"#bd3786\"],[0.5555555555555556,\"#d8576b\"],[0.6666666666666666,\"#ed7953\"],[0.7777777777777778,\"#fb9f3a\"],[0.8888888888888888,\"#fdca26\"],[1.0,\"#f0f921\"]]},\"colorway\":[\"#636efa\",\"#EF553B\",\"#00cc96\",\"#ab63fa\",\"#FFA15A\",\"#19d3f3\",\"#FF6692\",\"#B6E880\",\"#FF97FF\",\"#FECB52\"],\"font\":{\"color\":\"#2a3f5f\"},\"geo\":{\"bgcolor\":\"white\",\"lakecolor\":\"white\",\"landcolor\":\"white\",\"showlakes\":true,\"showland\":true,\"subunitcolor\":\"#C8D4E3\"},\"hoverlabel\":{\"align\":\"left\"},\"hovermode\":\"closest\",\"mapbox\":{\"style\":\"light\"},\"paper_bgcolor\":\"white\",\"plot_bgcolor\":\"white\",\"polar\":{\"angularaxis\":{\"gridcolor\":\"#EBF0F8\",\"linecolor\":\"#EBF0F8\",\"ticks\":\"\"},\"bgcolor\":\"white\",\"radialaxis\":{\"gridcolor\":\"#EBF0F8\",\"linecolor\":\"#EBF0F8\",\"ticks\":\"\"}},\"scene\":{\"xaxis\":{\"backgroundcolor\":\"white\",\"gridcolor\":\"#DFE8F3\",\"gridwidth\":2,\"linecolor\":\"#EBF0F8\",\"showbackground\":true,\"ticks\":\"\",\"zerolinecolor\":\"#EBF0F8\"},\"yaxis\":{\"backgroundcolor\":\"white\",\"gridcolor\":\"#DFE8F3\",\"gridwidth\":2,\"linecolor\":\"#EBF0F8\",\"showbackground\":true,\"ticks\":\"\",\"zerolinecolor\":\"#EBF0F8\"},\"zaxis\":{\"backgroundcolor\":\"white\",\"gridcolor\":\"#DFE8F3\",\"gridwidth\":2,\"linecolor\":\"#EBF0F8\",\"showbackground\":true,\"ticks\":\"\",\"zerolinecolor\":\"#EBF0F8\"}},\"shapedefaults\":{\"line\":{\"color\":\"#2a3f5f\"}},\"ternary\":{\"aaxis\":{\"gridcolor\":\"#DFE8F3\",\"linecolor\":\"#A2B1C6\",\"ticks\":\"\"},\"baxis\":{\"gridcolor\":\"#DFE8F3\",\"linecolor\":\"#A2B1C6\",\"ticks\":\"\"},\"bgcolor\":\"white\",\"caxis\":{\"gridcolor\":\"#DFE8F3\",\"linecolor\":\"#A2B1C6\",\"ticks\":\"\"}},\"title\":{\"x\":0.05},\"xaxis\":{\"automargin\":true,\"gridcolor\":\"#EBF0F8\",\"linecolor\":\"#EBF0F8\",\"ticks\":\"\",\"title\":{\"standoff\":15},\"zerolinecolor\":\"#EBF0F8\",\"zerolinewidth\":2},\"yaxis\":{\"automargin\":true,\"gridcolor\":\"#EBF0F8\",\"linecolor\":\"#EBF0F8\",\"ticks\":\"\",\"title\":{\"standoff\":15},\"zerolinecolor\":\"#EBF0F8\",\"zerolinewidth\":2}}},\"title\":{\"font\":{\"size\":25},\"text\":\"Fairness Check\",\"x\":0.5,\"y\":0.99},\"xaxis\":{\"anchor\":\"y\",\"domain\":[0.0,1.0],\"range\":[-0.21999999999999997,0.3],\"ticktext\":[0.7,0.8,0.9,1.0,1.1,1.2,1.0],\"tickvals\":[-0.30000000000000004,-0.19999999999999996,-0.09999999999999998,0.0,0.10000000000000009,0.19999999999999996,0.0],\"title\":{\"text\":\"score\"}},\"xaxis2\":{\"anchor\":\"y2\",\"domain\":[0.0,1.0],\"matches\":\"x\",\"range\":[-0.21999999999999997,0.3],\"showticklabels\":false,\"ticktext\":[0.7,0.8,0.9,1.0,1.1,1.2,1.0],\"tickvals\":[-0.30000000000000004,-0.19999999999999996,-0.09999999999999998,0.0,0.10000000000000009,0.19999999999999996,0.0]},\"xaxis3\":{\"anchor\":\"y3\",\"domain\":[0.0,1.0],\"matches\":\"x\",\"range\":[-0.21999999999999997,0.3],\"showticklabels\":false,\"ticktext\":[0.7,0.8,0.9,1.0,1.1,1.2,1.0],\"tickvals\":[-0.30000000000000004,-0.19999999999999996,-0.09999999999999998,0.0,0.10000000000000009,0.19999999999999996,0.0]},\"xaxis4\":{\"anchor\":\"y4\",\"domain\":[0.0,1.0],\"matches\":\"x\",\"range\":[-0.21999999999999997,0.3],\"showticklabels\":false,\"ticktext\":[0.7,0.8,0.9,1.0,1.1,1.2,1.0],\"tickvals\":[-0.30000000000000004,-0.19999999999999996,-0.09999999999999998,0.0,0.10000000000000009,0.19999999999999996,0.0]},\"xaxis5\":{\"anchor\":\"y5\",\"domain\":[0.0,1.0],\"matches\":\"x\",\"range\":[-0.21999999999999997,0.3],\"showticklabels\":false,\"ticktext\":[0.7,0.8,0.9,1.0,1.1,1.2,1.0],\"tickvals\":[-0.30000000000000004,-0.19999999999999996,-0.09999999999999998,0.0,0.10000000000000009,0.19999999999999996,0.0]},\"yaxis\":{\"anchor\":\"x\",\"domain\":[0.0,0.144],\"range\":[0,1],\"showgrid\":false,\"ticktext\":[\"female_old\",\"female_young\",\"male_young\"],\"tickvals\":[0.25,0.5,0.75],\"title\":{\"text\":\"\"},\"zeroline\":false},\"yaxis2\":{\"anchor\":\"x2\",\"domain\":[0.214,0.358],\"matches\":\"y\",\"range\":[0,1],\"showgrid\":false,\"ticktext\":[\"female_old\",\"female_young\",\"male_young\"],\"tickvals\":[0.25,0.5,0.75],\"title\":{\"text\":\"\"},\"zeroline\":false},\"yaxis3\":{\"anchor\":\"x3\",\"domain\":[0.428,0.572],\"matches\":\"y\",\"range\":[0,1],\"showgrid\":false,\"ticktext\":[\"female_old\",\"female_young\",\"male_young\"],\"tickvals\":[0.25,0.5,0.75],\"title\":{\"text\":\"subgroup\"},\"zeroline\":false},\"yaxis4\":{\"anchor\":\"x4\",\"domain\":[0.6419999999999999,0.7859999999999999],\"matches\":\"y\",\"range\":[0,1],\"showgrid\":false,\"ticktext\":[\"female_old\",\"female_young\",\"male_young\"],\"tickvals\":[0.25,0.5,0.75],\"title\":{\"text\":\"\"},\"zeroline\":false},\"yaxis5\":{\"anchor\":\"x5\",\"domain\":[0.856,1.0],\"matches\":\"y\",\"range\":[0,1],\"showgrid\":false,\"ticktext\":[\"female_old\",\"female_young\",\"male_young\"],\"tickvals\":[0.25,0.5,0.75],\"title\":{\"text\":\"\"},\"zeroline\":false}},                        {\"displaylogo\": false, \"staticPlot\": false, \"toImageButtonOptions\": {\"height\": null, \"width\": null}, \"modeBarButtonsToRemove\": [\"sendDataToCloud\", \"lasso2d\", \"autoScale2d\", \"select2d\", \"zoom2d\", \"pan2d\", \"zoomIn2d\", \"zoomOut2d\", \"resetScale2d\", \"toggleSpikelines\", \"hoverCompareCartesian\", \"hoverClosestCartesian\"], \"responsive\": true}                    ).then(function(){\n",
       "                            \n",
       "var gd = document.getElementById('221bee05-952f-4067-9155-8496a25ae3fd');\n",
       "var x = new MutationObserver(function (mutations, observer) {{\n",
       "        var display = window.getComputedStyle(gd).display;\n",
       "        if (!display || display === 'none') {{\n",
       "            console.log([gd, 'removed!']);\n",
       "            Plotly.purge(gd);\n",
       "            observer.disconnect();\n",
       "        }}\n",
       "}});\n",
       "\n",
       "// Listen for the removal of the full notebook cells\n",
       "var notebookContainer = gd.closest('#notebook-container');\n",
       "if (notebookContainer) {{\n",
       "    x.observe(notebookContainer, {childList: true});\n",
       "}}\n",
       "\n",
       "// Listen for the clearing of the current output cell\n",
       "var outputEl = gd.closest('.output');\n",
       "if (outputEl) {{\n",
       "    x.observe(outputEl, {childList: true});\n",
       "}}\n",
       "\n",
       "                        })                };                });            </script>        </div>"
      ]
     },
     "metadata": {},
     "output_type": "display_data"
    }
   ],
   "source": [
    "fairness_object.plot()"
   ]
  },
  {
   "cell_type": "code",
   "execution_count": 189,
   "id": "8619abe2-e14d-4e68-82df-1934c622e896",
   "metadata": {},
   "outputs": [],
   "source": [
    "data.head()\n",
    "data_for_aif = X[['sex']]\n",
    "data_for_aif['sex'] = data_for_aif['sex'].apply(lambda x: int(x == 'male'))\n",
    "data_for_aif['age'] = X['age'].apply(lambda x: int(x >= 25))\n",
    "\n",
    "y_pred = clf.predict(X)\n",
    "\n",
    "data_for_aif_gt = copy(data_for_aif)\n",
    "data_for_aif_pred = copy(data_for_aif)\n",
    "data_for_aif_gt['risk'] = y\n",
    "data_for_aif_pred['risk'] = y_pred"
   ]
  },
  {
   "cell_type": "code",
   "execution_count": 204,
   "id": "e20f7b81-1255-4be0-90cc-1537c109c321",
   "metadata": {},
   "outputs": [],
   "source": [
    "binary_dataset_gt = BinaryLabelDataset(df=data_for_aif_gt, label_names=['risk'], protected_attribute_names=['sex', 'age'])\n",
    "binary_dataset_pred = BinaryLabelDataset(df=data_for_aif_pred, label_names=['risk'], protected_attribute_names=['sex', 'age'])"
   ]
  },
  {
   "cell_type": "code",
   "execution_count": 214,
   "id": "88aef222-e210-484c-a736-6bfa8998815f",
   "metadata": {},
   "outputs": [],
   "source": [
    "aif_classif_metrics = ClassificationMetric(binary_dataset_gt, \n",
    "                                           binary_dataset_pred, \n",
    "                                           privileged_groups=[{'sex': 1.0, 'age': 1.0}],\n",
    "                                           unprivileged_groups=[{'sex': 1.0, 'age': 0.0}, {'sex': 0.0, 'age': 1.0}, {'sex': 0.0, 'age': 0.0}]\n",
    "                                          )"
   ]
  },
  {
   "cell_type": "code",
   "execution_count": 215,
   "id": "28617d79-4c89-46f3-b635-00b35f265e27",
   "metadata": {},
   "outputs": [
    {
     "data": {
      "text/plain": [
       "0.9281045751633987"
      ]
     },
     "execution_count": 215,
     "metadata": {},
     "output_type": "execute_result"
    }
   ],
   "source": [
    "aif_classif_metrics.disparate_impact()"
   ]
  },
  {
   "cell_type": "code",
   "execution_count": null,
   "id": "44f29037-9d74-4795-b42f-8ad138f03124",
   "metadata": {},
   "outputs": [],
   "source": []
  }
 ],
 "metadata": {
  "kernelspec": {
   "display_name": "Python 3",
   "language": "python",
   "name": "python3"
  },
  "language_info": {
   "codemirror_mode": {
    "name": "ipython",
    "version": 3
   },
   "file_extension": ".py",
   "mimetype": "text/x-python",
   "name": "python",
   "nbconvert_exporter": "python",
   "pygments_lexer": "ipython3",
   "version": "3.8.8"
  }
 },
 "nbformat": 4,
 "nbformat_minor": 5
}
